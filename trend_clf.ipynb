{
 "cells": [
  {
   "cell_type": "code",
   "execution_count": 83,
   "metadata": {
    "collapsed": true
   },
   "outputs": [],
   "source": [
    "import pandas as pd\n",
    "import numpy as np\n",
    "\n",
    "import matplotlib.pyplot as plt\n",
    "% matplotlib inline\n",
    "import seaborn as sns\n",
    "\n",
    "\n",
    "from sklearn.neighbors import KNeighborsClassifier\n",
    "from sklearn.decomposition import PCA\n",
    "\n",
    "from sklearn.model_selection import train_test_split\n",
    "from sklearn.model_selection import GridSearchCV\n",
    "from sklearn.model_selection import cross_val_score\n",
    "\n",
    "from sklearn.metrics import make_scorer, accuracy_score"
   ]
  },
  {
   "cell_type": "code",
   "execution_count": 3,
   "metadata": {},
   "outputs": [
    {
     "data": {
      "text/html": [
       "<div>\n",
       "<style>\n",
       "    .dataframe thead tr:only-child th {\n",
       "        text-align: right;\n",
       "    }\n",
       "\n",
       "    .dataframe thead th {\n",
       "        text-align: left;\n",
       "    }\n",
       "\n",
       "    .dataframe tbody tr th {\n",
       "        vertical-align: top;\n",
       "    }\n",
       "</style>\n",
       "<table border=\"1\" class=\"dataframe\">\n",
       "  <thead>\n",
       "    <tr style=\"text-align: right;\">\n",
       "      <th></th>\n",
       "      <th>Date</th>\n",
       "      <th>Open</th>\n",
       "      <th>High</th>\n",
       "      <th>Low</th>\n",
       "      <th>Close</th>\n",
       "      <th>Volume</th>\n",
       "      <th>Name</th>\n",
       "    </tr>\n",
       "  </thead>\n",
       "  <tbody>\n",
       "    <tr>\n",
       "      <th>0</th>\n",
       "      <td>2012-08-13</td>\n",
       "      <td>92.29</td>\n",
       "      <td>92.59</td>\n",
       "      <td>91.74</td>\n",
       "      <td>92.40</td>\n",
       "      <td>2075391.0</td>\n",
       "      <td>MMM</td>\n",
       "    </tr>\n",
       "    <tr>\n",
       "      <th>1</th>\n",
       "      <td>2012-08-14</td>\n",
       "      <td>92.36</td>\n",
       "      <td>92.50</td>\n",
       "      <td>92.01</td>\n",
       "      <td>92.30</td>\n",
       "      <td>1843476.0</td>\n",
       "      <td>MMM</td>\n",
       "    </tr>\n",
       "    <tr>\n",
       "      <th>2</th>\n",
       "      <td>2012-08-15</td>\n",
       "      <td>92.00</td>\n",
       "      <td>92.74</td>\n",
       "      <td>91.94</td>\n",
       "      <td>92.54</td>\n",
       "      <td>1983395.0</td>\n",
       "      <td>MMM</td>\n",
       "    </tr>\n",
       "    <tr>\n",
       "      <th>3</th>\n",
       "      <td>2012-08-16</td>\n",
       "      <td>92.75</td>\n",
       "      <td>93.87</td>\n",
       "      <td>92.21</td>\n",
       "      <td>93.74</td>\n",
       "      <td>3395145.0</td>\n",
       "      <td>MMM</td>\n",
       "    </tr>\n",
       "    <tr>\n",
       "      <th>4</th>\n",
       "      <td>2012-08-17</td>\n",
       "      <td>93.93</td>\n",
       "      <td>94.30</td>\n",
       "      <td>93.59</td>\n",
       "      <td>94.24</td>\n",
       "      <td>3069513.0</td>\n",
       "      <td>MMM</td>\n",
       "    </tr>\n",
       "  </tbody>\n",
       "</table>\n",
       "</div>"
      ],
      "text/plain": [
       "         Date   Open   High    Low  Close     Volume Name\n",
       "0  2012-08-13  92.29  92.59  91.74  92.40  2075391.0  MMM\n",
       "1  2012-08-14  92.36  92.50  92.01  92.30  1843476.0  MMM\n",
       "2  2012-08-15  92.00  92.74  91.94  92.54  1983395.0  MMM\n",
       "3  2012-08-16  92.75  93.87  92.21  93.74  3395145.0  MMM\n",
       "4  2012-08-17  93.93  94.30  93.59  94.24  3069513.0  MMM"
      ]
     },
     "execution_count": 3,
     "metadata": {},
     "output_type": "execute_result"
    }
   ],
   "source": [
    "long = pd.read_csv('all_stocks_5yr.csv')\n",
    "long.head()"
   ]
  },
  {
   "cell_type": "code",
   "execution_count": 10,
   "metadata": {},
   "outputs": [],
   "source": [
    "# using all unique timestamp and closing price as columns for Xs and Y\n",
    "# company names as row names \n",
    "\n",
    "timecol = long['Date'].unique()\n",
    "\n",
    "dt = long[['Date', 'Close', 'Name']]\n",
    "\n",
    "# len(dt[dt['Date'] == '2012-08-13'])"
   ]
  },
  {
   "cell_type": "code",
   "execution_count": 229,
   "metadata": {},
   "outputs": [
    {
     "data": {
      "text/html": [
       "<div>\n",
       "<style>\n",
       "    .dataframe thead tr:only-child th {\n",
       "        text-align: right;\n",
       "    }\n",
       "\n",
       "    .dataframe thead th {\n",
       "        text-align: left;\n",
       "    }\n",
       "\n",
       "    .dataframe tbody tr th {\n",
       "        vertical-align: top;\n",
       "    }\n",
       "</style>\n",
       "<table border=\"1\" class=\"dataframe\">\n",
       "  <thead>\n",
       "    <tr style=\"text-align: right;\">\n",
       "      <th>Date</th>\n",
       "      <th>Name</th>\n",
       "      <th>2012-08-13</th>\n",
       "      <th>2012-08-14</th>\n",
       "      <th>2012-08-15</th>\n",
       "      <th>2012-08-16</th>\n",
       "      <th>2012-08-17</th>\n",
       "      <th>2012-08-20</th>\n",
       "      <th>2012-08-21</th>\n",
       "      <th>2012-08-22</th>\n",
       "      <th>2012-08-23</th>\n",
       "      <th>...</th>\n",
       "      <th>2017-07-31</th>\n",
       "      <th>2017-08-01</th>\n",
       "      <th>2017-08-02</th>\n",
       "      <th>2017-08-03</th>\n",
       "      <th>2017-08-04</th>\n",
       "      <th>2017-08-07</th>\n",
       "      <th>2017-08-08</th>\n",
       "      <th>2017-08-09</th>\n",
       "      <th>2017-08-10</th>\n",
       "      <th>2017-08-11</th>\n",
       "    </tr>\n",
       "  </thead>\n",
       "  <tbody>\n",
       "    <tr>\n",
       "      <th>0</th>\n",
       "      <td>A</td>\n",
       "      <td>40.38</td>\n",
       "      <td>40.49</td>\n",
       "      <td>40.48</td>\n",
       "      <td>37.15</td>\n",
       "      <td>37.22</td>\n",
       "      <td>36.68</td>\n",
       "      <td>37.13</td>\n",
       "      <td>37.46</td>\n",
       "      <td>37.47</td>\n",
       "      <td>...</td>\n",
       "      <td>59.79</td>\n",
       "      <td>59.94</td>\n",
       "      <td>60.20</td>\n",
       "      <td>60.37</td>\n",
       "      <td>60.13</td>\n",
       "      <td>60.87</td>\n",
       "      <td>60.14</td>\n",
       "      <td>59.68</td>\n",
       "      <td>58.57</td>\n",
       "      <td>59.33</td>\n",
       "    </tr>\n",
       "    <tr>\n",
       "      <th>1</th>\n",
       "      <td>AAL</td>\n",
       "      <td>NaN</td>\n",
       "      <td>NaN</td>\n",
       "      <td>NaN</td>\n",
       "      <td>NaN</td>\n",
       "      <td>NaN</td>\n",
       "      <td>NaN</td>\n",
       "      <td>NaN</td>\n",
       "      <td>NaN</td>\n",
       "      <td>NaN</td>\n",
       "      <td>...</td>\n",
       "      <td>50.44</td>\n",
       "      <td>51.06</td>\n",
       "      <td>50.45</td>\n",
       "      <td>50.55</td>\n",
       "      <td>50.80</td>\n",
       "      <td>50.58</td>\n",
       "      <td>50.00</td>\n",
       "      <td>49.40</td>\n",
       "      <td>48.55</td>\n",
       "      <td>48.35</td>\n",
       "    </tr>\n",
       "    <tr>\n",
       "      <th>2</th>\n",
       "      <td>AAP</td>\n",
       "      <td>69.11</td>\n",
       "      <td>70.67</td>\n",
       "      <td>71.30</td>\n",
       "      <td>72.46</td>\n",
       "      <td>72.87</td>\n",
       "      <td>71.58</td>\n",
       "      <td>72.00</td>\n",
       "      <td>72.20</td>\n",
       "      <td>71.96</td>\n",
       "      <td>...</td>\n",
       "      <td>112.01</td>\n",
       "      <td>114.05</td>\n",
       "      <td>114.48</td>\n",
       "      <td>110.53</td>\n",
       "      <td>111.01</td>\n",
       "      <td>109.49</td>\n",
       "      <td>109.39</td>\n",
       "      <td>109.18</td>\n",
       "      <td>106.13</td>\n",
       "      <td>107.34</td>\n",
       "    </tr>\n",
       "    <tr>\n",
       "      <th>3</th>\n",
       "      <td>AAPL</td>\n",
       "      <td>90.00</td>\n",
       "      <td>90.24</td>\n",
       "      <td>90.12</td>\n",
       "      <td>90.91</td>\n",
       "      <td>92.59</td>\n",
       "      <td>95.02</td>\n",
       "      <td>93.72</td>\n",
       "      <td>95.55</td>\n",
       "      <td>94.66</td>\n",
       "      <td>...</td>\n",
       "      <td>148.73</td>\n",
       "      <td>150.05</td>\n",
       "      <td>157.14</td>\n",
       "      <td>155.57</td>\n",
       "      <td>156.39</td>\n",
       "      <td>158.81</td>\n",
       "      <td>160.08</td>\n",
       "      <td>161.06</td>\n",
       "      <td>155.32</td>\n",
       "      <td>157.48</td>\n",
       "    </tr>\n",
       "    <tr>\n",
       "      <th>4</th>\n",
       "      <td>ABBV</td>\n",
       "      <td>NaN</td>\n",
       "      <td>NaN</td>\n",
       "      <td>NaN</td>\n",
       "      <td>NaN</td>\n",
       "      <td>NaN</td>\n",
       "      <td>NaN</td>\n",
       "      <td>NaN</td>\n",
       "      <td>NaN</td>\n",
       "      <td>NaN</td>\n",
       "      <td>...</td>\n",
       "      <td>69.91</td>\n",
       "      <td>70.38</td>\n",
       "      <td>70.71</td>\n",
       "      <td>70.99</td>\n",
       "      <td>70.99</td>\n",
       "      <td>71.22</td>\n",
       "      <td>71.47</td>\n",
       "      <td>72.02</td>\n",
       "      <td>70.44</td>\n",
       "      <td>70.63</td>\n",
       "    </tr>\n",
       "  </tbody>\n",
       "</table>\n",
       "<p>5 rows × 1259 columns</p>\n",
       "</div>"
      ],
      "text/plain": [
       "Date  Name  2012-08-13  2012-08-14  2012-08-15  2012-08-16  2012-08-17  \\\n",
       "0        A       40.38       40.49       40.48       37.15       37.22   \n",
       "1      AAL         NaN         NaN         NaN         NaN         NaN   \n",
       "2      AAP       69.11       70.67       71.30       72.46       72.87   \n",
       "3     AAPL       90.00       90.24       90.12       90.91       92.59   \n",
       "4     ABBV         NaN         NaN         NaN         NaN         NaN   \n",
       "\n",
       "Date  2012-08-20  2012-08-21  2012-08-22  2012-08-23     ...      2017-07-31  \\\n",
       "0          36.68       37.13       37.46       37.47     ...           59.79   \n",
       "1            NaN         NaN         NaN         NaN     ...           50.44   \n",
       "2          71.58       72.00       72.20       71.96     ...          112.01   \n",
       "3          95.02       93.72       95.55       94.66     ...          148.73   \n",
       "4            NaN         NaN         NaN         NaN     ...           69.91   \n",
       "\n",
       "Date  2017-08-01  2017-08-02  2017-08-03  2017-08-04  2017-08-07  2017-08-08  \\\n",
       "0          59.94       60.20       60.37       60.13       60.87       60.14   \n",
       "1          51.06       50.45       50.55       50.80       50.58       50.00   \n",
       "2         114.05      114.48      110.53      111.01      109.49      109.39   \n",
       "3         150.05      157.14      155.57      156.39      158.81      160.08   \n",
       "4          70.38       70.71       70.99       70.99       71.22       71.47   \n",
       "\n",
       "Date  2017-08-09  2017-08-10  2017-08-11  \n",
       "0          59.68       58.57       59.33  \n",
       "1          49.40       48.55       48.35  \n",
       "2         109.18      106.13      107.34  \n",
       "3         161.06      155.32      157.48  \n",
       "4          72.02       70.44       70.63  \n",
       "\n",
       "[5 rows x 1259 columns]"
      ]
     },
     "execution_count": 229,
     "metadata": {},
     "output_type": "execute_result"
    }
   ],
   "source": [
    "# data restructure \n",
    "\n",
    "refold = pd.pivot_table(dt, index = 'Name', columns = 'Date', values = 'Close').reset_index()\n",
    "refold.head()"
   ]
  },
  {
   "cell_type": "code",
   "execution_count": 12,
   "metadata": {},
   "outputs": [
    {
     "data": {
      "text/html": [
       "<div>\n",
       "<style>\n",
       "    .dataframe thead tr:only-child th {\n",
       "        text-align: right;\n",
       "    }\n",
       "\n",
       "    .dataframe thead th {\n",
       "        text-align: left;\n",
       "    }\n",
       "\n",
       "    .dataframe tbody tr th {\n",
       "        vertical-align: top;\n",
       "    }\n",
       "</style>\n",
       "<table border=\"1\" class=\"dataframe\">\n",
       "  <thead>\n",
       "    <tr style=\"text-align: right;\">\n",
       "      <th>Date</th>\n",
       "      <th>Name</th>\n",
       "      <th>2012-08-13</th>\n",
       "      <th>2012-08-14</th>\n",
       "      <th>2012-08-15</th>\n",
       "      <th>2012-08-16</th>\n",
       "      <th>2012-08-17</th>\n",
       "      <th>2012-08-20</th>\n",
       "      <th>2012-08-21</th>\n",
       "      <th>2012-08-22</th>\n",
       "      <th>2012-08-23</th>\n",
       "      <th>...</th>\n",
       "      <th>2017-07-31</th>\n",
       "      <th>2017-08-01</th>\n",
       "      <th>2017-08-02</th>\n",
       "      <th>2017-08-03</th>\n",
       "      <th>2017-08-04</th>\n",
       "      <th>2017-08-07</th>\n",
       "      <th>2017-08-08</th>\n",
       "      <th>2017-08-09</th>\n",
       "      <th>2017-08-10</th>\n",
       "      <th>2017-08-11</th>\n",
       "    </tr>\n",
       "  </thead>\n",
       "  <tbody>\n",
       "    <tr>\n",
       "      <th>0</th>\n",
       "      <td>A</td>\n",
       "      <td>40.38</td>\n",
       "      <td>40.49</td>\n",
       "      <td>40.48</td>\n",
       "      <td>37.15</td>\n",
       "      <td>37.22</td>\n",
       "      <td>36.68</td>\n",
       "      <td>37.13</td>\n",
       "      <td>37.46</td>\n",
       "      <td>37.47</td>\n",
       "      <td>...</td>\n",
       "      <td>59.79</td>\n",
       "      <td>59.94</td>\n",
       "      <td>60.2</td>\n",
       "      <td>60.37</td>\n",
       "      <td>60.13</td>\n",
       "      <td>60.87</td>\n",
       "      <td>60.14</td>\n",
       "      <td>59.68</td>\n",
       "      <td>58.57</td>\n",
       "      <td>59.33</td>\n",
       "    </tr>\n",
       "    <tr>\n",
       "      <th>1</th>\n",
       "      <td>AAL</td>\n",
       "      <td>41.5096</td>\n",
       "      <td>41.5096</td>\n",
       "      <td>41.5096</td>\n",
       "      <td>41.5096</td>\n",
       "      <td>41.5096</td>\n",
       "      <td>41.5096</td>\n",
       "      <td>41.5096</td>\n",
       "      <td>41.5096</td>\n",
       "      <td>41.5096</td>\n",
       "      <td>...</td>\n",
       "      <td>50.44</td>\n",
       "      <td>51.06</td>\n",
       "      <td>50.45</td>\n",
       "      <td>50.55</td>\n",
       "      <td>50.8</td>\n",
       "      <td>50.58</td>\n",
       "      <td>50</td>\n",
       "      <td>49.4</td>\n",
       "      <td>48.55</td>\n",
       "      <td>48.35</td>\n",
       "    </tr>\n",
       "    <tr>\n",
       "      <th>2</th>\n",
       "      <td>AAP</td>\n",
       "      <td>69.11</td>\n",
       "      <td>70.67</td>\n",
       "      <td>71.3</td>\n",
       "      <td>72.46</td>\n",
       "      <td>72.87</td>\n",
       "      <td>71.58</td>\n",
       "      <td>72</td>\n",
       "      <td>72.2</td>\n",
       "      <td>71.96</td>\n",
       "      <td>...</td>\n",
       "      <td>112.01</td>\n",
       "      <td>114.05</td>\n",
       "      <td>114.48</td>\n",
       "      <td>110.53</td>\n",
       "      <td>111.01</td>\n",
       "      <td>109.49</td>\n",
       "      <td>109.39</td>\n",
       "      <td>109.18</td>\n",
       "      <td>106.13</td>\n",
       "      <td>107.34</td>\n",
       "    </tr>\n",
       "    <tr>\n",
       "      <th>3</th>\n",
       "      <td>AAPL</td>\n",
       "      <td>90</td>\n",
       "      <td>90.24</td>\n",
       "      <td>90.12</td>\n",
       "      <td>90.91</td>\n",
       "      <td>92.59</td>\n",
       "      <td>95.02</td>\n",
       "      <td>93.72</td>\n",
       "      <td>95.55</td>\n",
       "      <td>94.66</td>\n",
       "      <td>...</td>\n",
       "      <td>148.73</td>\n",
       "      <td>150.05</td>\n",
       "      <td>157.14</td>\n",
       "      <td>155.57</td>\n",
       "      <td>156.39</td>\n",
       "      <td>158.81</td>\n",
       "      <td>160.08</td>\n",
       "      <td>161.06</td>\n",
       "      <td>155.32</td>\n",
       "      <td>157.48</td>\n",
       "    </tr>\n",
       "    <tr>\n",
       "      <th>4</th>\n",
       "      <td>ABBV</td>\n",
       "      <td>56.6296</td>\n",
       "      <td>56.6296</td>\n",
       "      <td>56.6296</td>\n",
       "      <td>56.6296</td>\n",
       "      <td>56.6296</td>\n",
       "      <td>56.6296</td>\n",
       "      <td>56.6296</td>\n",
       "      <td>56.6296</td>\n",
       "      <td>56.6296</td>\n",
       "      <td>...</td>\n",
       "      <td>69.91</td>\n",
       "      <td>70.38</td>\n",
       "      <td>70.71</td>\n",
       "      <td>70.99</td>\n",
       "      <td>70.99</td>\n",
       "      <td>71.22</td>\n",
       "      <td>71.47</td>\n",
       "      <td>72.02</td>\n",
       "      <td>70.44</td>\n",
       "      <td>70.63</td>\n",
       "    </tr>\n",
       "  </tbody>\n",
       "</table>\n",
       "<p>5 rows × 1259 columns</p>\n",
       "</div>"
      ],
      "text/plain": [
       "Date  Name 2012-08-13 2012-08-14 2012-08-15 2012-08-16 2012-08-17 2012-08-20  \\\n",
       "0        A      40.38      40.49      40.48      37.15      37.22      36.68   \n",
       "1      AAL    41.5096    41.5096    41.5096    41.5096    41.5096    41.5096   \n",
       "2      AAP      69.11      70.67       71.3      72.46      72.87      71.58   \n",
       "3     AAPL         90      90.24      90.12      90.91      92.59      95.02   \n",
       "4     ABBV    56.6296    56.6296    56.6296    56.6296    56.6296    56.6296   \n",
       "\n",
       "Date 2012-08-21 2012-08-22 2012-08-23    ...     2017-07-31 2017-08-01  \\\n",
       "0         37.13      37.46      37.47    ...          59.79      59.94   \n",
       "1       41.5096    41.5096    41.5096    ...          50.44      51.06   \n",
       "2            72       72.2      71.96    ...         112.01     114.05   \n",
       "3         93.72      95.55      94.66    ...         148.73     150.05   \n",
       "4       56.6296    56.6296    56.6296    ...          69.91      70.38   \n",
       "\n",
       "Date 2017-08-02 2017-08-03 2017-08-04 2017-08-07 2017-08-08 2017-08-09  \\\n",
       "0          60.2      60.37      60.13      60.87      60.14      59.68   \n",
       "1         50.45      50.55       50.8      50.58         50       49.4   \n",
       "2        114.48     110.53     111.01     109.49     109.39     109.18   \n",
       "3        157.14     155.57     156.39     158.81     160.08     161.06   \n",
       "4         70.71      70.99      70.99      71.22      71.47      72.02   \n",
       "\n",
       "Date 2017-08-10 2017-08-11  \n",
       "0         58.57      59.33  \n",
       "1         48.55      48.35  \n",
       "2        106.13     107.34  \n",
       "3        155.32     157.48  \n",
       "4         70.44      70.63  \n",
       "\n",
       "[5 rows x 1259 columns]"
      ]
     },
     "execution_count": 12,
     "metadata": {},
     "output_type": "execute_result"
    }
   ],
   "source": [
    "# replace NaN with row average\n",
    "\n",
    "ref = refold.T.fillna(refold.mean(axis = 1)).T\n",
    "ref.head()"
   ]
  },
  {
   "cell_type": "code",
   "execution_count": 237,
   "metadata": {},
   "outputs": [],
   "source": [
    "# on 2017-08-11, the last recorded date for closing stock price, every company has an entry\n",
    "# try to predict the trend of closing stock price on 2017-08-11, comparing with the price on 2017-08-10 \n",
    "\n",
    "sum(ref[ref.columns[-1]].isnull())\n",
    "\n",
    "# date and price before 8-11 as features and the lables as y\n",
    "\n",
    "x = ref[ref.columns[1: -1]]\n"
   ]
  },
  {
   "cell_type": "code",
   "execution_count": 53,
   "metadata": {},
   "outputs": [
    {
     "data": {
      "text/html": [
       "<div>\n",
       "<style>\n",
       "    .dataframe thead tr:only-child th {\n",
       "        text-align: right;\n",
       "    }\n",
       "\n",
       "    .dataframe thead th {\n",
       "        text-align: left;\n",
       "    }\n",
       "\n",
       "    .dataframe tbody tr th {\n",
       "        vertical-align: top;\n",
       "    }\n",
       "</style>\n",
       "<table border=\"1\" class=\"dataframe\">\n",
       "  <thead>\n",
       "    <tr style=\"text-align: right;\">\n",
       "      <th>Date</th>\n",
       "      <th>Name</th>\n",
       "      <th>2012-08-13</th>\n",
       "      <th>2012-08-14</th>\n",
       "      <th>2012-08-15</th>\n",
       "      <th>2012-08-16</th>\n",
       "      <th>2012-08-17</th>\n",
       "      <th>2012-08-20</th>\n",
       "      <th>2012-08-21</th>\n",
       "      <th>2012-08-22</th>\n",
       "      <th>2012-08-23</th>\n",
       "      <th>...</th>\n",
       "      <th>2017-08-01</th>\n",
       "      <th>2017-08-02</th>\n",
       "      <th>2017-08-03</th>\n",
       "      <th>2017-08-04</th>\n",
       "      <th>2017-08-07</th>\n",
       "      <th>2017-08-08</th>\n",
       "      <th>2017-08-09</th>\n",
       "      <th>2017-08-10</th>\n",
       "      <th>2017-08-11</th>\n",
       "      <th>Label</th>\n",
       "    </tr>\n",
       "  </thead>\n",
       "  <tbody>\n",
       "    <tr>\n",
       "      <th>0</th>\n",
       "      <td>A</td>\n",
       "      <td>40.38</td>\n",
       "      <td>40.49</td>\n",
       "      <td>40.48</td>\n",
       "      <td>37.15</td>\n",
       "      <td>37.22</td>\n",
       "      <td>36.68</td>\n",
       "      <td>37.13</td>\n",
       "      <td>37.46</td>\n",
       "      <td>37.47</td>\n",
       "      <td>...</td>\n",
       "      <td>59.94</td>\n",
       "      <td>60.2</td>\n",
       "      <td>60.37</td>\n",
       "      <td>60.13</td>\n",
       "      <td>60.87</td>\n",
       "      <td>60.14</td>\n",
       "      <td>59.68</td>\n",
       "      <td>58.57</td>\n",
       "      <td>59.33</td>\n",
       "      <td>NaN</td>\n",
       "    </tr>\n",
       "    <tr>\n",
       "      <th>1</th>\n",
       "      <td>AAL</td>\n",
       "      <td>41.5096</td>\n",
       "      <td>41.5096</td>\n",
       "      <td>41.5096</td>\n",
       "      <td>41.5096</td>\n",
       "      <td>41.5096</td>\n",
       "      <td>41.5096</td>\n",
       "      <td>41.5096</td>\n",
       "      <td>41.5096</td>\n",
       "      <td>41.5096</td>\n",
       "      <td>...</td>\n",
       "      <td>51.06</td>\n",
       "      <td>50.45</td>\n",
       "      <td>50.55</td>\n",
       "      <td>50.8</td>\n",
       "      <td>50.58</td>\n",
       "      <td>50</td>\n",
       "      <td>49.4</td>\n",
       "      <td>48.55</td>\n",
       "      <td>48.35</td>\n",
       "      <td>NaN</td>\n",
       "    </tr>\n",
       "    <tr>\n",
       "      <th>2</th>\n",
       "      <td>AAP</td>\n",
       "      <td>69.11</td>\n",
       "      <td>70.67</td>\n",
       "      <td>71.3</td>\n",
       "      <td>72.46</td>\n",
       "      <td>72.87</td>\n",
       "      <td>71.58</td>\n",
       "      <td>72</td>\n",
       "      <td>72.2</td>\n",
       "      <td>71.96</td>\n",
       "      <td>...</td>\n",
       "      <td>114.05</td>\n",
       "      <td>114.48</td>\n",
       "      <td>110.53</td>\n",
       "      <td>111.01</td>\n",
       "      <td>109.49</td>\n",
       "      <td>109.39</td>\n",
       "      <td>109.18</td>\n",
       "      <td>106.13</td>\n",
       "      <td>107.34</td>\n",
       "      <td>NaN</td>\n",
       "    </tr>\n",
       "    <tr>\n",
       "      <th>3</th>\n",
       "      <td>AAPL</td>\n",
       "      <td>90</td>\n",
       "      <td>90.24</td>\n",
       "      <td>90.12</td>\n",
       "      <td>90.91</td>\n",
       "      <td>92.59</td>\n",
       "      <td>95.02</td>\n",
       "      <td>93.72</td>\n",
       "      <td>95.55</td>\n",
       "      <td>94.66</td>\n",
       "      <td>...</td>\n",
       "      <td>150.05</td>\n",
       "      <td>157.14</td>\n",
       "      <td>155.57</td>\n",
       "      <td>156.39</td>\n",
       "      <td>158.81</td>\n",
       "      <td>160.08</td>\n",
       "      <td>161.06</td>\n",
       "      <td>155.32</td>\n",
       "      <td>157.48</td>\n",
       "      <td>NaN</td>\n",
       "    </tr>\n",
       "    <tr>\n",
       "      <th>4</th>\n",
       "      <td>ABBV</td>\n",
       "      <td>56.6296</td>\n",
       "      <td>56.6296</td>\n",
       "      <td>56.6296</td>\n",
       "      <td>56.6296</td>\n",
       "      <td>56.6296</td>\n",
       "      <td>56.6296</td>\n",
       "      <td>56.6296</td>\n",
       "      <td>56.6296</td>\n",
       "      <td>56.6296</td>\n",
       "      <td>...</td>\n",
       "      <td>70.38</td>\n",
       "      <td>70.71</td>\n",
       "      <td>70.99</td>\n",
       "      <td>70.99</td>\n",
       "      <td>71.22</td>\n",
       "      <td>71.47</td>\n",
       "      <td>72.02</td>\n",
       "      <td>70.44</td>\n",
       "      <td>70.63</td>\n",
       "      <td>NaN</td>\n",
       "    </tr>\n",
       "  </tbody>\n",
       "</table>\n",
       "<p>5 rows × 1260 columns</p>\n",
       "</div>"
      ],
      "text/plain": [
       "Date  Name 2012-08-13 2012-08-14 2012-08-15 2012-08-16 2012-08-17 2012-08-20  \\\n",
       "0        A      40.38      40.49      40.48      37.15      37.22      36.68   \n",
       "1      AAL    41.5096    41.5096    41.5096    41.5096    41.5096    41.5096   \n",
       "2      AAP      69.11      70.67       71.3      72.46      72.87      71.58   \n",
       "3     AAPL         90      90.24      90.12      90.91      92.59      95.02   \n",
       "4     ABBV    56.6296    56.6296    56.6296    56.6296    56.6296    56.6296   \n",
       "\n",
       "Date 2012-08-21 2012-08-22 2012-08-23  ...  2017-08-01 2017-08-02 2017-08-03  \\\n",
       "0         37.13      37.46      37.47  ...       59.94       60.2      60.37   \n",
       "1       41.5096    41.5096    41.5096  ...       51.06      50.45      50.55   \n",
       "2            72       72.2      71.96  ...      114.05     114.48     110.53   \n",
       "3         93.72      95.55      94.66  ...      150.05     157.14     155.57   \n",
       "4       56.6296    56.6296    56.6296  ...       70.38      70.71      70.99   \n",
       "\n",
       "Date 2017-08-04 2017-08-07 2017-08-08 2017-08-09 2017-08-10 2017-08-11 Label  \n",
       "0         60.13      60.87      60.14      59.68      58.57      59.33   NaN  \n",
       "1          50.8      50.58         50       49.4      48.55      48.35   NaN  \n",
       "2        111.01     109.49     109.39     109.18     106.13     107.34   NaN  \n",
       "3        156.39     158.81     160.08     161.06     155.32     157.48   NaN  \n",
       "4         70.99      71.22      71.47      72.02      70.44      70.63   NaN  \n",
       "\n",
       "[5 rows x 1260 columns]"
      ]
     },
     "execution_count": 53,
     "metadata": {},
     "output_type": "execute_result"
    }
   ],
   "source": [
    "# label stock trend first \n",
    "\n",
    "ref['Label'] = np.nan\n",
    "ref.head()"
   ]
  },
  {
   "cell_type": "code",
   "execution_count": 241,
   "metadata": {},
   "outputs": [],
   "source": [
    "# 8-11\n",
    "aug11 = ref.iloc[:, -2]\n",
    "\n",
    "# 8-10\n",
    "aug10 = ref.iloc[:, -3]\n",
    "\n",
    "# labels can be changed according to the desired increase in stock price used in stock selection \n",
    "\n",
    "# now label 1 as long as stock price increases from aug 10th to aug 11th \n",
    "# and 0 for decreasing stock price\n",
    "\n",
    "desired_percentage = 0 \n",
    "\n",
    "for i in range(len(aug10)):\n",
    "    if (aug11[i] - aug10[i])/ aug10[i] > desired_percentage:\n",
    "        ref['Label'].replace([i], 1)\n",
    "    else:\n",
    "        ref['Label'].replace([i], 0)\n",
    "    "
   ]
  },
  {
   "cell_type": "code",
   "execution_count": 242,
   "metadata": {},
   "outputs": [
    {
     "name": "stdout",
     "output_type": "stream",
     "text": [
      "256\n",
      "247\n"
     ]
    }
   ],
   "source": [
    "# check if the classes are balanced \n",
    "\n",
    "y = ref.iloc[:, -1]\n",
    "\n",
    "print(len(y[y == 1]))\n",
    "print(len(y[y == 0]))\n",
    "\n",
    "# seems ok, PCA first, then KNN"
   ]
  },
  {
   "cell_type": "markdown",
   "metadata": {},
   "source": [
    "# PCA"
   ]
  },
  {
   "cell_type": "code",
   "execution_count": 243,
   "metadata": {},
   "outputs": [],
   "source": [
    "x_train, x_test, y_train, y_test = train_test_split(x, y, test_size = 0.2, random_state= 0)\n",
    "\n",
    "x_mean = np.mean(x, axis = 0)\n",
    "x_train_norm = x_train - x_mean\n",
    "x_test_norm = x_test - x_mean\n"
   ]
  },
  {
   "cell_type": "code",
   "execution_count": 244,
   "metadata": {
    "collapsed": true
   },
   "outputs": [],
   "source": [
    "# PCA summary function - where the input variable pca is a PCA object\n",
    "\n",
    "def pca_summary(pca, standardised_data, out = True):\n",
    "    names = [\"PC\" + str(i) for i in range(1, len(pca.explained_variance_ratio_) +  1)]\n",
    "    a = list(np.std(pca.transform(standardised_data), axis = 0))\n",
    "    b = list(pca.explained_variance_ratio_)\n",
    "    c = [np.sum(pca.explained_variance_ratio_[:i]) for i in range(1, len(pca.explained_variance_ratio_) + 1)]\n",
    "    columns = pd.MultiIndex.from_tuples([(\"sdev\", \"Standard deviation\"), (\"varprop\", \"Proportion of Variance\"), (\"cumprop\", \"Cumulative Proportion\")])\n",
    "    summary = pd.DataFrame(list(zip(a, b, c)), index = names, columns = columns)\n",
    "    if out:\n",
    "        print(\"Importance of components:\")\n",
    "#         display(summary)\n",
    "    return summary"
   ]
  },
  {
   "cell_type": "code",
   "execution_count": 245,
   "metadata": {},
   "outputs": [
    {
     "name": "stdout",
     "output_type": "stream",
     "text": [
      "Importance of components:\n"
     ]
    },
    {
     "data": {
      "text/html": [
       "<div>\n",
       "<style>\n",
       "    .dataframe thead tr:only-child th {\n",
       "        text-align: right;\n",
       "    }\n",
       "\n",
       "    .dataframe thead th {\n",
       "        text-align: left;\n",
       "    }\n",
       "\n",
       "    .dataframe tbody tr th {\n",
       "        vertical-align: top;\n",
       "    }\n",
       "</style>\n",
       "<table border=\"1\" class=\"dataframe\">\n",
       "  <thead>\n",
       "    <tr>\n",
       "      <th></th>\n",
       "      <th>sdev</th>\n",
       "      <th>varprop</th>\n",
       "      <th>cumprop</th>\n",
       "    </tr>\n",
       "    <tr>\n",
       "      <th></th>\n",
       "      <th>Standard deviation</th>\n",
       "      <th>Proportion of Variance</th>\n",
       "      <th>Cumulative Proportion</th>\n",
       "    </tr>\n",
       "  </thead>\n",
       "  <tbody>\n",
       "    <tr>\n",
       "      <th>PC1</th>\n",
       "      <td>2.993838e+03</td>\n",
       "      <td>9.506039e-01</td>\n",
       "      <td>0.950604</td>\n",
       "    </tr>\n",
       "    <tr>\n",
       "      <th>PC2</th>\n",
       "      <td>4.872417e+02</td>\n",
       "      <td>2.517862e-02</td>\n",
       "      <td>0.975783</td>\n",
       "    </tr>\n",
       "    <tr>\n",
       "      <th>PC3</th>\n",
       "      <td>3.223031e+02</td>\n",
       "      <td>1.101722e-02</td>\n",
       "      <td>0.986800</td>\n",
       "    </tr>\n",
       "    <tr>\n",
       "      <th>PC4</th>\n",
       "      <td>2.188450e+02</td>\n",
       "      <td>5.079443e-03</td>\n",
       "      <td>0.991879</td>\n",
       "    </tr>\n",
       "    <tr>\n",
       "      <th>PC5</th>\n",
       "      <td>1.306326e+02</td>\n",
       "      <td>1.809864e-03</td>\n",
       "      <td>0.993689</td>\n",
       "    </tr>\n",
       "    <tr>\n",
       "      <th>PC6</th>\n",
       "      <td>1.136482e+02</td>\n",
       "      <td>1.369835e-03</td>\n",
       "      <td>0.995059</td>\n",
       "    </tr>\n",
       "    <tr>\n",
       "      <th>PC7</th>\n",
       "      <td>9.528592e+01</td>\n",
       "      <td>9.629426e-04</td>\n",
       "      <td>0.996022</td>\n",
       "    </tr>\n",
       "    <tr>\n",
       "      <th>PC8</th>\n",
       "      <td>7.106585e+01</td>\n",
       "      <td>5.356299e-04</td>\n",
       "      <td>0.996557</td>\n",
       "    </tr>\n",
       "    <tr>\n",
       "      <th>PC9</th>\n",
       "      <td>6.808286e+01</td>\n",
       "      <td>4.916076e-04</td>\n",
       "      <td>0.997049</td>\n",
       "    </tr>\n",
       "    <tr>\n",
       "      <th>PC10</th>\n",
       "      <td>6.525346e+01</td>\n",
       "      <td>4.515959e-04</td>\n",
       "      <td>0.997501</td>\n",
       "    </tr>\n",
       "    <tr>\n",
       "      <th>PC11</th>\n",
       "      <td>5.873423e+01</td>\n",
       "      <td>3.658690e-04</td>\n",
       "      <td>0.997867</td>\n",
       "    </tr>\n",
       "    <tr>\n",
       "      <th>PC12</th>\n",
       "      <td>5.107608e+01</td>\n",
       "      <td>2.766802e-04</td>\n",
       "      <td>0.998143</td>\n",
       "    </tr>\n",
       "    <tr>\n",
       "      <th>PC13</th>\n",
       "      <td>4.486574e+01</td>\n",
       "      <td>2.134876e-04</td>\n",
       "      <td>0.998357</td>\n",
       "    </tr>\n",
       "    <tr>\n",
       "      <th>PC14</th>\n",
       "      <td>4.182522e+01</td>\n",
       "      <td>1.855322e-04</td>\n",
       "      <td>0.998542</td>\n",
       "    </tr>\n",
       "    <tr>\n",
       "      <th>PC15</th>\n",
       "      <td>4.084786e+01</td>\n",
       "      <td>1.769627e-04</td>\n",
       "      <td>0.998719</td>\n",
       "    </tr>\n",
       "    <tr>\n",
       "      <th>PC16</th>\n",
       "      <td>3.527673e+01</td>\n",
       "      <td>1.319835e-04</td>\n",
       "      <td>0.998851</td>\n",
       "    </tr>\n",
       "    <tr>\n",
       "      <th>PC17</th>\n",
       "      <td>3.268887e+01</td>\n",
       "      <td>1.133294e-04</td>\n",
       "      <td>0.998965</td>\n",
       "    </tr>\n",
       "    <tr>\n",
       "      <th>PC18</th>\n",
       "      <td>2.827691e+01</td>\n",
       "      <td>8.480214e-05</td>\n",
       "      <td>0.999049</td>\n",
       "    </tr>\n",
       "    <tr>\n",
       "      <th>PC19</th>\n",
       "      <td>2.634233e+01</td>\n",
       "      <td>7.359553e-05</td>\n",
       "      <td>0.999123</td>\n",
       "    </tr>\n",
       "    <tr>\n",
       "      <th>PC20</th>\n",
       "      <td>2.508250e+01</td>\n",
       "      <td>6.672440e-05</td>\n",
       "      <td>0.999190</td>\n",
       "    </tr>\n",
       "    <tr>\n",
       "      <th>PC21</th>\n",
       "      <td>2.418234e+01</td>\n",
       "      <td>6.202114e-05</td>\n",
       "      <td>0.999252</td>\n",
       "    </tr>\n",
       "    <tr>\n",
       "      <th>PC22</th>\n",
       "      <td>2.200535e+01</td>\n",
       "      <td>5.135697e-05</td>\n",
       "      <td>0.999303</td>\n",
       "    </tr>\n",
       "    <tr>\n",
       "      <th>PC23</th>\n",
       "      <td>2.075162e+01</td>\n",
       "      <td>4.567167e-05</td>\n",
       "      <td>0.999349</td>\n",
       "    </tr>\n",
       "    <tr>\n",
       "      <th>PC24</th>\n",
       "      <td>1.962704e+01</td>\n",
       "      <td>4.085569e-05</td>\n",
       "      <td>0.999390</td>\n",
       "    </tr>\n",
       "    <tr>\n",
       "      <th>PC25</th>\n",
       "      <td>1.904493e+01</td>\n",
       "      <td>3.846820e-05</td>\n",
       "      <td>0.999428</td>\n",
       "    </tr>\n",
       "    <tr>\n",
       "      <th>PC26</th>\n",
       "      <td>1.818688e+01</td>\n",
       "      <td>3.508000e-05</td>\n",
       "      <td>0.999463</td>\n",
       "    </tr>\n",
       "    <tr>\n",
       "      <th>PC27</th>\n",
       "      <td>1.723846e+01</td>\n",
       "      <td>3.151663e-05</td>\n",
       "      <td>0.999495</td>\n",
       "    </tr>\n",
       "    <tr>\n",
       "      <th>PC28</th>\n",
       "      <td>1.601251e+01</td>\n",
       "      <td>2.719331e-05</td>\n",
       "      <td>0.999522</td>\n",
       "    </tr>\n",
       "    <tr>\n",
       "      <th>PC29</th>\n",
       "      <td>1.522041e+01</td>\n",
       "      <td>2.456945e-05</td>\n",
       "      <td>0.999546</td>\n",
       "    </tr>\n",
       "    <tr>\n",
       "      <th>PC30</th>\n",
       "      <td>1.467239e+01</td>\n",
       "      <td>2.283204e-05</td>\n",
       "      <td>0.999569</td>\n",
       "    </tr>\n",
       "    <tr>\n",
       "      <th>...</th>\n",
       "      <td>...</td>\n",
       "      <td>...</td>\n",
       "      <td>...</td>\n",
       "    </tr>\n",
       "    <tr>\n",
       "      <th>PC373</th>\n",
       "      <td>2.765191e-01</td>\n",
       "      <td>8.109481e-09</td>\n",
       "      <td>1.000000</td>\n",
       "    </tr>\n",
       "    <tr>\n",
       "      <th>PC374</th>\n",
       "      <td>2.754392e-01</td>\n",
       "      <td>8.046266e-09</td>\n",
       "      <td>1.000000</td>\n",
       "    </tr>\n",
       "    <tr>\n",
       "      <th>PC375</th>\n",
       "      <td>2.721408e-01</td>\n",
       "      <td>7.854710e-09</td>\n",
       "      <td>1.000000</td>\n",
       "    </tr>\n",
       "    <tr>\n",
       "      <th>PC376</th>\n",
       "      <td>2.693518e-01</td>\n",
       "      <td>7.694539e-09</td>\n",
       "      <td>1.000000</td>\n",
       "    </tr>\n",
       "    <tr>\n",
       "      <th>PC377</th>\n",
       "      <td>2.621512e-01</td>\n",
       "      <td>7.288643e-09</td>\n",
       "      <td>1.000000</td>\n",
       "    </tr>\n",
       "    <tr>\n",
       "      <th>PC378</th>\n",
       "      <td>2.595108e-01</td>\n",
       "      <td>7.142561e-09</td>\n",
       "      <td>1.000000</td>\n",
       "    </tr>\n",
       "    <tr>\n",
       "      <th>PC379</th>\n",
       "      <td>2.540838e-01</td>\n",
       "      <td>6.846946e-09</td>\n",
       "      <td>1.000000</td>\n",
       "    </tr>\n",
       "    <tr>\n",
       "      <th>PC380</th>\n",
       "      <td>2.497490e-01</td>\n",
       "      <td>6.615313e-09</td>\n",
       "      <td>1.000000</td>\n",
       "    </tr>\n",
       "    <tr>\n",
       "      <th>PC381</th>\n",
       "      <td>2.399621e-01</td>\n",
       "      <td>6.107006e-09</td>\n",
       "      <td>1.000000</td>\n",
       "    </tr>\n",
       "    <tr>\n",
       "      <th>PC382</th>\n",
       "      <td>2.349905e-01</td>\n",
       "      <td>5.856575e-09</td>\n",
       "      <td>1.000000</td>\n",
       "    </tr>\n",
       "    <tr>\n",
       "      <th>PC383</th>\n",
       "      <td>2.330964e-01</td>\n",
       "      <td>5.762540e-09</td>\n",
       "      <td>1.000000</td>\n",
       "    </tr>\n",
       "    <tr>\n",
       "      <th>PC384</th>\n",
       "      <td>2.284385e-01</td>\n",
       "      <td>5.534539e-09</td>\n",
       "      <td>1.000000</td>\n",
       "    </tr>\n",
       "    <tr>\n",
       "      <th>PC385</th>\n",
       "      <td>2.190880e-01</td>\n",
       "      <td>5.090729e-09</td>\n",
       "      <td>1.000000</td>\n",
       "    </tr>\n",
       "    <tr>\n",
       "      <th>PC386</th>\n",
       "      <td>2.124257e-01</td>\n",
       "      <td>4.785828e-09</td>\n",
       "      <td>1.000000</td>\n",
       "    </tr>\n",
       "    <tr>\n",
       "      <th>PC387</th>\n",
       "      <td>2.080888e-01</td>\n",
       "      <td>4.592406e-09</td>\n",
       "      <td>1.000000</td>\n",
       "    </tr>\n",
       "    <tr>\n",
       "      <th>PC388</th>\n",
       "      <td>2.030579e-01</td>\n",
       "      <td>4.373034e-09</td>\n",
       "      <td>1.000000</td>\n",
       "    </tr>\n",
       "    <tr>\n",
       "      <th>PC389</th>\n",
       "      <td>1.944904e-01</td>\n",
       "      <td>4.011799e-09</td>\n",
       "      <td>1.000000</td>\n",
       "    </tr>\n",
       "    <tr>\n",
       "      <th>PC390</th>\n",
       "      <td>1.864911e-01</td>\n",
       "      <td>3.688581e-09</td>\n",
       "      <td>1.000000</td>\n",
       "    </tr>\n",
       "    <tr>\n",
       "      <th>PC391</th>\n",
       "      <td>1.777989e-01</td>\n",
       "      <td>3.352749e-09</td>\n",
       "      <td>1.000000</td>\n",
       "    </tr>\n",
       "    <tr>\n",
       "      <th>PC392</th>\n",
       "      <td>1.721780e-01</td>\n",
       "      <td>3.144113e-09</td>\n",
       "      <td>1.000000</td>\n",
       "    </tr>\n",
       "    <tr>\n",
       "      <th>PC393</th>\n",
       "      <td>1.637735e-01</td>\n",
       "      <td>2.844658e-09</td>\n",
       "      <td>1.000000</td>\n",
       "    </tr>\n",
       "    <tr>\n",
       "      <th>PC394</th>\n",
       "      <td>1.630628e-01</td>\n",
       "      <td>2.820024e-09</td>\n",
       "      <td>1.000000</td>\n",
       "    </tr>\n",
       "    <tr>\n",
       "      <th>PC395</th>\n",
       "      <td>1.517841e-01</td>\n",
       "      <td>2.443404e-09</td>\n",
       "      <td>1.000000</td>\n",
       "    </tr>\n",
       "    <tr>\n",
       "      <th>PC396</th>\n",
       "      <td>1.481079e-01</td>\n",
       "      <td>2.326481e-09</td>\n",
       "      <td>1.000000</td>\n",
       "    </tr>\n",
       "    <tr>\n",
       "      <th>PC397</th>\n",
       "      <td>1.347466e-01</td>\n",
       "      <td>1.925656e-09</td>\n",
       "      <td>1.000000</td>\n",
       "    </tr>\n",
       "    <tr>\n",
       "      <th>PC398</th>\n",
       "      <td>1.226264e-01</td>\n",
       "      <td>1.594817e-09</td>\n",
       "      <td>1.000000</td>\n",
       "    </tr>\n",
       "    <tr>\n",
       "      <th>PC399</th>\n",
       "      <td>9.576054e-02</td>\n",
       "      <td>9.725593e-10</td>\n",
       "      <td>1.000000</td>\n",
       "    </tr>\n",
       "    <tr>\n",
       "      <th>PC400</th>\n",
       "      <td>9.111599e-02</td>\n",
       "      <td>8.805057e-10</td>\n",
       "      <td>1.000000</td>\n",
       "    </tr>\n",
       "    <tr>\n",
       "      <th>PC401</th>\n",
       "      <td>4.949160e-02</td>\n",
       "      <td>2.597801e-10</td>\n",
       "      <td>1.000000</td>\n",
       "    </tr>\n",
       "    <tr>\n",
       "      <th>PC402</th>\n",
       "      <td>2.495281e-13</td>\n",
       "      <td>1.874736e-31</td>\n",
       "      <td>1.000000</td>\n",
       "    </tr>\n",
       "  </tbody>\n",
       "</table>\n",
       "<p>402 rows × 3 columns</p>\n",
       "</div>"
      ],
      "text/plain": [
       "                    sdev                varprop               cumprop\n",
       "      Standard deviation Proportion of Variance Cumulative Proportion\n",
       "PC1         2.993838e+03           9.506039e-01              0.950604\n",
       "PC2         4.872417e+02           2.517862e-02              0.975783\n",
       "PC3         3.223031e+02           1.101722e-02              0.986800\n",
       "PC4         2.188450e+02           5.079443e-03              0.991879\n",
       "PC5         1.306326e+02           1.809864e-03              0.993689\n",
       "PC6         1.136482e+02           1.369835e-03              0.995059\n",
       "PC7         9.528592e+01           9.629426e-04              0.996022\n",
       "PC8         7.106585e+01           5.356299e-04              0.996557\n",
       "PC9         6.808286e+01           4.916076e-04              0.997049\n",
       "PC10        6.525346e+01           4.515959e-04              0.997501\n",
       "PC11        5.873423e+01           3.658690e-04              0.997867\n",
       "PC12        5.107608e+01           2.766802e-04              0.998143\n",
       "PC13        4.486574e+01           2.134876e-04              0.998357\n",
       "PC14        4.182522e+01           1.855322e-04              0.998542\n",
       "PC15        4.084786e+01           1.769627e-04              0.998719\n",
       "PC16        3.527673e+01           1.319835e-04              0.998851\n",
       "PC17        3.268887e+01           1.133294e-04              0.998965\n",
       "PC18        2.827691e+01           8.480214e-05              0.999049\n",
       "PC19        2.634233e+01           7.359553e-05              0.999123\n",
       "PC20        2.508250e+01           6.672440e-05              0.999190\n",
       "PC21        2.418234e+01           6.202114e-05              0.999252\n",
       "PC22        2.200535e+01           5.135697e-05              0.999303\n",
       "PC23        2.075162e+01           4.567167e-05              0.999349\n",
       "PC24        1.962704e+01           4.085569e-05              0.999390\n",
       "PC25        1.904493e+01           3.846820e-05              0.999428\n",
       "PC26        1.818688e+01           3.508000e-05              0.999463\n",
       "PC27        1.723846e+01           3.151663e-05              0.999495\n",
       "PC28        1.601251e+01           2.719331e-05              0.999522\n",
       "PC29        1.522041e+01           2.456945e-05              0.999546\n",
       "PC30        1.467239e+01           2.283204e-05              0.999569\n",
       "...                  ...                    ...                   ...\n",
       "PC373       2.765191e-01           8.109481e-09              1.000000\n",
       "PC374       2.754392e-01           8.046266e-09              1.000000\n",
       "PC375       2.721408e-01           7.854710e-09              1.000000\n",
       "PC376       2.693518e-01           7.694539e-09              1.000000\n",
       "PC377       2.621512e-01           7.288643e-09              1.000000\n",
       "PC378       2.595108e-01           7.142561e-09              1.000000\n",
       "PC379       2.540838e-01           6.846946e-09              1.000000\n",
       "PC380       2.497490e-01           6.615313e-09              1.000000\n",
       "PC381       2.399621e-01           6.107006e-09              1.000000\n",
       "PC382       2.349905e-01           5.856575e-09              1.000000\n",
       "PC383       2.330964e-01           5.762540e-09              1.000000\n",
       "PC384       2.284385e-01           5.534539e-09              1.000000\n",
       "PC385       2.190880e-01           5.090729e-09              1.000000\n",
       "PC386       2.124257e-01           4.785828e-09              1.000000\n",
       "PC387       2.080888e-01           4.592406e-09              1.000000\n",
       "PC388       2.030579e-01           4.373034e-09              1.000000\n",
       "PC389       1.944904e-01           4.011799e-09              1.000000\n",
       "PC390       1.864911e-01           3.688581e-09              1.000000\n",
       "PC391       1.777989e-01           3.352749e-09              1.000000\n",
       "PC392       1.721780e-01           3.144113e-09              1.000000\n",
       "PC393       1.637735e-01           2.844658e-09              1.000000\n",
       "PC394       1.630628e-01           2.820024e-09              1.000000\n",
       "PC395       1.517841e-01           2.443404e-09              1.000000\n",
       "PC396       1.481079e-01           2.326481e-09              1.000000\n",
       "PC397       1.347466e-01           1.925656e-09              1.000000\n",
       "PC398       1.226264e-01           1.594817e-09              1.000000\n",
       "PC399       9.576054e-02           9.725593e-10              1.000000\n",
       "PC400       9.111599e-02           8.805057e-10              1.000000\n",
       "PC401       4.949160e-02           2.597801e-10              1.000000\n",
       "PC402       2.495281e-13           1.874736e-31              1.000000\n",
       "\n",
       "[402 rows x 3 columns]"
      ]
     },
     "execution_count": 245,
     "metadata": {},
     "output_type": "execute_result"
    }
   ],
   "source": [
    "pca = PCA().fit(x_train_norm)\n",
    "\n",
    "pca_summary(pca, x_train_norm)"
   ]
  },
  {
   "cell_type": "code",
   "execution_count": 246,
   "metadata": {},
   "outputs": [],
   "source": [
    "# fit and transform x using PCA(n = 3)\n",
    "pca = PCA(n_components = 3).fit(x_train_norm)\n",
    "pcax_train = pca.transform(x_train_norm)"
   ]
  },
  {
   "cell_type": "code",
   "execution_count": null,
   "metadata": {
    "collapsed": true
   },
   "outputs": [],
   "source": []
  },
  {
   "cell_type": "code",
   "execution_count": null,
   "metadata": {},
   "outputs": [],
   "source": []
  },
  {
   "cell_type": "code",
   "execution_count": 247,
   "metadata": {
    "collapsed": true
   },
   "outputs": [],
   "source": [
    "import pylab\n",
    "from mpl_toolkits.mplot3d import Axes3D\n",
    "from mpl_toolkits.mplot3d import proj3d"
   ]
  },
  {
   "cell_type": "code",
   "execution_count": 251,
   "metadata": {},
   "outputs": [
    {
     "data": {
      "image/png": "[encoded data removed]",
      "text/plain": [
       "<matplotlib.figure.Figure at 0x12bfc3c8>"
      ]
     },
     "metadata": {},
     "output_type": "display_data"
    }
   ],
   "source": [
    "# visualize classes on the new PCA dimension \n",
    "# y_train contains true labels \n",
    "\n",
    "fig = pylab.figure( figsize = (10, 10))\n",
    "ax = fig.add_subplot(1, 1, 1, projection = '3d')\n",
    "color= ['red' if yi == 0 else 'green' for yi in y_train]\n",
    "\n",
    "sc = ax.scatter(pcax_train[:, 0], pcax_train[:, 1], pcax_train[:, 2], c = color, marker = '^')\n",
    "ax.set_xlabel('PC1')\n",
    "ax.set_ylabel('PC2')\n",
    "ax.set_zlabel('PC3')\n",
    "\n",
    "# Set rotation angle to 30 degrees\n",
    "# ax.view_init(azim = 150)\n",
    "# Set the elevation angle \n",
    "ax.view_init(elev = 45)"
   ]
  },
  {
   "cell_type": "code",
   "execution_count": null,
   "metadata": {
    "collapsed": true
   },
   "outputs": [],
   "source": []
  },
  {
   "cell_type": "code",
   "execution_count": 179,
   "metadata": {},
   "outputs": [],
   "source": [
    "# set elev first and rotate the pic for the best azim\n",
    "\n",
    "# for ii in xrange(0,360,1):\n",
    "#     ax.view_init(elev=10., azim=ii)\n",
    "#     savefig(\"movie%d.png\" % ii)"
   ]
  },
  {
   "cell_type": "code",
   "execution_count": null,
   "metadata": {},
   "outputs": [],
   "source": []
  },
  {
   "cell_type": "markdown",
   "metadata": {},
   "source": [
    "# KNN"
   ]
  },
  {
   "cell_type": "code",
   "execution_count": 256,
   "metadata": {},
   "outputs": [
    {
     "data": {
      "text/plain": [
       "5"
      ]
     },
     "execution_count": 256,
     "metadata": {},
     "output_type": "execute_result"
    }
   ],
   "source": [
    "# tuning for the best number of k on training data x after PCA (n = 3 )\n",
    "# accuracy \n",
    "\n",
    "accuracy_rate = make_scorer(accuracy_score)\n",
    "neighbours = np.arange(1, 10, 2)\n",
    "accuracy = []\n",
    "\n",
    "for k in neighbours:\n",
    "    pca_knn = KNeighborsClassifier(n_neighbors = k)\n",
    "    scores = cross_val_score(pca_knn, pcax_train, y_train, cv = 10, scoring = accuracy_rate)\n",
    "    accuracy.append(scores.mean())\n",
    "    \n",
    "neighbours[accuracy.index(min(accuracy))]"
   ]
  },
  {
   "cell_type": "code",
   "execution_count": 253,
   "metadata": {},
   "outputs": [
    {
     "data": {
      "text/plain": [
       "[0.54744684177611003,\n",
       " 0.52231238273921199,\n",
       " 0.50768449030644147,\n",
       " 0.52787992495309566,\n",
       " 0.52031269543464664]"
      ]
     },
     "execution_count": 253,
     "metadata": {},
     "output_type": "execute_result"
    }
   ],
   "source": [
    "accuracy"
   ]
  },
  {
   "cell_type": "code",
   "execution_count": 257,
   "metadata": {},
   "outputs": [
    {
     "data": {
      "text/plain": [
       "1"
      ]
     },
     "execution_count": 257,
     "metadata": {},
     "output_type": "execute_result"
    }
   ],
   "source": [
    "# tuning for the best number of k on the complete dataset\n",
    "# accuracy \n",
    "\n",
    "fullx = pca.transform(x - x_mean)\n",
    "\n",
    "accuracy_rate = make_scorer(accuracy_score)\n",
    "neighbours = np.arange(1, 10, 2)\n",
    "accuracy_full = []\n",
    "\n",
    "for k in neighbours:\n",
    "    pca_knn = KNeighborsClassifier(n_neighbors = k)\n",
    "    scores = cross_val_score(pca_knn, fullx, y, cv = 10, scoring = accuracy_rate)\n",
    "    accuracy_full.append(scores.mean())\n",
    "    \n",
    "neighbours[accuracy_full.index(min(accuracy_full))]"
   ]
  },
  {
   "cell_type": "code",
   "execution_count": 259,
   "metadata": {},
   "outputs": [
    {
     "data": {
      "text/plain": [
       "[0.53379271708683484,\n",
       " 0.5378743497398959,\n",
       " 0.54968147258903566,\n",
       " 0.53519487795118048,\n",
       " 0.55511964785914369]"
      ]
     },
     "execution_count": 259,
     "metadata": {},
     "output_type": "execute_result"
    }
   ],
   "source": [
    "accuracy_full"
   ]
  },
  {
   "cell_type": "code",
   "execution_count": null,
   "metadata": {
    "collapsed": true
   },
   "outputs": [],
   "source": []
  },
  {
   "cell_type": "markdown",
   "metadata": {},
   "source": [
    "# Evaluation "
   ]
  },
  {
   "cell_type": "code",
   "execution_count": 325,
   "metadata": {},
   "outputs": [
    {
     "data": {
      "text/plain": [
       "KNeighborsClassifier(algorithm='auto', leaf_size=30, metric='minkowski',\n",
       "           metric_params=None, n_jobs=1, n_neighbors=5, p=2,\n",
       "           weights='uniform')"
      ]
     },
     "execution_count": 325,
     "metadata": {},
     "output_type": "execute_result"
    }
   ],
   "source": [
    "pca_knn = KNeighborsClassifier(n_neighbors = 5)\n",
    "pca_knn.fit(pcax_train, y_train)"
   ]
  },
  {
   "cell_type": "code",
   "execution_count": 326,
   "metadata": {},
   "outputs": [
    {
     "name": "stdout",
     "output_type": "stream",
     "text": [
      "60\n",
      "0.594059405941\n"
     ]
    }
   ],
   "source": [
    "# transform the testing x to the New PC dimension \n",
    "\n",
    "pcax_test = pca.transform(x_test_norm)\n",
    "pred = pca_knn.predict(pcax_test)\n",
    "\n",
    "print (sum(pred == y_test))\n",
    "print (sum(pred == y_test)/ len(y_test))"
   ]
  },
  {
   "cell_type": "code",
   "execution_count": 327,
   "metadata": {},
   "outputs": [
    {
     "name": "stdout",
     "output_type": "stream",
     "text": [
      "             precision    recall  f1-score   support\n",
      "\n",
      "        0.0       0.53      0.64      0.58        44\n",
      "        1.0       0.67      0.56      0.61        57\n",
      "\n",
      "avg / total       0.61      0.59      0.60       101\n",
      "\n"
     ]
    }
   ],
   "source": [
    "from sklearn.metrics import classification_report\n",
    "\n",
    "# recall - true positive rate \n",
    "# precision - true \n",
    "\n",
    "print (classification_report(y_test, pred))"
   ]
  },
  {
   "cell_type": "code",
   "execution_count": 283,
   "metadata": {},
   "outputs": [
    {
     "name": "stdout",
     "output_type": "stream",
     "text": [
      "348\n",
      "0.691848906561\n"
     ]
    }
   ],
   "source": [
    "# eval on the entire data with KNN(k = 5) and PCA(n = 3)\n",
    "\n",
    "pcax_full = pca.transform(x - x_mean)\n",
    "pred5f = pca_knn.predict(pcax_full)\n",
    "\n",
    "print (sum(pred5f == y))\n",
    "print (sum(pred5f == y)/ len(y))"
   ]
  },
  {
   "cell_type": "code",
   "execution_count": 282,
   "metadata": {},
   "outputs": [
    {
     "data": {
      "text/plain": [
       "numpy.float64"
      ]
     },
     "execution_count": 282,
     "metadata": {},
     "output_type": "execute_result"
    }
   ],
   "source": [
    "type(y_test.iloc[34])\n"
   ]
  },
  {
   "cell_type": "markdown",
   "metadata": {},
   "source": [
    "# Logistic regression\n"
   ]
  },
  {
   "cell_type": "code",
   "execution_count": 289,
   "metadata": {
    "collapsed": true
   },
   "outputs": [],
   "source": [
    "from sklearn.linear_model import LogisticRegression"
   ]
  },
  {
   "cell_type": "code",
   "execution_count": 366,
   "metadata": {},
   "outputs": [
    {
     "data": {
      "text/plain": [
       "LogisticRegression(C=1.0, class_weight=None, dual=False, fit_intercept=True,\n",
       "          intercept_scaling=1, max_iter=100, multi_class='ovr', n_jobs=1,\n",
       "          penalty='l2', random_state=None, solver='liblinear', tol=0.0001,\n",
       "          verbose=0, warm_start=False)"
      ]
     },
     "execution_count": 366,
     "metadata": {},
     "output_type": "execute_result"
    }
   ],
   "source": [
    "logr = LogisticRegression()\n",
    "logr.fit(pcax_train, y_train)"
   ]
  },
  {
   "cell_type": "code",
   "execution_count": 399,
   "metadata": {},
   "outputs": [
    {
     "name": "stdout",
     "output_type": "stream",
     "text": [
      "[ 0.60784314  0.56862745  0.66666667  0.56862745  0.52941176  0.39215686\n",
      "  0.5         0.67346939  0.65306122  0.51020408]\n"
     ]
    },
    {
     "data": {
      "text/plain": [
       "0.5670068027210885"
      ]
     },
     "execution_count": 399,
     "metadata": {},
     "output_type": "execute_result"
    }
   ],
   "source": [
    "# CV score\n",
    "print (cross_val_score(logr, fullx, y, cv = 10))\n",
    "\n",
    "np.mean(cross_val_score(logr, fullx, y, cv = 10))"
   ]
  },
  {
   "cell_type": "code",
   "execution_count": 360,
   "metadata": {},
   "outputs": [
    {
     "data": {
      "text/plain": [
       "0.60396039603960394"
      ]
     },
     "execution_count": 360,
     "metadata": {},
     "output_type": "execute_result"
    }
   ],
   "source": [
    "logr.score(pcax_test, y_test)"
   ]
  },
  {
   "cell_type": "code",
   "execution_count": 361,
   "metadata": {},
   "outputs": [
    {
     "data": {
      "text/plain": [
       "array([[-0.0001051 ,  0.00059226, -0.00096829]])"
      ]
     },
     "execution_count": 361,
     "metadata": {},
     "output_type": "execute_result"
    }
   ],
   "source": [
    "# logistic regression coefficients \n",
    "logr.coef_"
   ]
  },
  {
   "cell_type": "code",
   "execution_count": 362,
   "metadata": {},
   "outputs": [
    {
     "name": "stdout",
     "output_type": "stream",
     "text": [
      "             precision    recall  f1-score   support\n",
      "\n",
      "        0.0       0.56      0.43      0.49        44\n",
      "        1.0       0.63      0.74      0.68        57\n",
      "\n",
      "avg / total       0.60      0.60      0.59       101\n",
      "\n"
     ]
    }
   ],
   "source": [
    "sum(logr.predict(pcax_test) == y_test)/ len(y_test)\n",
    "\n",
    "# prediction for the demeaned testing data \n",
    "pred_log = logr.predict(pcax_test)\n",
    "print (classification_report(y_test, pred_log))"
   ]
  },
  {
   "cell_type": "code",
   "execution_count": 343,
   "metadata": {},
   "outputs": [
    {
     "data": {
      "text/plain": [
       "57"
      ]
     },
     "execution_count": 343,
     "metadata": {},
     "output_type": "execute_result"
    }
   ],
   "source": [
    "# support \n",
    "\n",
    "len(y_test[y_test== 0])\n",
    "len(y_test[y_test== 1])"
   ]
  },
  {
   "cell_type": "code",
   "execution_count": 386,
   "metadata": {},
   "outputs": [
    {
     "data": {
      "text/plain": [
       "GridSearchCV(cv=10, error_score='raise',\n",
       "       estimator=LogisticRegression(C=1.0, class_weight=None, dual=False, fit_intercept=True,\n",
       "          intercept_scaling=1, max_iter=100, multi_class='ovr', n_jobs=1,\n",
       "          penalty='l2', random_state=None, solver='liblinear', tol=0.0001,\n",
       "          verbose=0, warm_start=False),\n",
       "       fit_params={}, iid=True, n_jobs=1,\n",
       "       param_grid={'C': [0.001, 0.01, 0.1, 1, 10, 100, 1000], 'penalty': ['l2', 'l1']},\n",
       "       pre_dispatch='2*n_jobs', refit=True, return_train_score=True,\n",
       "       scoring=make_scorer(accuracy_score), verbose=0)"
      ]
     },
     "execution_count": 386,
     "metadata": {},
     "output_type": "execute_result"
    }
   ],
   "source": [
    "# tune Logistic Regression?\n",
    "# in scikit learn logistic regression, C = 1/lambda, for the consistency with SVM\n",
    "# i.e. samller C, greater the effect of regularizatoin \n",
    "\n",
    "tuned = LogisticRegression()\n",
    "\n",
    "param_grid = {'C': [0.001, 0.01, 0.1, 1, 10, 100, 1000], 'penalty': ['l2', 'l1']}\n",
    "\n",
    "grid_search= GridSearchCV(tuned, param_grid, cv= 10, scoring = make_scorer(accuracy_score))\n",
    "grid_search.fit(pcax_train, y_train)"
   ]
  },
  {
   "cell_type": "code",
   "execution_count": 400,
   "metadata": {},
   "outputs": [
    {
     "name": "stdout",
     "output_type": "stream",
     "text": [
      "0.1\n",
      "l1\n"
     ]
    },
    {
     "data": {
      "text/plain": [
       "0.60396039603960394"
      ]
     },
     "execution_count": 400,
     "metadata": {},
     "output_type": "execute_result"
    }
   ],
   "source": [
    "print (grid_search.best_params_.get('C'))\n",
    "print (grid_search.best_params_.get('penalty'))\n",
    "\n",
    "# fit the tuned logistic regression \n",
    "\n",
    "tuned = LogisticRegression(C = grid_search.best_params_.get('C'), penalty = grid_search.best_params_.get('penalty'))\n",
    "tuned.fit(pcax_train, y_train)\n",
    "\n",
    "# accuracy on the current testing data \n",
    "sum (tuned.predict(pcax_test) == y_test) / len(y_test)"
   ]
  },
  {
   "cell_type": "code",
   "execution_count": 397,
   "metadata": {},
   "outputs": [
    {
     "name": "stdout",
     "output_type": "stream",
     "text": [
      "[ 0.60784314  0.56862745  0.64705882  0.56862745  0.52941176  0.37254902\n",
      "  0.5         0.65306122  0.65306122  0.53061224]\n",
      "0.563085234094\n"
     ]
    }
   ],
   "source": [
    "# CV score on the tuned Logistic regression \n",
    "cross_validate = cross_val_score(tuned, fullx, y, cv = 10, scoring = make_scorer(accuracy_score))\n",
    "\n",
    "print (cross_validate)\n",
    "print (np.mean(cross_validate))"
   ]
  },
  {
   "cell_type": "code",
   "execution_count": null,
   "metadata": {
    "collapsed": true
   },
   "outputs": [],
   "source": []
  },
  {
   "cell_type": "code",
   "execution_count": 398,
   "metadata": {},
   "outputs": [
    {
     "name": "stdout",
     "output_type": "stream",
     "text": [
      "             precision    recall  f1-score   support\n",
      "\n",
      "        0.0       0.56      0.43      0.49        44\n",
      "        1.0       0.63      0.74      0.68        57\n",
      "\n",
      "avg / total       0.60      0.60      0.59       101\n",
      "\n"
     ]
    }
   ],
   "source": [
    "print (classification_report(y_test, tuned.predict(pcax_test)))"
   ]
  },
  {
   "cell_type": "code",
   "execution_count": null,
   "metadata": {
    "collapsed": true
   },
   "outputs": [],
   "source": []
  },
  {
   "cell_type": "markdown",
   "metadata": {},
   "source": [
    "# SVM"
   ]
  },
  {
   "cell_type": "code",
   "execution_count": 297,
   "metadata": {
    "collapsed": true
   },
   "outputs": [],
   "source": [
    "from sklearn.svm import SVC"
   ]
  },
  {
   "cell_type": "code",
   "execution_count": 337,
   "metadata": {},
   "outputs": [
    {
     "data": {
      "text/plain": [
       "SVC(C=1.0, cache_size=200, class_weight=None, coef0=0.0,\n",
       "  decision_function_shape=None, degree=3, gamma='auto', kernel='rbf',\n",
       "  max_iter=-1, probability=False, random_state=None, shrinking=True,\n",
       "  tol=0.001, verbose=False)"
      ]
     },
     "execution_count": 337,
     "metadata": {},
     "output_type": "execute_result"
    }
   ],
   "source": [
    "# rbf is the default kernel\n",
    "# SVM on training data with original dimension\n",
    "\n",
    "clf_svm = SVC()\n",
    "clf_svm.fit(x_train, y_train)"
   ]
  },
  {
   "cell_type": "code",
   "execution_count": 338,
   "metadata": {},
   "outputs": [
    {
     "name": "stdout",
     "output_type": "stream",
     "text": [
      "             precision    recall  f1-score   support\n",
      "\n",
      "        0.0       0.43      0.98      0.60        44\n",
      "        1.0       0.00      0.00      0.00        57\n",
      "\n",
      "avg / total       0.19      0.43      0.26       101\n",
      "\n"
     ]
    }
   ],
   "source": [
    "pred_svm = clf_svm.predict(x_test)\n",
    "\n",
    "print (classification_report(y_test, pred_svm))"
   ]
  },
  {
   "cell_type": "code",
   "execution_count": 303,
   "metadata": {},
   "outputs": [
    {
     "data": {
      "text/plain": [
       "SVC(C=1.0, cache_size=200, class_weight=None, coef0=0.0,\n",
       "  decision_function_shape=None, degree=3, gamma='auto', kernel='rbf',\n",
       "  max_iter=-1, probability=False, random_state=None, shrinking=True,\n",
       "  tol=0.001, verbose=False)"
      ]
     },
     "execution_count": 303,
     "metadata": {},
     "output_type": "execute_result"
    }
   ],
   "source": [
    "# if train SVM on the PCAed data \n",
    "\n",
    "# rbf is the default kernel\n",
    "clf_pcasvm = SVC()\n",
    "clf_pcasvm.fit(pcax_train, y_train)"
   ]
  },
  {
   "cell_type": "code",
   "execution_count": 336,
   "metadata": {
    "collapsed": true
   },
   "outputs": [
    {
     "name": "stdout",
     "output_type": "stream",
     "text": [
      "             precision    recall  f1-score   support\n",
      "\n",
      "        0.0       0.44      1.00      0.61        44\n",
      "        1.0       0.00      0.00      0.00        57\n",
      "\n",
      "avg / total       0.19      0.44      0.26       101\n",
      "\n"
     ]
    },
    {
     "name": "stderr",
     "output_type": "stream",
     "text": [
      "C:\\Users\\1098071\\AppData\\Local\\Continuum\\Anaconda3\\lib\\site-packages\\sklearn\\metrics\\classification.py:1113: UndefinedMetricWarning: Precision and F-score are ill-defined and being set to 0.0 in labels with no predicted samples.\n",
      "  'precision', 'predicted', average, warn_for)\n"
     ]
    }
   ],
   "source": [
    "pred_pca_svm = clf_pcasvm.predict(pcax_test)\n",
    "\n",
    "print (classification_report(y_test, pred_pca_svm))"
   ]
  },
  {
   "cell_type": "code",
   "execution_count": 334,
   "metadata": {},
   "outputs": [
    {
     "name": "stdout",
     "output_type": "stream",
     "text": [
      "57\n",
      "44\n"
     ]
    }
   ],
   "source": [
    "# in the full dataset, classses are roughly balanced \n",
    "# check if the classes are balanced in testing set as well \n",
    "\n",
    "print (len(y_test[y_test == 1]))\n",
    "print (len(y_test[y_test == 0]))"
   ]
  },
  {
   "cell_type": "markdown",
   "metadata": {},
   "source": [
    "**Precision **is the number of True Positives divided by the number of True Positives and False Positives. Put another way, it is the number of positive predictions divided by the total number of positive class values predicted. It is also called the Positive Predictive Value (PPV).\n",
    "\n",
    "Precision can be thought of as a measure of a classifiers exactness. A low precision can also indicate a large number of **False Positives.**\n",
    "\n",
    "\n",
    "**Recall** is the number of True Positives divided by the number of True Positives and the number of False Negatives. Put another way it is the number of positive predictions divided by the number of positive class values in the test data. It is also called Sensitivity or the True Positive Rate.\n",
    "\n",
    "Recall can be thought of as a measure of a classifiers completeness. A low recall indicates many **False Negatives**."
   ]
  },
  {
   "cell_type": "code",
   "execution_count": null,
   "metadata": {
    "collapsed": true
   },
   "outputs": [],
   "source": []
  }
 ],
 "metadata": {
  "kernelspec": {
   "display_name": "Python 3",
   "language": "python",
   "name": "python3"
  },
  "language_info": {
   "codemirror_mode": {
    "name": "ipython",
    "version": 3
   },
   "file_extension": ".py",
   "mimetype": "text/x-python",
   "name": "python",
   "nbconvert_exporter": "python",
   "pygments_lexer": "ipython3",
   "version": "3.6.1"
  }
 },
 "nbformat": 4,
 "nbformat_minor": 2
}
