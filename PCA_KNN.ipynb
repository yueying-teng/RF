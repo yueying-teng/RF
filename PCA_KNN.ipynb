{
 "cells": [
  {
   "cell_type": "code",
   "execution_count": 507,
   "metadata": {
    "collapsed": true
   },
   "outputs": [],
   "source": [
    "import pandas as pd\n",
    "import numpy as np"
   ]
  },
  {
   "cell_type": "code",
   "execution_count": 10,
   "metadata": {},
   "outputs": [
    {
     "data": {
      "text/html": [
       "<div>\n",
       "<style>\n",
       "    .dataframe thead tr:only-child th {\n",
       "        text-align: right;\n",
       "    }\n",
       "\n",
       "    .dataframe thead th {\n",
       "        text-align: left;\n",
       "    }\n",
       "\n",
       "    .dataframe tbody tr th {\n",
       "        vertical-align: top;\n",
       "    }\n",
       "</style>\n",
       "<table border=\"1\" class=\"dataframe\">\n",
       "  <thead>\n",
       "    <tr style=\"text-align: right;\">\n",
       "      <th></th>\n",
       "      <th>Date</th>\n",
       "      <th>Open</th>\n",
       "      <th>High</th>\n",
       "      <th>Low</th>\n",
       "      <th>Close</th>\n",
       "      <th>Volume</th>\n",
       "      <th>Name</th>\n",
       "    </tr>\n",
       "  </thead>\n",
       "  <tbody>\n",
       "    <tr>\n",
       "      <th>0</th>\n",
       "      <td>2012-08-13</td>\n",
       "      <td>92.29</td>\n",
       "      <td>92.59</td>\n",
       "      <td>91.74</td>\n",
       "      <td>92.40</td>\n",
       "      <td>2075391.0</td>\n",
       "      <td>MMM</td>\n",
       "    </tr>\n",
       "    <tr>\n",
       "      <th>1</th>\n",
       "      <td>2012-08-14</td>\n",
       "      <td>92.36</td>\n",
       "      <td>92.50</td>\n",
       "      <td>92.01</td>\n",
       "      <td>92.30</td>\n",
       "      <td>1843476.0</td>\n",
       "      <td>MMM</td>\n",
       "    </tr>\n",
       "    <tr>\n",
       "      <th>2</th>\n",
       "      <td>2012-08-15</td>\n",
       "      <td>92.00</td>\n",
       "      <td>92.74</td>\n",
       "      <td>91.94</td>\n",
       "      <td>92.54</td>\n",
       "      <td>1983395.0</td>\n",
       "      <td>MMM</td>\n",
       "    </tr>\n",
       "    <tr>\n",
       "      <th>3</th>\n",
       "      <td>2012-08-16</td>\n",
       "      <td>92.75</td>\n",
       "      <td>93.87</td>\n",
       "      <td>92.21</td>\n",
       "      <td>93.74</td>\n",
       "      <td>3395145.0</td>\n",
       "      <td>MMM</td>\n",
       "    </tr>\n",
       "    <tr>\n",
       "      <th>4</th>\n",
       "      <td>2012-08-17</td>\n",
       "      <td>93.93</td>\n",
       "      <td>94.30</td>\n",
       "      <td>93.59</td>\n",
       "      <td>94.24</td>\n",
       "      <td>3069513.0</td>\n",
       "      <td>MMM</td>\n",
       "    </tr>\n",
       "  </tbody>\n",
       "</table>\n",
       "</div>"
      ],
      "text/plain": [
       "         Date   Open   High    Low  Close     Volume Name\n",
       "0  2012-08-13  92.29  92.59  91.74  92.40  2075391.0  MMM\n",
       "1  2012-08-14  92.36  92.50  92.01  92.30  1843476.0  MMM\n",
       "2  2012-08-15  92.00  92.74  91.94  92.54  1983395.0  MMM\n",
       "3  2012-08-16  92.75  93.87  92.21  93.74  3395145.0  MMM\n",
       "4  2012-08-17  93.93  94.30  93.59  94.24  3069513.0  MMM"
      ]
     },
     "execution_count": 10,
     "metadata": {},
     "output_type": "execute_result"
    }
   ],
   "source": [
    "long = pd.read_csv('all_stocks_5yr.csv')\n",
    "long.head()"
   ]
  },
  {
   "cell_type": "code",
   "execution_count": null,
   "metadata": {
    "collapsed": true
   },
   "outputs": [],
   "source": []
  },
  {
   "cell_type": "code",
   "execution_count": 12,
   "metadata": {},
   "outputs": [
    {
     "data": {
      "text/plain": [
       "503"
      ]
     },
     "execution_count": 12,
     "metadata": {},
     "output_type": "execute_result"
    }
   ],
   "source": [
    "len(long['Name'].unique())"
   ]
  },
  {
   "cell_type": "code",
   "execution_count": 508,
   "metadata": {},
   "outputs": [
    {
     "data": {
      "text/html": [
       "<div>\n",
       "<style>\n",
       "    .dataframe thead tr:only-child th {\n",
       "        text-align: right;\n",
       "    }\n",
       "\n",
       "    .dataframe thead th {\n",
       "        text-align: left;\n",
       "    }\n",
       "\n",
       "    .dataframe tbody tr th {\n",
       "        vertical-align: top;\n",
       "    }\n",
       "</style>\n",
       "<table border=\"1\" class=\"dataframe\">\n",
       "  <thead>\n",
       "    <tr style=\"text-align: right;\">\n",
       "      <th></th>\n",
       "      <th>Date</th>\n",
       "      <th>Open</th>\n",
       "      <th>High</th>\n",
       "      <th>Low</th>\n",
       "      <th>Close</th>\n",
       "      <th>Volume</th>\n",
       "      <th>Name</th>\n",
       "    </tr>\n",
       "  </thead>\n",
       "  <tbody>\n",
       "    <tr>\n",
       "      <th>0</th>\n",
       "      <td>2012-08-13</td>\n",
       "      <td>92.29</td>\n",
       "      <td>92.59</td>\n",
       "      <td>91.74</td>\n",
       "      <td>92.40</td>\n",
       "      <td>2075391.0</td>\n",
       "      <td>MMM</td>\n",
       "    </tr>\n",
       "    <tr>\n",
       "      <th>1</th>\n",
       "      <td>2012-08-14</td>\n",
       "      <td>92.36</td>\n",
       "      <td>92.50</td>\n",
       "      <td>92.01</td>\n",
       "      <td>92.30</td>\n",
       "      <td>1843476.0</td>\n",
       "      <td>MMM</td>\n",
       "    </tr>\n",
       "    <tr>\n",
       "      <th>2</th>\n",
       "      <td>2012-08-15</td>\n",
       "      <td>92.00</td>\n",
       "      <td>92.74</td>\n",
       "      <td>91.94</td>\n",
       "      <td>92.54</td>\n",
       "      <td>1983395.0</td>\n",
       "      <td>MMM</td>\n",
       "    </tr>\n",
       "    <tr>\n",
       "      <th>3</th>\n",
       "      <td>2012-08-16</td>\n",
       "      <td>92.75</td>\n",
       "      <td>93.87</td>\n",
       "      <td>92.21</td>\n",
       "      <td>93.74</td>\n",
       "      <td>3395145.0</td>\n",
       "      <td>MMM</td>\n",
       "    </tr>\n",
       "    <tr>\n",
       "      <th>4</th>\n",
       "      <td>2012-08-17</td>\n",
       "      <td>93.93</td>\n",
       "      <td>94.30</td>\n",
       "      <td>93.59</td>\n",
       "      <td>94.24</td>\n",
       "      <td>3069513.0</td>\n",
       "      <td>MMM</td>\n",
       "    </tr>\n",
       "  </tbody>\n",
       "</table>\n",
       "</div>"
      ],
      "text/plain": [
       "         Date   Open   High    Low  Close     Volume Name\n",
       "0  2012-08-13  92.29  92.59  91.74  92.40  2075391.0  MMM\n",
       "1  2012-08-14  92.36  92.50  92.01  92.30  1843476.0  MMM\n",
       "2  2012-08-15  92.00  92.74  91.94  92.54  1983395.0  MMM\n",
       "3  2012-08-16  92.75  93.87  92.21  93.74  3395145.0  MMM\n",
       "4  2012-08-17  93.93  94.30  93.59  94.24  3069513.0  MMM"
      ]
     },
     "execution_count": 508,
     "metadata": {},
     "output_type": "execute_result"
    }
   ],
   "source": [
    "mmm = long[long['Name'] == 'MMM']\n",
    "mmm.head()"
   ]
  },
  {
   "cell_type": "code",
   "execution_count": 15,
   "metadata": {},
   "outputs": [
    {
     "data": {
      "text/html": [
       "<div>\n",
       "<style>\n",
       "    .dataframe thead tr:only-child th {\n",
       "        text-align: right;\n",
       "    }\n",
       "\n",
       "    .dataframe thead th {\n",
       "        text-align: left;\n",
       "    }\n",
       "\n",
       "    .dataframe tbody tr th {\n",
       "        vertical-align: top;\n",
       "    }\n",
       "</style>\n",
       "<table border=\"1\" class=\"dataframe\">\n",
       "  <thead>\n",
       "    <tr style=\"text-align: right;\">\n",
       "      <th></th>\n",
       "      <th>Date</th>\n",
       "      <th>Open</th>\n",
       "      <th>High</th>\n",
       "      <th>Low</th>\n",
       "      <th>Close</th>\n",
       "      <th>Volume</th>\n",
       "      <th>Name</th>\n",
       "    </tr>\n",
       "  </thead>\n",
       "  <tbody>\n",
       "    <tr>\n",
       "      <th>33282</th>\n",
       "      <td>2012-08-13</td>\n",
       "      <td>323.39</td>\n",
       "      <td>329.74</td>\n",
       "      <td>323.02</td>\n",
       "      <td>329.67</td>\n",
       "      <td>NaN</td>\n",
       "      <td>GOOG</td>\n",
       "    </tr>\n",
       "    <tr>\n",
       "      <th>33283</th>\n",
       "      <td>2012-08-14</td>\n",
       "      <td>329.30</td>\n",
       "      <td>336.09</td>\n",
       "      <td>329.17</td>\n",
       "      <td>334.00</td>\n",
       "      <td>NaN</td>\n",
       "      <td>GOOG</td>\n",
       "    </tr>\n",
       "    <tr>\n",
       "      <th>33284</th>\n",
       "      <td>2012-08-15</td>\n",
       "      <td>334.80</td>\n",
       "      <td>336.79</td>\n",
       "      <td>331.72</td>\n",
       "      <td>333.44</td>\n",
       "      <td>NaN</td>\n",
       "      <td>GOOG</td>\n",
       "    </tr>\n",
       "    <tr>\n",
       "      <th>33285</th>\n",
       "      <td>2012-08-16</td>\n",
       "      <td>333.42</td>\n",
       "      <td>336.98</td>\n",
       "      <td>333.21</td>\n",
       "      <td>336.10</td>\n",
       "      <td>NaN</td>\n",
       "      <td>GOOG</td>\n",
       "    </tr>\n",
       "    <tr>\n",
       "      <th>33286</th>\n",
       "      <td>2012-08-17</td>\n",
       "      <td>336.72</td>\n",
       "      <td>338.29</td>\n",
       "      <td>335.51</td>\n",
       "      <td>338.23</td>\n",
       "      <td>NaN</td>\n",
       "      <td>GOOG</td>\n",
       "    </tr>\n",
       "  </tbody>\n",
       "</table>\n",
       "</div>"
      ],
      "text/plain": [
       "             Date    Open    High     Low   Close  Volume  Name\n",
       "33282  2012-08-13  323.39  329.74  323.02  329.67     NaN  GOOG\n",
       "33283  2012-08-14  329.30  336.09  329.17  334.00     NaN  GOOG\n",
       "33284  2012-08-15  334.80  336.79  331.72  333.44     NaN  GOOG\n",
       "33285  2012-08-16  333.42  336.98  333.21  336.10     NaN  GOOG\n",
       "33286  2012-08-17  336.72  338.29  335.51  338.23     NaN  GOOG"
      ]
     },
     "execution_count": 15,
     "metadata": {},
     "output_type": "execute_result"
    }
   ],
   "source": [
    "goog = long[long['Name'] == 'GOOG']\n",
    "goog.head()"
   ]
  },
  {
   "cell_type": "code",
   "execution_count": null,
   "metadata": {
    "collapsed": true
   },
   "outputs": [],
   "source": []
  },
  {
   "cell_type": "code",
   "execution_count": 17,
   "metadata": {
    "collapsed": true
   },
   "outputs": [],
   "source": [
    "# using all unique timestamp and closing price as columns for Xs and Y\n",
    "# company names as row names "
   ]
  },
  {
   "cell_type": "code",
   "execution_count": 48,
   "metadata": {
    "collapsed": true
   },
   "outputs": [],
   "source": [
    "timecol = long['Date'].unique()"
   ]
  },
  {
   "cell_type": "code",
   "execution_count": 30,
   "metadata": {},
   "outputs": [
    {
     "data": {
      "text/plain": [
       "460"
      ]
     },
     "execution_count": 30,
     "metadata": {},
     "output_type": "execute_result"
    }
   ],
   "source": [
    "dt = long[['Date', 'Close', 'Name']]\n",
    "\n",
    "\n",
    "len(dt[dt['Date'] == '2012-08-13'])"
   ]
  },
  {
   "cell_type": "code",
   "execution_count": 70,
   "metadata": {},
   "outputs": [
    {
     "data": {
      "text/html": [
       "<div>\n",
       "<style>\n",
       "    .dataframe thead tr:only-child th {\n",
       "        text-align: right;\n",
       "    }\n",
       "\n",
       "    .dataframe thead th {\n",
       "        text-align: left;\n",
       "    }\n",
       "\n",
       "    .dataframe tbody tr th {\n",
       "        vertical-align: top;\n",
       "    }\n",
       "</style>\n",
       "<table border=\"1\" class=\"dataframe\">\n",
       "  <thead>\n",
       "    <tr style=\"text-align: right;\">\n",
       "      <th></th>\n",
       "      <th>Date</th>\n",
       "      <th>Close</th>\n",
       "      <th>Name</th>\n",
       "    </tr>\n",
       "  </thead>\n",
       "  <tbody>\n",
       "    <tr>\n",
       "      <th>0</th>\n",
       "      <td>2012-08-13</td>\n",
       "      <td>92.40</td>\n",
       "      <td>MMM</td>\n",
       "    </tr>\n",
       "    <tr>\n",
       "      <th>1</th>\n",
       "      <td>2012-08-14</td>\n",
       "      <td>92.30</td>\n",
       "      <td>MMM</td>\n",
       "    </tr>\n",
       "    <tr>\n",
       "      <th>2</th>\n",
       "      <td>2012-08-15</td>\n",
       "      <td>92.54</td>\n",
       "      <td>MMM</td>\n",
       "    </tr>\n",
       "    <tr>\n",
       "      <th>3</th>\n",
       "      <td>2012-08-16</td>\n",
       "      <td>93.74</td>\n",
       "      <td>MMM</td>\n",
       "    </tr>\n",
       "    <tr>\n",
       "      <th>4</th>\n",
       "      <td>2012-08-17</td>\n",
       "      <td>94.24</td>\n",
       "      <td>MMM</td>\n",
       "    </tr>\n",
       "  </tbody>\n",
       "</table>\n",
       "</div>"
      ],
      "text/plain": [
       "         Date  Close Name\n",
       "0  2012-08-13  92.40  MMM\n",
       "1  2012-08-14  92.30  MMM\n",
       "2  2012-08-15  92.54  MMM\n",
       "3  2012-08-16  93.74  MMM\n",
       "4  2012-08-17  94.24  MMM"
      ]
     },
     "execution_count": 70,
     "metadata": {},
     "output_type": "execute_result"
    }
   ],
   "source": [
    "dt.head()"
   ]
  },
  {
   "cell_type": "code",
   "execution_count": 73,
   "metadata": {},
   "outputs": [
    {
     "data": {
      "text/html": [
       "<div>\n",
       "<style>\n",
       "    .dataframe thead tr:only-child th {\n",
       "        text-align: right;\n",
       "    }\n",
       "\n",
       "    .dataframe thead th {\n",
       "        text-align: left;\n",
       "    }\n",
       "\n",
       "    .dataframe tbody tr th {\n",
       "        vertical-align: top;\n",
       "    }\n",
       "</style>\n",
       "<table border=\"1\" class=\"dataframe\">\n",
       "  <thead>\n",
       "    <tr style=\"text-align: right;\">\n",
       "      <th></th>\n",
       "      <th>Date</th>\n",
       "      <th>Close</th>\n",
       "    </tr>\n",
       "    <tr>\n",
       "      <th>Name</th>\n",
       "      <th></th>\n",
       "      <th></th>\n",
       "    </tr>\n",
       "  </thead>\n",
       "  <tbody>\n",
       "    <tr>\n",
       "      <th>A</th>\n",
       "      <td>1258</td>\n",
       "      <td>1258</td>\n",
       "    </tr>\n",
       "    <tr>\n",
       "      <th>AAL</th>\n",
       "      <td>926</td>\n",
       "      <td>926</td>\n",
       "    </tr>\n",
       "    <tr>\n",
       "      <th>AAP</th>\n",
       "      <td>1258</td>\n",
       "      <td>1258</td>\n",
       "    </tr>\n",
       "    <tr>\n",
       "      <th>AAPL</th>\n",
       "      <td>1258</td>\n",
       "      <td>1258</td>\n",
       "    </tr>\n",
       "    <tr>\n",
       "      <th>ABBV</th>\n",
       "      <td>1177</td>\n",
       "      <td>1177</td>\n",
       "    </tr>\n",
       "  </tbody>\n",
       "</table>\n",
       "</div>"
      ],
      "text/plain": [
       "      Date  Close\n",
       "Name             \n",
       "A     1258   1258\n",
       "AAL    926    926\n",
       "AAP   1258   1258\n",
       "AAPL  1258   1258\n",
       "ABBV  1177   1177"
      ]
     },
     "execution_count": 73,
     "metadata": {},
     "output_type": "execute_result"
    }
   ],
   "source": [
    "dt.groupby('Name').count().head()"
   ]
  },
  {
   "cell_type": "code",
   "execution_count": 90,
   "metadata": {},
   "outputs": [
    {
     "name": "stdout",
     "output_type": "stream",
     "text": [
      "1258\n"
     ]
    },
    {
     "data": {
      "text/plain": [
       "1258"
      ]
     },
     "execution_count": 90,
     "metadata": {},
     "output_type": "execute_result"
    }
   ],
   "source": [
    "print (len(dt['Date'].unique()))\n",
    "\n",
    "len(dt.groupby('Name')['Date'].unique().iloc[0])"
   ]
  },
  {
   "cell_type": "code",
   "execution_count": 103,
   "metadata": {},
   "outputs": [
    {
     "data": {
      "text/html": [
       "<div>\n",
       "<style>\n",
       "    .dataframe thead tr:only-child th {\n",
       "        text-align: right;\n",
       "    }\n",
       "\n",
       "    .dataframe thead th {\n",
       "        text-align: left;\n",
       "    }\n",
       "\n",
       "    .dataframe tbody tr th {\n",
       "        vertical-align: top;\n",
       "    }\n",
       "</style>\n",
       "<table border=\"1\" class=\"dataframe\">\n",
       "  <thead>\n",
       "    <tr style=\"text-align: right;\">\n",
       "      <th></th>\n",
       "      <th>Date</th>\n",
       "      <th>Close</th>\n",
       "      <th>Name</th>\n",
       "    </tr>\n",
       "  </thead>\n",
       "  <tbody>\n",
       "    <tr>\n",
       "      <th>16272</th>\n",
       "      <td>2012-08-13</td>\n",
       "      <td>40.38</td>\n",
       "      <td>A</td>\n",
       "    </tr>\n",
       "    <tr>\n",
       "      <th>16273</th>\n",
       "      <td>2012-08-14</td>\n",
       "      <td>40.49</td>\n",
       "      <td>A</td>\n",
       "    </tr>\n",
       "    <tr>\n",
       "      <th>16274</th>\n",
       "      <td>2012-08-15</td>\n",
       "      <td>40.48</td>\n",
       "      <td>A</td>\n",
       "    </tr>\n",
       "    <tr>\n",
       "      <th>16275</th>\n",
       "      <td>2012-08-16</td>\n",
       "      <td>37.15</td>\n",
       "      <td>A</td>\n",
       "    </tr>\n",
       "    <tr>\n",
       "      <th>16276</th>\n",
       "      <td>2012-08-17</td>\n",
       "      <td>37.22</td>\n",
       "      <td>A</td>\n",
       "    </tr>\n",
       "  </tbody>\n",
       "</table>\n",
       "</div>"
      ],
      "text/plain": [
       "             Date  Close Name\n",
       "16272  2012-08-13  40.38    A\n",
       "16273  2012-08-14  40.49    A\n",
       "16274  2012-08-15  40.48    A\n",
       "16275  2012-08-16  37.15    A\n",
       "16276  2012-08-17  37.22    A"
      ]
     },
     "execution_count": 103,
     "metadata": {},
     "output_type": "execute_result"
    }
   ],
   "source": [
    "dt[dt['Name'] == 'A'].head()"
   ]
  },
  {
   "cell_type": "code",
   "execution_count": null,
   "metadata": {
    "collapsed": true
   },
   "outputs": [],
   "source": []
  },
  {
   "cell_type": "code",
   "execution_count": 191,
   "metadata": {},
   "outputs": [
    {
     "data": {
      "text/plain": [
       "1    30.554793\n",
       "dtype: float64"
      ]
     },
     "execution_count": 191,
     "metadata": {},
     "output_type": "execute_result"
    }
   ],
   "source": [
    "np.mean(ref[ref['Name'] == 'AAL'].fillna(0), axis = 1)"
   ]
  },
  {
   "cell_type": "code",
   "execution_count": 195,
   "metadata": {},
   "outputs": [
    {
     "data": {
      "text/html": [
       "<div>\n",
       "<style>\n",
       "    .dataframe thead tr:only-child th {\n",
       "        text-align: right;\n",
       "    }\n",
       "\n",
       "    .dataframe thead th {\n",
       "        text-align: left;\n",
       "    }\n",
       "\n",
       "    .dataframe tbody tr th {\n",
       "        vertical-align: top;\n",
       "    }\n",
       "</style>\n",
       "<table border=\"1\" class=\"dataframe\">\n",
       "  <thead>\n",
       "    <tr style=\"text-align: right;\">\n",
       "      <th>Date</th>\n",
       "      <th>Name</th>\n",
       "      <th>2012-08-13</th>\n",
       "      <th>2012-08-14</th>\n",
       "      <th>2012-08-15</th>\n",
       "      <th>2012-08-16</th>\n",
       "      <th>2012-08-17</th>\n",
       "      <th>2012-08-20</th>\n",
       "      <th>2012-08-21</th>\n",
       "      <th>2012-08-22</th>\n",
       "      <th>2012-08-23</th>\n",
       "      <th>...</th>\n",
       "      <th>2017-07-31</th>\n",
       "      <th>2017-08-01</th>\n",
       "      <th>2017-08-02</th>\n",
       "      <th>2017-08-03</th>\n",
       "      <th>2017-08-04</th>\n",
       "      <th>2017-08-07</th>\n",
       "      <th>2017-08-08</th>\n",
       "      <th>2017-08-09</th>\n",
       "      <th>2017-08-10</th>\n",
       "      <th>2017-08-11</th>\n",
       "    </tr>\n",
       "  </thead>\n",
       "  <tbody>\n",
       "    <tr>\n",
       "      <th>0</th>\n",
       "      <td>A</td>\n",
       "      <td>40.38</td>\n",
       "      <td>40.49</td>\n",
       "      <td>40.48</td>\n",
       "      <td>37.15</td>\n",
       "      <td>37.22</td>\n",
       "      <td>36.68</td>\n",
       "      <td>37.13</td>\n",
       "      <td>37.46</td>\n",
       "      <td>37.47</td>\n",
       "      <td>...</td>\n",
       "      <td>59.79</td>\n",
       "      <td>59.94</td>\n",
       "      <td>60.20</td>\n",
       "      <td>60.37</td>\n",
       "      <td>60.13</td>\n",
       "      <td>60.87</td>\n",
       "      <td>60.14</td>\n",
       "      <td>59.68</td>\n",
       "      <td>58.57</td>\n",
       "      <td>59.33</td>\n",
       "    </tr>\n",
       "    <tr>\n",
       "      <th>1</th>\n",
       "      <td>AAL</td>\n",
       "      <td>NaN</td>\n",
       "      <td>NaN</td>\n",
       "      <td>NaN</td>\n",
       "      <td>NaN</td>\n",
       "      <td>NaN</td>\n",
       "      <td>NaN</td>\n",
       "      <td>NaN</td>\n",
       "      <td>NaN</td>\n",
       "      <td>NaN</td>\n",
       "      <td>...</td>\n",
       "      <td>50.44</td>\n",
       "      <td>51.06</td>\n",
       "      <td>50.45</td>\n",
       "      <td>50.55</td>\n",
       "      <td>50.80</td>\n",
       "      <td>50.58</td>\n",
       "      <td>50.00</td>\n",
       "      <td>49.40</td>\n",
       "      <td>48.55</td>\n",
       "      <td>48.35</td>\n",
       "    </tr>\n",
       "    <tr>\n",
       "      <th>2</th>\n",
       "      <td>AAP</td>\n",
       "      <td>69.11</td>\n",
       "      <td>70.67</td>\n",
       "      <td>71.30</td>\n",
       "      <td>72.46</td>\n",
       "      <td>72.87</td>\n",
       "      <td>71.58</td>\n",
       "      <td>72.00</td>\n",
       "      <td>72.20</td>\n",
       "      <td>71.96</td>\n",
       "      <td>...</td>\n",
       "      <td>112.01</td>\n",
       "      <td>114.05</td>\n",
       "      <td>114.48</td>\n",
       "      <td>110.53</td>\n",
       "      <td>111.01</td>\n",
       "      <td>109.49</td>\n",
       "      <td>109.39</td>\n",
       "      <td>109.18</td>\n",
       "      <td>106.13</td>\n",
       "      <td>107.34</td>\n",
       "    </tr>\n",
       "    <tr>\n",
       "      <th>3</th>\n",
       "      <td>AAPL</td>\n",
       "      <td>90.00</td>\n",
       "      <td>90.24</td>\n",
       "      <td>90.12</td>\n",
       "      <td>90.91</td>\n",
       "      <td>92.59</td>\n",
       "      <td>95.02</td>\n",
       "      <td>93.72</td>\n",
       "      <td>95.55</td>\n",
       "      <td>94.66</td>\n",
       "      <td>...</td>\n",
       "      <td>148.73</td>\n",
       "      <td>150.05</td>\n",
       "      <td>157.14</td>\n",
       "      <td>155.57</td>\n",
       "      <td>156.39</td>\n",
       "      <td>158.81</td>\n",
       "      <td>160.08</td>\n",
       "      <td>161.06</td>\n",
       "      <td>155.32</td>\n",
       "      <td>157.48</td>\n",
       "    </tr>\n",
       "    <tr>\n",
       "      <th>4</th>\n",
       "      <td>ABBV</td>\n",
       "      <td>NaN</td>\n",
       "      <td>NaN</td>\n",
       "      <td>NaN</td>\n",
       "      <td>NaN</td>\n",
       "      <td>NaN</td>\n",
       "      <td>NaN</td>\n",
       "      <td>NaN</td>\n",
       "      <td>NaN</td>\n",
       "      <td>NaN</td>\n",
       "      <td>...</td>\n",
       "      <td>69.91</td>\n",
       "      <td>70.38</td>\n",
       "      <td>70.71</td>\n",
       "      <td>70.99</td>\n",
       "      <td>70.99</td>\n",
       "      <td>71.22</td>\n",
       "      <td>71.47</td>\n",
       "      <td>72.02</td>\n",
       "      <td>70.44</td>\n",
       "      <td>70.63</td>\n",
       "    </tr>\n",
       "  </tbody>\n",
       "</table>\n",
       "<p>5 rows × 1259 columns</p>\n",
       "</div>"
      ],
      "text/plain": [
       "Date  Name  2012-08-13  2012-08-14  2012-08-15  2012-08-16  2012-08-17  \\\n",
       "0        A       40.38       40.49       40.48       37.15       37.22   \n",
       "1      AAL         NaN         NaN         NaN         NaN         NaN   \n",
       "2      AAP       69.11       70.67       71.30       72.46       72.87   \n",
       "3     AAPL       90.00       90.24       90.12       90.91       92.59   \n",
       "4     ABBV         NaN         NaN         NaN         NaN         NaN   \n",
       "\n",
       "Date  2012-08-20  2012-08-21  2012-08-22  2012-08-23     ...      2017-07-31  \\\n",
       "0          36.68       37.13       37.46       37.47     ...           59.79   \n",
       "1            NaN         NaN         NaN         NaN     ...           50.44   \n",
       "2          71.58       72.00       72.20       71.96     ...          112.01   \n",
       "3          95.02       93.72       95.55       94.66     ...          148.73   \n",
       "4            NaN         NaN         NaN         NaN     ...           69.91   \n",
       "\n",
       "Date  2017-08-01  2017-08-02  2017-08-03  2017-08-04  2017-08-07  2017-08-08  \\\n",
       "0          59.94       60.20       60.37       60.13       60.87       60.14   \n",
       "1          51.06       50.45       50.55       50.80       50.58       50.00   \n",
       "2         114.05      114.48      110.53      111.01      109.49      109.39   \n",
       "3         150.05      157.14      155.57      156.39      158.81      160.08   \n",
       "4          70.38       70.71       70.99       70.99       71.22       71.47   \n",
       "\n",
       "Date  2017-08-09  2017-08-10  2017-08-11  \n",
       "0          59.68       58.57       59.33  \n",
       "1          49.40       48.55       48.35  \n",
       "2         109.18      106.13      107.34  \n",
       "3         161.06      155.32      157.48  \n",
       "4          72.02       70.44       70.63  \n",
       "\n",
       "[5 rows x 1259 columns]"
      ]
     },
     "execution_count": 195,
     "metadata": {},
     "output_type": "execute_result"
    }
   ],
   "source": [
    "# data restructure \n",
    "\n",
    "refold = pd.pivot_table(dt, index = 'Name', columns = 'Date', values = 'Close').reset_index()\n",
    "refold.head()"
   ]
  },
  {
   "cell_type": "code",
   "execution_count": 196,
   "metadata": {},
   "outputs": [],
   "source": [
    "# replace NaN with row average\n",
    "\n",
    "ref = refold.T.fillna(refold.mean(axis=1)).T"
   ]
  },
  {
   "cell_type": "code",
   "execution_count": null,
   "metadata": {
    "collapsed": true
   },
   "outputs": [],
   "source": []
  },
  {
   "cell_type": "code",
   "execution_count": 509,
   "metadata": {},
   "outputs": [
    {
     "data": {
      "text/plain": [
       "0"
      ]
     },
     "execution_count": 509,
     "metadata": {},
     "output_type": "execute_result"
    }
   ],
   "source": [
    "# on 2017-08-11, the last recorded date for closing stock price, every company has an entry\n",
    "# try to predict the closing stock price on this day \n",
    "\n",
    "sum(ref[ref.columns[-1]].isnull())"
   ]
  },
  {
   "cell_type": "code",
   "execution_count": null,
   "metadata": {
    "collapsed": true
   },
   "outputs": [],
   "source": []
  },
  {
   "cell_type": "code",
   "execution_count": 510,
   "metadata": {
    "collapsed": true
   },
   "outputs": [],
   "source": [
    "y = ref[ref.columns[-1]]\n",
    "\n",
    "x = ref[ref.columns[1:-1]]\n",
    "\n",
    "x_train, x_test, y_train, y_test = train_test_split(x, y, test_size = 0.2, random_state = 0) "
   ]
  },
  {
   "cell_type": "code",
   "execution_count": 201,
   "metadata": {},
   "outputs": [],
   "source": [
    "# x_train"
   ]
  },
  {
   "cell_type": "code",
   "execution_count": null,
   "metadata": {},
   "outputs": [],
   "source": []
  },
  {
   "cell_type": "code",
   "execution_count": 116,
   "metadata": {
    "collapsed": true
   },
   "outputs": [],
   "source": [
    "# from keras.models import Sequential\n",
    "# from keras.layers import Dense\n",
    "\n",
    "# from sklearn.model_selection import train_test_split\n",
    "\n",
    "\n",
    "# y = dt['Close']\n",
    "# x = pd.to_datetime(dt['Date'])\n",
    "\n",
    "# x_train, x_test, y_train, y_test = train_test_split(x, y, test_size = 0.2, random_state = 0) \n",
    "\n",
    "\n",
    "\n",
    "# model = Sequential()\n",
    "# model.add(Dense(8, input_dim = 1, activation = 'relu'))\n",
    "# model.add(Dense(1))\n",
    "# model.compile(loss='mean_squared_error', optimizer = 'sgd')\n",
    "# model.fit(x_train, y_train, nb_epoch = 20, batch_size = 2, verbose = 2)"
   ]
  },
  {
   "cell_type": "code",
   "execution_count": null,
   "metadata": {
    "collapsed": true
   },
   "outputs": [],
   "source": []
  },
  {
   "cell_type": "code",
   "execution_count": null,
   "metadata": {
    "collapsed": true
   },
   "outputs": [],
   "source": []
  },
  {
   "cell_type": "code",
   "execution_count": null,
   "metadata": {
    "collapsed": true
   },
   "outputs": [],
   "source": []
  },
  {
   "cell_type": "code",
   "execution_count": 299,
   "metadata": {
    "collapsed": true
   },
   "outputs": [],
   "source": [
    "import matplotlib.pyplot as plt\n",
    "% matplotlib inline\n",
    "import seaborn as sns"
   ]
  },
  {
   "cell_type": "code",
   "execution_count": 202,
   "metadata": {
    "collapsed": true
   },
   "outputs": [],
   "source": [
    "# KNN \n",
    "from sklearn.neighbors import KNeighborsRegressor"
   ]
  },
  {
   "cell_type": "code",
   "execution_count": 203,
   "metadata": {},
   "outputs": [
    {
     "data": {
      "text/plain": [
       "KNeighborsRegressor(algorithm='auto', leaf_size=30, metric='minkowski',\n",
       "          metric_params=None, n_jobs=1, n_neighbors=10, p=2,\n",
       "          weights='uniform')"
      ]
     },
     "execution_count": 203,
     "metadata": {},
     "output_type": "execute_result"
    }
   ],
   "source": [
    "kreg = KNeighborsRegressor(n_neighbors = 10)\n",
    "kreg.fit(x_train, y_train)"
   ]
  },
  {
   "cell_type": "code",
   "execution_count": 219,
   "metadata": {},
   "outputs": [
    {
     "name": "stdout",
     "output_type": "stream",
     "text": [
      "(402,)\n",
      "(101,)\n"
     ]
    }
   ],
   "source": [
    "print(y_train.shape)\n",
    "\n",
    "# testing set index should not exceed 100 \n",
    "print(y_test.shape)"
   ]
  },
  {
   "cell_type": "code",
   "execution_count": 222,
   "metadata": {},
   "outputs": [
    {
     "data": {
      "text/plain": [
       "'2017-08-10'"
      ]
     },
     "execution_count": 222,
     "metadata": {},
     "output_type": "execute_result"
    }
   ],
   "source": [
    "x_train.columns[-1]"
   ]
  },
  {
   "cell_type": "code",
   "execution_count": 223,
   "metadata": {},
   "outputs": [
    {
     "name": "stdout",
     "output_type": "stream",
     "text": [
      "28.82\n",
      "29.13\n",
      "[24.871000000000002]\n"
     ]
    },
    {
     "name": "stderr",
     "output_type": "stream",
     "text": [
      "C:\\Users\\1098071\\AppData\\Local\\Continuum\\Anaconda3\\lib\\site-packages\\sklearn\\utils\\validation.py:395: DeprecationWarning: Passing 1d arrays as data is deprecated in 0.17 and will raise ValueError in 0.19. Reshape your data either using X.reshape(-1, 1) if your data has a single feature or X.reshape(1, -1) if it contains a single sample.\n",
      "  DeprecationWarning)\n"
     ]
    }
   ],
   "source": [
    "# prediction check\n",
    "\n",
    "comp = 100\n",
    "print (y_test.iloc[comp])\n",
    "# stock price one day before the expected predicting date \n",
    "print (x_test.iloc[comp][x_train.columns[-1]])\n",
    "\n",
    "print (kreg.predict(x_test.iloc[comp]))"
   ]
  },
  {
   "cell_type": "code",
   "execution_count": 213,
   "metadata": {},
   "outputs": [
    {
     "data": {
      "text/html": [
       "<div>\n",
       "<style>\n",
       "    .dataframe thead tr:only-child th {\n",
       "        text-align: right;\n",
       "    }\n",
       "\n",
       "    .dataframe thead th {\n",
       "        text-align: left;\n",
       "    }\n",
       "\n",
       "    .dataframe tbody tr th {\n",
       "        vertical-align: top;\n",
       "    }\n",
       "</style>\n",
       "<table border=\"1\" class=\"dataframe\">\n",
       "  <thead>\n",
       "    <tr style=\"text-align: right;\">\n",
       "      <th>Date</th>\n",
       "      <th>2012-08-13</th>\n",
       "      <th>2012-08-14</th>\n",
       "      <th>2012-08-15</th>\n",
       "      <th>2012-08-16</th>\n",
       "      <th>2012-08-17</th>\n",
       "      <th>2012-08-20</th>\n",
       "      <th>2012-08-21</th>\n",
       "      <th>2012-08-22</th>\n",
       "      <th>2012-08-23</th>\n",
       "      <th>2012-08-24</th>\n",
       "      <th>...</th>\n",
       "      <th>2017-07-28</th>\n",
       "      <th>2017-07-31</th>\n",
       "      <th>2017-08-01</th>\n",
       "      <th>2017-08-02</th>\n",
       "      <th>2017-08-03</th>\n",
       "      <th>2017-08-04</th>\n",
       "      <th>2017-08-07</th>\n",
       "      <th>2017-08-08</th>\n",
       "      <th>2017-08-09</th>\n",
       "      <th>2017-08-10</th>\n",
       "    </tr>\n",
       "  </thead>\n",
       "  <tbody>\n",
       "    <tr>\n",
       "      <th>261</th>\n",
       "      <td>18.92</td>\n",
       "      <td>18.07</td>\n",
       "      <td>18.44</td>\n",
       "      <td>18.59</td>\n",
       "      <td>18.45</td>\n",
       "      <td>18.33</td>\n",
       "      <td>18.2</td>\n",
       "      <td>18.26</td>\n",
       "      <td>18.23</td>\n",
       "      <td>17.74</td>\n",
       "      <td>...</td>\n",
       "      <td>27.77</td>\n",
       "      <td>27.95</td>\n",
       "      <td>28.27</td>\n",
       "      <td>28.22</td>\n",
       "      <td>28.34</td>\n",
       "      <td>28.14</td>\n",
       "      <td>28.29</td>\n",
       "      <td>28.25</td>\n",
       "      <td>28.33</td>\n",
       "      <td>27.44</td>\n",
       "    </tr>\n",
       "    <tr>\n",
       "      <th>71</th>\n",
       "      <td>21.01</td>\n",
       "      <td>21</td>\n",
       "      <td>21.32</td>\n",
       "      <td>21.57</td>\n",
       "      <td>21.53</td>\n",
       "      <td>21.46</td>\n",
       "      <td>21.22</td>\n",
       "      <td>21.38</td>\n",
       "      <td>21.08</td>\n",
       "      <td>21.06</td>\n",
       "      <td>...</td>\n",
       "      <td>41.89</td>\n",
       "      <td>41.9</td>\n",
       "      <td>41.99</td>\n",
       "      <td>41.88</td>\n",
       "      <td>40.61</td>\n",
       "      <td>40.56</td>\n",
       "      <td>41.17</td>\n",
       "      <td>41.09</td>\n",
       "      <td>40.28</td>\n",
       "      <td>40.05</td>\n",
       "    </tr>\n",
       "    <tr>\n",
       "      <th>477</th>\n",
       "      <td>44.32</td>\n",
       "      <td>44</td>\n",
       "      <td>44.17</td>\n",
       "      <td>45.41</td>\n",
       "      <td>45.48</td>\n",
       "      <td>45.32</td>\n",
       "      <td>44.66</td>\n",
       "      <td>44.5</td>\n",
       "      <td>43.48</td>\n",
       "      <td>43.63</td>\n",
       "      <td>...</td>\n",
       "      <td>84.97</td>\n",
       "      <td>85.12</td>\n",
       "      <td>85.67</td>\n",
       "      <td>84.37</td>\n",
       "      <td>84.51</td>\n",
       "      <td>81.17</td>\n",
       "      <td>80.97</td>\n",
       "      <td>81.34</td>\n",
       "      <td>80.99</td>\n",
       "      <td>79.19</td>\n",
       "    </tr>\n",
       "    <tr>\n",
       "      <th>6</th>\n",
       "      <td>33</td>\n",
       "      <td>33.08</td>\n",
       "      <td>33.21</td>\n",
       "      <td>33.22</td>\n",
       "      <td>32.96</td>\n",
       "      <td>32.86</td>\n",
       "      <td>32.65</td>\n",
       "      <td>32.77</td>\n",
       "      <td>32.66</td>\n",
       "      <td>32.92</td>\n",
       "      <td>...</td>\n",
       "      <td>49.61</td>\n",
       "      <td>49.18</td>\n",
       "      <td>49.15</td>\n",
       "      <td>49.23</td>\n",
       "      <td>49.16</td>\n",
       "      <td>49.26</td>\n",
       "      <td>49.3</td>\n",
       "      <td>48.88</td>\n",
       "      <td>48.77</td>\n",
       "      <td>48.06</td>\n",
       "    </tr>\n",
       "    <tr>\n",
       "      <th>415</th>\n",
       "      <td>60.87</td>\n",
       "      <td>59.31</td>\n",
       "      <td>59.13</td>\n",
       "      <td>58.6</td>\n",
       "      <td>58.65</td>\n",
       "      <td>58.37</td>\n",
       "      <td>58.4</td>\n",
       "      <td>58.63</td>\n",
       "      <td>58.8</td>\n",
       "      <td>59.62</td>\n",
       "      <td>...</td>\n",
       "      <td>86.91</td>\n",
       "      <td>87.41</td>\n",
       "      <td>87.57</td>\n",
       "      <td>87.97</td>\n",
       "      <td>88.05</td>\n",
       "      <td>87.29</td>\n",
       "      <td>87.66</td>\n",
       "      <td>87.8</td>\n",
       "      <td>87.26</td>\n",
       "      <td>86.83</td>\n",
       "    </tr>\n",
       "  </tbody>\n",
       "</table>\n",
       "<p>5 rows × 1257 columns</p>\n",
       "</div>"
      ],
      "text/plain": [
       "Date 2012-08-13 2012-08-14 2012-08-15 2012-08-16 2012-08-17 2012-08-20  \\\n",
       "261       18.92      18.07      18.44      18.59      18.45      18.33   \n",
       "71        21.01         21      21.32      21.57      21.53      21.46   \n",
       "477       44.32         44      44.17      45.41      45.48      45.32   \n",
       "6            33      33.08      33.21      33.22      32.96      32.86   \n",
       "415       60.87      59.31      59.13       58.6      58.65      58.37   \n",
       "\n",
       "Date 2012-08-21 2012-08-22 2012-08-23 2012-08-24    ...     2017-07-28  \\\n",
       "261        18.2      18.26      18.23      17.74    ...          27.77   \n",
       "71        21.22      21.38      21.08      21.06    ...          41.89   \n",
       "477       44.66       44.5      43.48      43.63    ...          84.97   \n",
       "6         32.65      32.77      32.66      32.92    ...          49.61   \n",
       "415        58.4      58.63       58.8      59.62    ...          86.91   \n",
       "\n",
       "Date 2017-07-31 2017-08-01 2017-08-02 2017-08-03 2017-08-04 2017-08-07  \\\n",
       "261       27.95      28.27      28.22      28.34      28.14      28.29   \n",
       "71         41.9      41.99      41.88      40.61      40.56      41.17   \n",
       "477       85.12      85.67      84.37      84.51      81.17      80.97   \n",
       "6         49.18      49.15      49.23      49.16      49.26       49.3   \n",
       "415       87.41      87.57      87.97      88.05      87.29      87.66   \n",
       "\n",
       "Date 2017-08-08 2017-08-09 2017-08-10  \n",
       "261       28.25      28.33      27.44  \n",
       "71        41.09      40.28      40.05  \n",
       "477       81.34      80.99      79.19  \n",
       "6         48.88      48.77      48.06  \n",
       "415        87.8      87.26      86.83  \n",
       "\n",
       "[5 rows x 1257 columns]"
      ]
     },
     "execution_count": 213,
     "metadata": {},
     "output_type": "execute_result"
    }
   ],
   "source": [
    "x_train[:5]"
   ]
  },
  {
   "cell_type": "code",
   "execution_count": null,
   "metadata": {
    "collapsed": true
   },
   "outputs": [],
   "source": []
  },
  {
   "cell_type": "code",
   "execution_count": null,
   "metadata": {
    "collapsed": true
   },
   "outputs": [],
   "source": []
  },
  {
   "cell_type": "markdown",
   "metadata": {},
   "source": [
    "## K nearest neighbour regression Parameter tuning"
   ]
  },
  {
   "cell_type": "code",
   "execution_count": 511,
   "metadata": {},
   "outputs": [],
   "source": [
    "from sklearn.model_selection import GridSearchCV\n",
    "from sklearn.model_selection import RandomizedSearchCV\n",
    "from sklearn.model_selection import cross_val_score\n",
    "\n",
    "from sklearn.metrics import make_scorer, mean_squared_error"
   ]
  },
  {
   "cell_type": "code",
   "execution_count": 512,
   "metadata": {},
   "outputs": [
    {
     "data": {
      "text/plain": [
       "GridSearchCV(cv=None, error_score='raise',\n",
       "       estimator=KNeighborsRegressor(algorithm='auto', leaf_size=30, metric='minkowski',\n",
       "          metric_params=None, n_jobs=1, n_neighbors=5, p=2,\n",
       "          weights='uniform'),\n",
       "       fit_params={}, iid=True, n_jobs=1,\n",
       "       param_grid={'n_neighbors': array([ 1,  2,  3,  4,  5,  6,  7,  8,  9, 10]), 'metric': ['euclidean']},\n",
       "       pre_dispatch='2*n_jobs', refit=True, return_train_score=True,\n",
       "       scoring=None, verbose=0)"
      ]
     },
     "execution_count": 512,
     "metadata": {},
     "output_type": "execute_result"
    }
   ],
   "source": [
    "# set of hyperparameters KNN regressor \n",
    "\n",
    "# model.get_params().keys() - check parameter names in the current model\n",
    "params = {'n_neighbors': np.arange(1, 11, 1), 'metric': ['euclidean']}\n",
    "\n",
    "# grid search approach\n",
    "\n",
    "model = KNeighborsRegressor()\n",
    "grid = GridSearchCV(model, params)\n",
    "\n",
    "grid.fit(x_train, y_train)\n"
   ]
  },
  {
   "cell_type": "code",
   "execution_count": 513,
   "metadata": {},
   "outputs": [
    {
     "name": "stdout",
     "output_type": "stream",
     "text": [
      "{'metric': 'euclidean', 'n_neighbors': 3}\n",
      "0.745339441866\n"
     ]
    }
   ],
   "source": [
    "r2 = grid.score(x_test, y_test)\n",
    "\n",
    "# best parameter \n",
    "print (grid.best_params_)\n",
    "\n",
    "# score here is the R^2 correlation of coefficients\n",
    "print (grid.best_score_)"
   ]
  },
  {
   "cell_type": "code",
   "execution_count": 319,
   "metadata": {},
   "outputs": [],
   "source": [
    "# grid.cv_results_"
   ]
  },
  {
   "cell_type": "code",
   "execution_count": null,
   "metadata": {},
   "outputs": [],
   "source": [
    "\n"
   ]
  },
  {
   "cell_type": "code",
   "execution_count": 327,
   "metadata": {},
   "outputs": [
    {
     "data": {
      "text/plain": [
       "KNeighborsRegressor(algorithm='auto', leaf_size=30, metric='minkowski',\n",
       "          metric_params=None, n_jobs=1, n_neighbors=3, p=2,\n",
       "          weights='uniform')"
      ]
     },
     "execution_count": 327,
     "metadata": {},
     "output_type": "execute_result"
    }
   ],
   "source": [
    "tuned = KNeighborsRegressor(n_neighbors = 3)\n",
    "tuned.fit(x, y)"
   ]
  },
  {
   "cell_type": "code",
   "execution_count": 328,
   "metadata": {},
   "outputs": [
    {
     "name": "stdout",
     "output_type": "stream",
     "text": [
      "28.82\n",
      "29.13\n",
      "[27.276666666666667]\n"
     ]
    },
    {
     "name": "stderr",
     "output_type": "stream",
     "text": [
      "C:\\Users\\1098071\\AppData\\Local\\Continuum\\Anaconda3\\lib\\site-packages\\sklearn\\utils\\validation.py:395: DeprecationWarning: Passing 1d arrays as data is deprecated in 0.17 and will raise ValueError in 0.19. Reshape your data either using X.reshape(-1, 1) if your data has a single feature or X.reshape(1, -1) if it contains a single sample.\n",
      "  DeprecationWarning)\n"
     ]
    }
   ],
   "source": [
    "# prediction check\n",
    "\n",
    "comp = 100\n",
    "print (y_test.iloc[comp])\n",
    "# stock price one day before the expected predicting date \n",
    "print (x_test.iloc[comp][x_train.columns[-1]])\n",
    "\n",
    "print (tuned.predict(x_test.iloc[comp]))"
   ]
  },
  {
   "cell_type": "code",
   "execution_count": null,
   "metadata": {
    "collapsed": true
   },
   "outputs": [],
   "source": []
  },
  {
   "cell_type": "code",
   "execution_count": null,
   "metadata": {
    "collapsed": true
   },
   "outputs": [],
   "source": []
  },
  {
   "cell_type": "code",
   "execution_count": 307,
   "metadata": {},
   "outputs": [
    {
     "data": {
      "text/plain": [
       "49"
      ]
     },
     "execution_count": 307,
     "metadata": {},
     "output_type": "execute_result"
    }
   ],
   "source": [
    "# grid search with R^2 scoring \n",
    "\n",
    "neighbors = np.arange(1, 51, 2)\n",
    "r2_score = []\n",
    "\n",
    "for k in neighbors:\n",
    "    knn = KNeighborsRegressor(n_neighbors = k)\n",
    "    scores = cross_val_score(knn, x_train, y_train, cv = 10, scoring = 'r2')\n",
    "    r2_score.append(scores.mean())\n",
    "    \n",
    "    \n",
    "# optimal number of neighbours\n",
    "neighbors[r2_score.index(min(r2_score))]"
   ]
  },
  {
   "cell_type": "code",
   "execution_count": 308,
   "metadata": {},
   "outputs": [
    {
     "data": {
      "text/plain": [
       "<matplotlib.text.Text at 0x1bb2da90>"
      ]
     },
     "execution_count": 308,
     "metadata": {},
     "output_type": "execute_result"
    },
    {
     "data": {
      "image/png": "[encoded data removed]",
      "text/plain": [
       "<matplotlib.figure.Figure at 0xb9a40b8>"
      ]
     },
     "metadata": {},
     "output_type": "display_data"
    }
   ],
   "source": [
    "plt.plot(neighbors, r2_score)\n",
    "plt.xlabel('number of neighbours')"
   ]
  },
  {
   "cell_type": "code",
   "execution_count": null,
   "metadata": {
    "collapsed": true
   },
   "outputs": [],
   "source": []
  },
  {
   "cell_type": "code",
   "execution_count": null,
   "metadata": {
    "collapsed": true
   },
   "outputs": [],
   "source": []
  },
  {
   "cell_type": "code",
   "execution_count": 515,
   "metadata": {},
   "outputs": [],
   "source": [
    "# # grid search with defiend MSE\n",
    "\n",
    "# MSE = make_scorer(mean_squared_error)\n",
    "\n",
    "# neighbours = np.arange(1, 41, 2)\n",
    "# mse_error = []\n",
    "\n",
    "# for k in neighbours:\n",
    "#     knn = KNeighborsRegressor(n_neighbors = k)\n",
    "#     scores = cross_val_score(knn, x_train, y_train, cv = 5, scoring = MSE)\n",
    "#     mse_error.append(scores.mean())\n",
    "    \n",
    "    \n",
    "# # optimal number of neighbours from grid search and self defined loss function \n",
    "\n",
    "# neighbours[mse_error.index(min(mse_error))]"
   ]
  },
  {
   "cell_type": "code",
   "execution_count": null,
   "metadata": {
    "collapsed": true
   },
   "outputs": [],
   "source": []
  },
  {
   "cell_type": "code",
   "execution_count": null,
   "metadata": {
    "collapsed": true
   },
   "outputs": [],
   "source": []
  },
  {
   "cell_type": "code",
   "execution_count": 280,
   "metadata": {},
   "outputs": [
    {
     "data": {
      "text/plain": [
       "(402, 1257)"
      ]
     },
     "execution_count": 280,
     "metadata": {},
     "output_type": "execute_result"
    }
   ],
   "source": [
    "# high dimensional data and KNN\n",
    "\n",
    "x_train.shape"
   ]
  },
  {
   "cell_type": "code",
   "execution_count": null,
   "metadata": {
    "collapsed": true
   },
   "outputs": [],
   "source": []
  },
  {
   "cell_type": "code",
   "execution_count": null,
   "metadata": {
    "collapsed": true
   },
   "outputs": [],
   "source": []
  },
  {
   "cell_type": "code",
   "execution_count": 330,
   "metadata": {},
   "outputs": [
    {
     "name": "stdout",
     "output_type": "stream",
     "text": [
      "{'n_neighbors': 3, 'metric': 'euclidean'}\n"
     ]
    }
   ],
   "source": [
    "# randomnized search approach \n",
    "\n",
    "randgrid = RandomizedSearchCV(model, params)\n",
    "randgrid.fit(x_train, y_train)\n",
    "\n",
    "print (randgrid.best_params_)"
   ]
  },
  {
   "cell_type": "code",
   "execution_count": null,
   "metadata": {
    "collapsed": true
   },
   "outputs": [],
   "source": []
  },
  {
   "cell_type": "markdown",
   "metadata": {},
   "source": [
    "## what will happen if perform PCA before KNN "
   ]
  },
  {
   "cell_type": "code",
   "execution_count": 334,
   "metadata": {
    "collapsed": true
   },
   "outputs": [],
   "source": [
    "from sklearn.decomposition import PCA\n"
   ]
  },
  {
   "cell_type": "code",
   "execution_count": 590,
   "metadata": {},
   "outputs": [],
   "source": [
    "# normalization before PCA\n",
    "x_train, x_test, y_train, y_test = train_test_split(x, y, test_size = 0.2, random_state = 0)\n",
    "\n",
    "# scaling \n",
    "x_mean = np.mean(x, axis = 0)\n",
    "x_scaled = x - x_mean\n",
    "x_train_scaled = x_train - x_mean\n",
    "x_test_scaled = x_test - x_mean"
   ]
  },
  {
   "cell_type": "code",
   "execution_count": null,
   "metadata": {
    "collapsed": true
   },
   "outputs": [],
   "source": []
  },
  {
   "cell_type": "code",
   "execution_count": 537,
   "metadata": {
    "collapsed": true
   },
   "outputs": [],
   "source": [
    "# PCA summary function - where the input variable pca is a PCA object\n",
    "\n",
    "def pca_summary(pca, standardised_data, out = True):\n",
    "    names = [\"PC\" + str(i) for i in range(1, len(pca.explained_variance_ratio_) +  1)]\n",
    "    a = list(np.std(pca.transform(standardised_data), axis = 0))\n",
    "    b = list(pca.explained_variance_ratio_)\n",
    "    c = [np.sum(pca.explained_variance_ratio_[:i]) for i in range(1, len(pca.explained_variance_ratio_) + 1)]\n",
    "    columns = pd.MultiIndex.from_tuples([(\"sdev\", \"Standard deviation\"), (\"varprop\", \"Proportion of Variance\"), (\"cumprop\", \"Cumulative Proportion\")])\n",
    "    summary = pd.DataFrame(list(zip(a, b, c)), index = names, columns = columns)\n",
    "    if out:\n",
    "        print(\"Importance of components:\")\n",
    "#         display(summary)\n",
    "    return summary"
   ]
  },
  {
   "cell_type": "code",
   "execution_count": 586,
   "metadata": {},
   "outputs": [
    {
     "name": "stdout",
     "output_type": "stream",
     "text": [
      "Importance of components:\n"
     ]
    },
    {
     "data": {
      "text/html": [
       "<div>\n",
       "<style>\n",
       "    .dataframe thead tr:only-child th {\n",
       "        text-align: right;\n",
       "    }\n",
       "\n",
       "    .dataframe thead th {\n",
       "        text-align: left;\n",
       "    }\n",
       "\n",
       "    .dataframe tbody tr th {\n",
       "        vertical-align: top;\n",
       "    }\n",
       "</style>\n",
       "<table border=\"1\" class=\"dataframe\">\n",
       "  <thead>\n",
       "    <tr>\n",
       "      <th></th>\n",
       "      <th>sdev</th>\n",
       "      <th>varprop</th>\n",
       "      <th>cumprop</th>\n",
       "    </tr>\n",
       "    <tr>\n",
       "      <th></th>\n",
       "      <th>Standard deviation</th>\n",
       "      <th>Proportion of Variance</th>\n",
       "      <th>Cumulative Proportion</th>\n",
       "    </tr>\n",
       "  </thead>\n",
       "  <tbody>\n",
       "    <tr>\n",
       "      <th>PC1</th>\n",
       "      <td>2.991583e+03</td>\n",
       "      <td>9.506357e-01</td>\n",
       "      <td>0.950636</td>\n",
       "    </tr>\n",
       "    <tr>\n",
       "      <th>PC2</th>\n",
       "      <td>4.865658e+02</td>\n",
       "      <td>2.514753e-02</td>\n",
       "      <td>0.975783</td>\n",
       "    </tr>\n",
       "    <tr>\n",
       "      <th>PC3</th>\n",
       "      <td>3.220231e+02</td>\n",
       "      <td>1.101504e-02</td>\n",
       "      <td>0.986798</td>\n",
       "    </tr>\n",
       "    <tr>\n",
       "      <th>PC4</th>\n",
       "      <td>2.187830e+02</td>\n",
       "      <td>5.084393e-03</td>\n",
       "      <td>0.991883</td>\n",
       "    </tr>\n",
       "    <tr>\n",
       "      <th>PC5</th>\n",
       "      <td>1.303453e+02</td>\n",
       "      <td>1.804689e-03</td>\n",
       "      <td>0.993687</td>\n",
       "    </tr>\n",
       "    <tr>\n",
       "      <th>PC6</th>\n",
       "      <td>1.136482e+02</td>\n",
       "      <td>1.371946e-03</td>\n",
       "      <td>0.995059</td>\n",
       "    </tr>\n",
       "    <tr>\n",
       "      <th>PC7</th>\n",
       "      <td>9.528587e+01</td>\n",
       "      <td>9.644263e-04</td>\n",
       "      <td>0.996024</td>\n",
       "    </tr>\n",
       "    <tr>\n",
       "      <th>PC8</th>\n",
       "      <td>7.098698e+01</td>\n",
       "      <td>5.352658e-04</td>\n",
       "      <td>0.996559</td>\n",
       "    </tr>\n",
       "    <tr>\n",
       "      <th>PC9</th>\n",
       "      <td>6.789732e+01</td>\n",
       "      <td>4.896856e-04</td>\n",
       "      <td>0.997049</td>\n",
       "    </tr>\n",
       "    <tr>\n",
       "      <th>PC10</th>\n",
       "      <td>6.522070e+01</td>\n",
       "      <td>4.518383e-04</td>\n",
       "      <td>0.997501</td>\n",
       "    </tr>\n",
       "    <tr>\n",
       "      <th>PC11</th>\n",
       "      <td>5.873349e+01</td>\n",
       "      <td>3.664238e-04</td>\n",
       "      <td>0.997867</td>\n",
       "    </tr>\n",
       "    <tr>\n",
       "      <th>PC12</th>\n",
       "      <td>5.107368e+01</td>\n",
       "      <td>2.770808e-04</td>\n",
       "      <td>0.998144</td>\n",
       "    </tr>\n",
       "    <tr>\n",
       "      <th>PC13</th>\n",
       "      <td>4.484845e+01</td>\n",
       "      <td>2.136520e-04</td>\n",
       "      <td>0.998358</td>\n",
       "    </tr>\n",
       "    <tr>\n",
       "      <th>PC14</th>\n",
       "      <td>4.182056e+01</td>\n",
       "      <td>1.857769e-04</td>\n",
       "      <td>0.998543</td>\n",
       "    </tr>\n",
       "    <tr>\n",
       "      <th>PC15</th>\n",
       "      <td>4.077959e+01</td>\n",
       "      <td>1.766436e-04</td>\n",
       "      <td>0.998720</td>\n",
       "    </tr>\n",
       "    <tr>\n",
       "      <th>PC16</th>\n",
       "      <td>3.527242e+01</td>\n",
       "      <td>1.321547e-04</td>\n",
       "      <td>0.998852</td>\n",
       "    </tr>\n",
       "    <tr>\n",
       "      <th>PC17</th>\n",
       "      <td>3.268139e+01</td>\n",
       "      <td>1.134522e-04</td>\n",
       "      <td>0.998966</td>\n",
       "    </tr>\n",
       "    <tr>\n",
       "      <th>PC18</th>\n",
       "      <td>2.824700e+01</td>\n",
       "      <td>8.475332e-05</td>\n",
       "      <td>0.999050</td>\n",
       "    </tr>\n",
       "    <tr>\n",
       "      <th>PC19</th>\n",
       "      <td>2.634074e+01</td>\n",
       "      <td>7.370009e-05</td>\n",
       "      <td>0.999124</td>\n",
       "    </tr>\n",
       "    <tr>\n",
       "      <th>PC20</th>\n",
       "      <td>2.505139e+01</td>\n",
       "      <td>6.666157e-05</td>\n",
       "      <td>0.999191</td>\n",
       "    </tr>\n",
       "    <tr>\n",
       "      <th>PC21</th>\n",
       "      <td>2.409171e+01</td>\n",
       "      <td>6.165200e-05</td>\n",
       "      <td>0.999252</td>\n",
       "    </tr>\n",
       "    <tr>\n",
       "      <th>PC22</th>\n",
       "      <td>2.198863e+01</td>\n",
       "      <td>5.135801e-05</td>\n",
       "      <td>0.999304</td>\n",
       "    </tr>\n",
       "    <tr>\n",
       "      <th>PC23</th>\n",
       "      <td>2.063942e+01</td>\n",
       "      <td>4.524880e-05</td>\n",
       "      <td>0.999349</td>\n",
       "    </tr>\n",
       "    <tr>\n",
       "      <th>PC24</th>\n",
       "      <td>1.956607e+01</td>\n",
       "      <td>4.066484e-05</td>\n",
       "      <td>0.999390</td>\n",
       "    </tr>\n",
       "    <tr>\n",
       "      <th>PC25</th>\n",
       "      <td>1.903627e+01</td>\n",
       "      <td>3.849245e-05</td>\n",
       "      <td>0.999428</td>\n",
       "    </tr>\n",
       "    <tr>\n",
       "      <th>PC26</th>\n",
       "      <td>1.815257e+01</td>\n",
       "      <td>3.500164e-05</td>\n",
       "      <td>0.999463</td>\n",
       "    </tr>\n",
       "    <tr>\n",
       "      <th>PC27</th>\n",
       "      <td>1.720759e+01</td>\n",
       "      <td>3.145228e-05</td>\n",
       "      <td>0.999495</td>\n",
       "    </tr>\n",
       "    <tr>\n",
       "      <th>PC28</th>\n",
       "      <td>1.600236e+01</td>\n",
       "      <td>2.720071e-05</td>\n",
       "      <td>0.999522</td>\n",
       "    </tr>\n",
       "    <tr>\n",
       "      <th>PC29</th>\n",
       "      <td>1.521535e+01</td>\n",
       "      <td>2.459100e-05</td>\n",
       "      <td>0.999547</td>\n",
       "    </tr>\n",
       "    <tr>\n",
       "      <th>PC30</th>\n",
       "      <td>1.466721e+01</td>\n",
       "      <td>2.285110e-05</td>\n",
       "      <td>0.999569</td>\n",
       "    </tr>\n",
       "    <tr>\n",
       "      <th>...</th>\n",
       "      <td>...</td>\n",
       "      <td>...</td>\n",
       "      <td>...</td>\n",
       "    </tr>\n",
       "    <tr>\n",
       "      <th>PC373</th>\n",
       "      <td>2.760516e-01</td>\n",
       "      <td>8.094548e-09</td>\n",
       "      <td>1.000000</td>\n",
       "    </tr>\n",
       "    <tr>\n",
       "      <th>PC374</th>\n",
       "      <td>2.747802e-01</td>\n",
       "      <td>8.020161e-09</td>\n",
       "      <td>1.000000</td>\n",
       "    </tr>\n",
       "    <tr>\n",
       "      <th>PC375</th>\n",
       "      <td>2.715228e-01</td>\n",
       "      <td>7.831132e-09</td>\n",
       "      <td>1.000000</td>\n",
       "    </tr>\n",
       "    <tr>\n",
       "      <th>PC376</th>\n",
       "      <td>2.691826e-01</td>\n",
       "      <td>7.696725e-09</td>\n",
       "      <td>1.000000</td>\n",
       "    </tr>\n",
       "    <tr>\n",
       "      <th>PC377</th>\n",
       "      <td>2.614468e-01</td>\n",
       "      <td>7.260701e-09</td>\n",
       "      <td>1.000000</td>\n",
       "    </tr>\n",
       "    <tr>\n",
       "      <th>PC378</th>\n",
       "      <td>2.592429e-01</td>\n",
       "      <td>7.138809e-09</td>\n",
       "      <td>1.000000</td>\n",
       "    </tr>\n",
       "    <tr>\n",
       "      <th>PC379</th>\n",
       "      <td>2.540186e-01</td>\n",
       "      <td>6.853982e-09</td>\n",
       "      <td>1.000000</td>\n",
       "    </tr>\n",
       "    <tr>\n",
       "      <th>PC380</th>\n",
       "      <td>2.497431e-01</td>\n",
       "      <td>6.625202e-09</td>\n",
       "      <td>1.000000</td>\n",
       "    </tr>\n",
       "    <tr>\n",
       "      <th>PC381</th>\n",
       "      <td>2.397667e-01</td>\n",
       "      <td>6.106461e-09</td>\n",
       "      <td>1.000000</td>\n",
       "    </tr>\n",
       "    <tr>\n",
       "      <th>PC382</th>\n",
       "      <td>2.349637e-01</td>\n",
       "      <td>5.864263e-09</td>\n",
       "      <td>1.000000</td>\n",
       "    </tr>\n",
       "    <tr>\n",
       "      <th>PC383</th>\n",
       "      <td>2.326794e-01</td>\n",
       "      <td>5.750798e-09</td>\n",
       "      <td>1.000000</td>\n",
       "    </tr>\n",
       "    <tr>\n",
       "      <th>PC384</th>\n",
       "      <td>2.282051e-01</td>\n",
       "      <td>5.531753e-09</td>\n",
       "      <td>1.000000</td>\n",
       "    </tr>\n",
       "    <tr>\n",
       "      <th>PC385</th>\n",
       "      <td>2.190670e-01</td>\n",
       "      <td>5.097605e-09</td>\n",
       "      <td>1.000000</td>\n",
       "    </tr>\n",
       "    <tr>\n",
       "      <th>PC386</th>\n",
       "      <td>2.124250e-01</td>\n",
       "      <td>4.793175e-09</td>\n",
       "      <td>1.000000</td>\n",
       "    </tr>\n",
       "    <tr>\n",
       "      <th>PC387</th>\n",
       "      <td>2.079836e-01</td>\n",
       "      <td>4.594836e-09</td>\n",
       "      <td>1.000000</td>\n",
       "    </tr>\n",
       "    <tr>\n",
       "      <th>PC388</th>\n",
       "      <td>2.029405e-01</td>\n",
       "      <td>4.374714e-09</td>\n",
       "      <td>1.000000</td>\n",
       "    </tr>\n",
       "    <tr>\n",
       "      <th>PC389</th>\n",
       "      <td>1.944557e-01</td>\n",
       "      <td>4.016551e-09</td>\n",
       "      <td>1.000000</td>\n",
       "    </tr>\n",
       "    <tr>\n",
       "      <th>PC390</th>\n",
       "      <td>1.863996e-01</td>\n",
       "      <td>3.690642e-09</td>\n",
       "      <td>1.000000</td>\n",
       "    </tr>\n",
       "    <tr>\n",
       "      <th>PC391</th>\n",
       "      <td>1.776452e-01</td>\n",
       "      <td>3.352114e-09</td>\n",
       "      <td>1.000000</td>\n",
       "    </tr>\n",
       "    <tr>\n",
       "      <th>PC392</th>\n",
       "      <td>1.721764e-01</td>\n",
       "      <td>3.148902e-09</td>\n",
       "      <td>1.000000</td>\n",
       "    </tr>\n",
       "    <tr>\n",
       "      <th>PC393</th>\n",
       "      <td>1.636582e-01</td>\n",
       "      <td>2.845036e-09</td>\n",
       "      <td>1.000000</td>\n",
       "    </tr>\n",
       "    <tr>\n",
       "      <th>PC394</th>\n",
       "      <td>1.627464e-01</td>\n",
       "      <td>2.813421e-09</td>\n",
       "      <td>1.000000</td>\n",
       "    </tr>\n",
       "    <tr>\n",
       "      <th>PC395</th>\n",
       "      <td>1.517393e-01</td>\n",
       "      <td>2.445727e-09</td>\n",
       "      <td>1.000000</td>\n",
       "    </tr>\n",
       "    <tr>\n",
       "      <th>PC396</th>\n",
       "      <td>1.474325e-01</td>\n",
       "      <td>2.308865e-09</td>\n",
       "      <td>1.000000</td>\n",
       "    </tr>\n",
       "    <tr>\n",
       "      <th>PC397</th>\n",
       "      <td>1.344763e-01</td>\n",
       "      <td>1.920895e-09</td>\n",
       "      <td>1.000000</td>\n",
       "    </tr>\n",
       "    <tr>\n",
       "      <th>PC398</th>\n",
       "      <td>1.226236e-01</td>\n",
       "      <td>1.597205e-09</td>\n",
       "      <td>1.000000</td>\n",
       "    </tr>\n",
       "    <tr>\n",
       "      <th>PC399</th>\n",
       "      <td>9.567874e-02</td>\n",
       "      <td>9.723956e-10</td>\n",
       "      <td>1.000000</td>\n",
       "    </tr>\n",
       "    <tr>\n",
       "      <th>PC400</th>\n",
       "      <td>9.106226e-02</td>\n",
       "      <td>8.808235e-10</td>\n",
       "      <td>1.000000</td>\n",
       "    </tr>\n",
       "    <tr>\n",
       "      <th>PC401</th>\n",
       "      <td>4.947798e-02</td>\n",
       "      <td>2.600374e-10</td>\n",
       "      <td>1.000000</td>\n",
       "    </tr>\n",
       "    <tr>\n",
       "      <th>PC402</th>\n",
       "      <td>1.346690e-12</td>\n",
       "      <td>1.874798e-31</td>\n",
       "      <td>1.000000</td>\n",
       "    </tr>\n",
       "  </tbody>\n",
       "</table>\n",
       "<p>402 rows × 3 columns</p>\n",
       "</div>"
      ],
      "text/plain": [
       "                    sdev                varprop               cumprop\n",
       "      Standard deviation Proportion of Variance Cumulative Proportion\n",
       "PC1         2.991583e+03           9.506357e-01              0.950636\n",
       "PC2         4.865658e+02           2.514753e-02              0.975783\n",
       "PC3         3.220231e+02           1.101504e-02              0.986798\n",
       "PC4         2.187830e+02           5.084393e-03              0.991883\n",
       "PC5         1.303453e+02           1.804689e-03              0.993687\n",
       "PC6         1.136482e+02           1.371946e-03              0.995059\n",
       "PC7         9.528587e+01           9.644263e-04              0.996024\n",
       "PC8         7.098698e+01           5.352658e-04              0.996559\n",
       "PC9         6.789732e+01           4.896856e-04              0.997049\n",
       "PC10        6.522070e+01           4.518383e-04              0.997501\n",
       "PC11        5.873349e+01           3.664238e-04              0.997867\n",
       "PC12        5.107368e+01           2.770808e-04              0.998144\n",
       "PC13        4.484845e+01           2.136520e-04              0.998358\n",
       "PC14        4.182056e+01           1.857769e-04              0.998543\n",
       "PC15        4.077959e+01           1.766436e-04              0.998720\n",
       "PC16        3.527242e+01           1.321547e-04              0.998852\n",
       "PC17        3.268139e+01           1.134522e-04              0.998966\n",
       "PC18        2.824700e+01           8.475332e-05              0.999050\n",
       "PC19        2.634074e+01           7.370009e-05              0.999124\n",
       "PC20        2.505139e+01           6.666157e-05              0.999191\n",
       "PC21        2.409171e+01           6.165200e-05              0.999252\n",
       "PC22        2.198863e+01           5.135801e-05              0.999304\n",
       "PC23        2.063942e+01           4.524880e-05              0.999349\n",
       "PC24        1.956607e+01           4.066484e-05              0.999390\n",
       "PC25        1.903627e+01           3.849245e-05              0.999428\n",
       "PC26        1.815257e+01           3.500164e-05              0.999463\n",
       "PC27        1.720759e+01           3.145228e-05              0.999495\n",
       "PC28        1.600236e+01           2.720071e-05              0.999522\n",
       "PC29        1.521535e+01           2.459100e-05              0.999547\n",
       "PC30        1.466721e+01           2.285110e-05              0.999569\n",
       "...                  ...                    ...                   ...\n",
       "PC373       2.760516e-01           8.094548e-09              1.000000\n",
       "PC374       2.747802e-01           8.020161e-09              1.000000\n",
       "PC375       2.715228e-01           7.831132e-09              1.000000\n",
       "PC376       2.691826e-01           7.696725e-09              1.000000\n",
       "PC377       2.614468e-01           7.260701e-09              1.000000\n",
       "PC378       2.592429e-01           7.138809e-09              1.000000\n",
       "PC379       2.540186e-01           6.853982e-09              1.000000\n",
       "PC380       2.497431e-01           6.625202e-09              1.000000\n",
       "PC381       2.397667e-01           6.106461e-09              1.000000\n",
       "PC382       2.349637e-01           5.864263e-09              1.000000\n",
       "PC383       2.326794e-01           5.750798e-09              1.000000\n",
       "PC384       2.282051e-01           5.531753e-09              1.000000\n",
       "PC385       2.190670e-01           5.097605e-09              1.000000\n",
       "PC386       2.124250e-01           4.793175e-09              1.000000\n",
       "PC387       2.079836e-01           4.594836e-09              1.000000\n",
       "PC388       2.029405e-01           4.374714e-09              1.000000\n",
       "PC389       1.944557e-01           4.016551e-09              1.000000\n",
       "PC390       1.863996e-01           3.690642e-09              1.000000\n",
       "PC391       1.776452e-01           3.352114e-09              1.000000\n",
       "PC392       1.721764e-01           3.148902e-09              1.000000\n",
       "PC393       1.636582e-01           2.845036e-09              1.000000\n",
       "PC394       1.627464e-01           2.813421e-09              1.000000\n",
       "PC395       1.517393e-01           2.445727e-09              1.000000\n",
       "PC396       1.474325e-01           2.308865e-09              1.000000\n",
       "PC397       1.344763e-01           1.920895e-09              1.000000\n",
       "PC398       1.226236e-01           1.597205e-09              1.000000\n",
       "PC399       9.567874e-02           9.723956e-10              1.000000\n",
       "PC400       9.106226e-02           8.808235e-10              1.000000\n",
       "PC401       4.947798e-02           2.600374e-10              1.000000\n",
       "PC402       1.346690e-12           1.874798e-31              1.000000\n",
       "\n",
       "[402 rows x 3 columns]"
      ]
     },
     "execution_count": 586,
     "metadata": {},
     "output_type": "execute_result"
    }
   ],
   "source": [
    "pca = PCA().fit(x_train_scaled)\n",
    "\n",
    "summary = pca_summary(pca, x_train_scaled)\n",
    "summary"
   ]
  },
  {
   "cell_type": "code",
   "execution_count": 539,
   "metadata": {
    "collapsed": true
   },
   "outputs": [],
   "source": [
    "# decide the optimal number of principal components \n",
    "\n",
    "def screeplot(pca, standardised_data):\n",
    "    fig = plt.figure(figsize = (10, 10))\n",
    "    y = np.std(pca.transform(standardised_data), axis = 0)**2\n",
    "    x = np.arange(len(y)) + 1\n",
    "    plt.plot(x, y, \"o-\")\n",
    "    plt.xticks(x, [\"Comp.\" + str(i) for i in x], rotation = 60)\n",
    "    plt.ylabel(\"Variance\")\n",
    "    plt.show()"
   ]
  },
  {
   "cell_type": "code",
   "execution_count": 587,
   "metadata": {},
   "outputs": [
    {
     "data": {
      "image/png": "[encoded data removed]",
      "text/plain": [
       "<matplotlib.figure.Figure at 0x1540c630>"
      ]
     },
     "metadata": {},
     "output_type": "display_data"
    }
   ],
   "source": [
    "screeplot(pca, x_scaled)"
   ]
  },
  {
   "cell_type": "code",
   "execution_count": null,
   "metadata": {},
   "outputs": [],
   "source": []
  },
  {
   "cell_type": "code",
   "execution_count": 901,
   "metadata": {
    "collapsed": true
   },
   "outputs": [],
   "source": [
    "# pca fit finds the new dimensions that the data are to be projected onto\n",
    "pca = PCA(n_components = 3).fit(x_train_scaled)\n",
    "pca.components_\n",
    "\n",
    "# pca transform gives the projected data vectors \n",
    "pca_x = pca.transform(x_train_scaled)"
   ]
  },
  {
   "cell_type": "code",
   "execution_count": 902,
   "metadata": {
    "collapsed": true
   },
   "outputs": [],
   "source": [
    "# according to the PCA summarization table, the first 3 PC accounts for around 99% variability in the data  \n",
    "# fit_transform apply PCA to column mean SUBTRACTED x_train, x_test\n",
    "\n",
    "pcax_train = PCA(n_components = 3).fit_transform(x_train_scaled)\n",
    "pcax_test = PCA(n_components = 3).fit_transform(x_test_scaled)\n",
    "pcay_train = y_train\n",
    "pcay_test = y_test"
   ]
  },
  {
   "cell_type": "code",
   "execution_count": null,
   "metadata": {
    "collapsed": true
   },
   "outputs": [],
   "source": []
  },
  {
   "cell_type": "code",
   "execution_count": 597,
   "metadata": {},
   "outputs": [
    {
     "name": "stdout",
     "output_type": "stream",
     "text": [
      "{'metric': 'euclidean', 'n_neighbors': 5}\n"
     ]
    }
   ],
   "source": [
    "# deciding hyperparameters for KNN regressor \n",
    "\n",
    "# model.get_params().keys() - check parameter names in the current model\n",
    "params = {'n_neighbors': np.arange(1, 11, 1), 'metric': ['euclidean']}\n",
    "\n",
    "# grid search approach\n",
    "\n",
    "model = KNeighborsRegressor()\n",
    "grid = GridSearchCV(model, params)\n",
    "\n",
    "grid.fit(pcax_train, pcay_train)\n",
    "\n",
    "print (grid.best_params_)"
   ]
  },
  {
   "cell_type": "code",
   "execution_count": 634,
   "metadata": {},
   "outputs": [
    {
     "data": {
      "text/plain": [
       "0.74162463323861549"
      ]
     },
     "execution_count": 634,
     "metadata": {},
     "output_type": "execute_result"
    }
   ],
   "source": [
    "# R^2 score ? \n",
    "# It appears to be a popular choice when deciding between linear and non-linear regression models.\n",
    "\n",
    "\n",
    "grid.best_score_"
   ]
  },
  {
   "cell_type": "code",
   "execution_count": null,
   "metadata": {
    "collapsed": true
   },
   "outputs": [],
   "source": []
  },
  {
   "cell_type": "code",
   "execution_count": null,
   "metadata": {
    "collapsed": true
   },
   "outputs": [],
   "source": []
  },
  {
   "cell_type": "code",
   "execution_count": 903,
   "metadata": {},
   "outputs": [
    {
     "data": {
      "text/plain": [
       "KNeighborsRegressor(algorithm='auto', leaf_size=30, metric='minkowski',\n",
       "          metric_params=None, n_jobs=1, n_neighbors=3, p=2,\n",
       "          weights='uniform')"
      ]
     },
     "execution_count": 903,
     "metadata": {},
     "output_type": "execute_result"
    }
   ],
   "source": [
    "k  = 3\n",
    "\n",
    "pca_knn = KNeighborsRegressor(n_neighbors = k)\n",
    "pca_knn.fit(pcax_train, pcay_train)"
   ]
  },
  {
   "cell_type": "code",
   "execution_count": 904,
   "metadata": {},
   "outputs": [
    {
     "name": "stdout",
     "output_type": "stream",
     "text": [
      "128.18\n",
      "443    129.69\n",
      "Name: 2017-08-10, dtype: object\n",
      "[128.66333333333333]\n"
     ]
    },
    {
     "name": "stderr",
     "output_type": "stream",
     "text": [
      "C:\\Users\\1098071\\AppData\\Local\\Continuum\\Anaconda3\\lib\\site-packages\\sklearn\\utils\\validation.py:395: DeprecationWarning: Passing 1d arrays as data is deprecated in 0.17 and will raise ValueError in 0.19. Reshape your data either using X.reshape(-1, 1) if your data has a single feature or X.reshape(1, -1) if it contains a single sample.\n",
      "  DeprecationWarning)\n"
     ]
    }
   ],
   "source": [
    "# model prediction checking \n",
    "\n",
    "comp = 97\n",
    "print (pcay_test.iloc[comp])\n",
    "\n",
    "# stock price one day before the predicted date \n",
    "print (x.iloc[y[y == pcay_test.iloc[comp]].index.values][x.columns[-1]])\n",
    "\n",
    "# predcition from KNN, k = 3\n",
    "print (pca_knn.predict(pcax_test[comp]))"
   ]
  },
  {
   "cell_type": "code",
   "execution_count": null,
   "metadata": {
    "collapsed": true
   },
   "outputs": [],
   "source": []
  },
  {
   "cell_type": "code",
   "execution_count": 623,
   "metadata": {},
   "outputs": [
    {
     "data": {
      "text/plain": [
       "3"
      ]
     },
     "execution_count": 623,
     "metadata": {},
     "output_type": "execute_result"
    }
   ],
   "source": [
    "# grid search with defiend MSE after PCA(n = 3)\n",
    "\n",
    "# grid search on the complete dataset - the result may overfit a bit \n",
    "zeromean_x = PCA(n_components = 3).fit_transform(x - x_mean)\n",
    "\n",
    "\n",
    "MSE = make_scorer(mean_squared_error)\n",
    "\n",
    "neighbours = np.arange(1, 41, 2)\n",
    "mse_error = []\n",
    "\n",
    "for k in neighbours:\n",
    "    knn = KNeighborsRegressor(n_neighbors = k)\n",
    "    scores = cross_val_score(knn, zeromean_x, y, cv = 10, scoring = MSE)\n",
    "    mse_error.append(scores.mean())\n",
    "    \n",
    "    \n",
    "# optimal number of neighbours from grid search and self defined loss function - which gives different results from built-in loss function in \n",
    "# GridSearchCV, which says k = 5\n",
    "\n",
    "neighbours[mse_error.index(min(mse_error))]"
   ]
  },
  {
   "cell_type": "code",
   "execution_count": null,
   "metadata": {
    "collapsed": true
   },
   "outputs": [],
   "source": []
  },
  {
   "cell_type": "code",
   "execution_count": null,
   "metadata": {
    "collapsed": true
   },
   "outputs": [],
   "source": []
  },
  {
   "cell_type": "code",
   "execution_count": 905,
   "metadata": {},
   "outputs": [
    {
     "data": {
      "image/png": "[encoded data removed]",
      "text/plain": [
       "<matplotlib.figure.Figure at 0x36bf2358>"
      ]
     },
     "metadata": {},
     "output_type": "display_data"
    }
   ],
   "source": [
    "# plot y_test from pca(n = 3) and knn(k = 3)\n",
    "\n",
    "fig = plt.figure(figsize = (7, 7))\n",
    "\n",
    "plt.scatter(pca_knn.predict(pcax_test), pcay_test)\n",
    "plt.scatter([0, 600], [0, 600], color = 'r')\n",
    "plt.plot([0, 600], [0, 600], color = 'r')\n",
    "\n",
    "plt.xlabel('true stock price on 2017-08-11')\n",
    "plt.ylabel('predicted stock price on 2017-08-11')\n",
    "\n",
    "plt.show()"
   ]
  },
  {
   "cell_type": "code",
   "execution_count": null,
   "metadata": {
    "collapsed": true
   },
   "outputs": [],
   "source": []
  },
  {
   "cell_type": "code",
   "execution_count": 546,
   "metadata": {
    "collapsed": true
   },
   "outputs": [],
   "source": [
    "# final model should be fitted on the entire dataset?\n",
    "# however, KNN does not really require that kind of training  "
   ]
  },
  {
   "cell_type": "code",
   "execution_count": 644,
   "metadata": {},
   "outputs": [
    {
     "data": {
      "text/plain": [
       "572985.513722222"
      ]
     },
     "execution_count": 644,
     "metadata": {},
     "output_type": "execute_result"
    }
   ],
   "source": [
    "# calculate RMSE on the testing testing set from PCA(n_components = 3) and KNN(n_neighbors = 3)\n",
    "\n",
    "sum((pca_knn.predict(pcax_test) - pcay_test) ** 2)"
   ]
  },
  {
   "cell_type": "code",
   "execution_count": null,
   "metadata": {
    "collapsed": true
   },
   "outputs": [],
   "source": []
  },
  {
   "cell_type": "code",
   "execution_count": 633,
   "metadata": {},
   "outputs": [
    {
     "data": {
      "text/plain": [
       "392841.6185777778"
      ]
     },
     "execution_count": 633,
     "metadata": {},
     "output_type": "execute_result"
    }
   ],
   "source": [
    "# RMSE from KNN (k = 3) without PCA\n",
    "\n",
    "tuned = KNeighborsRegressor(n_neighbors = 3)\n",
    "tuned.fit(x_train, y_train)\n",
    "\n",
    "sum((tuned.predict(x_test) - y_test) ** 2)"
   ]
  },
  {
   "cell_type": "code",
   "execution_count": 906,
   "metadata": {},
   "outputs": [
    {
     "data": {
      "image/png": "[encoded data removed]",
      "text/plain": [
       "<matplotlib.figure.Figure at 0x36b396a0>"
      ]
     },
     "metadata": {},
     "output_type": "display_data"
    }
   ],
   "source": [
    "# plot y_test without pca but knn(k = 3)\n",
    "\n",
    "fig = plt.figure(figsize = (7, 7))\n",
    "\n",
    "plt.scatter(tuned.predict(x_test), y_test)\n",
    "plt.scatter([0, 600], [0, 600], color = 'r')\n",
    "plt.plot([0, 600], [0, 600], color = 'r')\n",
    "\n",
    "plt.xlabel('true stock price on 2017-08-11')\n",
    "plt.ylabel('predicted stock price on 2017-08-11')\n",
    "\n",
    "plt.show()"
   ]
  },
  {
   "cell_type": "markdown",
   "metadata": {},
   "source": [
    "**Pros and Cons of KNN**\n",
    "\n",
    "**Pros**\n",
    "\n",
    "One of the most attractive features of the K-nearest neighbor algorithm is that is simple to understand and easy to implement. With zero to little training time, it can be a useful tool for off-the-bat analysis of some data set you are planning to run more complex algorithms on. Furthermore, KNN works just as easily with multiclass data sets whereas other algorithms are hardcoded for the binary setting. Finally, as we mentioned earlier, the non-parametric nature of KNN gives it an edge in certain settings where the data may be highly “unusual”.\n",
    "\n",
    "**Cons**\n",
    "\n",
    "One of the obvious drawbacks of the KNN algorithm is the computationally expensive testing phase which is impractical in industry settings. Note the rigid dichotomy between KNN and the more sophisticated Neural Network which has a lengthy training phase albeit a very fast testing phase. Furthermore, KNN can suffer from skewed class distributions. For example, if a certain class is very frequent in the training set, it will tend to dominate the majority voting of the new example (large number = more common). Finally, the** accuracy of KNN can be severely degraded with high-dimension data because there is little difference between the nearest and farthest neighbor.**\n",
    "\n",
    "**Improvements**\n",
    "\n",
    "With that being said, there are many ways in which the KNN algorithm can be improved.\n",
    "\n",
    "- A simple and effective way to remedy skewed class distributions is by implementing weighed voting. The class of each of the K neighbors is multiplied by a weight proportional to the inverse of the distance from that point to the given test point. This ensures that nearer neighbors contribute more to the final vote than the more distant ones.\n",
    "- Changing the distance metric for different applications may help improve the accuracy of the algorithm. (i.e. Hamming distance for text classification)\n",
    "- Rescaling your data makes the distance metric more meaningful. For instance, given 2 features height and weight, an observation such as x=[180,70]x=[180,70] will clearly skew the distance metric in favor of height. One way of fixing this is by column-wise subtracting the mean and dividing by the standard deviation. Scikit-learn’s normalize() method can come in handy.\n",
    "- Dimensionality reduction techniques like PCA should be executed prior to appplying KNN and help make the distance metric more meaningful.\n",
    "- Approximate Nearest Neighbor techniques such as using k-d trees to store the training observations can be leveraged to decrease testing time. Note however that these methods tend to perform poorly in high dimensions (20+). Try using locality sensitive hashing (LHS) for higher dimensions."
   ]
  },
  {
   "cell_type": "code",
   "execution_count": null,
   "metadata": {},
   "outputs": [],
   "source": []
  },
  {
   "cell_type": "code",
   "execution_count": 833,
   "metadata": {},
   "outputs": [],
   "source": [
    "# return the first several companies with the highest stock price growth - fit training dat, selection made on testing data \n",
    "\n",
    "\n",
    "pca = PCA(n_components = 3).fit(x_train_scaled) \n",
    "pcax_test = pca.transform(x_test_scaled)\n",
    "\n",
    "# KNN(n = 3)\n",
    "predict_y_pca = pca_knn.predict(pcax_test)\n",
    "\n",
    "# true values one day before the day of prediction \n",
    "day_before = ref.iloc[x_test.index.values].iloc[:, -2]\n",
    "\n",
    "\n",
    "# actual values for the predictions \n",
    "true_y = y_test\n"
   ]
  },
  {
   "cell_type": "code",
   "execution_count": 820,
   "metadata": {},
   "outputs": [],
   "source": [
    "# selection from the true values \n",
    "\n",
    "true = pd.DataFrame((true_y - day_before) / day_before)\n",
    "\n",
    "# sort the percentage growth in stock price \n",
    "true.sort_values(by = [0], inplace = True, ascending = False)"
   ]
  },
  {
   "cell_type": "code",
   "execution_count": 821,
   "metadata": {},
   "outputs": [
    {
     "data": {
      "text/plain": [
       "268    KLAC\n",
       "395     RHT\n",
       "313    MNST\n",
       "378    PRGO\n",
       "220     HCA\n",
       "Name: Name, dtype: object"
      ]
     },
     "execution_count": 821,
     "metadata": {},
     "output_type": "execute_result"
    }
   ],
   "source": [
    "true_rank = ref.iloc[true.index.values]['Name']\n",
    "\n",
    "true_rank.head()"
   ]
  },
  {
   "cell_type": "code",
   "execution_count": 834,
   "metadata": {},
   "outputs": [],
   "source": [
    "# selection from the predicted values \n",
    "\n",
    "predict_pca = pd.DataFrame((predict_y_pca - day_before) / day_before)\n",
    "\n",
    "# sort growth \n",
    "predict_pca.sort_values(by = ['2017-08-10'], inplace = True, ascending = False)"
   ]
  },
  {
   "cell_type": "code",
   "execution_count": 835,
   "metadata": {},
   "outputs": [
    {
     "data": {
      "text/plain": [
       "319     MRO\n",
       "402     RRC\n",
       "421    SRCL\n",
       "230      HP\n",
       "378    PRGO\n",
       "Name: Name, dtype: object"
      ]
     },
     "execution_count": 835,
     "metadata": {},
     "output_type": "execute_result"
    }
   ],
   "source": [
    "predict_rank_pca = ref.iloc[predict.index.values]['Name']\n",
    "\n",
    "predict_rank_pca.head()"
   ]
  },
  {
   "cell_type": "code",
   "execution_count": null,
   "metadata": {
    "collapsed": true
   },
   "outputs": [],
   "source": []
  },
  {
   "cell_type": "code",
   "execution_count": 910,
   "metadata": {},
   "outputs": [
    {
     "data": {
      "image/png": "[encoded data removed]",
      "text/plain": [
       "<matplotlib.figure.Figure at 0x1af0c668>"
      ]
     },
     "metadata": {},
     "output_type": "display_data"
    }
   ],
   "source": [
    "# plot predicted stock price growth from pca(n = 3) and knn(k = 3)\n",
    "\n",
    "fig = plt.figure(figsize = (7, 7))\n",
    "\n",
    "tg = ((true_y - day_before) / day_before)\n",
    "pg = ((predict_y_pca - day_before) / day_before)\n",
    "\n",
    "plt.scatter(tg, pg)\n",
    "\n",
    "plt.xlabel('true stock price growth')\n",
    "plt.ylabel('predicted stock price growth after PCA')\n",
    "\n",
    "plt.show()"
   ]
  },
  {
   "cell_type": "code",
   "execution_count": null,
   "metadata": {
    "collapsed": true
   },
   "outputs": [],
   "source": []
  },
  {
   "cell_type": "code",
   "execution_count": 885,
   "metadata": {},
   "outputs": [
    {
     "data": {
      "text/plain": [
       "57"
      ]
     },
     "execution_count": 885,
     "metadata": {},
     "output_type": "execute_result"
    }
   ],
   "source": [
    "# predicted growth rank from KNN with PCA\n",
    "\n",
    "# predict_pca.sort_values(['2017-08-10'], ascending = False)\n",
    "\n",
    "sum(np.sort((predict_y_pca - day_before) / day_before) <  0) "
   ]
  },
  {
   "cell_type": "code",
   "execution_count": 886,
   "metadata": {},
   "outputs": [
    {
     "data": {
      "text/plain": [
       "54"
      ]
     },
     "execution_count": 886,
     "metadata": {},
     "output_type": "execute_result"
    }
   ],
   "source": [
    "# predicted growth rank from KNN without PCA \n",
    "\n",
    "# predict = pd.DataFrame((predict_y - day_before) / day_before)\n",
    "# predict.sort_values(['2017-08-10'], ascending = False)\n",
    "\n",
    "\n",
    "sum(np.sort((predict_y - day_before) / day_before) <  0)"
   ]
  },
  {
   "cell_type": "code",
   "execution_count": 887,
   "metadata": {
    "scrolled": true
   },
   "outputs": [
    {
     "data": {
      "text/plain": [
       "57"
      ]
     },
     "execution_count": 887,
     "metadata": {},
     "output_type": "execute_result"
    }
   ],
   "source": [
    "# the true growth rank \n",
    "# true.sort_values([0], ascending = False)\n",
    "\n",
    "\n",
    "sum(np.sort((true_y - day_before) / day_before) <  0)"
   ]
  },
  {
   "cell_type": "code",
   "execution_count": 818,
   "metadata": {},
   "outputs": [],
   "source": [
    "# true_rank.reset_index(None) == predict_rank.reset_index(None)"
   ]
  },
  {
   "cell_type": "code",
   "execution_count": null,
   "metadata": {
    "collapsed": true
   },
   "outputs": [],
   "source": []
  },
  {
   "cell_type": "code",
   "execution_count": 837,
   "metadata": {
    "collapsed": true
   },
   "outputs": [],
   "source": [
    "def return_rank(predict_y, sort_by):\n",
    "    \n",
    "    predict = pd.DataFrame((predict_y - day_before) / day_before)\n",
    "\n",
    "    # sort growth \n",
    "    predict.sort_values(by = sort_by, inplace = True, ascending = False)\n",
    "    \n",
    "    predict_rank = ref.iloc[predict.index.values]['Name']\n",
    "    \n",
    "    return (predict_rank)"
   ]
  },
  {
   "cell_type": "code",
   "execution_count": null,
   "metadata": {
    "collapsed": true
   },
   "outputs": [],
   "source": []
  },
  {
   "cell_type": "code",
   "execution_count": 838,
   "metadata": {},
   "outputs": [],
   "source": [
    "# return the first several companies with the highest stock price growth - fit training dat, selection made on testing data \n",
    "\n",
    "# KNN on original data dimension without PCA\n",
    "tuned = KNeighborsRegressor(n_neighbors = 3)\n",
    "tuned.fit(x_train, y_train)\n",
    "\n",
    "# KNN(n = 3)\n",
    "predict_y = tuned.predict(x_test)\n",
    "\n",
    "# actual values for the predictions \n",
    "true_y = y_test\n",
    "\n",
    "# true values one day before the day of prediction \n",
    "day_before = ref.iloc[x_test.index.values].iloc[:, -2]"
   ]
  },
  {
   "cell_type": "code",
   "execution_count": 839,
   "metadata": {},
   "outputs": [
    {
     "data": {
      "text/plain": [
       "402     RRC\n",
       "319     MRO\n",
       "421    SRCL\n",
       "46      APH\n",
       "378    PRGO\n",
       "Name: Name, dtype: object"
      ]
     },
     "execution_count": 839,
     "metadata": {},
     "output_type": "execute_result"
    }
   ],
   "source": [
    "predict_rank = return_rank(predict_y, ['2017-08-10'])\n",
    "\n",
    "predict_rank.head()"
   ]
  },
  {
   "cell_type": "code",
   "execution_count": 799,
   "metadata": {},
   "outputs": [
    {
     "data": {
      "text/plain": [
       "268    KLAC\n",
       "395     RHT\n",
       "313    MNST\n",
       "378    PRGO\n",
       "220     HCA\n",
       "Name: Name, dtype: object"
      ]
     },
     "execution_count": 799,
     "metadata": {},
     "output_type": "execute_result"
    }
   ],
   "source": [
    "true_rank = return_rank(true_y, [0])\n",
    "\n",
    "true_rank.head()"
   ]
  },
  {
   "cell_type": "code",
   "execution_count": null,
   "metadata": {
    "collapsed": true
   },
   "outputs": [],
   "source": []
  },
  {
   "cell_type": "code",
   "execution_count": null,
   "metadata": {
    "collapsed": true
   },
   "outputs": [],
   "source": []
  },
  {
   "cell_type": "code",
   "execution_count": 875,
   "metadata": {},
   "outputs": [
    {
     "name": "stdout",
     "output_type": "stream",
     "text": [
      "8\n"
     ]
    },
    {
     "data": {
      "text/plain": [
       "array([False, False,  True, False,  True, False, False, False, False,\n",
       "        True, False, False, False, False, False, False, False, False,\n",
       "       False, False, False, False, False, False, False, False, False,\n",
       "       False, False, False, False, False, False, False, False, False,\n",
       "       False, False, False, False,  True, False, False, False, False,\n",
       "       False, False, False, False, False, False, False, False, False,\n",
       "       False, False, False, False, False, False, False, False, False,\n",
       "       False, False, False, False, False, False, False, False, False,\n",
       "       False, False, False, False, False, False, False,  True, False,\n",
       "       False, False, False, False, False, False, False, False, False,\n",
       "       False, False, False, False, False, False, False, False,  True,\n",
       "        True,  True], dtype=bool)"
      ]
     },
     "execution_count": 875,
     "metadata": {},
     "output_type": "execute_result"
    }
   ],
   "source": [
    "print (sum(predict_rank_pca.index.values == predict_rank.index.values))\n",
    "\n",
    "predict_rank_pca.index.values == predict_rank.index.values"
   ]
  },
  {
   "cell_type": "code",
   "execution_count": 872,
   "metadata": {},
   "outputs": [
    {
     "name": "stdout",
     "output_type": "stream",
     "text": [
      "2\n"
     ]
    },
    {
     "data": {
      "text/plain": [
       "array([False, False, False, False, False, False, False, False, False,\n",
       "       False, False, False, False, False, False, False, False, False,\n",
       "       False, False, False, False, False, False, False, False, False,\n",
       "       False, False, False, False, False, False, False, False, False,\n",
       "       False,  True, False, False, False, False, False, False, False,\n",
       "       False, False, False, False, False, False, False, False, False,\n",
       "       False, False, False, False, False, False, False, False, False,\n",
       "       False, False, False, False, False, False, False, False, False,\n",
       "       False, False, False, False, False, False, False, False, False,\n",
       "       False, False, False, False, False, False, False, False, False,\n",
       "       False, False, False, False, False, False, False, False, False,\n",
       "       False,  True], dtype=bool)"
      ]
     },
     "execution_count": 872,
     "metadata": {},
     "output_type": "execute_result"
    }
   ],
   "source": [
    "print (sum(predict_rank_pca.index.values == true_rank.index.values))\n",
    "predict_rank_pca.index.values == true_rank.index.values"
   ]
  },
  {
   "cell_type": "code",
   "execution_count": 873,
   "metadata": {},
   "outputs": [
    {
     "name": "stdout",
     "output_type": "stream",
     "text": [
      "3\n"
     ]
    },
    {
     "data": {
      "text/plain": [
       "array([False, False, False, False, False, False, False, False, False,\n",
       "       False, False, False, False, False, False, False, False, False,\n",
       "       False, False, False, False, False, False, False, False, False,\n",
       "       False, False, False, False, False, False, False, False, False,\n",
       "       False, False, False, False, False,  True, False, False, False,\n",
       "       False, False, False, False, False, False, False, False, False,\n",
       "       False, False, False, False, False, False, False, False, False,\n",
       "       False, False, False, False, False, False, False, False, False,\n",
       "       False, False, False, False, False, False, False, False, False,\n",
       "       False, False, False, False, False, False, False, False, False,\n",
       "       False,  True, False, False, False, False, False, False, False,\n",
       "       False,  True], dtype=bool)"
      ]
     },
     "execution_count": 873,
     "metadata": {},
     "output_type": "execute_result"
    }
   ],
   "source": [
    "print (sum(predict_rank.index.values == true_rank.index.values))\n",
    "predict_rank.index.values == true_rank.index.values"
   ]
  },
  {
   "cell_type": "code",
   "execution_count": null,
   "metadata": {
    "collapsed": true
   },
   "outputs": [],
   "source": []
  },
  {
   "cell_type": "code",
   "execution_count": 897,
   "metadata": {},
   "outputs": [],
   "source": [
    "# # compare rankings \n",
    "\n",
    "# predict_rank_pca\n",
    "\n",
    "# predict_rank\n",
    "\n",
    "# true_rank"
   ]
  },
  {
   "cell_type": "code",
   "execution_count": null,
   "metadata": {
    "collapsed": true
   },
   "outputs": [],
   "source": []
  },
  {
   "cell_type": "code",
   "execution_count": null,
   "metadata": {
    "collapsed": true
   },
   "outputs": [],
   "source": []
  },
  {
   "cell_type": "code",
   "execution_count": null,
   "metadata": {
    "collapsed": true
   },
   "outputs": [],
   "source": []
  },
  {
   "cell_type": "code",
   "execution_count": null,
   "metadata": {
    "collapsed": true
   },
   "outputs": [],
   "source": []
  },
  {
   "cell_type": "code",
   "execution_count": 542,
   "metadata": {},
   "outputs": [],
   "source": [
    "# from sklearn.cross_validation import KFold\n",
    "# from sklearn import decomposition\n",
    "\n",
    "\n",
    "# def compute_test (x_test, y_test, model, cv):\n",
    "#     kf = KFold(x_test.shape[0], n_folds = cv)\n",
    "    \n",
    "#     SS_scores = []\n",
    "    \n",
    "#     for i, j in kf:\n",
    "#         test_set = x_test[j]\n",
    "#         test_value = y_test[j]\n",
    "        \n",
    "#         # KNN evaluation done by RMSE \n",
    "#         SS_scores.append((test_value - model.predict(test_set))** 2 )\n",
    "        \n",
    "#     return np.mean(SS_scores)"
   ]
  },
  {
   "cell_type": "code",
   "execution_count": 543,
   "metadata": {},
   "outputs": [],
   "source": [
    "# k = np.arange(20) + 1\n",
    "# parameters = {'n_neighbors': k, 'metric': ['euclidean']}\n",
    "\n",
    "# knn_model = KNeighborsRegressor()\n",
    "# grid = GridSearchCV(knn_model, parameters, cv = 10)\n",
    "\n",
    "\n",
    "# reg_eval = []\n",
    "# params = []\n",
    "\n",
    "# num_dim = [1, 2, 3, 4, 5, 6, 7]\n",
    "\n",
    "# for d in num_dim:\n",
    "#     svd = decomposition.TruncatedSVD(n_components = d)\n",
    "    \n",
    "#     if d < 402:\n",
    "#         x_fit = svd.fit_transform(x_train)\n",
    "#         x_fit_atest = svd.transform(x_train)\n",
    "        \n",
    "#     else:\n",
    "#         x_nl = x_train\n",
    "#         x_nl1 = x_test\n",
    "        \n",
    "#     grid.fit(x_fit, y_train)\n",
    "    \n",
    "#     reg_eval.append(compute_test(x_test = x_fit_atest, y_test = y_test, model = grid, cv = 10))\n",
    "#     params.append(grid.best_params_['n_neighbors'])"
   ]
  },
  {
   "cell_type": "code",
   "execution_count": 544,
   "metadata": {
    "collapsed": true
   },
   "outputs": [],
   "source": [
    "# k = np.arange(20) + 1\n",
    "# parameters = {'n_neighbors': k, 'metric': ['euclidean']}\n",
    "\n",
    "# knn_model = KNeighborsRegressor()\n",
    "# grid = GridSearchCV(knn_model, parameters, cv = 10)\n",
    "\n",
    "\n",
    "# reg_eval = []\n",
    "# params = []\n",
    "\n",
    "# num_dim = [1, 2, 3, 4, 5, 6, 7]\n",
    "\n",
    "# for d in num_dim:\n",
    "#     pca = PCA(n_components = d)\n",
    "    \n",
    "#     if d < 402:\n",
    "#         x_fit = pca.fit_transform(x_train)\n",
    "#         x_fit_atest = pca.transform(x_train)\n",
    "        \n",
    "#     else:\n",
    "#         x_nl = x_train\n",
    "#         x_nl1 = x_test\n",
    "        \n",
    "#     grid.fit(x_fit, y_train)\n",
    "    \n",
    "#     reg_eval.append(compute_test(x_test = x_fit_atest, y_test = y_test, model = grid, cv = 10))\n",
    "#     params.append(grid.best_params_['n_neighbors'])"
   ]
  },
  {
   "cell_type": "code",
   "execution_count": null,
   "metadata": {
    "collapsed": true
   },
   "outputs": [],
   "source": []
  },
  {
   "cell_type": "code",
   "execution_count": null,
   "metadata": {
    "collapsed": true
   },
   "outputs": [],
   "source": []
  },
  {
   "cell_type": "code",
   "execution_count": null,
   "metadata": {
    "collapsed": true
   },
   "outputs": [],
   "source": []
  },
  {
   "cell_type": "code",
   "execution_count": null,
   "metadata": {
    "collapsed": true
   },
   "outputs": [],
   "source": []
  },
  {
   "cell_type": "code",
   "execution_count": null,
   "metadata": {
    "collapsed": true
   },
   "outputs": [],
   "source": []
  }
 ],
 "metadata": {
  "kernelspec": {
   "display_name": "Python 3",
   "language": "python",
   "name": "python3"
  },
  "language_info": {
   "codemirror_mode": {
    "name": "ipython",
    "version": 3
   },
   "file_extension": ".py",
   "mimetype": "text/x-python",
   "name": "python",
   "nbconvert_exporter": "python",
   "pygments_lexer": "ipython3",
   "version": "3.6.1"
  }
 },
 "nbformat": 4,
 "nbformat_minor": 2
}
