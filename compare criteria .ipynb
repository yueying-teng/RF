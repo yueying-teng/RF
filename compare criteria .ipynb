{
 "cells": [
  {
   "cell_type": "code",
   "execution_count": 488,
   "metadata": {},
   "outputs": [],
   "source": [
    "import pandas as pd\n",
    "import numpy as np\n",
    "import matplotlib.pyplot as plt\n",
    "import seaborn as sns\n",
    "%matplotlib inline\n",
    "\n",
    "from sklearn import datasets \n",
    "from sklearn import metrics\n",
    "\n",
    "\n",
    "from sklearn.ensemble import RandomForestRegressor\n",
    "\n",
    "from sklearn.model_selection import train_test_split\n",
    "from sklearn.model_selection import KFold\n",
    "from sklearn.model_selection import cross_val_score\n",
    "\n",
    "from sklearn.linear_model import Lasso\n",
    "from sklearn.model_selection import GridSearchCV\n",
    "\n",
    "from sklearn.metrics import mean_squared_error  #  'neg_mean_squared_error'\n",
    "from sklearn.metrics import r2_score \n",
    "\n",
    "from sklearn.metrics import make_scorer"
   ]
  },
  {
   "cell_type": "code",
   "execution_count": 407,
   "metadata": {},
   "outputs": [],
   "source": [
    "# load the boston data, sklearn.utils.Buncn type data \n",
    "data = datasets.load_boston()\n",
    "# print (data.DESCR)"
   ]
  },
  {
   "cell_type": "code",
   "execution_count": 408,
   "metadata": {},
   "outputs": [
    {
     "data": {
      "text/plain": [
       "13"
      ]
     },
     "execution_count": 408,
     "metadata": {},
     "output_type": "execute_result"
    }
   ],
   "source": [
    "colnames = list(data.feature_names)\n",
    "len(colnames)"
   ]
  },
  {
   "cell_type": "code",
   "execution_count": 409,
   "metadata": {},
   "outputs": [
    {
     "name": "stdout",
     "output_type": "stream",
     "text": [
      "<class 'pandas.core.frame.DataFrame'>\n"
     ]
    },
    {
     "data": {
      "text/plain": [
       "(506, 1)"
      ]
     },
     "execution_count": 409,
     "metadata": {},
     "output_type": "execute_result"
    }
   ],
   "source": [
    "price = pd.DataFrame(data.target)\n",
    "print (type(price))\n",
    "price.shape"
   ]
  },
  {
   "cell_type": "code",
   "execution_count": 410,
   "metadata": {
    "scrolled": true
   },
   "outputs": [
    {
     "data": {
      "text/html": [
       "<div>\n",
       "<style>\n",
       "    .dataframe thead tr:only-child th {\n",
       "        text-align: right;\n",
       "    }\n",
       "\n",
       "    .dataframe thead th {\n",
       "        text-align: left;\n",
       "    }\n",
       "\n",
       "    .dataframe tbody tr th {\n",
       "        vertical-align: top;\n",
       "    }\n",
       "</style>\n",
       "<table border=\"1\" class=\"dataframe\">\n",
       "  <thead>\n",
       "    <tr style=\"text-align: right;\">\n",
       "      <th></th>\n",
       "      <th>CRIM</th>\n",
       "      <th>ZN</th>\n",
       "      <th>INDUS</th>\n",
       "      <th>CHAS</th>\n",
       "      <th>NOX</th>\n",
       "      <th>RM</th>\n",
       "      <th>AGE</th>\n",
       "      <th>DIS</th>\n",
       "      <th>RAD</th>\n",
       "      <th>TAX</th>\n",
       "      <th>PTRATIO</th>\n",
       "      <th>B</th>\n",
       "      <th>LSTAT</th>\n",
       "    </tr>\n",
       "  </thead>\n",
       "  <tbody>\n",
       "    <tr>\n",
       "      <th>0</th>\n",
       "      <td>0.00632</td>\n",
       "      <td>18.0</td>\n",
       "      <td>2.31</td>\n",
       "      <td>0.0</td>\n",
       "      <td>0.538</td>\n",
       "      <td>6.575</td>\n",
       "      <td>65.2</td>\n",
       "      <td>4.0900</td>\n",
       "      <td>1.0</td>\n",
       "      <td>296.0</td>\n",
       "      <td>15.3</td>\n",
       "      <td>396.90</td>\n",
       "      <td>4.98</td>\n",
       "    </tr>\n",
       "    <tr>\n",
       "      <th>1</th>\n",
       "      <td>0.02731</td>\n",
       "      <td>0.0</td>\n",
       "      <td>7.07</td>\n",
       "      <td>0.0</td>\n",
       "      <td>0.469</td>\n",
       "      <td>6.421</td>\n",
       "      <td>78.9</td>\n",
       "      <td>4.9671</td>\n",
       "      <td>2.0</td>\n",
       "      <td>242.0</td>\n",
       "      <td>17.8</td>\n",
       "      <td>396.90</td>\n",
       "      <td>9.14</td>\n",
       "    </tr>\n",
       "    <tr>\n",
       "      <th>2</th>\n",
       "      <td>0.02729</td>\n",
       "      <td>0.0</td>\n",
       "      <td>7.07</td>\n",
       "      <td>0.0</td>\n",
       "      <td>0.469</td>\n",
       "      <td>7.185</td>\n",
       "      <td>61.1</td>\n",
       "      <td>4.9671</td>\n",
       "      <td>2.0</td>\n",
       "      <td>242.0</td>\n",
       "      <td>17.8</td>\n",
       "      <td>392.83</td>\n",
       "      <td>4.03</td>\n",
       "    </tr>\n",
       "    <tr>\n",
       "      <th>3</th>\n",
       "      <td>0.03237</td>\n",
       "      <td>0.0</td>\n",
       "      <td>2.18</td>\n",
       "      <td>0.0</td>\n",
       "      <td>0.458</td>\n",
       "      <td>6.998</td>\n",
       "      <td>45.8</td>\n",
       "      <td>6.0622</td>\n",
       "      <td>3.0</td>\n",
       "      <td>222.0</td>\n",
       "      <td>18.7</td>\n",
       "      <td>394.63</td>\n",
       "      <td>2.94</td>\n",
       "    </tr>\n",
       "    <tr>\n",
       "      <th>4</th>\n",
       "      <td>0.06905</td>\n",
       "      <td>0.0</td>\n",
       "      <td>2.18</td>\n",
       "      <td>0.0</td>\n",
       "      <td>0.458</td>\n",
       "      <td>7.147</td>\n",
       "      <td>54.2</td>\n",
       "      <td>6.0622</td>\n",
       "      <td>3.0</td>\n",
       "      <td>222.0</td>\n",
       "      <td>18.7</td>\n",
       "      <td>396.90</td>\n",
       "      <td>5.33</td>\n",
       "    </tr>\n",
       "  </tbody>\n",
       "</table>\n",
       "</div>"
      ],
      "text/plain": [
       "      CRIM    ZN  INDUS  CHAS    NOX     RM   AGE     DIS  RAD    TAX  \\\n",
       "0  0.00632  18.0   2.31   0.0  0.538  6.575  65.2  4.0900  1.0  296.0   \n",
       "1  0.02731   0.0   7.07   0.0  0.469  6.421  78.9  4.9671  2.0  242.0   \n",
       "2  0.02729   0.0   7.07   0.0  0.469  7.185  61.1  4.9671  2.0  242.0   \n",
       "3  0.03237   0.0   2.18   0.0  0.458  6.998  45.8  6.0622  3.0  222.0   \n",
       "4  0.06905   0.0   2.18   0.0  0.458  7.147  54.2  6.0622  3.0  222.0   \n",
       "\n",
       "   PTRATIO       B  LSTAT  \n",
       "0     15.3  396.90   4.98  \n",
       "1     17.8  396.90   9.14  \n",
       "2     17.8  392.83   4.03  \n",
       "3     18.7  394.63   2.94  \n",
       "4     18.7  396.90   5.33  "
      ]
     },
     "execution_count": 410,
     "metadata": {},
     "output_type": "execute_result"
    }
   ],
   "source": [
    "x = pd.DataFrame(data.data)\n",
    "# rename colnames\n",
    "x.columns = colnames \n",
    "x.head()"
   ]
  },
  {
   "cell_type": "code",
   "execution_count": 510,
   "metadata": {},
   "outputs": [
    {
     "data": {
      "text/plain": [
       "array([45, 34, 12], dtype=int64)"
      ]
     },
     "execution_count": 510,
     "metadata": {},
     "output_type": "execute_result"
    }
   ],
   "source": [
    "slices = [45, 34, 12]\n",
    "x.index.ravel()[slices]"
   ]
  },
  {
   "cell_type": "code",
   "execution_count": 511,
   "metadata": {},
   "outputs": [
    {
     "data": {
      "text/plain": [
       "array([45, 34, 12], dtype=int64)"
      ]
     },
     "execution_count": 511,
     "metadata": {},
     "output_type": "execute_result"
    }
   ],
   "source": [
    "slices = [45, 34, 12]\n",
    "price.index.ravel()[slices]"
   ]
  },
  {
   "cell_type": "code",
   "execution_count": 508,
   "metadata": {},
   "outputs": [
    {
     "data": {
      "image/png": "[encoded data removed]",
      "text/plain": [
       "<matplotlib.figure.Figure at 0xe100ac8>"
      ]
     },
     "metadata": {},
     "output_type": "display_data"
    }
   ],
   "source": [
    "fig = plt.figure(figsize = (7, 7))\n",
    "\n",
    "plt.scatter(list(x.index), price)\n",
    "plt.xlabel('houses')\n",
    "plt.ylabel('price')\n",
    "\n",
    "plt.show()"
   ]
  },
  {
   "cell_type": "markdown",
   "metadata": {},
   "source": [
    "### Trained RF regressor (criterion='mse') scores "
   ]
  },
  {
   "cell_type": "code",
   "execution_count": 413,
   "metadata": {},
   "outputs": [
    {
     "name": "stderr",
     "output_type": "stream",
     "text": [
      "C:\\Users\\1098071\\AppData\\Local\\Continuum\\Anaconda3\\lib\\site-packages\\ipykernel_launcher.py:8: DataConversionWarning: A column-vector y was passed when a 1d array was expected. Please change the shape of y to (n_samples,), for example using ravel().\n",
      "  \n"
     ]
    },
    {
     "data": {
      "text/plain": [
       "RandomForestRegressor(bootstrap=True, criterion='mse', max_depth=None,\n",
       "           max_features='auto', max_leaf_nodes=None,\n",
       "           min_impurity_split=1e-07, min_samples_leaf=1,\n",
       "           min_samples_split=2, min_weight_fraction_leaf=0.0,\n",
       "           n_estimators=10, n_jobs=1, oob_score=False, random_state=0,\n",
       "           verbose=0, warm_start=False)"
      ]
     },
     "execution_count": 413,
     "metadata": {},
     "output_type": "execute_result"
    }
   ],
   "source": [
    "# train test split, which also has the shuffle parameter, by default shuffle = True\n",
    "x_train, x_test, y_train, y_test = train_test_split(x, price, test_size = 0.2, random_state = 0)\n",
    "\n",
    "\n",
    "# meaning of random state in RF here - control the randomness in feature subset selection at each split  \n",
    "\n",
    "regr = RandomForestRegressor(random_state = 0)\n",
    "regr.fit(x_train, y_train)"
   ]
  },
  {
   "cell_type": "markdown",
   "metadata": {},
   "source": [
    "### built-in and self defined MSE, r^2 comparison"
   ]
  },
  {
   "cell_type": "markdown",
   "metadata": {},
   "source": [
    "#### R^2 assesses goodness of fit of the model"
   ]
  },
  {
   "cell_type": "code",
   "execution_count": 416,
   "metadata": {},
   "outputs": [
    {
     "name": "stdout",
     "output_type": "stream",
     "text": [
      "built-in r^2 score is 0.7234367743733019\n",
      "defined variation explained by the model r^2 score is 0.7234367743733021\n"
     ]
    }
   ],
   "source": [
    "# coefficient of determination R^2 of the prediction, amount of variation in the depdent variable explained by the independent  variabels\n",
    "print ('built-in r^2 score is {}'.format(regr.score(x_test, y_test)))\n",
    "\n",
    "# definition of coefficient of determination\n",
    "r2 = 1 - sum((np.ravel(y_test) - regr.predict(x_test)) **2) /sum((np.ravel(y_test) - np.ravel(y_test).mean()) ** 2)\n",
    "\n",
    "print ('defined variation explained by the model r^2 score is {}'.format(r2))"
   ]
  },
  {
   "cell_type": "code",
   "execution_count": 421,
   "metadata": {},
   "outputs": [
    {
     "name": "stdout",
     "output_type": "stream",
     "text": [
      "22.5201117647\n",
      "2.04637747525\n"
     ]
    }
   ],
   "source": [
    "from sklearn.metrics import mean_squared_error  \n",
    "\n",
    "## built-in testing MSE \n",
    "y_pred = regr.predict(x_test)\n",
    "print (mean_squared_error(y_test, y_pred))\n",
    "\n",
    "## built-in training MSE\n",
    "print (mean_squared_error(y_train, regr.predict(x_train)))"
   ]
  },
  {
   "cell_type": "code",
   "execution_count": 424,
   "metadata": {
    "collapsed": true
   },
   "outputs": [],
   "source": [
    "# self-defined MSE function\n",
    "\n",
    "def MSE(x, y, model):\n",
    "    predicts = model.predict(x)\n",
    "    sse = []\n",
    "    \n",
    "    for i in range(len(predicts)):\n",
    "        sse.append((y.iloc[i] - predicts[i]) **2)\n",
    "\n",
    "    MSE = sum(sse)/len(predicts)\n",
    "    return MSE"
   ]
  },
  {
   "cell_type": "code",
   "execution_count": 425,
   "metadata": {
    "scrolled": true
   },
   "outputs": [
    {
     "name": "stdout",
     "output_type": "stream",
     "text": [
      "0    22.520112\n",
      "dtype: float64\n",
      "0    2.046377\n",
      "dtype: float64\n"
     ]
    }
   ],
   "source": [
    "## self defined testing MSE \n",
    "print (MSE(x_test, y_test, regr))\n",
    "\n",
    "## self defiend training MSE\n",
    "print (MSE(x_train, y_train, regr))"
   ]
  },
  {
   "cell_type": "code",
   "execution_count": null,
   "metadata": {
    "collapsed": true
   },
   "outputs": [],
   "source": []
  },
  {
   "cell_type": "markdown",
   "metadata": {},
   "source": [
    "#### KFold is only a splitter that can be used to implement CV manually "
   ]
  },
  {
   "cell_type": "code",
   "execution_count": 450,
   "metadata": {},
   "outputs": [
    {
     "name": "stdout",
     "output_type": "stream",
     "text": [
      "10\n"
     ]
    }
   ],
   "source": [
    "# Provides train/test indices to split data in train/test sets. \n",
    "# Split dataset into k consecutive folds. default shuffle = False\n",
    "# Each fold is then used once as a validation while the k - 1 remaining folds form the training set.\n",
    "\n",
    "from sklearn.model_selection import KFold \n",
    "\n",
    "kf = KFold(n_splits = 10, random_state = 0)\n",
    "\n",
    "print (kf.get_n_splits(x))"
   ]
  },
  {
   "cell_type": "code",
   "execution_count": 469,
   "metadata": {},
   "outputs": [],
   "source": [
    "# for train_index, test_index in kf.split(x):\n",
    "#     print('TRAIN:' ,train_index, 'TEST:' , test_index)"
   ]
  },
  {
   "cell_type": "code",
   "execution_count": 512,
   "metadata": {
    "collapsed": true
   },
   "outputs": [],
   "source": [
    "# print (train_index.shape)\n",
    "# print (test_index.shape)"
   ]
  },
  {
   "cell_type": "code",
   "execution_count": 517,
   "metadata": {},
   "outputs": [],
   "source": [
    "# CV with KFold manually \n",
    "\n",
    "# [regr.fit(x.index.ravel()[train_index], price.index.ravel()[train_index]).score(x.index.ravel()[test_index], price.index.ravel()[test_index]) for train_index, test_index in kf.split(x.index.ravel())]"
   ]
  },
  {
   "cell_type": "code",
   "execution_count": null,
   "metadata": {
    "collapsed": true
   },
   "outputs": [],
   "source": []
  },
  {
   "cell_type": "code",
   "execution_count": null,
   "metadata": {
    "collapsed": true
   },
   "outputs": [],
   "source": []
  },
  {
   "cell_type": "code",
   "execution_count": 454,
   "metadata": {},
   "outputs": [
    {
     "name": "stdout",
     "output_type": "stream",
     "text": [
      "(10,)\n"
     ]
    },
    {
     "data": {
      "text/plain": [
       "-24.341840454901963"
      ]
     },
     "execution_count": 454,
     "metadata": {},
     "output_type": "execute_result"
    }
   ],
   "source": [
    "# cross_val_score helper function uses KFold automatically in implementing cross validation when called upon \n",
    "\n",
    "print ((cross_val_score(regr, x, np.ravel(price), cv = kf, scoring = 'neg_mean_squared_error')).shape)\n",
    "\n",
    "np.mean(cross_val_score(regr, x, np.ravel(price), cv = kf, scoring = 'neg_mean_squared_error'))"
   ]
  },
  {
   "cell_type": "code",
   "execution_count": 491,
   "metadata": {},
   "outputs": [
    {
     "data": {
      "text/plain": [
       "24.341840454901963"
      ]
     },
     "execution_count": 491,
     "metadata": {},
     "output_type": "execute_result"
    }
   ],
   "source": [
    "from sklearn.metrics import make_scorer\n",
    "from sklearn.metrics import mean_squared_error\n",
    "\n",
    "MSE = make_scorer(mean_squared_error)\n",
    "np.mean(cross_val_score(regr, x, np.ravel(price), cv = kf, scoring = MSE))"
   ]
  },
  {
   "cell_type": "code",
   "execution_count": null,
   "metadata": {
    "collapsed": true
   },
   "outputs": [],
   "source": []
  },
  {
   "cell_type": "markdown",
   "metadata": {},
   "source": [
    "### MSEs are the same for the followings \n",
    "- self defined\n",
    "- sklearn.metrics.mean_squared_error\n",
    "- sklearn.mode_selection.cross_val_score scoring ='neg_mean_squared_error' \n"
   ]
  },
  {
   "cell_type": "code",
   "execution_count": null,
   "metadata": {
    "collapsed": true
   },
   "outputs": [],
   "source": []
  },
  {
   "cell_type": "markdown",
   "metadata": {},
   "source": [
    "## Cross Validation in expected testing error estimation\n",
    "\n",
    "### sklearn.model_selection. cross_val_score\n",
    "### self-defiend MSE in self-defined MSE\n",
    "### sklearn.model_selection. ShuffleSplit"
   ]
  },
  {
   "cell_type": "markdown",
   "metadata": {},
   "source": [
    "The cross_validate function differs from cross_val_score in two ways \n",
    "- It allows specifying multiple metrics for evaluation.\n",
    "- It returns a dict containing training scores, fit-times and score-times in addition to the test score."
   ]
  },
  {
   "cell_type": "markdown",
   "metadata": {},
   "source": [
    "Random Initialization\n",
    "Some cross validation iterators, such as KFold, have an inbuilt option to shuffle the data indices before splitting them. Note that:\n",
    "- This consumes less memory than shuffling the data directly.\n",
    "- By default no shuffling occurs, including for the (stratified) K fold cross- validation performed by specifying cv=some_integer to cross_val_score, grid search, etc. Keep in mind that train_test_split still returns a random split.\n",
    "- The random_state parameter defaults to None, meaning that the shuffling will be different every time KFold(..., shuffle=True) is iterated. However, GridSearchCV will use the same shuffling for each set of parameters validated by a single call to its fit method.\n",
    "- To get identical results for each split, set random_state to an integer."
   ]
  },
  {
   "cell_type": "markdown",
   "metadata": {},
   "source": [
    "#### model_selection.cross_val_score"
   ]
  },
  {
   "cell_type": "code",
   "execution_count": 519,
   "metadata": {
    "scrolled": true
   },
   "outputs": [
    {
     "name": "stdout",
     "output_type": "stream",
     "text": [
      "K = 10, neg_mean_squared_error: -24.341840454901963\n",
      "K = 20, neg_mean_squared_error: -25.02860116923077\n",
      "K = 50, neg_mean_squared_error: -20.55630070909091\n",
      "K = 100, neg_mean_squared_error: -17.627685333333332\n",
      "K = 150, neg_mean_squared_error: -18.767784666666664\n",
      "K = 200, neg_mean_squared_error: -14.287764333333335\n",
      "K = 250, neg_mean_squared_error: -13.2710046\n",
      "K = 300, neg_mean_squared_error: -12.544372\n",
      "K = 350, neg_mean_squared_error: -12.877516428571427\n",
      "K = 400, neg_mean_squared_error: -12.645282125\n"
     ]
    }
   ],
   "source": [
    "# cross_val_score wants y as  np array instead of pd data frame \n",
    "# CV in estimating EXPECTED testing error \n",
    "\n",
    "regr = RandomForestRegressor(random_state = 0)\n",
    "\n",
    "folds = [10, 20, 50, 100, 150, 200, 250, 300, 350, 400]\n",
    "n_folds = len(folds)\n",
    "neg_mean_squared_error = []\n",
    "n = x.shape[0]\n",
    "\n",
    "# Run K-folds\n",
    "for k in folds:\n",
    "    scores = cross_val_score(regr, x, np.ravel(price), cv = k, scoring = 'neg_mean_squared_error')\n",
    "    neg_mean_squared_error.append(scores.mean())\n",
    " \n",
    "    print(\"K = {}, neg_mean_squared_error: {}\".format (k, neg_mean_squared_error[-1]))"
   ]
  },
  {
   "cell_type": "markdown",
   "metadata": {},
   "source": [
    "### cross_val_score calls KFold automatically to split the data and compute test error "
   ]
  },
  {
   "cell_type": "code",
   "execution_count": 525,
   "metadata": {},
   "outputs": [
    {
     "name": "stdout",
     "output_type": "stream",
     "text": [
      "10 folds cv estimates of test error is 24.341840454901963\n",
      "20 folds cv estimates of test error is 25.02860116923077\n",
      "50 folds cv estimates of test error is 20.55630070909091\n",
      "100 folds cv estimates of test error is 17.627685333333332\n",
      "150 folds cv estimates of test error is 18.767784666666664\n",
      "200 folds cv estimates of test error is 14.287764333333335\n",
      "250 folds cv estimates of test error is 13.2710046\n",
      "300 folds cv estimates of test error is 12.544372\n",
      "350 folds cv estimates of test error is 12.877516428571427\n",
      "400 folds cv estimates of test error is 12.645282125\n"
     ]
    }
   ],
   "source": [
    "# the above should be the same as the following implementation using KFold and make_scorer \n",
    "\n",
    "regr = RandomForestRegressor(random_state = 0)\n",
    "folds = [10, 20, 50, 100, 150, 200, 250, 300, 350, 400]\n",
    "n_folds = len(folds)\n",
    "MSE = make_scorer(mean_squared_error)\n",
    "MSE_error_list = [] \n",
    "\n",
    "for k in folds:\n",
    "    kf = KFold(n_splits = k, random_state = 0)\n",
    "    scores = cross_val_score(regr, x, np.ravel(price), cv = kf, scoring = MSE)\n",
    "    MSE_error_list.append(np.mean(scores))\n",
    "    \n",
    "    print ('{} folds cv estimates of test error is {}'.format(k, MSE_error_list[-1]))"
   ]
  },
  {
   "cell_type": "code",
   "execution_count": 559,
   "metadata": {},
   "outputs": [
    {
     "data": {
      "text/plain": [
       "(range(1, 11),\n",
       " [24.341840454901963,\n",
       "  25.028601169230772,\n",
       "  20.556300709090909,\n",
       "  17.627685333333332,\n",
       "  18.767784666666664,\n",
       "  14.287764333333335,\n",
       "  13.271004599999999,\n",
       "  12.544371999999999,\n",
       "  12.877516428571427,\n",
       "  12.645282125],\n",
       " array([ 4.93374507,  5.0028593 ,  4.53390568,  4.19853371,  4.33218013,\n",
       "         3.77991592,  3.64293901,  3.5418035 ,  3.58852566,  3.55602055]))"
      ]
     },
     "execution_count": 559,
     "metadata": {},
     "output_type": "execute_result"
    }
   ],
   "source": [
    "## use range to create arry for  ticker location indication\n",
    "\n",
    "# [range(1, n_folds + 1), MSE_error_list, [5] * n_folds]\n",
    "range(1, n_folds + 1), MSE_error_list, np.sqrt(MSE_error_list)\n",
    "\n",
    "# range(0, n_folds + 2), [''] + [str(k) for k in folds] + ['']"
   ]
  },
  {
   "cell_type": "markdown",
   "metadata": {},
   "source": [
    "### CI for CV expected test error estimation \n",
    "- generally lower k, higher bias, lower variance of the estiamted test error \n",
    "- generally higher k, lower bias, higher variance of the estiamted expected test error \n",
    "- too high k, higher correlations among the data sets used to train the model in each fold (LOOCV as an extreme case), high variance, almost no bias of the estiamted expected test error"
   ]
  },
  {
   "cell_type": "markdown",
   "metadata": {},
   "source": [
    "strictly speaking  \n",
    "95% CI for mean estimates with unknow standard error follows xbar +/- 1.96 * standard error of estimator/ sqrt(sample size n)"
   ]
  },
  {
   "cell_type": "code",
   "execution_count": 557,
   "metadata": {},
   "outputs": [
    {
     "data": {
      "text/plain": [
       "<matplotlib.text.Text at 0xf75b240>"
      ]
     },
     "execution_count": 557,
     "metadata": {},
     "output_type": "execute_result"
    },
    {
     "data": {
      "image/png": "[encoded data removed]",
      "text/plain": [
       "<matplotlib.figure.Figure at 0xfea46d8>"
      ]
     },
     "metadata": {},
     "output_type": "display_data"
    }
   ],
   "source": [
    "# plot cv test estimation and standard error of the estiamtion together  \n",
    "# 95% CI of the mean (estimates of expected test error)\n",
    "\n",
    "fig = plt.figure(figsize = (10, 10))\n",
    "plt.errorbar(range(1, n_folds + 1), MSE_error_list, np.sqrt(MSE_error_list))  \n",
    "ax = plt.gca()\n",
    "plt.xticks(range(0, n_folds + 2), [''] + [str(k) for k in folds] + [''])\n",
    "# plt.yticks(range(30, 110, 10))\n",
    "\n",
    "plt.title(\"K-fold Cross-validation testing error estimation\")\n",
    "plt.xlabel(\"number of folds\")\n",
    "plt.ylabel(\"mean_squared_error\")"
   ]
  },
  {
   "cell_type": "markdown",
   "metadata": {},
   "source": [
    "### bias and variance from k folds cross validation estimation of expected test error \n",
    "#### ideally, this estimation of error should be close to zero\n",
    "To check out you model’s bias, find out the mean of all the error estiamtes. If this value is low, it basically means that your model gives low error on an average– indirectly ensuring that your model’s notions about the data are accurate enough.\n",
    "\n",
    "To check out your model’s variance, compute the standard deviation of all the error estimates. If this value is high, it means that your model’s performance varies a lot with the dataset used for training."
   ]
  },
  {
   "cell_type": "code",
   "execution_count": 551,
   "metadata": {},
   "outputs": [],
   "source": [
    "# fig = plt.figure(figsize = (10, 10))\n",
    "# plt.errorbar(range(1, n_folds + 1), MSE_error_list, yerr=[5] * n_folds)  # Use 5% for the error bars\n",
    "# ax = plt.gca()\n",
    "# plt.xticks(range(0, n_folds + 2), [''] + [str(k) for k in folds] + [''])\n",
    "# # plt.yticks(range(30, 110, 10))\n",
    "\n",
    "# plt.title(\"K-fold Cross-validation testing error estimation\")\n",
    "# plt.xlabel(\"number of folds\")\n",
    "# plt.ylabel(\"mean_squared_error\")"
   ]
  },
  {
   "cell_type": "code",
   "execution_count": 553,
   "metadata": {},
   "outputs": [
    {
     "name": "stdout",
     "output_type": "stream",
     "text": [
      "504.31333333333333\n"
     ]
    }
   ],
   "source": [
    "# when the number of folds is 400, training sample size is around 504, which is like using all the sample data in training the model\n",
    "# test error stablizes after 300 folds\n",
    "(x.shape[0]/ 400) *399\n",
    "print ((x.shape[0]/ 300) *299)"
   ]
  },
  {
   "cell_type": "code",
   "execution_count": 338,
   "metadata": {},
   "outputs": [
    {
     "name": "stderr",
     "output_type": "stream",
     "text": [
      "C:\\Users\\1098071\\AppData\\Local\\Continuum\\Anaconda3\\lib\\site-packages\\ipykernel_launcher.py:1: DataConversionWarning: A column-vector y was passed when a 1d array was expected. Please change the shape of y to (n_samples,), for example using ravel().\n",
      "  \"\"\"Entry point for launching an IPython kernel.\n"
     ]
    },
    {
     "data": {
      "image/png": "[encoded data removed]",
      "text/plain": [
       "<matplotlib.figure.Figure at 0xc09bc88>"
      ]
     },
     "metadata": {},
     "output_type": "display_data"
    }
   ],
   "source": [
    "regr.fit(x_train, y_train)\n",
    "\n",
    "fig = plt.figure(figsize = (7, 7))\n",
    "\n",
    "fig.add_subplot(1, 1, 1)\n",
    "plt.scatter(list(x.index), y = regr.predict(x), color = 'r', marker = '*')\n",
    "\n",
    "plt.scatter(list(x.index), price)\n",
    "plt.xlabel('houses')\n",
    "plt.ylabel('price')\n",
    "\n",
    "plt.show()"
   ]
  },
  {
   "cell_type": "code",
   "execution_count": null,
   "metadata": {
    "collapsed": true
   },
   "outputs": [],
   "source": []
  },
  {
   "cell_type": "code",
   "execution_count": null,
   "metadata": {
    "collapsed": true
   },
   "outputs": [],
   "source": []
  },
  {
   "cell_type": "code",
   "execution_count": null,
   "metadata": {
    "collapsed": true
   },
   "outputs": [],
   "source": []
  },
  {
   "cell_type": "code",
   "execution_count": null,
   "metadata": {
    "collapsed": true
   },
   "outputs": [],
   "source": []
  },
  {
   "cell_type": "markdown",
   "metadata": {},
   "source": [
    "### CV Folds and leanring curve "
   ]
  },
  {
   "cell_type": "markdown",
   "metadata": {},
   "source": [
    "too large the K could lead to overestimation of the EXPECTED testing error as training set inclues most of the sample data available \n",
    "the large K could also leads to higher run time and  higher varince \n",
    "when the slope of learning curve is flat for 90% of the data, it's ok to ignore the bias and use k = 10\n",
    "\n",
    "A learning curve shows the validation and training score of an estimator for varying numbers of training samples. It is a tool to find out how much we benefit from adding more training data and whether the estimator suffers more from a variance error or a bias error. If both the validation score and the training score converge to a value that is too low with increasing size of the training set, we will not benefit much from more training data."
   ]
  },
  {
   "cell_type": "code",
   "execution_count": 252,
   "metadata": {},
   "outputs": [],
   "source": [
    "# Learning Curve - Determines cross-validated training and test scores for different training set sizes\n",
    "## If the slope of the learning curve is flat enough at training_size = 90% of total dataset, then the bias can be ignored and K=10 is reasonable.\n",
    "\n",
    "\n",
    "from sklearn.model_selection import learning_curve\n",
    "from sklearn.model_selection import ShuffleSplit\n"
   ]
  },
  {
   "cell_type": "code",
   "execution_count": 279,
   "metadata": {},
   "outputs": [],
   "source": [
    "# help(ShuffleSplit)"
   ]
  },
  {
   "cell_type": "code",
   "execution_count": 281,
   "metadata": {
    "collapsed": true
   },
   "outputs": [],
   "source": [
    "def plot_learning_curve(estimator, title, X, y, ylim=None, cv=None, n_jobs=1, train_sizes=np.linspace(.1, 1.0, 5)):\n",
    "    \"\"\"\n",
    "    estimator : object type that implements the \"fit\" and \"predict\" methods\n",
    "        An object of that type which is cloned for each validation.\n",
    "\n",
    "    X : array-like, shape (n_samples, n_features)\n",
    "        Training vector, where n_samples is the number of samples and\n",
    "        n_features is the number of features.\n",
    "\n",
    "    y : array-like, shape (n_samples) or (n_samples, n_features), optional\n",
    "        Target relative to X for classification or regression;\n",
    "        None for unsupervised learning.\n",
    "\n",
    "    ylim : tuple, shape (ymin, ymax), optional Defines minimum and maximum yvalues plotted.\n",
    "\n",
    "    cv : int, cross-validation generator or an iterable, optional\n",
    "        Determines the cross-validation splitting strategy.\n",
    "        Possible inputs for cv are:\n",
    "          - None, to use the default 3-fold cross-validation,\n",
    "          - integer, to specify the number of folds.\n",
    "          - An object to be used as a cross-validation generator.\n",
    "          - An iterable yielding train/test splits.\n",
    "\n",
    "        For integer/None inputs, if ``y`` is binary or multiclass,\n",
    "        :class:`StratifiedKFold` used. If the estimator is not a classifier\n",
    "        or if ``y`` is neither binary nor multiclass, :class:`KFold` is used.\n",
    "\n",
    "        Refer :ref:`User Guide <cross_validation>` for the various\n",
    "        cross-validators that can be used here.\n",
    "\n",
    "    n_jobs : integer, optional Number of jobs to run in parallel (default 1).\n",
    "    \"\"\"\n",
    "    plt.figure(figsize = (10, 10))\n",
    "    plt.title(title)\n",
    "    if ylim is not None:\n",
    "        plt.ylim(*ylim)\n",
    "    plt.xlabel(\"Training examples\")\n",
    "    plt.ylabel(\"neg_MSE Score\")\n",
    "    \n",
    "    train_sizes, train_scores, test_scores = learning_curve(estimator, X, y, cv=cv, scoring = 'neg_mean_squared_error', n_jobs=n_jobs, train_sizes=train_sizes)\n",
    "    train_scores_mean = np.mean(train_scores, axis=1)\n",
    "    train_scores_std = np.std(train_scores, axis=1)\n",
    "    test_scores_mean = np.mean(test_scores, axis=1)\n",
    "    test_scores_std = np.std(test_scores, axis=1)\n",
    "    \n",
    "    plt.grid()\n",
    "\n",
    "    plt.fill_between(train_sizes, train_scores_mean - train_scores_std, train_scores_mean + train_scores_std, alpha=0.1, color=\"r\")\n",
    "    plt.fill_between(train_sizes, test_scores_mean - test_scores_std, test_scores_mean + test_scores_std, alpha=0.1, color=\"g\")\n",
    "    plt.plot(train_sizes, train_scores_mean, 'o-', color=\"r\", label=\"Training score\")\n",
    "    plt.plot(train_sizes, test_scores_mean, 'o-', color=\"g\", label=\"Cross-validation score\")\n",
    "\n",
    "    plt.legend(loc=\"best\")\n",
    "    return plt\n"
   ]
  },
  {
   "cell_type": "code",
   "execution_count": 285,
   "metadata": {},
   "outputs": [
    {
     "data": {
      "image/png": "[encoded data removed]",
      "text/plain": [
       "<matplotlib.figure.Figure at 0xcb2cc18>"
      ]
     },
     "metadata": {},
     "output_type": "display_data"
    }
   ],
   "source": [
    "title = \"Learning Curves (Random Forest)\"\n",
    "# Cross validation with 100 iterations to get smoother mean test and train score curves, each time with 20% data randomly selected as a validation set.\n",
    "cv = ShuffleSplit(n_splits=100, test_size=0.2, random_state=0)\n",
    "\n",
    "plot_learning_curve(regr, title, x, price, # ylim=(0.7, 1.01), \n",
    "                    cv=cv, n_jobs=4)\n",
    "\n",
    "plt.show()"
   ]
  },
  {
   "cell_type": "markdown",
   "metadata": {},
   "source": [
    "### When a fit has high bias, the training and cross-validation error converge at high error values. When a fit has high variance, as the number of samples increases, the gap between the training error and cross-validation error remains large. "
   ]
  },
  {
   "cell_type": "code",
   "execution_count": null,
   "metadata": {
    "collapsed": true
   },
   "outputs": [],
   "source": []
  },
  {
   "cell_type": "code",
   "execution_count": null,
   "metadata": {
    "collapsed": true
   },
   "outputs": [],
   "source": []
  },
  {
   "cell_type": "markdown",
   "metadata": {},
   "source": [
    "#### self-defined MSE and  self-defined CV"
   ]
  },
  {
   "cell_type": "code",
   "execution_count": 340,
   "metadata": {
    "collapsed": true
   },
   "outputs": [],
   "source": [
    "# self-defined MSE function\n",
    "\n",
    "def MSE(x, y, model):\n",
    "    predicts = model.predict(x)\n",
    "    sse = []\n",
    "    \n",
    "    for i in range(len(predicts)):\n",
    "        sse.append((y[i] - predicts[i]) **2)\n",
    "\n",
    "    MSE = sum(sse)/len(predicts)\n",
    "    return MSE"
   ]
  },
  {
   "cell_type": "code",
   "execution_count": 341,
   "metadata": {
    "collapsed": true
   },
   "outputs": [],
   "source": [
    "# split data into k folds\n",
    "\n",
    "def cv_split(data, kfold):\n",
    "    index_test = []\n",
    "    index_train =[]\n",
    "    fold_size = int(data.shape[0] / kfold)\n",
    "    \n",
    "    for i in range(kfold):\n",
    "        \n",
    "        index_te = random.sample(range(data.shape[0]), fold_size)\n",
    "        index_tr = list(set(range(data.shape[0])) - set(index_te))\n",
    "        \n",
    "        index_test.append(index_te)\n",
    "        index_train.append(index_tr)\n",
    "    \n",
    "    return index_test, index_train"
   ]
  },
  {
   "cell_type": "code",
   "execution_count": 342,
   "metadata": {
    "collapsed": true
   },
   "outputs": [],
   "source": [
    "# get cv result with MSE scores\n",
    "\n",
    "def cv_cal(x, y, model, kfold):\n",
    "    cv_MSE = []\n",
    "    for i in range (kfold):\n",
    "        \n",
    "        index_test, index_train = cv_split(x, kfold)\n",
    "        y_test = y[index_test[i]]\n",
    "        x_test = x.iloc[index_test[i]]\n",
    "        \n",
    "        x_train = x.iloc[index_train[i]]\n",
    "        y_train = y[index_train[i]]\n",
    "        \n",
    "        fitted = model.fit(x_train, y_train)\n",
    "       \n",
    "        cv_MSE.append(MSE(x_test, y_test, fitted))\n",
    "        \n",
    "    return cv_MSE"
   ]
  },
  {
   "cell_type": "code",
   "execution_count": 356,
   "metadata": {},
   "outputs": [
    {
     "data": {
      "text/plain": [
       "12.228072134387359"
      ]
     },
     "execution_count": 356,
     "metadata": {},
     "output_type": "execute_result"
    }
   ],
   "source": [
    "from random import seed\n",
    "# seed(0)\n",
    "\n",
    "regr = RandomForestRegressor(random_state = 0)\n",
    "\n",
    "kf = int(x.shape[0]/2)\n",
    "# kf = 10 \n",
    "cv_MSE = cv_cal(x, np.ravel(price), regr, kfold = kf)\n",
    "\n",
    "# print (cv_MSE)\n",
    "sum(cv_MSE)/ kf"
   ]
  },
  {
   "cell_type": "code",
   "execution_count": 362,
   "metadata": {},
   "outputs": [],
   "source": [
    "plot_mse = []\n",
    "for kf in range(10, 50):\n",
    "    seed(0)\n",
    "    regr = RandomForestRegressor(random_state = 0)\n",
    "    plot_mse.append(sum(cv_cal(x, np.ravel(price), regr, kfold = kf))/kf)"
   ]
  },
  {
   "cell_type": "code",
   "execution_count": 364,
   "metadata": {},
   "outputs": [
    {
     "data": {
      "image/png": "[encoded data removed]",
      "text/plain": [
       "<matplotlib.figure.Figure at 0xcd716d8>"
      ]
     },
     "metadata": {},
     "output_type": "display_data"
    }
   ],
   "source": [
    "fig = plt.figure(figsize = (10, 10))\n",
    "\n",
    "plt.scatter (range(10, 50), plot_mse)\n",
    "plt.xlabel('number of folds')\n",
    "plt.ylabel('CV error estimation')\n",
    "\n",
    "plt.show()"
   ]
  },
  {
   "cell_type": "code",
   "execution_count": 357,
   "metadata": {},
   "outputs": [
    {
     "data": {
      "text/plain": [
       "253"
      ]
     },
     "execution_count": 357,
     "metadata": {},
     "output_type": "execute_result"
    }
   ],
   "source": [
    "int(x.shape[0]/2)"
   ]
  },
  {
   "cell_type": "code",
   "execution_count": null,
   "metadata": {
    "collapsed": true
   },
   "outputs": [],
   "source": []
  },
  {
   "cell_type": "markdown",
   "metadata": {},
   "source": [
    "## Tuning & Cross Validation \n",
    "### sklearn.model_selection.GridSearchCV\n",
    "### self-defined gready search tuning "
   ]
  },
  {
   "cell_type": "code",
   "execution_count": null,
   "metadata": {
    "collapsed": true
   },
   "outputs": [],
   "source": [
    "# self-defined MSE function\n",
    "\n",
    "def MSE(x, y, model):\n",
    "    predicts = model.predict(x)\n",
    "    sse = []\n",
    "    \n",
    "    for i in range(len(predicts)):\n",
    "        sse.append((y.iloc[i] - predicts[i]) **2)\n",
    "\n",
    "    MSE = sum(sse)/len(predicts)\n",
    "    return MSE"
   ]
  },
  {
   "cell_type": "code",
   "execution_count": null,
   "metadata": {
    "collapsed": true
   },
   "outputs": [],
   "source": [
    "def search_alpha(alphas):\n",
    "    \n",
    "    raw_mse = {}\n",
    "\n",
    "    for j in alphas:\n",
    "\n",
    "        MSE_list = []\n",
    "        for i in range(5):\n",
    "        # need to iterate through each fold of the splited data and train, test, calculate the averaged MSE            \n",
    "            x_train, x_test, y_train, y_test =  train_test_split(data2[featurelist], data2['MKTCAP'], test_size = 0.2, random_state = 0 )\n",
    "            lasso = linear_model.Lasso(alpha = j)\n",
    "            lasso.fit(x_train, y_train)\n",
    "            MSE_list.append(MSE(x_test, y_test, lasso))\n",
    "\n",
    "            raw_mse[j] = MSE_list   \n",
    "\n",
    "    return raw_mse"
   ]
  },
  {
   "cell_type": "markdown",
   "metadata": {},
   "source": [
    "### self defined GridSearch"
   ]
  },
  {
   "cell_type": "code",
   "execution_count": null,
   "metadata": {
    "collapsed": true
   },
   "outputs": [],
   "source": [
    "alphas = list(np.arange(0.01, 1, 0.01) )\n",
    "raw = search_alpha(alphas)"
   ]
  },
  {
   "cell_type": "code",
   "execution_count": null,
   "metadata": {
    "collapsed": true
   },
   "outputs": [],
   "source": [
    "mse = []\n",
    "for i in raw.keys():\n",
    "    mse.append(sum(raw[i])/len(raw[i]))\n",
    "\n",
    "print (min(mse))"
   ]
  },
  {
   "cell_type": "code",
   "execution_count": null,
   "metadata": {
    "collapsed": true
   },
   "outputs": [],
   "source": [
    "fig = plt.figure(figsize = (10, 10))\n",
    "\n",
    "plt.scatter(alphas, mse, marker = '*')\n",
    "plt.xlabel('alpha')\n",
    "plt.ylabel('mse')\n",
    "\n",
    "plt.show()"
   ]
  },
  {
   "cell_type": "markdown",
   "metadata": {},
   "source": [
    "### built-in GridSearchCV"
   ]
  },
  {
   "cell_type": "code",
   "execution_count": null,
   "metadata": {
    "collapsed": true
   },
   "outputs": [],
   "source": [
    "\n",
    "# prepare a range of alpha values to test\n",
    "param_grid = {\n",
    "#               \"alpha\":[0, 1, 0.1]\n",
    "                \"alpha\": np.arange(0, 1, 0.01)\n",
    "             }\n",
    "\n",
    "# create and fit a lasso regression model, testing each alpha\n",
    "lasso = Lasso()\n",
    "# This is assumed to implement the scikit-learn estimator interface. Either estimator needs to provide a score function\n",
    "# or scoring must be passed.\n",
    "\n",
    "#### would still want to use mean squared error instead of r^2\n",
    "grid = GridSearchCV(estimator = lasso, scoring = 'r2', param_grid = param_grid )\n",
    "grid.fit(dataset.data, dataset.target)\n",
    "print(grid)\n",
    "\n",
    "\n",
    "# summarize the results of the grid search\n",
    "print(grid.best_score_)\n",
    "print(grid.best_estimator_.alpha)"
   ]
  },
  {
   "cell_type": "code",
   "execution_count": null,
   "metadata": {
    "collapsed": true
   },
   "outputs": [],
   "source": [
    "fig = plt.figure(figsize = (7, 7))\n",
    "\n",
    "scores = grid.cv_results_['mean_test_score']\n",
    "alphas = np.arange(0, 1, 0.01)\n",
    "plt.scatter(alphas, scores, marker = '*')\n",
    "\n",
    "plt.show()"
   ]
  },
  {
   "cell_type": "code",
   "execution_count": null,
   "metadata": {
    "collapsed": true
   },
   "outputs": [],
   "source": []
  },
  {
   "cell_type": "code",
   "execution_count": null,
   "metadata": {
    "collapsed": true
   },
   "outputs": [],
   "source": []
  },
  {
   "cell_type": "code",
   "execution_count": null,
   "metadata": {
    "collapsed": true
   },
   "outputs": [],
   "source": []
  },
  {
   "cell_type": "code",
   "execution_count": null,
   "metadata": {
    "collapsed": true
   },
   "outputs": [],
   "source": []
  }
 ],
 "metadata": {
  "kernelspec": {
   "display_name": "Python 3",
   "language": "python",
   "name": "python3"
  },
  "language_info": {
   "codemirror_mode": {
    "name": "ipython",
    "version": 3
   },
   "file_extension": ".py",
   "mimetype": "text/x-python",
   "name": "python",
   "nbconvert_exporter": "python",
   "pygments_lexer": "ipython3",
   "version": "3.6.1"
  }
 },
 "nbformat": 4,
 "nbformat_minor": 2
}
