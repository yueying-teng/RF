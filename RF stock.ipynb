{
 "cells": [
  {
   "cell_type": "code",
   "execution_count": null,
   "metadata": {
    "collapsed": true
   },
   "outputs": [],
   "source": [
    "# NB/ RF and stock trend\n",
    "\n",
    "# RF and time series "
   ]
  },
  {
   "cell_type": "code",
   "execution_count": 212,
   "metadata": {},
   "outputs": [],
   "source": [
    "import pandas as pd\n",
    "import numpy as np\n",
    "\n",
    "import matplotlib.pyplot as plt\n",
    "% matplotlib inline \n",
    "import seaborn as sns\n",
    "\n",
    "from sklearn.model_selection import train_test_split\n",
    "from sklearn.model_selection import GridSearchCV\n",
    "from sklearn.model_selection import cross_val_score\n",
    "\n",
    "from sklearn.naive_bayes import GaussianNB\n",
    "from sklearn.ensemble import RandomForestClassifier\n",
    "from sklearn.ensemble import RandomForestRegressor\n",
    "\n",
    "\n",
    "from sklearn.metrics import make_scorer, accuracy_score, mean_squared_error "
   ]
  },
  {
   "cell_type": "markdown",
   "metadata": {},
   "source": [
    "## Time Series PLot "
   ]
  },
  {
   "cell_type": "code",
   "execution_count": 86,
   "metadata": {},
   "outputs": [
    {
     "data": {
      "text/html": [
       "<div>\n",
       "<style>\n",
       "    .dataframe thead tr:only-child th {\n",
       "        text-align: right;\n",
       "    }\n",
       "\n",
       "    .dataframe thead th {\n",
       "        text-align: left;\n",
       "    }\n",
       "\n",
       "    .dataframe tbody tr th {\n",
       "        vertical-align: top;\n",
       "    }\n",
       "</style>\n",
       "<table border=\"1\" class=\"dataframe\">\n",
       "  <thead>\n",
       "    <tr style=\"text-align: right;\">\n",
       "      <th></th>\n",
       "      <th>Name</th>\n",
       "      <th>2012-08-13</th>\n",
       "      <th>2012-08-14</th>\n",
       "      <th>2012-08-15</th>\n",
       "      <th>2012-08-16</th>\n",
       "      <th>2012-08-17</th>\n",
       "      <th>2012-08-20</th>\n",
       "      <th>2012-08-21</th>\n",
       "      <th>2012-08-22</th>\n",
       "      <th>2012-08-23</th>\n",
       "      <th>...</th>\n",
       "      <th>2017-07-31</th>\n",
       "      <th>2017-08-01</th>\n",
       "      <th>2017-08-02</th>\n",
       "      <th>2017-08-03</th>\n",
       "      <th>2017-08-04</th>\n",
       "      <th>2017-08-07</th>\n",
       "      <th>2017-08-08</th>\n",
       "      <th>2017-08-09</th>\n",
       "      <th>2017-08-10</th>\n",
       "      <th>2017-08-11</th>\n",
       "    </tr>\n",
       "  </thead>\n",
       "  <tbody>\n",
       "    <tr>\n",
       "      <th>0</th>\n",
       "      <td>A</td>\n",
       "      <td>40.380000</td>\n",
       "      <td>40.490000</td>\n",
       "      <td>40.480000</td>\n",
       "      <td>37.150000</td>\n",
       "      <td>37.220000</td>\n",
       "      <td>36.680000</td>\n",
       "      <td>37.130000</td>\n",
       "      <td>37.460000</td>\n",
       "      <td>37.470000</td>\n",
       "      <td>...</td>\n",
       "      <td>59.79</td>\n",
       "      <td>59.94</td>\n",
       "      <td>60.20</td>\n",
       "      <td>60.37</td>\n",
       "      <td>60.13</td>\n",
       "      <td>60.87</td>\n",
       "      <td>60.14</td>\n",
       "      <td>59.68</td>\n",
       "      <td>58.57</td>\n",
       "      <td>59.33</td>\n",
       "    </tr>\n",
       "    <tr>\n",
       "      <th>1</th>\n",
       "      <td>AAL</td>\n",
       "      <td>41.509644</td>\n",
       "      <td>41.509644</td>\n",
       "      <td>41.509644</td>\n",
       "      <td>41.509644</td>\n",
       "      <td>41.509644</td>\n",
       "      <td>41.509644</td>\n",
       "      <td>41.509644</td>\n",
       "      <td>41.509644</td>\n",
       "      <td>41.509644</td>\n",
       "      <td>...</td>\n",
       "      <td>50.44</td>\n",
       "      <td>51.06</td>\n",
       "      <td>50.45</td>\n",
       "      <td>50.55</td>\n",
       "      <td>50.80</td>\n",
       "      <td>50.58</td>\n",
       "      <td>50.00</td>\n",
       "      <td>49.40</td>\n",
       "      <td>48.55</td>\n",
       "      <td>48.35</td>\n",
       "    </tr>\n",
       "    <tr>\n",
       "      <th>2</th>\n",
       "      <td>AAP</td>\n",
       "      <td>69.110000</td>\n",
       "      <td>70.670000</td>\n",
       "      <td>71.300000</td>\n",
       "      <td>72.460000</td>\n",
       "      <td>72.870000</td>\n",
       "      <td>71.580000</td>\n",
       "      <td>72.000000</td>\n",
       "      <td>72.200000</td>\n",
       "      <td>71.960000</td>\n",
       "      <td>...</td>\n",
       "      <td>112.01</td>\n",
       "      <td>114.05</td>\n",
       "      <td>114.48</td>\n",
       "      <td>110.53</td>\n",
       "      <td>111.01</td>\n",
       "      <td>109.49</td>\n",
       "      <td>109.39</td>\n",
       "      <td>109.18</td>\n",
       "      <td>106.13</td>\n",
       "      <td>107.34</td>\n",
       "    </tr>\n",
       "    <tr>\n",
       "      <th>3</th>\n",
       "      <td>AAPL</td>\n",
       "      <td>90.000000</td>\n",
       "      <td>90.240000</td>\n",
       "      <td>90.120000</td>\n",
       "      <td>90.910000</td>\n",
       "      <td>92.590000</td>\n",
       "      <td>95.020000</td>\n",
       "      <td>93.720000</td>\n",
       "      <td>95.550000</td>\n",
       "      <td>94.660000</td>\n",
       "      <td>...</td>\n",
       "      <td>148.73</td>\n",
       "      <td>150.05</td>\n",
       "      <td>157.14</td>\n",
       "      <td>155.57</td>\n",
       "      <td>156.39</td>\n",
       "      <td>158.81</td>\n",
       "      <td>160.08</td>\n",
       "      <td>161.06</td>\n",
       "      <td>155.32</td>\n",
       "      <td>157.48</td>\n",
       "    </tr>\n",
       "    <tr>\n",
       "      <th>4</th>\n",
       "      <td>ABBV</td>\n",
       "      <td>56.629558</td>\n",
       "      <td>56.629558</td>\n",
       "      <td>56.629558</td>\n",
       "      <td>56.629558</td>\n",
       "      <td>56.629558</td>\n",
       "      <td>56.629558</td>\n",
       "      <td>56.629558</td>\n",
       "      <td>56.629558</td>\n",
       "      <td>56.629558</td>\n",
       "      <td>...</td>\n",
       "      <td>69.91</td>\n",
       "      <td>70.38</td>\n",
       "      <td>70.71</td>\n",
       "      <td>70.99</td>\n",
       "      <td>70.99</td>\n",
       "      <td>71.22</td>\n",
       "      <td>71.47</td>\n",
       "      <td>72.02</td>\n",
       "      <td>70.44</td>\n",
       "      <td>70.63</td>\n",
       "    </tr>\n",
       "  </tbody>\n",
       "</table>\n",
       "<p>5 rows × 1259 columns</p>\n",
       "</div>"
      ],
      "text/plain": [
       "   Name  2012-08-13  2012-08-14  2012-08-15  2012-08-16  2012-08-17  \\\n",
       "0     A   40.380000   40.490000   40.480000   37.150000   37.220000   \n",
       "1   AAL   41.509644   41.509644   41.509644   41.509644   41.509644   \n",
       "2   AAP   69.110000   70.670000   71.300000   72.460000   72.870000   \n",
       "3  AAPL   90.000000   90.240000   90.120000   90.910000   92.590000   \n",
       "4  ABBV   56.629558   56.629558   56.629558   56.629558   56.629558   \n",
       "\n",
       "   2012-08-20  2012-08-21  2012-08-22  2012-08-23     ...      2017-07-31  \\\n",
       "0   36.680000   37.130000   37.460000   37.470000     ...           59.79   \n",
       "1   41.509644   41.509644   41.509644   41.509644     ...           50.44   \n",
       "2   71.580000   72.000000   72.200000   71.960000     ...          112.01   \n",
       "3   95.020000   93.720000   95.550000   94.660000     ...          148.73   \n",
       "4   56.629558   56.629558   56.629558   56.629558     ...           69.91   \n",
       "\n",
       "   2017-08-01  2017-08-02  2017-08-03  2017-08-04  2017-08-07  2017-08-08  \\\n",
       "0       59.94       60.20       60.37       60.13       60.87       60.14   \n",
       "1       51.06       50.45       50.55       50.80       50.58       50.00   \n",
       "2      114.05      114.48      110.53      111.01      109.49      109.39   \n",
       "3      150.05      157.14      155.57      156.39      158.81      160.08   \n",
       "4       70.38       70.71       70.99       70.99       71.22       71.47   \n",
       "\n",
       "   2017-08-09  2017-08-10  2017-08-11  \n",
       "0       59.68       58.57       59.33  \n",
       "1       49.40       48.55       48.35  \n",
       "2      109.18      106.13      107.34  \n",
       "3      161.06      155.32      157.48  \n",
       "4       72.02       70.44       70.63  \n",
       "\n",
       "[5 rows x 1259 columns]"
      ]
     },
     "execution_count": 86,
     "metadata": {},
     "output_type": "execute_result"
    }
   ],
   "source": [
    "tsd = pd.read_csv('5y_time_series.csv')\n",
    "td = tsd[tsd.columns[1:]]\n",
    "td.head()"
   ]
  },
  {
   "cell_type": "code",
   "execution_count": 145,
   "metadata": {},
   "outputs": [
    {
     "data": {
      "text/plain": [
       "<matplotlib.legend.Legend at 0x1e2a77b8>"
      ]
     },
     "execution_count": 145,
     "metadata": {},
     "output_type": "execute_result"
    },
    {
     "data": {
      "text/plain": [
       "<matplotlib.figure.Figure at 0x1f2647b8>"
      ]
     },
     "metadata": {},
     "output_type": "display_data"
    },
    {
     "data": {
      "image/png": "[encoded data removed]",
      "text/plain": [
       "<matplotlib.figure.Figure at 0x1e11b5c0>"
      ]
     },
     "metadata": {},
     "output_type": "display_data"
    }
   ],
   "source": [
    "some = pd.DataFrame(np.array(td.iloc[:3][td.columns[1:]].T), index = pd.to_datetime(td.columns[1:]), columns = list(td['Name'][:3]) )\n",
    "\n",
    "# some = some.cumsum()\n",
    "\n",
    "fig = plt.figure(figsize = (7, 7))\n",
    "some.plot()\n",
    "plt.legend(loc = 'best')"
   ]
  },
  {
   "cell_type": "code",
   "execution_count": null,
   "metadata": {
    "collapsed": true
   },
   "outputs": [],
   "source": []
  },
  {
   "cell_type": "markdown",
   "metadata": {},
   "source": [
    "## Classification "
   ]
  },
  {
   "cell_type": "code",
   "execution_count": 46,
   "metadata": {},
   "outputs": [
    {
     "data": {
      "text/html": [
       "<div>\n",
       "<style>\n",
       "    .dataframe thead tr:only-child th {\n",
       "        text-align: right;\n",
       "    }\n",
       "\n",
       "    .dataframe thead th {\n",
       "        text-align: left;\n",
       "    }\n",
       "\n",
       "    .dataframe tbody tr th {\n",
       "        vertical-align: top;\n",
       "    }\n",
       "</style>\n",
       "<table border=\"1\" class=\"dataframe\">\n",
       "  <thead>\n",
       "    <tr style=\"text-align: right;\">\n",
       "      <th></th>\n",
       "      <th>Date</th>\n",
       "      <th>Open</th>\n",
       "      <th>High</th>\n",
       "      <th>Low</th>\n",
       "      <th>Close</th>\n",
       "      <th>Volume</th>\n",
       "      <th>Name</th>\n",
       "    </tr>\n",
       "  </thead>\n",
       "  <tbody>\n",
       "    <tr>\n",
       "      <th>0</th>\n",
       "      <td>2012-08-13</td>\n",
       "      <td>92.29</td>\n",
       "      <td>92.59</td>\n",
       "      <td>91.74</td>\n",
       "      <td>92.40</td>\n",
       "      <td>2075391.0</td>\n",
       "      <td>MMM</td>\n",
       "    </tr>\n",
       "    <tr>\n",
       "      <th>1</th>\n",
       "      <td>2012-08-14</td>\n",
       "      <td>92.36</td>\n",
       "      <td>92.50</td>\n",
       "      <td>92.01</td>\n",
       "      <td>92.30</td>\n",
       "      <td>1843476.0</td>\n",
       "      <td>MMM</td>\n",
       "    </tr>\n",
       "    <tr>\n",
       "      <th>2</th>\n",
       "      <td>2012-08-15</td>\n",
       "      <td>92.00</td>\n",
       "      <td>92.74</td>\n",
       "      <td>91.94</td>\n",
       "      <td>92.54</td>\n",
       "      <td>1983395.0</td>\n",
       "      <td>MMM</td>\n",
       "    </tr>\n",
       "    <tr>\n",
       "      <th>3</th>\n",
       "      <td>2012-08-16</td>\n",
       "      <td>92.75</td>\n",
       "      <td>93.87</td>\n",
       "      <td>92.21</td>\n",
       "      <td>93.74</td>\n",
       "      <td>3395145.0</td>\n",
       "      <td>MMM</td>\n",
       "    </tr>\n",
       "    <tr>\n",
       "      <th>4</th>\n",
       "      <td>2012-08-17</td>\n",
       "      <td>93.93</td>\n",
       "      <td>94.30</td>\n",
       "      <td>93.59</td>\n",
       "      <td>94.24</td>\n",
       "      <td>3069513.0</td>\n",
       "      <td>MMM</td>\n",
       "    </tr>\n",
       "  </tbody>\n",
       "</table>\n",
       "</div>"
      ],
      "text/plain": [
       "         Date   Open   High    Low  Close     Volume Name\n",
       "0  2012-08-13  92.29  92.59  91.74  92.40  2075391.0  MMM\n",
       "1  2012-08-14  92.36  92.50  92.01  92.30  1843476.0  MMM\n",
       "2  2012-08-15  92.00  92.74  91.94  92.54  1983395.0  MMM\n",
       "3  2012-08-16  92.75  93.87  92.21  93.74  3395145.0  MMM\n",
       "4  2012-08-17  93.93  94.30  93.59  94.24  3069513.0  MMM"
      ]
     },
     "execution_count": 46,
     "metadata": {},
     "output_type": "execute_result"
    }
   ],
   "source": [
    "full = pd.read_csv('all_stocks_5yr.csv')\n",
    "full.head()"
   ]
  },
  {
   "cell_type": "code",
   "execution_count": 47,
   "metadata": {},
   "outputs": [
    {
     "data": {
      "text/html": [
       "<div>\n",
       "<style>\n",
       "    .dataframe thead tr:only-child th {\n",
       "        text-align: right;\n",
       "    }\n",
       "\n",
       "    .dataframe thead th {\n",
       "        text-align: left;\n",
       "    }\n",
       "\n",
       "    .dataframe tbody tr th {\n",
       "        vertical-align: top;\n",
       "    }\n",
       "</style>\n",
       "<table border=\"1\" class=\"dataframe\">\n",
       "  <thead>\n",
       "    <tr style=\"text-align: right;\">\n",
       "      <th></th>\n",
       "      <th>Date</th>\n",
       "      <th>Close</th>\n",
       "      <th>Name</th>\n",
       "    </tr>\n",
       "  </thead>\n",
       "  <tbody>\n",
       "    <tr>\n",
       "      <th>0</th>\n",
       "      <td>2012-08-13</td>\n",
       "      <td>92.40</td>\n",
       "      <td>MMM</td>\n",
       "    </tr>\n",
       "    <tr>\n",
       "      <th>1</th>\n",
       "      <td>2012-08-14</td>\n",
       "      <td>92.30</td>\n",
       "      <td>MMM</td>\n",
       "    </tr>\n",
       "    <tr>\n",
       "      <th>2</th>\n",
       "      <td>2012-08-15</td>\n",
       "      <td>92.54</td>\n",
       "      <td>MMM</td>\n",
       "    </tr>\n",
       "    <tr>\n",
       "      <th>3</th>\n",
       "      <td>2012-08-16</td>\n",
       "      <td>93.74</td>\n",
       "      <td>MMM</td>\n",
       "    </tr>\n",
       "    <tr>\n",
       "      <th>4</th>\n",
       "      <td>2012-08-17</td>\n",
       "      <td>94.24</td>\n",
       "      <td>MMM</td>\n",
       "    </tr>\n",
       "  </tbody>\n",
       "</table>\n",
       "</div>"
      ],
      "text/plain": [
       "         Date  Close Name\n",
       "0  2012-08-13  92.40  MMM\n",
       "1  2012-08-14  92.30  MMM\n",
       "2  2012-08-15  92.54  MMM\n",
       "3  2012-08-16  93.74  MMM\n",
       "4  2012-08-17  94.24  MMM"
      ]
     },
     "execution_count": 47,
     "metadata": {},
     "output_type": "execute_result"
    }
   ],
   "source": [
    "# print (full['Date'].unique().shape)\n",
    "\n",
    "cut = full[['Date', 'Close', 'Name']]\n",
    "cut.head()"
   ]
  },
  {
   "cell_type": "code",
   "execution_count": 48,
   "metadata": {},
   "outputs": [
    {
     "data": {
      "text/html": [
       "<div>\n",
       "<style>\n",
       "    .dataframe thead tr:only-child th {\n",
       "        text-align: right;\n",
       "    }\n",
       "\n",
       "    .dataframe thead th {\n",
       "        text-align: left;\n",
       "    }\n",
       "\n",
       "    .dataframe tbody tr th {\n",
       "        vertical-align: top;\n",
       "    }\n",
       "</style>\n",
       "<table border=\"1\" class=\"dataframe\">\n",
       "  <thead>\n",
       "    <tr style=\"text-align: right;\">\n",
       "      <th>Date</th>\n",
       "      <th>Name</th>\n",
       "      <th>2012-08-13</th>\n",
       "      <th>2012-08-14</th>\n",
       "      <th>2012-08-15</th>\n",
       "      <th>2012-08-16</th>\n",
       "      <th>2012-08-17</th>\n",
       "      <th>2012-08-20</th>\n",
       "      <th>2012-08-21</th>\n",
       "      <th>2012-08-22</th>\n",
       "      <th>2012-08-23</th>\n",
       "      <th>...</th>\n",
       "      <th>2017-07-31</th>\n",
       "      <th>2017-08-01</th>\n",
       "      <th>2017-08-02</th>\n",
       "      <th>2017-08-03</th>\n",
       "      <th>2017-08-04</th>\n",
       "      <th>2017-08-07</th>\n",
       "      <th>2017-08-08</th>\n",
       "      <th>2017-08-09</th>\n",
       "      <th>2017-08-10</th>\n",
       "      <th>2017-08-11</th>\n",
       "    </tr>\n",
       "  </thead>\n",
       "  <tbody>\n",
       "    <tr>\n",
       "      <th>0</th>\n",
       "      <td>A</td>\n",
       "      <td>40.38</td>\n",
       "      <td>40.49</td>\n",
       "      <td>40.48</td>\n",
       "      <td>37.15</td>\n",
       "      <td>37.22</td>\n",
       "      <td>36.68</td>\n",
       "      <td>37.13</td>\n",
       "      <td>37.46</td>\n",
       "      <td>37.47</td>\n",
       "      <td>...</td>\n",
       "      <td>59.79</td>\n",
       "      <td>59.94</td>\n",
       "      <td>60.20</td>\n",
       "      <td>60.37</td>\n",
       "      <td>60.13</td>\n",
       "      <td>60.87</td>\n",
       "      <td>60.14</td>\n",
       "      <td>59.68</td>\n",
       "      <td>58.57</td>\n",
       "      <td>59.33</td>\n",
       "    </tr>\n",
       "    <tr>\n",
       "      <th>1</th>\n",
       "      <td>AAL</td>\n",
       "      <td>NaN</td>\n",
       "      <td>NaN</td>\n",
       "      <td>NaN</td>\n",
       "      <td>NaN</td>\n",
       "      <td>NaN</td>\n",
       "      <td>NaN</td>\n",
       "      <td>NaN</td>\n",
       "      <td>NaN</td>\n",
       "      <td>NaN</td>\n",
       "      <td>...</td>\n",
       "      <td>50.44</td>\n",
       "      <td>51.06</td>\n",
       "      <td>50.45</td>\n",
       "      <td>50.55</td>\n",
       "      <td>50.80</td>\n",
       "      <td>50.58</td>\n",
       "      <td>50.00</td>\n",
       "      <td>49.40</td>\n",
       "      <td>48.55</td>\n",
       "      <td>48.35</td>\n",
       "    </tr>\n",
       "    <tr>\n",
       "      <th>2</th>\n",
       "      <td>AAP</td>\n",
       "      <td>69.11</td>\n",
       "      <td>70.67</td>\n",
       "      <td>71.30</td>\n",
       "      <td>72.46</td>\n",
       "      <td>72.87</td>\n",
       "      <td>71.58</td>\n",
       "      <td>72.00</td>\n",
       "      <td>72.20</td>\n",
       "      <td>71.96</td>\n",
       "      <td>...</td>\n",
       "      <td>112.01</td>\n",
       "      <td>114.05</td>\n",
       "      <td>114.48</td>\n",
       "      <td>110.53</td>\n",
       "      <td>111.01</td>\n",
       "      <td>109.49</td>\n",
       "      <td>109.39</td>\n",
       "      <td>109.18</td>\n",
       "      <td>106.13</td>\n",
       "      <td>107.34</td>\n",
       "    </tr>\n",
       "    <tr>\n",
       "      <th>3</th>\n",
       "      <td>AAPL</td>\n",
       "      <td>90.00</td>\n",
       "      <td>90.24</td>\n",
       "      <td>90.12</td>\n",
       "      <td>90.91</td>\n",
       "      <td>92.59</td>\n",
       "      <td>95.02</td>\n",
       "      <td>93.72</td>\n",
       "      <td>95.55</td>\n",
       "      <td>94.66</td>\n",
       "      <td>...</td>\n",
       "      <td>148.73</td>\n",
       "      <td>150.05</td>\n",
       "      <td>157.14</td>\n",
       "      <td>155.57</td>\n",
       "      <td>156.39</td>\n",
       "      <td>158.81</td>\n",
       "      <td>160.08</td>\n",
       "      <td>161.06</td>\n",
       "      <td>155.32</td>\n",
       "      <td>157.48</td>\n",
       "    </tr>\n",
       "    <tr>\n",
       "      <th>4</th>\n",
       "      <td>ABBV</td>\n",
       "      <td>NaN</td>\n",
       "      <td>NaN</td>\n",
       "      <td>NaN</td>\n",
       "      <td>NaN</td>\n",
       "      <td>NaN</td>\n",
       "      <td>NaN</td>\n",
       "      <td>NaN</td>\n",
       "      <td>NaN</td>\n",
       "      <td>NaN</td>\n",
       "      <td>...</td>\n",
       "      <td>69.91</td>\n",
       "      <td>70.38</td>\n",
       "      <td>70.71</td>\n",
       "      <td>70.99</td>\n",
       "      <td>70.99</td>\n",
       "      <td>71.22</td>\n",
       "      <td>71.47</td>\n",
       "      <td>72.02</td>\n",
       "      <td>70.44</td>\n",
       "      <td>70.63</td>\n",
       "    </tr>\n",
       "  </tbody>\n",
       "</table>\n",
       "<p>5 rows × 1259 columns</p>\n",
       "</div>"
      ],
      "text/plain": [
       "Date  Name  2012-08-13  2012-08-14  2012-08-15  2012-08-16  2012-08-17  \\\n",
       "0        A       40.38       40.49       40.48       37.15       37.22   \n",
       "1      AAL         NaN         NaN         NaN         NaN         NaN   \n",
       "2      AAP       69.11       70.67       71.30       72.46       72.87   \n",
       "3     AAPL       90.00       90.24       90.12       90.91       92.59   \n",
       "4     ABBV         NaN         NaN         NaN         NaN         NaN   \n",
       "\n",
       "Date  2012-08-20  2012-08-21  2012-08-22  2012-08-23     ...      2017-07-31  \\\n",
       "0          36.68       37.13       37.46       37.47     ...           59.79   \n",
       "1            NaN         NaN         NaN         NaN     ...           50.44   \n",
       "2          71.58       72.00       72.20       71.96     ...          112.01   \n",
       "3          95.02       93.72       95.55       94.66     ...          148.73   \n",
       "4            NaN         NaN         NaN         NaN     ...           69.91   \n",
       "\n",
       "Date  2017-08-01  2017-08-02  2017-08-03  2017-08-04  2017-08-07  2017-08-08  \\\n",
       "0          59.94       60.20       60.37       60.13       60.87       60.14   \n",
       "1          51.06       50.45       50.55       50.80       50.58       50.00   \n",
       "2         114.05      114.48      110.53      111.01      109.49      109.39   \n",
       "3         150.05      157.14      155.57      156.39      158.81      160.08   \n",
       "4          70.38       70.71       70.99       70.99       71.22       71.47   \n",
       "\n",
       "Date  2017-08-09  2017-08-10  2017-08-11  \n",
       "0          59.68       58.57       59.33  \n",
       "1          49.40       48.55       48.35  \n",
       "2         109.18      106.13      107.34  \n",
       "3         161.06      155.32      157.48  \n",
       "4          72.02       70.44       70.63  \n",
       "\n",
       "[5 rows x 1259 columns]"
      ]
     },
     "execution_count": 48,
     "metadata": {},
     "output_type": "execute_result"
    }
   ],
   "source": [
    "pivot = pd.pivot_table(cut, values = 'Close', columns = 'Date', index = 'Name').reset_index()\n",
    "pivot.head()"
   ]
  },
  {
   "cell_type": "code",
   "execution_count": 159,
   "metadata": {
    "scrolled": true
   },
   "outputs": [
    {
     "data": {
      "text/html": [
       "<div>\n",
       "<style>\n",
       "    .dataframe thead tr:only-child th {\n",
       "        text-align: right;\n",
       "    }\n",
       "\n",
       "    .dataframe thead th {\n",
       "        text-align: left;\n",
       "    }\n",
       "\n",
       "    .dataframe tbody tr th {\n",
       "        vertical-align: top;\n",
       "    }\n",
       "</style>\n",
       "<table border=\"1\" class=\"dataframe\">\n",
       "  <thead>\n",
       "    <tr style=\"text-align: right;\">\n",
       "      <th>Date</th>\n",
       "      <th>Name</th>\n",
       "      <th>2012-08-13</th>\n",
       "      <th>2012-08-14</th>\n",
       "      <th>2012-08-15</th>\n",
       "      <th>2012-08-16</th>\n",
       "      <th>2012-08-17</th>\n",
       "      <th>2012-08-20</th>\n",
       "      <th>2012-08-21</th>\n",
       "      <th>2012-08-22</th>\n",
       "      <th>2012-08-23</th>\n",
       "      <th>...</th>\n",
       "      <th>2017-07-31</th>\n",
       "      <th>2017-08-01</th>\n",
       "      <th>2017-08-02</th>\n",
       "      <th>2017-08-03</th>\n",
       "      <th>2017-08-04</th>\n",
       "      <th>2017-08-07</th>\n",
       "      <th>2017-08-08</th>\n",
       "      <th>2017-08-09</th>\n",
       "      <th>2017-08-10</th>\n",
       "      <th>2017-08-11</th>\n",
       "    </tr>\n",
       "  </thead>\n",
       "  <tbody>\n",
       "    <tr>\n",
       "      <th>0</th>\n",
       "      <td>A</td>\n",
       "      <td>40.38</td>\n",
       "      <td>40.49</td>\n",
       "      <td>40.48</td>\n",
       "      <td>37.15</td>\n",
       "      <td>37.22</td>\n",
       "      <td>36.68</td>\n",
       "      <td>37.13</td>\n",
       "      <td>37.46</td>\n",
       "      <td>37.47</td>\n",
       "      <td>...</td>\n",
       "      <td>59.79</td>\n",
       "      <td>59.94</td>\n",
       "      <td>60.2</td>\n",
       "      <td>60.37</td>\n",
       "      <td>60.13</td>\n",
       "      <td>60.87</td>\n",
       "      <td>60.14</td>\n",
       "      <td>59.68</td>\n",
       "      <td>58.57</td>\n",
       "      <td>59.33</td>\n",
       "    </tr>\n",
       "    <tr>\n",
       "      <th>1</th>\n",
       "      <td>AAL</td>\n",
       "      <td>41.5096</td>\n",
       "      <td>41.5096</td>\n",
       "      <td>41.5096</td>\n",
       "      <td>41.5096</td>\n",
       "      <td>41.5096</td>\n",
       "      <td>41.5096</td>\n",
       "      <td>41.5096</td>\n",
       "      <td>41.5096</td>\n",
       "      <td>41.5096</td>\n",
       "      <td>...</td>\n",
       "      <td>50.44</td>\n",
       "      <td>51.06</td>\n",
       "      <td>50.45</td>\n",
       "      <td>50.55</td>\n",
       "      <td>50.8</td>\n",
       "      <td>50.58</td>\n",
       "      <td>50</td>\n",
       "      <td>49.4</td>\n",
       "      <td>48.55</td>\n",
       "      <td>48.35</td>\n",
       "    </tr>\n",
       "    <tr>\n",
       "      <th>2</th>\n",
       "      <td>AAP</td>\n",
       "      <td>69.11</td>\n",
       "      <td>70.67</td>\n",
       "      <td>71.3</td>\n",
       "      <td>72.46</td>\n",
       "      <td>72.87</td>\n",
       "      <td>71.58</td>\n",
       "      <td>72</td>\n",
       "      <td>72.2</td>\n",
       "      <td>71.96</td>\n",
       "      <td>...</td>\n",
       "      <td>112.01</td>\n",
       "      <td>114.05</td>\n",
       "      <td>114.48</td>\n",
       "      <td>110.53</td>\n",
       "      <td>111.01</td>\n",
       "      <td>109.49</td>\n",
       "      <td>109.39</td>\n",
       "      <td>109.18</td>\n",
       "      <td>106.13</td>\n",
       "      <td>107.34</td>\n",
       "    </tr>\n",
       "    <tr>\n",
       "      <th>3</th>\n",
       "      <td>AAPL</td>\n",
       "      <td>90</td>\n",
       "      <td>90.24</td>\n",
       "      <td>90.12</td>\n",
       "      <td>90.91</td>\n",
       "      <td>92.59</td>\n",
       "      <td>95.02</td>\n",
       "      <td>93.72</td>\n",
       "      <td>95.55</td>\n",
       "      <td>94.66</td>\n",
       "      <td>...</td>\n",
       "      <td>148.73</td>\n",
       "      <td>150.05</td>\n",
       "      <td>157.14</td>\n",
       "      <td>155.57</td>\n",
       "      <td>156.39</td>\n",
       "      <td>158.81</td>\n",
       "      <td>160.08</td>\n",
       "      <td>161.06</td>\n",
       "      <td>155.32</td>\n",
       "      <td>157.48</td>\n",
       "    </tr>\n",
       "    <tr>\n",
       "      <th>4</th>\n",
       "      <td>ABBV</td>\n",
       "      <td>56.6296</td>\n",
       "      <td>56.6296</td>\n",
       "      <td>56.6296</td>\n",
       "      <td>56.6296</td>\n",
       "      <td>56.6296</td>\n",
       "      <td>56.6296</td>\n",
       "      <td>56.6296</td>\n",
       "      <td>56.6296</td>\n",
       "      <td>56.6296</td>\n",
       "      <td>...</td>\n",
       "      <td>69.91</td>\n",
       "      <td>70.38</td>\n",
       "      <td>70.71</td>\n",
       "      <td>70.99</td>\n",
       "      <td>70.99</td>\n",
       "      <td>71.22</td>\n",
       "      <td>71.47</td>\n",
       "      <td>72.02</td>\n",
       "      <td>70.44</td>\n",
       "      <td>70.63</td>\n",
       "    </tr>\n",
       "  </tbody>\n",
       "</table>\n",
       "<p>5 rows × 1259 columns</p>\n",
       "</div>"
      ],
      "text/plain": [
       "Date  Name 2012-08-13 2012-08-14 2012-08-15 2012-08-16 2012-08-17 2012-08-20  \\\n",
       "0        A      40.38      40.49      40.48      37.15      37.22      36.68   \n",
       "1      AAL    41.5096    41.5096    41.5096    41.5096    41.5096    41.5096   \n",
       "2      AAP      69.11      70.67       71.3      72.46      72.87      71.58   \n",
       "3     AAPL         90      90.24      90.12      90.91      92.59      95.02   \n",
       "4     ABBV    56.6296    56.6296    56.6296    56.6296    56.6296    56.6296   \n",
       "\n",
       "Date 2012-08-21 2012-08-22 2012-08-23    ...     2017-07-31 2017-08-01  \\\n",
       "0         37.13      37.46      37.47    ...          59.79      59.94   \n",
       "1       41.5096    41.5096    41.5096    ...          50.44      51.06   \n",
       "2            72       72.2      71.96    ...         112.01     114.05   \n",
       "3         93.72      95.55      94.66    ...         148.73     150.05   \n",
       "4       56.6296    56.6296    56.6296    ...          69.91      70.38   \n",
       "\n",
       "Date 2017-08-02 2017-08-03 2017-08-04 2017-08-07 2017-08-08 2017-08-09  \\\n",
       "0          60.2      60.37      60.13      60.87      60.14      59.68   \n",
       "1         50.45      50.55       50.8      50.58         50       49.4   \n",
       "2        114.48     110.53     111.01     109.49     109.39     109.18   \n",
       "3        157.14     155.57     156.39     158.81     160.08     161.06   \n",
       "4         70.71      70.99      70.99      71.22      71.47      72.02   \n",
       "\n",
       "Date 2017-08-10 2017-08-11  \n",
       "0         58.57      59.33  \n",
       "1         48.55      48.35  \n",
       "2        106.13     107.34  \n",
       "3        155.32     157.48  \n",
       "4         70.44      70.63  \n",
       "\n",
       "[5 rows x 1259 columns]"
      ]
     },
     "execution_count": 159,
     "metadata": {},
     "output_type": "execute_result"
    }
   ],
   "source": [
    "# replace NaN with row average\n",
    "\n",
    "ref = pivot.T.fillna(pivot.mean(axis = 1)).T\n",
    "ref.head()"
   ]
  },
  {
   "cell_type": "code",
   "execution_count": 160,
   "metadata": {},
   "outputs": [],
   "source": [
    "# the goal is to predict the trend of closing stock price on 2017-08-11, comparing with that on 2017-08-10\n",
    "\n",
    "# features are stored in x\n",
    "x = ref[ref.columns[1:-1]]\n",
    "\n",
    "ref['Label'] = np.nan"
   ]
  },
  {
   "cell_type": "code",
   "execution_count": 161,
   "metadata": {},
   "outputs": [],
   "source": [
    "# 8-11\n",
    "aug11 = ref.iloc[:, -2]\n",
    "\n",
    "# 8-10\n",
    "aug10 = ref.iloc[:, -3]\n",
    "\n",
    "\n",
    "# now label 1 as long as stock price increases from aug 10th to aug 11th \n",
    "# and 0 for decreasing stock price\n",
    "\n",
    "desired_percentage = 0 \n",
    "\n",
    "for i in range(len(aug10)):\n",
    "    if (aug11[i] - aug10[i])/ aug10[i] > desired_percentage:\n",
    "        ref['Label'].replace([i], 1)\n",
    "    else:\n",
    "        ref['Label'].replace([i], 0)"
   ]
  },
  {
   "cell_type": "code",
   "execution_count": 165,
   "metadata": {},
   "outputs": [
    {
     "name": "stderr",
     "output_type": "stream",
     "text": [
      "C:\\Users\\1098071\\AppData\\Local\\Continuum\\Anaconda3\\lib\\site-packages\\ipykernel_launcher.py:6: SettingWithCopyWarning: \n",
      "A value is trying to be set on a copy of a slice from a DataFrame\n",
      "\n",
      "See the caveats in the documentation: http://pandas.pydata.org/pandas-docs/stable/indexing.html#indexing-view-versus-copy\n",
      "  \n",
      "C:\\Users\\1098071\\AppData\\Local\\Continuum\\Anaconda3\\lib\\site-packages\\ipykernel_launcher.py:8: SettingWithCopyWarning: \n",
      "A value is trying to be set on a copy of a slice from a DataFrame\n",
      "\n",
      "See the caveats in the documentation: http://pandas.pydata.org/pandas-docs/stable/indexing.html#indexing-view-versus-copy\n",
      "  \n"
     ]
    }
   ],
   "source": [
    "\n",
    "desired_percentage = 0 \n",
    "\n",
    "for i in range(len(aug10)):\n",
    "    if (aug11[i] - aug10[i])/ aug10[i] > desired_percentage:\n",
    "        ref['Label'][i] = 1\n",
    "    else:\n",
    "        ref['Label'][i] = 0\n",
    "        "
   ]
  },
  {
   "cell_type": "code",
   "execution_count": 168,
   "metadata": {},
   "outputs": [
    {
     "data": {
      "text/html": [
       "<div>\n",
       "<style>\n",
       "    .dataframe thead tr:only-child th {\n",
       "        text-align: right;\n",
       "    }\n",
       "\n",
       "    .dataframe thead th {\n",
       "        text-align: left;\n",
       "    }\n",
       "\n",
       "    .dataframe tbody tr th {\n",
       "        vertical-align: top;\n",
       "    }\n",
       "</style>\n",
       "<table border=\"1\" class=\"dataframe\">\n",
       "  <thead>\n",
       "    <tr style=\"text-align: right;\">\n",
       "      <th>Date</th>\n",
       "      <th>Name</th>\n",
       "      <th>2012-08-13</th>\n",
       "      <th>2012-08-14</th>\n",
       "      <th>2012-08-15</th>\n",
       "      <th>2012-08-16</th>\n",
       "      <th>2012-08-17</th>\n",
       "      <th>2012-08-20</th>\n",
       "      <th>2012-08-21</th>\n",
       "      <th>2012-08-22</th>\n",
       "      <th>2012-08-23</th>\n",
       "      <th>...</th>\n",
       "      <th>2017-08-01</th>\n",
       "      <th>2017-08-02</th>\n",
       "      <th>2017-08-03</th>\n",
       "      <th>2017-08-04</th>\n",
       "      <th>2017-08-07</th>\n",
       "      <th>2017-08-08</th>\n",
       "      <th>2017-08-09</th>\n",
       "      <th>2017-08-10</th>\n",
       "      <th>2017-08-11</th>\n",
       "      <th>Label</th>\n",
       "    </tr>\n",
       "  </thead>\n",
       "  <tbody>\n",
       "    <tr>\n",
       "      <th>0</th>\n",
       "      <td>A</td>\n",
       "      <td>40.38</td>\n",
       "      <td>40.49</td>\n",
       "      <td>40.48</td>\n",
       "      <td>37.15</td>\n",
       "      <td>37.22</td>\n",
       "      <td>36.68</td>\n",
       "      <td>37.13</td>\n",
       "      <td>37.46</td>\n",
       "      <td>37.47</td>\n",
       "      <td>...</td>\n",
       "      <td>59.94</td>\n",
       "      <td>60.2</td>\n",
       "      <td>60.37</td>\n",
       "      <td>60.13</td>\n",
       "      <td>60.87</td>\n",
       "      <td>60.14</td>\n",
       "      <td>59.68</td>\n",
       "      <td>58.57</td>\n",
       "      <td>59.33</td>\n",
       "      <td>1.0</td>\n",
       "    </tr>\n",
       "    <tr>\n",
       "      <th>1</th>\n",
       "      <td>AAL</td>\n",
       "      <td>41.5096</td>\n",
       "      <td>41.5096</td>\n",
       "      <td>41.5096</td>\n",
       "      <td>41.5096</td>\n",
       "      <td>41.5096</td>\n",
       "      <td>41.5096</td>\n",
       "      <td>41.5096</td>\n",
       "      <td>41.5096</td>\n",
       "      <td>41.5096</td>\n",
       "      <td>...</td>\n",
       "      <td>51.06</td>\n",
       "      <td>50.45</td>\n",
       "      <td>50.55</td>\n",
       "      <td>50.8</td>\n",
       "      <td>50.58</td>\n",
       "      <td>50</td>\n",
       "      <td>49.4</td>\n",
       "      <td>48.55</td>\n",
       "      <td>48.35</td>\n",
       "      <td>0.0</td>\n",
       "    </tr>\n",
       "    <tr>\n",
       "      <th>2</th>\n",
       "      <td>AAP</td>\n",
       "      <td>69.11</td>\n",
       "      <td>70.67</td>\n",
       "      <td>71.3</td>\n",
       "      <td>72.46</td>\n",
       "      <td>72.87</td>\n",
       "      <td>71.58</td>\n",
       "      <td>72</td>\n",
       "      <td>72.2</td>\n",
       "      <td>71.96</td>\n",
       "      <td>...</td>\n",
       "      <td>114.05</td>\n",
       "      <td>114.48</td>\n",
       "      <td>110.53</td>\n",
       "      <td>111.01</td>\n",
       "      <td>109.49</td>\n",
       "      <td>109.39</td>\n",
       "      <td>109.18</td>\n",
       "      <td>106.13</td>\n",
       "      <td>107.34</td>\n",
       "      <td>1.0</td>\n",
       "    </tr>\n",
       "    <tr>\n",
       "      <th>3</th>\n",
       "      <td>AAPL</td>\n",
       "      <td>90</td>\n",
       "      <td>90.24</td>\n",
       "      <td>90.12</td>\n",
       "      <td>90.91</td>\n",
       "      <td>92.59</td>\n",
       "      <td>95.02</td>\n",
       "      <td>93.72</td>\n",
       "      <td>95.55</td>\n",
       "      <td>94.66</td>\n",
       "      <td>...</td>\n",
       "      <td>150.05</td>\n",
       "      <td>157.14</td>\n",
       "      <td>155.57</td>\n",
       "      <td>156.39</td>\n",
       "      <td>158.81</td>\n",
       "      <td>160.08</td>\n",
       "      <td>161.06</td>\n",
       "      <td>155.32</td>\n",
       "      <td>157.48</td>\n",
       "      <td>1.0</td>\n",
       "    </tr>\n",
       "    <tr>\n",
       "      <th>4</th>\n",
       "      <td>ABBV</td>\n",
       "      <td>56.6296</td>\n",
       "      <td>56.6296</td>\n",
       "      <td>56.6296</td>\n",
       "      <td>56.6296</td>\n",
       "      <td>56.6296</td>\n",
       "      <td>56.6296</td>\n",
       "      <td>56.6296</td>\n",
       "      <td>56.6296</td>\n",
       "      <td>56.6296</td>\n",
       "      <td>...</td>\n",
       "      <td>70.38</td>\n",
       "      <td>70.71</td>\n",
       "      <td>70.99</td>\n",
       "      <td>70.99</td>\n",
       "      <td>71.22</td>\n",
       "      <td>71.47</td>\n",
       "      <td>72.02</td>\n",
       "      <td>70.44</td>\n",
       "      <td>70.63</td>\n",
       "      <td>1.0</td>\n",
       "    </tr>\n",
       "  </tbody>\n",
       "</table>\n",
       "<p>5 rows × 1260 columns</p>\n",
       "</div>"
      ],
      "text/plain": [
       "Date  Name 2012-08-13 2012-08-14 2012-08-15 2012-08-16 2012-08-17 2012-08-20  \\\n",
       "0        A      40.38      40.49      40.48      37.15      37.22      36.68   \n",
       "1      AAL    41.5096    41.5096    41.5096    41.5096    41.5096    41.5096   \n",
       "2      AAP      69.11      70.67       71.3      72.46      72.87      71.58   \n",
       "3     AAPL         90      90.24      90.12      90.91      92.59      95.02   \n",
       "4     ABBV    56.6296    56.6296    56.6296    56.6296    56.6296    56.6296   \n",
       "\n",
       "Date 2012-08-21 2012-08-22 2012-08-23  ...  2017-08-01 2017-08-02 2017-08-03  \\\n",
       "0         37.13      37.46      37.47  ...       59.94       60.2      60.37   \n",
       "1       41.5096    41.5096    41.5096  ...       51.06      50.45      50.55   \n",
       "2            72       72.2      71.96  ...      114.05     114.48     110.53   \n",
       "3         93.72      95.55      94.66  ...      150.05     157.14     155.57   \n",
       "4       56.6296    56.6296    56.6296  ...       70.38      70.71      70.99   \n",
       "\n",
       "Date 2017-08-04 2017-08-07 2017-08-08 2017-08-09 2017-08-10 2017-08-11 Label  \n",
       "0         60.13      60.87      60.14      59.68      58.57      59.33   1.0  \n",
       "1          50.8      50.58         50       49.4      48.55      48.35   0.0  \n",
       "2        111.01     109.49     109.39     109.18     106.13     107.34   1.0  \n",
       "3        156.39     158.81     160.08     161.06     155.32     157.48   1.0  \n",
       "4         70.99      71.22      71.47      72.02      70.44      70.63   1.0  \n",
       "\n",
       "[5 rows x 1260 columns]"
      ]
     },
     "execution_count": 168,
     "metadata": {},
     "output_type": "execute_result"
    }
   ],
   "source": [
    "ref.head()"
   ]
  },
  {
   "cell_type": "code",
   "execution_count": 173,
   "metadata": {
    "collapsed": true
   },
   "outputs": [],
   "source": [
    "# check if the classes are balanced "
   ]
  },
  {
   "cell_type": "code",
   "execution_count": 183,
   "metadata": {},
   "outputs": [
    {
     "name": "stdout",
     "output_type": "stream",
     "text": [
      "241\n",
      "262\n"
     ]
    }
   ],
   "source": [
    "print (sum(y == 1))\n",
    "print (sum(y == 0))"
   ]
  },
  {
   "cell_type": "code",
   "execution_count": null,
   "metadata": {},
   "outputs": [],
   "source": []
  },
  {
   "cell_type": "markdown",
   "metadata": {},
   "source": [
    "##  Naive Bayes Classifier "
   ]
  },
  {
   "cell_type": "code",
   "execution_count": 171,
   "metadata": {},
   "outputs": [],
   "source": [
    "y = ref['Label']"
   ]
  },
  {
   "cell_type": "code",
   "execution_count": 184,
   "metadata": {},
   "outputs": [],
   "source": [
    "x_train, x_test, y_train, y_test = train_test_split(x, y, test_size = 0.2, random_state = 0)"
   ]
  },
  {
   "cell_type": "code",
   "execution_count": 185,
   "metadata": {},
   "outputs": [
    {
     "data": {
      "text/plain": [
       "GaussianNB(priors=None)"
      ]
     },
     "execution_count": 185,
     "metadata": {},
     "output_type": "execute_result"
    }
   ],
   "source": [
    "gnb = GaussianNB()\n",
    "gnb.fit(x_train, y_train)"
   ]
  },
  {
   "cell_type": "code",
   "execution_count": 189,
   "metadata": {},
   "outputs": [
    {
     "data": {
      "text/plain": [
       "61"
      ]
     },
     "execution_count": 189,
     "metadata": {},
     "output_type": "execute_result"
    }
   ],
   "source": [
    "sum(gnb.predict(x_test) == y_test)"
   ]
  },
  {
   "cell_type": "code",
   "execution_count": 191,
   "metadata": {},
   "outputs": [],
   "source": [
    "accuracy_rate = make_scorer(accuracy_score)\n",
    "\n",
    "scores = cross_val_score(gnb, x, y, cv = 10, scoring = accuracy_rate)"
   ]
  },
  {
   "cell_type": "code",
   "execution_count": 194,
   "metadata": {},
   "outputs": [
    {
     "name": "stdout",
     "output_type": "stream",
     "text": [
      "[ 0.59615385  0.64705882  0.56        0.5         0.54        0.48        0.52\n",
      "  0.54        0.46        0.48      ]\n"
     ]
    },
    {
     "data": {
      "text/plain": [
       "0.53232126696832582"
      ]
     },
     "execution_count": 194,
     "metadata": {},
     "output_type": "execute_result"
    }
   ],
   "source": [
    "print (scores)\n",
    "\n",
    "np.mean(scores)"
   ]
  },
  {
   "cell_type": "markdown",
   "metadata": {},
   "source": [
    "## Random Forest Classifier "
   ]
  },
  {
   "cell_type": "code",
   "execution_count": 197,
   "metadata": {},
   "outputs": [
    {
     "data": {
      "text/plain": [
       "array([ 0.,  0.,  1.,  0.,  1.,  0.,  0.,  1.,  0.,  0.,  1.,  1.,  0.,\n",
       "        0.,  0.,  1.,  1.,  1.,  1.,  1.,  1.,  0.,  1.,  0.,  0.,  0.,\n",
       "        0.,  0.,  1.,  1.,  0.,  0.,  0.,  1.,  1.,  1.,  1.,  0.,  0.,\n",
       "        0.,  0.,  0.,  0.,  1.,  0.,  0.,  1.,  0.,  0.,  1.,  0.,  1.,\n",
       "        1.,  0.,  0.,  1.,  0.,  0.,  1.,  0.,  0.,  1.,  0.,  1.,  1.,\n",
       "        1.,  1.,  1.,  0.,  1.,  1.,  1.,  1.,  0.,  1.,  1.,  0.,  1.,\n",
       "        0.,  1.,  0.,  1.,  0.,  0.,  0.,  1.,  1.,  0.,  0.,  1.,  0.,\n",
       "        0.,  1.,  0.,  0.,  0.,  1.,  1.,  1.,  0.,  0.])"
      ]
     },
     "execution_count": 197,
     "metadata": {},
     "output_type": "execute_result"
    }
   ],
   "source": [
    "clf = RandomForestClassifier()\n",
    "clf.fit(x_train, y_train)\n",
    "\n",
    "clf.predict(x_test)"
   ]
  },
  {
   "cell_type": "code",
   "execution_count": 198,
   "metadata": {
    "collapsed": true
   },
   "outputs": [],
   "source": [
    "accuracy_rate = make_scorer(accuracy_score)\n",
    "\n",
    "scores = cross_val_score(clf, x, y, cv = 10, scoring = accuracy_rate)"
   ]
  },
  {
   "cell_type": "code",
   "execution_count": 199,
   "metadata": {},
   "outputs": [
    {
     "name": "stdout",
     "output_type": "stream",
     "text": [
      "[ 0.53846154  0.62745098  0.58        0.58        0.64        0.46        0.52\n",
      "  0.64        0.66        0.5       ]\n"
     ]
    },
    {
     "data": {
      "text/plain": [
       "0.57459125188536952"
      ]
     },
     "execution_count": 199,
     "metadata": {},
     "output_type": "execute_result"
    }
   ],
   "source": [
    "print (scores)\n",
    "\n",
    "np.mean(scores)"
   ]
  },
  {
   "cell_type": "code",
   "execution_count": null,
   "metadata": {
    "collapsed": true
   },
   "outputs": [],
   "source": []
  },
  {
   "cell_type": "markdown",
   "metadata": {},
   "source": [
    "## Random Forest Regressor "
   ]
  },
  {
   "cell_type": "code",
   "execution_count": 201,
   "metadata": {},
   "outputs": [
    {
     "data": {
      "text/html": [
       "<div>\n",
       "<style>\n",
       "    .dataframe thead tr:only-child th {\n",
       "        text-align: right;\n",
       "    }\n",
       "\n",
       "    .dataframe thead th {\n",
       "        text-align: left;\n",
       "    }\n",
       "\n",
       "    .dataframe tbody tr th {\n",
       "        vertical-align: top;\n",
       "    }\n",
       "</style>\n",
       "<table border=\"1\" class=\"dataframe\">\n",
       "  <thead>\n",
       "    <tr style=\"text-align: right;\">\n",
       "      <th></th>\n",
       "      <th>Name</th>\n",
       "      <th>2012-08-13</th>\n",
       "      <th>2012-08-14</th>\n",
       "      <th>2012-08-15</th>\n",
       "      <th>2012-08-16</th>\n",
       "      <th>2012-08-17</th>\n",
       "      <th>2012-08-20</th>\n",
       "      <th>2012-08-21</th>\n",
       "      <th>2012-08-22</th>\n",
       "      <th>2012-08-23</th>\n",
       "      <th>...</th>\n",
       "      <th>2017-07-31</th>\n",
       "      <th>2017-08-01</th>\n",
       "      <th>2017-08-02</th>\n",
       "      <th>2017-08-03</th>\n",
       "      <th>2017-08-04</th>\n",
       "      <th>2017-08-07</th>\n",
       "      <th>2017-08-08</th>\n",
       "      <th>2017-08-09</th>\n",
       "      <th>2017-08-10</th>\n",
       "      <th>2017-08-11</th>\n",
       "    </tr>\n",
       "  </thead>\n",
       "  <tbody>\n",
       "    <tr>\n",
       "      <th>0</th>\n",
       "      <td>A</td>\n",
       "      <td>40.380000</td>\n",
       "      <td>40.490000</td>\n",
       "      <td>40.480000</td>\n",
       "      <td>37.150000</td>\n",
       "      <td>37.220000</td>\n",
       "      <td>36.680000</td>\n",
       "      <td>37.130000</td>\n",
       "      <td>37.460000</td>\n",
       "      <td>37.470000</td>\n",
       "      <td>...</td>\n",
       "      <td>59.79</td>\n",
       "      <td>59.94</td>\n",
       "      <td>60.20</td>\n",
       "      <td>60.37</td>\n",
       "      <td>60.13</td>\n",
       "      <td>60.87</td>\n",
       "      <td>60.14</td>\n",
       "      <td>59.68</td>\n",
       "      <td>58.57</td>\n",
       "      <td>59.33</td>\n",
       "    </tr>\n",
       "    <tr>\n",
       "      <th>1</th>\n",
       "      <td>AAL</td>\n",
       "      <td>41.509644</td>\n",
       "      <td>41.509644</td>\n",
       "      <td>41.509644</td>\n",
       "      <td>41.509644</td>\n",
       "      <td>41.509644</td>\n",
       "      <td>41.509644</td>\n",
       "      <td>41.509644</td>\n",
       "      <td>41.509644</td>\n",
       "      <td>41.509644</td>\n",
       "      <td>...</td>\n",
       "      <td>50.44</td>\n",
       "      <td>51.06</td>\n",
       "      <td>50.45</td>\n",
       "      <td>50.55</td>\n",
       "      <td>50.80</td>\n",
       "      <td>50.58</td>\n",
       "      <td>50.00</td>\n",
       "      <td>49.40</td>\n",
       "      <td>48.55</td>\n",
       "      <td>48.35</td>\n",
       "    </tr>\n",
       "    <tr>\n",
       "      <th>2</th>\n",
       "      <td>AAP</td>\n",
       "      <td>69.110000</td>\n",
       "      <td>70.670000</td>\n",
       "      <td>71.300000</td>\n",
       "      <td>72.460000</td>\n",
       "      <td>72.870000</td>\n",
       "      <td>71.580000</td>\n",
       "      <td>72.000000</td>\n",
       "      <td>72.200000</td>\n",
       "      <td>71.960000</td>\n",
       "      <td>...</td>\n",
       "      <td>112.01</td>\n",
       "      <td>114.05</td>\n",
       "      <td>114.48</td>\n",
       "      <td>110.53</td>\n",
       "      <td>111.01</td>\n",
       "      <td>109.49</td>\n",
       "      <td>109.39</td>\n",
       "      <td>109.18</td>\n",
       "      <td>106.13</td>\n",
       "      <td>107.34</td>\n",
       "    </tr>\n",
       "    <tr>\n",
       "      <th>3</th>\n",
       "      <td>AAPL</td>\n",
       "      <td>90.000000</td>\n",
       "      <td>90.240000</td>\n",
       "      <td>90.120000</td>\n",
       "      <td>90.910000</td>\n",
       "      <td>92.590000</td>\n",
       "      <td>95.020000</td>\n",
       "      <td>93.720000</td>\n",
       "      <td>95.550000</td>\n",
       "      <td>94.660000</td>\n",
       "      <td>...</td>\n",
       "      <td>148.73</td>\n",
       "      <td>150.05</td>\n",
       "      <td>157.14</td>\n",
       "      <td>155.57</td>\n",
       "      <td>156.39</td>\n",
       "      <td>158.81</td>\n",
       "      <td>160.08</td>\n",
       "      <td>161.06</td>\n",
       "      <td>155.32</td>\n",
       "      <td>157.48</td>\n",
       "    </tr>\n",
       "    <tr>\n",
       "      <th>4</th>\n",
       "      <td>ABBV</td>\n",
       "      <td>56.629558</td>\n",
       "      <td>56.629558</td>\n",
       "      <td>56.629558</td>\n",
       "      <td>56.629558</td>\n",
       "      <td>56.629558</td>\n",
       "      <td>56.629558</td>\n",
       "      <td>56.629558</td>\n",
       "      <td>56.629558</td>\n",
       "      <td>56.629558</td>\n",
       "      <td>...</td>\n",
       "      <td>69.91</td>\n",
       "      <td>70.38</td>\n",
       "      <td>70.71</td>\n",
       "      <td>70.99</td>\n",
       "      <td>70.99</td>\n",
       "      <td>71.22</td>\n",
       "      <td>71.47</td>\n",
       "      <td>72.02</td>\n",
       "      <td>70.44</td>\n",
       "      <td>70.63</td>\n",
       "    </tr>\n",
       "  </tbody>\n",
       "</table>\n",
       "<p>5 rows × 1259 columns</p>\n",
       "</div>"
      ],
      "text/plain": [
       "   Name  2012-08-13  2012-08-14  2012-08-15  2012-08-16  2012-08-17  \\\n",
       "0     A   40.380000   40.490000   40.480000   37.150000   37.220000   \n",
       "1   AAL   41.509644   41.509644   41.509644   41.509644   41.509644   \n",
       "2   AAP   69.110000   70.670000   71.300000   72.460000   72.870000   \n",
       "3  AAPL   90.000000   90.240000   90.120000   90.910000   92.590000   \n",
       "4  ABBV   56.629558   56.629558   56.629558   56.629558   56.629558   \n",
       "\n",
       "   2012-08-20  2012-08-21  2012-08-22  2012-08-23     ...      2017-07-31  \\\n",
       "0   36.680000   37.130000   37.460000   37.470000     ...           59.79   \n",
       "1   41.509644   41.509644   41.509644   41.509644     ...           50.44   \n",
       "2   71.580000   72.000000   72.200000   71.960000     ...          112.01   \n",
       "3   95.020000   93.720000   95.550000   94.660000     ...          148.73   \n",
       "4   56.629558   56.629558   56.629558   56.629558     ...           69.91   \n",
       "\n",
       "   2017-08-01  2017-08-02  2017-08-03  2017-08-04  2017-08-07  2017-08-08  \\\n",
       "0       59.94       60.20       60.37       60.13       60.87       60.14   \n",
       "1       51.06       50.45       50.55       50.80       50.58       50.00   \n",
       "2      114.05      114.48      110.53      111.01      109.49      109.39   \n",
       "3      150.05      157.14      155.57      156.39      158.81      160.08   \n",
       "4       70.38       70.71       70.99       70.99       71.22       71.47   \n",
       "\n",
       "   2017-08-09  2017-08-10  2017-08-11  \n",
       "0       59.68       58.57       59.33  \n",
       "1       49.40       48.55       48.35  \n",
       "2      109.18      106.13      107.34  \n",
       "3      161.06      155.32      157.48  \n",
       "4       72.02       70.44       70.63  \n",
       "\n",
       "[5 rows x 1259 columns]"
      ]
     },
     "execution_count": 201,
     "metadata": {},
     "output_type": "execute_result"
    }
   ],
   "source": [
    "td.head()"
   ]
  },
  {
   "cell_type": "code",
   "execution_count": 248,
   "metadata": {},
   "outputs": [],
   "source": [
    "# predict price on Aug. 11th from all the past data\n",
    "\n",
    "yrf = td[td.columns[-1]]\n",
    "\n",
    "xrf_train, xrf_test, yrf_train, yrf_test = train_test_split(x, yrf, test_size = 0.2, random_state = 1)\n"
   ]
  },
  {
   "cell_type": "code",
   "execution_count": 249,
   "metadata": {},
   "outputs": [
    {
     "data": {
      "text/plain": [
       "RandomForestRegressor(bootstrap=True, criterion='mse', max_depth=None,\n",
       "           max_features='auto', max_leaf_nodes=None,\n",
       "           min_impurity_split=1e-07, min_samples_leaf=1,\n",
       "           min_samples_split=2, min_weight_fraction_leaf=0.0,\n",
       "           n_estimators=10, n_jobs=1, oob_score=False, random_state=None,\n",
       "           verbose=0, warm_start=False)"
      ]
     },
     "execution_count": 249,
     "metadata": {},
     "output_type": "execute_result"
    }
   ],
   "source": [
    "rf = RandomForestRegressor()\n",
    "\n",
    "rf.fit(xrf_train, yrf_train)"
   ]
  },
  {
   "cell_type": "code",
   "execution_count": 267,
   "metadata": {},
   "outputs": [
    {
     "name": "stdout",
     "output_type": "stream",
     "text": [
      "[  1.39450346e+03   2.05876093e+03   1.01384325e+03   1.79697366e+01\n",
      "   2.39138049e+01   3.25763272e+02   8.12254425e+02   1.65275104e+04\n",
      "   2.33090934e+00   4.14081545e+01]\n",
      "2221.82583338\n"
     ]
    }
   ],
   "source": [
    "mse = make_scorer(mean_squared_error)\n",
    "\n",
    "scores = cross_val_score(rf, x, yrf, cv = 10, scoring = mse)\n",
    "\n",
    "print (scores)\n",
    "print (np.mean(scores))"
   ]
  },
  {
   "cell_type": "code",
   "execution_count": 252,
   "metadata": {},
   "outputs": [],
   "source": []
  },
  {
   "cell_type": "code",
   "execution_count": 262,
   "metadata": {},
   "outputs": [
    {
     "name": "stdout",
     "output_type": "stream",
     "text": [
      "0.504950495049505\n",
      "0.49504950495049505\n"
     ]
    }
   ],
   "source": [
    "# rf regression to binary result validation \n",
    "# prediciton is for aug.11th\n",
    "\n",
    "# prediction using xrf_test\n",
    "rfp = rf.predict(xrf_test)\n",
    "\n",
    "aug10_test = xrf_test[xrf_test.columns[-1]]\n",
    "\n",
    "\n",
    "pos = []\n",
    "neg = [] \n",
    "\n",
    "for i in range(len(rfp)):\n",
    "    if (yrf[i] - aug10_test.iloc[i])/ (rfp[i] - aug10_test.iloc[i]) > 0:\n",
    "        pos.append(aug10_test.index[i])\n",
    "    else:\n",
    "        neg.append(aug10_test.index[i])\n",
    "\n",
    "        \n",
    "# defiend accuracy \n",
    "print (len(pos)/ len(rfp))\n",
    "\n",
    "print (len(neg)/ len(rfp))"
   ]
  },
  {
   "cell_type": "markdown",
   "metadata": {},
   "source": [
    "## Tuning RF Regessor "
   ]
  },
  {
   "cell_type": "code",
   "execution_count": 258,
   "metadata": {
    "scrolled": true
   },
   "outputs": [
    {
     "data": {
      "text/plain": [
       "GridSearchCV(cv=10, error_score='raise',\n",
       "       estimator=RandomForestRegressor(bootstrap=True, criterion='mse', max_depth=None,\n",
       "           max_features='auto', max_leaf_nodes=None,\n",
       "           min_impurity_split=1e-07, min_samples_leaf=1,\n",
       "           min_samples_split=2, min_weight_fraction_leaf=0.0,\n",
       "           n_estimators=10, n_jobs=1, oob_score=False, random_state=None,\n",
       "           verbose=0, warm_start=False),\n",
       "       fit_params={}, iid=True, n_jobs=1,\n",
       "       param_grid={'n_estimators': [100, 200, 300, 500], 'max_features': ['sqrt', 420, 50]},\n",
       "       pre_dispatch='2*n_jobs', refit=True, return_train_score=True,\n",
       "       scoring=make_scorer(mean_squared_error), verbose=0)"
      ]
     },
     "execution_count": 258,
     "metadata": {},
     "output_type": "execute_result"
    }
   ],
   "source": [
    "# n_estimators is the number of  trees, max_features is the number of bagged features \n",
    "\n",
    "tuned =  RandomForestRegressor()\n",
    "\n",
    "param_grid = {'n_estimators': [100, 200, 300, 500], 'max_features': ['sqrt', 420, 50]}\n",
    "\n",
    "grid_search = GridSearchCV(tuned, param_grid, cv= 10, scoring = make_scorer(mean_squared_error))\n",
    "\n",
    "grid_search.fit(xrf_train, yrf_train)"
   ]
  },
  {
   "cell_type": "code",
   "execution_count": 259,
   "metadata": {},
   "outputs": [
    {
     "data": {
      "text/plain": [
       "{'max_features': 'sqrt', 'n_estimators': 100}"
      ]
     },
     "execution_count": 259,
     "metadata": {},
     "output_type": "execute_result"
    }
   ],
   "source": [
    "grid_search.best_params_"
   ]
  },
  {
   "cell_type": "code",
   "execution_count": 261,
   "metadata": {},
   "outputs": [
    {
     "data": {
      "text/plain": [
       "RandomForestRegressor(bootstrap=True, criterion='mse', max_depth=None,\n",
       "           max_features='sqrt', max_leaf_nodes=None,\n",
       "           min_impurity_split=1e-07, min_samples_leaf=1,\n",
       "           min_samples_split=2, min_weight_fraction_leaf=0.0,\n",
       "           n_estimators=100, n_jobs=1, oob_score=False, random_state=None,\n",
       "           verbose=0, warm_start=False)"
      ]
     },
     "execution_count": 261,
     "metadata": {},
     "output_type": "execute_result"
    }
   ],
   "source": [
    "best_tree = RandomForestRegressor(max_features = 'sqrt', n_estimators = 100)\n",
    "best_tree.fit(xrf_train, yrf_train)"
   ]
  },
  {
   "cell_type": "code",
   "execution_count": 268,
   "metadata": {},
   "outputs": [
    {
     "name": "stdout",
     "output_type": "stream",
     "text": [
      "[  1.44218605e+03   2.05858767e+03   1.12588455e+03   2.43594307e+01\n",
      "   1.20031139e+02   4.36551567e+02   7.36611579e+02   1.76043269e+04\n",
      "   1.59538295e+01   6.07104048e+01]\n",
      "2362.52031088\n"
     ]
    }
   ],
   "source": [
    "scores = cross_val_score(best_tree, x, yrf, cv = 10, scoring = make_scorer(mean_squared_error))\n",
    "\n",
    "print (scores)\n",
    "print (np.mean(scores))"
   ]
  },
  {
   "cell_type": "code",
   "execution_count": null,
   "metadata": {
    "collapsed": true
   },
   "outputs": [],
   "source": []
  },
  {
   "cell_type": "code",
   "execution_count": 264,
   "metadata": {},
   "outputs": [
    {
     "name": "stdout",
     "output_type": "stream",
     "text": [
      "0.5346534653465347\n",
      "0.46534653465346537\n"
     ]
    }
   ],
   "source": [
    "# rf regression to binary result validation \n",
    "# prediciton is for aug.11th\n",
    "\n",
    "# prediction using xrf_test\n",
    "rfp = best_tree.predict(xrf_test)\n",
    "\n",
    "aug10_test = xrf_test[xrf_test.columns[-1]]\n",
    "\n",
    "\n",
    "pos = []\n",
    "neg = [] \n",
    "\n",
    "for i in range(len(rfp)):\n",
    "    if (yrf[i] - aug10_test.iloc[i])/ (rfp[i] - aug10_test.iloc[i]) > 0:\n",
    "        pos.append(aug10_test.index[i])\n",
    "    else:\n",
    "        neg.append(aug10_test.index[i])\n",
    "\n",
    "        \n",
    "# defiend accuracy \n",
    "print (len(pos)/ len(rfp))\n",
    "\n",
    "print (len(neg)/ len(rfp))"
   ]
  },
  {
   "cell_type": "code",
   "execution_count": null,
   "metadata": {
    "collapsed": true
   },
   "outputs": [],
   "source": []
  }
 ],
 "metadata": {
  "kernelspec": {
   "display_name": "Python 3",
   "language": "python",
   "name": "python3"
  },
  "language_info": {
   "codemirror_mode": {
    "name": "ipython",
    "version": 3
   },
   "file_extension": ".py",
   "mimetype": "text/x-python",
   "name": "python",
   "nbconvert_exporter": "python",
   "pygments_lexer": "ipython3",
   "version": "3.6.1"
  }
 },
 "nbformat": 4,
 "nbformat_minor": 2
}
