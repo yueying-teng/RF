{
 "cells": [
  {
   "cell_type": "markdown",
   "metadata": {},
   "source": [
    "http://python-for-multivariate-analysis.readthedocs.io/a_little_book_of_python_for_multivariate_analysis.html#reading-multivariate-analysis-data-into-python"
   ]
  },
  {
   "cell_type": "markdown",
   "metadata": {},
   "source": [
    "http://sebastianraschka.com/Articles/2014_pca_step_by_step.html#sc_matrix"
   ]
  },
  {
   "cell_type": "code",
   "execution_count": 39,
   "metadata": {
    "collapsed": true
   },
   "outputs": [],
   "source": [
    "import pandas as pd\n",
    "import numpy as np\n",
    "import scipy \n",
    "import matplotlib.pyplot as plt\n",
    "% matplotlib inline\n",
    "\n",
    "import seaborn as sns"
   ]
  },
  {
   "cell_type": "markdown",
   "metadata": {},
   "source": [
    "The wine data contains data on concentrations of 13 different chemicals in wines grown in the same region in Italy that are derived from three different cultivars, which are coded as 1, 2 and 3 in the dataset."
   ]
  },
  {
   "cell_type": "code",
   "execution_count": 2,
   "metadata": {
    "collapsed": true
   },
   "outputs": [],
   "source": [
    "data = pd.read_csv(\"http://archive.ics.uci.edu/ml/machine-learning-databases/wine/wine.data\", header = None)"
   ]
  },
  {
   "cell_type": "code",
   "execution_count": 4,
   "metadata": {
    "collapsed": true
   },
   "outputs": [],
   "source": [
    "# rename column names \n",
    "data.columns = [\"v\" + str(i) for i in range(1, len(data.columns) + 1)]\n",
    "# change to categorical variables\n",
    "data.v1 = data.v1.astype(str)"
   ]
  },
  {
   "cell_type": "code",
   "execution_count": 16,
   "metadata": {},
   "outputs": [
    {
     "data": {
      "text/html": [
       "<div>\n",
       "<style>\n",
       "    .dataframe thead tr:only-child th {\n",
       "        text-align: right;\n",
       "    }\n",
       "\n",
       "    .dataframe thead th {\n",
       "        text-align: left;\n",
       "    }\n",
       "\n",
       "    .dataframe tbody tr th {\n",
       "        vertical-align: top;\n",
       "    }\n",
       "</style>\n",
       "<table border=\"1\" class=\"dataframe\">\n",
       "  <thead>\n",
       "    <tr style=\"text-align: right;\">\n",
       "      <th></th>\n",
       "      <th>v1</th>\n",
       "      <th>v2</th>\n",
       "      <th>v3</th>\n",
       "      <th>v4</th>\n",
       "      <th>v5</th>\n",
       "      <th>v6</th>\n",
       "      <th>v7</th>\n",
       "      <th>v8</th>\n",
       "      <th>v9</th>\n",
       "      <th>v10</th>\n",
       "      <th>v11</th>\n",
       "      <th>v12</th>\n",
       "      <th>v13</th>\n",
       "      <th>v14</th>\n",
       "    </tr>\n",
       "  </thead>\n",
       "  <tbody>\n",
       "    <tr>\n",
       "      <th>0</th>\n",
       "      <td>1</td>\n",
       "      <td>14.23</td>\n",
       "      <td>1.71</td>\n",
       "      <td>2.43</td>\n",
       "      <td>15.6</td>\n",
       "      <td>127</td>\n",
       "      <td>2.80</td>\n",
       "      <td>3.06</td>\n",
       "      <td>0.28</td>\n",
       "      <td>2.29</td>\n",
       "      <td>5.64</td>\n",
       "      <td>1.04</td>\n",
       "      <td>3.92</td>\n",
       "      <td>1065</td>\n",
       "    </tr>\n",
       "    <tr>\n",
       "      <th>1</th>\n",
       "      <td>1</td>\n",
       "      <td>13.20</td>\n",
       "      <td>1.78</td>\n",
       "      <td>2.14</td>\n",
       "      <td>11.2</td>\n",
       "      <td>100</td>\n",
       "      <td>2.65</td>\n",
       "      <td>2.76</td>\n",
       "      <td>0.26</td>\n",
       "      <td>1.28</td>\n",
       "      <td>4.38</td>\n",
       "      <td>1.05</td>\n",
       "      <td>3.40</td>\n",
       "      <td>1050</td>\n",
       "    </tr>\n",
       "    <tr>\n",
       "      <th>2</th>\n",
       "      <td>1</td>\n",
       "      <td>13.16</td>\n",
       "      <td>2.36</td>\n",
       "      <td>2.67</td>\n",
       "      <td>18.6</td>\n",
       "      <td>101</td>\n",
       "      <td>2.80</td>\n",
       "      <td>3.24</td>\n",
       "      <td>0.30</td>\n",
       "      <td>2.81</td>\n",
       "      <td>5.68</td>\n",
       "      <td>1.03</td>\n",
       "      <td>3.17</td>\n",
       "      <td>1185</td>\n",
       "    </tr>\n",
       "    <tr>\n",
       "      <th>3</th>\n",
       "      <td>1</td>\n",
       "      <td>14.37</td>\n",
       "      <td>1.95</td>\n",
       "      <td>2.50</td>\n",
       "      <td>16.8</td>\n",
       "      <td>113</td>\n",
       "      <td>3.85</td>\n",
       "      <td>3.49</td>\n",
       "      <td>0.24</td>\n",
       "      <td>2.18</td>\n",
       "      <td>7.80</td>\n",
       "      <td>0.86</td>\n",
       "      <td>3.45</td>\n",
       "      <td>1480</td>\n",
       "    </tr>\n",
       "    <tr>\n",
       "      <th>4</th>\n",
       "      <td>1</td>\n",
       "      <td>13.24</td>\n",
       "      <td>2.59</td>\n",
       "      <td>2.87</td>\n",
       "      <td>21.0</td>\n",
       "      <td>118</td>\n",
       "      <td>2.80</td>\n",
       "      <td>2.69</td>\n",
       "      <td>0.39</td>\n",
       "      <td>1.82</td>\n",
       "      <td>4.32</td>\n",
       "      <td>1.04</td>\n",
       "      <td>2.93</td>\n",
       "      <td>735</td>\n",
       "    </tr>\n",
       "  </tbody>\n",
       "</table>\n",
       "</div>"
      ],
      "text/plain": [
       "  v1     v2    v3    v4    v5   v6    v7    v8    v9   v10   v11   v12   v13  \\\n",
       "0  1  14.23  1.71  2.43  15.6  127  2.80  3.06  0.28  2.29  5.64  1.04  3.92   \n",
       "1  1  13.20  1.78  2.14  11.2  100  2.65  2.76  0.26  1.28  4.38  1.05  3.40   \n",
       "2  1  13.16  2.36  2.67  18.6  101  2.80  3.24  0.30  2.81  5.68  1.03  3.17   \n",
       "3  1  14.37  1.95  2.50  16.8  113  3.85  3.49  0.24  2.18  7.80  0.86  3.45   \n",
       "4  1  13.24  2.59  2.87  21.0  118  2.80  2.69  0.39  1.82  4.32  1.04  2.93   \n",
       "\n",
       "    v14  \n",
       "0  1065  \n",
       "1  1050  \n",
       "2  1185  \n",
       "3  1480  \n",
       "4   735  "
      ]
     },
     "execution_count": 16,
     "metadata": {},
     "output_type": "execute_result"
    }
   ],
   "source": [
    "# independent variables data\n",
    "x = data.loc[:, \"v2\":]  \n",
    "# dependent variables data\n",
    "y = data.v1  \n",
    "data.head()"
   ]
  },
  {
   "cell_type": "markdown",
   "metadata": {
    "collapsed": true
   },
   "source": [
    "### matrix scatterplot"
   ]
  },
  {
   "cell_type": "code",
   "execution_count": 55,
   "metadata": {},
   "outputs": [
    {
     "name": "stderr",
     "output_type": "stream",
     "text": [
      "/Users/yueyingteng/miniconda3/lib/python3.5/site-packages/ipykernel_launcher.py:2: FutureWarning: 'pandas.tools.plotting.scatter_matrix' is deprecated, import 'pandas.plotting.scatter_matrix' instead.\n",
      "  \n"
     ]
    },
    {
     "data": {
      "text/plain": [
       "<matplotlib.figure.Figure at 0x113901c18>"
      ]
     },
     "metadata": {},
     "output_type": "display_data"
    },
    {
     "data": {
      "image/png": "[encoded data removed]",
      "text/plain": [
       "<matplotlib.figure.Figure at 0x1157e7e10>"
      ]
     },
     "metadata": {},
     "output_type": "display_data"
    }
   ],
   "source": [
    "plt.figure(figsize = (10, 10))\n",
    "pd.tools.plotting.scatter_matrix(data.loc[:, \"v2\":\"v6\"], diagonal = \"hist\")\n",
    "plt.tight_layout()\n",
    "\n",
    "plt.show()"
   ]
  },
  {
   "cell_type": "markdown",
   "metadata": {
    "collapsed": true
   },
   "source": [
    "### scatter plot with dat points labelled by their groups "
   ]
  },
  {
   "cell_type": "code",
   "execution_count": 20,
   "metadata": {},
   "outputs": [
    {
     "data": {
      "text/plain": [
       "<seaborn.axisgrid.FacetGrid at 0x1158ccef0>"
      ]
     },
     "execution_count": 20,
     "metadata": {},
     "output_type": "execute_result"
    },
    {
     "data": {
      "image/png": "[encoded data removed]",
      "text/plain": [
       "<matplotlib.figure.Figure at 0x1158cc630>"
      ]
     },
     "metadata": {},
     "output_type": "display_data"
    }
   ],
   "source": [
    "# as from the scatter plot above, v4 and v5 maybe correlated \n",
    "\n",
    "plt.figure(figsize = (10, 10))\n",
    "sns.lmplot(\"v4\", \"v5\", data, hue = \"v1\", fit_reg = False)"
   ]
  },
  {
   "cell_type": "code",
   "execution_count": 54,
   "metadata": {},
   "outputs": [
    {
     "data": {
      "text/plain": [
       "<seaborn.axisgrid.FacetGrid at 0x112f2f550>"
      ]
     },
     "execution_count": 54,
     "metadata": {},
     "output_type": "execute_result"
    },
    {
     "data": {
      "text/plain": [
       "<matplotlib.figure.Figure at 0x11555bc18>"
      ]
     },
     "metadata": {},
     "output_type": "display_data"
    },
    {
     "data": {
      "image/png": "[encoded data removed]",
      "text/plain": [
       "<matplotlib.figure.Figure at 0x112f2f240>"
      ]
     },
     "metadata": {},
     "output_type": "display_data"
    }
   ],
   "source": [
    "# as from the scatter plot above, v2 and v4 are less likely to be correlated \n",
    "plt.figure(figsize = (10, 10))\n",
    "\n",
    "sns.lmplot(\"v2\", \"v4\", data, hue = \"v1\", fit_reg = False)"
   ]
  },
  {
   "cell_type": "markdown",
   "metadata": {},
   "source": [
    "### profile plot \n",
    "Another type of plot that is useful is a profile plot, which shows the variation in each of the variables, by plotting the value of each of the variables for each of the samples."
   ]
  },
  {
   "cell_type": "code",
   "execution_count": 60,
   "metadata": {},
   "outputs": [
    {
     "data": {
      "text/plain": [
       "<matplotlib.figure.Figure at 0x1165726d8>"
      ]
     },
     "metadata": {},
     "output_type": "display_data"
    },
    {
     "data": {
      "image/png": "[encoded data removed]",
      "text/plain": [
       "<matplotlib.figure.Figure at 0x11683d2b0>"
      ]
     },
     "metadata": {},
     "output_type": "display_data"
    }
   ],
   "source": [
    "plt.figure(figsize = (10, 10))\n",
    "\n",
    "fig = data.loc[:,\"v2\":\"v6\"].plot()\n",
    "fig.legend(loc='center left', bbox_to_anchor=(1, 0.5))\n",
    "plt.show()"
   ]
  },
  {
   "cell_type": "code",
   "execution_count": null,
   "metadata": {
    "collapsed": true
   },
   "outputs": [],
   "source": [
    "# interpretaion of axes in the profile plot "
   ]
  },
  {
   "cell_type": "code",
   "execution_count": null,
   "metadata": {
    "collapsed": true
   },
   "outputs": [],
   "source": []
  },
  {
   "cell_type": "code",
   "execution_count": null,
   "metadata": {
    "collapsed": true
   },
   "outputs": [],
   "source": []
  },
  {
   "cell_type": "markdown",
   "metadata": {
    "collapsed": true
   },
   "source": [
    "### summary statistics for multivariate data"
   ]
  },
  {
   "cell_type": "markdown",
   "metadata": {},
   "source": [
    "** apply** applies the passed argument function along the input axis of the **DataFrame**"
   ]
  },
  {
   "cell_type": "code",
   "execution_count": 31,
   "metadata": {},
   "outputs": [
    {
     "data": {
      "text/plain": [
       "v2      13.000618\n",
       "v3       2.336348\n",
       "v4       2.366517\n",
       "v5      19.494944\n",
       "v6      99.741573\n",
       "v7       2.295112\n",
       "v8       2.029270\n",
       "v9       0.361854\n",
       "v10      1.590899\n",
       "v11      5.058090\n",
       "v12      0.957449\n",
       "v13      2.611685\n",
       "v14    746.893258\n",
       "dtype: float64"
      ]
     },
     "execution_count": 31,
     "metadata": {},
     "output_type": "execute_result"
    }
   ],
   "source": [
    "x.apply(np.mean)"
   ]
  },
  {
   "cell_type": "code",
   "execution_count": 33,
   "metadata": {},
   "outputs": [
    {
     "data": {
      "text/plain": [
       "v2       0.809543\n",
       "v3       1.114004\n",
       "v4       0.273572\n",
       "v5       3.330170\n",
       "v6      14.242308\n",
       "v7       0.624091\n",
       "v8       0.996049\n",
       "v9       0.124103\n",
       "v10      0.570749\n",
       "v11      2.311765\n",
       "v12      0.227929\n",
       "v13      0.707993\n",
       "v14    314.021657\n",
       "dtype: float64"
      ]
     },
     "execution_count": 33,
     "metadata": {},
     "output_type": "execute_result"
    }
   ],
   "source": [
    "x.apply(np.std)"
   ]
  },
  {
   "cell_type": "markdown",
   "metadata": {},
   "source": [
    "In order to compare the variables, they need to be standardised such that each variable has a sample variance of 1 and sample mean of 0."
   ]
  },
  {
   "cell_type": "code",
   "execution_count": 34,
   "metadata": {
    "collapsed": true
   },
   "outputs": [],
   "source": [
    "### correlation for multivariate data "
   ]
  },
  {
   "cell_type": "code",
   "execution_count": 41,
   "metadata": {},
   "outputs": [
    {
     "name": "stdout",
     "output_type": "stream",
     "text": [
      "p-value:\t 0.210081985971\n",
      "cor:\t\t 0.0943969409104\n"
     ]
    }
   ],
   "source": [
    "# use scipy stats to get Pearson correlation coefficient and the p-value for testing non-correlation\n",
    "corr = scipy.stats.pearsonr(x.v2, x.v3)\n",
    "print(\"p-value:\\t\", corr[1])\n",
    "print(\"cor:\\t\\t\", corr[0])"
   ]
  },
  {
   "cell_type": "code",
   "execution_count": 42,
   "metadata": {},
   "outputs": [
    {
     "data": {
      "text/html": [
       "<div>\n",
       "<style>\n",
       "    .dataframe thead tr:only-child th {\n",
       "        text-align: right;\n",
       "    }\n",
       "\n",
       "    .dataframe thead th {\n",
       "        text-align: left;\n",
       "    }\n",
       "\n",
       "    .dataframe tbody tr th {\n",
       "        vertical-align: top;\n",
       "    }\n",
       "</style>\n",
       "<table border=\"1\" class=\"dataframe\">\n",
       "  <thead>\n",
       "    <tr style=\"text-align: right;\">\n",
       "      <th></th>\n",
       "      <th>v2</th>\n",
       "      <th>v3</th>\n",
       "      <th>v4</th>\n",
       "      <th>v5</th>\n",
       "      <th>v6</th>\n",
       "      <th>v7</th>\n",
       "      <th>v8</th>\n",
       "      <th>v9</th>\n",
       "      <th>v10</th>\n",
       "      <th>v11</th>\n",
       "      <th>v12</th>\n",
       "      <th>v13</th>\n",
       "      <th>v14</th>\n",
       "    </tr>\n",
       "  </thead>\n",
       "  <tbody>\n",
       "    <tr>\n",
       "      <th>v2</th>\n",
       "      <td>1.000000</td>\n",
       "      <td>0.094397</td>\n",
       "      <td>0.211545</td>\n",
       "      <td>-0.310235</td>\n",
       "      <td>0.270798</td>\n",
       "      <td>0.289101</td>\n",
       "      <td>0.236815</td>\n",
       "      <td>-0.155929</td>\n",
       "      <td>0.136698</td>\n",
       "      <td>0.546364</td>\n",
       "      <td>-0.071747</td>\n",
       "      <td>0.072343</td>\n",
       "      <td>0.643720</td>\n",
       "    </tr>\n",
       "    <tr>\n",
       "      <th>v3</th>\n",
       "      <td>0.094397</td>\n",
       "      <td>1.000000</td>\n",
       "      <td>0.164045</td>\n",
       "      <td>0.288500</td>\n",
       "      <td>-0.054575</td>\n",
       "      <td>-0.335167</td>\n",
       "      <td>-0.411007</td>\n",
       "      <td>0.292977</td>\n",
       "      <td>-0.220746</td>\n",
       "      <td>0.248985</td>\n",
       "      <td>-0.561296</td>\n",
       "      <td>-0.368710</td>\n",
       "      <td>-0.192011</td>\n",
       "    </tr>\n",
       "    <tr>\n",
       "      <th>v4</th>\n",
       "      <td>0.211545</td>\n",
       "      <td>0.164045</td>\n",
       "      <td>1.000000</td>\n",
       "      <td>0.443367</td>\n",
       "      <td>0.286587</td>\n",
       "      <td>0.128980</td>\n",
       "      <td>0.115077</td>\n",
       "      <td>0.186230</td>\n",
       "      <td>0.009652</td>\n",
       "      <td>0.258887</td>\n",
       "      <td>-0.074667</td>\n",
       "      <td>0.003911</td>\n",
       "      <td>0.223626</td>\n",
       "    </tr>\n",
       "    <tr>\n",
       "      <th>v5</th>\n",
       "      <td>-0.310235</td>\n",
       "      <td>0.288500</td>\n",
       "      <td>0.443367</td>\n",
       "      <td>1.000000</td>\n",
       "      <td>-0.083333</td>\n",
       "      <td>-0.321113</td>\n",
       "      <td>-0.351370</td>\n",
       "      <td>0.361922</td>\n",
       "      <td>-0.197327</td>\n",
       "      <td>0.018732</td>\n",
       "      <td>-0.273955</td>\n",
       "      <td>-0.276769</td>\n",
       "      <td>-0.440597</td>\n",
       "    </tr>\n",
       "    <tr>\n",
       "      <th>v6</th>\n",
       "      <td>0.270798</td>\n",
       "      <td>-0.054575</td>\n",
       "      <td>0.286587</td>\n",
       "      <td>-0.083333</td>\n",
       "      <td>1.000000</td>\n",
       "      <td>0.214401</td>\n",
       "      <td>0.195784</td>\n",
       "      <td>-0.256294</td>\n",
       "      <td>0.236441</td>\n",
       "      <td>0.199950</td>\n",
       "      <td>0.055398</td>\n",
       "      <td>0.066004</td>\n",
       "      <td>0.393351</td>\n",
       "    </tr>\n",
       "    <tr>\n",
       "      <th>v7</th>\n",
       "      <td>0.289101</td>\n",
       "      <td>-0.335167</td>\n",
       "      <td>0.128980</td>\n",
       "      <td>-0.321113</td>\n",
       "      <td>0.214401</td>\n",
       "      <td>1.000000</td>\n",
       "      <td>0.864564</td>\n",
       "      <td>-0.449935</td>\n",
       "      <td>0.612413</td>\n",
       "      <td>-0.055136</td>\n",
       "      <td>0.433681</td>\n",
       "      <td>0.699949</td>\n",
       "      <td>0.498115</td>\n",
       "    </tr>\n",
       "    <tr>\n",
       "      <th>v8</th>\n",
       "      <td>0.236815</td>\n",
       "      <td>-0.411007</td>\n",
       "      <td>0.115077</td>\n",
       "      <td>-0.351370</td>\n",
       "      <td>0.195784</td>\n",
       "      <td>0.864564</td>\n",
       "      <td>1.000000</td>\n",
       "      <td>-0.537900</td>\n",
       "      <td>0.652692</td>\n",
       "      <td>-0.172379</td>\n",
       "      <td>0.543479</td>\n",
       "      <td>0.787194</td>\n",
       "      <td>0.494193</td>\n",
       "    </tr>\n",
       "    <tr>\n",
       "      <th>v9</th>\n",
       "      <td>-0.155929</td>\n",
       "      <td>0.292977</td>\n",
       "      <td>0.186230</td>\n",
       "      <td>0.361922</td>\n",
       "      <td>-0.256294</td>\n",
       "      <td>-0.449935</td>\n",
       "      <td>-0.537900</td>\n",
       "      <td>1.000000</td>\n",
       "      <td>-0.365845</td>\n",
       "      <td>0.139057</td>\n",
       "      <td>-0.262640</td>\n",
       "      <td>-0.503270</td>\n",
       "      <td>-0.311385</td>\n",
       "    </tr>\n",
       "    <tr>\n",
       "      <th>v10</th>\n",
       "      <td>0.136698</td>\n",
       "      <td>-0.220746</td>\n",
       "      <td>0.009652</td>\n",
       "      <td>-0.197327</td>\n",
       "      <td>0.236441</td>\n",
       "      <td>0.612413</td>\n",
       "      <td>0.652692</td>\n",
       "      <td>-0.365845</td>\n",
       "      <td>1.000000</td>\n",
       "      <td>-0.025250</td>\n",
       "      <td>0.295544</td>\n",
       "      <td>0.519067</td>\n",
       "      <td>0.330417</td>\n",
       "    </tr>\n",
       "    <tr>\n",
       "      <th>v11</th>\n",
       "      <td>0.546364</td>\n",
       "      <td>0.248985</td>\n",
       "      <td>0.258887</td>\n",
       "      <td>0.018732</td>\n",
       "      <td>0.199950</td>\n",
       "      <td>-0.055136</td>\n",
       "      <td>-0.172379</td>\n",
       "      <td>0.139057</td>\n",
       "      <td>-0.025250</td>\n",
       "      <td>1.000000</td>\n",
       "      <td>-0.521813</td>\n",
       "      <td>-0.428815</td>\n",
       "      <td>0.316100</td>\n",
       "    </tr>\n",
       "    <tr>\n",
       "      <th>v12</th>\n",
       "      <td>-0.071747</td>\n",
       "      <td>-0.561296</td>\n",
       "      <td>-0.074667</td>\n",
       "      <td>-0.273955</td>\n",
       "      <td>0.055398</td>\n",
       "      <td>0.433681</td>\n",
       "      <td>0.543479</td>\n",
       "      <td>-0.262640</td>\n",
       "      <td>0.295544</td>\n",
       "      <td>-0.521813</td>\n",
       "      <td>1.000000</td>\n",
       "      <td>0.565468</td>\n",
       "      <td>0.236183</td>\n",
       "    </tr>\n",
       "    <tr>\n",
       "      <th>v13</th>\n",
       "      <td>0.072343</td>\n",
       "      <td>-0.368710</td>\n",
       "      <td>0.003911</td>\n",
       "      <td>-0.276769</td>\n",
       "      <td>0.066004</td>\n",
       "      <td>0.699949</td>\n",
       "      <td>0.787194</td>\n",
       "      <td>-0.503270</td>\n",
       "      <td>0.519067</td>\n",
       "      <td>-0.428815</td>\n",
       "      <td>0.565468</td>\n",
       "      <td>1.000000</td>\n",
       "      <td>0.312761</td>\n",
       "    </tr>\n",
       "    <tr>\n",
       "      <th>v14</th>\n",
       "      <td>0.643720</td>\n",
       "      <td>-0.192011</td>\n",
       "      <td>0.223626</td>\n",
       "      <td>-0.440597</td>\n",
       "      <td>0.393351</td>\n",
       "      <td>0.498115</td>\n",
       "      <td>0.494193</td>\n",
       "      <td>-0.311385</td>\n",
       "      <td>0.330417</td>\n",
       "      <td>0.316100</td>\n",
       "      <td>0.236183</td>\n",
       "      <td>0.312761</td>\n",
       "      <td>1.000000</td>\n",
       "    </tr>\n",
       "  </tbody>\n",
       "</table>\n",
       "</div>"
      ],
      "text/plain": [
       "           v2        v3        v4        v5        v6        v7        v8  \\\n",
       "v2   1.000000  0.094397  0.211545 -0.310235  0.270798  0.289101  0.236815   \n",
       "v3   0.094397  1.000000  0.164045  0.288500 -0.054575 -0.335167 -0.411007   \n",
       "v4   0.211545  0.164045  1.000000  0.443367  0.286587  0.128980  0.115077   \n",
       "v5  -0.310235  0.288500  0.443367  1.000000 -0.083333 -0.321113 -0.351370   \n",
       "v6   0.270798 -0.054575  0.286587 -0.083333  1.000000  0.214401  0.195784   \n",
       "v7   0.289101 -0.335167  0.128980 -0.321113  0.214401  1.000000  0.864564   \n",
       "v8   0.236815 -0.411007  0.115077 -0.351370  0.195784  0.864564  1.000000   \n",
       "v9  -0.155929  0.292977  0.186230  0.361922 -0.256294 -0.449935 -0.537900   \n",
       "v10  0.136698 -0.220746  0.009652 -0.197327  0.236441  0.612413  0.652692   \n",
       "v11  0.546364  0.248985  0.258887  0.018732  0.199950 -0.055136 -0.172379   \n",
       "v12 -0.071747 -0.561296 -0.074667 -0.273955  0.055398  0.433681  0.543479   \n",
       "v13  0.072343 -0.368710  0.003911 -0.276769  0.066004  0.699949  0.787194   \n",
       "v14  0.643720 -0.192011  0.223626 -0.440597  0.393351  0.498115  0.494193   \n",
       "\n",
       "           v9       v10       v11       v12       v13       v14  \n",
       "v2  -0.155929  0.136698  0.546364 -0.071747  0.072343  0.643720  \n",
       "v3   0.292977 -0.220746  0.248985 -0.561296 -0.368710 -0.192011  \n",
       "v4   0.186230  0.009652  0.258887 -0.074667  0.003911  0.223626  \n",
       "v5   0.361922 -0.197327  0.018732 -0.273955 -0.276769 -0.440597  \n",
       "v6  -0.256294  0.236441  0.199950  0.055398  0.066004  0.393351  \n",
       "v7  -0.449935  0.612413 -0.055136  0.433681  0.699949  0.498115  \n",
       "v8  -0.537900  0.652692 -0.172379  0.543479  0.787194  0.494193  \n",
       "v9   1.000000 -0.365845  0.139057 -0.262640 -0.503270 -0.311385  \n",
       "v10 -0.365845  1.000000 -0.025250  0.295544  0.519067  0.330417  \n",
       "v11  0.139057 -0.025250  1.000000 -0.521813 -0.428815  0.316100  \n",
       "v12 -0.262640  0.295544 -0.521813  1.000000  0.565468  0.236183  \n",
       "v13 -0.503270  0.519067 -0.428815  0.565468  1.000000  0.312761  \n",
       "v14 -0.311385  0.330417  0.316100  0.236183  0.312761  1.000000  "
      ]
     },
     "execution_count": 42,
     "metadata": {},
     "output_type": "execute_result"
    }
   ],
   "source": [
    "# or use pandas corr when there are too many variables\n",
    "corrmax = x.corr()\n",
    "corrmax"
   ]
  },
  {
   "cell_type": "code",
   "execution_count": 48,
   "metadata": {},
   "outputs": [
    {
     "data": {
      "image/png": "[encoded data removed]",
      "text/plain": [
       "<matplotlib.figure.Figure at 0x1136cac88>"
      ]
     },
     "metadata": {},
     "output_type": "display_data"
    }
   ],
   "source": [
    "# heatmap - severity of correlation \n",
    "\n",
    "plt.figure(figsize = (7, 7))\n",
    "sns.heatmap(corrmax, vmax = 1., square = True ).xaxis.tick_top()\n",
    "\n",
    "plt.show()"
   ]
  },
  {
   "cell_type": "code",
   "execution_count": 79,
   "metadata": {
    "collapsed": true
   },
   "outputs": [],
   "source": [
    "## get group means and stds\n",
    "\n",
    "def groupmeanandstd(variables, groupvariables):\n",
    "    data_groupby = variables.groupby(groupvariables)\n",
    "    print (\"## Means:\")\n",
    "    display(data_groupby.apply(np.mean))\n",
    "    print(\"\\n## Standard deviations:\")\n",
    "    display(data_groupby.apply(np.std))\n",
    "    print(\"\\n## Sample sizes:\")\n",
    "    display(pd.DataFrame(data_groupby.apply(len)))\n"
   ]
  },
  {
   "cell_type": "code",
   "execution_count": 81,
   "metadata": {},
   "outputs": [
    {
     "name": "stdout",
     "output_type": "stream",
     "text": [
      "## Means:\n"
     ]
    },
    {
     "data": {
      "text/html": [
       "<div>\n",
       "<style>\n",
       "    .dataframe thead tr:only-child th {\n",
       "        text-align: right;\n",
       "    }\n",
       "\n",
       "    .dataframe thead th {\n",
       "        text-align: left;\n",
       "    }\n",
       "\n",
       "    .dataframe tbody tr th {\n",
       "        vertical-align: top;\n",
       "    }\n",
       "</style>\n",
       "<table border=\"1\" class=\"dataframe\">\n",
       "  <thead>\n",
       "    <tr style=\"text-align: right;\">\n",
       "      <th></th>\n",
       "      <th>v2</th>\n",
       "      <th>v3</th>\n",
       "      <th>v4</th>\n",
       "      <th>v5</th>\n",
       "      <th>v6</th>\n",
       "      <th>v7</th>\n",
       "      <th>v8</th>\n",
       "      <th>v9</th>\n",
       "      <th>v10</th>\n",
       "      <th>v11</th>\n",
       "      <th>v12</th>\n",
       "      <th>v13</th>\n",
       "      <th>v14</th>\n",
       "    </tr>\n",
       "    <tr>\n",
       "      <th>v1</th>\n",
       "      <th></th>\n",
       "      <th></th>\n",
       "      <th></th>\n",
       "      <th></th>\n",
       "      <th></th>\n",
       "      <th></th>\n",
       "      <th></th>\n",
       "      <th></th>\n",
       "      <th></th>\n",
       "      <th></th>\n",
       "      <th></th>\n",
       "      <th></th>\n",
       "      <th></th>\n",
       "    </tr>\n",
       "  </thead>\n",
       "  <tbody>\n",
       "    <tr>\n",
       "      <th>1</th>\n",
       "      <td>13.744746</td>\n",
       "      <td>2.010678</td>\n",
       "      <td>2.455593</td>\n",
       "      <td>17.037288</td>\n",
       "      <td>106.338983</td>\n",
       "      <td>2.840169</td>\n",
       "      <td>2.982373</td>\n",
       "      <td>0.290000</td>\n",
       "      <td>1.899322</td>\n",
       "      <td>5.528305</td>\n",
       "      <td>1.062034</td>\n",
       "      <td>3.157797</td>\n",
       "      <td>1115.711864</td>\n",
       "    </tr>\n",
       "    <tr>\n",
       "      <th>2</th>\n",
       "      <td>12.278732</td>\n",
       "      <td>1.932676</td>\n",
       "      <td>2.244789</td>\n",
       "      <td>20.238028</td>\n",
       "      <td>94.549296</td>\n",
       "      <td>2.258873</td>\n",
       "      <td>2.080845</td>\n",
       "      <td>0.363662</td>\n",
       "      <td>1.630282</td>\n",
       "      <td>3.086620</td>\n",
       "      <td>1.056282</td>\n",
       "      <td>2.785352</td>\n",
       "      <td>519.507042</td>\n",
       "    </tr>\n",
       "    <tr>\n",
       "      <th>3</th>\n",
       "      <td>13.153750</td>\n",
       "      <td>3.333750</td>\n",
       "      <td>2.437083</td>\n",
       "      <td>21.416667</td>\n",
       "      <td>99.312500</td>\n",
       "      <td>1.678750</td>\n",
       "      <td>0.781458</td>\n",
       "      <td>0.447500</td>\n",
       "      <td>1.153542</td>\n",
       "      <td>7.396250</td>\n",
       "      <td>0.682708</td>\n",
       "      <td>1.683542</td>\n",
       "      <td>629.895833</td>\n",
       "    </tr>\n",
       "  </tbody>\n",
       "</table>\n",
       "</div>"
      ],
      "text/plain": [
       "           v2        v3        v4         v5          v6        v7        v8  \\\n",
       "v1                                                                             \n",
       "1   13.744746  2.010678  2.455593  17.037288  106.338983  2.840169  2.982373   \n",
       "2   12.278732  1.932676  2.244789  20.238028   94.549296  2.258873  2.080845   \n",
       "3   13.153750  3.333750  2.437083  21.416667   99.312500  1.678750  0.781458   \n",
       "\n",
       "          v9       v10       v11       v12       v13          v14  \n",
       "v1                                                                 \n",
       "1   0.290000  1.899322  5.528305  1.062034  3.157797  1115.711864  \n",
       "2   0.363662  1.630282  3.086620  1.056282  2.785352   519.507042  \n",
       "3   0.447500  1.153542  7.396250  0.682708  1.683542   629.895833  "
      ]
     },
     "metadata": {},
     "output_type": "display_data"
    },
    {
     "name": "stdout",
     "output_type": "stream",
     "text": [
      "\n",
      "## Standard deviations:\n"
     ]
    },
    {
     "data": {
      "text/html": [
       "<div>\n",
       "<style>\n",
       "    .dataframe thead tr:only-child th {\n",
       "        text-align: right;\n",
       "    }\n",
       "\n",
       "    .dataframe thead th {\n",
       "        text-align: left;\n",
       "    }\n",
       "\n",
       "    .dataframe tbody tr th {\n",
       "        vertical-align: top;\n",
       "    }\n",
       "</style>\n",
       "<table border=\"1\" class=\"dataframe\">\n",
       "  <thead>\n",
       "    <tr style=\"text-align: right;\">\n",
       "      <th></th>\n",
       "      <th>v2</th>\n",
       "      <th>v3</th>\n",
       "      <th>v4</th>\n",
       "      <th>v5</th>\n",
       "      <th>v6</th>\n",
       "      <th>v7</th>\n",
       "      <th>v8</th>\n",
       "      <th>v9</th>\n",
       "      <th>v10</th>\n",
       "      <th>v11</th>\n",
       "      <th>v12</th>\n",
       "      <th>v13</th>\n",
       "      <th>v14</th>\n",
       "    </tr>\n",
       "    <tr>\n",
       "      <th>v1</th>\n",
       "      <th></th>\n",
       "      <th></th>\n",
       "      <th></th>\n",
       "      <th></th>\n",
       "      <th></th>\n",
       "      <th></th>\n",
       "      <th></th>\n",
       "      <th></th>\n",
       "      <th></th>\n",
       "      <th></th>\n",
       "      <th></th>\n",
       "      <th></th>\n",
       "      <th></th>\n",
       "    </tr>\n",
       "  </thead>\n",
       "  <tbody>\n",
       "    <tr>\n",
       "      <th>1</th>\n",
       "      <td>0.458192</td>\n",
       "      <td>0.682689</td>\n",
       "      <td>0.225233</td>\n",
       "      <td>2.524651</td>\n",
       "      <td>10.409595</td>\n",
       "      <td>0.336077</td>\n",
       "      <td>0.394111</td>\n",
       "      <td>0.069453</td>\n",
       "      <td>0.408602</td>\n",
       "      <td>1.228032</td>\n",
       "      <td>0.115491</td>\n",
       "      <td>0.354038</td>\n",
       "      <td>219.635449</td>\n",
       "    </tr>\n",
       "    <tr>\n",
       "      <th>2</th>\n",
       "      <td>0.534162</td>\n",
       "      <td>1.008391</td>\n",
       "      <td>0.313238</td>\n",
       "      <td>3.326097</td>\n",
       "      <td>16.635097</td>\n",
       "      <td>0.541507</td>\n",
       "      <td>0.700713</td>\n",
       "      <td>0.123085</td>\n",
       "      <td>0.597813</td>\n",
       "      <td>0.918393</td>\n",
       "      <td>0.201503</td>\n",
       "      <td>0.493064</td>\n",
       "      <td>156.100173</td>\n",
       "    </tr>\n",
       "    <tr>\n",
       "      <th>3</th>\n",
       "      <td>0.524689</td>\n",
       "      <td>1.076514</td>\n",
       "      <td>0.182756</td>\n",
       "      <td>2.234515</td>\n",
       "      <td>10.776433</td>\n",
       "      <td>0.353233</td>\n",
       "      <td>0.290431</td>\n",
       "      <td>0.122840</td>\n",
       "      <td>0.404555</td>\n",
       "      <td>2.286743</td>\n",
       "      <td>0.113243</td>\n",
       "      <td>0.269262</td>\n",
       "      <td>113.891805</td>\n",
       "    </tr>\n",
       "  </tbody>\n",
       "</table>\n",
       "</div>"
      ],
      "text/plain": [
       "          v2        v3        v4        v5         v6        v7        v8  \\\n",
       "v1                                                                          \n",
       "1   0.458192  0.682689  0.225233  2.524651  10.409595  0.336077  0.394111   \n",
       "2   0.534162  1.008391  0.313238  3.326097  16.635097  0.541507  0.700713   \n",
       "3   0.524689  1.076514  0.182756  2.234515  10.776433  0.353233  0.290431   \n",
       "\n",
       "          v9       v10       v11       v12       v13         v14  \n",
       "v1                                                                \n",
       "1   0.069453  0.408602  1.228032  0.115491  0.354038  219.635449  \n",
       "2   0.123085  0.597813  0.918393  0.201503  0.493064  156.100173  \n",
       "3   0.122840  0.404555  2.286743  0.113243  0.269262  113.891805  "
      ]
     },
     "metadata": {},
     "output_type": "display_data"
    },
    {
     "name": "stdout",
     "output_type": "stream",
     "text": [
      "\n",
      "## Sample sizes:\n"
     ]
    },
    {
     "data": {
      "text/html": [
       "<div>\n",
       "<style>\n",
       "    .dataframe thead tr:only-child th {\n",
       "        text-align: right;\n",
       "    }\n",
       "\n",
       "    .dataframe thead th {\n",
       "        text-align: left;\n",
       "    }\n",
       "\n",
       "    .dataframe tbody tr th {\n",
       "        vertical-align: top;\n",
       "    }\n",
       "</style>\n",
       "<table border=\"1\" class=\"dataframe\">\n",
       "  <thead>\n",
       "    <tr style=\"text-align: right;\">\n",
       "      <th></th>\n",
       "      <th>0</th>\n",
       "    </tr>\n",
       "    <tr>\n",
       "      <th>v1</th>\n",
       "      <th></th>\n",
       "    </tr>\n",
       "  </thead>\n",
       "  <tbody>\n",
       "    <tr>\n",
       "      <th>1</th>\n",
       "      <td>59</td>\n",
       "    </tr>\n",
       "    <tr>\n",
       "      <th>2</th>\n",
       "      <td>71</td>\n",
       "    </tr>\n",
       "    <tr>\n",
       "      <th>3</th>\n",
       "      <td>48</td>\n",
       "    </tr>\n",
       "  </tbody>\n",
       "</table>\n",
       "</div>"
      ],
      "text/plain": [
       "     0\n",
       "v1    \n",
       "1   59\n",
       "2   71\n",
       "3   48"
      ]
     },
     "metadata": {},
     "output_type": "display_data"
    }
   ],
   "source": [
    "groupmeanandstd(x, y)"
   ]
  },
  {
   "cell_type": "code",
   "execution_count": 92,
   "metadata": {},
   "outputs": [],
   "source": [
    "## between group variance and within group variance\n",
    "\n",
    "def withingroupsvariance(variable, groupvariable):\n",
    "    # find out how many levels the group variable can take\n",
    "    levels = sorted(set(groupvariable))\n",
    "    numlevels = len(levels)\n",
    "    # mean and std for each group\n",
    "    numtotal = 0\n",
    "    denomtotal = 0\n",
    "    for level_i in levels:\n",
    "        level_i_data = variable[groupvariable == level_i]\n",
    "        level_i_length = len(level_i_data)\n",
    "        # std for group i \n",
    "        sd_i = np.std(level_i_data)\n",
    "        num_i = (level_i_length) * sd_i ** 2\n",
    "        denom_i = level_i_length\n",
    "        numtotal = numtotal + num_i\n",
    "        denomtotal = denomtotal + denom_i\n",
    "        \n",
    "    # within group variance\n",
    "    within_varince = numtotal /(denomtotal - numlevels)\n",
    "    \n",
    "    return within_varince"
   ]
  },
  {
   "cell_type": "code",
   "execution_count": 95,
   "metadata": {},
   "outputs": [
    {
     "data": {
      "text/plain": [
       "v2         0.262052\n",
       "v3         0.887547\n",
       "v4         0.066072\n",
       "v5         8.006811\n",
       "v6       180.657773\n",
       "v7         0.191270\n",
       "v8         0.274708\n",
       "v9         0.011912\n",
       "v10        0.246173\n",
       "v11        2.284923\n",
       "v12        0.024488\n",
       "v13        0.160779\n",
       "v14    29707.681871\n",
       "dtype: float64"
      ]
     },
     "execution_count": 95,
     "metadata": {},
     "output_type": "execute_result"
    }
   ],
   "source": [
    "#  within-groups variance of the variable v2\n",
    "withingroupsvariance(x.v2, y)\n",
    "withingroupsvariance(x, y)"
   ]
  },
  {
   "cell_type": "code",
   "execution_count": 98,
   "metadata": {
    "collapsed": true
   },
   "outputs": [],
   "source": [
    "## between groups variance \n",
    "\n",
    "def BetweenGroupsVariance(variable, groupvariable):\n",
    "    # find out how many values the group variable can take\n",
    "    levels = sorted(set((groupvariable)))\n",
    "    numlevels = len(levels)\n",
    "    # calculate the overall grand mean:\n",
    "    grandmean = np.mean(variable)\n",
    "    # get the mean and standard deviation for each group:\n",
    "    numtotal = 0\n",
    "    denomtotal = 0\n",
    "    for leveli in levels:\n",
    "        levelidata = variable[groupvariable==leveli]\n",
    "        levelilength = len(levelidata)\n",
    "        # get the mean and standard deviation for group i:\n",
    "        meani = np.mean(levelidata)\n",
    "        sdi = np.std(levelidata)\n",
    "        numi = levelilength * ((meani - grandmean)**2)\n",
    "        denomi = levelilength\n",
    "        numtotal = numtotal + numi\n",
    "        denomtotal = denomtotal + denomi\n",
    "    # calculate the between-groups variance\n",
    "    Vb = numtotal / (numlevels - 1)\n",
    "    return(Vb)"
   ]
  },
  {
   "cell_type": "code",
   "execution_count": 99,
   "metadata": {},
   "outputs": [
    {
     "data": {
      "text/plain": [
       "v2     3.539742e+01\n",
       "v3     3.278902e+01\n",
       "v4     8.796114e-01\n",
       "v5     2.864167e+02\n",
       "v6     2.245501e+03\n",
       "v7     1.792836e+01\n",
       "v8     6.426120e+01\n",
       "v9     3.284702e-01\n",
       "v10    7.451996e+00\n",
       "v11    2.757080e+02\n",
       "v12    2.481010e+00\n",
       "v13    3.054351e+01\n",
       "v14    6.176832e+06\n",
       "dtype: float64"
      ]
     },
     "execution_count": 99,
     "metadata": {},
     "output_type": "execute_result"
    }
   ],
   "source": [
    "BetweenGroupsVariance(x, y)"
   ]
  },
  {
   "cell_type": "code",
   "execution_count": 102,
   "metadata": {
    "collapsed": true
   },
   "outputs": [],
   "source": [
    "## separation - between-groups variance devided by the variable's within-groups variance\n",
    "\n",
    "def Separations(variables, groupvariable):\n",
    "    # calculate the separation for each variable\n",
    "    for variablename in variables:\n",
    "        variablei = variables[variablename]\n",
    "        Vw = calcWithinGroupsVariance(variablei, groupvariable)\n",
    "        Vb = calcBetweenGroupsVariance(variablei, groupvariable)\n",
    "        sep = Vb/Vw\n",
    "        print(\"variable\", variablename, \"Vw=\", Vw, \"Vb=\", Vb, \"separation=\", sep)"
   ]
  },
  {
   "cell_type": "code",
   "execution_count": 103,
   "metadata": {},
   "outputs": [
    {
     "name": "stdout",
     "output_type": "stream",
     "text": [
      "variable v2 Vw= 0.262052469154 Vb= 35.3974249603 separation= 135.077624243\n",
      "variable v3 Vw= 0.887546796747 Vb= 32.7890184869 separation= 36.9434249632\n",
      "variable v4 Vw= 0.0660721013425 Vb= 0.879611357249 separation= 13.3129012\n",
      "variable v5 Vw= 8.00681118121 Vb= 286.416746363 separation= 35.7716374073\n",
      "variable v6 Vw= 180.657773164 Vb= 2245.50102789 separation= 12.4295843381\n",
      "variable v7 Vw= 0.191270475224 Vb= 17.9283572943 separation= 93.7330096204\n",
      "variable v8 Vw= 0.274707514337 Vb= 64.2611950236 separation= 233.925872682\n",
      "variable v9 Vw= 0.0119117022133 Vb= 0.328470157462 separation= 27.575417147\n",
      "variable v10 Vw= 0.246172943796 Vb= 7.45199550778 separation= 30.2713831702\n",
      "variable v11 Vw= 2.28492308133 Vb= 275.708000822 separation= 120.664018441\n",
      "variable v12 Vw= 0.0244876469432 Vb= 2.48100991494 separation= 101.31679539\n",
      "variable v13 Vw= 0.160778729561 Vb= 30.5435083544 separation= 189.972320579\n",
      "variable v14 Vw= 29707.6818705 Vb= 6176832.32228 separation= 207.920373902\n"
     ]
    }
   ],
   "source": [
    "#  the purpose of linear discriminant analysis (LDA) is to find the linear combination of the individual variables that will give the greatest separation between the groups (cultivars here)\n",
    "Separations(x, y)\n"
   ]
  },
  {
   "cell_type": "code",
   "execution_count": 104,
   "metadata": {
    "collapsed": true
   },
   "outputs": [],
   "source": [
    "## between groups and within group covariance \n",
    "\n",
    "def calcWithinGroupsCovariance(variable1, variable2, groupvariable):\n",
    "    levels = sorted(set(groupvariable))\n",
    "    numlevels = len(levels)\n",
    "    Covw = 0.0\n",
    "    # get the covariance of variable 1 and variable 2 for each group:\n",
    "    for leveli in levels:\n",
    "        levelidata1 = variable1[groupvariable==leveli]\n",
    "        levelidata2 = variable2[groupvariable==leveli]\n",
    "        mean1 = np.mean(levelidata1)\n",
    "        mean2 = np.mean(levelidata2)\n",
    "        levelilength = len(levelidata1)\n",
    "        # get the covariance for this group:\n",
    "        term1 = 0.0\n",
    "        for levelidata1j, levelidata2j in zip(levelidata1, levelidata2):\n",
    "            term1 += (levelidata1j - mean1)*(levelidata2j - mean2)\n",
    "        Cov_groupi = term1 # covariance for this group\n",
    "        Covw += Cov_groupi\n",
    "    totallength = len(variable1)\n",
    "    Covw /= totallength - numlevels\n",
    "    return Covw"
   ]
  },
  {
   "cell_type": "code",
   "execution_count": 106,
   "metadata": {},
   "outputs": [
    {
     "data": {
      "text/plain": [
       "0.28667830215140194"
      ]
     },
     "execution_count": 106,
     "metadata": {},
     "output_type": "execute_result"
    }
   ],
   "source": [
    "calcWithinGroupsCovariance(x.v8, x.v11, y)"
   ]
  },
  {
   "cell_type": "code",
   "execution_count": 108,
   "metadata": {},
   "outputs": [],
   "source": [
    "def calcBetweenGroupsCovariance(variable1, variable2, groupvariable):\n",
    "    # find out how many values the group variable can take\n",
    "    levels = sorted(set(groupvariable))\n",
    "    numlevels = len(levels)\n",
    "    # calculate the grand means\n",
    "    variable1mean = np.mean(variable1)\n",
    "    variable2mean = np.mean(variable2)\n",
    "    # calculate the between-groups covariance\n",
    "    Covb = 0.0\n",
    "    for leveli in levels:\n",
    "        levelidata1 = variable1[groupvariable==leveli]\n",
    "        levelidata2 = variable2[groupvariable==leveli]\n",
    "        mean1 = np.mean(levelidata1)\n",
    "        mean2 = np.mean(levelidata2)\n",
    "        levelilength = len(levelidata1)\n",
    "        term1 = (mean1 - variable1mean) * (mean2 - variable2mean) * levelilength\n",
    "        Covb += term1\n",
    "    Covb /= numlevels - 1\n",
    "    return Covb"
   ]
  },
  {
   "cell_type": "code",
   "execution_count": 109,
   "metadata": {},
   "outputs": [
    {
     "data": {
      "text/plain": [
       "-60.410774835916207"
      ]
     },
     "execution_count": 109,
     "metadata": {},
     "output_type": "execute_result"
    }
   ],
   "source": [
    "calcBetweenGroupsCovariance(x.v8, x.v11, y)"
   ]
  },
  {
   "cell_type": "markdown",
   "metadata": {},
   "source": [
    "Thus, for V8 and V11, the between-groups covariance is -60.41 and the within-groups covariance is 0.29. Since the within-groups covariance is positive (0.29), it means V8 and V11 are positively related within groups: for individuals from the same group, individuals with a high value of V8 tend to have a high value of V11, and vice versa. Since the between-groups covariance is negative (-60.41), V8 and V11 are negatively related between groups: groups with a high mean value of V8 tend to have a low mean value of V11, and vice versa."
   ]
  },
  {
   "cell_type": "code",
   "execution_count": null,
   "metadata": {
    "collapsed": true
   },
   "outputs": [],
   "source": []
  },
  {
   "cell_type": "markdown",
   "metadata": {
    "collapsed": true
   },
   "source": [
    "### standadizing variables \n"
   ]
  },
  {
   "cell_type": "code",
   "execution_count": 59,
   "metadata": {
    "collapsed": true
   },
   "outputs": [],
   "source": [
    "# standerdize the original data variables, especially when the input variables have different variance,\n",
    "# and create a new df to store the standerdized variables\n",
    "\n",
    "from sklearn.preprocessing import scale \n",
    "\n",
    "stdx = scale(x)\n",
    "stdx = pd.DataFrame(stdx, index = x.index, columns = x.columns)"
   ]
  },
  {
   "cell_type": "code",
   "execution_count": 67,
   "metadata": {},
   "outputs": [
    {
     "data": {
      "text/plain": [
       "v2     1.0\n",
       "v3     1.0\n",
       "v4     1.0\n",
       "v5     1.0\n",
       "v6     1.0\n",
       "v7     1.0\n",
       "v8     1.0\n",
       "v9     1.0\n",
       "v10    1.0\n",
       "v11    1.0\n",
       "v12    1.0\n",
       "v13    1.0\n",
       "v14    1.0\n",
       "dtype: float64"
      ]
     },
     "execution_count": 67,
     "metadata": {},
     "output_type": "execute_result"
    }
   ],
   "source": [
    "stdx.apply(np.mean),\n",
    "stdx.apply(np.std)"
   ]
  },
  {
   "cell_type": "markdown",
   "metadata": {
    "collapsed": true
   },
   "source": [
    "### PCA"
   ]
  },
  {
   "cell_type": "markdown",
   "metadata": {
    "collapsed": true
   },
   "source": [
    "The purpose of principal component analysis is to find the best low-dimensional representation of the variation in a multivariate data set. For example, in the case of the wine data set, we have 13 chemical concentrations describing **wine samples** from three different cultivars. We can carry out a principal component analysis to investigate whether we can capture most of the variation **between samples** using a smaller number of new variables (principal components), where each of these new variables is a linear combination of all or some of the 13 chemical concentrations."
   ]
  },
  {
   "cell_type": "markdown",
   "metadata": {},
   "source": [
    "Principal Component Analysis (PCA) Vs. Multiple Discriminant Analysis (MDA)\n",
    "\n",
    "Both Multiple Discriminant Analysis (MDA) and Principal Component Analysis (PCA) are linear transformation methods and closely related to each other. In PCA, we are interested to find the directions (components) that maximize the variance in our dataset, where in MDA, we are additionally interested to find the directions that maximize the separation (or discrimination) between different classes (for example, in pattern classification problems where our dataset consists of multiple classes. In contrast two PCA, which ignores the class labels).\n",
    "\n",
    "In other words, via PCA, we are projecting the entire set of data (without class labels) onto a different subspace, and in MDA, we are trying to determine a suitable subspace to distinguish between patterns that belong to different classes. Or, roughly speaking in PCA we are trying to find the axes with maximum variances where the data is most spread (within a class, since PCA treats the whole data set as one class), and in MDA we are additionally maximizing the spread between classes.\n",
    "\n",
    "In typical pattern recognition problems, a PCA is often followed by an MDA."
   ]
  },
  {
   "cell_type": "markdown",
   "metadata": {},
   "source": [
    "Steps:\n",
    "- Take the whole dataset consisting of d-dimensional samples ignoring the class labels\n",
    "- Compute the d-dimensional mean vector (i.e., the means for every dimension of the whole dataset)\n",
    "- Compute the scatter matrix (alternatively, the covariance matrix) of the whole data set\n",
    "- Compute eigenvectors (e1,e2,...,ed) and corresponding eigenvalues (λ1,λ2,...,λd)\n",
    "- Sort the eigenvectors by decreasing eigenvalues and choose k eigenvectors with the largest eigenvalues to form a d×k dimensional matrix W(where every column represents an eigenvector)\n",
    "- Use this d×k eigenvector matrix to transform the samples onto the new subspace. This can be summarized by the mathematical equation: y = W Transpose × x (where x is a d×1-dimensional vector representing one sample, and y is the transformed k×1-dimensional sample in the new subspace.)\n"
   ]
  },
  {
   "cell_type": "code",
   "execution_count": null,
   "metadata": {
    "collapsed": true
   },
   "outputs": [],
   "source": []
  },
  {
   "cell_type": "code",
   "execution_count": null,
   "metadata": {
    "collapsed": true
   },
   "outputs": [],
   "source": []
  },
  {
   "cell_type": "code",
   "execution_count": null,
   "metadata": {
    "collapsed": true
   },
   "outputs": [],
   "source": []
  },
  {
   "cell_type": "code",
   "execution_count": null,
   "metadata": {
    "collapsed": true
   },
   "outputs": [],
   "source": []
  },
  {
   "cell_type": "code",
   "execution_count": 68,
   "metadata": {
    "collapsed": true
   },
   "outputs": [],
   "source": [
    "from sklearn.decomposition import PCA\n",
    "# Linear dimensionality reduction using Singular Value Decomposition of the data to project it to a lower dimensional space.\n",
    "# helP(PCA)"
   ]
  },
  {
   "cell_type": "code",
   "execution_count": 110,
   "metadata": {},
   "outputs": [],
   "source": [
    "pca = PCA().fit(stdx)"
   ]
  },
  {
   "cell_type": "code",
   "execution_count": 118,
   "metadata": {},
   "outputs": [],
   "source": [
    "# PCA summary function - where the input variable pca is a PCA object\n",
    "\n",
    "def pca_summary(pca, standardised_data, out = True):\n",
    "    names = [\"PC\" + str(i) for i in range(1, len(pca.explained_variance_ratio_) +  1)]\n",
    "    a = list(np.std(pca.transform(standardised_data), axis = 0))\n",
    "    b = list(pca.explained_variance_ratio_)\n",
    "    c = [np.sum(pca.explained_variance_ratio_[:i]) for i in range(1, len(pca.explained_variance_ratio_) + 1)]\n",
    "    columns = pd.MultiIndex.from_tuples([(\"sdev\", \"Standard deviation\"), (\"varprop\", \"Proportion of Variance\"), (\"cumprop\", \"Cumulative Proportion\")])\n",
    "    summary = pd.DataFrame(list(zip(a, b, c)), index = names, columns = columns)\n",
    "    if out:\n",
    "        print(\"Importance of components:\")\n",
    "        display(summary)\n",
    "    return summary"
   ]
  },
  {
   "cell_type": "code",
   "execution_count": 119,
   "metadata": {},
   "outputs": [
    {
     "name": "stdout",
     "output_type": "stream",
     "text": [
      "Importance of components:\n"
     ]
    },
    {
     "data": {
      "text/html": [
       "<div>\n",
       "<style>\n",
       "    .dataframe thead tr:only-child th {\n",
       "        text-align: right;\n",
       "    }\n",
       "\n",
       "    .dataframe thead th {\n",
       "        text-align: left;\n",
       "    }\n",
       "\n",
       "    .dataframe tbody tr th {\n",
       "        vertical-align: top;\n",
       "    }\n",
       "</style>\n",
       "<table border=\"1\" class=\"dataframe\">\n",
       "  <thead>\n",
       "    <tr>\n",
       "      <th></th>\n",
       "      <th>sdev</th>\n",
       "      <th>varprop</th>\n",
       "      <th>cumprop</th>\n",
       "    </tr>\n",
       "    <tr>\n",
       "      <th></th>\n",
       "      <th>Standard deviation</th>\n",
       "      <th>Proportion of Variance</th>\n",
       "      <th>Cumulative Proportion</th>\n",
       "    </tr>\n",
       "  </thead>\n",
       "  <tbody>\n",
       "    <tr>\n",
       "      <th>PC1</th>\n",
       "      <td>2.169297</td>\n",
       "      <td>0.361988</td>\n",
       "      <td>0.361988</td>\n",
       "    </tr>\n",
       "    <tr>\n",
       "      <th>PC2</th>\n",
       "      <td>1.580182</td>\n",
       "      <td>0.192075</td>\n",
       "      <td>0.554063</td>\n",
       "    </tr>\n",
       "    <tr>\n",
       "      <th>PC3</th>\n",
       "      <td>1.202527</td>\n",
       "      <td>0.111236</td>\n",
       "      <td>0.665300</td>\n",
       "    </tr>\n",
       "    <tr>\n",
       "      <th>PC4</th>\n",
       "      <td>0.958631</td>\n",
       "      <td>0.070690</td>\n",
       "      <td>0.735990</td>\n",
       "    </tr>\n",
       "    <tr>\n",
       "      <th>PC5</th>\n",
       "      <td>0.923704</td>\n",
       "      <td>0.065633</td>\n",
       "      <td>0.801623</td>\n",
       "    </tr>\n",
       "    <tr>\n",
       "      <th>PC6</th>\n",
       "      <td>0.801035</td>\n",
       "      <td>0.049358</td>\n",
       "      <td>0.850981</td>\n",
       "    </tr>\n",
       "    <tr>\n",
       "      <th>PC7</th>\n",
       "      <td>0.742313</td>\n",
       "      <td>0.042387</td>\n",
       "      <td>0.893368</td>\n",
       "    </tr>\n",
       "    <tr>\n",
       "      <th>PC8</th>\n",
       "      <td>0.590337</td>\n",
       "      <td>0.026807</td>\n",
       "      <td>0.920175</td>\n",
       "    </tr>\n",
       "    <tr>\n",
       "      <th>PC9</th>\n",
       "      <td>0.537476</td>\n",
       "      <td>0.022222</td>\n",
       "      <td>0.942397</td>\n",
       "    </tr>\n",
       "    <tr>\n",
       "      <th>PC10</th>\n",
       "      <td>0.500902</td>\n",
       "      <td>0.019300</td>\n",
       "      <td>0.961697</td>\n",
       "    </tr>\n",
       "    <tr>\n",
       "      <th>PC11</th>\n",
       "      <td>0.475172</td>\n",
       "      <td>0.017368</td>\n",
       "      <td>0.979066</td>\n",
       "    </tr>\n",
       "    <tr>\n",
       "      <th>PC12</th>\n",
       "      <td>0.410817</td>\n",
       "      <td>0.012982</td>\n",
       "      <td>0.992048</td>\n",
       "    </tr>\n",
       "    <tr>\n",
       "      <th>PC13</th>\n",
       "      <td>0.321524</td>\n",
       "      <td>0.007952</td>\n",
       "      <td>1.000000</td>\n",
       "    </tr>\n",
       "  </tbody>\n",
       "</table>\n",
       "</div>"
      ],
      "text/plain": [
       "                   sdev                varprop               cumprop\n",
       "     Standard deviation Proportion of Variance Cumulative Proportion\n",
       "PC1            2.169297               0.361988              0.361988\n",
       "PC2            1.580182               0.192075              0.554063\n",
       "PC3            1.202527               0.111236              0.665300\n",
       "PC4            0.958631               0.070690              0.735990\n",
       "PC5            0.923704               0.065633              0.801623\n",
       "PC6            0.801035               0.049358              0.850981\n",
       "PC7            0.742313               0.042387              0.893368\n",
       "PC8            0.590337               0.026807              0.920175\n",
       "PC9            0.537476               0.022222              0.942397\n",
       "PC10           0.500902               0.019300              0.961697\n",
       "PC11           0.475172               0.017368              0.979066\n",
       "PC12           0.410817               0.012982              0.992048\n",
       "PC13           0.321524               0.007952              1.000000"
      ]
     },
     "metadata": {},
     "output_type": "display_data"
    }
   ],
   "source": [
    "summary = pca_summary(pca, stdx)"
   ]
  },
  {
   "cell_type": "markdown",
   "metadata": {},
   "source": [
    "The above gives us the standard deviation of each component, and the proportion of variance explained by each component. "
   ]
  },
  {
   "cell_type": "code",
   "execution_count": 120,
   "metadata": {},
   "outputs": [
    {
     "data": {
      "text/html": [
       "<div>\n",
       "<style>\n",
       "    .dataframe thead tr:only-child th {\n",
       "        text-align: right;\n",
       "    }\n",
       "\n",
       "    .dataframe thead th {\n",
       "        text-align: left;\n",
       "    }\n",
       "\n",
       "    .dataframe tbody tr th {\n",
       "        vertical-align: top;\n",
       "    }\n",
       "</style>\n",
       "<table border=\"1\" class=\"dataframe\">\n",
       "  <thead>\n",
       "    <tr style=\"text-align: right;\">\n",
       "      <th></th>\n",
       "      <th>Standard deviation</th>\n",
       "    </tr>\n",
       "  </thead>\n",
       "  <tbody>\n",
       "    <tr>\n",
       "      <th>PC1</th>\n",
       "      <td>2.169297</td>\n",
       "    </tr>\n",
       "    <tr>\n",
       "      <th>PC2</th>\n",
       "      <td>1.580182</td>\n",
       "    </tr>\n",
       "    <tr>\n",
       "      <th>PC3</th>\n",
       "      <td>1.202527</td>\n",
       "    </tr>\n",
       "    <tr>\n",
       "      <th>PC4</th>\n",
       "      <td>0.958631</td>\n",
       "    </tr>\n",
       "    <tr>\n",
       "      <th>PC5</th>\n",
       "      <td>0.923704</td>\n",
       "    </tr>\n",
       "    <tr>\n",
       "      <th>PC6</th>\n",
       "      <td>0.801035</td>\n",
       "    </tr>\n",
       "    <tr>\n",
       "      <th>PC7</th>\n",
       "      <td>0.742313</td>\n",
       "    </tr>\n",
       "    <tr>\n",
       "      <th>PC8</th>\n",
       "      <td>0.590337</td>\n",
       "    </tr>\n",
       "    <tr>\n",
       "      <th>PC9</th>\n",
       "      <td>0.537476</td>\n",
       "    </tr>\n",
       "    <tr>\n",
       "      <th>PC10</th>\n",
       "      <td>0.500902</td>\n",
       "    </tr>\n",
       "    <tr>\n",
       "      <th>PC11</th>\n",
       "      <td>0.475172</td>\n",
       "    </tr>\n",
       "    <tr>\n",
       "      <th>PC12</th>\n",
       "      <td>0.410817</td>\n",
       "    </tr>\n",
       "    <tr>\n",
       "      <th>PC13</th>\n",
       "      <td>0.321524</td>\n",
       "    </tr>\n",
       "  </tbody>\n",
       "</table>\n",
       "</div>"
      ],
      "text/plain": [
       "      Standard deviation\n",
       "PC1             2.169297\n",
       "PC2             1.580182\n",
       "PC3             1.202527\n",
       "PC4             0.958631\n",
       "PC5             0.923704\n",
       "PC6             0.801035\n",
       "PC7             0.742313\n",
       "PC8             0.590337\n",
       "PC9             0.537476\n",
       "PC10            0.500902\n",
       "PC11            0.475172\n",
       "PC12            0.410817\n",
       "PC13            0.321524"
      ]
     },
     "execution_count": 120,
     "metadata": {},
     "output_type": "execute_result"
    }
   ],
   "source": [
    "# The standard deviation of the components is stored in a named row called sdev of the output variable made by the pca_summary function\n",
    "summary.sdev\n"
   ]
  },
  {
   "cell_type": "code",
   "execution_count": 122,
   "metadata": {},
   "outputs": [
    {
     "data": {
      "text/plain": [
       "Standard deviation    13.0\n",
       "dtype: float64"
      ]
     },
     "execution_count": 122,
     "metadata": {},
     "output_type": "execute_result"
    }
   ],
   "source": [
    "# The total variance explained by the components is the sum of the variances of the components\n",
    "# As the variables are standerdized before apply PCA, the total amount of variance explained by the components should be 13.\n",
    "np.sum(summary.sdev** 2)"
   ]
  },
  {
   "cell_type": "code",
   "execution_count": null,
   "metadata": {
    "collapsed": true
   },
   "outputs": [],
   "source": []
  },
  {
   "cell_type": "markdown",
   "metadata": {},
   "source": [
    "### decide the number of components to use\n"
   ]
  },
  {
   "cell_type": "code",
   "execution_count": 127,
   "metadata": {},
   "outputs": [],
   "source": [
    "def screeplot(pca, standardised_values):\n",
    "    fig = plt.figure(figsize = (10, 10))\n",
    "    y = np.std(pca.transform(standardised_values), axis = 0)**2\n",
    "    x = np.arange(len(y)) + 1\n",
    "    plt.plot(x, y, \"o-\")\n",
    "    plt.xticks(x, [\"Comp.\" + str(i) for i in x], rotation = 60)\n",
    "    plt.ylabel(\"Variance\")\n",
    "    plt.show()"
   ]
  },
  {
   "cell_type": "code",
   "execution_count": 130,
   "metadata": {},
   "outputs": [
    {
     "data": {
      "image/png": "[encoded data removed]",
      "text/plain": [
       "<matplotlib.figure.Figure at 0x116b2e7b8>"
      ]
     },
     "metadata": {},
     "output_type": "display_data"
    }
   ],
   "source": [
    "screeplot(pca, stdx)"
   ]
  },
  {
   "cell_type": "markdown",
   "metadata": {},
   "source": [
    "The most obvious change in slope in the scree plot occurs at component 4, which is the “elbow” of the scree plot. Therefore, it cound be argued based on the basis of the scree plot that the first three components should be retained.\n",
    "\n",
    "Another way of deciding how many components to retain is to use Kaiser’s criterion: that we should only retain principal components for which the variance is above 1 (when principal component analysis was applied to standardised data). We can check this by finding the variance of each of the principal components:"
   ]
  },
  {
   "cell_type": "code",
   "execution_count": 131,
   "metadata": {},
   "outputs": [
    {
     "data": {
      "text/html": [
       "<div>\n",
       "<style>\n",
       "    .dataframe thead tr:only-child th {\n",
       "        text-align: right;\n",
       "    }\n",
       "\n",
       "    .dataframe thead th {\n",
       "        text-align: left;\n",
       "    }\n",
       "\n",
       "    .dataframe tbody tr th {\n",
       "        vertical-align: top;\n",
       "    }\n",
       "</style>\n",
       "<table border=\"1\" class=\"dataframe\">\n",
       "  <thead>\n",
       "    <tr style=\"text-align: right;\">\n",
       "      <th></th>\n",
       "      <th>Standard deviation</th>\n",
       "    </tr>\n",
       "  </thead>\n",
       "  <tbody>\n",
       "    <tr>\n",
       "      <th>PC1</th>\n",
       "      <td>4.705850</td>\n",
       "    </tr>\n",
       "    <tr>\n",
       "      <th>PC2</th>\n",
       "      <td>2.496974</td>\n",
       "    </tr>\n",
       "    <tr>\n",
       "      <th>PC3</th>\n",
       "      <td>1.446072</td>\n",
       "    </tr>\n",
       "    <tr>\n",
       "      <th>PC4</th>\n",
       "      <td>0.918974</td>\n",
       "    </tr>\n",
       "    <tr>\n",
       "      <th>PC5</th>\n",
       "      <td>0.853228</td>\n",
       "    </tr>\n",
       "    <tr>\n",
       "      <th>PC6</th>\n",
       "      <td>0.641657</td>\n",
       "    </tr>\n",
       "    <tr>\n",
       "      <th>PC7</th>\n",
       "      <td>0.551028</td>\n",
       "    </tr>\n",
       "    <tr>\n",
       "      <th>PC8</th>\n",
       "      <td>0.348497</td>\n",
       "    </tr>\n",
       "    <tr>\n",
       "      <th>PC9</th>\n",
       "      <td>0.288880</td>\n",
       "    </tr>\n",
       "    <tr>\n",
       "      <th>PC10</th>\n",
       "      <td>0.250902</td>\n",
       "    </tr>\n",
       "    <tr>\n",
       "      <th>PC11</th>\n",
       "      <td>0.225789</td>\n",
       "    </tr>\n",
       "    <tr>\n",
       "      <th>PC12</th>\n",
       "      <td>0.168770</td>\n",
       "    </tr>\n",
       "    <tr>\n",
       "      <th>PC13</th>\n",
       "      <td>0.103378</td>\n",
       "    </tr>\n",
       "  </tbody>\n",
       "</table>\n",
       "</div>"
      ],
      "text/plain": [
       "      Standard deviation\n",
       "PC1             4.705850\n",
       "PC2             2.496974\n",
       "PC3             1.446072\n",
       "PC4             0.918974\n",
       "PC5             0.853228\n",
       "PC6             0.641657\n",
       "PC7             0.551028\n",
       "PC8             0.348497\n",
       "PC9             0.288880\n",
       "PC10            0.250902\n",
       "PC11            0.225789\n",
       "PC12            0.168770\n",
       "PC13            0.103378"
      ]
     },
     "execution_count": 131,
     "metadata": {},
     "output_type": "execute_result"
    }
   ],
   "source": [
    "summary.sdev ** 2"
   ]
  },
  {
   "cell_type": "markdown",
   "metadata": {},
   "source": [
    "A third way to decide how many principal components to retain is to decide to keep the number of components required to explain at least some minimum amount of the total variance. "
   ]
  },
  {
   "cell_type": "code",
   "execution_count": 133,
   "metadata": {},
   "outputs": [
    {
     "data": {
      "text/html": [
       "<div>\n",
       "<style>\n",
       "    .dataframe thead tr:only-child th {\n",
       "        text-align: right;\n",
       "    }\n",
       "\n",
       "    .dataframe thead th {\n",
       "        text-align: left;\n",
       "    }\n",
       "\n",
       "    .dataframe tbody tr th {\n",
       "        vertical-align: top;\n",
       "    }\n",
       "</style>\n",
       "<table border=\"1\" class=\"dataframe\">\n",
       "  <thead>\n",
       "    <tr style=\"text-align: right;\">\n",
       "      <th></th>\n",
       "      <th>Cumulative Proportion</th>\n",
       "    </tr>\n",
       "  </thead>\n",
       "  <tbody>\n",
       "    <tr>\n",
       "      <th>PC1</th>\n",
       "      <td>0.361988</td>\n",
       "    </tr>\n",
       "    <tr>\n",
       "      <th>PC2</th>\n",
       "      <td>0.554063</td>\n",
       "    </tr>\n",
       "    <tr>\n",
       "      <th>PC3</th>\n",
       "      <td>0.665300</td>\n",
       "    </tr>\n",
       "    <tr>\n",
       "      <th>PC4</th>\n",
       "      <td>0.735990</td>\n",
       "    </tr>\n",
       "    <tr>\n",
       "      <th>PC5</th>\n",
       "      <td>0.801623</td>\n",
       "    </tr>\n",
       "    <tr>\n",
       "      <th>PC6</th>\n",
       "      <td>0.850981</td>\n",
       "    </tr>\n",
       "    <tr>\n",
       "      <th>PC7</th>\n",
       "      <td>0.893368</td>\n",
       "    </tr>\n",
       "    <tr>\n",
       "      <th>PC8</th>\n",
       "      <td>0.920175</td>\n",
       "    </tr>\n",
       "    <tr>\n",
       "      <th>PC9</th>\n",
       "      <td>0.942397</td>\n",
       "    </tr>\n",
       "    <tr>\n",
       "      <th>PC10</th>\n",
       "      <td>0.961697</td>\n",
       "    </tr>\n",
       "    <tr>\n",
       "      <th>PC11</th>\n",
       "      <td>0.979066</td>\n",
       "    </tr>\n",
       "    <tr>\n",
       "      <th>PC12</th>\n",
       "      <td>0.992048</td>\n",
       "    </tr>\n",
       "    <tr>\n",
       "      <th>PC13</th>\n",
       "      <td>1.000000</td>\n",
       "    </tr>\n",
       "  </tbody>\n",
       "</table>\n",
       "</div>"
      ],
      "text/plain": [
       "      Cumulative Proportion\n",
       "PC1                0.361988\n",
       "PC2                0.554063\n",
       "PC3                0.665300\n",
       "PC4                0.735990\n",
       "PC5                0.801623\n",
       "PC6                0.850981\n",
       "PC7                0.893368\n",
       "PC8                0.920175\n",
       "PC9                0.942397\n",
       "PC10               0.961697\n",
       "PC11               0.979066\n",
       "PC12               0.992048\n",
       "PC13               1.000000"
      ]
     },
     "execution_count": 133,
     "metadata": {},
     "output_type": "execute_result"
    }
   ],
   "source": [
    "summary.cumprop"
   ]
  },
  {
   "cell_type": "markdown",
   "metadata": {},
   "source": [
    "### loadings for principal components "
   ]
  },
  {
   "cell_type": "markdown",
   "metadata": {},
   "source": [
    "Loadings should not be confused with eigen values \n",
    "- Their sums of squares within each component are the eigenvalues (components' variances). \n",
    "- Loadings are coefficients in linear combination predicting a variable by the (standardized) components.\n"
   ]
  },
  {
   "cell_type": "code",
   "execution_count": 135,
   "metadata": {},
   "outputs": [
    {
     "data": {
      "text/plain": [
       "array([ 0.1443294 , -0.24518758, -0.00205106, -0.23932041,  0.14199204,\n",
       "        0.39466085,  0.4229343 , -0.2985331 ,  0.31342949, -0.0886167 ,\n",
       "        0.29671456,  0.37616741,  0.28675223])"
      ]
     },
     "execution_count": 135,
     "metadata": {},
     "output_type": "execute_result"
    }
   ],
   "source": [
    "# to obtain the loadings for the first principal component\n",
    "pca.components_[0]"
   ]
  },
  {
   "cell_type": "markdown",
   "metadata": {},
   "source": [
    "The first principal component has highest (in absolute value) loadings for V8 (-0.423), V7 (-0.395), V13 (-0.376), V10 (-0.313), V12 (-0.297), V14 (-0.287), V9 (0.299), V3 (0.245), and V5 (0.239). The loadings for V8, V7, V13, V10, V12 and V14 are negative, while those for V9, V3, and V5 are positive. Therefore, an interpretation of the first principal component is that it represents a contrast between the concentrations of V8, V7, V13, V10, V12, and V14, and the concentrations of V9, V3 and V5."
   ]
  },
  {
   "cell_type": "code",
   "execution_count": 136,
   "metadata": {},
   "outputs": [
    {
     "data": {
      "text/plain": [
       "1.0"
      ]
     },
     "execution_count": 136,
     "metadata": {},
     "output_type": "execute_result"
    }
   ],
   "source": [
    "# sum of squared of the loadings within each component is eigenvalues i.e. components' variances.\n",
    "np.sum(pca.components_[0]**2)"
   ]
  },
  {
   "cell_type": "code",
   "execution_count": 149,
   "metadata": {},
   "outputs": [
    {
     "data": {
      "text/plain": [
       "array([-0.48365155, -0.22493093, -0.31606881,  0.0105905 , -0.299634  ,\n",
       "       -0.06503951,  0.00335981, -0.02877949, -0.03930172, -0.52999567,\n",
       "        0.27923515,  0.16449619, -0.36490283])"
      ]
     },
     "execution_count": 149,
     "metadata": {},
     "output_type": "execute_result"
    }
   ],
   "source": [
    "## and loadings for the second principal component\n",
    "pca.components_[1]"
   ]
  },
  {
   "cell_type": "code",
   "execution_count": 137,
   "metadata": {
    "collapsed": true
   },
   "outputs": [],
   "source": [
    "## calculate values of the first principal component \n",
    "\n",
    "def calcpc(variables, loadings):\n",
    "    # find the number of samples in the data set and the number of variables\n",
    "    numsamples, numvariables = variables.shape\n",
    "    # make a vector to store the component\n",
    "    pc = np.zeros(numsamples)\n",
    "    # calculate the value of the component for each sample\n",
    "    for i in range(numsamples):\n",
    "        value_i = 0\n",
    "        for j in range(numvariables):\n",
    "            value_ij = variables.iloc[i, j]\n",
    "            loading_j = loadings[j]\n",
    "            value_i = value_i + (value_ij * loading_j)\n",
    "        pc[i] = value_i\n",
    "    return pc"
   ]
  },
  {
   "cell_type": "code",
   "execution_count": 141,
   "metadata": {},
   "outputs": [
    {
     "data": {
      "text/plain": [
       "array([ 3.31675081,  2.20946492,  2.51674015,  3.75706561,  1.00890849,\n",
       "        3.05025392,  2.44908967,  2.05943687,  2.5108743 ,  2.75362819,\n",
       "        3.47973668,  1.7547529 ,  2.11346234,  3.45815682,  4.31278391,\n",
       "        2.3051882 ,  2.17195527,  1.89897118,  3.54198508,  2.0845222 ,\n",
       "        3.12440254,  1.08657007,  2.53522408,  1.64498834,  1.76157587,\n",
       "        0.9900791 ,  1.77527763,  1.23542396,  2.18840633,  2.25610898,\n",
       "        2.50022003,  2.67741105,  1.62857912,  1.90269086,  1.41038853,\n",
       "        1.90382623,  1.38486223,  1.12220741,  1.5021945 ,  2.52980109,\n",
       "        2.58809543,  0.66848199,  3.07080699,  0.46220914,  2.10135193,\n",
       "        1.13616618,  2.72660096,  2.82133927,  2.00985085,  2.7074913 ,\n",
       "        3.21491747,  2.85895983,  3.50560436,  2.22479138,  2.14698782,\n",
       "        2.46932948,  2.74151791,  2.17374092,  3.13938015, -0.92858197,\n",
       "       -1.54248014, -1.83624976,  0.03060683,  2.05026161, -0.60968083,\n",
       "        0.90022784,  2.24850719,  0.18338403, -0.81280503,  1.9756205 ,\n",
       "       -1.57221622,  1.65768181, -0.72537239,  2.56222717,  1.83256757,\n",
       "       -0.8679929 ,  0.3700144 , -1.45737704,  1.26293085,  0.37615037,\n",
       "        0.7620639 ,  1.03457797, -0.49487676, -2.53897708,  0.83532015,\n",
       "        0.78790461, -0.80683216, -0.55804262, -1.11511104, -0.55572283,\n",
       "       -1.34928528, -1.56448261, -1.93255561,  0.74666594,  0.95745536,\n",
       "        2.54386518, -0.54395259,  1.03104975,  2.25190942,  1.41021602,\n",
       "        0.79771979, -0.54953173, -0.16117374, -0.65979494,  0.39235441,\n",
       "       -1.77249908, -0.36626736, -1.62067257,  0.08253578,  1.57827507,\n",
       "        1.42056925, -0.27870275, -1.30314497, -0.45707187, -0.49418585,\n",
       "        0.48207441, -0.25288888, -0.10722764, -2.4330126 , -0.55108954,\n",
       "        0.73962193,  1.33632173, -1.177087  , -0.46233501,  0.97847408,\n",
       "       -0.09680973,  0.03848715, -1.5971585 , -0.47956492, -1.79283347,\n",
       "       -1.32710166, -2.38450083, -2.9369401 , -2.14681113, -2.36986949,\n",
       "       -3.06384157, -3.91575378, -3.93646339, -3.09427612, -2.37447163,\n",
       "       -2.77881295, -2.28656128, -2.98563349, -2.3751947 , -2.20986553,\n",
       "       -2.625621  , -4.28063878, -3.58264137, -2.80706372, -2.89965933,\n",
       "       -2.32073698, -2.54983095, -1.81254128, -2.76014464, -2.7371505 ,\n",
       "       -3.60486887, -2.889826  , -3.39215608, -1.0481819 , -1.60991228,\n",
       "       -3.14313097, -2.2401569 , -2.84767378, -2.59749706, -2.94929937,\n",
       "       -3.53003227, -2.40611054, -2.92908473, -2.18141278, -2.38092779,\n",
       "       -3.21161722, -3.67791872, -2.4655558 , -3.37052415, -2.60195585,\n",
       "       -2.67783946, -2.38701709, -3.20875816])"
      ]
     },
     "execution_count": 141,
     "metadata": {},
     "output_type": "execute_result"
    }
   ],
   "source": [
    "# calculate the values of the first principal component for each sample in the wine data\n",
    "\n",
    "calcpc(stdx, pca.components_[0])\n",
    "\n",
    "# which gives the same result as pca.transform(stdx)[:, 0] does"
   ]
  },
  {
   "cell_type": "code",
   "execution_count": 144,
   "metadata": {},
   "outputs": [
    {
     "data": {
      "text/html": [
       "<div>\n",
       "<style>\n",
       "    .dataframe thead tr:only-child th {\n",
       "        text-align: right;\n",
       "    }\n",
       "\n",
       "    .dataframe thead th {\n",
       "        text-align: left;\n",
       "    }\n",
       "\n",
       "    .dataframe tbody tr th {\n",
       "        vertical-align: top;\n",
       "    }\n",
       "</style>\n",
       "<table border=\"1\" class=\"dataframe\">\n",
       "  <thead>\n",
       "    <tr style=\"text-align: right;\">\n",
       "      <th></th>\n",
       "      <th>v2</th>\n",
       "      <th>v3</th>\n",
       "      <th>v4</th>\n",
       "      <th>v5</th>\n",
       "      <th>v6</th>\n",
       "      <th>v7</th>\n",
       "      <th>v8</th>\n",
       "      <th>v9</th>\n",
       "      <th>v10</th>\n",
       "      <th>v11</th>\n",
       "      <th>v12</th>\n",
       "      <th>v13</th>\n",
       "      <th>v14</th>\n",
       "    </tr>\n",
       "    <tr>\n",
       "      <th>v1</th>\n",
       "      <th></th>\n",
       "      <th></th>\n",
       "      <th></th>\n",
       "      <th></th>\n",
       "      <th></th>\n",
       "      <th></th>\n",
       "      <th></th>\n",
       "      <th></th>\n",
       "      <th></th>\n",
       "      <th></th>\n",
       "      <th></th>\n",
       "      <th></th>\n",
       "      <th></th>\n",
       "    </tr>\n",
       "  </thead>\n",
       "  <tbody>\n",
       "    <tr>\n",
       "      <th>1</th>\n",
       "      <td>59</td>\n",
       "      <td>59</td>\n",
       "      <td>59</td>\n",
       "      <td>59</td>\n",
       "      <td>59</td>\n",
       "      <td>59</td>\n",
       "      <td>59</td>\n",
       "      <td>59</td>\n",
       "      <td>59</td>\n",
       "      <td>59</td>\n",
       "      <td>59</td>\n",
       "      <td>59</td>\n",
       "      <td>59</td>\n",
       "    </tr>\n",
       "    <tr>\n",
       "      <th>2</th>\n",
       "      <td>71</td>\n",
       "      <td>71</td>\n",
       "      <td>71</td>\n",
       "      <td>71</td>\n",
       "      <td>71</td>\n",
       "      <td>71</td>\n",
       "      <td>71</td>\n",
       "      <td>71</td>\n",
       "      <td>71</td>\n",
       "      <td>71</td>\n",
       "      <td>71</td>\n",
       "      <td>71</td>\n",
       "      <td>71</td>\n",
       "    </tr>\n",
       "    <tr>\n",
       "      <th>3</th>\n",
       "      <td>48</td>\n",
       "      <td>48</td>\n",
       "      <td>48</td>\n",
       "      <td>48</td>\n",
       "      <td>48</td>\n",
       "      <td>48</td>\n",
       "      <td>48</td>\n",
       "      <td>48</td>\n",
       "      <td>48</td>\n",
       "      <td>48</td>\n",
       "      <td>48</td>\n",
       "      <td>48</td>\n",
       "      <td>48</td>\n",
       "    </tr>\n",
       "  </tbody>\n",
       "</table>\n",
       "</div>"
      ],
      "text/plain": [
       "    v2  v3  v4  v5  v6  v7  v8  v9  v10  v11  v12  v13  v14\n",
       "v1                                                         \n",
       "1   59  59  59  59  59  59  59  59   59   59   59   59   59\n",
       "2   71  71  71  71  71  71  71  71   71   71   71   71   71\n",
       "3   48  48  48  48  48  48  48  48   48   48   48   48   48"
      ]
     },
     "execution_count": 144,
     "metadata": {},
     "output_type": "execute_result"
    }
   ],
   "source": [
    "data.groupby('v1').count()"
   ]
  },
  {
   "cell_type": "markdown",
   "metadata": {},
   "source": [
    "### scatterplot of principal components "
   ]
  },
  {
   "cell_type": "markdown",
   "metadata": {},
   "source": [
    "The values of the principal components can be computed by the transform() (or fit_transform()) method of the PCA class. It returns a matrix with the principal components, where the first column in the matrix contains the first principal component, the second column the second component, and so on.\n",
    "\n",
    "Thus, in this wine sample study, pca.transform(stdx)[:, 0] contains the first principal component, and pca.transform(stdx)[:, 1] contains the second principal component.\n",
    "\n"
   ]
  },
  {
   "cell_type": "code",
   "execution_count": 146,
   "metadata": {},
   "outputs": [],
   "source": [
    "## scatterplot of the first two principal components, \n",
    "## and label the data points with the cultivar that the wine samples come from\n",
    "\n",
    "def pca_scatter(pca, standardised_values, classifs):\n",
    "    foo = pca.transform(standardised_values)\n",
    "    bar = pd.DataFrame(list(zip(foo[:, 0], foo[:, 1], classifs)), columns=[\"PC1\", \"PC2\", \"Class\"])\n",
    "    sns.lmplot(\"PC1\", \"PC2\", bar, hue=\"Class\", fit_reg=False)"
   ]
  },
  {
   "cell_type": "code",
   "execution_count": 147,
   "metadata": {},
   "outputs": [
    {
     "data": {
      "image/png": "[encoded data removed]",
      "text/plain": [
       "<matplotlib.figure.Figure at 0x11569cba8>"
      ]
     },
     "metadata": {},
     "output_type": "display_data"
    }
   ],
   "source": [
    "pca_scatter(pca, stdx, y)"
   ]
  },
  {
   "cell_type": "markdown",
   "metadata": {},
   "source": [
    "The scatterplot shows the first principal component on the x-axis, and the second principal component on the y-axis. It can be seen that the wine samples of cultivar 1 have much lower values of the first principal component than wine samples of cultivar 3. Therefore, the first principal component separates wine samples of cultivars 1 from those of cultivar 3.\n",
    "\n",
    "It can also been seen that wine samples of cultivar 2 have much higher values of the second principal component than wine samples of cultivars 1 and 3. Therefore, the second principal component separates samples of cultivar 2 from samples of cultivars 1 and 3.\n",
    "\n",
    "Therefore, the first two principal components are reasonably useful for distinguishing wine samples of the three different cultivars."
   ]
  },
  {
   "cell_type": "markdown",
   "metadata": {},
   "source": [
    "It has been interpreted above that the first principal component is a contrast between the concentrations of V8, V7, V13, V10, V12, and V14, and the concentrations of V9, V3 and V5. Whether this makes sense in terms of the concentrations of these chemicals in the different cultivars can be checked by printing out the means of the standardised concentration variables in each cultivar."
   ]
  },
  {
   "cell_type": "code",
   "execution_count": 148,
   "metadata": {},
   "outputs": [
    {
     "name": "stdout",
     "output_type": "stream",
     "text": [
      "## Means:\n"
     ]
    },
    {
     "data": {
      "text/html": [
       "<div>\n",
       "<style>\n",
       "    .dataframe thead tr:only-child th {\n",
       "        text-align: right;\n",
       "    }\n",
       "\n",
       "    .dataframe thead th {\n",
       "        text-align: left;\n",
       "    }\n",
       "\n",
       "    .dataframe tbody tr th {\n",
       "        vertical-align: top;\n",
       "    }\n",
       "</style>\n",
       "<table border=\"1\" class=\"dataframe\">\n",
       "  <thead>\n",
       "    <tr style=\"text-align: right;\">\n",
       "      <th></th>\n",
       "      <th>v2</th>\n",
       "      <th>v3</th>\n",
       "      <th>v4</th>\n",
       "      <th>v5</th>\n",
       "      <th>v6</th>\n",
       "      <th>v7</th>\n",
       "      <th>v8</th>\n",
       "      <th>v9</th>\n",
       "      <th>v10</th>\n",
       "      <th>v11</th>\n",
       "      <th>v12</th>\n",
       "      <th>v13</th>\n",
       "      <th>v14</th>\n",
       "    </tr>\n",
       "    <tr>\n",
       "      <th>v1</th>\n",
       "      <th></th>\n",
       "      <th></th>\n",
       "      <th></th>\n",
       "      <th></th>\n",
       "      <th></th>\n",
       "      <th></th>\n",
       "      <th></th>\n",
       "      <th></th>\n",
       "      <th></th>\n",
       "      <th></th>\n",
       "      <th></th>\n",
       "      <th></th>\n",
       "      <th></th>\n",
       "    </tr>\n",
       "  </thead>\n",
       "  <tbody>\n",
       "    <tr>\n",
       "      <th>1</th>\n",
       "      <td>0.919195</td>\n",
       "      <td>-0.292342</td>\n",
       "      <td>0.325604</td>\n",
       "      <td>-0.737997</td>\n",
       "      <td>0.463226</td>\n",
       "      <td>0.873362</td>\n",
       "      <td>0.956884</td>\n",
       "      <td>-0.578985</td>\n",
       "      <td>0.540383</td>\n",
       "      <td>0.203401</td>\n",
       "      <td>0.458847</td>\n",
       "      <td>0.771351</td>\n",
       "      <td>1.174501</td>\n",
       "    </tr>\n",
       "    <tr>\n",
       "      <th>2</th>\n",
       "      <td>-0.891720</td>\n",
       "      <td>-0.362362</td>\n",
       "      <td>-0.444958</td>\n",
       "      <td>0.223137</td>\n",
       "      <td>-0.364567</td>\n",
       "      <td>-0.058067</td>\n",
       "      <td>0.051780</td>\n",
       "      <td>0.014569</td>\n",
       "      <td>0.069002</td>\n",
       "      <td>-0.852799</td>\n",
       "      <td>0.433611</td>\n",
       "      <td>0.245294</td>\n",
       "      <td>-0.724110</td>\n",
       "    </tr>\n",
       "    <tr>\n",
       "      <th>3</th>\n",
       "      <td>0.189159</td>\n",
       "      <td>0.895331</td>\n",
       "      <td>0.257945</td>\n",
       "      <td>0.577065</td>\n",
       "      <td>-0.030127</td>\n",
       "      <td>-0.987617</td>\n",
       "      <td>-1.252761</td>\n",
       "      <td>0.690119</td>\n",
       "      <td>-0.766287</td>\n",
       "      <td>1.011418</td>\n",
       "      <td>-1.205382</td>\n",
       "      <td>-1.310950</td>\n",
       "      <td>-0.372578</td>\n",
       "    </tr>\n",
       "  </tbody>\n",
       "</table>\n",
       "</div>"
      ],
      "text/plain": [
       "          v2        v3        v4        v5        v6        v7        v8  \\\n",
       "v1                                                                         \n",
       "1   0.919195 -0.292342  0.325604 -0.737997  0.463226  0.873362  0.956884   \n",
       "2  -0.891720 -0.362362 -0.444958  0.223137 -0.364567 -0.058067  0.051780   \n",
       "3   0.189159  0.895331  0.257945  0.577065 -0.030127 -0.987617 -1.252761   \n",
       "\n",
       "          v9       v10       v11       v12       v13       v14  \n",
       "v1                                                              \n",
       "1  -0.578985  0.540383  0.203401  0.458847  0.771351  1.174501  \n",
       "2   0.014569  0.069002 -0.852799  0.433611  0.245294 -0.724110  \n",
       "3   0.690119 -0.766287  1.011418 -1.205382 -1.310950 -0.372578  "
      ]
     },
     "metadata": {},
     "output_type": "display_data"
    },
    {
     "name": "stdout",
     "output_type": "stream",
     "text": [
      "\n",
      "## Standard deviations:\n"
     ]
    },
    {
     "data": {
      "text/html": [
       "<div>\n",
       "<style>\n",
       "    .dataframe thead tr:only-child th {\n",
       "        text-align: right;\n",
       "    }\n",
       "\n",
       "    .dataframe thead th {\n",
       "        text-align: left;\n",
       "    }\n",
       "\n",
       "    .dataframe tbody tr th {\n",
       "        vertical-align: top;\n",
       "    }\n",
       "</style>\n",
       "<table border=\"1\" class=\"dataframe\">\n",
       "  <thead>\n",
       "    <tr style=\"text-align: right;\">\n",
       "      <th></th>\n",
       "      <th>v2</th>\n",
       "      <th>v3</th>\n",
       "      <th>v4</th>\n",
       "      <th>v5</th>\n",
       "      <th>v6</th>\n",
       "      <th>v7</th>\n",
       "      <th>v8</th>\n",
       "      <th>v9</th>\n",
       "      <th>v10</th>\n",
       "      <th>v11</th>\n",
       "      <th>v12</th>\n",
       "      <th>v13</th>\n",
       "      <th>v14</th>\n",
       "    </tr>\n",
       "    <tr>\n",
       "      <th>v1</th>\n",
       "      <th></th>\n",
       "      <th></th>\n",
       "      <th></th>\n",
       "      <th></th>\n",
       "      <th></th>\n",
       "      <th></th>\n",
       "      <th></th>\n",
       "      <th></th>\n",
       "      <th></th>\n",
       "      <th></th>\n",
       "      <th></th>\n",
       "      <th></th>\n",
       "      <th></th>\n",
       "    </tr>\n",
       "  </thead>\n",
       "  <tbody>\n",
       "    <tr>\n",
       "      <th>1</th>\n",
       "      <td>0.565989</td>\n",
       "      <td>0.612825</td>\n",
       "      <td>0.823302</td>\n",
       "      <td>0.758115</td>\n",
       "      <td>0.730892</td>\n",
       "      <td>0.538506</td>\n",
       "      <td>0.395674</td>\n",
       "      <td>0.559639</td>\n",
       "      <td>0.715905</td>\n",
       "      <td>0.531210</td>\n",
       "      <td>0.506699</td>\n",
       "      <td>0.500058</td>\n",
       "      <td>0.699428</td>\n",
       "    </tr>\n",
       "    <tr>\n",
       "      <th>2</th>\n",
       "      <td>0.659832</td>\n",
       "      <td>0.905196</td>\n",
       "      <td>1.144991</td>\n",
       "      <td>0.998777</td>\n",
       "      <td>1.168006</td>\n",
       "      <td>0.867674</td>\n",
       "      <td>0.703493</td>\n",
       "      <td>0.991797</td>\n",
       "      <td>1.047418</td>\n",
       "      <td>0.397269</td>\n",
       "      <td>0.884060</td>\n",
       "      <td>0.696425</td>\n",
       "      <td>0.497100</td>\n",
       "    </tr>\n",
       "    <tr>\n",
       "      <th>3</th>\n",
       "      <td>0.648130</td>\n",
       "      <td>0.966347</td>\n",
       "      <td>0.668036</td>\n",
       "      <td>0.670991</td>\n",
       "      <td>0.756649</td>\n",
       "      <td>0.565996</td>\n",
       "      <td>0.291583</td>\n",
       "      <td>0.989818</td>\n",
       "      <td>0.708814</td>\n",
       "      <td>0.989176</td>\n",
       "      <td>0.496834</td>\n",
       "      <td>0.380317</td>\n",
       "      <td>0.362688</td>\n",
       "    </tr>\n",
       "  </tbody>\n",
       "</table>\n",
       "</div>"
      ],
      "text/plain": [
       "          v2        v3        v4        v5        v6        v7        v8  \\\n",
       "v1                                                                         \n",
       "1   0.565989  0.612825  0.823302  0.758115  0.730892  0.538506  0.395674   \n",
       "2   0.659832  0.905196  1.144991  0.998777  1.168006  0.867674  0.703493   \n",
       "3   0.648130  0.966347  0.668036  0.670991  0.756649  0.565996  0.291583   \n",
       "\n",
       "          v9       v10       v11       v12       v13       v14  \n",
       "v1                                                              \n",
       "1   0.559639  0.715905  0.531210  0.506699  0.500058  0.699428  \n",
       "2   0.991797  1.047418  0.397269  0.884060  0.696425  0.497100  \n",
       "3   0.989818  0.708814  0.989176  0.496834  0.380317  0.362688  "
      ]
     },
     "metadata": {},
     "output_type": "display_data"
    },
    {
     "name": "stdout",
     "output_type": "stream",
     "text": [
      "\n",
      "## Sample sizes:\n"
     ]
    },
    {
     "data": {
      "text/html": [
       "<div>\n",
       "<style>\n",
       "    .dataframe thead tr:only-child th {\n",
       "        text-align: right;\n",
       "    }\n",
       "\n",
       "    .dataframe thead th {\n",
       "        text-align: left;\n",
       "    }\n",
       "\n",
       "    .dataframe tbody tr th {\n",
       "        vertical-align: top;\n",
       "    }\n",
       "</style>\n",
       "<table border=\"1\" class=\"dataframe\">\n",
       "  <thead>\n",
       "    <tr style=\"text-align: right;\">\n",
       "      <th></th>\n",
       "      <th>0</th>\n",
       "    </tr>\n",
       "    <tr>\n",
       "      <th>v1</th>\n",
       "      <th></th>\n",
       "    </tr>\n",
       "  </thead>\n",
       "  <tbody>\n",
       "    <tr>\n",
       "      <th>1</th>\n",
       "      <td>59</td>\n",
       "    </tr>\n",
       "    <tr>\n",
       "      <th>2</th>\n",
       "      <td>71</td>\n",
       "    </tr>\n",
       "    <tr>\n",
       "      <th>3</th>\n",
       "      <td>48</td>\n",
       "    </tr>\n",
       "  </tbody>\n",
       "</table>\n",
       "</div>"
      ],
      "text/plain": [
       "     0\n",
       "v1    \n",
       "1   59\n",
       "2   71\n",
       "3   48"
      ]
     },
     "metadata": {},
     "output_type": "display_data"
    }
   ],
   "source": [
    "groupmeanandstd(stdx, y)"
   ]
  },
  {
   "cell_type": "markdown",
   "metadata": {},
   "source": [
    "Does it make sense that the first principal component can separate cultivar 1 from cultivar 3? In cultivar 1, the mean values of V8 (0.954), V7 (0.871), V13 (0.769), V10 (0.539), V12 (0.458) and V14 (1.171) are very high compared to the mean values of V9 (-0.577), V3 (-0.292) and V5 (-0.736). In cultivar 3, the mean values of V8 (-1.249), V7 (-0.985), V13 (-1.307), V10 (-0.764), V12 (-1.202) and V14 (-0.372) are very low compared to the mean values of V9 (0.688), V3 (0.893) and V5 (0.575). Therefore, it does make sense that principal component 1 is a contrast between the concentrations of V8, V7, V13, V10, V12, and V14, and the concentrations of V9, V3 and V5; and that principal component 1 can separate cultivar 1 from cultivar 3.\n",
    "\n",
    "Above, we intepreted the second principal component as a contrast between the concentrations of V11, V2, V14, V4, V6 and V3, and the concentration of V12. In the light of the mean values of these variables in the different cultivars, does it make sense that the second principal component can separate cultivar 2 from cultivars 1 and 3? In cultivar 1, the mean values of V11 (0.203), V2 (0.917), V14 (1.171), V4 (0.325), V6 (0.462) and V3 (-0.292) are not very different from the mean value of V12 (0.458). In cultivar 3, the mean values of V11 (1.009), V2 (0.189), V14 (-0.372), V4 (0.257), V6 (-0.030) and V3 (0.893) are also not very different from the mean value of V12 (-1.202). In contrast, in cultivar 2, the mean values of V11 (-0.850), V2 (-0.889), V14 (-0.722), V4 (-0.444), V6 (-0.364) and V3 (-0.361) are much less than the mean value of V12 (0.432). Therefore, it makes sense that principal component is a contrast between the concentrations of V11, V2, V14, V4, V6 and V3, and the concentration of V12; and that principal component 2 can separate cultivar 2 from cultivars 1 and 3."
   ]
  },
  {
   "cell_type": "code",
   "execution_count": null,
   "metadata": {
    "collapsed": true
   },
   "outputs": [],
   "source": []
  },
  {
   "cell_type": "code",
   "execution_count": 155,
   "metadata": {},
   "outputs": [
    {
     "data": {
      "image/png": "[encoded data removed]",
      "text/plain": [
       "<matplotlib.figure.Figure at 0x117b77ef0>"
      ]
     },
     "metadata": {},
     "output_type": "display_data"
    }
   ],
   "source": [
    "\n",
    "from sklearn import linear_model, decomposition\n",
    "from sklearn.pipeline import Pipeline\n",
    "from sklearn.model_selection import GridSearchCV\n",
    "\n",
    "logistic = linear_model.LogisticRegression()\n",
    "\n",
    "pca = decomposition.PCA()\n",
    "pipe = Pipeline(steps=[('pca', pca), ('logistic', logistic)])\n",
    "\n",
    "\n",
    "# Plot the PCA spectrum\n",
    "pca.fit(stdx)\n",
    "\n",
    "plt.figure(1, figsize=(4, 3))\n",
    "plt.clf()\n",
    "plt.axes([.2, .2, .7, .7])\n",
    "plt.plot(pca.explained_variance_, linewidth=2)\n",
    "plt.axis('tight')\n",
    "plt.xlabel('n_components')\n",
    "plt.ylabel('explained_variance_')\n",
    "\n",
    "# Prediction\n",
    "n_components = [3, 7, 10]\n",
    "Cs = np.logspace(-4, 4, 3)\n",
    "\n",
    "# Parameters of pipelines can be set using ‘__’ separated parameter names:\n",
    "estimator = GridSearchCV(pipe, dict(pca__n_components = n_components, logistic__C = Cs))\n",
    "estimator.fit(stdx, y)\n",
    "\n",
    "plt.axvline(estimator.best_estimator_.named_steps['pca'].n_components, linestyle = ':', label = 'n_components chosen')\n",
    "plt.legend(prop = dict(size = 12))\n",
    "plt.show()"
   ]
  },
  {
   "cell_type": "code",
   "execution_count": null,
   "metadata": {
    "collapsed": true
   },
   "outputs": [],
   "source": []
  },
  {
   "cell_type": "code",
   "execution_count": 150,
   "metadata": {
    "collapsed": true
   },
   "outputs": [],
   "source": [
    "# LDA is discussed in the second half from the link at the very top"
   ]
  },
  {
   "cell_type": "code",
   "execution_count": null,
   "metadata": {
    "collapsed": true
   },
   "outputs": [],
   "source": []
  }
 ],
 "metadata": {
  "kernelspec": {
   "display_name": "Python 3",
   "language": "python",
   "name": "python3"
  },
  "language_info": {
   "codemirror_mode": {
    "name": "ipython",
    "version": 3
   },
   "file_extension": ".py",
   "mimetype": "text/x-python",
   "name": "python",
   "nbconvert_exporter": "python",
   "pygments_lexer": "ipython3",
   "version": "3.5.2"
  }
 },
 "nbformat": 4,
 "nbformat_minor": 2
}
