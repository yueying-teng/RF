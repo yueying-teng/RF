{
 "cells": [
  {
   "cell_type": "markdown",
   "metadata": {},
   "source": [
    "Everything here \n",
    "\n",
    "http://people.duke.edu/~ccc14/sta-663-2017/13A_LinearAlgebra1.html"
   ]
  },
  {
   "cell_type": "code",
   "execution_count": null,
   "metadata": {
    "collapsed": true
   },
   "outputs": [],
   "source": []
  },
  {
   "cell_type": "markdown",
   "metadata": {},
   "source": [
    "https://en.wikipedia.org/wiki/Matrix_decomposition"
   ]
  },
  {
   "cell_type": "markdown",
   "metadata": {},
   "source": [
    "consider the following points when choosing the method of matrix decomposition:\n",
    "- all of them approximate the matrix in some way.\n",
    "- some may make the problem easier to solve.\n",
    "- the algorithm.\n",
    "   - Is there an efficient way to find the decomposition? (especially for large matrices. for example SVD is computed more efficiently for large matrices than eigen-decomposition.)\n",
    "   - Can we obtain it with an online algorithm? (updating factorization when new data samples comes in without recomputing all the steps)"
   ]
  },
  {
   "cell_type": "markdown",
   "metadata": {},
   "source": [
    "some points on the reason of matrix decompostion.\n",
    "\n",
    "How do you actually solve a large system of linear equations on a computer and how do you actually diagonalize a large matrix (that theory tells you is diagonalizable) on a computer. These are very difficult problems since there is a huge gap between the theoretical results and actual computations. That gap is caused of course by rounding errors on a computer. Loads of books are written on the subject as, needless to say, it's of immense importance. Many factorizations of matrices (e.g., LU and QR) are meant to address such issues. To make computations more robust and more efficient.\n",
    "\n",
    "..."
   ]
  },
  {
   "cell_type": "code",
   "execution_count": null,
   "metadata": {
    "collapsed": true
   },
   "outputs": [],
   "source": []
  },
  {
   "cell_type": "markdown",
   "metadata": {},
   "source": [
    "https://lazyprogrammer.me/tutorial-principal-components-analysis-pca/\n",
    "\n",
    "###  PCA\n",
    "PCA finds a matrix Q that, when multiplied by the original data matrix X, returns a linearly transformed data matrix Z, where:\n",
    "\n",
    "**Z = XQ**\n",
    "\n",
    "The interesting thing about PCA is how it chooses Q.\n",
    "\n",
    "PCA reduces dimensionality by moving as much “information” as possible into as few dimensions as possible. The information here is measured by unpredictability, i.e. variance. The end result is that the transformed matrix Z has most of its variance in the first column, less variance in the second column, even less variance in the third column, etc.\n",
    "\n",
    "### Eigenvalues & Eigenvectors\n",
    "when multiply a vector by a matrix, the direction of the vector is changed.\n",
    "\n",
    "Eigenvalues λ and eigenvectors v have the property that, if multiplied by A, a matrix, is the same as multiplying the eigenvector by a constant – the eigenvalue, i.e. the eigenvector does not change direction, it only gets shorter or longer by a factor of λ. In other words:\n",
    "\n",
    "**Av = λv**\n",
    "\n",
    "where A is the matrix, v is the eigenvector and λ the eigenvalue.\n",
    "\n",
    "In the case of PCA, all the eigenvectors from the empirical covariance matrix are lined upsuch that the corresponding λ, eigenvallues, are in descending order. In matrix form, the above can be expressed by:\n",
    "\n",
    "**AV = VΛ **\n",
    "\n",
    "where V is the matrix with eigenvectors as columns, which is orthonormal, and Λ is a diagonal matrix of eigenvalues.\n",
    "\n",
    "### SVD or Diagonalization in finding the eigenpairs\n",
    "\n",
    "The method from textbook – solving a polynomial to get the eigenvalues, plugging the eigenvalues into the eigenvalue equation to get the eigenvectors, etc. doesn’t really translate to computer code.\n",
    "\n",
    "**SVD**\n",
    "- Square the diagonal matrix S, and divide by sum(S) to obtain eigenvalues\n",
    "- Matrix Vt (or U) will contain the eigenvectors"
   ]
  },
  {
   "cell_type": "code",
   "execution_count": null,
   "metadata": {
    "collapsed": true
   },
   "outputs": [],
   "source": []
  },
  {
   "cell_type": "markdown",
   "metadata": {},
   "source": [
    "Since Λ is a diagonal matrix, there are no correlations in the transformed data. \n",
    "\n",
    "**The variance of each dimension of Z is equal to the eigenvalues.**\n",
    "\n",
    "In addition, because we sorted the eigenvalues in descending order, the first dimension/coluumn of Z has the most variance, the second dimension/coluumn has the second-most variance, etc. So most of the information is kept in the leading dimensions/columns, as promised."
   ]
  },
  {
   "cell_type": "code",
   "execution_count": 8,
   "metadata": {
    "collapsed": true
   },
   "outputs": [],
   "source": [
    "import numpy as np\n",
    "import pandas as pd\n",
    "from sklearn.decomposition import PCA\n",
    "import matplotlib.pyplot as plt"
   ]
  },
  {
   "cell_type": "code",
   "execution_count": 55,
   "metadata": {},
   "outputs": [],
   "source": [
    "# print (z.shape)\n",
    "# print (z.T)"
   ]
  },
  {
   "cell_type": "code",
   "execution_count": 50,
   "metadata": {},
   "outputs": [
    {
     "data": {
      "image/png": "[encoded data removed]",
      "text/plain": [
       "<matplotlib.figure.Figure at 0xcaec048>"
      ]
     },
     "metadata": {},
     "output_type": "display_data"
    }
   ],
   "source": [
    "pca = PCA()\n",
    "\n",
    "x = np.random.random((100,10)) # generate an N = 100, D = 10 random data matrix\n",
    "\n",
    "# 1. find the principal components which are the linear combiation of the origianl data dimensions. \n",
    "# The full set of principal components has the same number as the number of dimensions in the original dataset\n",
    "# 2. project the data to the span consists of the full set of principal components \n",
    "\n",
    "z = pca.fit_transform(x)\n",
    "\n",
    "# visualize the covariance of the principal components in z\n",
    "plt.imshow(np.cov(z.T))\n",
    "plt.show()"
   ]
  },
  {
   "cell_type": "code",
   "execution_count": 56,
   "metadata": {
    "collapsed": true
   },
   "outputs": [],
   "source": [
    "# PCA summary function - where the input variable pca is a PCA object\n",
    "\n",
    "def pca_summary(pca, standardised_data, out = True):\n",
    "    names = [\"PC\" + str(i) for i in range(1, len(pca.explained_variance_ratio_) +  1)]\n",
    "    \n",
    "    a = list(np.std(pca.transform(standardised_data), axis = 0))\n",
    "    \n",
    "    # the highest eigenvalue indicates the highest variance in the data was observed in the direction of its eigenvector\n",
    "    # The first principal component is calculated such that it accounts for the greatest possible variance in the data set.\n",
    "    b = list(pca.explained_variance_ratio_)\n",
    "    c = [np.sum(pca.explained_variance_ratio_[:i]) for i in range(1, len(pca.explained_variance_ratio_) + 1)]\n",
    "    \n",
    "    columns = pd.MultiIndex.from_tuples([(\"sdev\", \"Standard deviation\"), (\"varprop\", \"Proportion of Variance\"), (\"cumprop\", \"Cumulative Proportion\")])\n",
    "    summary = pd.DataFrame(list(zip(a, b, c)), index = names, columns = columns)\n",
    "    \n",
    "    if out:\n",
    "        print(\"Importance of components:\")\n",
    "#         display(summary)\n",
    "    \n",
    "    return summary"
   ]
  },
  {
   "cell_type": "code",
   "execution_count": null,
   "metadata": {},
   "outputs": [],
   "source": []
  },
  {
   "cell_type": "markdown",
   "metadata": {},
   "source": [
    "### the first PC preserves the greatest variance in the **projected** data "
   ]
  },
  {
   "cell_type": "code",
   "execution_count": 14,
   "metadata": {},
   "outputs": [
    {
     "name": "stdout",
     "output_type": "stream",
     "text": [
      "Importance of components:\n"
     ]
    },
    {
     "data": {
      "text/html": [
       "<div>\n",
       "<style>\n",
       "    .dataframe thead tr:only-child th {\n",
       "        text-align: right;\n",
       "    }\n",
       "\n",
       "    .dataframe thead th {\n",
       "        text-align: left;\n",
       "    }\n",
       "\n",
       "    .dataframe tbody tr th {\n",
       "        vertical-align: top;\n",
       "    }\n",
       "</style>\n",
       "<table border=\"1\" class=\"dataframe\">\n",
       "  <thead>\n",
       "    <tr>\n",
       "      <th></th>\n",
       "      <th>sdev</th>\n",
       "      <th>varprop</th>\n",
       "      <th>cumprop</th>\n",
       "    </tr>\n",
       "    <tr>\n",
       "      <th></th>\n",
       "      <th>Standard deviation</th>\n",
       "      <th>Proportion of Variance</th>\n",
       "      <th>Cumulative Proportion</th>\n",
       "    </tr>\n",
       "  </thead>\n",
       "  <tbody>\n",
       "    <tr>\n",
       "      <th>PC1</th>\n",
       "      <td>0.365495</td>\n",
       "      <td>0.163105</td>\n",
       "      <td>0.163105</td>\n",
       "    </tr>\n",
       "    <tr>\n",
       "      <th>PC2</th>\n",
       "      <td>0.346078</td>\n",
       "      <td>0.146235</td>\n",
       "      <td>0.309340</td>\n",
       "    </tr>\n",
       "    <tr>\n",
       "      <th>PC3</th>\n",
       "      <td>0.323277</td>\n",
       "      <td>0.127601</td>\n",
       "      <td>0.436941</td>\n",
       "    </tr>\n",
       "    <tr>\n",
       "      <th>PC4</th>\n",
       "      <td>0.292866</td>\n",
       "      <td>0.104723</td>\n",
       "      <td>0.541665</td>\n",
       "    </tr>\n",
       "    <tr>\n",
       "      <th>PC5</th>\n",
       "      <td>0.282906</td>\n",
       "      <td>0.097721</td>\n",
       "      <td>0.639386</td>\n",
       "    </tr>\n",
       "    <tr>\n",
       "      <th>PC6</th>\n",
       "      <td>0.270190</td>\n",
       "      <td>0.089134</td>\n",
       "      <td>0.728520</td>\n",
       "    </tr>\n",
       "    <tr>\n",
       "      <th>PC7</th>\n",
       "      <td>0.255617</td>\n",
       "      <td>0.079778</td>\n",
       "      <td>0.808298</td>\n",
       "    </tr>\n",
       "    <tr>\n",
       "      <th>PC8</th>\n",
       "      <td>0.240683</td>\n",
       "      <td>0.070729</td>\n",
       "      <td>0.879027</td>\n",
       "    </tr>\n",
       "    <tr>\n",
       "      <th>PC9</th>\n",
       "      <td>0.226149</td>\n",
       "      <td>0.062444</td>\n",
       "      <td>0.941471</td>\n",
       "    </tr>\n",
       "    <tr>\n",
       "      <th>PC10</th>\n",
       "      <td>0.218944</td>\n",
       "      <td>0.058529</td>\n",
       "      <td>1.000000</td>\n",
       "    </tr>\n",
       "  </tbody>\n",
       "</table>\n",
       "</div>"
      ],
      "text/plain": [
       "                   sdev                varprop               cumprop\n",
       "     Standard deviation Proportion of Variance Cumulative Proportion\n",
       "PC1            0.365495               0.163105              0.163105\n",
       "PC2            0.346078               0.146235              0.309340\n",
       "PC3            0.323277               0.127601              0.436941\n",
       "PC4            0.292866               0.104723              0.541665\n",
       "PC5            0.282906               0.097721              0.639386\n",
       "PC6            0.270190               0.089134              0.728520\n",
       "PC7            0.255617               0.079778              0.808298\n",
       "PC8            0.240683               0.070729              0.879027\n",
       "PC9            0.226149               0.062444              0.941471\n",
       "PC10           0.218944               0.058529              1.000000"
      ]
     },
     "execution_count": 14,
     "metadata": {},
     "output_type": "execute_result"
    }
   ],
   "source": [
    "pca = PCA().fit(x)\n",
    "summary = pca_summary(pca, x)\n",
    "summary"
   ]
  },
  {
   "cell_type": "code",
   "execution_count": 73,
   "metadata": {},
   "outputs": [
    {
     "name": "stdout",
     "output_type": "stream",
     "text": [
      "[ 0.35139917  0.3446172   0.31539382  0.29653823  0.28780787  0.27672789\n",
      "  0.26668363  0.23607789  0.22374838  0.20809888]\n",
      "0.35139917005\n"
     ]
    },
    {
     "data": {
      "text/plain": [
       "0.35139917004963794"
      ]
     },
     "execution_count": 73,
     "metadata": {},
     "output_type": "execute_result"
    }
   ],
   "source": [
    "print (np.std(pca.transform(x), axis = 0))\n",
    "print (np.std(pca.transform(x)[:, 0]))\n",
    "\n",
    "# the first PC preserves the greatest variance in the projected data \n",
    "onedim = PCA(n_components = 1).fit_transform(x)\n",
    "np.std(onedim)"
   ]
  },
  {
   "cell_type": "code",
   "execution_count": null,
   "metadata": {
    "collapsed": true
   },
   "outputs": [],
   "source": []
  },
  {
   "cell_type": "markdown",
   "metadata": {},
   "source": [
    "Observe that the off-diagonals are 0 and that the variances are in decreasing order.\n",
    "Can also confirm that QTQ=I."
   ]
  },
  {
   "cell_type": "code",
   "execution_count": 35,
   "metadata": {},
   "outputs": [
    {
     "data": {
      "text/plain": [
       "array([[ 0.40394425,  0.58413868,  0.28039281, -0.41928397,  0.12081918,\n",
       "        -0.01159679, -0.2694921 ,  0.02875673, -0.09772216,  0.3787579 ],\n",
       "       [ 0.55492668, -0.45315528,  0.17946532,  0.31313053, -0.3284494 ,\n",
       "        -0.27255056, -0.24114644,  0.17510041,  0.12453115,  0.26451003],\n",
       "       [-0.02374078, -0.04142466, -0.29339907,  0.10728489,  0.43180504,\n",
       "         0.01104663, -0.73780983, -0.16178221,  0.3537723 , -0.13363391],\n",
       "       [ 0.05166975, -0.29592019, -0.10532774, -0.18723837,  0.07257115,\n",
       "         0.73729121,  0.13167153,  0.09590025,  0.3105313 ,  0.4379275 ],\n",
       "       [ 0.1936411 , -0.45128959,  0.02354271, -0.30975952,  0.47318432,\n",
       "        -0.27350621,  0.22771445, -0.50511269, -0.20740137,  0.11669849],\n",
       "       [ 0.06384691,  0.22552556, -0.28174515,  0.63330954,  0.09851148,\n",
       "         0.16239397,  0.03796483, -0.290403  , -0.41983784,  0.4080259 ],\n",
       "       [-0.15134061,  0.10334498,  0.73085314,  0.37359898,  0.23501776,\n",
       "         0.06033835,  0.13908981, -0.25038929,  0.38908475,  0.01978765],\n",
       "       [ 0.155457  ,  0.28508117, -0.41570542,  0.0471406 ,  0.06938059,\n",
       "        -0.38503076,  0.43148787,  0.02349246,  0.58995975,  0.17798898],\n",
       "       [-0.41981704, -0.01605463, -0.02158093, -0.20127444, -0.54158205,\n",
       "        -0.15119388, -0.20715123, -0.519269  ,  0.14673726,  0.3636816 ],\n",
       "       [ 0.51064814,  0.13196306, -0.06809908, -0.01549855, -0.31438115,\n",
       "         0.32547643,  0.07607286, -0.51066901,  0.1144877 , -0.48218127]])"
      ]
     },
     "execution_count": 35,
     "metadata": {},
     "output_type": "execute_result"
    }
   ],
   "source": [
    "# show the full set of principal components \n",
    "pca.components_"
   ]
  },
  {
   "cell_type": "code",
   "execution_count": 29,
   "metadata": {},
   "outputs": [
    {
     "data": {
      "image/png": "[encoded data removed]",
      "text/plain": [
       "<matplotlib.figure.Figure at 0xca4a160>"
      ]
     },
     "metadata": {},
     "output_type": "display_data"
    },
    {
     "name": "stdout",
     "output_type": "stream",
     "text": [
      "[[ 1.  0.  0. -0. -0. -0.  0.  0.  0.  0.]\n",
      " [ 0.  1.  0.  0. -0. -0.  0.  0.  0.  0.]\n",
      " [ 0.  0.  1.  0.  0.  0.  0. -0. -0.  0.]\n",
      " [-0.  0.  0.  1.  0.  0. -0.  0.  0. -0.]\n",
      " [-0. -0.  0.  0.  1.  0.  0. -0.  0. -0.]\n",
      " [-0. -0.  0.  0.  0.  1. -0. -0. -0.  0.]\n",
      " [ 0.  0.  0. -0.  0. -0.  1. -0.  0. -0.]\n",
      " [ 0.  0. -0.  0. -0. -0. -0.  1.  0.  0.]\n",
      " [ 0.  0. -0.  0.  0. -0.  0.  0.  1.  0.]\n",
      " [ 0.  0.  0. -0. -0.  0. -0.  0.  0.  1.]]\n"
     ]
    }
   ],
   "source": [
    "QTQ = pca.components_.T.dot(pca.components_)\n",
    "plt.imshow(QTQ)\n",
    "plt.show()\n",
    "\n",
    "print (np.around(QTQ, decimals=2))"
   ]
  },
  {
   "cell_type": "code",
   "execution_count": null,
   "metadata": {
    "collapsed": true
   },
   "outputs": [],
   "source": []
  }
 ],
 "metadata": {
  "kernelspec": {
   "display_name": "Python 3",
   "language": "python",
   "name": "python3"
  },
  "language_info": {
   "codemirror_mode": {
    "name": "ipython",
    "version": 3
   },
   "file_extension": ".py",
   "mimetype": "text/x-python",
   "name": "python",
   "nbconvert_exporter": "python",
   "pygments_lexer": "ipython3",
   "version": "3.6.1"
  }
 },
 "nbformat": 4,
 "nbformat_minor": 2
}
