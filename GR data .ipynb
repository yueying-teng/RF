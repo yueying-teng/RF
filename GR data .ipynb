{
 "cells": [
  {
   "cell_type": "code",
   "execution_count": 3,
   "metadata": {
    "collapsed": true
   },
   "outputs": [],
   "source": [
    "# ls *.csv"
   ]
  },
  {
   "cell_type": "code",
   "execution_count": 1,
   "metadata": {
    "collapsed": true
   },
   "outputs": [],
   "source": [
    "import pandas as pd\n",
    "import numpy as np\n",
    "import scipy\n",
    "\n",
    "import matplotlib.pyplot as plt\n",
    "%matplotlib inline\n",
    "import seaborn as sns"
   ]
  },
  {
   "cell_type": "code",
   "execution_count": 2,
   "metadata": {
    "scrolled": false
   },
   "outputs": [
    {
     "data": {
      "text/html": [
       "<div>\n",
       "<style>\n",
       "    .dataframe thead tr:only-child th {\n",
       "        text-align: right;\n",
       "    }\n",
       "\n",
       "    .dataframe thead th {\n",
       "        text-align: left;\n",
       "    }\n",
       "\n",
       "    .dataframe tbody tr th {\n",
       "        vertical-align: top;\n",
       "    }\n",
       "</style>\n",
       "<table border=\"1\" class=\"dataframe\">\n",
       "  <thead>\n",
       "    <tr style=\"text-align: right;\">\n",
       "      <th></th>\n",
       "      <th>ddate</th>\n",
       "      <th>security_code</th>\n",
       "      <th>時価総額</th>\n",
       "      <th>売上</th>\n",
       "      <th>営業利益</th>\n",
       "      <th>純利益</th>\n",
       "      <th>総資産</th>\n",
       "      <th>現金･現金同等物</th>\n",
       "      <th>有価証券</th>\n",
       "      <th>流動資産</th>\n",
       "      <th>...</th>\n",
       "      <th>営業資産</th>\n",
       "      <th>営業負債</th>\n",
       "      <th>有形固定</th>\n",
       "      <th>使用資産</th>\n",
       "      <th>ROIC</th>\n",
       "      <th>EY</th>\n",
       "      <th>MAGIC</th>\n",
       "      <th>ROIC2</th>\n",
       "      <th>EY2</th>\n",
       "      <th>MKTCAP</th>\n",
       "    </tr>\n",
       "  </thead>\n",
       "  <tbody>\n",
       "    <tr>\n",
       "      <th>0</th>\n",
       "      <td>2000</td>\n",
       "      <td>2HRA</td>\n",
       "      <td>0.000</td>\n",
       "      <td>43.9143</td>\n",
       "      <td>3.2794</td>\n",
       "      <td>3.2482</td>\n",
       "      <td>34.0403</td>\n",
       "      <td>4.4293</td>\n",
       "      <td>1.0819</td>\n",
       "      <td>17.3527</td>\n",
       "      <td>...</td>\n",
       "      <td>11.8415</td>\n",
       "      <td>-9.3213</td>\n",
       "      <td>14.6434</td>\n",
       "      <td>17.1636</td>\n",
       "      <td>0.191067</td>\n",
       "      <td>inf</td>\n",
       "      <td>inf</td>\n",
       "      <td>0.133741</td>\n",
       "      <td>-0.792145</td>\n",
       "      <td>0.000</td>\n",
       "    </tr>\n",
       "    <tr>\n",
       "      <th>1</th>\n",
       "      <td>2000</td>\n",
       "      <td>A1OS</td>\n",
       "      <td>0.000</td>\n",
       "      <td>40.9510</td>\n",
       "      <td>0.2350</td>\n",
       "      <td>-0.7530</td>\n",
       "      <td>44.2850</td>\n",
       "      <td>1.7340</td>\n",
       "      <td>4.4300</td>\n",
       "      <td>19.6690</td>\n",
       "      <td>...</td>\n",
       "      <td>13.5050</td>\n",
       "      <td>-12.8700</td>\n",
       "      <td>12.8810</td>\n",
       "      <td>13.5160</td>\n",
       "      <td>0.017387</td>\n",
       "      <td>inf</td>\n",
       "      <td>inf</td>\n",
       "      <td>0.008256</td>\n",
       "      <td>0.183450</td>\n",
       "      <td>0.000</td>\n",
       "    </tr>\n",
       "    <tr>\n",
       "      <th>2</th>\n",
       "      <td>2000</td>\n",
       "      <td>AAA</td>\n",
       "      <td>0.000</td>\n",
       "      <td>10.9207</td>\n",
       "      <td>3.0013</td>\n",
       "      <td>2.0257</td>\n",
       "      <td>83.9710</td>\n",
       "      <td>0.0793</td>\n",
       "      <td>0.0000</td>\n",
       "      <td>0.0000</td>\n",
       "      <td>...</td>\n",
       "      <td>-0.0793</td>\n",
       "      <td>8.0549</td>\n",
       "      <td>78.5441</td>\n",
       "      <td>86.5197</td>\n",
       "      <td>0.034689</td>\n",
       "      <td>inf</td>\n",
       "      <td>inf</td>\n",
       "      <td>0.035742</td>\n",
       "      <td>0.064360</td>\n",
       "      <td>0.000</td>\n",
       "    </tr>\n",
       "    <tr>\n",
       "      <th>3</th>\n",
       "      <td>2000</td>\n",
       "      <td>AAD</td>\n",
       "      <td>91.902</td>\n",
       "      <td>34.2833</td>\n",
       "      <td>4.7588</td>\n",
       "      <td>2.6313</td>\n",
       "      <td>24.5565</td>\n",
       "      <td>17.7117</td>\n",
       "      <td>0.0000</td>\n",
       "      <td>21.2303</td>\n",
       "      <td>...</td>\n",
       "      <td>3.5186</td>\n",
       "      <td>-5.9551</td>\n",
       "      <td>1.2367</td>\n",
       "      <td>-1.1998</td>\n",
       "      <td>-3.966328</td>\n",
       "      <td>0.051781</td>\n",
       "      <td>-3.517914</td>\n",
       "      <td>0.280107</td>\n",
       "      <td>0.064143</td>\n",
       "      <td>91.902</td>\n",
       "    </tr>\n",
       "    <tr>\n",
       "      <th>4</th>\n",
       "      <td>2000</td>\n",
       "      <td>AAH</td>\n",
       "      <td>0.000</td>\n",
       "      <td>379.5033</td>\n",
       "      <td>31.3202</td>\n",
       "      <td>14.7845</td>\n",
       "      <td>264.9924</td>\n",
       "      <td>20.2257</td>\n",
       "      <td>0.9137</td>\n",
       "      <td>158.0551</td>\n",
       "      <td>...</td>\n",
       "      <td>136.9157</td>\n",
       "      <td>-43.4373</td>\n",
       "      <td>43.3560</td>\n",
       "      <td>136.8344</td>\n",
       "      <td>0.228891</td>\n",
       "      <td>inf</td>\n",
       "      <td>inf</td>\n",
       "      <td>0.149144</td>\n",
       "      <td>0.396824</td>\n",
       "      <td>0.000</td>\n",
       "    </tr>\n",
       "  </tbody>\n",
       "</table>\n",
       "<p>5 rows × 76 columns</p>\n",
       "</div>"
      ],
      "text/plain": [
       "   ddate security_code    時価総額        売上     営業利益      純利益       総資産  \\\n",
       "0   2000          2HRA   0.000   43.9143   3.2794   3.2482   34.0403   \n",
       "1   2000          A1OS   0.000   40.9510   0.2350  -0.7530   44.2850   \n",
       "2   2000           AAA   0.000   10.9207   3.0013   2.0257   83.9710   \n",
       "3   2000           AAD  91.902   34.2833   4.7588   2.6313   24.5565   \n",
       "4   2000           AAH   0.000  379.5033  31.3202  14.7845  264.9924   \n",
       "\n",
       "   現金･現金同等物    有価証券      流動資産   ...        営業資産     営業負債     有形固定      使用資産  \\\n",
       "0    4.4293  1.0819   17.3527   ...     11.8415  -9.3213  14.6434   17.1636   \n",
       "1    1.7340  4.4300   19.6690   ...     13.5050 -12.8700  12.8810   13.5160   \n",
       "2    0.0793  0.0000    0.0000   ...     -0.0793   8.0549  78.5441   86.5197   \n",
       "3   17.7117  0.0000   21.2303   ...      3.5186  -5.9551   1.2367   -1.1998   \n",
       "4   20.2257  0.9137  158.0551   ...    136.9157 -43.4373  43.3560  136.8344   \n",
       "\n",
       "       ROIC        EY     MAGIC     ROIC2       EY2  MKTCAP  \n",
       "0  0.191067       inf       inf  0.133741 -0.792145   0.000  \n",
       "1  0.017387       inf       inf  0.008256  0.183450   0.000  \n",
       "2  0.034689       inf       inf  0.035742  0.064360   0.000  \n",
       "3 -3.966328  0.051781 -3.517914  0.280107  0.064143  91.902  \n",
       "4  0.228891       inf       inf  0.149144  0.396824   0.000  \n",
       "\n",
       "[5 rows x 76 columns]"
      ]
     },
     "execution_count": 2,
     "metadata": {},
     "output_type": "execute_result"
    }
   ],
   "source": [
    "raw = pd.read_csv('MKTCAP_GR.csv', encoding = 'cp932').dropna()\n",
    "raw.head()"
   ]
  },
  {
   "cell_type": "code",
   "execution_count": 3,
   "metadata": {},
   "outputs": [
    {
     "name": "stdout",
     "output_type": "stream",
     "text": [
      "3290\n"
     ]
    },
    {
     "data": {
      "text/html": [
       "<div>\n",
       "<style>\n",
       "    .dataframe thead tr:only-child th {\n",
       "        text-align: right;\n",
       "    }\n",
       "\n",
       "    .dataframe thead th {\n",
       "        text-align: left;\n",
       "    }\n",
       "\n",
       "    .dataframe tbody tr th {\n",
       "        vertical-align: top;\n",
       "    }\n",
       "</style>\n",
       "<table border=\"1\" class=\"dataframe\">\n",
       "  <thead>\n",
       "    <tr style=\"text-align: right;\">\n",
       "      <th></th>\n",
       "      <th>ddate</th>\n",
       "      <th>security_code</th>\n",
       "      <th>時価総額</th>\n",
       "      <th>売上</th>\n",
       "      <th>営業利益</th>\n",
       "      <th>純利益</th>\n",
       "      <th>総資産</th>\n",
       "      <th>現金･現金同等物</th>\n",
       "      <th>有価証券</th>\n",
       "      <th>流動資産</th>\n",
       "      <th>...</th>\n",
       "      <th>営業資産</th>\n",
       "      <th>営業負債</th>\n",
       "      <th>有形固定</th>\n",
       "      <th>使用資産</th>\n",
       "      <th>ROIC</th>\n",
       "      <th>EY</th>\n",
       "      <th>MAGIC</th>\n",
       "      <th>ROIC2</th>\n",
       "      <th>EY2</th>\n",
       "      <th>MKTCAP</th>\n",
       "    </tr>\n",
       "  </thead>\n",
       "  <tbody>\n",
       "  </tbody>\n",
       "</table>\n",
       "<p>0 rows × 76 columns</p>\n",
       "</div>"
      ],
      "text/plain": [
       "Empty DataFrame\n",
       "Columns: [ddate, security_code, 時価総額, 売上, 営業利益, 純利益, 総資産, 現金･現金同等物, 有価証券, 流動資産, 総長期投資, 有形固定資産, 短期借入金, 長期借入金, 流動負債, 無形資産, 未払税金, 短期繰延税金資産, 敷金及び保証金, 賞与引当金, 決算発表日, 長期貸付金, 従業員数, 剰余金の配当, 自己株式の取得, 自己株式の消却, 新株の発行, 売上総利益, 土地1, 土地2, 売掛金, 棚卸, 買掛金, のれん･営業権, 貸倒引当金, 剰余金, 資本金, 経常利益, 売上原価, 負債合計, 自己資本, 未払費用, 長期繰延税金負債, 長期社債(当期返済分), 長期借入金(当期返済分), 少数持分, 自己株金額, 人件費, 税引前利益, 非流動資産合計, 自己株式数, 発行済株式数, 流動資産その他, 投資資産, 無形資産その他, 投資資産その他, 流動負債その他, 固定負債, 固定負債その他, 自己資本その他, 株主資本, 販管費, 売上総利益率, 営業利益率, 株主還元, 純現金資産, 営業資産, 営業負債, 有形固定, 使用資産, ROIC, EY, MAGIC, ROIC2, EY2, MKTCAP]\n",
       "Index: []\n",
       "\n",
       "[0 rows x 76 columns]"
      ]
     },
     "execution_count": 3,
     "metadata": {},
     "output_type": "execute_result"
    }
   ],
   "source": [
    "## any company with zero MKTCAP\n",
    "\n",
    "zeromc = raw[raw['MKTCAP'] == 0]\n",
    "print (zeromc.shape[0])\n",
    "\n",
    "# remove the comapnies with zero MKTCAP\n",
    "raw2 = raw[raw['MKTCAP'] != 0]\n",
    "\n",
    "raw2[raw2['MKTCAP'] == 0]"
   ]
  },
  {
   "cell_type": "code",
   "execution_count": 4,
   "metadata": {
    "collapsed": true
   },
   "outputs": [],
   "source": [
    "# raw.groupby('ddate').count()"
   ]
  },
  {
   "cell_type": "code",
   "execution_count": 21,
   "metadata": {},
   "outputs": [
    {
     "name": "stdout",
     "output_type": "stream",
     "text": [
      "(271, 65)\n"
     ]
    }
   ],
   "source": [
    "## deal with time - only consider one year 2014 first. Feature from 2014 and MKTCAP in 2015   \n",
    "\n",
    "# remove all zero columns. i.e. keep columns that have more than one zero values \n",
    "data = raw2.loc[:, (raw2 != 0).any(axis = 0)]\n",
    "\n",
    "# only keep the companeis that exist in both 2014 and 2015\n",
    "x_2014= data[data['ddate'] == 2014].drop('MKTCAP', axis = 1)\n",
    "y_2015 = data[data['ddate'] == 2015][['security_code','MKTCAP']]\n",
    "\n",
    "data2 = pd.merge(x_2014, y_2015, how = 'inner', on = ['security_code'])\n",
    "print (data2.shape)\n",
    "\n",
    "# get feature dataframe and dependent variable dataframe \n",
    "x = data2.loc[:, '売上':'使用資産']\n",
    " \n",
    "y = data2.loc[:, 'MKTCAP']\n"
   ]
  },
  {
   "cell_type": "code",
   "execution_count": null,
   "metadata": {
    "collapsed": true
   },
   "outputs": [],
   "source": []
  },
  {
   "cell_type": "code",
   "execution_count": 18,
   "metadata": {},
   "outputs": [
    {
     "data": {
      "image/png": "[encoded data removed]",
      "text/plain": [
       "<matplotlib.figure.Figure at 0xc933be0>"
      ]
     },
     "metadata": {},
     "output_type": "display_data"
    }
   ],
   "source": [
    "### scatter plot of companies and their corresponding MKTCAP (2014, 2015)\n",
    "\n",
    "fig = plt.figure(figsize = (10, 10))\n",
    "\n",
    "num = len(data2['security_code'])\n",
    "x_plot = np.arange(num)\n",
    "y_plot = data2['MKTCAP']\n",
    "my_xticks = list(data2['security_code'].values)\n",
    "\n",
    "plt.xticks(x_plot, my_xticks)\n",
    "plt.scatter(x_plot, y_plot)\n",
    "\n",
    "plt.ylabel('MKTCAP')\n",
    "plt.xlabel('company tickers')\n",
    "\n",
    "plt.show()"
   ]
  },
  {
   "cell_type": "code",
   "execution_count": 22,
   "metadata": {},
   "outputs": [
    {
     "data": {
      "text/plain": [
       "count      271.000000\n",
       "mean      2723.937347\n",
       "std      11714.105797\n",
       "min          0.165000\n",
       "25%         13.784885\n",
       "50%         58.970100\n",
       "75%        369.758614\n",
       "max      86647.190018\n",
       "Name: MKTCAP, dtype: float64"
      ]
     },
     "execution_count": 22,
     "metadata": {},
     "output_type": "execute_result"
    }
   ],
   "source": [
    "data2['MKTCAP'].describe()"
   ]
  },
  {
   "cell_type": "code",
   "execution_count": 8,
   "metadata": {
    "scrolled": true
   },
   "outputs": [
    {
     "name": "stdout",
     "output_type": "stream",
     "text": [
      "271\n",
      "46\n"
     ]
    },
    {
     "data": {
      "text/html": [
       "<div>\n",
       "<style>\n",
       "    .dataframe thead tr:only-child th {\n",
       "        text-align: right;\n",
       "    }\n",
       "\n",
       "    .dataframe thead th {\n",
       "        text-align: left;\n",
       "    }\n",
       "\n",
       "    .dataframe tbody tr th {\n",
       "        vertical-align: top;\n",
       "    }\n",
       "</style>\n",
       "<table border=\"1\" class=\"dataframe\">\n",
       "  <thead>\n",
       "    <tr style=\"text-align: right;\">\n",
       "      <th></th>\n",
       "      <th>security_code</th>\n",
       "      <th>時価総額</th>\n",
       "      <th>MKTCAP</th>\n",
       "    </tr>\n",
       "  </thead>\n",
       "  <tbody>\n",
       "    <tr>\n",
       "      <th>18</th>\n",
       "      <td>AFX</td>\n",
       "      <td>1668.9609</td>\n",
       "      <td>2230.973000</td>\n",
       "    </tr>\n",
       "    <tr>\n",
       "      <th>33</th>\n",
       "      <td>BAS</td>\n",
       "      <td>78409.6111</td>\n",
       "      <td>55934.432700</td>\n",
       "    </tr>\n",
       "    <tr>\n",
       "      <th>34</th>\n",
       "      <td>BAYN</td>\n",
       "      <td>108753.5797</td>\n",
       "      <td>79066.134100</td>\n",
       "    </tr>\n",
       "    <tr>\n",
       "      <th>36</th>\n",
       "      <td>BDT</td>\n",
       "      <td>1166.9798</td>\n",
       "      <td>1098.651052</td>\n",
       "    </tr>\n",
       "    <tr>\n",
       "      <th>37</th>\n",
       "      <td>BEI</td>\n",
       "      <td>18984.6716</td>\n",
       "      <td>17815.017820</td>\n",
       "    </tr>\n",
       "  </tbody>\n",
       "</table>\n",
       "</div>"
      ],
      "text/plain": [
       "   security_code         時価総額        MKTCAP\n",
       "18           AFX    1668.9609   2230.973000\n",
       "33           BAS   78409.6111  55934.432700\n",
       "34          BAYN  108753.5797  79066.134100\n",
       "36           BDT    1166.9798   1098.651052\n",
       "37           BEI   18984.6716  17815.017820"
      ]
     },
     "execution_count": 8,
     "metadata": {},
     "output_type": "execute_result"
    }
   ],
   "source": [
    "# look into companies with MKTCAP greater than 10000\n",
    "# ALLDF['MKTCAP'] = ALLDF['時価総額']*(ALLDF['発行済株式数'] - ALLDF['自己株式数']) / ALLDF['発行済株式数']\n",
    "# this adjusted MKTCAP is saved to csv and used as dependent variable here \n",
    "\n",
    "print (data2.shape[0])\n",
    "data2[data2['MKTCAP'] > 1000]['security_code']\n",
    "\n",
    "mega = data2[data2['MKTCAP'] > 1000][['security_code', '時価総額', 'MKTCAP']]\n",
    "print (mega.shape[0])\n",
    "mega.head()"
   ]
  },
  {
   "cell_type": "code",
   "execution_count": 9,
   "metadata": {
    "collapsed": true
   },
   "outputs": [],
   "source": [
    "## consider about building two models; one for the few mega companies, the other for relatively regular companies "
   ]
  },
  {
   "cell_type": "code",
   "execution_count": 17,
   "metadata": {},
   "outputs": [
    {
     "data": {
      "image/png": "[encoded data removed]",
      "text/plain": [
       "<matplotlib.figure.Figure at 0xc8a6c50>"
      ]
     },
     "metadata": {},
     "output_type": "display_data"
    }
   ],
   "source": [
    "### scatter plot of megea companies and their corresponding MKTCAP (2014, 2015)\n",
    "\n",
    "fig = plt.figure(figsize = (10, 10))\n",
    "\n",
    "num = len(mega['security_code'])\n",
    "x_plot = np.arange(num)\n",
    "y_plot = mega['MKTCAP']\n",
    "my_xticks = list(mega['security_code'].values)\n",
    "\n",
    "plt.xticks(x_plot, my_xticks)\n",
    "plt.scatter(x_plot, y_plot)\n",
    "\n",
    "plt.ylabel('MKTCAP')\n",
    "plt.xlabel('company tickers')\n",
    "\n",
    "plt.show()"
   ]
  },
  {
   "cell_type": "code",
   "execution_count": null,
   "metadata": {
    "collapsed": true
   },
   "outputs": [],
   "source": []
  },
  {
   "cell_type": "code",
   "execution_count": null,
   "metadata": {
    "collapsed": true
   },
   "outputs": [],
   "source": []
  },
  {
   "cell_type": "code",
   "execution_count": null,
   "metadata": {
    "collapsed": true
   },
   "outputs": [],
   "source": []
  },
  {
   "cell_type": "markdown",
   "metadata": {},
   "source": [
    "### pearson correlation coefficients r assumptions\n",
    "- normally distributed data, at least approximatly \n",
    "- homoscedasticity of data \n",
    "- outlisers should be adjusted as the test is sensitive to outliers \n",
    "- data should be either interval or ratio measurements\n",
    "- the underlying relationship between the two variables should be linear  \n",
    "\n",
    "-- variables do not have to be of the same unit. i.e. the test can be used to measure correlaion bewteen age and blood pressure \n",
    "\n",
    "### use the pearson r to check if the data fields are linearly correlated\n",
    "- this test does not imply causality "
   ]
  },
  {
   "cell_type": "markdown",
   "metadata": {},
   "source": [
    "### Spearman correlation \n",
    "turns out the data does not follow the normality assumption, use more robust correlation test\n",
    "- The Spearman correlation is a nonparametric measure of the linear relationship between two datasets. Unlike the Pearson correlation, the Spearman correlation does not assume that both datasets are normally distributed. \n",
    "- Like other correlation coefficients, this one varies between -1 and +1 with 0 implying no correlation. Correlations of -1 or +1 imply an exact linear relationship. Positive correlations imply that as x increases, so does y. Negative correlations imply that as x increases, y decreases."
   ]
  },
  {
   "cell_type": "code",
   "execution_count": 103,
   "metadata": {},
   "outputs": [],
   "source": [
    "from scipy.stats.mstats import spearmanr as spearmanr\n",
    "\n",
    "# complete set of data \n",
    "\n",
    "num = len(x.columns)\n",
    "# matrix of test of correlation \n",
    "corr = np.zeros((x.shape[1], x.shape[1]))\n",
    "# matrix of test of p-value\n",
    "pmat = np.zeros((x.shape[1], x.shape[1]))\n",
    "\n",
    "for i in range(num):\n",
    "    for j in range(num):\n",
    "        corr[i, j] = spearmanr(x.loc[:, x.columns[i]], x.loc[:, x.columns[j]]).correlation\n",
    "        pmat[i, j] = spearmanr(x.loc[:, x.columns[i]], x.loc[:, x.columns[j]]).pvalue\n",
    "        "
   ]
  },
  {
   "cell_type": "code",
   "execution_count": 100,
   "metadata": {
    "collapsed": true
   },
   "outputs": [],
   "source": [
    "# mega comapny data \n",
    "mega = data2[data2['MKTCAP'] > 1000]"
   ]
  },
  {
   "cell_type": "code",
   "execution_count": 107,
   "metadata": {},
   "outputs": [
    {
     "name": "stdout",
     "output_type": "stream",
     "text": [
      "[ 7  5  7  6  6  9  7  8  7  3  7  6  2 35 45 44  6  6 33  5  7  6  3  3  7\n",
      "  6  3  5  7 27  4 22  5  9  7  4  5  9  5  6  4  3  3  6  5  6 52  7 42  7\n",
      "  9 25  4  6  7  6]\n",
      "56\n"
     ]
    },
    {
     "data": {
      "text/plain": [
       "Index(['未払税金', '短期繰延税金資産', '長期貸付金', '土地2', '未払費用', '自己資本その他', '販管費', '純現金資産'], dtype='object')"
      ]
     },
     "execution_count": 107,
     "metadata": {},
     "output_type": "execute_result"
    }
   ],
   "source": [
    "# matrix of p-values \n",
    "# varibales that are not correlated should ahve p-vlaues greater than 0.05 \n",
    "# sum(pmat > 0.05)\n",
    "\n",
    "# for each row, number of p-values greater than 0.05, numebr of variables that are NOT correlated with the row variable  \n",
    "print (np.sum((pmat > 0.05), axis = 1))\n",
    "# sure they are the same. the matrix is symmetric along the diagonal\n",
    "np.sum((pmat > 0.05), axis = 0)\n",
    "\n",
    "unco = np.sum((pmat > 0.05), axis = 1)\n",
    "\n",
    "# row variable names with the higher amount of UNcorrelated variables \n",
    "print (len(x.columns))\n",
    "x.columns[unco > 22]"
   ]
  },
  {
   "cell_type": "code",
   "execution_count": 105,
   "metadata": {},
   "outputs": [
    {
     "data": {
      "text/plain": [
       "array([49, 51, 49, 50, 50, 47, 49, 48, 49, 53, 49, 50, 54, 21, 11, 12, 50,\n",
       "       50, 23, 51, 49, 50, 53, 53, 49, 50, 53, 51, 49, 29, 52, 34, 51, 47,\n",
       "       49, 52, 51, 47, 51, 50, 52, 53, 53, 50, 51, 50,  4, 49, 14, 49, 47,\n",
       "       31, 52, 50, 49, 50])"
      ]
     },
     "execution_count": 105,
     "metadata": {},
     "output_type": "execute_result"
    }
   ],
   "source": [
    "# variables correlated with each outher  \n",
    "np.sum((pmat < 0.05), axis = 1)"
   ]
  },
  {
   "cell_type": "markdown",
   "metadata": {},
   "source": [
    "## how to tackle multicollinearity\n",
    "## multicollinearity and LASSO"
   ]
  },
  {
   "cell_type": "code",
   "execution_count": null,
   "metadata": {
    "collapsed": true
   },
   "outputs": [],
   "source": []
  },
  {
   "cell_type": "code",
   "execution_count": null,
   "metadata": {
    "collapsed": true
   },
   "outputs": [],
   "source": []
  },
  {
   "cell_type": "code",
   "execution_count": null,
   "metadata": {
    "collapsed": true
   },
   "outputs": [],
   "source": []
  },
  {
   "cell_type": "markdown",
   "metadata": {},
   "source": [
    "### approximate normality\n",
    "- histogram of the variables\n",
    "- scipy.stats.kstest for two sided  Kolmogorov-Smirnov test for goodness of fit"
   ]
  },
  {
   "cell_type": "code",
   "execution_count": 24,
   "metadata": {},
   "outputs": [
    {
     "data": {
      "text/plain": [
       "Index(['売上', '営業利益', '純利益', '総資産', '現金･現金同等物', '有価証券', '流動資産', '総長期投資',\n",
       "       '有形固定資産', '短期借入金', '長期借入金', '流動負債', '無形資産', '未払税金', '短期繰延税金資産', '長期貸付金',\n",
       "       '従業員数', '売上総利益', '土地2', '売掛金', '棚卸', '買掛金', 'のれん･営業権', '貸倒引当金', '剰余金',\n",
       "       '資本金', '売上原価', '負債合計', '自己資本', '未払費用', '長期繰延税金負債', '長期借入金(当期返済分)',\n",
       "       '少数持分', '自己株金額', '人件費', '税引前利益', '非流動資産合計', '自己株式数', '発行済株式数',\n",
       "       '流動資産その他', '投資資産', '無形資産その他', '投資資産その他', '流動負債その他', '固定負債', '固定負債その他',\n",
       "       '自己資本その他', '株主資本', '販管費', '売上総利益率', '営業利益率', '純現金資産', '営業資産', '営業負債',\n",
       "       '有形固定', '使用資産'],\n",
       "      dtype='object')"
      ]
     },
     "execution_count": 24,
     "metadata": {},
     "output_type": "execute_result"
    }
   ],
   "source": [
    "x.columns"
   ]
  },
  {
   "cell_type": "markdown",
   "metadata": {},
   "source": [
    "### Normality "
   ]
  },
  {
   "cell_type": "code",
   "execution_count": 25,
   "metadata": {},
   "outputs": [
    {
     "name": "stdout",
     "output_type": "stream",
     "text": [
      "KstestResult(statistic=0.91392885933899781, pvalue=0.0)\n",
      "KstestResult(statistic=0.53810777610904781, pvalue=0.0)\n",
      "KstestResult(statistic=0.42848045225222553, pvalue=0.0)\n",
      "KstestResult(statistic=0.95691637809805707, pvalue=0.0)\n",
      "KstestResult(statistic=0.68912170673971951, pvalue=0.0)\n",
      "KstestResult(statistic=0.5, pvalue=0.0)\n",
      "KstestResult(statistic=0.87835184050884507, pvalue=0.0)\n",
      "KstestResult(statistic=0.5, pvalue=0.0)\n",
      "KstestResult(statistic=0.67761722253998724, pvalue=0.0)\n",
      "KstestResult(statistic=0.51294556365942601, pvalue=0.0)\n",
      "KstestResult(statistic=0.56883607694190086, pvalue=0.0)\n",
      "KstestResult(statistic=0.83950428135695077, pvalue=0.0)\n",
      "KstestResult(statistic=0.58996821262253607, pvalue=0.0)\n",
      "KstestResult(statistic=0.5, pvalue=0.0)\n",
      "KstestResult(statistic=0.5, pvalue=0.0)\n",
      "KstestResult(statistic=0.5, pvalue=0.0)\n",
      "KstestResult(statistic=0.92985762765115587, pvalue=0.0)\n",
      "KstestResult(statistic=0.49261992619926198, pvalue=0.0)\n",
      "KstestResult(statistic=0.5, pvalue=0.0)\n",
      "KstestResult(statistic=0.68225523191485105, pvalue=0.0)\n",
      "KstestResult(statistic=0.54139025869434043, pvalue=0.0)\n",
      "KstestResult(statistic=0.59915123282608529, pvalue=0.0)\n",
      "KstestResult(statistic=0.5, pvalue=0.0)\n",
      "KstestResult(statistic=0.5, pvalue=0.0)\n",
      "KstestResult(statistic=0.59317904848250214, pvalue=0.0)\n",
      "KstestResult(statistic=0.91804681809843669, pvalue=0.0)\n",
      "KstestResult(statistic=0.5, pvalue=0.0)\n",
      "KstestResult(statistic=0.91374187902663606, pvalue=0.0)\n",
      "KstestResult(statistic=0.84134042636076734, pvalue=0.0)\n",
      "KstestResult(statistic=0.5, pvalue=0.0)\n",
      "KstestResult(statistic=0.5, pvalue=0.0)\n",
      "KstestResult(statistic=0.5, pvalue=0.0)\n",
      "KstestResult(statistic=0.44305754202769959, pvalue=0.0)\n",
      "KstestResult(statistic=0.5, pvalue=0.0)\n",
      "KstestResult(statistic=0.80886265396295964, pvalue=0.0)\n",
      "KstestResult(statistic=0.48460384924693534, pvalue=0.0)\n",
      "KstestResult(statistic=0.80553189910791612, pvalue=0.0)\n",
      "KstestResult(statistic=0.5, pvalue=0.0)\n",
      "KstestResult(statistic=0.84555211988141332, pvalue=0.0)\n",
      "KstestResult(statistic=0.58316714542084513, pvalue=0.0)\n",
      "KstestResult(statistic=0.55730833696821613, pvalue=0.0)\n",
      "KstestResult(statistic=0.5, pvalue=0.0)\n",
      "KstestResult(statistic=0.43863303817530908, pvalue=0.0)\n",
      "KstestResult(statistic=0.6938497139960782, pvalue=0.0)\n",
      "KstestResult(statistic=0.7687628861211544, pvalue=0.0)\n",
      "KstestResult(statistic=0.62006744901101196, pvalue=0.0)\n",
      "KstestResult(statistic=0.49996010577201938, pvalue=0.0)\n",
      "KstestResult(statistic=0.84134042636076734, pvalue=0.0)\n",
      "KstestResult(statistic=0.35729596799096663, pvalue=0.0)\n",
      "KstestResult(statistic=0.49261992619926198, pvalue=0.0)\n",
      "KstestResult(statistic=0.34169178451624482, pvalue=0.0)\n",
      "KstestResult(statistic=0.44779286527713247, pvalue=0.0)\n",
      "KstestResult(statistic=0.8338859335347184, pvalue=0.0)\n",
      "KstestResult(statistic=0.81074500312898479, pvalue=0.0)\n",
      "KstestResult(statistic=0.68154806687150837, pvalue=0.0)\n",
      "KstestResult(statistic=0.73209236480920681, pvalue=0.0)\n"
     ]
    }
   ],
   "source": [
    "from scipy import stats \n",
    "\n",
    "## none of the variables are actually noramlly distributed, probably due to the outliers  \n",
    "\n",
    "# two sided ks test for all data fields\n",
    "for i in range(x.shape[1]):\n",
    "\n",
    "    print (stats.kstest(x.iloc[:, i], 'norm', alternative='two-sided'))"
   ]
  },
  {
   "cell_type": "code",
   "execution_count": 26,
   "metadata": {
    "collapsed": true
   },
   "outputs": [],
   "source": [
    "# study the relative values of the statistics, group them and study hte corresponding variables ?"
   ]
  },
  {
   "cell_type": "code",
   "execution_count": null,
   "metadata": {
    "collapsed": true
   },
   "outputs": [],
   "source": []
  },
  {
   "cell_type": "code",
   "execution_count": null,
   "metadata": {
    "collapsed": true
   },
   "outputs": [],
   "source": []
  },
  {
   "cell_type": "markdown",
   "metadata": {},
   "source": [
    "### Summary Statistics"
   ]
  },
  {
   "cell_type": "code",
   "execution_count": 49,
   "metadata": {},
   "outputs": [
    {
     "data": {
      "text/plain": [
       "Index(['営業利益', '純利益', '売上総利益', '貸倒引当金', '剰余金', '売上原価', '自己資本', '少数持分', '自己株金額',\n",
       "       '人件費', '税引前利益', '流動資産その他', '投資資産', '投資資産その他', '流動負債その他', '固定負債その他',\n",
       "       '自己資本その他', '株主資本', '販管費', '売上総利益率', '営業利益率', '純現金資産', '営業資産', '営業負債',\n",
       "       '使用資産'],\n",
       "      dtype='object')"
      ]
     },
     "execution_count": 49,
     "metadata": {},
     "output_type": "execute_result"
    }
   ],
   "source": [
    "# any data fields/ columns with negative values \n",
    "\n",
    "x = data2.loc[:, '売上':'使用資産']\n",
    "y = data2.loc[:, 'MKTCAP']\n",
    "\n",
    "data2.loc[:, '売上':'使用資産'].columns[(data2.loc[:, '売上':'使用資産'] < 0).any(axis = 0)]"
   ]
  },
  {
   "cell_type": "code",
   "execution_count": 52,
   "metadata": {},
   "outputs": [
    {
     "name": "stdout",
     "output_type": "stream",
     "text": [
      "売上               3057.080892\n",
      "営業利益              245.474306\n",
      "純利益               168.424075\n",
      "総資産              4488.682759\n",
      "現金･現金同等物          283.548746\n",
      "有価証券               94.012504\n",
      "流動資産             1683.240739\n",
      "総長期投資             467.338972\n",
      "有形固定資産            922.562942\n",
      "短期借入金             454.933175\n",
      "長期借入金            1011.453511\n",
      "流動負債             1401.166438\n",
      "無形資産             1025.689268\n",
      "未払税金                0.041295\n",
      "短期繰延税金資産            2.322470\n",
      "長期貸付金               0.224875\n",
      "従業員数            10569.099631\n",
      "売上総利益             736.190614\n",
      "土地2                 2.629742\n",
      "売掛金               667.135163\n",
      "棚卸                435.690765\n",
      "買掛金               309.049764\n",
      "のれん･営業権           551.860806\n",
      "貸倒引当金             -15.615706\n",
      "剰余金               760.538892\n",
      "資本金               535.968935\n",
      "売上原価             -452.769693\n",
      "負債合計             3138.444337\n",
      "自己資本             1349.603889\n",
      "未払費用                0.346527\n",
      "長期繰延税金負債           83.282887\n",
      "長期借入金(当期返済分)        4.038228\n",
      "少数持分               79.947181\n",
      "自己株金額             -26.898820\n",
      "人件費              -625.625901\n",
      "税引前利益             233.395438\n",
      "非流動資産合計          2780.663630\n",
      "自己株式数               0.707912\n",
      "発行済株式数             77.616371\n",
      "流動資産その他           216.146798\n",
      "投資資産              832.411420\n",
      "無形資産その他           473.828462\n",
      "投資資産その他           364.847573\n",
      "流動負債その他           632.798744\n",
      "固定負債             1737.277899\n",
      "固定負債その他           642.541501\n",
      "自己資本その他             0.047701\n",
      "株主資本             1349.556188\n",
      "販管費              -490.716309\n",
      "売上総利益率              0.089251\n",
      "営業利益率              -1.990836\n",
      "純現金資産            -625.524693\n",
      "営業資産             1303.357019\n",
      "営業負債             -942.195034\n",
      "有形固定              922.787817\n",
      "使用資産             1283.949802\n",
      "dtype: float64\n"
     ]
    }
   ],
   "source": [
    "# mean and variance for each data fields\n",
    "\n",
    "print (np.mean(x, axis = 0))"
   ]
  },
  {
   "cell_type": "code",
   "execution_count": 53,
   "metadata": {},
   "outputs": [
    {
     "name": "stdout",
     "output_type": "stream",
     "text": [
      "売上              2.776059e+08\n",
      "営業利益            1.657006e+06\n",
      "純利益             9.346157e+05\n",
      "総資産             7.285484e+08\n",
      "現金･現金同等物        2.261173e+06\n",
      "有価証券            6.315647e+05\n",
      "流動資産            1.021746e+08\n",
      "総長期投資           2.065486e+07\n",
      "有形固定資産          2.812307e+07\n",
      "短期借入金           1.828184e+07\n",
      "長期借入金           3.626036e+07\n",
      "流動負債            8.944936e+07\n",
      "無形資産            3.288293e+07\n",
      "未払税金            2.158005e-01\n",
      "短期繰延税金資産        7.550163e+02\n",
      "長期貸付金           3.602421e+00\n",
      "従業員数            2.578928e+09\n",
      "売上総利益           1.498106e+07\n",
      "土地2             1.083008e+03\n",
      "売掛金             1.831505e+07\n",
      "棚卸              6.943591e+06\n",
      "買掛金             2.681790e+06\n",
      "のれん･営業権         8.432835e+06\n",
      "貸倒引当金           9.806233e+03\n",
      "剰余金             3.833971e+07\n",
      "資本金             1.676357e+07\n",
      "売上原価            6.145792e+06\n",
      "負債合計            3.979778e+08\n",
      "自己資本            5.153378e+07\n",
      "未払費用            1.401875e+01\n",
      "長期繰延税金負債        3.533151e+05\n",
      "長期借入金(当期返済分)    2.251959e+03\n",
      "少数持分            4.566243e+05\n",
      "自己株金額           6.101172e+04\n",
      "人件費             9.805024e+06\n",
      "税引前利益           1.777193e+06\n",
      "非流動資産合計         2.914251e+08\n",
      "自己株式数           1.627268e+01\n",
      "発行済株式数          1.293865e+05\n",
      "流動資産その他         1.485955e+06\n",
      "投資資産            5.846957e+07\n",
      "無形資産その他         1.095860e+07\n",
      "投資資産その他         1.091592e+07\n",
      "流動負債その他         1.539089e+07\n",
      "固定負債            1.137463e+08\n",
      "固定負債その他         1.861337e+07\n",
      "自己資本その他         3.097333e-01\n",
      "株主資本            5.153391e+07\n",
      "販管費             6.773695e+06\n",
      "売上総利益率          3.658899e-02\n",
      "営業利益率           9.151033e+02\n",
      "純現金資産           1.714668e+07\n",
      "営業資産            6.257144e+07\n",
      "営業負債            3.001091e+07\n",
      "有形固定            2.812269e+07\n",
      "使用資産            5.808045e+07\n",
      "dtype: float64\n"
     ]
    }
   ],
   "source": [
    "# varince for all data fields \n",
    "\n",
    "print (np.var(x, axis = 0))"
   ]
  },
  {
   "cell_type": "code",
   "execution_count": 60,
   "metadata": {},
   "outputs": [],
   "source": [
    "# mean and variance for each data fields after standerdization of the independent variables\n",
    "# create a new df to store the standerdized variables\n",
    "\n",
    "from sklearn.preprocessing import scale \n",
    "\n",
    "stdx = scale(x)\n",
    "stdx = pd.DataFrame(stdx, index = x.index, columns = x.columns)\n",
    "\n",
    "# mean and varince should be 0 and 1 after standerdization \n",
    "# print (np.mean(stdx, axis = 0))\n",
    "# print (np.var(stdx, axis = 0))"
   ]
  },
  {
   "cell_type": "code",
   "execution_count": 59,
   "metadata": {},
   "outputs": [
    {
     "ename": "SyntaxError",
     "evalue": "unexpected EOF while parsing (<ipython-input-59-d9e72d54f25c>, line 8)",
     "output_type": "error",
     "traceback": [
      "\u001b[1;36m  File \u001b[1;32m\"<ipython-input-59-d9e72d54f25c>\"\u001b[1;36m, line \u001b[1;32m8\u001b[0m\n\u001b[1;33m    #     print (stats.kstest(stdx.iloc[:, i], 'norm', alternative='two-sided'))\u001b[0m\n\u001b[1;37m                                                                                ^\u001b[0m\n\u001b[1;31mSyntaxError\u001b[0m\u001b[1;31m:\u001b[0m unexpected EOF while parsing\n"
     ]
    }
   ],
   "source": [
    "from scipy import stats \n",
    "\n",
    "# standersization does not change the distribution of the data. \n",
    "# they are still not normality distributed\n",
    "\n",
    "# two sided ks test for all data fields\n",
    "for i in range(stdx.shape[1]):\n",
    "\n",
    "#     print (stats.kstest(stdx.iloc[:, i], 'norm', alternative='two-sided'))"
   ]
  },
  {
   "cell_type": "code",
   "execution_count": null,
   "metadata": {
    "collapsed": true
   },
   "outputs": [],
   "source": []
  },
  {
   "cell_type": "markdown",
   "metadata": {},
   "source": [
    "### check for outliers for pearson correlation coefficient r test \n",
    "- scatter plot between each pair of the data fields variables \n",
    "- quantile plots with whisk from Tukey for each single data field variable "
   ]
  },
  {
   "cell_type": "code",
   "execution_count": 27,
   "metadata": {},
   "outputs": [],
   "source": [
    "# japanese characters do not shown as labels on matplotlib; rename columns\n",
    "x.columns = [ 'v' + str(i) for i in range(1, x.shape[1] + 1)]"
   ]
  },
  {
   "cell_type": "code",
   "execution_count": 29,
   "metadata": {},
   "outputs": [
    {
     "data": {
      "text/plain": [
       "array(['売上', '流動資産', '長期借入金', '従業員数'], dtype=object)"
      ]
     },
     "execution_count": 29,
     "metadata": {},
     "output_type": "execute_result"
    }
   ],
   "source": [
    "# mapping \n",
    "num = np.array(x.columns)\n",
    "name = np.array(data2.loc[:, '売上': '使用資産'].columns)\n",
    "\n",
    "# to map  ['v1', 'v5', 'v28', 'v55'] in the plot back\n",
    "\n",
    "name[[0, 6, 10, 16]]"
   ]
  },
  {
   "cell_type": "code",
   "execution_count": 54,
   "metadata": {
    "collapsed": true
   },
   "outputs": [],
   "source": [
    "# ## scatter plots for all pairs of variebls on different figs\n",
    "# num = len(x.columns)\n",
    "\n",
    "# # fig = plt.figure(figsize = (10, 10))\n",
    "\n",
    "# for i in range(num):\n",
    "#     for j in range(num):\n",
    "#         plt.figure()\n",
    "#         plt.scatter(x.iloc[:, i], x.iloc[:, j]) \n",
    "#         plt.xlabel(x.columns[i])\n",
    "#         plt.ylabel(x.columns[j])\n",
    "#         plt.savefig('{} and {} scatter plot'.format(i, j))\n",
    "# # plt.show()"
   ]
  },
  {
   "cell_type": "code",
   "execution_count": 30,
   "metadata": {},
   "outputs": [
    {
     "data": {
      "text/plain": [
       "Index(['v1', 'v2', 'v3', 'v4', 'v5', 'v6', 'v7', 'v8', 'v9', 'v10', 'v11',\n",
       "       'v12', 'v13', 'v14', 'v15', 'v16', 'v17', 'v18', 'v19', 'v20', 'v21',\n",
       "       'v22', 'v23', 'v24', 'v25', 'v26', 'v27', 'v28', 'v29', 'v30', 'v31',\n",
       "       'v32', 'v33', 'v34', 'v35', 'v36', 'v37', 'v38', 'v39', 'v40', 'v41',\n",
       "       'v42', 'v43', 'v44', 'v45', 'v46', 'v47', 'v48', 'v49', 'v50', 'v51',\n",
       "       'v52', 'v53', 'v54', 'v55', 'v56'],\n",
       "      dtype='object')"
      ]
     },
     "execution_count": 30,
     "metadata": {},
     "output_type": "execute_result"
    }
   ],
   "source": [
    "plotda = data2[data2['MKTCAP'] < 1000]\n",
    "\n",
    "x = plotda.loc[:, '売上':'使用資産'] \n",
    "y = plotda.loc[:, 'MKTCAP']\n",
    "\n",
    "x.columns = [ 'v' + str(i) for i in range(1, x.shape[1] + 1)]\n",
    "\n",
    "x.columns"
   ]
  },
  {
   "cell_type": "code",
   "execution_count": 16,
   "metadata": {},
   "outputs": [
    {
     "data": {
      "text/plain": [
       "'C:\\\\Users\\\\1098071\\\\Documents\\\\RF'"
      ]
     },
     "execution_count": 16,
     "metadata": {},
     "output_type": "execute_result"
    }
   ],
   "source": [
    "pwd"
   ]
  },
  {
   "cell_type": "code",
   "execution_count": 31,
   "metadata": {},
   "outputs": [],
   "source": [
    "## scatter plots for  pairs of variables without mega comapnies on differen figs\n",
    "num = len(x.columns)\n",
    "\n",
    "# fig = plt.figure(figsize = (10, 10))\n",
    "\n",
    "for i in range(num):\n",
    "    for j in range(num):\n",
    "        plt.figure()\n",
    "        plt.scatter(x.iloc[:, i], x.iloc[:, j]) \n",
    "        plt.xlabel(x.columns[i])\n",
    "        plt.ylabel(x.columns[j])\n",
    "        plt.savefig('C:\\\\Users\\\\1098071\\\\Documents\\\\RF\\\\figs\\\\' + '{} and {} scatter plot'.format(i, j))\n",
    "# plt.show()"
   ]
  },
  {
   "cell_type": "code",
   "execution_count": null,
   "metadata": {
    "collapsed": true
   },
   "outputs": [],
   "source": []
  },
  {
   "cell_type": "code",
   "execution_count": null,
   "metadata": {
    "collapsed": true
   },
   "outputs": [],
   "source": []
  },
  {
   "cell_type": "code",
   "execution_count": null,
   "metadata": {
    "collapsed": true
   },
   "outputs": [],
   "source": []
  },
  {
   "cell_type": "code",
   "execution_count": 56,
   "metadata": {
    "collapsed": true
   },
   "outputs": [],
   "source": [
    "## quantiles \n",
    "\n",
    "def outliers(x):\n",
    "    quantile_1, quantile_3 = np.percentile(x, [25, 75])\n",
    "    iqr = quantile_3 - quantile_1\n",
    "    lower = quantile_1 - (iqr * 1.5)\n",
    "    upper = quantile_3 + (iqr * 1.5)\n",
    "    \n",
    "#     if (np.where((x > upper) | (x < lower))) != 0:\n",
    "#         return 1 \n",
    "    return np.where ((x > upper) | (x  < lower))"
   ]
  },
  {
   "cell_type": "code",
   "execution_count": 57,
   "metadata": {
    "collapsed": true
   },
   "outputs": [],
   "source": [
    "var_outliers = []\n",
    "for i in range(len(data.columns)):\n",
    "    var_outliers.append(outliers(data.iloc[:, i])) "
   ]
  },
  {
   "cell_type": "code",
   "execution_count": 62,
   "metadata": {},
   "outputs": [
    {
     "data": {
      "text/plain": [
       "[(array([  25,   43,   66, ..., 7284, 7285, 7286], dtype=int64),),\n",
       " (array([  13,   25,   29, ..., 7284, 7285, 7286], dtype=int64),),\n",
       " (array([  10,   13,   14, ..., 7283, 7284, 7286], dtype=int64),),\n",
       " (array([  10,   13,   14, ..., 7282, 7283, 7286], dtype=int64),),\n",
       " (array([  13,   25,   29, ..., 7283, 7284, 7286], dtype=int64),),\n",
       " (array([  10,   25,   29, ..., 7282, 7284, 7286], dtype=int64),),\n",
       " (array([  10,   11,   13, ..., 7283, 7285, 7286], dtype=int64),),\n",
       " (array([  13,   25,   29, ..., 7284, 7285, 7286], dtype=int64),),\n",
       " (array([  10,   17,   21, ..., 7283, 7284, 7286], dtype=int64),),\n",
       " (array([  21,   25,   29, ..., 7283, 7284, 7286], dtype=int64),),\n",
       " (array([  13,   21,   29, ..., 7279, 7284, 7286], dtype=int64),),\n",
       " (array([  13,   21,   29, ..., 7283, 7284, 7286], dtype=int64),),\n",
       " (array([  13,   21,   25, ..., 7283, 7284, 7286], dtype=int64),),\n",
       " (array([  25,   30,   56, ..., 7279, 7284, 7286], dtype=int64),),\n",
       " (array([1455, 1466, 1828, 1839, 2675, 3404, 3478, 3551, 3559, 3565, 3568,\n",
       "         3608, 3628, 3763, 3850, 3889, 3927, 4003, 4011, 4017, 4020, 4059,\n",
       "         4218, 4307, 4347, 4389, 4469, 4477, 4483, 4530, 4547, 4690, 4780,\n",
       "         4821, 4865, 4945, 4959, 5008, 5027, 5078, 5173, 5263, 5293, 5304,\n",
       "         5341, 5350, 5431, 5445, 5497, 5505, 5515, 5566, 5572, 5664, 5755,\n",
       "         5764, 5786, 5799, 5837, 5847, 5926, 5934, 5940, 5994, 6002, 6068,\n",
       "         6157, 6251, 6257, 6261, 6282, 6295, 6333, 6342, 6357, 6391, 6418,\n",
       "         6423, 6428, 6431, 6437, 6440, 6491, 6564, 6653, 6743, 6749, 6753,\n",
       "         6773, 6788, 6832, 6846, 6878, 6905, 6910, 6916, 6919, 6925, 6928,\n",
       "         6975, 7043, 7127, 7218, 7223, 7227, 7245, 7260], dtype=int64),),\n",
       " (array([3527, 3557, 3573, 3599, 3602, 3604, 3612, 3772, 3795, 3841, 3852,\n",
       "         3892, 3979, 4024, 4050, 4053, 4055, 4063, 4184, 4298, 4309, 4387,\n",
       "         4441, 4490, 4506, 4517, 4520, 4522, 4529, 4582, 4654, 4699, 4771,\n",
       "         4782, 4918, 4966, 4994, 4997, 4999, 5007, 5062, 5107, 5136, 5182,\n",
       "         5254, 5348, 5404, 5452, 5479, 5482, 5485, 5487, 5550, 5596, 5606,\n",
       "         5626, 5674, 5746, 5844, 5900, 5948, 5960, 5976, 5979, 5982, 5984,\n",
       "         6048, 6101, 6120, 6168, 6240, 6243, 6396, 6447, 6458, 6473, 6478,\n",
       "         6572, 6597, 6616, 6663, 6733, 6736, 6766, 6809, 6811, 6877, 6898,\n",
       "         6926, 6934, 6945, 6953, 6957, 6962, 7011, 7023, 7051, 7070, 7074,\n",
       "         7092, 7096, 7098, 7106, 7138, 7143, 7179, 7201, 7209, 7212, 7238,\n",
       "         7240], dtype=int64),),\n",
       " (array([ 644,  684,  685,  686,  688,  693,  697,  702,  703,  704,  708,\n",
       "          712,  717,  729,  741,  756,  768,  780,  781,  785,  791,  801,\n",
       "          802,  808,  811,  814,  822,  826,  827,  835,  838,  845,  850,\n",
       "          860,  861,  862,  865,  866,  868,  869,  875,  879,  881,  884,\n",
       "          886,  895,  909,  911,  916,  921,  924,  928,  930,  931,  937,\n",
       "          960,  967,  969,  980,  984,  994,  995,  998, 1003, 1011, 1013,\n",
       "         1016, 1021, 1027, 1028, 1029, 1036, 1040, 1045, 1046, 1047, 1051,\n",
       "         1061, 1072, 1086, 1101, 1103, 1117, 1130, 1131, 1135, 1141, 1153,\n",
       "         1155, 1164, 1171, 1177, 1181, 1191, 1199, 1200, 1201, 1205, 1215,\n",
       "         1216, 1219, 1220, 1223, 1229, 1233, 1240, 1247, 1248, 1249, 1255,\n",
       "         1261, 1263, 1265, 1275, 1282, 1285, 1286, 1292, 1295, 1299, 1303,\n",
       "         1314, 1324, 1341, 1352, 1356, 1361, 1369, 1379, 1385, 1386, 1389,\n",
       "         1394, 1398, 1403, 1409, 1414, 1420, 1422, 1428, 1429, 1439, 1458,\n",
       "         1471, 1474, 1477, 1480, 1485, 1486, 1490, 1493, 1510, 1519, 1524,\n",
       "         1556, 1557, 1571, 1578, 1579, 1582, 1608, 1609, 1627, 1628, 1630,\n",
       "         1640, 1650, 1656, 1667, 1690, 1719, 1723, 1726, 1734, 1735, 1750,\n",
       "         1755, 1765, 1771, 1777, 1784, 1792, 1798, 1806, 1811, 1815, 1831,\n",
       "         1848, 1851, 1854, 1860, 1861, 1892, 1897, 1900, 1903, 1935, 1943,\n",
       "         1951, 1961, 1962, 1966, 1994, 1996, 2007, 2015, 2017, 2021, 2037,\n",
       "         2044, 2054, 2103, 2105, 2108, 2112, 2113, 2121, 2140, 2145, 2161,\n",
       "         2168, 2189, 2198, 2208, 2216, 2226, 2248, 2252, 2258, 2259, 2266,\n",
       "         2269, 2274, 2297, 2302, 2305, 2308, 2337, 2344, 2353, 2359, 2370,\n",
       "         2375, 2376, 2380, 2410, 2414, 2427, 2435, 2437, 2438, 2441, 2459,\n",
       "         2478, 2491, 2501, 2535, 2538, 2540, 2543, 2549, 2550, 2557, 2578,\n",
       "         2583, 2598, 2604, 2627, 2637, 2647, 2655, 2665, 2688, 2691, 2697,\n",
       "         2698, 2736, 2739, 2744, 2747, 2753, 2783, 2793, 2794, 2808, 2811,\n",
       "         2820, 2826, 2829, 2839, 2844, 2863, 2875, 2885, 2886, 2887, 2890,\n",
       "         2907, 2928, 2941, 2952, 2987, 2989, 3000, 3001, 3009, 3035, 3050,\n",
       "         3084, 3089, 3090, 3094, 3098, 3116, 3138, 3140, 3146, 3147, 3190,\n",
       "         3195, 3197, 3203, 3231, 3241, 3261, 3265, 3271, 3273, 3276, 3288,\n",
       "         3319, 3328, 3329, 3330, 3345, 3370, 3428, 3439, 3448, 3473, 3489,\n",
       "         3511, 3525, 3534, 3535, 3544, 3558, 3573, 3576, 3578, 3581, 3588,\n",
       "         3594, 3618, 3630, 3635, 3638, 3644, 3673, 3676, 3684, 3688, 3698,\n",
       "         3700, 3705, 3709, 3715, 3718, 3721, 3733, 3764, 3774, 3775, 3816,\n",
       "         3823, 3875, 3895, 3909, 3922, 3938, 3948, 3961, 3962, 3977, 3983,\n",
       "         3986, 3987, 4024, 4027, 4038, 4045, 4070, 4082, 4087, 4096, 4098,\n",
       "         4114, 4125, 4129, 4138, 4142, 4154, 4159, 4163, 4169, 4172, 4175,\n",
       "         4187, 4219, 4230, 4280, 4333, 4353, 4369, 4383, 4399, 4412, 4425,\n",
       "         4439, 4446, 4449, 4450, 4462, 4490, 4493, 4504, 4537, 4542, 4549,\n",
       "         4555, 4564, 4566, 4582, 4594, 4607, 4623, 4628, 4632, 4638, 4642,\n",
       "         4645, 4657, 4691, 4702, 4738, 4752, 4807, 4828, 4845, 4859, 4875,\n",
       "         4886, 4888, 4901, 4916, 4923, 4926, 4927, 4938, 4966, 4969, 4973,\n",
       "         4980, 4989, 5001, 5015, 5022, 5029, 5035, 5044, 5046, 5062, 5075,\n",
       "         5088, 5104, 5110, 5114, 5120, 5127, 5139, 5177, 5221, 5239, 5273,\n",
       "         5280, 5290, 5311, 5327, 5342, 5360, 5371, 5373, 5386, 5403, 5409,\n",
       "         5412, 5424, 5433, 5452, 5457, 5460, 5467, 5476, 5503, 5510, 5517,\n",
       "         5523, 5533, 5535, 5550, 5563, 5576, 5600, 5604, 5611, 5617, 5629,\n",
       "         5638, 5668, 5676, 5713, 5731, 5765, 5772, 5782, 5806, 5809, 5822,\n",
       "         5838, 5856, 5868, 5870, 5884, 5899, 5903, 5919, 5928, 5948, 5954,\n",
       "         5960, 5964, 5973, 6000, 6001, 6007, 6014, 6020, 6030, 6032, 6048,\n",
       "         6061, 6072, 6095, 6099, 6111, 6123, 6162, 6170, 6177, 6208, 6221,\n",
       "         6225, 6269, 6278, 6302, 6320, 6351, 6363, 6365, 6379, 6395, 6400,\n",
       "         6415, 6425, 6447, 6458, 6462, 6470, 6497, 6498, 6504, 6511, 6516,\n",
       "         6519, 6526, 6528, 6557, 6568, 6591, 6595, 6608, 6619, 6620, 6639,\n",
       "         6665, 6688, 6703, 6715, 6746, 6761, 6769, 6795, 6799, 6811, 6837,\n",
       "         6838, 6841, 6851, 6853, 6866, 6883, 6888, 6902, 6912, 6929, 6934,\n",
       "         6945, 6949, 6982, 6983, 6998, 7001, 7036, 7047, 7072, 7114, 7140,\n",
       "         7162, 7177, 7178, 7191, 7241, 7271, 7281], dtype=int64),),\n",
       " (array([   4,   13,   25, ..., 7283, 7284, 7286], dtype=int64),),\n",
       " (array([  13,   18,   25, ..., 7279, 7282, 7283], dtype=int64),),\n",
       " (array([3521, 3599, 3604, 3821, 3973, 4050, 4055, 4278, 4388, 4435, 4517,\n",
       "         4522, 4750, 4864, 4912, 4994, 4999, 5233, 5280, 5314, 5349, 5399,\n",
       "         5482, 5487, 5725, 5772, 5845, 5896, 5979, 5984, 6219, 6269, 6315,\n",
       "         6340, 6363, 6392, 6475, 6480, 6486, 6713, 6761, 6807, 6830, 6851,\n",
       "         6880, 6959, 6964, 6970, 7189, 7234, 7278], dtype=int64),),\n",
       " (array([  13,   29,   30, ..., 7279, 7284, 7286], dtype=int64),),\n",
       " (array([  13,   25,   29, ..., 7284, 7285, 7286], dtype=int64),),\n",
       " (array([  13,   25,   29, ..., 7284, 7285, 7286], dtype=int64),),\n",
       " (array([  13,   14,   29, ..., 7279, 7284, 7286], dtype=int64),),\n",
       " (array([ 418,  578,  697, ..., 7279, 7284, 7286], dtype=int64),),\n",
       " (array([  13,   25,   29, ..., 7284, 7285, 7286], dtype=int64),),\n",
       " (array([  14,   25,   29, ..., 7272, 7279, 7284], dtype=int64),),\n",
       " (array([ 418,  722, 1424, ..., 7283, 7285, 7286], dtype=int64),),\n",
       " (array([  13,   21,   25, ..., 7283, 7284, 7286], dtype=int64),),\n",
       " (array([  13,   25,   29, ..., 7282, 7283, 7286], dtype=int64),),\n",
       " (array([   3,  136,  192,  300,  342,  473,  474,  693,  695,  697,  705,\n",
       "          707,  708,  713,  724,  726,  734,  745,  755,  760,  763,  764,\n",
       "          769,  773,  778,  781,  782,  790,  797,  811,  812,  813,  821,\n",
       "          824,  835,  836,  841,  843,  865,  868,  871,  874,  876,  877,\n",
       "          883,  888,  893,  900,  905,  907,  917,  925,  930,  948,  964,\n",
       "          965,  970,  971,  980,  981,  987,  993,  995,  998, 1000, 1003,\n",
       "         1007, 1016, 1020, 1021, 1038, 1040, 1048, 1050, 1051, 1057, 1069,\n",
       "         1078, 1086, 1090, 1093, 1100, 1102, 1114, 1118, 1122, 1128, 1131,\n",
       "         1132, 1138, 1140, 1148, 1167, 1168, 1169, 1176, 1179, 1191, 1198,\n",
       "         1199, 1200, 1219, 1225, 1228, 1230, 1231, 1236, 1246, 1259, 1261,\n",
       "         1279, 1289, 1300, 1304, 1319, 1320, 1325, 1335, 1337, 1338, 1344,\n",
       "         1356, 1358, 1363, 1365, 1374, 1378, 1397, 1406, 1408, 1414, 1421,\n",
       "         1427, 1428, 1434, 1435, 1439, 1441, 1448, 1460, 1461, 1469, 1481,\n",
       "         1484, 1486, 1487, 1493, 1503, 1510, 1523, 1532, 1535, 1541, 1542,\n",
       "         1551, 1553, 1557, 1558, 1572, 1586, 1589, 1590, 1596, 1609, 1617,\n",
       "         1621, 1624, 1625, 1650, 1668, 1685, 1689, 1704, 1713, 1723, 1725,\n",
       "         1726, 1737, 1738, 1764, 1765, 1766, 1774, 1776, 1779, 1784, 1791,\n",
       "         1798, 1801, 1806, 1811, 1813, 1821, 1822, 1834, 1855, 1864, 1869,\n",
       "         1891, 1892, 1902, 1912, 1914, 1915, 1920, 1930, 1932, 1933, 1937,\n",
       "         1952, 1972, 1974, 1975, 1980, 1985, 2008, 2029, 2032, 2034, 2037,\n",
       "         2055, 2071, 2097, 2112, 2117, 2119, 2126, 2154, 2155, 2156, 2165,\n",
       "         2167, 2183, 2186, 2189, 2192, 2204, 2208, 2216, 2217, 2227, 2251,\n",
       "         2253, 2264, 2269, 2281, 2292, 2296, 2307, 2310, 2323, 2326, 2329,\n",
       "         2339, 2345, 2347, 2363, 2373, 2374, 2388, 2391, 2396, 2405, 2425,\n",
       "         2439, 2449, 2452, 2454, 2459, 2481, 2490, 2502, 2504, 2511, 2512,\n",
       "         2515, 2529, 2562, 2575, 2591, 2592, 2593, 2603, 2608, 2621, 2624,\n",
       "         2627, 2643, 2647, 2655, 2656, 2667, 2689, 2692, 2703, 2729, 2733,\n",
       "         2752, 2755, 2771, 2774, 2775, 2786, 2790, 2794, 2796, 2802, 2812,\n",
       "         2823, 2824, 2836, 2840, 2873, 2886, 2887, 2903, 2906, 2907, 2931,\n",
       "         2947, 2955, 2962, 2966, 2972, 2973, 2986, 3007, 3013, 3018, 3025,\n",
       "         3043, 3044, 3045, 3056, 3057, 3059, 3060, 3076, 3079, 3094, 3097,\n",
       "         3098, 3118, 3141, 3151, 3152, 3157, 3183, 3201, 3202, 3219, 3222,\n",
       "         3238, 3242, 3248, 3257, 3268, 3269, 3280, 3284, 3291, 3317, 3322,\n",
       "         3329, 3330, 3341, 3344, 3348, 3360, 3370, 3373, 3388, 3406, 3412,\n",
       "         3413, 3418, 3432, 3446, 3457, 3462, 3463, 3480, 3483, 3484, 3495,\n",
       "         3497, 3498, 3503, 3508, 3514, 3516, 3531, 3534, 3535, 3566, 3582,\n",
       "         3591, 3595, 3597, 3607, 3622, 3623, 3649, 3661, 3676, 3681, 3701,\n",
       "         3707, 3712, 3713, 3725, 3728, 3729, 3734, 3743, 3766, 3774, 3775,\n",
       "         3786, 3805, 3806, 3816, 3834, 3835, 3852, 3857, 3858, 3879, 3893,\n",
       "         3904, 3909, 3910, 3912, 3914, 3929, 3932, 3933, 3945, 3948, 3953,\n",
       "         3966, 3968, 3969, 3978, 3979, 3983, 3986, 3987, 4018, 4032, 4042,\n",
       "         4048, 4074, 4075, 4082, 4098, 4102, 4114, 4134, 4148, 4155, 4161,\n",
       "         4166, 4179, 4182, 4183, 4188, 4197, 4229, 4230, 4239, 4241, 4244,\n",
       "         4261, 4262, 4273, 4291, 4292, 4309, 4314, 4315, 4337, 4351, 4362,\n",
       "         4369, 4371, 4391, 4394, 4395, 4407, 4410, 4412, 4416, 4424, 4429,\n",
       "         4430, 4431, 4440, 4441, 4446, 4449, 4450, 4458, 4463, 4484, 4498,\n",
       "         4501, 4509, 4513, 4515, 4535, 4541, 4542, 4549, 4570, 4582, 4603,\n",
       "         4617, 4624, 4630, 4639, 4649, 4651, 4652, 4653, 4658, 4667, 4669,\n",
       "         4694, 4701, 4711, 4713, 4716, 4733, 4734, 4745, 4762, 4763, 4765,\n",
       "         4769, 4782, 4787, 4788, 4806, 4811, 4826, 4838, 4845, 4847, 4867,\n",
       "         4870, 4871, 4883, 4886, 4888, 4892, 4900, 4906, 4907, 4908, 4909,\n",
       "         4918, 4923, 4926, 4927, 4934, 4939, 4974, 4977, 4986, 4992, 5013,\n",
       "         5016, 5029, 5050, 5062, 5084, 5097, 5105, 5112, 5131, 5133, 5134,\n",
       "         5135, 5140, 5149, 5177, 5184, 5193, 5195, 5198, 5228, 5245, 5246,\n",
       "         5248, 5252, 5256, 5265, 5270, 5273, 5289, 5293, 5309, 5321, 5327,\n",
       "         5330, 5352, 5355, 5356, 5362, 5368, 5373, 5377, 5385, 5391, 5392,\n",
       "         5393, 5395, 5404, 5409, 5412, 5413, 5420, 5425, 5438, 5461, 5464,\n",
       "         5473, 5477, 5479, 5504, 5509, 5510, 5517, 5529, 5539, 5550, 5585,\n",
       "         5594, 5602, 5607, 5621, 5623, 5624, 5625, 5630, 5637, 5639, 5668,\n",
       "         5676, 5685, 5687, 5690, 5720, 5737, 5738, 5740, 5744, 5748, 5757,\n",
       "         5762, 5765, 5781, 5786, 5804, 5816, 5822, 5825, 5849, 5852, 5853,\n",
       "         5858, 5864, 5866, 5870, 5874, 5883, 5889, 5890, 5891, 5900, 5903,\n",
       "         5906, 5907, 5915, 5920, 5958, 5961, 5970, 5976, 6001, 6006, 6007,\n",
       "         6014, 6026, 6036, 6048, 6081, 6097, 6106, 6115, 6117, 6118, 6119,\n",
       "         6124, 6131, 6133, 6162, 6170, 6172, 6177, 6179, 6181, 6184, 6214,\n",
       "         6231, 6232, 6234, 6238, 6242, 6248, 6253, 6259, 6260, 6262, 6277,\n",
       "         6282, 6300, 6313, 6320, 6322, 6339, 6344, 6347, 6348, 6355, 6359,\n",
       "         6361, 6365, 6369, 6378, 6384, 6385, 6386, 6390, 6396, 6403, 6411,\n",
       "         6416, 6447, 6456, 6466, 6467, 6471, 6473, 6484, 6498, 6503, 6504,\n",
       "         6511, 6528, 6532, 6551, 6593, 6611, 6613, 6614, 6615, 6620, 6627,\n",
       "         6628, 6629, 6633, 6658, 6665, 6672, 6674, 6676, 6679, 6708, 6725,\n",
       "         6727, 6731, 6735, 6738, 6740, 6745, 6751, 6752, 6754, 6768, 6773,\n",
       "         6793, 6805, 6811, 6813, 6829, 6834, 6837, 6838, 6845, 6848, 6853,\n",
       "         6857, 6865, 6872, 6873, 6877, 6891, 6903, 6934, 6944, 6952, 6953,\n",
       "         6957, 6968, 6980, 6983, 7011, 7018, 7030, 7037, 7070, 7087, 7089,\n",
       "         7090, 7091, 7096, 7103, 7104, 7108, 7132, 7133, 7140, 7142, 7149,\n",
       "         7151, 7154, 7164, 7184, 7201, 7203, 7207, 7211, 7214, 7216, 7220,\n",
       "         7225, 7226, 7228, 7245, 7265, 7276], dtype=int64),),\n",
       " (array([ 413,  757, 1104, ..., 7283, 7284, 7286], dtype=int64),),\n",
       " (array([ 693,  697,  708,  713,  734,  741,  773,  780,  782,  790,  793,\n",
       "          808,  813,  827,  835,  874,  876,  905,  907,  908,  934,  956,\n",
       "          988, 1015, 1020, 1040, 1051, 1057, 1078, 1093, 1122, 1130, 1132,\n",
       "         1140, 1143, 1164, 1169, 1191, 1223, 1228, 1230, 1237, 1251, 1259,\n",
       "         1312, 1333, 1345, 1378, 1380, 1391, 1398, 1409, 1427, 1448, 1487,\n",
       "         1495, 1498, 1519, 1546, 1571, 1578, 1582, 1592, 1597, 1599, 1623,\n",
       "         1626, 1630, 1642, 1691, 1765, 1777, 1797, 1821, 1859, 1862, 1871,\n",
       "         1874, 1897, 1925, 1943, 1951, 1961, 1966, 1977, 2000, 2010, 2017,\n",
       "         2026, 2028, 2029, 2089, 2092, 2155, 2177, 2188, 2216, 2257, 2261,\n",
       "         2271, 2276, 2302, 2341, 2353, 2393, 2420, 2448, 2521, 2524, 2548,\n",
       "         2592, 2626, 2655, 2696, 2700, 2710, 2715, 2744, 2790, 2842, 2868,\n",
       "         2897, 2899, 2926, 2999, 3044, 3078, 3094, 3106, 3145, 3149, 3159,\n",
       "         3164, 3195, 3202, 3238, 3284, 3286, 3340, 3368, 3438, 3483, 3531,\n",
       "         3543, 3586, 3590, 3599, 3604, 3635, 3643, 3731, 3772, 3785, 3814,\n",
       "         3885, 3932, 3983, 4036, 4040, 4050, 4055, 4087, 4095, 4185, 4227,\n",
       "         4240, 4270, 4343, 4394, 4446, 4502, 4506, 4517, 4522, 4555, 4563,\n",
       "         4655, 4699, 4712, 4742, 4817, 4835, 4870, 4923, 4937, 4978, 4982,\n",
       "         4994, 4999, 5020, 5035, 5043, 5137, 5182, 5194, 5225, 5299, 5318,\n",
       "         5350, 5355, 5409, 5423, 5465, 5469, 5482, 5487, 5508, 5523, 5532,\n",
       "         5591, 5627, 5663, 5674, 5686, 5717, 5794, 5813, 5847, 5852, 5903,\n",
       "         5918, 5962, 5966, 5979, 5984, 6005, 6020, 6029, 6087, 6121, 6156,\n",
       "         6168, 6180, 6211, 6290, 6310, 6342, 6347, 6400, 6414, 6460, 6464,\n",
       "         6475, 6480, 6502, 6516, 6525, 6583, 6617, 6652, 6663, 6675, 6705,\n",
       "         6781, 6802, 6832, 6888, 6947, 6951, 6959, 6964, 6987, 6998, 7008,\n",
       "         7093, 7126, 7138, 7181, 7254], dtype=int64),),\n",
       " (array([   4,   10,   13, ..., 7281, 7282, 7286], dtype=int64),),\n",
       " (array([   4,    6,    9, ..., 7270, 7280, 7285], dtype=int64),),\n",
       " (array([  13,   25,   29, ..., 7283, 7284, 7286], dtype=int64),),\n",
       " (array([  10,   13,   14, ..., 7282, 7283, 7286], dtype=int64),),\n",
       " (array([  13,   21,   25, ..., 7283, 7284, 7286], dtype=int64),),\n",
       " (array([   4,    9,   10, ..., 7280, 7284, 7285], dtype=int64),),\n",
       " (array([  13,   25,   29,   30,   34,   41,   52,   56,   59,   66,   75,\n",
       "           80,   99,  108,  109,  110,  112,  113,  129,  130,  131,  147,\n",
       "          161,  174,  177,  178,  182,  191,  221,  236,  242,  245,  253,\n",
       "          260,  267,  279,  281,  292,  298,  313,  320,  352,  364,  368,\n",
       "          369,  373,  380,  390,  394,  397,  404,  413,  418,  438,  447,\n",
       "          448,  449,  450,  451,  452,  467,  468,  469,  484,  499,  514,\n",
       "          517,  518,  523,  532,  563,  577,  583,  586,  594,  601,  608,\n",
       "          620,  622,  633,  639,  653,  660,  694,  706,  710,  711,  715,\n",
       "          722,  732,  736,  739,  747,  757,  762,  781,  789,  790,  791,\n",
       "          792,  793,  794,  808,  809,  824,  840,  855,  858,  859,  863,\n",
       "          872,  904,  918,  925,  928,  935,  942,  948,  960,  962,  973,\n",
       "          979,  992,  999, 1037, 1049, 1054, 1055, 1059, 1066, 1076, 1081,\n",
       "         1084, 1092, 1098, 1104, 1109, 1131, 1139, 1140, 1141, 1142, 1143,\n",
       "         1144, 1163, 1164, 1165, 1179, 1195, 1210, 1213, 1214, 1217, 1226,\n",
       "         1258, 1272, 1279, 1282, 1290, 1297, 1304, 1316, 1317, 1328, 1336,\n",
       "         1349, 1357, 1395, 1407, 1411, 1412, 1416, 1423, 1433, 1437, 1440,\n",
       "         1447, 1453, 1459, 1464, 1486, 1494, 1495, 1496, 1497, 1498, 1499,\n",
       "         1518, 1519, 1520, 1535, 1551, 1566, 1569, 1570, 1575, 1584, 1622,\n",
       "         1637, 1642, 1644, 1647, 1654, 1661, 1668, 1680, 1682, 1694, 1702,\n",
       "         1716, 1724, 1762, 1768, 1775, 1781, 1782, 1786, 1793, 1804, 1809,\n",
       "         1812, 1820, 1826, 1832, 1837, 1861, 1870, 1871, 1872, 1873, 1874,\n",
       "         1875, 1896, 1897, 1898, 1914, 1930, 1946, 1949, 1950, 1954, 1956,\n",
       "         1968, 2009, 2023, 2028, 2030, 2033, 2042, 2048, 2055, 2066, 2068,\n",
       "         2080, 2087, 2100, 2109, 2116, 2152, 2158, 2166, 2174, 2175, 2179,\n",
       "         2184, 2196, 2202, 2205, 2215, 2221, 2228, 2233, 2259, 2260, 2270,\n",
       "         2271, 2273, 2275, 2276, 2277, 2301, 2302, 2303, 2308, 2323, 2339,\n",
       "         2356, 2359, 2360, 2365, 2369, 2383, 2426, 2429, 2443, 2448, 2450,\n",
       "         2453, 2465, 2471, 2479, 2492, 2494, 2505, 2508, 2519, 2532, 2544,\n",
       "         2552, 2589, 2592, 2595, 2611, 2612, 2616, 2622, 2633, 2635, 2641,\n",
       "         2644, 2654, 2660, 2668, 2673, 2698, 2699, 2709, 2710, 2711, 2712,\n",
       "         2714, 2715, 2717, 2743, 2744, 2745, 2768, 2786, 2805, 2808, 2809,\n",
       "         2814, 2819, 2831, 2874, 2877, 2892, 2897, 2898, 2901, 2914, 2921,\n",
       "         2929, 2942, 2944, 2956, 2959, 2970, 2984, 2995, 3003, 3041, 3044,\n",
       "         3047, 3055, 3063, 3064, 3068, 3074, 3085, 3087, 3092, 3095, 3105,\n",
       "         3111, 3119, 3124, 3147, 3148, 3149, 3158, 3159, 3160, 3161, 3163,\n",
       "         3164, 3166, 3194, 3195, 3196, 3215, 3234, 3251, 3254, 3255, 3259,\n",
       "         3264, 3275, 3318, 3321, 3334, 3338, 3339, 3342, 3356, 3363, 3371,\n",
       "         3383, 3385, 3396, 3399, 3410, 3424, 3434, 3442, 3470, 3480, 3483,\n",
       "         3486, 3501, 3502, 3506, 3512, 3521, 3523, 3529, 3532, 3542, 3549,\n",
       "         3557, 3563, 3565, 3588, 3589, 3590, 3598, 3599, 3600, 3601, 3603,\n",
       "         3604, 3606, 3634, 3635, 3636, 3657, 3677, 3695, 3698, 3699, 3703,\n",
       "         3708, 3720, 3763, 3779, 3783, 3784, 3787, 3800, 3809, 3817, 3829,\n",
       "         3831, 3842, 3845, 3855, 3870, 3881, 3888, 3919, 3929, 3932, 3935,\n",
       "         3951, 3952, 3956, 3963, 3964, 3973, 3975, 3981, 3984, 3995, 4001,\n",
       "         4009, 4015, 4017, 4038, 4039, 4040, 4049, 4050, 4051, 4052, 4054,\n",
       "         4055, 4057, 4086, 4087, 4088, 4110, 4130, 4136, 4149, 4152, 4153,\n",
       "         4157, 4162, 4174, 4218, 4234, 4238, 4239, 4242, 4256, 4265, 4271,\n",
       "         4274, 4286, 4288, 4299, 4302, 4312, 4328, 4339, 4346, 4380, 4391,\n",
       "         4394, 4396, 4414, 4415, 4419, 4426, 4427, 4435, 4437, 4444, 4447,\n",
       "         4460, 4467, 4475, 4481, 4483, 4504, 4505, 4506, 4516, 4517, 4518,\n",
       "         4519, 4521, 4522, 4524, 4554, 4555, 4556, 4578, 4599, 4604, 4605,\n",
       "         4621, 4622, 4626, 4631, 4644, 4681, 4690, 4706, 4710, 4711, 4714,\n",
       "         4728, 4737, 4742, 4743, 4746, 4757, 4759, 4766, 4772, 4775, 4785,\n",
       "         4802, 4813, 4820, 4856, 4867, 4870, 4872, 4879, 4890, 4891, 4895,\n",
       "         4902, 4903, 4912, 4914, 4921, 4924, 4936, 4943, 4951, 4957, 4959,\n",
       "         4980, 4981, 4982, 4983, 4993, 4994, 4995, 4996, 4998, 4999, 5002,\n",
       "         5034, 5035, 5036, 5058, 5080, 5085, 5086, 5101, 5102, 5108, 5113,\n",
       "         5126, 5164, 5165, 5173, 5189, 5193, 5196, 5200, 5211, 5220, 5225,\n",
       "         5226, 5229, 5240, 5242, 5249, 5255, 5258, 5263, 5268, 5285, 5295,\n",
       "         5303, 5339, 5352, 5355, 5357, 5364, 5375, 5376, 5380, 5387, 5388,\n",
       "         5399, 5401, 5407, 5410, 5422, 5429, 5437, 5443, 5445, 5467, 5468,\n",
       "         5469, 5480, 5482, 5483, 5484, 5486, 5487, 5491, 5496, 5498, 5508,\n",
       "         5522, 5523, 5524, 5547, 5568, 5573, 5574, 5577, 5589, 5590, 5597,\n",
       "         5603, 5616, 5635, 5654, 5655, 5663, 5664, 5681, 5685, 5688, 5692,\n",
       "         5703, 5712, 5717, 5718, 5721, 5732, 5734, 5741, 5747, 5750, 5755,\n",
       "         5760, 5777, 5787, 5789, 5798, 5835, 5849, 5852, 5854, 5862, 5872,\n",
       "         5873, 5877, 5885, 5886, 5896, 5904, 5917, 5924, 5932, 5938, 5940,\n",
       "         5964, 5965, 5966, 5977, 5979, 5980, 5981, 5983, 5984, 5988, 5993,\n",
       "         5995, 6005, 6019, 6020, 6021, 6027, 6044, 6064, 6069, 6070, 6073,\n",
       "         6085, 6086, 6092, 6098, 6110, 6129, 6147, 6148, 6156, 6157, 6175,\n",
       "         6179, 6186, 6187, 6199, 6207, 6211, 6212, 6215, 6226, 6228, 6241,\n",
       "         6244, 6251, 6256, 6273, 6283, 6285, 6294, 6308, 6316, 6331, 6344,\n",
       "         6347, 6349, 6357, 6367, 6368, 6372, 6380, 6381, 6388, 6392, 6398,\n",
       "         6401, 6413, 6420, 6426, 6429, 6435, 6437, 6462, 6463, 6464, 6474,\n",
       "         6475, 6476, 6477, 6479, 6480, 6485, 6486, 6490, 6492, 6502, 6515,\n",
       "         6516, 6517, 6519, 6522, 6523, 6540, 6560, 6564, 6565, 6566, 6569,\n",
       "         6581, 6582, 6588, 6594, 6607, 6625, 6643, 6644, 6652, 6653, 6665,\n",
       "         6670, 6674, 6681, 6682, 6694, 6702, 6705, 6706, 6709, 6720, 6722,\n",
       "         6734, 6737, 6741, 6743, 6748, 6765, 6774, 6776, 6785, 6786, 6788,\n",
       "         6800, 6808, 6822, 6834, 6837, 6839, 6846, 6855, 6856, 6860, 6867,\n",
       "         6869, 6875, 6880, 6886, 6889, 6900, 6907, 6914, 6917, 6923, 6925,\n",
       "         6949, 6950, 6951, 6958, 6959, 6960, 6961, 6963, 6964, 6969, 6970,\n",
       "         6974, 6976, 6987, 6992, 6997, 6998, 6999, 7001, 7005, 7006, 7022,\n",
       "         7039, 7043, 7044, 7045, 7048, 7060, 7061, 7066, 7071, 7083, 7101,\n",
       "         7118, 7119, 7126, 7127, 7130, 7140, 7145, 7149, 7156, 7157, 7168,\n",
       "         7176, 7181, 7182, 7185, 7196, 7198, 7210, 7213, 7217, 7218, 7222,\n",
       "         7237, 7246, 7248, 7257, 7258, 7260, 7272, 7278, 7279, 7284, 7286], dtype=int64),),\n",
       " (array([  11,   13,   25, ..., 7284, 7285, 7286], dtype=int64),),\n",
       " (array([   2,   11,   13, ..., 7279, 7284, 7286], dtype=int64),),\n",
       " (array([   4,   13,   14, ..., 7279, 7284, 7286], dtype=int64),),\n",
       " (array([   2,    4,   11, ..., 7279, 7284, 7286], dtype=int64),),\n",
       " (array([  13,   21,   29, ..., 7284, 7285, 7286], dtype=int64),),\n",
       " (array([  13,   25,   29, ..., 7283, 7284, 7286], dtype=int64),),\n",
       " (array([  13,   25,   29, ..., 7279, 7284, 7286], dtype=int64),),\n",
       " (array([   8,   10,   11, ..., 7284, 7285, 7286], dtype=int64),),\n",
       " (array([  13,   25,   29, ..., 7282, 7283, 7286], dtype=int64),),\n",
       " (array([  10,   13,   14, ..., 7283, 7284, 7286], dtype=int64),),\n",
       " (array([  34,   46,   54,   57,   68,  144,  151,  220,  238,  253,  293,\n",
       "          373,  385,  395,  562,  579,  583,  584,  594,  616,  640,  650,\n",
       "          668,  715,  726,  727,  775,  829,  920,  925,  926,  935,  980,\n",
       "          990, 1008, 1059, 1069, 1070, 1115, 1226, 1274, 1280, 1290, 1316,\n",
       "         1337, 1366, 1372, 1378, 1408, 1416, 1427, 1438, 1449, 1584, 1621,\n",
       "         1623, 1639, 1645, 1654, 1680, 1699, 1703, 1733, 1735, 1736, 1776,\n",
       "         1786, 1810, 1822, 1932, 1946, 1967, 1968, 2008, 2025, 2031, 2042,\n",
       "         2066, 2085, 2120, 2123, 2133, 2167, 2179, 2206, 2240, 2356, 2370,\n",
       "         2374, 2382, 2383, 2387, 2445, 2451, 2465, 2492, 2520, 2559, 2570,\n",
       "         2596, 2603, 2616, 2621, 2642, 2681, 2693, 2708, 2718, 2732, 2733,\n",
       "         2747, 2761, 2763, 2771, 2776, 2785, 2805, 2820, 2830, 2831, 2832,\n",
       "         2835, 2845, 2847, 2852, 2868, 2869, 2875, 2879, 2894, 2895, 2899,\n",
       "         2900, 2903, 2914, 2942, 2950, 2961, 2966, 2982, 2991, 3005, 3007,\n",
       "         3010, 3015, 3018, 3022, 3056, 3061, 3068, 3103, 3200, 3210, 3274,\n",
       "         3275, 3320, 3336, 3340, 3344, 3356, 3383, 3406, 3449, 3454, 3461,\n",
       "         3494, 3499, 3506, 3516, 3641, 3651, 3669, 3719, 3720, 3765, 3771,\n",
       "         3781, 3785, 3800, 3807, 3829, 3852, 3896, 3908, 3944, 3949, 3956,\n",
       "         3965, 3968, 4023, 4067, 4093, 4104, 4121, 4149, 4167, 4173, 4174,\n",
       "         4199, 4220, 4226, 4236, 4240, 4244, 4256, 4286, 4309, 4348, 4354,\n",
       "         4406, 4419, 4428, 4440, 4489, 4561, 4590, 4636, 4643, 4644, 4669,\n",
       "         4692, 4698, 4708, 4712, 4716, 4728, 4757, 4782, 4822, 4829, 4895,\n",
       "         4905, 4930, 4965, 5041, 5071, 5118, 5125, 5126, 5175, 5181, 5191,\n",
       "         5194, 5198, 5211, 5240, 5305, 5312, 5380, 5390, 5451, 5500, 5509,\n",
       "         5529, 5559, 5608, 5616, 5666, 5673, 5683, 5686, 5690, 5703, 5710,\n",
       "         5732, 5761, 5800, 5807, 5865, 5869, 5877, 5888, 5895, 6057, 6103,\n",
       "         6110, 6137, 6159, 6167, 6177, 6180, 6184, 6199, 6226, 6258, 6303,\n",
       "         6360, 6364, 6372, 6383, 6422, 6486, 6494, 6553, 6599, 6607, 6633,\n",
       "         6655, 6662, 6672, 6675, 6694, 6720, 6750, 6789, 6796, 6849, 6852,\n",
       "         6856, 6860, 6871, 6909, 6931, 6978, 6980, 7029, 7032, 7076, 7083,\n",
       "         7108, 7129, 7132, 7137, 7147, 7150, 7154, 7162, 7168, 7196, 7224,\n",
       "         7261, 7268], dtype=int64),),\n",
       " (array([   2,   10,   14, ..., 7259, 7260, 7264], dtype=int64),),\n",
       " (array([  10,   13,   21, ..., 7284, 7285, 7286], dtype=int64),),\n",
       " (array([  13,   25,   29, ..., 7284, 7285, 7286], dtype=int64),),\n",
       " (array([  13,   21,   25, ..., 7284, 7285, 7286], dtype=int64),),\n",
       " (array([  21,   25,   29, ..., 7283, 7284, 7286], dtype=int64),),\n",
       " (array([  13,   25,   29, ..., 7283, 7284, 7286], dtype=int64),)]"
      ]
     },
     "execution_count": 62,
     "metadata": {},
     "output_type": "execute_result"
    }
   ],
   "source": []
  },
  {
   "cell_type": "code",
   "execution_count": null,
   "metadata": {
    "collapsed": true
   },
   "outputs": [],
   "source": []
  },
  {
   "cell_type": "code",
   "execution_count": null,
   "metadata": {
    "collapsed": true
   },
   "outputs": [],
   "source": []
  },
  {
   "cell_type": "code",
   "execution_count": null,
   "metadata": {
    "collapsed": true
   },
   "outputs": [],
   "source": []
  }
 ],
 "metadata": {
  "kernelspec": {
   "display_name": "Python 3",
   "language": "python",
   "name": "python3"
  },
  "language_info": {
   "codemirror_mode": {
    "name": "ipython",
    "version": 3
   },
   "file_extension": ".py",
   "mimetype": "text/x-python",
   "name": "python",
   "nbconvert_exporter": "python",
   "pygments_lexer": "ipython3",
   "version": "3.6.1"
  }
 },
 "nbformat": 4,
 "nbformat_minor": 2
}
