{
 "cells": [
  {
   "cell_type": "markdown",
   "metadata": {},
   "source": [
    "companies dont have MKTCAP values have their MKTCAP valeus documented as NaN in DB, while 0 in Excel.\n",
    "\n",
    "if the number of zero MKTCAP in Excel is more than the zeros in DB (and their tickers are not overlapping), which could mean that there actually are zero MKTCAP companies, apart from companies having no MKTCAP vlaues.\n",
    "\n",
    "remove the companies without MKTCAP values in 2015, around 91 of them\n",
    "\n",
    "do the same thing in 2016 \n",
    "\n",
    "and merge the data from hte two years "
   ]
  },
  {
   "cell_type": "code",
   "execution_count": null,
   "metadata": {
    "collapsed": true
   },
   "outputs": [],
   "source": []
  },
  {
   "cell_type": "code",
   "execution_count": 1,
   "metadata": {
    "collapsed": true
   },
   "outputs": [],
   "source": [
    "import pandas as pd\n",
    "import numpy as np"
   ]
  },
  {
   "cell_type": "code",
   "execution_count": 41,
   "metadata": {},
   "outputs": [
    {
     "data": {
      "text/html": [
       "<div>\n",
       "<style>\n",
       "    .dataframe thead tr:only-child th {\n",
       "        text-align: right;\n",
       "    }\n",
       "\n",
       "    .dataframe thead th {\n",
       "        text-align: left;\n",
       "    }\n",
       "\n",
       "    .dataframe tbody tr th {\n",
       "        vertical-align: top;\n",
       "    }\n",
       "</style>\n",
       "<table border=\"1\" class=\"dataframe\">\n",
       "  <thead>\n",
       "    <tr style=\"text-align: right;\">\n",
       "      <th></th>\n",
       "      <th>security_code</th>\n",
       "      <th>ddate</th>\n",
       "      <th>売上</th>\n",
       "      <th>営業利益</th>\n",
       "      <th>純利益</th>\n",
       "      <th>総資産</th>\n",
       "      <th>現金･現金同等物</th>\n",
       "      <th>有価証券</th>\n",
       "      <th>流動資産</th>\n",
       "      <th>総長期投資</th>\n",
       "      <th>...</th>\n",
       "      <th>長期社債(当期返済分)</th>\n",
       "      <th>長期借入金(当期返済分)</th>\n",
       "      <th>少数持分</th>\n",
       "      <th>自己株金額</th>\n",
       "      <th>人件費</th>\n",
       "      <th>税引前利益</th>\n",
       "      <th>非流動資産合計</th>\n",
       "      <th>自己株式数</th>\n",
       "      <th>発行済株式数</th>\n",
       "      <th>value</th>\n",
       "    </tr>\n",
       "  </thead>\n",
       "  <tbody>\n",
       "    <tr>\n",
       "      <th>0</th>\n",
       "      <td>AAL</td>\n",
       "      <td>2000</td>\n",
       "      <td>14824.000</td>\n",
       "      <td>2368.000</td>\n",
       "      <td>1957.000</td>\n",
       "      <td>30616.000</td>\n",
       "      <td>1061.000</td>\n",
       "      <td>2344.000</td>\n",
       "      <td>8127.000</td>\n",
       "      <td>935.000</td>\n",
       "      <td>...</td>\n",
       "      <td>0</td>\n",
       "      <td>0.0</td>\n",
       "      <td>2646.0</td>\n",
       "      <td>-0.0</td>\n",
       "      <td>-3067.000</td>\n",
       "      <td>3444.000</td>\n",
       "      <td>22489.000</td>\n",
       "      <td>0.0</td>\n",
       "      <td>1483.8861</td>\n",
       "      <td>22469.2680</td>\n",
       "    </tr>\n",
       "    <tr>\n",
       "      <th>1</th>\n",
       "      <td>ABF</td>\n",
       "      <td>2000</td>\n",
       "      <td>4406.000</td>\n",
       "      <td>327.000</td>\n",
       "      <td>138.000</td>\n",
       "      <td>3867.000</td>\n",
       "      <td>65.000</td>\n",
       "      <td>1133.000</td>\n",
       "      <td>2220.000</td>\n",
       "      <td>4.000</td>\n",
       "      <td>...</td>\n",
       "      <td>0</td>\n",
       "      <td>0.0</td>\n",
       "      <td>78.0</td>\n",
       "      <td>-0.0</td>\n",
       "      <td>-581.000</td>\n",
       "      <td>245.000</td>\n",
       "      <td>1647.000</td>\n",
       "      <td>0.0</td>\n",
       "      <td>791.6740</td>\n",
       "      <td>2652.1079</td>\n",
       "    </tr>\n",
       "    <tr>\n",
       "      <th>2</th>\n",
       "      <td>ACL</td>\n",
       "      <td>2000</td>\n",
       "      <td>245.360</td>\n",
       "      <td>13.484</td>\n",
       "      <td>8.232</td>\n",
       "      <td>146.453</td>\n",
       "      <td>8.461</td>\n",
       "      <td>0.000</td>\n",
       "      <td>86.766</td>\n",
       "      <td>0.000</td>\n",
       "      <td>...</td>\n",
       "      <td>0</td>\n",
       "      <td>0.0</td>\n",
       "      <td>0.0</td>\n",
       "      <td>-0.0</td>\n",
       "      <td>-28.867</td>\n",
       "      <td>12.451</td>\n",
       "      <td>59.687</td>\n",
       "      <td>0.0</td>\n",
       "      <td>35.4745</td>\n",
       "      <td>116.6681</td>\n",
       "    </tr>\n",
       "    <tr>\n",
       "      <th>3</th>\n",
       "      <td>ADB</td>\n",
       "      <td>2000</td>\n",
       "      <td>32.645</td>\n",
       "      <td>2.448</td>\n",
       "      <td>1.466</td>\n",
       "      <td>23.528</td>\n",
       "      <td>0.412</td>\n",
       "      <td>0.000</td>\n",
       "      <td>6.764</td>\n",
       "      <td>0.677</td>\n",
       "      <td>...</td>\n",
       "      <td>0</td>\n",
       "      <td>0.0</td>\n",
       "      <td>0.0</td>\n",
       "      <td>-0.0</td>\n",
       "      <td>-5.897</td>\n",
       "      <td>2.239</td>\n",
       "      <td>16.764</td>\n",
       "      <td>0.0</td>\n",
       "      <td>0.4720</td>\n",
       "      <td>20.2960</td>\n",
       "    </tr>\n",
       "    <tr>\n",
       "      <th>4</th>\n",
       "      <td>ADN</td>\n",
       "      <td>2000</td>\n",
       "      <td>115.721</td>\n",
       "      <td>34.225</td>\n",
       "      <td>24.126</td>\n",
       "      <td>274.148</td>\n",
       "      <td>45.815</td>\n",
       "      <td>3.054</td>\n",
       "      <td>91.628</td>\n",
       "      <td>25.218</td>\n",
       "      <td>...</td>\n",
       "      <td>0</td>\n",
       "      <td>0.0</td>\n",
       "      <td>0.0</td>\n",
       "      <td>-0.0</td>\n",
       "      <td>-34.826</td>\n",
       "      <td>33.961</td>\n",
       "      <td>182.520</td>\n",
       "      <td>0.0</td>\n",
       "      <td>240.4588</td>\n",
       "      <td>884.2819</td>\n",
       "    </tr>\n",
       "  </tbody>\n",
       "</table>\n",
       "<p>5 rows × 52 columns</p>\n",
       "</div>"
      ],
      "text/plain": [
       "  security_code  ddate         売上      営業利益       純利益        総資産  現金･現金同等物  \\\n",
       "0           AAL   2000  14824.000  2368.000  1957.000  30616.000  1061.000   \n",
       "1           ABF   2000   4406.000   327.000   138.000   3867.000    65.000   \n",
       "2           ACL   2000    245.360    13.484     8.232    146.453     8.461   \n",
       "3           ADB   2000     32.645     2.448     1.466     23.528     0.412   \n",
       "4           ADN   2000    115.721    34.225    24.126    274.148    45.815   \n",
       "\n",
       "       有価証券      流動資産    総長期投資     ...      長期社債(当期返済分)  長期借入金(当期返済分)    少数持分  \\\n",
       "0  2344.000  8127.000  935.000     ...                0           0.0  2646.0   \n",
       "1  1133.000  2220.000    4.000     ...                0           0.0    78.0   \n",
       "2     0.000    86.766    0.000     ...                0           0.0     0.0   \n",
       "3     0.000     6.764    0.677     ...                0           0.0     0.0   \n",
       "4     3.054    91.628   25.218     ...                0           0.0     0.0   \n",
       "\n",
       "   自己株金額       人件費     税引前利益    非流動資産合計  自己株式数     発行済株式数       value  \n",
       "0   -0.0 -3067.000  3444.000  22489.000    0.0  1483.8861  22469.2680  \n",
       "1   -0.0  -581.000   245.000   1647.000    0.0   791.6740   2652.1079  \n",
       "2   -0.0   -28.867    12.451     59.687    0.0    35.4745    116.6681  \n",
       "3   -0.0    -5.897     2.239     16.764    0.0     0.4720     20.2960  \n",
       "4   -0.0   -34.826    33.961    182.520    0.0   240.4588    884.2819  \n",
       "\n",
       "[5 rows x 52 columns]"
      ]
     },
     "execution_count": 41,
     "metadata": {},
     "output_type": "execute_result"
    }
   ],
   "source": [
    "df = pd.read_csv('MKTCAP_LN_UNADJ.csv', encoding = 'cp932')\n",
    "\n",
    "# df.shape  # 16711 x 52\n",
    "df = df.drop(df.columns[0], axis = 1 )\n",
    "df.head()"
   ]
  },
  {
   "cell_type": "code",
   "execution_count": 28,
   "metadata": {},
   "outputs": [
    {
     "data": {
      "text/plain": [
       "count      1362.000000\n",
       "mean       2395.904387\n",
       "std       17693.725001\n",
       "min           0.000000\n",
       "25%           7.833900\n",
       "50%          51.008350\n",
       "75%         375.677350\n",
       "max      375211.984500\n",
       "Name: value, dtype: float64"
      ]
     },
     "execution_count": 28,
     "metadata": {},
     "output_type": "execute_result"
    }
   ],
   "source": [
    "df[df['ddate'] == 2015]['value'].describe()"
   ]
  },
  {
   "cell_type": "code",
   "execution_count": 27,
   "metadata": {},
   "outputs": [
    {
     "data": {
      "text/plain": [
       "count     1362\n",
       "unique    1362\n",
       "top        TAX\n",
       "freq         1\n",
       "Name: security_code, dtype: object"
      ]
     },
     "execution_count": 27,
     "metadata": {},
     "output_type": "execute_result"
    }
   ],
   "source": [
    "df[df['ddate'] == 2015]['security_code'].describe()"
   ]
  },
  {
   "cell_type": "code",
   "execution_count": 40,
   "metadata": {},
   "outputs": [
    {
     "data": {
      "text/plain": [
       "False"
      ]
     },
     "execution_count": 40,
     "metadata": {},
     "output_type": "execute_result"
    }
   ],
   "source": [
    "# any NA for unadjusted MKTCAP \n",
    "df.isnull().any(axis = 0)['value']"
   ]
  },
  {
   "cell_type": "code",
   "execution_count": null,
   "metadata": {
    "collapsed": true
   },
   "outputs": [],
   "source": []
  },
  {
   "cell_type": "markdown",
   "metadata": {},
   "source": [
    "# from DB"
   ]
  },
  {
   "cell_type": "code",
   "execution_count": 42,
   "metadata": {},
   "outputs": [
    {
     "data": {
      "text/html": [
       "<div>\n",
       "<style>\n",
       "    .dataframe thead tr:only-child th {\n",
       "        text-align: right;\n",
       "    }\n",
       "\n",
       "    .dataframe thead th {\n",
       "        text-align: left;\n",
       "    }\n",
       "\n",
       "    .dataframe tbody tr th {\n",
       "        vertical-align: top;\n",
       "    }\n",
       "</style>\n",
       "<table border=\"1\" class=\"dataframe\">\n",
       "  <thead>\n",
       "    <tr style=\"text-align: right;\">\n",
       "      <th></th>\n",
       "      <th>security_code</th>\n",
       "    </tr>\n",
       "  </thead>\n",
       "  <tbody>\n",
       "    <tr>\n",
       "      <th>0</th>\n",
       "      <td>7DIG</td>\n",
       "    </tr>\n",
       "    <tr>\n",
       "      <th>1</th>\n",
       "      <td>888</td>\n",
       "    </tr>\n",
       "    <tr>\n",
       "      <th>2</th>\n",
       "      <td>AA/</td>\n",
       "    </tr>\n",
       "    <tr>\n",
       "      <th>3</th>\n",
       "      <td>AAA</td>\n",
       "    </tr>\n",
       "    <tr>\n",
       "      <th>4</th>\n",
       "      <td>AAL</td>\n",
       "    </tr>\n",
       "  </tbody>\n",
       "</table>\n",
       "</div>"
      ],
      "text/plain": [
       "  security_code\n",
       "0          7DIG\n",
       "1           888\n",
       "2           AA/\n",
       "3           AAA\n",
       "4           AAL"
      ]
     },
     "execution_count": 42,
     "metadata": {},
     "output_type": "execute_result"
    }
   ],
   "source": [
    "tk_2015 = pd.read_csv('tk_2015.csv', encoding = 'cp932')\n",
    "tk_2015.head()"
   ]
  },
  {
   "cell_type": "code",
   "execution_count": 101,
   "metadata": {
    "scrolled": true
   },
   "outputs": [
    {
     "data": {
      "text/html": [
       "<div>\n",
       "<style>\n",
       "    .dataframe thead tr:only-child th {\n",
       "        text-align: right;\n",
       "    }\n",
       "\n",
       "    .dataframe thead th {\n",
       "        text-align: left;\n",
       "    }\n",
       "\n",
       "    .dataframe tbody tr th {\n",
       "        vertical-align: top;\n",
       "    }\n",
       "</style>\n",
       "<table border=\"1\" class=\"dataframe\">\n",
       "  <thead>\n",
       "    <tr style=\"text-align: right;\">\n",
       "      <th></th>\n",
       "      <th>security_code</th>\n",
       "      <th>value</th>\n",
       "    </tr>\n",
       "  </thead>\n",
       "  <tbody>\n",
       "    <tr>\n",
       "      <th>0</th>\n",
       "      <td>7DIG</td>\n",
       "      <td>7.7257</td>\n",
       "    </tr>\n",
       "    <tr>\n",
       "      <th>1</th>\n",
       "      <td>888</td>\n",
       "      <td>960.1755</td>\n",
       "    </tr>\n",
       "    <tr>\n",
       "      <th>2</th>\n",
       "      <td>AA/</td>\n",
       "      <td>1981.9350</td>\n",
       "    </tr>\n",
       "    <tr>\n",
       "      <th>3</th>\n",
       "      <td>AAA</td>\n",
       "      <td>32.9880</td>\n",
       "    </tr>\n",
       "    <tr>\n",
       "      <th>4</th>\n",
       "      <td>AAL</td>\n",
       "      <td>5667.4586</td>\n",
       "    </tr>\n",
       "  </tbody>\n",
       "</table>\n",
       "</div>"
      ],
      "text/plain": [
       "  security_code      value\n",
       "0          7DIG     7.7257\n",
       "1           888   960.1755\n",
       "2           AA/  1981.9350\n",
       "3           AAA    32.9880\n",
       "4           AAL  5667.4586"
      ]
     },
     "execution_count": 101,
     "metadata": {},
     "output_type": "execute_result"
    }
   ],
   "source": [
    "tk_mc2015 = pd.read_csv('tk_mc2015.csv', encoding = 'cp932')\n",
    "\n",
    "\n",
    "tk_mc2015.head()"
   ]
  },
  {
   "cell_type": "code",
   "execution_count": null,
   "metadata": {
    "collapsed": true
   },
   "outputs": [],
   "source": []
  },
  {
   "cell_type": "code",
   "execution_count": 68,
   "metadata": {},
   "outputs": [],
   "source": [
    "# tk_mc2015 = pd.read_csv('tk_mc2015.csv', encoding = 'cp932')\n",
    "\n",
    "# tk_mc2015['with_mktcap']  = tk_mc2015['security_code']\n",
    "\n",
    "# del tk_mc2015['security_code']\n",
    "\n",
    "# tk_mc2015.head()"
   ]
  },
  {
   "cell_type": "code",
   "execution_count": 82,
   "metadata": {},
   "outputs": [
    {
     "name": "stdout",
     "output_type": "stream",
     "text": [
      "(1365, 2)\n"
     ]
    },
    {
     "data": {
      "text/html": [
       "<div>\n",
       "<style>\n",
       "    .dataframe thead tr:only-child th {\n",
       "        text-align: right;\n",
       "    }\n",
       "\n",
       "    .dataframe thead th {\n",
       "        text-align: left;\n",
       "    }\n",
       "\n",
       "    .dataframe tbody tr th {\n",
       "        vertical-align: top;\n",
       "    }\n",
       "</style>\n",
       "<table border=\"1\" class=\"dataframe\">\n",
       "  <thead>\n",
       "    <tr style=\"text-align: right;\">\n",
       "      <th></th>\n",
       "      <th>security_code</th>\n",
       "      <th>value</th>\n",
       "    </tr>\n",
       "  </thead>\n",
       "  <tbody>\n",
       "    <tr>\n",
       "      <th>0</th>\n",
       "      <td>7DIG</td>\n",
       "      <td>7.7257</td>\n",
       "    </tr>\n",
       "    <tr>\n",
       "      <th>1</th>\n",
       "      <td>888</td>\n",
       "      <td>960.1755</td>\n",
       "    </tr>\n",
       "    <tr>\n",
       "      <th>2</th>\n",
       "      <td>AA/</td>\n",
       "      <td>1981.9350</td>\n",
       "    </tr>\n",
       "    <tr>\n",
       "      <th>3</th>\n",
       "      <td>AAA</td>\n",
       "      <td>32.9880</td>\n",
       "    </tr>\n",
       "    <tr>\n",
       "      <th>4</th>\n",
       "      <td>AAL</td>\n",
       "      <td>5667.4586</td>\n",
       "    </tr>\n",
       "  </tbody>\n",
       "</table>\n",
       "</div>"
      ],
      "text/plain": [
       "  security_code      value\n",
       "0          7DIG     7.7257\n",
       "1           888   960.1755\n",
       "2           AA/  1981.9350\n",
       "3           AAA    32.9880\n",
       "4           AAL  5667.4586"
      ]
     },
     "execution_count": 82,
     "metadata": {},
     "output_type": "execute_result"
    }
   ],
   "source": [
    "outer = pd.merge(tk_2015, tk_mc2015, on = 'security_code', how = 'outer')\n",
    "\n",
    "print (outer.shape)\n",
    "\n",
    "outer.head()"
   ]
  },
  {
   "cell_type": "code",
   "execution_count": 141,
   "metadata": {},
   "outputs": [
    {
     "name": "stdout",
     "output_type": "stream",
     "text": [
      "(91, 2)\n"
     ]
    },
    {
     "data": {
      "text/html": [
       "<div>\n",
       "<style>\n",
       "    .dataframe thead tr:only-child th {\n",
       "        text-align: right;\n",
       "    }\n",
       "\n",
       "    .dataframe thead th {\n",
       "        text-align: left;\n",
       "    }\n",
       "\n",
       "    .dataframe tbody tr th {\n",
       "        vertical-align: top;\n",
       "    }\n",
       "</style>\n",
       "<table border=\"1\" class=\"dataframe\">\n",
       "  <thead>\n",
       "    <tr style=\"text-align: right;\">\n",
       "      <th></th>\n",
       "      <th>security_code</th>\n",
       "      <th>value</th>\n",
       "    </tr>\n",
       "  </thead>\n",
       "  <tbody>\n",
       "    <tr>\n",
       "      <th>17</th>\n",
       "      <td>ACRL</td>\n",
       "      <td>NaN</td>\n",
       "    </tr>\n",
       "    <tr>\n",
       "      <th>24</th>\n",
       "      <td>ADES</td>\n",
       "      <td>NaN</td>\n",
       "    </tr>\n",
       "    <tr>\n",
       "      <th>36</th>\n",
       "      <td>AFID</td>\n",
       "      <td>NaN</td>\n",
       "    </tr>\n",
       "    <tr>\n",
       "      <th>71</th>\n",
       "      <td>ANGS</td>\n",
       "      <td>NaN</td>\n",
       "    </tr>\n",
       "    <tr>\n",
       "      <th>87</th>\n",
       "      <td>ARS</td>\n",
       "      <td>NaN</td>\n",
       "    </tr>\n",
       "  </tbody>\n",
       "</table>\n",
       "</div>"
      ],
      "text/plain": [
       "   security_code  value\n",
       "17          ACRL    NaN\n",
       "24          ADES    NaN\n",
       "36          AFID    NaN\n",
       "71          ANGS    NaN\n",
       "87           ARS    NaN"
      ]
     },
     "execution_count": 141,
     "metadata": {},
     "output_type": "execute_result"
    }
   ],
   "source": [
    "# these values are stored as NaN in the DB, while as 0.0 in Excel \n",
    "\n",
    "outerzero = outer[outer.isnull().any(axis = 1)]\n",
    "\n",
    "print(outerzero.shape)\n",
    "outerzero.head()"
   ]
  },
  {
   "cell_type": "code",
   "execution_count": 139,
   "metadata": {},
   "outputs": [
    {
     "name": "stdout",
     "output_type": "stream",
     "text": [
      "(1362, 1)\n",
      "(1362, 52)\n",
      "(1274, 2)\n"
     ]
    },
    {
     "data": {
      "text/plain": [
       "88"
      ]
     },
     "execution_count": 139,
     "metadata": {},
     "output_type": "execute_result"
    }
   ],
   "source": [
    "print (tk_2015.shape)\n",
    "# which is the same as the result from querry in the unadjusted data set \n",
    "print (df[df['ddate'] == 2015].shape)\n",
    "\n",
    "# tickers with market cap values \n",
    "print(tk_mc2015.shape)\n",
    "\n",
    "tk_2015.shape[0] - tk_mc2015.shape[0]"
   ]
  },
  {
   "cell_type": "code",
   "execution_count": 140,
   "metadata": {},
   "outputs": [
    {
     "name": "stdout",
     "output_type": "stream",
     "text": [
      "(91, 2)\n"
     ]
    },
    {
     "data": {
      "text/html": [
       "<div>\n",
       "<style>\n",
       "    .dataframe thead tr:only-child th {\n",
       "        text-align: right;\n",
       "    }\n",
       "\n",
       "    .dataframe thead th {\n",
       "        text-align: left;\n",
       "    }\n",
       "\n",
       "    .dataframe tbody tr th {\n",
       "        vertical-align: top;\n",
       "    }\n",
       "</style>\n",
       "<table border=\"1\" class=\"dataframe\">\n",
       "  <thead>\n",
       "    <tr style=\"text-align: right;\">\n",
       "      <th></th>\n",
       "      <th>security_code</th>\n",
       "      <th>value</th>\n",
       "    </tr>\n",
       "  </thead>\n",
       "  <tbody>\n",
       "    <tr>\n",
       "      <th>13763</th>\n",
       "      <td>ACRL</td>\n",
       "      <td>0.0</td>\n",
       "    </tr>\n",
       "    <tr>\n",
       "      <th>13770</th>\n",
       "      <td>ADES</td>\n",
       "      <td>0.0</td>\n",
       "    </tr>\n",
       "    <tr>\n",
       "      <th>13781</th>\n",
       "      <td>AFID</td>\n",
       "      <td>0.0</td>\n",
       "    </tr>\n",
       "    <tr>\n",
       "      <th>13816</th>\n",
       "      <td>ANGS</td>\n",
       "      <td>0.0</td>\n",
       "    </tr>\n",
       "    <tr>\n",
       "      <th>13832</th>\n",
       "      <td>ARS</td>\n",
       "      <td>0.0</td>\n",
       "    </tr>\n",
       "  </tbody>\n",
       "</table>\n",
       "</div>"
      ],
      "text/plain": [
       "      security_code  value\n",
       "13763          ACRL    0.0\n",
       "13770          ADES    0.0\n",
       "13781          AFID    0.0\n",
       "13816          ANGS    0.0\n",
       "13832           ARS    0.0"
      ]
     },
     "execution_count": 140,
     "metadata": {},
     "output_type": "execute_result"
    }
   ],
   "source": [
    "# working on the unadjusted mktcap dataset from .csv - results are different for 2 entries\n",
    "\n",
    "dataset = df[df['value'] == 0][df[df['value'] == 0]['ddate'] == 2015][['security_code', 'value']]\n",
    "\n",
    "print(dataset.shape)\n",
    "dataset.head()"
   ]
  },
  {
   "cell_type": "code",
   "execution_count": 131,
   "metadata": {},
   "outputs": [
    {
     "data": {
      "text/plain": [
       "set()"
      ]
     },
     "execution_count": 131,
     "metadata": {},
     "output_type": "execute_result"
    }
   ],
   "source": [
    "set(list(dataset['security_code'].values)) - set(list(outerzero['security_code'].values))"
   ]
  },
  {
   "cell_type": "code",
   "execution_count": 138,
   "metadata": {},
   "outputs": [
    {
     "name": "stdout",
     "output_type": "stream",
     "text": [
      "91 91\n"
     ]
    },
    {
     "data": {
      "text/plain": [
       "[]"
      ]
     },
     "execution_count": 138,
     "metadata": {},
     "output_type": "execute_result"
    }
   ],
   "source": [
    "a = list(dataset['security_code'].values)\n",
    "b = list(outerzero['security_code'].values)\n",
    "\n",
    "print (len(a), len(b))\n",
    "\n",
    "[x for x in a if x not in b ]"
   ]
  },
  {
   "cell_type": "code",
   "execution_count": 81,
   "metadata": {},
   "outputs": [
    {
     "data": {
      "text/html": [
       "<div>\n",
       "<style>\n",
       "    .dataframe thead tr:only-child th {\n",
       "        text-align: right;\n",
       "    }\n",
       "\n",
       "    .dataframe thead th {\n",
       "        text-align: left;\n",
       "    }\n",
       "\n",
       "    .dataframe tbody tr th {\n",
       "        vertical-align: top;\n",
       "    }\n",
       "</style>\n",
       "<table border=\"1\" class=\"dataframe\">\n",
       "  <thead>\n",
       "    <tr style=\"text-align: right;\">\n",
       "      <th></th>\n",
       "      <th>security_code</th>\n",
       "      <th>ddate</th>\n",
       "      <th>売上</th>\n",
       "      <th>営業利益</th>\n",
       "      <th>純利益</th>\n",
       "      <th>総資産</th>\n",
       "      <th>現金･現金同等物</th>\n",
       "      <th>有価証券</th>\n",
       "      <th>流動資産</th>\n",
       "      <th>総長期投資</th>\n",
       "      <th>...</th>\n",
       "      <th>長期社債(当期返済分)</th>\n",
       "      <th>長期借入金(当期返済分)</th>\n",
       "      <th>少数持分</th>\n",
       "      <th>自己株金額</th>\n",
       "      <th>人件費</th>\n",
       "      <th>税引前利益</th>\n",
       "      <th>非流動資産合計</th>\n",
       "      <th>自己株式数</th>\n",
       "      <th>発行済株式数</th>\n",
       "      <th>value</th>\n",
       "    </tr>\n",
       "  </thead>\n",
       "  <tbody>\n",
       "    <tr>\n",
       "      <th>9799</th>\n",
       "      <td>WEY</td>\n",
       "      <td>2011</td>\n",
       "      <td>0.1213</td>\n",
       "      <td>-0.3887</td>\n",
       "      <td>-0.3885</td>\n",
       "      <td>0.4540</td>\n",
       "      <td>0.3184</td>\n",
       "      <td>0.0</td>\n",
       "      <td>0.3687</td>\n",
       "      <td>0.0</td>\n",
       "      <td>...</td>\n",
       "      <td>0</td>\n",
       "      <td>0.0</td>\n",
       "      <td>0.0</td>\n",
       "      <td>-0.0</td>\n",
       "      <td>-0.0000</td>\n",
       "      <td>-0.3885</td>\n",
       "      <td>0.0852</td>\n",
       "      <td>0.0</td>\n",
       "      <td>11.5638</td>\n",
       "      <td>0.0000</td>\n",
       "    </tr>\n",
       "    <tr>\n",
       "      <th>11059</th>\n",
       "      <td>WEY</td>\n",
       "      <td>2012</td>\n",
       "      <td>0.2402</td>\n",
       "      <td>-0.3793</td>\n",
       "      <td>-0.4557</td>\n",
       "      <td>0.1332</td>\n",
       "      <td>0.0429</td>\n",
       "      <td>0.0</td>\n",
       "      <td>0.1281</td>\n",
       "      <td>0.0</td>\n",
       "      <td>...</td>\n",
       "      <td>0</td>\n",
       "      <td>0.0</td>\n",
       "      <td>0.0</td>\n",
       "      <td>-0.0</td>\n",
       "      <td>-0.0938</td>\n",
       "      <td>-0.4557</td>\n",
       "      <td>0.0051</td>\n",
       "      <td>0.0</td>\n",
       "      <td>13.8652</td>\n",
       "      <td>0.0000</td>\n",
       "    </tr>\n",
       "    <tr>\n",
       "      <th>12365</th>\n",
       "      <td>WEY</td>\n",
       "      <td>2013</td>\n",
       "      <td>0.1301</td>\n",
       "      <td>-0.1618</td>\n",
       "      <td>-0.1688</td>\n",
       "      <td>0.1251</td>\n",
       "      <td>0.0843</td>\n",
       "      <td>0.0</td>\n",
       "      <td>0.1235</td>\n",
       "      <td>0.0</td>\n",
       "      <td>...</td>\n",
       "      <td>0</td>\n",
       "      <td>0.0</td>\n",
       "      <td>0.0</td>\n",
       "      <td>-0.0</td>\n",
       "      <td>-0.0946</td>\n",
       "      <td>-0.1688</td>\n",
       "      <td>0.0015</td>\n",
       "      <td>0.0</td>\n",
       "      <td>13.8652</td>\n",
       "      <td>0.0000</td>\n",
       "    </tr>\n",
       "    <tr>\n",
       "      <th>13703</th>\n",
       "      <td>WEY</td>\n",
       "      <td>2014</td>\n",
       "      <td>0.0553</td>\n",
       "      <td>-0.2973</td>\n",
       "      <td>-0.3131</td>\n",
       "      <td>0.0529</td>\n",
       "      <td>0.0058</td>\n",
       "      <td>0.0</td>\n",
       "      <td>0.0529</td>\n",
       "      <td>0.0</td>\n",
       "      <td>...</td>\n",
       "      <td>0</td>\n",
       "      <td>0.0</td>\n",
       "      <td>0.0</td>\n",
       "      <td>-0.0</td>\n",
       "      <td>-0.1065</td>\n",
       "      <td>-0.3129</td>\n",
       "      <td>0.0000</td>\n",
       "      <td>0.0</td>\n",
       "      <td>13.8652</td>\n",
       "      <td>0.0000</td>\n",
       "    </tr>\n",
       "    <tr>\n",
       "      <th>15064</th>\n",
       "      <td>WEY</td>\n",
       "      <td>2015</td>\n",
       "      <td>0.0000</td>\n",
       "      <td>0.0000</td>\n",
       "      <td>0.0000</td>\n",
       "      <td>1.2995</td>\n",
       "      <td>0.0974</td>\n",
       "      <td>0.0</td>\n",
       "      <td>0.3168</td>\n",
       "      <td>0.0</td>\n",
       "      <td>...</td>\n",
       "      <td>0</td>\n",
       "      <td>0.0</td>\n",
       "      <td>0.0</td>\n",
       "      <td>-0.0</td>\n",
       "      <td>-0.0000</td>\n",
       "      <td>0.0000</td>\n",
       "      <td>0.9827</td>\n",
       "      <td>0.0</td>\n",
       "      <td>43.9711</td>\n",
       "      <td>0.0000</td>\n",
       "    </tr>\n",
       "    <tr>\n",
       "      <th>16411</th>\n",
       "      <td>WEY</td>\n",
       "      <td>2016</td>\n",
       "      <td>1.5158</td>\n",
       "      <td>-0.8023</td>\n",
       "      <td>-0.8258</td>\n",
       "      <td>1.9871</td>\n",
       "      <td>0.9099</td>\n",
       "      <td>0.0</td>\n",
       "      <td>1.1271</td>\n",
       "      <td>0.0</td>\n",
       "      <td>...</td>\n",
       "      <td>0</td>\n",
       "      <td>0.0</td>\n",
       "      <td>0.0</td>\n",
       "      <td>-0.0</td>\n",
       "      <td>-0.0000</td>\n",
       "      <td>-0.8066</td>\n",
       "      <td>0.8600</td>\n",
       "      <td>0.0</td>\n",
       "      <td>95.7712</td>\n",
       "      <td>3.4717</td>\n",
       "    </tr>\n",
       "  </tbody>\n",
       "</table>\n",
       "<p>6 rows × 52 columns</p>\n",
       "</div>"
      ],
      "text/plain": [
       "      security_code  ddate      売上    営業利益     純利益     総資産  現金･現金同等物  有価証券  \\\n",
       "9799            WEY   2011  0.1213 -0.3887 -0.3885  0.4540    0.3184   0.0   \n",
       "11059           WEY   2012  0.2402 -0.3793 -0.4557  0.1332    0.0429   0.0   \n",
       "12365           WEY   2013  0.1301 -0.1618 -0.1688  0.1251    0.0843   0.0   \n",
       "13703           WEY   2014  0.0553 -0.2973 -0.3131  0.0529    0.0058   0.0   \n",
       "15064           WEY   2015  0.0000  0.0000  0.0000  1.2995    0.0974   0.0   \n",
       "16411           WEY   2016  1.5158 -0.8023 -0.8258  1.9871    0.9099   0.0   \n",
       "\n",
       "         流動資産  総長期投資   ...    長期社債(当期返済分)  長期借入金(当期返済分)  少数持分  自己株金額     人件費  \\\n",
       "9799   0.3687    0.0   ...              0           0.0   0.0   -0.0 -0.0000   \n",
       "11059  0.1281    0.0   ...              0           0.0   0.0   -0.0 -0.0938   \n",
       "12365  0.1235    0.0   ...              0           0.0   0.0   -0.0 -0.0946   \n",
       "13703  0.0529    0.0   ...              0           0.0   0.0   -0.0 -0.1065   \n",
       "15064  0.3168    0.0   ...              0           0.0   0.0   -0.0 -0.0000   \n",
       "16411  1.1271    0.0   ...              0           0.0   0.0   -0.0 -0.0000   \n",
       "\n",
       "        税引前利益  非流動資産合計  自己株式数   発行済株式数   value  \n",
       "9799  -0.3885   0.0852    0.0  11.5638  0.0000  \n",
       "11059 -0.4557   0.0051    0.0  13.8652  0.0000  \n",
       "12365 -0.1688   0.0015    0.0  13.8652  0.0000  \n",
       "13703 -0.3129   0.0000    0.0  13.8652  0.0000  \n",
       "15064  0.0000   0.9827    0.0  43.9711  0.0000  \n",
       "16411 -0.8066   0.8600    0.0  95.7712  3.4717  \n",
       "\n",
       "[6 rows x 52 columns]"
      ]
     },
     "execution_count": 81,
     "metadata": {},
     "output_type": "execute_result"
    }
   ],
   "source": [
    "df[df['security_code'] == 'WEY']"
   ]
  },
  {
   "cell_type": "code",
   "execution_count": null,
   "metadata": {
    "collapsed": true
   },
   "outputs": [],
   "source": []
  },
  {
   "cell_type": "code",
   "execution_count": null,
   "metadata": {
    "collapsed": true
   },
   "outputs": [],
   "source": []
  },
  {
   "cell_type": "code",
   "execution_count": null,
   "metadata": {
    "collapsed": true
   },
   "outputs": [],
   "source": []
  },
  {
   "cell_type": "code",
   "execution_count": 144,
   "metadata": {},
   "outputs": [
    {
     "name": "stdout",
     "output_type": "stream",
     "text": [
      "(1347, 1) (1311, 2)\n"
     ]
    },
    {
     "data": {
      "text/plain": [
       "36"
      ]
     },
     "execution_count": 144,
     "metadata": {},
     "output_type": "execute_result"
    }
   ],
   "source": [
    "tk_2016 = pd.read_csv('tk_2016.csv', encoding = 'cp932')\n",
    "tk_mc2016 = pd.read_csv('tk_mc2016.csv', encoding = 'cp932')\n",
    "\n",
    "print (tk_2016.shape, tk_mc2016.shape)\n",
    "\n",
    "tk_2016.shape[0] - tk_mc2016.shape[0]"
   ]
  },
  {
   "cell_type": "code",
   "execution_count": 146,
   "metadata": {},
   "outputs": [
    {
     "name": "stdout",
     "output_type": "stream",
     "text": [
      "(1354, 2)\n"
     ]
    },
    {
     "data": {
      "text/html": [
       "<div>\n",
       "<style>\n",
       "    .dataframe thead tr:only-child th {\n",
       "        text-align: right;\n",
       "    }\n",
       "\n",
       "    .dataframe thead th {\n",
       "        text-align: left;\n",
       "    }\n",
       "\n",
       "    .dataframe tbody tr th {\n",
       "        vertical-align: top;\n",
       "    }\n",
       "</style>\n",
       "<table border=\"1\" class=\"dataframe\">\n",
       "  <thead>\n",
       "    <tr style=\"text-align: right;\">\n",
       "      <th></th>\n",
       "      <th>security_code</th>\n",
       "      <th>value</th>\n",
       "    </tr>\n",
       "  </thead>\n",
       "  <tbody>\n",
       "    <tr>\n",
       "      <th>0</th>\n",
       "      <td>7DIG</td>\n",
       "      <td>7.3014</td>\n",
       "    </tr>\n",
       "    <tr>\n",
       "      <th>1</th>\n",
       "      <td>888</td>\n",
       "      <td>960.6034</td>\n",
       "    </tr>\n",
       "    <tr>\n",
       "      <th>2</th>\n",
       "      <td>AA/</td>\n",
       "      <td>1790.4874</td>\n",
       "    </tr>\n",
       "    <tr>\n",
       "      <th>3</th>\n",
       "      <td>AAA</td>\n",
       "      <td>20.2185</td>\n",
       "    </tr>\n",
       "    <tr>\n",
       "      <th>4</th>\n",
       "      <td>AAL</td>\n",
       "      <td>18308.3621</td>\n",
       "    </tr>\n",
       "  </tbody>\n",
       "</table>\n",
       "</div>"
      ],
      "text/plain": [
       "  security_code       value\n",
       "0          7DIG      7.3014\n",
       "1           888    960.6034\n",
       "2           AA/   1790.4874\n",
       "3           AAA     20.2185\n",
       "4           AAL  18308.3621"
      ]
     },
     "execution_count": 146,
     "metadata": {},
     "output_type": "execute_result"
    }
   ],
   "source": [
    "# based on data in the  DB\n",
    "\n",
    "out = pd.merge(tk_2016, tk_mc2016, how = 'outer', on = 'security_code')\n",
    "\n",
    "print(out.shape)\n",
    "out.head()"
   ]
  },
  {
   "cell_type": "code",
   "execution_count": 150,
   "metadata": {},
   "outputs": [
    {
     "name": "stdout",
     "output_type": "stream",
     "text": [
      "(43, 2)\n"
     ]
    },
    {
     "data": {
      "text/html": [
       "<div>\n",
       "<style>\n",
       "    .dataframe thead tr:only-child th {\n",
       "        text-align: right;\n",
       "    }\n",
       "\n",
       "    .dataframe thead th {\n",
       "        text-align: left;\n",
       "    }\n",
       "\n",
       "    .dataframe tbody tr th {\n",
       "        vertical-align: top;\n",
       "    }\n",
       "</style>\n",
       "<table border=\"1\" class=\"dataframe\">\n",
       "  <thead>\n",
       "    <tr style=\"text-align: right;\">\n",
       "      <th></th>\n",
       "      <th>security_code</th>\n",
       "      <th>value</th>\n",
       "    </tr>\n",
       "  </thead>\n",
       "  <tbody>\n",
       "    <tr>\n",
       "      <th>5</th>\n",
       "      <td>AAOG</td>\n",
       "      <td>NaN</td>\n",
       "    </tr>\n",
       "    <tr>\n",
       "      <th>17</th>\n",
       "      <td>ACRL</td>\n",
       "      <td>NaN</td>\n",
       "    </tr>\n",
       "    <tr>\n",
       "      <th>24</th>\n",
       "      <td>ADES</td>\n",
       "      <td>NaN</td>\n",
       "    </tr>\n",
       "    <tr>\n",
       "      <th>35</th>\n",
       "      <td>AFID</td>\n",
       "      <td>NaN</td>\n",
       "    </tr>\n",
       "    <tr>\n",
       "      <th>68</th>\n",
       "      <td>ANGS</td>\n",
       "      <td>NaN</td>\n",
       "    </tr>\n",
       "  </tbody>\n",
       "</table>\n",
       "</div>"
      ],
      "text/plain": [
       "   security_code  value\n",
       "5           AAOG    NaN\n",
       "17          ACRL    NaN\n",
       "24          ADES    NaN\n",
       "35          AFID    NaN\n",
       "68          ANGS    NaN"
      ]
     },
     "execution_count": 150,
     "metadata": {},
     "output_type": "execute_result"
    }
   ],
   "source": [
    "# companies without MKTCAP entries from DB\n",
    "\n",
    "outcomp = out[out.isnull().any(axis = 1)]\n",
    "print (outcomp.shape)\n",
    "outcomp.head()"
   ]
  },
  {
   "cell_type": "code",
   "execution_count": 154,
   "metadata": {},
   "outputs": [
    {
     "name": "stdout",
     "output_type": "stream",
     "text": [
      "(43, 2)\n"
     ]
    },
    {
     "data": {
      "text/html": [
       "<div>\n",
       "<style>\n",
       "    .dataframe thead tr:only-child th {\n",
       "        text-align: right;\n",
       "    }\n",
       "\n",
       "    .dataframe thead th {\n",
       "        text-align: left;\n",
       "    }\n",
       "\n",
       "    .dataframe tbody tr th {\n",
       "        vertical-align: top;\n",
       "    }\n",
       "</style>\n",
       "<table border=\"1\" class=\"dataframe\">\n",
       "  <thead>\n",
       "    <tr style=\"text-align: right;\">\n",
       "      <th></th>\n",
       "      <th>security_code</th>\n",
       "      <th>value</th>\n",
       "    </tr>\n",
       "  </thead>\n",
       "  <tbody>\n",
       "    <tr>\n",
       "      <th>15113</th>\n",
       "      <td>AAOG</td>\n",
       "      <td>0.0</td>\n",
       "    </tr>\n",
       "    <tr>\n",
       "      <th>15125</th>\n",
       "      <td>ACRL</td>\n",
       "      <td>0.0</td>\n",
       "    </tr>\n",
       "    <tr>\n",
       "      <th>15132</th>\n",
       "      <td>ADES</td>\n",
       "      <td>0.0</td>\n",
       "    </tr>\n",
       "    <tr>\n",
       "      <th>15142</th>\n",
       "      <td>AFID</td>\n",
       "      <td>0.0</td>\n",
       "    </tr>\n",
       "    <tr>\n",
       "      <th>15175</th>\n",
       "      <td>ANGS</td>\n",
       "      <td>0.0</td>\n",
       "    </tr>\n",
       "  </tbody>\n",
       "</table>\n",
       "</div>"
      ],
      "text/plain": [
       "      security_code  value\n",
       "15113          AAOG    0.0\n",
       "15125          ACRL    0.0\n",
       "15132          ADES    0.0\n",
       "15142          AFID    0.0\n",
       "15175          ANGS    0.0"
      ]
     },
     "execution_count": 154,
     "metadata": {},
     "output_type": "execute_result"
    }
   ],
   "source": [
    "# based on data from the unadjusted MKTCAP .csv\n",
    "\n",
    "undata = df[df['value'] == 0][df[df['value'] == 0]['ddate'] == 2016][['security_code', 'value']]\n",
    "\n",
    "print (undata.shape)\n",
    "undata.head()"
   ]
  },
  {
   "cell_type": "code",
   "execution_count": 155,
   "metadata": {},
   "outputs": [
    {
     "data": {
      "text/plain": [
       "set()"
      ]
     },
     "execution_count": 155,
     "metadata": {},
     "output_type": "execute_result"
    }
   ],
   "source": [
    "set(outcomp['security_code']) - set(undata['security_code'])"
   ]
  },
  {
   "cell_type": "code",
   "execution_count": null,
   "metadata": {
    "collapsed": true
   },
   "outputs": [],
   "source": []
  }
 ],
 "metadata": {
  "kernelspec": {
   "display_name": "Python 3",
   "language": "python",
   "name": "python3"
  },
  "language_info": {
   "codemirror_mode": {
    "name": "ipython",
    "version": 3
   },
   "file_extension": ".py",
   "mimetype": "text/x-python",
   "name": "python",
   "nbconvert_exporter": "python",
   "pygments_lexer": "ipython3",
   "version": "3.6.1"
  }
 },
 "nbformat": 4,
 "nbformat_minor": 2
}
