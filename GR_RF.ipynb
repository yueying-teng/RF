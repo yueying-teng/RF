{
 "cells": [
  {
   "cell_type": "markdown",
   "metadata": {},
   "source": [
    "###  GR MARKET"
   ]
  },
  {
   "cell_type": "code",
   "execution_count": 1,
   "metadata": {
    "collapsed": true
   },
   "outputs": [],
   "source": [
    "import numpy as np\n",
    "import pandas as pd\n",
    "\n",
    "import matplotlib.pyplot as plt\n",
    "import seaborn as sns\n",
    "%matplotlib inline \n",
    "import matplotlib.markers"
   ]
  },
  {
   "cell_type": "code",
   "execution_count": 2,
   "metadata": {
    "collapsed": true
   },
   "outputs": [],
   "source": [
    "# filepath = 'C:\\\\Users\\\\1098071\\\\Documents\\\\RF\\\\'"
   ]
  },
  {
   "cell_type": "code",
   "execution_count": 115,
   "metadata": {},
   "outputs": [
    {
     "data": {
      "text/html": [
       "<div>\n",
       "<style>\n",
       "    .dataframe thead tr:only-child th {\n",
       "        text-align: right;\n",
       "    }\n",
       "\n",
       "    .dataframe thead th {\n",
       "        text-align: left;\n",
       "    }\n",
       "\n",
       "    .dataframe tbody tr th {\n",
       "        vertical-align: top;\n",
       "    }\n",
       "</style>\n",
       "<table border=\"1\" class=\"dataframe\">\n",
       "  <thead>\n",
       "    <tr style=\"text-align: right;\">\n",
       "      <th></th>\n",
       "      <th>ddate</th>\n",
       "      <th>security_code</th>\n",
       "      <th>時価総額</th>\n",
       "      <th>売上</th>\n",
       "      <th>営業利益</th>\n",
       "      <th>純利益</th>\n",
       "      <th>総資産</th>\n",
       "      <th>現金･現金同等物</th>\n",
       "      <th>有価証券</th>\n",
       "      <th>流動資産</th>\n",
       "      <th>...</th>\n",
       "      <th>営業資産</th>\n",
       "      <th>営業負債</th>\n",
       "      <th>有形固定</th>\n",
       "      <th>使用資産</th>\n",
       "      <th>ROIC</th>\n",
       "      <th>EY</th>\n",
       "      <th>MAGIC</th>\n",
       "      <th>ROIC2</th>\n",
       "      <th>EY2</th>\n",
       "      <th>MKTCAP</th>\n",
       "    </tr>\n",
       "  </thead>\n",
       "  <tbody>\n",
       "    <tr>\n",
       "      <th>0</th>\n",
       "      <td>2000</td>\n",
       "      <td>2HRA</td>\n",
       "      <td>0.000</td>\n",
       "      <td>43.9143</td>\n",
       "      <td>3.2794</td>\n",
       "      <td>3.2482</td>\n",
       "      <td>34.0403</td>\n",
       "      <td>4.4293</td>\n",
       "      <td>1.0819</td>\n",
       "      <td>17.3527</td>\n",
       "      <td>...</td>\n",
       "      <td>11.8415</td>\n",
       "      <td>-9.3213</td>\n",
       "      <td>14.6434</td>\n",
       "      <td>17.1636</td>\n",
       "      <td>0.191067</td>\n",
       "      <td>inf</td>\n",
       "      <td>inf</td>\n",
       "      <td>0.133741</td>\n",
       "      <td>-0.792145</td>\n",
       "      <td>0.000</td>\n",
       "    </tr>\n",
       "    <tr>\n",
       "      <th>1</th>\n",
       "      <td>2000</td>\n",
       "      <td>A1OS</td>\n",
       "      <td>0.000</td>\n",
       "      <td>40.9510</td>\n",
       "      <td>0.2350</td>\n",
       "      <td>-0.7530</td>\n",
       "      <td>44.2850</td>\n",
       "      <td>1.7340</td>\n",
       "      <td>4.4300</td>\n",
       "      <td>19.6690</td>\n",
       "      <td>...</td>\n",
       "      <td>13.5050</td>\n",
       "      <td>-12.8700</td>\n",
       "      <td>12.8810</td>\n",
       "      <td>13.5160</td>\n",
       "      <td>0.017387</td>\n",
       "      <td>inf</td>\n",
       "      <td>inf</td>\n",
       "      <td>0.008256</td>\n",
       "      <td>0.183450</td>\n",
       "      <td>0.000</td>\n",
       "    </tr>\n",
       "    <tr>\n",
       "      <th>2</th>\n",
       "      <td>2000</td>\n",
       "      <td>AAA</td>\n",
       "      <td>0.000</td>\n",
       "      <td>10.9207</td>\n",
       "      <td>3.0013</td>\n",
       "      <td>2.0257</td>\n",
       "      <td>83.9710</td>\n",
       "      <td>0.0793</td>\n",
       "      <td>0.0000</td>\n",
       "      <td>0.0000</td>\n",
       "      <td>...</td>\n",
       "      <td>-0.0793</td>\n",
       "      <td>8.0549</td>\n",
       "      <td>78.5441</td>\n",
       "      <td>86.5197</td>\n",
       "      <td>0.034689</td>\n",
       "      <td>inf</td>\n",
       "      <td>inf</td>\n",
       "      <td>0.035742</td>\n",
       "      <td>0.064360</td>\n",
       "      <td>0.000</td>\n",
       "    </tr>\n",
       "    <tr>\n",
       "      <th>3</th>\n",
       "      <td>2000</td>\n",
       "      <td>AAD</td>\n",
       "      <td>91.902</td>\n",
       "      <td>34.2833</td>\n",
       "      <td>4.7588</td>\n",
       "      <td>2.6313</td>\n",
       "      <td>24.5565</td>\n",
       "      <td>17.7117</td>\n",
       "      <td>0.0000</td>\n",
       "      <td>21.2303</td>\n",
       "      <td>...</td>\n",
       "      <td>3.5186</td>\n",
       "      <td>-5.9551</td>\n",
       "      <td>1.2367</td>\n",
       "      <td>-1.1998</td>\n",
       "      <td>-3.966328</td>\n",
       "      <td>0.051781</td>\n",
       "      <td>-3.517914</td>\n",
       "      <td>0.280107</td>\n",
       "      <td>0.064143</td>\n",
       "      <td>91.902</td>\n",
       "    </tr>\n",
       "    <tr>\n",
       "      <th>4</th>\n",
       "      <td>2000</td>\n",
       "      <td>AAH</td>\n",
       "      <td>0.000</td>\n",
       "      <td>379.5033</td>\n",
       "      <td>31.3202</td>\n",
       "      <td>14.7845</td>\n",
       "      <td>264.9924</td>\n",
       "      <td>20.2257</td>\n",
       "      <td>0.9137</td>\n",
       "      <td>158.0551</td>\n",
       "      <td>...</td>\n",
       "      <td>136.9157</td>\n",
       "      <td>-43.4373</td>\n",
       "      <td>43.3560</td>\n",
       "      <td>136.8344</td>\n",
       "      <td>0.228891</td>\n",
       "      <td>inf</td>\n",
       "      <td>inf</td>\n",
       "      <td>0.149144</td>\n",
       "      <td>0.396824</td>\n",
       "      <td>0.000</td>\n",
       "    </tr>\n",
       "  </tbody>\n",
       "</table>\n",
       "<p>5 rows × 76 columns</p>\n",
       "</div>"
      ],
      "text/plain": [
       "   ddate security_code    時価総額        売上     営業利益      純利益       総資産  \\\n",
       "0   2000          2HRA   0.000   43.9143   3.2794   3.2482   34.0403   \n",
       "1   2000          A1OS   0.000   40.9510   0.2350  -0.7530   44.2850   \n",
       "2   2000           AAA   0.000   10.9207   3.0013   2.0257   83.9710   \n",
       "3   2000           AAD  91.902   34.2833   4.7588   2.6313   24.5565   \n",
       "4   2000           AAH   0.000  379.5033  31.3202  14.7845  264.9924   \n",
       "\n",
       "   現金･現金同等物    有価証券      流動資産   ...        営業資産     営業負債     有形固定      使用資産  \\\n",
       "0    4.4293  1.0819   17.3527   ...     11.8415  -9.3213  14.6434   17.1636   \n",
       "1    1.7340  4.4300   19.6690   ...     13.5050 -12.8700  12.8810   13.5160   \n",
       "2    0.0793  0.0000    0.0000   ...     -0.0793   8.0549  78.5441   86.5197   \n",
       "3   17.7117  0.0000   21.2303   ...      3.5186  -5.9551   1.2367   -1.1998   \n",
       "4   20.2257  0.9137  158.0551   ...    136.9157 -43.4373  43.3560  136.8344   \n",
       "\n",
       "       ROIC        EY     MAGIC     ROIC2       EY2  MKTCAP  \n",
       "0  0.191067       inf       inf  0.133741 -0.792145   0.000  \n",
       "1  0.017387       inf       inf  0.008256  0.183450   0.000  \n",
       "2  0.034689       inf       inf  0.035742  0.064360   0.000  \n",
       "3 -3.966328  0.051781 -3.517914  0.280107  0.064143  91.902  \n",
       "4  0.228891       inf       inf  0.149144  0.396824   0.000  \n",
       "\n",
       "[5 rows x 76 columns]"
      ]
     },
     "execution_count": 115,
     "metadata": {},
     "output_type": "execute_result"
    }
   ],
   "source": [
    "df = pd.read_csv('MKTCAP_GR.csv', encoding = 'cp932')\n",
    "df.head()"
   ]
  },
  {
   "cell_type": "code",
   "execution_count": 4,
   "metadata": {
    "collapsed": true
   },
   "outputs": [],
   "source": [
    "# type(df['ddate'][0]) #  numpy.int64\n",
    "# type(d[9])     # int"
   ]
  },
  {
   "cell_type": "code",
   "execution_count": 5,
   "metadata": {
    "collapsed": true,
    "scrolled": false
   },
   "outputs": [],
   "source": [
    "# # try to convert int time to datetime time \n",
    "# # may not be used later \n",
    "# import datetime\n",
    "\n",
    "# d = []\n",
    "# for i in range(len(df['ddate'])):\n",
    "#     d.append(datetime.datetime.strptime(np.array_str(df['ddate'].values[i]), '%Y').year)\n",
    "    \n",
    "# print (d[9])"
   ]
  },
  {
   "cell_type": "markdown",
   "metadata": {},
   "source": [
    "### Data prep"
   ]
  },
  {
   "cell_type": "code",
   "execution_count": 131,
   "metadata": {},
   "outputs": [
    {
     "data": {
      "text/plain": [
       "Index(['敷金及び保証金', '賞与引当金', '決算発表日', '剰余金の配当', '自己株式の消却', '新株の発行', '土地1',\n",
       "       '経常利益', '長期社債(当期返済分)'],\n",
       "      dtype='object')"
      ]
     },
     "execution_count": 131,
     "metadata": {},
     "output_type": "execute_result"
    }
   ],
   "source": [
    "# identify columns with all zero values \n",
    "zerocol = df.columns[(df == 0).all()]\n",
    "type(zerocol)\n",
    "zerocol"
   ]
  },
  {
   "cell_type": "code",
   "execution_count": 132,
   "metadata": {},
   "outputs": [
    {
     "data": {
      "text/plain": [
       "67"
      ]
     },
     "execution_count": 132,
     "metadata": {},
     "output_type": "execute_result"
    }
   ],
   "source": [
    "# drop all columns with zero only values\n",
    "df2 = df.drop(zerocol, axis = 1)\n",
    "len(df2.columns)"
   ]
  },
  {
   "cell_type": "code",
   "execution_count": 133,
   "metadata": {},
   "outputs": [
    {
     "data": {
      "text/html": [
       "<div>\n",
       "<style>\n",
       "    .dataframe thead tr:only-child th {\n",
       "        text-align: right;\n",
       "    }\n",
       "\n",
       "    .dataframe thead th {\n",
       "        text-align: left;\n",
       "    }\n",
       "\n",
       "    .dataframe tbody tr th {\n",
       "        vertical-align: top;\n",
       "    }\n",
       "</style>\n",
       "<table border=\"1\" class=\"dataframe\">\n",
       "  <thead>\n",
       "    <tr style=\"text-align: right;\">\n",
       "      <th></th>\n",
       "      <th>security_code</th>\n",
       "      <th>時価総額</th>\n",
       "      <th>売上</th>\n",
       "      <th>営業利益</th>\n",
       "      <th>純利益</th>\n",
       "      <th>総資産</th>\n",
       "      <th>現金･現金同等物</th>\n",
       "      <th>有価証券</th>\n",
       "      <th>流動資産</th>\n",
       "      <th>総長期投資</th>\n",
       "      <th>...</th>\n",
       "      <th>営業資産</th>\n",
       "      <th>営業負債</th>\n",
       "      <th>有形固定</th>\n",
       "      <th>使用資産</th>\n",
       "      <th>ROIC</th>\n",
       "      <th>EY</th>\n",
       "      <th>MAGIC</th>\n",
       "      <th>ROIC2</th>\n",
       "      <th>EY2</th>\n",
       "      <th>MKTCAP</th>\n",
       "    </tr>\n",
       "    <tr>\n",
       "      <th>ddate</th>\n",
       "      <th></th>\n",
       "      <th></th>\n",
       "      <th></th>\n",
       "      <th></th>\n",
       "      <th></th>\n",
       "      <th></th>\n",
       "      <th></th>\n",
       "      <th></th>\n",
       "      <th></th>\n",
       "      <th></th>\n",
       "      <th></th>\n",
       "      <th></th>\n",
       "      <th></th>\n",
       "      <th></th>\n",
       "      <th></th>\n",
       "      <th></th>\n",
       "      <th></th>\n",
       "      <th></th>\n",
       "      <th></th>\n",
       "      <th></th>\n",
       "      <th></th>\n",
       "    </tr>\n",
       "  </thead>\n",
       "  <tbody>\n",
       "    <tr>\n",
       "      <th>2000</th>\n",
       "      <td>347</td>\n",
       "      <td>347</td>\n",
       "      <td>347</td>\n",
       "      <td>347</td>\n",
       "      <td>347</td>\n",
       "      <td>347</td>\n",
       "      <td>347</td>\n",
       "      <td>347</td>\n",
       "      <td>347</td>\n",
       "      <td>347</td>\n",
       "      <td>...</td>\n",
       "      <td>347</td>\n",
       "      <td>347</td>\n",
       "      <td>347</td>\n",
       "      <td>347</td>\n",
       "      <td>347</td>\n",
       "      <td>347</td>\n",
       "      <td>347</td>\n",
       "      <td>347</td>\n",
       "      <td>347</td>\n",
       "      <td>340</td>\n",
       "    </tr>\n",
       "    <tr>\n",
       "      <th>2001</th>\n",
       "      <td>350</td>\n",
       "      <td>350</td>\n",
       "      <td>350</td>\n",
       "      <td>350</td>\n",
       "      <td>350</td>\n",
       "      <td>350</td>\n",
       "      <td>350</td>\n",
       "      <td>350</td>\n",
       "      <td>350</td>\n",
       "      <td>350</td>\n",
       "      <td>...</td>\n",
       "      <td>350</td>\n",
       "      <td>350</td>\n",
       "      <td>350</td>\n",
       "      <td>350</td>\n",
       "      <td>347</td>\n",
       "      <td>349</td>\n",
       "      <td>346</td>\n",
       "      <td>347</td>\n",
       "      <td>350</td>\n",
       "      <td>345</td>\n",
       "    </tr>\n",
       "    <tr>\n",
       "      <th>2002</th>\n",
       "      <td>359</td>\n",
       "      <td>359</td>\n",
       "      <td>359</td>\n",
       "      <td>359</td>\n",
       "      <td>359</td>\n",
       "      <td>359</td>\n",
       "      <td>359</td>\n",
       "      <td>359</td>\n",
       "      <td>359</td>\n",
       "      <td>359</td>\n",
       "      <td>...</td>\n",
       "      <td>359</td>\n",
       "      <td>359</td>\n",
       "      <td>359</td>\n",
       "      <td>359</td>\n",
       "      <td>352</td>\n",
       "      <td>354</td>\n",
       "      <td>351</td>\n",
       "      <td>352</td>\n",
       "      <td>355</td>\n",
       "      <td>345</td>\n",
       "    </tr>\n",
       "    <tr>\n",
       "      <th>2003</th>\n",
       "      <td>385</td>\n",
       "      <td>385</td>\n",
       "      <td>385</td>\n",
       "      <td>385</td>\n",
       "      <td>385</td>\n",
       "      <td>385</td>\n",
       "      <td>385</td>\n",
       "      <td>385</td>\n",
       "      <td>385</td>\n",
       "      <td>385</td>\n",
       "      <td>...</td>\n",
       "      <td>385</td>\n",
       "      <td>385</td>\n",
       "      <td>385</td>\n",
       "      <td>385</td>\n",
       "      <td>382</td>\n",
       "      <td>383</td>\n",
       "      <td>382</td>\n",
       "      <td>381</td>\n",
       "      <td>383</td>\n",
       "      <td>360</td>\n",
       "    </tr>\n",
       "    <tr>\n",
       "      <th>2004</th>\n",
       "      <td>404</td>\n",
       "      <td>404</td>\n",
       "      <td>404</td>\n",
       "      <td>404</td>\n",
       "      <td>404</td>\n",
       "      <td>404</td>\n",
       "      <td>404</td>\n",
       "      <td>404</td>\n",
       "      <td>404</td>\n",
       "      <td>404</td>\n",
       "      <td>...</td>\n",
       "      <td>404</td>\n",
       "      <td>404</td>\n",
       "      <td>404</td>\n",
       "      <td>404</td>\n",
       "      <td>401</td>\n",
       "      <td>401</td>\n",
       "      <td>401</td>\n",
       "      <td>401</td>\n",
       "      <td>401</td>\n",
       "      <td>368</td>\n",
       "    </tr>\n",
       "    <tr>\n",
       "      <th>2005</th>\n",
       "      <td>432</td>\n",
       "      <td>432</td>\n",
       "      <td>432</td>\n",
       "      <td>432</td>\n",
       "      <td>432</td>\n",
       "      <td>432</td>\n",
       "      <td>432</td>\n",
       "      <td>432</td>\n",
       "      <td>432</td>\n",
       "      <td>432</td>\n",
       "      <td>...</td>\n",
       "      <td>432</td>\n",
       "      <td>432</td>\n",
       "      <td>432</td>\n",
       "      <td>432</td>\n",
       "      <td>429</td>\n",
       "      <td>429</td>\n",
       "      <td>428</td>\n",
       "      <td>429</td>\n",
       "      <td>430</td>\n",
       "      <td>397</td>\n",
       "    </tr>\n",
       "    <tr>\n",
       "      <th>2006</th>\n",
       "      <td>463</td>\n",
       "      <td>463</td>\n",
       "      <td>463</td>\n",
       "      <td>463</td>\n",
       "      <td>463</td>\n",
       "      <td>463</td>\n",
       "      <td>463</td>\n",
       "      <td>463</td>\n",
       "      <td>463</td>\n",
       "      <td>463</td>\n",
       "      <td>...</td>\n",
       "      <td>463</td>\n",
       "      <td>463</td>\n",
       "      <td>463</td>\n",
       "      <td>463</td>\n",
       "      <td>458</td>\n",
       "      <td>462</td>\n",
       "      <td>458</td>\n",
       "      <td>458</td>\n",
       "      <td>462</td>\n",
       "      <td>442</td>\n",
       "    </tr>\n",
       "    <tr>\n",
       "      <th>2007</th>\n",
       "      <td>476</td>\n",
       "      <td>476</td>\n",
       "      <td>476</td>\n",
       "      <td>476</td>\n",
       "      <td>476</td>\n",
       "      <td>476</td>\n",
       "      <td>476</td>\n",
       "      <td>476</td>\n",
       "      <td>476</td>\n",
       "      <td>476</td>\n",
       "      <td>...</td>\n",
       "      <td>476</td>\n",
       "      <td>476</td>\n",
       "      <td>476</td>\n",
       "      <td>476</td>\n",
       "      <td>473</td>\n",
       "      <td>476</td>\n",
       "      <td>473</td>\n",
       "      <td>473</td>\n",
       "      <td>476</td>\n",
       "      <td>461</td>\n",
       "    </tr>\n",
       "    <tr>\n",
       "      <th>2008</th>\n",
       "      <td>473</td>\n",
       "      <td>473</td>\n",
       "      <td>473</td>\n",
       "      <td>473</td>\n",
       "      <td>473</td>\n",
       "      <td>473</td>\n",
       "      <td>473</td>\n",
       "      <td>473</td>\n",
       "      <td>473</td>\n",
       "      <td>473</td>\n",
       "      <td>...</td>\n",
       "      <td>473</td>\n",
       "      <td>473</td>\n",
       "      <td>473</td>\n",
       "      <td>473</td>\n",
       "      <td>469</td>\n",
       "      <td>472</td>\n",
       "      <td>468</td>\n",
       "      <td>469</td>\n",
       "      <td>473</td>\n",
       "      <td>451</td>\n",
       "    </tr>\n",
       "    <tr>\n",
       "      <th>2009</th>\n",
       "      <td>493</td>\n",
       "      <td>493</td>\n",
       "      <td>493</td>\n",
       "      <td>493</td>\n",
       "      <td>493</td>\n",
       "      <td>493</td>\n",
       "      <td>493</td>\n",
       "      <td>493</td>\n",
       "      <td>493</td>\n",
       "      <td>493</td>\n",
       "      <td>...</td>\n",
       "      <td>493</td>\n",
       "      <td>493</td>\n",
       "      <td>493</td>\n",
       "      <td>493</td>\n",
       "      <td>490</td>\n",
       "      <td>490</td>\n",
       "      <td>489</td>\n",
       "      <td>490</td>\n",
       "      <td>491</td>\n",
       "      <td>463</td>\n",
       "    </tr>\n",
       "    <tr>\n",
       "      <th>2010</th>\n",
       "      <td>507</td>\n",
       "      <td>507</td>\n",
       "      <td>507</td>\n",
       "      <td>507</td>\n",
       "      <td>507</td>\n",
       "      <td>507</td>\n",
       "      <td>507</td>\n",
       "      <td>507</td>\n",
       "      <td>507</td>\n",
       "      <td>507</td>\n",
       "      <td>...</td>\n",
       "      <td>507</td>\n",
       "      <td>507</td>\n",
       "      <td>507</td>\n",
       "      <td>507</td>\n",
       "      <td>506</td>\n",
       "      <td>504</td>\n",
       "      <td>504</td>\n",
       "      <td>506</td>\n",
       "      <td>506</td>\n",
       "      <td>480</td>\n",
       "    </tr>\n",
       "    <tr>\n",
       "      <th>2011</th>\n",
       "      <td>517</td>\n",
       "      <td>517</td>\n",
       "      <td>517</td>\n",
       "      <td>517</td>\n",
       "      <td>517</td>\n",
       "      <td>517</td>\n",
       "      <td>517</td>\n",
       "      <td>517</td>\n",
       "      <td>517</td>\n",
       "      <td>517</td>\n",
       "      <td>...</td>\n",
       "      <td>517</td>\n",
       "      <td>517</td>\n",
       "      <td>517</td>\n",
       "      <td>517</td>\n",
       "      <td>513</td>\n",
       "      <td>515</td>\n",
       "      <td>513</td>\n",
       "      <td>513</td>\n",
       "      <td>515</td>\n",
       "      <td>493</td>\n",
       "    </tr>\n",
       "    <tr>\n",
       "      <th>2012</th>\n",
       "      <td>526</td>\n",
       "      <td>526</td>\n",
       "      <td>526</td>\n",
       "      <td>526</td>\n",
       "      <td>526</td>\n",
       "      <td>526</td>\n",
       "      <td>526</td>\n",
       "      <td>526</td>\n",
       "      <td>526</td>\n",
       "      <td>526</td>\n",
       "      <td>...</td>\n",
       "      <td>526</td>\n",
       "      <td>526</td>\n",
       "      <td>526</td>\n",
       "      <td>526</td>\n",
       "      <td>524</td>\n",
       "      <td>525</td>\n",
       "      <td>524</td>\n",
       "      <td>524</td>\n",
       "      <td>525</td>\n",
       "      <td>497</td>\n",
       "    </tr>\n",
       "    <tr>\n",
       "      <th>2013</th>\n",
       "      <td>533</td>\n",
       "      <td>533</td>\n",
       "      <td>533</td>\n",
       "      <td>533</td>\n",
       "      <td>533</td>\n",
       "      <td>533</td>\n",
       "      <td>533</td>\n",
       "      <td>533</td>\n",
       "      <td>533</td>\n",
       "      <td>533</td>\n",
       "      <td>...</td>\n",
       "      <td>533</td>\n",
       "      <td>533</td>\n",
       "      <td>533</td>\n",
       "      <td>533</td>\n",
       "      <td>531</td>\n",
       "      <td>531</td>\n",
       "      <td>530</td>\n",
       "      <td>531</td>\n",
       "      <td>531</td>\n",
       "      <td>507</td>\n",
       "    </tr>\n",
       "    <tr>\n",
       "      <th>2014</th>\n",
       "      <td>531</td>\n",
       "      <td>531</td>\n",
       "      <td>531</td>\n",
       "      <td>531</td>\n",
       "      <td>531</td>\n",
       "      <td>531</td>\n",
       "      <td>531</td>\n",
       "      <td>531</td>\n",
       "      <td>531</td>\n",
       "      <td>531</td>\n",
       "      <td>...</td>\n",
       "      <td>531</td>\n",
       "      <td>531</td>\n",
       "      <td>531</td>\n",
       "      <td>531</td>\n",
       "      <td>527</td>\n",
       "      <td>528</td>\n",
       "      <td>526</td>\n",
       "      <td>527</td>\n",
       "      <td>529</td>\n",
       "      <td>510</td>\n",
       "    </tr>\n",
       "    <tr>\n",
       "      <th>2015</th>\n",
       "      <td>517</td>\n",
       "      <td>517</td>\n",
       "      <td>517</td>\n",
       "      <td>517</td>\n",
       "      <td>517</td>\n",
       "      <td>517</td>\n",
       "      <td>517</td>\n",
       "      <td>517</td>\n",
       "      <td>517</td>\n",
       "      <td>517</td>\n",
       "      <td>...</td>\n",
       "      <td>517</td>\n",
       "      <td>517</td>\n",
       "      <td>517</td>\n",
       "      <td>517</td>\n",
       "      <td>515</td>\n",
       "      <td>515</td>\n",
       "      <td>513</td>\n",
       "      <td>515</td>\n",
       "      <td>517</td>\n",
       "      <td>506</td>\n",
       "    </tr>\n",
       "    <tr>\n",
       "      <th>2016</th>\n",
       "      <td>491</td>\n",
       "      <td>491</td>\n",
       "      <td>491</td>\n",
       "      <td>491</td>\n",
       "      <td>491</td>\n",
       "      <td>491</td>\n",
       "      <td>491</td>\n",
       "      <td>491</td>\n",
       "      <td>491</td>\n",
       "      <td>491</td>\n",
       "      <td>...</td>\n",
       "      <td>491</td>\n",
       "      <td>491</td>\n",
       "      <td>491</td>\n",
       "      <td>491</td>\n",
       "      <td>489</td>\n",
       "      <td>491</td>\n",
       "      <td>489</td>\n",
       "      <td>489</td>\n",
       "      <td>491</td>\n",
       "      <td>482</td>\n",
       "    </tr>\n",
       "    <tr>\n",
       "      <th>2017</th>\n",
       "      <td>9</td>\n",
       "      <td>9</td>\n",
       "      <td>9</td>\n",
       "      <td>9</td>\n",
       "      <td>9</td>\n",
       "      <td>9</td>\n",
       "      <td>9</td>\n",
       "      <td>9</td>\n",
       "      <td>9</td>\n",
       "      <td>9</td>\n",
       "      <td>...</td>\n",
       "      <td>9</td>\n",
       "      <td>9</td>\n",
       "      <td>9</td>\n",
       "      <td>9</td>\n",
       "      <td>9</td>\n",
       "      <td>9</td>\n",
       "      <td>9</td>\n",
       "      <td>9</td>\n",
       "      <td>9</td>\n",
       "      <td>9</td>\n",
       "    </tr>\n",
       "  </tbody>\n",
       "</table>\n",
       "<p>18 rows × 66 columns</p>\n",
       "</div>"
      ],
      "text/plain": [
       "       security_code  時価総額   売上  営業利益  純利益  総資産  現金･現金同等物  有価証券  流動資産  総長期投資  \\\n",
       "ddate                                                                          \n",
       "2000             347   347  347   347  347  347       347   347   347    347   \n",
       "2001             350   350  350   350  350  350       350   350   350    350   \n",
       "2002             359   359  359   359  359  359       359   359   359    359   \n",
       "2003             385   385  385   385  385  385       385   385   385    385   \n",
       "2004             404   404  404   404  404  404       404   404   404    404   \n",
       "2005             432   432  432   432  432  432       432   432   432    432   \n",
       "2006             463   463  463   463  463  463       463   463   463    463   \n",
       "2007             476   476  476   476  476  476       476   476   476    476   \n",
       "2008             473   473  473   473  473  473       473   473   473    473   \n",
       "2009             493   493  493   493  493  493       493   493   493    493   \n",
       "2010             507   507  507   507  507  507       507   507   507    507   \n",
       "2011             517   517  517   517  517  517       517   517   517    517   \n",
       "2012             526   526  526   526  526  526       526   526   526    526   \n",
       "2013             533   533  533   533  533  533       533   533   533    533   \n",
       "2014             531   531  531   531  531  531       531   531   531    531   \n",
       "2015             517   517  517   517  517  517       517   517   517    517   \n",
       "2016             491   491  491   491  491  491       491   491   491    491   \n",
       "2017               9     9    9     9    9    9         9     9     9      9   \n",
       "\n",
       "        ...    営業資産  営業負債  有形固定  使用資産  ROIC   EY  MAGIC  ROIC2  EY2  MKTCAP  \n",
       "ddate   ...                                                                  \n",
       "2000    ...     347   347   347   347   347  347    347    347  347     340  \n",
       "2001    ...     350   350   350   350   347  349    346    347  350     345  \n",
       "2002    ...     359   359   359   359   352  354    351    352  355     345  \n",
       "2003    ...     385   385   385   385   382  383    382    381  383     360  \n",
       "2004    ...     404   404   404   404   401  401    401    401  401     368  \n",
       "2005    ...     432   432   432   432   429  429    428    429  430     397  \n",
       "2006    ...     463   463   463   463   458  462    458    458  462     442  \n",
       "2007    ...     476   476   476   476   473  476    473    473  476     461  \n",
       "2008    ...     473   473   473   473   469  472    468    469  473     451  \n",
       "2009    ...     493   493   493   493   490  490    489    490  491     463  \n",
       "2010    ...     507   507   507   507   506  504    504    506  506     480  \n",
       "2011    ...     517   517   517   517   513  515    513    513  515     493  \n",
       "2012    ...     526   526   526   526   524  525    524    524  525     497  \n",
       "2013    ...     533   533   533   533   531  531    530    531  531     507  \n",
       "2014    ...     531   531   531   531   527  528    526    527  529     510  \n",
       "2015    ...     517   517   517   517   515  515    513    515  517     506  \n",
       "2016    ...     491   491   491   491   489  491    489    489  491     482  \n",
       "2017    ...       9     9     9     9     9    9      9      9    9       9  \n",
       "\n",
       "[18 rows x 66 columns]"
      ]
     },
     "execution_count": 133,
     "metadata": {},
     "output_type": "execute_result"
    }
   ],
   "source": [
    "# checking the years with the most data available \n",
    "df2.groupby('ddate').count()"
   ]
  },
  {
   "cell_type": "code",
   "execution_count": 134,
   "metadata": {},
   "outputs": [
    {
     "data": {
      "text/plain": [
       "531"
      ]
     },
     "execution_count": 134,
     "metadata": {},
     "output_type": "execute_result"
    }
   ],
   "source": [
    "# prepare 2014 MKTCAP as y\n",
    "\n",
    "df2014 = df2[df2['ddate'] == 2014][['security_code', 'MKTCAP']]\n",
    "df2014.head()\n",
    "# df2014.describe()\n",
    "len(df2014['security_code'])"
   ]
  },
  {
   "cell_type": "code",
   "execution_count": 11,
   "metadata": {
    "collapsed": true
   },
   "outputs": [],
   "source": [
    "# # max is at 108753.579700, while the 75% quantile is just 126\n",
    "# # removing the extremes later in MKTCAP for better visulalizatio and \n",
    "# # estimation accuracy \n",
    "\n",
    "# print (df2014['MKTCAP'].quantile(0.9))\n",
    "# print (df2014['MKTCAP'].max())\n",
    "\n",
    "# print (len(df2014[df2014['MKTCAP'] < 1100]))"
   ]
  },
  {
   "cell_type": "code",
   "execution_count": 137,
   "metadata": {},
   "outputs": [
    {
     "data": {
      "text/html": [
       "<div>\n",
       "<style>\n",
       "    .dataframe thead tr:only-child th {\n",
       "        text-align: right;\n",
       "    }\n",
       "\n",
       "    .dataframe thead th {\n",
       "        text-align: left;\n",
       "    }\n",
       "\n",
       "    .dataframe tbody tr th {\n",
       "        vertical-align: top;\n",
       "    }\n",
       "</style>\n",
       "<table border=\"1\" class=\"dataframe\">\n",
       "  <thead>\n",
       "    <tr style=\"text-align: right;\">\n",
       "      <th></th>\n",
       "      <th>security_code</th>\n",
       "      <th>売上</th>\n",
       "      <th>営業利益</th>\n",
       "      <th>純利益</th>\n",
       "      <th>総資産</th>\n",
       "      <th>現金･現金同等物</th>\n",
       "      <th>有価証券</th>\n",
       "      <th>流動資産</th>\n",
       "      <th>総長期投資</th>\n",
       "      <th>有形固定資産</th>\n",
       "      <th>...</th>\n",
       "      <th>株主資本</th>\n",
       "      <th>販管費</th>\n",
       "      <th>売上総利益率</th>\n",
       "      <th>営業利益率</th>\n",
       "      <th>株主還元</th>\n",
       "      <th>純現金資産</th>\n",
       "      <th>営業資産</th>\n",
       "      <th>営業負債</th>\n",
       "      <th>有形固定</th>\n",
       "      <th>使用資産</th>\n",
       "    </tr>\n",
       "  </thead>\n",
       "  <tbody>\n",
       "    <tr>\n",
       "      <th>5732</th>\n",
       "      <td>1COV</td>\n",
       "      <td>11357.0000</td>\n",
       "      <td>391.0000</td>\n",
       "      <td>180.0000</td>\n",
       "      <td>10133.0000</td>\n",
       "      <td>37.0000</td>\n",
       "      <td>546.000</td>\n",
       "      <td>3829.0000</td>\n",
       "      <td>1021.00</td>\n",
       "      <td>4442.0000</td>\n",
       "      <td>...</td>\n",
       "      <td>2779.0000</td>\n",
       "      <td>-1576.0000</td>\n",
       "      <td>0.173197</td>\n",
       "      <td>0.034428</td>\n",
       "      <td>0.0</td>\n",
       "      <td>-2947.0000</td>\n",
       "      <td>3246.0000</td>\n",
       "      <td>-1794.0000</td>\n",
       "      <td>4442.0000</td>\n",
       "      <td>5894.0000</td>\n",
       "    </tr>\n",
       "    <tr>\n",
       "      <th>5733</th>\n",
       "      <td>1PL</td>\n",
       "      <td>167.1170</td>\n",
       "      <td>12.3130</td>\n",
       "      <td>5.3910</td>\n",
       "      <td>221.7340</td>\n",
       "      <td>15.3940</td>\n",
       "      <td>0.000</td>\n",
       "      <td>142.7590</td>\n",
       "      <td>0.00</td>\n",
       "      <td>78.8160</td>\n",
       "      <td>...</td>\n",
       "      <td>151.3110</td>\n",
       "      <td>-48.5030</td>\n",
       "      <td>0.363913</td>\n",
       "      <td>0.073679</td>\n",
       "      <td>0.0</td>\n",
       "      <td>-44.2760</td>\n",
       "      <td>127.3650</td>\n",
       "      <td>-10.7530</td>\n",
       "      <td>78.8160</td>\n",
       "      <td>195.4280</td>\n",
       "    </tr>\n",
       "    <tr>\n",
       "      <th>5734</th>\n",
       "      <td>2GB</td>\n",
       "      <td>126.1297</td>\n",
       "      <td>2.7796</td>\n",
       "      <td>0.8943</td>\n",
       "      <td>88.6293</td>\n",
       "      <td>10.4454</td>\n",
       "      <td>0.030</td>\n",
       "      <td>66.7018</td>\n",
       "      <td>0.01</td>\n",
       "      <td>15.8228</td>\n",
       "      <td>...</td>\n",
       "      <td>47.1524</td>\n",
       "      <td>2.7796</td>\n",
       "      <td>0.000000</td>\n",
       "      <td>0.022038</td>\n",
       "      <td>0.0</td>\n",
       "      <td>3.2530</td>\n",
       "      <td>56.2264</td>\n",
       "      <td>-18.8558</td>\n",
       "      <td>15.8228</td>\n",
       "      <td>53.1934</td>\n",
       "    </tr>\n",
       "    <tr>\n",
       "      <th>5735</th>\n",
       "      <td>2HRA</td>\n",
       "      <td>1214.3960</td>\n",
       "      <td>-4.4050</td>\n",
       "      <td>-14.0290</td>\n",
       "      <td>594.6560</td>\n",
       "      <td>109.6240</td>\n",
       "      <td>1.797</td>\n",
       "      <td>341.4460</td>\n",
       "      <td>4.10</td>\n",
       "      <td>197.9060</td>\n",
       "      <td>...</td>\n",
       "      <td>189.1620</td>\n",
       "      <td>-4.4050</td>\n",
       "      <td>0.000000</td>\n",
       "      <td>-0.003627</td>\n",
       "      <td>0.0</td>\n",
       "      <td>-76.1810</td>\n",
       "      <td>230.0250</td>\n",
       "      <td>-144.8070</td>\n",
       "      <td>197.9060</td>\n",
       "      <td>283.1240</td>\n",
       "    </tr>\n",
       "    <tr>\n",
       "      <th>5736</th>\n",
       "      <td>3GOK</td>\n",
       "      <td>0.3240</td>\n",
       "      <td>-0.1807</td>\n",
       "      <td>-13.9277</td>\n",
       "      <td>4.6553</td>\n",
       "      <td>0.0235</td>\n",
       "      <td>0.000</td>\n",
       "      <td>0.6903</td>\n",
       "      <td>0.00</td>\n",
       "      <td>0.0000</td>\n",
       "      <td>...</td>\n",
       "      <td>1.2313</td>\n",
       "      <td>-0.1807</td>\n",
       "      <td>0.000000</td>\n",
       "      <td>-0.557716</td>\n",
       "      <td>0.0</td>\n",
       "      <td>-0.9965</td>\n",
       "      <td>0.6668</td>\n",
       "      <td>-2.2038</td>\n",
       "      <td>0.0000</td>\n",
       "      <td>-1.5370</td>\n",
       "    </tr>\n",
       "  </tbody>\n",
       "</table>\n",
       "<p>5 rows × 59 columns</p>\n",
       "</div>"
      ],
      "text/plain": [
       "     security_code          売上      営業利益       純利益         総資産  現金･現金同等物  \\\n",
       "5732          1COV  11357.0000  391.0000  180.0000  10133.0000   37.0000   \n",
       "5733           1PL    167.1170   12.3130    5.3910    221.7340   15.3940   \n",
       "5734           2GB    126.1297    2.7796    0.8943     88.6293   10.4454   \n",
       "5735          2HRA   1214.3960   -4.4050  -14.0290    594.6560  109.6240   \n",
       "5736          3GOK      0.3240   -0.1807  -13.9277      4.6553    0.0235   \n",
       "\n",
       "         有価証券       流動資産    総長期投資     有形固定資産    ...           株主資本        販管費  \\\n",
       "5732  546.000  3829.0000  1021.00  4442.0000    ...      2779.0000 -1576.0000   \n",
       "5733    0.000   142.7590     0.00    78.8160    ...       151.3110   -48.5030   \n",
       "5734    0.030    66.7018     0.01    15.8228    ...        47.1524     2.7796   \n",
       "5735    1.797   341.4460     4.10   197.9060    ...       189.1620    -4.4050   \n",
       "5736    0.000     0.6903     0.00     0.0000    ...         1.2313    -0.1807   \n",
       "\n",
       "        売上総利益率     営業利益率  株主還元      純現金資産       営業資産       営業負債       有形固定  \\\n",
       "5732  0.173197  0.034428   0.0 -2947.0000  3246.0000 -1794.0000  4442.0000   \n",
       "5733  0.363913  0.073679   0.0   -44.2760   127.3650   -10.7530    78.8160   \n",
       "5734  0.000000  0.022038   0.0     3.2530    56.2264   -18.8558    15.8228   \n",
       "5735  0.000000 -0.003627   0.0   -76.1810   230.0250  -144.8070   197.9060   \n",
       "5736  0.000000 -0.557716   0.0    -0.9965     0.6668    -2.2038     0.0000   \n",
       "\n",
       "           使用資産  \n",
       "5732  5894.0000  \n",
       "5733   195.4280  \n",
       "5734    53.1934  \n",
       "5735   283.1240  \n",
       "5736    -1.5370  \n",
       "\n",
       "[5 rows x 59 columns]"
      ]
     },
     "execution_count": 137,
     "metadata": {},
     "output_type": "execute_result"
    }
   ],
   "source": [
    "# prepare all data in 2013 as features for x\n",
    "\n",
    "collist = list(df2.columns[1:61])\n",
    "df2013 = df2[df2['ddate'] == 2013][collist]\n",
    "\n",
    "# removing '時価総額', which is Market Capitalization\n",
    "# MKTCAP is the adjusted market capitaliztion with the amount of self owned stocks removed \n",
    "del df2013['時価総額']\n",
    "df2013.head()\n",
    "# df2013.describe()\n",
    "# len(df2013['security_code'])"
   ]
  },
  {
   "cell_type": "code",
   "execution_count": null,
   "metadata": {
    "collapsed": true
   },
   "outputs": [],
   "source": []
  },
  {
   "cell_type": "code",
   "execution_count": 138,
   "metadata": {
    "scrolled": true
   },
   "outputs": [
    {
     "data": {
      "text/html": [
       "<div>\n",
       "<style>\n",
       "    .dataframe thead tr:only-child th {\n",
       "        text-align: right;\n",
       "    }\n",
       "\n",
       "    .dataframe thead th {\n",
       "        text-align: left;\n",
       "    }\n",
       "\n",
       "    .dataframe tbody tr th {\n",
       "        vertical-align: top;\n",
       "    }\n",
       "</style>\n",
       "<table border=\"1\" class=\"dataframe\">\n",
       "  <thead>\n",
       "    <tr style=\"text-align: right;\">\n",
       "      <th></th>\n",
       "      <th>売上</th>\n",
       "      <th>営業利益</th>\n",
       "      <th>純利益</th>\n",
       "      <th>総資産</th>\n",
       "      <th>現金･現金同等物</th>\n",
       "      <th>有価証券</th>\n",
       "      <th>流動資産</th>\n",
       "      <th>総長期投資</th>\n",
       "      <th>有形固定資産</th>\n",
       "      <th>短期借入金</th>\n",
       "      <th>...</th>\n",
       "      <th>販管費</th>\n",
       "      <th>売上総利益率</th>\n",
       "      <th>営業利益率</th>\n",
       "      <th>株主還元</th>\n",
       "      <th>純現金資産</th>\n",
       "      <th>営業資産</th>\n",
       "      <th>営業負債</th>\n",
       "      <th>有形固定</th>\n",
       "      <th>使用資産</th>\n",
       "      <th>MKTCAP</th>\n",
       "    </tr>\n",
       "  </thead>\n",
       "  <tbody>\n",
       "    <tr>\n",
       "      <th>count</th>\n",
       "      <td>332.000000</td>\n",
       "      <td>332.000000</td>\n",
       "      <td>332.000000</td>\n",
       "      <td>332.000000</td>\n",
       "      <td>332.000000</td>\n",
       "      <td>332.000000</td>\n",
       "      <td>332.000000</td>\n",
       "      <td>332.000000</td>\n",
       "      <td>332.000000</td>\n",
       "      <td>332.000000</td>\n",
       "      <td>...</td>\n",
       "      <td>332.000000</td>\n",
       "      <td>332.000000</td>\n",
       "      <td>332.000000</td>\n",
       "      <td>332.0</td>\n",
       "      <td>332.000000</td>\n",
       "      <td>332.000000</td>\n",
       "      <td>332.000000</td>\n",
       "      <td>332.000000</td>\n",
       "      <td>332.000000</td>\n",
       "      <td>332.000000</td>\n",
       "    </tr>\n",
       "    <tr>\n",
       "      <th>mean</th>\n",
       "      <td>2495.269637</td>\n",
       "      <td>179.371021</td>\n",
       "      <td>112.711053</td>\n",
       "      <td>3369.451480</td>\n",
       "      <td>242.782658</td>\n",
       "      <td>74.789998</td>\n",
       "      <td>1294.487503</td>\n",
       "      <td>330.860806</td>\n",
       "      <td>714.126775</td>\n",
       "      <td>338.121214</td>\n",
       "      <td>...</td>\n",
       "      <td>-400.051680</td>\n",
       "      <td>0.090444</td>\n",
       "      <td>-2.716931</td>\n",
       "      <td>0.0</td>\n",
       "      <td>-424.541579</td>\n",
       "      <td>975.262593</td>\n",
       "      <td>-713.634517</td>\n",
       "      <td>714.264450</td>\n",
       "      <td>975.892526</td>\n",
       "      <td>2531.779416</td>\n",
       "    </tr>\n",
       "    <tr>\n",
       "      <th>std</th>\n",
       "      <td>14564.264020</td>\n",
       "      <td>1025.691822</td>\n",
       "      <td>765.169371</td>\n",
       "      <td>22331.871009</td>\n",
       "      <td>1580.868604</td>\n",
       "      <td>626.766808</td>\n",
       "      <td>8485.010142</td>\n",
       "      <td>3585.810322</td>\n",
       "      <td>4348.139813</td>\n",
       "      <td>3519.768869</td>\n",
       "      <td>...</td>\n",
       "      <td>2392.730172</td>\n",
       "      <td>0.186808</td>\n",
       "      <td>26.421361</td>\n",
       "      <td>0.0</td>\n",
       "      <td>3140.235106</td>\n",
       "      <td>6374.959300</td>\n",
       "      <td>4538.267284</td>\n",
       "      <td>4348.117632</td>\n",
       "      <td>6082.379590</td>\n",
       "      <td>12613.931899</td>\n",
       "    </tr>\n",
       "    <tr>\n",
       "      <th>min</th>\n",
       "      <td>0.000100</td>\n",
       "      <td>-709.000000</td>\n",
       "      <td>-1436.000000</td>\n",
       "      <td>0.197800</td>\n",
       "      <td>0.000000</td>\n",
       "      <td>0.000000</td>\n",
       "      <td>0.000000</td>\n",
       "      <td>0.000000</td>\n",
       "      <td>0.000000</td>\n",
       "      <td>0.000000</td>\n",
       "      <td>...</td>\n",
       "      <td>-23929.000000</td>\n",
       "      <td>-0.346011</td>\n",
       "      <td>-373.285714</td>\n",
       "      <td>0.0</td>\n",
       "      <td>-40159.000000</td>\n",
       "      <td>-196.553000</td>\n",
       "      <td>-58639.000000</td>\n",
       "      <td>0.000000</td>\n",
       "      <td>-252.476000</td>\n",
       "      <td>0.074600</td>\n",
       "    </tr>\n",
       "    <tr>\n",
       "      <th>25%</th>\n",
       "      <td>14.584975</td>\n",
       "      <td>-0.014700</td>\n",
       "      <td>-0.399175</td>\n",
       "      <td>20.580400</td>\n",
       "      <td>1.264925</td>\n",
       "      <td>0.000000</td>\n",
       "      <td>6.560350</td>\n",
       "      <td>0.000000</td>\n",
       "      <td>0.862300</td>\n",
       "      <td>0.000000</td>\n",
       "      <td>...</td>\n",
       "      <td>-8.908350</td>\n",
       "      <td>0.000000</td>\n",
       "      <td>-0.006111</td>\n",
       "      <td>0.0</td>\n",
       "      <td>-28.387825</td>\n",
       "      <td>3.945750</td>\n",
       "      <td>-66.960500</td>\n",
       "      <td>1.012050</td>\n",
       "      <td>1.502300</td>\n",
       "      <td>12.574926</td>\n",
       "    </tr>\n",
       "    <tr>\n",
       "      <th>50%</th>\n",
       "      <td>73.587750</td>\n",
       "      <td>2.230500</td>\n",
       "      <td>0.945150</td>\n",
       "      <td>80.666000</td>\n",
       "      <td>7.183850</td>\n",
       "      <td>0.000000</td>\n",
       "      <td>37.904400</td>\n",
       "      <td>0.359200</td>\n",
       "      <td>13.224150</td>\n",
       "      <td>2.098650</td>\n",
       "      <td>...</td>\n",
       "      <td>0.263100</td>\n",
       "      <td>0.000000</td>\n",
       "      <td>0.046091</td>\n",
       "      <td>0.0</td>\n",
       "      <td>-0.770050</td>\n",
       "      <td>22.597700</td>\n",
       "      <td>-13.149350</td>\n",
       "      <td>13.537500</td>\n",
       "      <td>24.037500</td>\n",
       "      <td>58.098150</td>\n",
       "    </tr>\n",
       "    <tr>\n",
       "      <th>75%</th>\n",
       "      <td>320.444250</td>\n",
       "      <td>20.427500</td>\n",
       "      <td>12.047000</td>\n",
       "      <td>353.780500</td>\n",
       "      <td>40.877500</td>\n",
       "      <td>1.161675</td>\n",
       "      <td>160.516250</td>\n",
       "      <td>5.004750</td>\n",
       "      <td>112.626250</td>\n",
       "      <td>23.460250</td>\n",
       "      <td>...</td>\n",
       "      <td>5.493275</td>\n",
       "      <td>0.000000</td>\n",
       "      <td>0.112062</td>\n",
       "      <td>0.0</td>\n",
       "      <td>5.271375</td>\n",
       "      <td>108.618000</td>\n",
       "      <td>-3.183675</td>\n",
       "      <td>112.626250</td>\n",
       "      <td>170.489100</td>\n",
       "      <td>336.415878</td>\n",
       "    </tr>\n",
       "    <tr>\n",
       "      <th>max</th>\n",
       "      <td>197007.000000</td>\n",
       "      <td>11671.000000</td>\n",
       "      <td>9066.000000</td>\n",
       "      <td>324333.000000</td>\n",
       "      <td>23178.000000</td>\n",
       "      <td>8492.000000</td>\n",
       "      <td>122192.000000</td>\n",
       "      <td>55566.000000</td>\n",
       "      <td>49939.000000</td>\n",
       "      <td>59986.000000</td>\n",
       "      <td>...</td>\n",
       "      <td>960.100000</td>\n",
       "      <td>0.873727</td>\n",
       "      <td>7.848586</td>\n",
       "      <td>0.0</td>\n",
       "      <td>2563.000000</td>\n",
       "      <td>90522.000000</td>\n",
       "      <td>301.408000</td>\n",
       "      <td>49939.000000</td>\n",
       "      <td>74271.000000</td>\n",
       "      <td>108753.579700</td>\n",
       "    </tr>\n",
       "  </tbody>\n",
       "</table>\n",
       "<p>8 rows × 59 columns</p>\n",
       "</div>"
      ],
      "text/plain": [
       "                  売上          営業利益          純利益            総資産      現金･現金同等物  \\\n",
       "count     332.000000    332.000000   332.000000     332.000000    332.000000   \n",
       "mean     2495.269637    179.371021   112.711053    3369.451480    242.782658   \n",
       "std     14564.264020   1025.691822   765.169371   22331.871009   1580.868604   \n",
       "min         0.000100   -709.000000 -1436.000000       0.197800      0.000000   \n",
       "25%        14.584975     -0.014700    -0.399175      20.580400      1.264925   \n",
       "50%        73.587750      2.230500     0.945150      80.666000      7.183850   \n",
       "75%       320.444250     20.427500    12.047000     353.780500     40.877500   \n",
       "max    197007.000000  11671.000000  9066.000000  324333.000000  23178.000000   \n",
       "\n",
       "              有価証券           流動資産         総長期投資        有形固定資産         短期借入金  \\\n",
       "count   332.000000     332.000000    332.000000    332.000000    332.000000   \n",
       "mean     74.789998    1294.487503    330.860806    714.126775    338.121214   \n",
       "std     626.766808    8485.010142   3585.810322   4348.139813   3519.768869   \n",
       "min       0.000000       0.000000      0.000000      0.000000      0.000000   \n",
       "25%       0.000000       6.560350      0.000000      0.862300      0.000000   \n",
       "50%       0.000000      37.904400      0.359200     13.224150      2.098650   \n",
       "75%       1.161675     160.516250      5.004750    112.626250     23.460250   \n",
       "max    8492.000000  122192.000000  55566.000000  49939.000000  59986.000000   \n",
       "\n",
       "           ...                 販管費      売上総利益率       営業利益率   株主還元  \\\n",
       "count      ...          332.000000  332.000000  332.000000  332.0   \n",
       "mean       ...         -400.051680    0.090444   -2.716931    0.0   \n",
       "std        ...         2392.730172    0.186808   26.421361    0.0   \n",
       "min        ...       -23929.000000   -0.346011 -373.285714    0.0   \n",
       "25%        ...           -8.908350    0.000000   -0.006111    0.0   \n",
       "50%        ...            0.263100    0.000000    0.046091    0.0   \n",
       "75%        ...            5.493275    0.000000    0.112062    0.0   \n",
       "max        ...          960.100000    0.873727    7.848586    0.0   \n",
       "\n",
       "              純現金資産          営業資産          営業負債          有形固定          使用資産  \\\n",
       "count    332.000000    332.000000    332.000000    332.000000    332.000000   \n",
       "mean    -424.541579    975.262593   -713.634517    714.264450    975.892526   \n",
       "std     3140.235106   6374.959300   4538.267284   4348.117632   6082.379590   \n",
       "min   -40159.000000   -196.553000 -58639.000000      0.000000   -252.476000   \n",
       "25%      -28.387825      3.945750    -66.960500      1.012050      1.502300   \n",
       "50%       -0.770050     22.597700    -13.149350     13.537500     24.037500   \n",
       "75%        5.271375    108.618000     -3.183675    112.626250    170.489100   \n",
       "max     2563.000000  90522.000000    301.408000  49939.000000  74271.000000   \n",
       "\n",
       "              MKTCAP  \n",
       "count     332.000000  \n",
       "mean     2531.779416  \n",
       "std     12613.931899  \n",
       "min         0.074600  \n",
       "25%        12.574926  \n",
       "50%        58.098150  \n",
       "75%       336.415878  \n",
       "max    108753.579700  \n",
       "\n",
       "[8 rows x 59 columns]"
      ]
     },
     "execution_count": 138,
     "metadata": {},
     "output_type": "execute_result"
    }
   ],
   "source": [
    "# only keeping companies that exist in both 2013 and 2014 \n",
    "# removing entries with zero MKTCAP\n",
    "# will only work on data2 later \n",
    "\n",
    "data = pd.merge(df2013, df2014, how='inner', on=['security_code']).dropna()\n",
    "data2 = data[data['MKTCAP'] != 0]\n",
    "\n",
    "data2.head()\n",
    "data2.describe()\n",
    "# len(data2['security_code'])   # 441"
   ]
  },
  {
   "cell_type": "code",
   "execution_count": 14,
   "metadata": {},
   "outputs": [
    {
     "name": "stdout",
     "output_type": "stream",
     "text": [
      "492\n"
     ]
    },
    {
     "data": {
      "text/plain": [
       "332"
      ]
     },
     "execution_count": 14,
     "metadata": {},
     "output_type": "execute_result"
    }
   ],
   "source": [
    "print (len(data['security_code']))\n",
    "len(data2['security_code'])"
   ]
  },
  {
   "cell_type": "code",
   "execution_count": 16,
   "metadata": {},
   "outputs": [
    {
     "data": {
      "image/png": "[encoded data removed]",
      "text/plain": [
       "<matplotlib.figure.Figure at 0xbe5f5c0>"
      ]
     },
     "metadata": {},
     "output_type": "display_data"
    }
   ],
   "source": [
    "# scatter plot all available data; MKTCAP from 2014 and featueres from 2013 \n",
    "\n",
    "fig = plt.figure(figsize = (10,10))\n",
    "\n",
    "num =  len(data2['security_code']) \n",
    "x = np.arange(num)\n",
    "y = data2['MKTCAP']\n",
    "my_xticks = list(data2['security_code'].values)\n",
    "plt.xticks(x, my_xticks)\n",
    "plt.scatter(x, y)\n",
    "plt.ylabel('MKTCAP')\n",
    "plt.xlabel('company tickers')\n",
    "\n",
    "plt.show()"
   ]
  },
  {
   "cell_type": "code",
   "execution_count": 167,
   "metadata": {
    "collapsed": true
   },
   "outputs": [],
   "source": [
    "# 332 pairs of data in the original dataset\n",
    "# plot of companies with less than 1000 MKTCAP\n",
    "\n",
    "plot = data2[data2['MKTCAP'] < 800]\n",
    "# plot.describe()\n",
    "\n",
    "# companies with less than 200 MKTCAP  \n",
    "plot2 = data2[data2['MKTCAP'] < 200]"
   ]
  },
  {
   "cell_type": "code",
   "execution_count": null,
   "metadata": {},
   "outputs": [],
   "source": []
  },
  {
   "cell_type": "code",
   "execution_count": 171,
   "metadata": {},
   "outputs": [
    {
     "data": {
      "image/png": "[encoded data removed]",
      "text/plain": [
       "<matplotlib.figure.Figure at 0xcc1e0f0>"
      ]
     },
     "metadata": {},
     "output_type": "display_data"
    }
   ],
   "source": [
    "# zoom in\n",
    "\n",
    "fig = plt.figure(figsize = (15, 30))\n",
    "ax = plt.subplot(2, 1, 1)\n",
    "\n",
    "num = plot.shape[0]\n",
    "x = np.arange(num)\n",
    "my_xticks = list(plot['security_code'].values)\n",
    "plt.xticks(x, my_xticks)\n",
    "y = plot['MKTCAP']\n",
    "\n",
    "plt.xlabel('companies with less than 1000 MKTCAP')\n",
    "plt.ylabel('MKTCAP')\n",
    "plt.scatter(x, y)\n",
    "\n",
    "\n",
    "# further zoom in\n",
    "ax = plt.subplot(2, 1, 2)\n",
    "\n",
    "num2 = plot2.shape[0]\n",
    "x2 = np.arange(num2)\n",
    "my_xticks2 = list(plot2['security_code'].values)\n",
    "plt.xticks(x2, my_xticks2)\n",
    "y2 = plot2['MKTCAP']\n",
    "\n",
    "plt.xlabel('companies with less than 200 MKTCAP')\n",
    "plt.ylabel('MKTCAP')\n",
    "plt.scatter(x2, y2)\n",
    "\n",
    "\n",
    "plt.show()"
   ]
  },
  {
   "cell_type": "code",
   "execution_count": 17,
   "metadata": {
    "collapsed": true
   },
   "outputs": [],
   "source": [
    "# np.array_str(df2['security_code'].values)"
   ]
  },
  {
   "cell_type": "markdown",
   "metadata": {},
   "source": [
    "### RF model training in estimating absolute MKTCAP "
   ]
  },
  {
   "cell_type": "code",
   "execution_count": 172,
   "metadata": {
    "collapsed": true
   },
   "outputs": [],
   "source": [
    "# use 2013 data to predict 2014 MKTCAP\n",
    "\n",
    "from sklearn.ensemble import RandomForestRegressor\n",
    "from sklearn.model_selection import train_test_split"
   ]
  },
  {
   "cell_type": "code",
   "execution_count": 173,
   "metadata": {},
   "outputs": [
    {
     "name": "stdout",
     "output_type": "stream",
     "text": [
      "58\n"
     ]
    },
    {
     "data": {
      "text/html": [
       "<div>\n",
       "<style>\n",
       "    .dataframe thead tr:only-child th {\n",
       "        text-align: right;\n",
       "    }\n",
       "\n",
       "    .dataframe thead th {\n",
       "        text-align: left;\n",
       "    }\n",
       "\n",
       "    .dataframe tbody tr th {\n",
       "        vertical-align: top;\n",
       "    }\n",
       "</style>\n",
       "<table border=\"1\" class=\"dataframe\">\n",
       "  <thead>\n",
       "    <tr style=\"text-align: right;\">\n",
       "      <th></th>\n",
       "      <th>売上</th>\n",
       "      <th>営業利益</th>\n",
       "      <th>純利益</th>\n",
       "      <th>総資産</th>\n",
       "      <th>現金･現金同等物</th>\n",
       "      <th>有価証券</th>\n",
       "      <th>流動資産</th>\n",
       "      <th>総長期投資</th>\n",
       "      <th>有形固定資産</th>\n",
       "      <th>短期借入金</th>\n",
       "      <th>...</th>\n",
       "      <th>株主資本</th>\n",
       "      <th>販管費</th>\n",
       "      <th>売上総利益率</th>\n",
       "      <th>営業利益率</th>\n",
       "      <th>株主還元</th>\n",
       "      <th>純現金資産</th>\n",
       "      <th>営業資産</th>\n",
       "      <th>営業負債</th>\n",
       "      <th>有形固定</th>\n",
       "      <th>使用資産</th>\n",
       "    </tr>\n",
       "  </thead>\n",
       "  <tbody>\n",
       "    <tr>\n",
       "      <th>1</th>\n",
       "      <td>167.1170</td>\n",
       "      <td>12.3130</td>\n",
       "      <td>5.3910</td>\n",
       "      <td>221.7340</td>\n",
       "      <td>15.3940</td>\n",
       "      <td>0.0000</td>\n",
       "      <td>142.7590</td>\n",
       "      <td>0.0000</td>\n",
       "      <td>78.8160</td>\n",
       "      <td>57.500</td>\n",
       "      <td>...</td>\n",
       "      <td>151.3110</td>\n",
       "      <td>-48.5030</td>\n",
       "      <td>0.363913</td>\n",
       "      <td>0.073679</td>\n",
       "      <td>0.0</td>\n",
       "      <td>-44.2760</td>\n",
       "      <td>127.3650</td>\n",
       "      <td>-10.7530</td>\n",
       "      <td>78.8160</td>\n",
       "      <td>195.4280</td>\n",
       "    </tr>\n",
       "    <tr>\n",
       "      <th>2</th>\n",
       "      <td>126.1297</td>\n",
       "      <td>2.7796</td>\n",
       "      <td>0.8943</td>\n",
       "      <td>88.6293</td>\n",
       "      <td>10.4454</td>\n",
       "      <td>0.0300</td>\n",
       "      <td>66.7018</td>\n",
       "      <td>0.0100</td>\n",
       "      <td>15.8228</td>\n",
       "      <td>0.000</td>\n",
       "      <td>...</td>\n",
       "      <td>47.1524</td>\n",
       "      <td>2.7796</td>\n",
       "      <td>0.000000</td>\n",
       "      <td>0.022038</td>\n",
       "      <td>0.0</td>\n",
       "      <td>3.2530</td>\n",
       "      <td>56.2264</td>\n",
       "      <td>-18.8558</td>\n",
       "      <td>15.8228</td>\n",
       "      <td>53.1934</td>\n",
       "    </tr>\n",
       "    <tr>\n",
       "      <th>4</th>\n",
       "      <td>0.3240</td>\n",
       "      <td>-0.1807</td>\n",
       "      <td>-13.9277</td>\n",
       "      <td>4.6553</td>\n",
       "      <td>0.0235</td>\n",
       "      <td>0.0000</td>\n",
       "      <td>0.6903</td>\n",
       "      <td>0.0000</td>\n",
       "      <td>0.0000</td>\n",
       "      <td>0.000</td>\n",
       "      <td>...</td>\n",
       "      <td>1.2313</td>\n",
       "      <td>-0.1807</td>\n",
       "      <td>0.000000</td>\n",
       "      <td>-0.557716</td>\n",
       "      <td>0.0</td>\n",
       "      <td>-0.9965</td>\n",
       "      <td>0.6668</td>\n",
       "      <td>-2.2038</td>\n",
       "      <td>0.0000</td>\n",
       "      <td>-1.5370</td>\n",
       "    </tr>\n",
       "    <tr>\n",
       "      <th>5</th>\n",
       "      <td>60.8263</td>\n",
       "      <td>1.0161</td>\n",
       "      <td>0.7158</td>\n",
       "      <td>78.0599</td>\n",
       "      <td>3.5673</td>\n",
       "      <td>1.4441</td>\n",
       "      <td>32.0063</td>\n",
       "      <td>2.7374</td>\n",
       "      <td>39.9750</td>\n",
       "      <td>1.496</td>\n",
       "      <td>...</td>\n",
       "      <td>65.9583</td>\n",
       "      <td>1.0161</td>\n",
       "      <td>0.000000</td>\n",
       "      <td>0.016705</td>\n",
       "      <td>0.0</td>\n",
       "      <td>-0.9106</td>\n",
       "      <td>26.9949</td>\n",
       "      <td>-7.8704</td>\n",
       "      <td>42.7124</td>\n",
       "      <td>61.8369</td>\n",
       "    </tr>\n",
       "    <tr>\n",
       "      <th>6</th>\n",
       "      <td>0.0031</td>\n",
       "      <td>-0.2131</td>\n",
       "      <td>-0.2095</td>\n",
       "      <td>1.7056</td>\n",
       "      <td>0.2130</td>\n",
       "      <td>0.0000</td>\n",
       "      <td>0.2359</td>\n",
       "      <td>0.9691</td>\n",
       "      <td>0.0006</td>\n",
       "      <td>0.000</td>\n",
       "      <td>...</td>\n",
       "      <td>1.6809</td>\n",
       "      <td>-0.2131</td>\n",
       "      <td>0.000000</td>\n",
       "      <td>-68.741935</td>\n",
       "      <td>0.0</td>\n",
       "      <td>1.1821</td>\n",
       "      <td>0.0229</td>\n",
       "      <td>-0.0247</td>\n",
       "      <td>0.0006</td>\n",
       "      <td>-0.0012</td>\n",
       "    </tr>\n",
       "  </tbody>\n",
       "</table>\n",
       "<p>5 rows × 58 columns</p>\n",
       "</div>"
      ],
      "text/plain": [
       "         売上     営業利益      純利益       総資産  現金･現金同等物    有価証券      流動資産   総長期投資  \\\n",
       "1  167.1170  12.3130   5.3910  221.7340   15.3940  0.0000  142.7590  0.0000   \n",
       "2  126.1297   2.7796   0.8943   88.6293   10.4454  0.0300   66.7018  0.0100   \n",
       "4    0.3240  -0.1807 -13.9277    4.6553    0.0235  0.0000    0.6903  0.0000   \n",
       "5   60.8263   1.0161   0.7158   78.0599    3.5673  1.4441   32.0063  2.7374   \n",
       "6    0.0031  -0.2131  -0.2095    1.7056    0.2130  0.0000    0.2359  0.9691   \n",
       "\n",
       "    有形固定資産   短期借入金    ...         株主資本      販管費    売上総利益率      営業利益率  株主還元  \\\n",
       "1  78.8160  57.500    ...     151.3110 -48.5030  0.363913   0.073679   0.0   \n",
       "2  15.8228   0.000    ...      47.1524   2.7796  0.000000   0.022038   0.0   \n",
       "4   0.0000   0.000    ...       1.2313  -0.1807  0.000000  -0.557716   0.0   \n",
       "5  39.9750   1.496    ...      65.9583   1.0161  0.000000   0.016705   0.0   \n",
       "6   0.0006   0.000    ...       1.6809  -0.2131  0.000000 -68.741935   0.0   \n",
       "\n",
       "     純現金資産      営業資産     営業負債     有形固定      使用資産  \n",
       "1 -44.2760  127.3650 -10.7530  78.8160  195.4280  \n",
       "2   3.2530   56.2264 -18.8558  15.8228   53.1934  \n",
       "4  -0.9965    0.6668  -2.2038   0.0000   -1.5370  \n",
       "5  -0.9106   26.9949  -7.8704  42.7124   61.8369  \n",
       "6   1.1821    0.0229  -0.0247   0.0006   -0.0012  \n",
       "\n",
       "[5 rows x 58 columns]"
      ]
     },
     "execution_count": 173,
     "metadata": {},
     "output_type": "execute_result"
    }
   ],
   "source": [
    "# features from data in 2013\n",
    "featurelist = data2.columns[1:59]\n",
    "print (len(featurelist))\n",
    "data2[featurelist].head()"
   ]
  },
  {
   "cell_type": "code",
   "execution_count": 174,
   "metadata": {},
   "outputs": [
    {
     "data": {
      "text/plain": [
       "(265, 58)"
      ]
     },
     "execution_count": 174,
     "metadata": {},
     "output_type": "execute_result"
    }
   ],
   "source": [
    "# training testing data split 4:1, set random_state to keep datapoints the same in each run \n",
    "\n",
    "x_train, x_test, y_train, y_test =  train_test_split(data2[featurelist], data2['MKTCAP'], test_size = 0.2, random_state = 0)\n",
    "\n",
    "x_train.shape"
   ]
  },
  {
   "cell_type": "code",
   "execution_count": 175,
   "metadata": {},
   "outputs": [
    {
     "name": "stderr",
     "output_type": "stream",
     "text": [
      "C:\\Users\\1098071\\AppData\\Local\\Continuum\\Anaconda3\\lib\\site-packages\\sklearn\\ensemble\\forest.py:723: UserWarning: Some inputs do not have OOB scores. This probably means too few trees were used to compute any reliable oob estimates.\n",
      "  warn(\"Some inputs do not have OOB scores. \"\n"
     ]
    },
    {
     "data": {
      "text/plain": [
       "RandomForestRegressor(bootstrap=True, criterion='mse', max_depth=None,\n",
       "           max_features='auto', max_leaf_nodes=None,\n",
       "           min_impurity_split=1e-07, min_samples_leaf=1,\n",
       "           min_samples_split=2, min_weight_fraction_leaf=0.0,\n",
       "           n_estimators=10, n_jobs=1, oob_score=True, random_state=0,\n",
       "           verbose=0, warm_start=False)"
      ]
     },
     "execution_count": 175,
     "metadata": {},
     "output_type": "execute_result"
    }
   ],
   "source": [
    "# initial regression model with default values  \n",
    "regr = RandomForestRegressor(random_state=0, bootstrap=True, oob_score = True)\n",
    "regr.fit(x_train, y_train)"
   ]
  },
  {
   "cell_type": "code",
   "execution_count": 176,
   "metadata": {},
   "outputs": [
    {
     "data": {
      "text/plain": [
       "0.58387068729215752"
      ]
     },
     "execution_count": 176,
     "metadata": {},
     "output_type": "execute_result"
    }
   ],
   "source": [
    "# coefficient of determination R^2 of the regression on tesing data \n",
    "regr.score(x_test, y_test)"
   ]
  },
  {
   "cell_type": "code",
   "execution_count": 177,
   "metadata": {},
   "outputs": [
    {
     "name": "stdout",
     "output_type": "stream",
     "text": [
      "0.756557194997\n"
     ]
    }
   ],
   "source": [
    "# error estimation using OOB estimation on training data \n",
    "# according to some resesrch, this OOB estiamtion of error is accurate as long as enough trees are grown \n",
    "print (regr.oob_score_)\n",
    "\n",
    "# print (regr.oob_prediction_)"
   ]
  },
  {
   "cell_type": "code",
   "execution_count": 178,
   "metadata": {
    "collapsed": true
   },
   "outputs": [],
   "source": [
    "# feature importance exploration  \n",
    "# number of features in the model is 58\n",
    "\n",
    "importances = regr.feature_importances_\n",
    "# return indices of the most important featuer last, use [::-1] to reverse order\n",
    "indices = np.argsort(importances)[::-1]\n",
    "\n",
    "# standard devivation along columns/ trees\n",
    "std = np.std([tree.feature_importances_ for tree in regr.estimators_], axis=0)"
   ]
  },
  {
   "cell_type": "code",
   "execution_count": 179,
   "metadata": {},
   "outputs": [
    {
     "name": "stdout",
     "output_type": "stream",
     "text": [
      "Feature ranking(top down):\n",
      "1. feature 57, which is 使用資産, has an importance of 0.27585042310757835\n",
      "2. feature 25, which is 剰余金, has an importance of 0.10413187931801711\n",
      "3. feature 0, which is 売上, has an importance of 0.09649194823479305\n",
      "4. feature 3, which is 総資産, has an importance of 0.09554176696503093\n",
      "5. feature 35, which is 人件費, has an importance of 0.09347308639485179\n",
      "6. feature 9, which is 短期借入金, has an importance of 0.09269240985046363\n",
      "7. feature 40, which is 流動資産その他, has an importance of 0.0926027219279889\n",
      "8. feature 43, which is 投資資産その他, has an importance of 0.09056535335838352\n",
      "9. feature 4, which is 現金･現金同等物, has an importance of 0.010712481769465185\n",
      "10. feature 39, which is 発行済株式数, has an importance of 0.005978956418988259\n",
      "11. feature 1, which is 営業利益, has an importance of 0.005936029436588948\n",
      "12. feature 12, which is 無形資産, has an importance of 0.005397270528314909\n",
      "13. feature 18, which is 売上総利益, has an importance of 0.005224163543317127\n",
      "14. feature 26, which is 資本金, has an importance of 0.003970915537576035\n",
      "15. feature 55, which is 営業負債, has an importance of 0.0037358822787443547\n",
      "16. feature 22, which is 買掛金, has an importance of 0.002917916684720288\n",
      "17. feature 37, which is 非流動資産合計, has an importance of 0.002421531024825762\n",
      "18. feature 2, which is 純利益, has an importance of 0.0020545676888240206\n",
      "19. feature 54, which is 営業資産, has an importance of 0.0018576792118119817\n",
      "20. feature 36, which is 税引前利益, has an importance of 0.0015440295791899017\n",
      "21. feature 51, which is 営業利益率, has an importance of 0.0013910119040902698\n",
      "22. feature 7, which is 総長期投資, has an importance of 0.0007660192840287928\n",
      "23. feature 48, which is 株主資本, has an importance of 0.0007625755850827385\n",
      "24. feature 53, which is 純現金資産, has an importance of 0.0006758917554925861\n",
      "25. feature 21, which is 棚卸, has an importance of 0.0006738492605433742\n",
      "26. feature 20, which is 売掛金, has an importance of 0.0004912163595889036\n",
      "27. feature 14, which is 短期繰延税金資産, has an importance of 0.0004308912253284267\n",
      "28. feature 31, which is 長期繰延税金負債, has an importance of 0.0002766881404465913\n",
      "29. feature 27, which is 売上原価, has an importance of 0.0002458205919110564\n",
      "30. feature 29, which is 自己資本, has an importance of 0.00023175769924138034\n",
      "31. feature 24, which is 貸倒引当金, has an importance of 0.00021443843835318704\n",
      "32. feature 23, which is のれん･営業権, has an importance of 0.00012494621441188228\n",
      "33. feature 50, which is 売上総利益率, has an importance of 0.0001249074655008514\n",
      "34. feature 8, which is 有形固定資産, has an importance of 0.0001234461212234502\n",
      "35. feature 5, which is 有価証券, has an importance of 0.00010442101836488486\n",
      "36. feature 45, which is 固定負債, has an importance of 8.046938433813351e-05\n",
      "37. feature 42, which is 無形資産その他, has an importance of 4.151380954747436e-05\n",
      "38. feature 11, which is 流動負債, has an importance of 3.575719637085221e-05\n",
      "39. feature 38, which is 自己株式数, has an importance of 3.2548793151403565e-05\n",
      "40. feature 46, which is 固定負債その他, has an importance of 3.165232646690305e-05\n",
      "41. feature 6, which is 流動資産, has an importance of 1.61032182960034e-05\n",
      "42. feature 49, which is 販管費, has an importance of 6.1727697212439135e-06\n",
      "43. feature 16, which is 従業員数, has an importance of 4.9407120313702424e-06\n",
      "44. feature 44, which is 流動負債その他, has an importance of 2.97196778357345e-06\n",
      "45. feature 41, which is 投資資産, has an importance of 2.5814162369655816e-06\n",
      "46. feature 56, which is 有形固定, has an importance of 1.6764912356065112e-06\n",
      "47. feature 28, which is 負債合計, has an importance of 1.6654409914655978e-06\n",
      "48. feature 10, which is 長期借入金, has an importance of 1.3924993627863475e-06\n",
      "49. feature 33, which is 少数持分, has an importance of 9.900847928156836e-07\n",
      "50. feature 34, which is 自己株金額, has an importance of 5.023879574018821e-07\n",
      "51. feature 47, which is 自己資本その他, has an importance of 1.617463523806823e-07\n",
      "52. feature 30, which is 未払費用, has an importance of 4.721289112019221e-09\n",
      "53. feature 15, which is 長期貸付金, has an importance of 1.110992033550563e-09\n",
      "54. feature 13, which is 未払税金, has an importance of 0.0\n",
      "55. feature 17, which is 自己株式の取得, has an importance of 0.0\n",
      "56. feature 19, which is 土地2, has an importance of 0.0\n",
      "57. feature 32, which is 長期借入金(当期返済分), has an importance of 0.0\n",
      "58. feature 52, which is 株主還元, has an importance of 0.0\n"
     ]
    }
   ],
   "source": [
    "print(\"Feature ranking(top down):\")\n",
    "\n",
    "for f in range(x_train.shape[1]):\n",
    "#     print(\"%d. feature %d (%f)\" % (f + 1, indices[f], importances[indices[f]]))\n",
    "    print ('{}. feature {}, which is {}, has an importance of {}'.format(f + 1, indices[f], featurelist[indices[f]], importances[indices[f]]))\n"
   ]
  },
  {
   "cell_type": "code",
   "execution_count": 180,
   "metadata": {},
   "outputs": [
    {
     "data": {
      "image/png": "[encoded data removed]",
      "text/plain": [
       "<matplotlib.figure.Figure at 0xcd87b00>"
      ]
     },
     "metadata": {},
     "output_type": "display_data"
    }
   ],
   "source": [
    "# feature importaance plot \n",
    "\n",
    "fig = plt.figure(figsize = (10, 10))\n",
    "\n",
    "plt.title(\"Feature importances\")\n",
    "plt.bar(range(x_train.shape[1]), importances[indices],\n",
    "       color=\"r\", yerr=std[indices], align=\"center\")\n",
    "plt.xticks(range(x_train.shape[1]), indices)\n",
    "plt.xlim([-1, x_train.shape[1]])\n",
    "plt.show()"
   ]
  },
  {
   "cell_type": "code",
   "execution_count": 182,
   "metadata": {
    "collapsed": true
   },
   "outputs": [],
   "source": [
    "# # prediction on testing set \n",
    "# print (regr.predict(x_test))"
   ]
  },
  {
   "cell_type": "code",
   "execution_count": null,
   "metadata": {},
   "outputs": [],
   "source": []
  },
  {
   "cell_type": "code",
   "execution_count": 28,
   "metadata": {},
   "outputs": [
    {
     "data": {
      "image/png": "[encoded data removed]",
      "text/plain": [
       "<matplotlib.figure.Figure at 0xcb55f60>"
      ]
     },
     "metadata": {},
     "output_type": "display_data"
    }
   ],
   "source": [
    "# testing size: 67\n",
    "\n",
    "fig = plt.figure(figsize = (10,10))\n",
    "ax = plt.subplot(1, 1, 1)\n",
    "\n",
    "num_predict = len(x_test)\n",
    "x = np.arange(num_predict)\n",
    "y = data2['MKTCAP'].loc[y_test.index].values\n",
    "my_xticks = list(data2['security_code'].loc[x_test.index].values)\n",
    "plt.xticks(x, my_xticks)   # blue dots are actual values \n",
    "plt.scatter(x, y)\n",
    "\n",
    "# ax. scatter(x_test, regr.predict(x_test))\n",
    "\n",
    "y1 = regr.predict(x_test)\n",
    "plt.xticks(x, my_xticks)\n",
    "\n",
    "ax.scatter(x, y1, color = 'red', marker = '*')  # red dots are predicted MKTCAP from testing data \n",
    "plt.ylabel('MKTCAP')\n",
    "plt.xlabel('company tickers')\n",
    "\n",
    "plt.show()"
   ]
  },
  {
   "cell_type": "code",
   "execution_count": 233,
   "metadata": {},
   "outputs": [
    {
     "data": {
      "image/png": "[encoded data removed]",
      "text/plain": [
       "<matplotlib.figure.Figure at 0xda45160>"
      ]
     },
     "metadata": {},
     "output_type": "display_data"
    }
   ],
   "source": [
    "# zoom in plots\n",
    "# data siz: 54\n",
    "\n",
    "data_zoom = data2.loc[list(y_test[y_test < 400].index)]\n",
    "\n",
    "fig = plt.figure(figsize = (15,15))\n",
    "ax = plt.subplot(1, 1, 1)\n",
    "\n",
    "num_zoom = data_zoom.shape[0]\n",
    "x = np.arange(num_zoom)\n",
    "y = data_zoom['MKTCAP'].values\n",
    "my_xticks = list(data_zoom['security_code'].values)\n",
    "plt.xticks(x, my_xticks)   # blue dots are actual values \n",
    "plt.scatter(x, y)\n",
    "\n",
    "# ax. scatter(x_test, regr.predict(x_test))\n",
    "\n",
    "y1 = regr.predict(data_zoom[featurelist])\n",
    "plt.xticks(x, my_xticks)\n",
    "\n",
    "ax.scatter(x, y1, color = 'red', marker = '*')  # red dots are predicted MKTCAP from testing data \n",
    "plt.ylabel('MKTCAP')\n",
    "plt.xlabel('companies with MKTCAP less than 400')\n",
    "\n",
    "plt.show()"
   ]
  },
  {
   "cell_type": "code",
   "execution_count": 29,
   "metadata": {
    "collapsed": true
   },
   "outputs": [],
   "source": [
    "# y_test.describe()"
   ]
  },
  {
   "cell_type": "code",
   "execution_count": 30,
   "metadata": {
    "collapsed": true
   },
   "outputs": [],
   "source": [
    "# pd.DataFrame(regr.predict(x_test)).describe()"
   ]
  },
  {
   "cell_type": "code",
   "execution_count": 31,
   "metadata": {
    "collapsed": true
   },
   "outputs": [],
   "source": [
    "# type(data2['security_code'].loc[x_test.index].values)"
   ]
  },
  {
   "cell_type": "markdown",
   "metadata": {},
   "source": [
    "### 5-fold CV model evaluation  on initial model "
   ]
  },
  {
   "cell_type": "code",
   "execution_count": 32,
   "metadata": {
    "collapsed": true
   },
   "outputs": [],
   "source": [
    "from sklearn.model_selection import cross_val_score\n",
    "from sklearn.metrics import mean_squared_error\n",
    "from sklearn.metrics import r2_score"
   ]
  },
  {
   "cell_type": "markdown",
   "metadata": {},
   "source": [
    " Valid scoring options are ['accuracy', 'adjusted_rand_score', 'average_precision', 'f1', 'f1_macro', 'f1_micro', 'f1_samples', 'f1_weighted', 'neg_log_loss', 'neg_mean_absolute_error', 'neg_mean_squared_error', 'neg_median_absolute_error', 'precision', 'precision_macro', 'precision_micro', 'precision_samples', 'precision_weighted', 'r2', 'recall', 'recall_macro', 'recall_micro', 'recall_samples', 'recall_weighted', 'roc_auc']\n"
   ]
  },
  {
   "cell_type": "code",
   "execution_count": 84,
   "metadata": {},
   "outputs": [
    {
     "name": "stdout",
     "output_type": "stream",
     "text": [
      "[ 0.84366462  0.96116501 -1.2880583   0.81864519  0.86571023]\n",
      "0.440225347768\n"
     ]
    }
   ],
   "source": [
    "regr = RandomForestRegressor(random_state=0)\n",
    "scores = cross_val_score(regr, data2[featurelist], data2['MKTCAP'], cv = 5, scoring = 'r2')\n",
    "\n",
    "# the neagtive coefficients of correlation indicates that the model couldn't even outperform predicting the mean all the time\n",
    "print (scores)\n",
    "print (sum(scores)/5)"
   ]
  },
  {
   "cell_type": "markdown",
   "metadata": {
    "collapsed": true
   },
   "source": [
    "move on to parameter tuning using grid search and cross validation score "
   ]
  },
  {
   "cell_type": "markdown",
   "metadata": {},
   "source": [
    "### Parameter tuning"
   ]
  },
  {
   "cell_type": "code",
   "execution_count": 254,
   "metadata": {},
   "outputs": [
    {
     "data": {
      "text/plain": [
       "332"
      ]
     },
     "execution_count": 254,
     "metadata": {},
     "output_type": "execute_result"
    }
   ],
   "source": [
    "data2.shape[0]"
   ]
  },
  {
   "cell_type": "code",
   "execution_count": 35,
   "metadata": {
    "collapsed": true
   },
   "outputs": [],
   "source": [
    "# regr.get_params()"
   ]
  },
  {
   "cell_type": "code",
   "execution_count": 219,
   "metadata": {},
   "outputs": [],
   "source": [
    "from sklearn.grid_search import GridSearchCV\n",
    "\n",
    "# data \n",
    "x, y = data2[featurelist], data2['MKTCAP']\n",
    "x_train, x_test, y_train, y_test =  train_test_split(x, y, test_size = 0.2, random_state = 0)"
   ]
  },
  {
   "cell_type": "code",
   "execution_count": 222,
   "metadata": {},
   "outputs": [
    {
     "name": "stdout",
     "output_type": "stream",
     "text": [
      "{'max_features': 10, 'min_samples_split': 3, 'n_estimators': 700}\n"
     ]
    }
   ],
   "source": [
    "model = RandomForestRegressor(random_state = 0, oob_score = True, bootstrap = True)\n",
    "param_grid = { \"n_estimators\"      : [800, 600, 700],\n",
    "           \"max_features\"      : ['sqrt', 10, 11],\n",
    "       #    \"max_depth\"         : [12, 11],\n",
    "           \"min_samples_split\" : [2, 3, 4]}\n",
    "grid_search = GridSearchCV(model, param_grid, n_jobs = -1, cv = 5)\n",
    "grid_search.fit(x, y)\n",
    "print (grid_search.best_params_)"
   ]
  },
  {
   "cell_type": "code",
   "execution_count": 38,
   "metadata": {
    "collapsed": true
   },
   "outputs": [],
   "source": [
    "# grid_search.grid_scores_"
   ]
  },
  {
   "cell_type": "code",
   "execution_count": 223,
   "metadata": {},
   "outputs": [
    {
     "data": {
      "text/plain": [
       "{'bootstrap': True,\n",
       " 'criterion': 'mse',\n",
       " 'max_depth': None,\n",
       " 'max_features': 'auto',\n",
       " 'max_leaf_nodes': None,\n",
       " 'min_impurity_split': 1e-07,\n",
       " 'min_samples_leaf': 1,\n",
       " 'min_samples_split': 2,\n",
       " 'min_weight_fraction_leaf': 0.0,\n",
       " 'n_estimators': 10,\n",
       " 'n_jobs': 1,\n",
       " 'oob_score': True,\n",
       " 'random_state': 0,\n",
       " 'verbose': 0,\n",
       " 'warm_start': False}"
      ]
     },
     "execution_count": 223,
     "metadata": {},
     "output_type": "execute_result"
    }
   ],
   "source": [
    "model.get_params()"
   ]
  },
  {
   "cell_type": "code",
   "execution_count": 224,
   "metadata": {},
   "outputs": [
    {
     "data": {
      "text/plain": [
       "RandomForestRegressor(bootstrap=True, criterion='mse', max_depth=None,\n",
       "           max_features=10, max_leaf_nodes=None, min_impurity_split=1e-07,\n",
       "           min_samples_leaf=1, min_samples_split=3,\n",
       "           min_weight_fraction_leaf=0.0, n_estimators=700, n_jobs=1,\n",
       "           oob_score=True, random_state=0, verbose=0, warm_start=False)"
      ]
     },
     "execution_count": 224,
     "metadata": {},
     "output_type": "execute_result"
    }
   ],
   "source": [
    "model_tuned = RandomForestRegressor(**grid_search.best_params_, random_state = 0, oob_score = True, bootstrap = True)\n",
    "model_tuned.fit(x_train, y_train)\n",
    "\n",
    "# model.set_params(grid_search.best_params_)"
   ]
  },
  {
   "cell_type": "code",
   "execution_count": 225,
   "metadata": {},
   "outputs": [
    {
     "data": {
      "text/plain": [
       "0.8706240258301019"
      ]
     },
     "execution_count": 225,
     "metadata": {},
     "output_type": "execute_result"
    }
   ],
   "source": [
    "# model_tuned.oob_prediction_\n",
    "# error estimation using OOB estimation on training data \n",
    "model_tuned.oob_score_"
   ]
  },
  {
   "cell_type": "code",
   "execution_count": 226,
   "metadata": {},
   "outputs": [
    {
     "data": {
      "text/plain": [
       "0.65660339995533723"
      ]
     },
     "execution_count": 226,
     "metadata": {},
     "output_type": "execute_result"
    }
   ],
   "source": [
    "# performance on testing data \n",
    "\n",
    "model_tuned.score(x_test, y_test)"
   ]
  },
  {
   "cell_type": "code",
   "execution_count": 227,
   "metadata": {},
   "outputs": [
    {
     "name": "stdout",
     "output_type": "stream",
     "text": [
      "[ 0.83453988  0.97842563  0.12710638  0.85108927  0.81915596]\n",
      "0.722063422722\n"
     ]
    }
   ],
   "source": [
    "# modeleval using 5-fold CV\n",
    "\n",
    "scores = cross_val_score(model_tuned, x, y, cv = 5, scoring = 'r2')\n",
    "\n",
    "# the neagtive coefficients of correlation indicates that the model couldn't even outperform predicting the mean all the time\n",
    "print (scores)\n",
    "print (sum(scores)/5)\n"
   ]
  },
  {
   "cell_type": "code",
   "execution_count": 44,
   "metadata": {
    "scrolled": true
   },
   "outputs": [
    {
     "name": "stderr",
     "output_type": "stream",
     "text": [
      "C:\\Users\\1098071\\AppData\\Local\\Continuum\\Anaconda3\\lib\\site-packages\\sklearn\\ensemble\\forest.py:723: UserWarning: Some inputs do not have OOB scores. This probably means too few trees were used to compute any reliable oob estimates.\n",
      "  warn(\"Some inputs do not have OOB scores. \"\n"
     ]
    },
    {
     "data": {
      "text/plain": [
       "RandomForestRegressor(bootstrap=True, criterion='mse', max_depth=None,\n",
       "           max_features='auto', max_leaf_nodes=None,\n",
       "           min_impurity_split=1e-07, min_samples_leaf=1,\n",
       "           min_samples_split=2, min_weight_fraction_leaf=0.0,\n",
       "           n_estimators=10, n_jobs=1, oob_score=True, random_state=0,\n",
       "           verbose=0, warm_start=False)"
      ]
     },
     "execution_count": 44,
     "metadata": {},
     "output_type": "execute_result"
    }
   ],
   "source": [
    "# initial regression model with default values  \n",
    "regr = RandomForestRegressor(random_state=0, bootstrap=True, oob_score = True)\n",
    "regr.fit(x_train, y_train)"
   ]
  },
  {
   "cell_type": "code",
   "execution_count": 239,
   "metadata": {},
   "outputs": [
    {
     "data": {
      "image/png": "[encoded data removed]",
      "text/plain": [
       "<matplotlib.figure.Figure at 0xcca2470>"
      ]
     },
     "metadata": {},
     "output_type": "display_data"
    }
   ],
   "source": [
    "fig = plt.figure(figsize = (15,15))\n",
    "ax = plt.subplot(1, 1, 1)\n",
    "\n",
    "num_predict = len(x_test)\n",
    "x = np.arange(num_predict)\n",
    "y = data2['MKTCAP'].loc[y_test.index].values\n",
    "my_xticks = list(data2['security_code'].loc[x_test.index].values)\n",
    "plt.xticks(x, my_xticks)   # blue dots are actual values \n",
    "plt.scatter(x, y)\n",
    "\n",
    "y2 = model_tuned.predict(x_test)\n",
    "ax.scatter(x, y2, color = 'red', marker = '*')  # red stars are predicted MKTCAP from the tuned model\n",
    "\n",
    "\n",
    "y1 = regr.predict(x_test)\n",
    "ax.scatter(x, y1, color = 'green', marker = 'x')    # green xs are predicted MKTCAP from initial model with default parameters \n",
    "\n",
    "plt.ylabel('MKTCAP')\n",
    "plt.xlabel('company tickers')\n",
    "\n",
    "plt.show()"
   ]
  },
  {
   "cell_type": "code",
   "execution_count": 240,
   "metadata": {},
   "outputs": [
    {
     "data": {
      "image/png": "[encoded data removed]",
      "text/plain": [
       "<matplotlib.figure.Figure at 0x6491b00>"
      ]
     },
     "metadata": {},
     "output_type": "display_data"
    }
   ],
   "source": [
    "# zoom in plots\n",
    "# data siz: 54\n",
    "\n",
    "data_zoom = data2.loc[list(y_test[y_test < 400].index)]\n",
    "\n",
    "fig = plt.figure(figsize = (15,15))\n",
    "ax = plt.subplot(1, 1, 1)\n",
    "\n",
    "num_predict = data_zoom.shape[0]\n",
    "x = np.arange(num_predict)\n",
    "y = data_zoom['MKTCAP'].values\n",
    "my_xticks = list(data_zoom['security_code'].values)\n",
    "plt.xticks(x, my_xticks)   # blue dots are actual values \n",
    "plt.scatter(x, y)\n",
    "\n",
    "\n",
    "y2 = model_tuned.predict(data_zoom[featurelist])\n",
    "ax.scatter(x, y2, color = 'red', marker = '*')  # red stars are predicted MKTCAP from the tuned model\n",
    "\n",
    "\n",
    "y1 = regr.predict(data_zoom[featurelist])\n",
    "ax.scatter(x, y1, color = 'green', marker = 'x')    # green xs are predicted MKTCAP from initial model with default parameters \n",
    "\n",
    "\n",
    "plt.ylabel('MKTCAP')\n",
    "plt.xlabel('company tickers')\n",
    "\n",
    "plt.show()"
   ]
  },
  {
   "cell_type": "code",
   "execution_count": 46,
   "metadata": {
    "collapsed": true
   },
   "outputs": [],
   "source": [
    "# feature importance from tuned model  \n",
    "# number of features put into the model is 58\n",
    "\n",
    "importances = model_tuned.feature_importances_\n",
    "# return indices of the most important featuer last, use [::-1] to reverse order\n",
    "indices = np.argsort(importances)[::-1]\n",
    "\n",
    "# standard devivation along columns/ trees\n",
    "std = np.std([tree.feature_importances_ for tree in model_tuned.estimators_], axis=0)"
   ]
  },
  {
   "cell_type": "code",
   "execution_count": 47,
   "metadata": {},
   "outputs": [
    {
     "name": "stdout",
     "output_type": "stream",
     "text": [
      "Feature ranking(top down):\n",
      "1. feature 49, which is 販管費, has an importance of 0.048220688559484706\n",
      "2. feature 1, which is 営業利益, has an importance of 0.04645320523141912\n",
      "3. feature 20, which is 売掛金, has an importance of 0.045563249249680915\n",
      "4. feature 37, which is 非流動資産合計, has an importance of 0.044549657985495886\n",
      "5. feature 27, which is 売上原価, has an importance of 0.042849019014085596\n",
      "6. feature 35, which is 人件費, has an importance of 0.04178138920452967\n",
      "7. feature 48, which is 株主資本, has an importance of 0.039528288597151934\n",
      "8. feature 57, which is 使用資産, has an importance of 0.03893741868794726\n",
      "9. feature 43, which is 投資資産その他, has an importance of 0.03884545103451852\n",
      "10. feature 0, which is 売上, has an importance of 0.037212604807185905\n",
      "11. feature 29, which is 自己資本, has an importance of 0.03498498860774827\n",
      "12. feature 18, which is 売上総利益, has an importance of 0.034979898606954926\n",
      "13. feature 8, which is 有形固定資産, has an importance of 0.03211201503269079\n",
      "14. feature 56, which is 有形固定, has an importance of 0.03111817933105289\n",
      "15. feature 54, which is 営業資産, has an importance of 0.02711664627756078\n",
      "16. feature 3, which is 総資産, has an importance of 0.026931243670719394\n",
      "17. feature 46, which is 固定負債その他, has an importance of 0.0255803163389204\n",
      "18. feature 42, which is 無形資産その他, has an importance of 0.02503836730095175\n",
      "19. feature 9, which is 短期借入金, has an importance of 0.021736678906932067\n",
      "20. feature 45, which is 固定負債, has an importance of 0.02101054730288807\n",
      "21. feature 6, which is 流動資産, has an importance of 0.020839551111722095\n",
      "22. feature 25, which is 剰余金, has an importance of 0.019869270992681504\n",
      "23. feature 4, which is 現金･現金同等物, has an importance of 0.019867536208492506\n",
      "24. feature 28, which is 負債合計, has an importance of 0.017257947178903377\n",
      "25. feature 22, which is 買掛金, has an importance of 0.01703362003898231\n",
      "26. feature 2, which is 純利益, has an importance of 0.015696840518424186\n",
      "27. feature 44, which is 流動負債その他, has an importance of 0.015319941070993574\n",
      "28. feature 10, which is 長期借入金, has an importance of 0.015031511043688838\n",
      "29. feature 53, which is 純現金資産, has an importance of 0.014460712944585292\n",
      "30. feature 36, which is 税引前利益, has an importance of 0.014368256784444686\n",
      "31. feature 11, which is 流動負債, has an importance of 0.013399485086390123\n",
      "32. feature 31, which is 長期繰延税金負債, has an importance of 0.012657890868221743\n",
      "33. feature 41, which is 投資資産, has an importance of 0.011294906651359562\n",
      "34. feature 40, which is 流動資産その他, has an importance of 0.011170459548764082\n",
      "35. feature 12, which is 無形資産, has an importance of 0.01062608871286355\n",
      "36. feature 21, which is 棚卸, has an importance of 0.00978990908342816\n",
      "37. feature 55, which is 営業負債, has an importance of 0.009353909735349556\n",
      "38. feature 26, which is 資本金, has an importance of 0.00895385428616993\n",
      "39. feature 16, which is 従業員数, has an importance of 0.008897092477605416\n",
      "40. feature 7, which is 総長期投資, has an importance of 0.008763913784076195\n",
      "41. feature 39, which is 発行済株式数, has an importance of 0.007065195576611812\n",
      "42. feature 23, which is のれん･営業権, has an importance of 0.0041768798292164235\n",
      "43. feature 24, which is 貸倒引当金, has an importance of 0.0036214664145722292\n",
      "44. feature 33, which is 少数持分, has an importance of 0.002144260997715648\n",
      "45. feature 38, which is 自己株式数, has an importance of 0.0007359230592197319\n",
      "46. feature 51, which is 営業利益率, has an importance of 0.0007244259558511785\n",
      "47. feature 14, which is 短期繰延税金資産, has an importance of 0.000573721611923326\n",
      "48. feature 34, which is 自己株金額, has an importance of 0.0005543447367477652\n",
      "49. feature 50, which is 売上総利益率, has an importance of 0.0005317049842222345\n",
      "50. feature 19, which is 土地2, has an importance of 0.00025883484817708493\n",
      "51. feature 32, which is 長期借入金(当期返済分), has an importance of 0.00021749638311002612\n",
      "52. feature 5, which is 有価証券, has an importance of 0.00018928032717893965\n",
      "53. feature 47, which is 自己資本その他, has an importance of 3.3065444872418806e-06\n",
      "54. feature 30, which is 未払費用, has an importance of 3.0340388967377437e-07\n",
      "55. feature 13, which is 未払税金, has an importance of 2.077102654156622e-07\n",
      "56. feature 15, which is 長期貸付金, has an importance of 9.57417458408568e-08\n",
      "57. feature 17, which is 自己株式の取得, has an importance of 0.0\n",
      "58. feature 52, which is 株主還元, has an importance of 0.0\n"
     ]
    }
   ],
   "source": [
    "print(\"Feature ranking(top down):\")\n",
    "\n",
    "for f in range(x_train.shape[1]):\n",
    "#     print(\"%d. feature %d (%f)\" % (f + 1, indices[f], importances[indices[f]]))\n",
    "    print ('{}. feature {}, which is {}, has an importance of {}'.format(f + 1, indices[f], featurelist[indices[f]], importances[indices[f]]))\n"
   ]
  },
  {
   "cell_type": "code",
   "execution_count": 48,
   "metadata": {},
   "outputs": [
    {
     "data": {
      "image/png": "[encoded data removed]",
      "text/plain": [
       "<matplotlib.figure.Figure at 0xc044518>"
      ]
     },
     "metadata": {},
     "output_type": "display_data"
    }
   ],
   "source": [
    "# feature importance plot \n",
    "\n",
    "fig = plt.figure(figsize = (10, 10))\n",
    "\n",
    "plt.title(\"Feature importances\")\n",
    "plt.bar(range(x_train.shape[1]), importances[indices],\n",
    "       color=\"r\", yerr=std[indices], align=\"center\")\n",
    "plt.xticks(range(x_train.shape[1]), indices)\n",
    "plt.xlim([-1, x_train.shape[1]])\n",
    "plt.show()"
   ]
  },
  {
   "cell_type": "markdown",
   "metadata": {},
   "source": [
    "### Tuned model on MKTCAP in 2013 and features in 2012"
   ]
  },
  {
   "cell_type": "code",
   "execution_count": 49,
   "metadata": {
    "collapsed": true
   },
   "outputs": [],
   "source": [
    "# df.groupby('ddate').count()"
   ]
  },
  {
   "cell_type": "code",
   "execution_count": 244,
   "metadata": {},
   "outputs": [
    {
     "data": {
      "text/html": [
       "<div>\n",
       "<style>\n",
       "    .dataframe thead tr:only-child th {\n",
       "        text-align: right;\n",
       "    }\n",
       "\n",
       "    .dataframe thead th {\n",
       "        text-align: left;\n",
       "    }\n",
       "\n",
       "    .dataframe tbody tr th {\n",
       "        vertical-align: top;\n",
       "    }\n",
       "</style>\n",
       "<table border=\"1\" class=\"dataframe\">\n",
       "  <thead>\n",
       "    <tr style=\"text-align: right;\">\n",
       "      <th></th>\n",
       "      <th>security_code</th>\n",
       "      <th>MKTCAP</th>\n",
       "    </tr>\n",
       "  </thead>\n",
       "  <tbody>\n",
       "    <tr>\n",
       "      <th>5732</th>\n",
       "      <td>1COV</td>\n",
       "      <td>NaN</td>\n",
       "    </tr>\n",
       "    <tr>\n",
       "      <th>5733</th>\n",
       "      <td>1PL</td>\n",
       "      <td>30.1950</td>\n",
       "    </tr>\n",
       "    <tr>\n",
       "      <th>5734</th>\n",
       "      <td>2GB</td>\n",
       "      <td>134.6720</td>\n",
       "    </tr>\n",
       "    <tr>\n",
       "      <th>5735</th>\n",
       "      <td>2HRA</td>\n",
       "      <td>256.5099</td>\n",
       "    </tr>\n",
       "    <tr>\n",
       "      <th>5736</th>\n",
       "      <td>3GOK</td>\n",
       "      <td>0.1493</td>\n",
       "    </tr>\n",
       "  </tbody>\n",
       "</table>\n",
       "</div>"
      ],
      "text/plain": [
       "     security_code    MKTCAP\n",
       "5732          1COV       NaN\n",
       "5733           1PL   30.1950\n",
       "5734           2GB  134.6720\n",
       "5735          2HRA  256.5099\n",
       "5736          3GOK    0.1493"
      ]
     },
     "execution_count": 244,
     "metadata": {},
     "output_type": "execute_result"
    }
   ],
   "source": [
    "# prepare 2013 MKTCAP as y\n",
    "\n",
    "df2013 = df2[df2['ddate'] == 2013][['security_code', 'MKTCAP']]\n",
    "df2013.head()\n",
    "# df2013.describe()\n",
    "# len(df2013['security_code'])"
   ]
  },
  {
   "cell_type": "code",
   "execution_count": 245,
   "metadata": {},
   "outputs": [
    {
     "data": {
      "text/html": [
       "<div>\n",
       "<style>\n",
       "    .dataframe thead tr:only-child th {\n",
       "        text-align: right;\n",
       "    }\n",
       "\n",
       "    .dataframe thead th {\n",
       "        text-align: left;\n",
       "    }\n",
       "\n",
       "    .dataframe tbody tr th {\n",
       "        vertical-align: top;\n",
       "    }\n",
       "</style>\n",
       "<table border=\"1\" class=\"dataframe\">\n",
       "  <thead>\n",
       "    <tr style=\"text-align: right;\">\n",
       "      <th></th>\n",
       "      <th>security_code</th>\n",
       "      <th>売上</th>\n",
       "      <th>営業利益</th>\n",
       "      <th>純利益</th>\n",
       "      <th>総資産</th>\n",
       "      <th>現金･現金同等物</th>\n",
       "      <th>有価証券</th>\n",
       "      <th>流動資産</th>\n",
       "      <th>総長期投資</th>\n",
       "      <th>有形固定資産</th>\n",
       "      <th>...</th>\n",
       "      <th>株主資本</th>\n",
       "      <th>販管費</th>\n",
       "      <th>売上総利益率</th>\n",
       "      <th>営業利益率</th>\n",
       "      <th>株主還元</th>\n",
       "      <th>純現金資産</th>\n",
       "      <th>営業資産</th>\n",
       "      <th>営業負債</th>\n",
       "      <th>有形固定</th>\n",
       "      <th>使用資産</th>\n",
       "    </tr>\n",
       "  </thead>\n",
       "  <tbody>\n",
       "    <tr>\n",
       "      <th>5206</th>\n",
       "      <td>02P</td>\n",
       "      <td>0.0380</td>\n",
       "      <td>-3.3357</td>\n",
       "      <td>-3.3461</td>\n",
       "      <td>199.3196</td>\n",
       "      <td>0.0176</td>\n",
       "      <td>0.0000</td>\n",
       "      <td>59.2041</td>\n",
       "      <td>140.1148</td>\n",
       "      <td>0.0008</td>\n",
       "      <td>...</td>\n",
       "      <td>198.5418</td>\n",
       "      <td>-3.3357</td>\n",
       "      <td>0.000000</td>\n",
       "      <td>-87.781579</td>\n",
       "      <td>0.0</td>\n",
       "      <td>140.1324</td>\n",
       "      <td>59.1865</td>\n",
       "      <td>-0.6292</td>\n",
       "      <td>0.0008</td>\n",
       "      <td>58.5581</td>\n",
       "    </tr>\n",
       "    <tr>\n",
       "      <th>5207</th>\n",
       "      <td>1COV</td>\n",
       "      <td>11610.0000</td>\n",
       "      <td>542.0000</td>\n",
       "      <td>261.0000</td>\n",
       "      <td>10465.0000</td>\n",
       "      <td>44.0000</td>\n",
       "      <td>344.0000</td>\n",
       "      <td>3955.0000</td>\n",
       "      <td>1028.0000</td>\n",
       "      <td>4577.0000</td>\n",
       "      <td>...</td>\n",
       "      <td>2579.0000</td>\n",
       "      <td>-1762.0000</td>\n",
       "      <td>0.198450</td>\n",
       "      <td>0.046684</td>\n",
       "      <td>0.0</td>\n",
       "      <td>-3328.0000</td>\n",
       "      <td>3567.0000</td>\n",
       "      <td>-1983.0000</td>\n",
       "      <td>4577.0000</td>\n",
       "      <td>6161.0000</td>\n",
       "    </tr>\n",
       "    <tr>\n",
       "      <th>5208</th>\n",
       "      <td>1PL</td>\n",
       "      <td>190.9720</td>\n",
       "      <td>35.2960</td>\n",
       "      <td>23.9950</td>\n",
       "      <td>213.2670</td>\n",
       "      <td>64.1080</td>\n",
       "      <td>0.0000</td>\n",
       "      <td>138.9020</td>\n",
       "      <td>0.0010</td>\n",
       "      <td>73.3600</td>\n",
       "      <td>...</td>\n",
       "      <td>147.4790</td>\n",
       "      <td>-47.8300</td>\n",
       "      <td>0.435278</td>\n",
       "      <td>0.184823</td>\n",
       "      <td>0.0</td>\n",
       "      <td>27.7000</td>\n",
       "      <td>74.7940</td>\n",
       "      <td>-29.3790</td>\n",
       "      <td>73.3600</td>\n",
       "      <td>118.7750</td>\n",
       "    </tr>\n",
       "    <tr>\n",
       "      <th>5209</th>\n",
       "      <td>2GB</td>\n",
       "      <td>146.4849</td>\n",
       "      <td>16.6436</td>\n",
       "      <td>11.4252</td>\n",
       "      <td>94.7422</td>\n",
       "      <td>14.0932</td>\n",
       "      <td>0.3252</td>\n",
       "      <td>73.9049</td>\n",
       "      <td>0.0113</td>\n",
       "      <td>14.5842</td>\n",
       "      <td>...</td>\n",
       "      <td>47.7543</td>\n",
       "      <td>16.6436</td>\n",
       "      <td>0.000000</td>\n",
       "      <td>0.113620</td>\n",
       "      <td>0.0</td>\n",
       "      <td>4.0852</td>\n",
       "      <td>59.4865</td>\n",
       "      <td>-36.5820</td>\n",
       "      <td>14.5842</td>\n",
       "      <td>37.4887</td>\n",
       "    </tr>\n",
       "    <tr>\n",
       "      <th>5210</th>\n",
       "      <td>2HRA</td>\n",
       "      <td>1228.9450</td>\n",
       "      <td>26.5350</td>\n",
       "      <td>0.4570</td>\n",
       "      <td>623.1090</td>\n",
       "      <td>89.5880</td>\n",
       "      <td>1.1990</td>\n",
       "      <td>351.1030</td>\n",
       "      <td>4.5810</td>\n",
       "      <td>219.1170</td>\n",
       "      <td>...</td>\n",
       "      <td>213.2830</td>\n",
       "      <td>26.5350</td>\n",
       "      <td>0.000000</td>\n",
       "      <td>0.021592</td>\n",
       "      <td>0.0</td>\n",
       "      <td>-162.4110</td>\n",
       "      <td>260.3160</td>\n",
       "      <td>-81.4360</td>\n",
       "      <td>219.1170</td>\n",
       "      <td>397.9970</td>\n",
       "    </tr>\n",
       "  </tbody>\n",
       "</table>\n",
       "<p>5 rows × 59 columns</p>\n",
       "</div>"
      ],
      "text/plain": [
       "     security_code          売上      営業利益       純利益         総資産  現金･現金同等物  \\\n",
       "5206           02P      0.0380   -3.3357   -3.3461    199.3196    0.0176   \n",
       "5207          1COV  11610.0000  542.0000  261.0000  10465.0000   44.0000   \n",
       "5208           1PL    190.9720   35.2960   23.9950    213.2670   64.1080   \n",
       "5209           2GB    146.4849   16.6436   11.4252     94.7422   14.0932   \n",
       "5210          2HRA   1228.9450   26.5350    0.4570    623.1090   89.5880   \n",
       "\n",
       "          有価証券       流動資産      総長期投資     有形固定資産    ...           株主資本  \\\n",
       "5206    0.0000    59.2041   140.1148     0.0008    ...       198.5418   \n",
       "5207  344.0000  3955.0000  1028.0000  4577.0000    ...      2579.0000   \n",
       "5208    0.0000   138.9020     0.0010    73.3600    ...       147.4790   \n",
       "5209    0.3252    73.9049     0.0113    14.5842    ...        47.7543   \n",
       "5210    1.1990   351.1030     4.5810   219.1170    ...       213.2830   \n",
       "\n",
       "            販管費    売上総利益率      営業利益率  株主還元      純現金資産       営業資産       営業負債  \\\n",
       "5206    -3.3357  0.000000 -87.781579   0.0   140.1324    59.1865    -0.6292   \n",
       "5207 -1762.0000  0.198450   0.046684   0.0 -3328.0000  3567.0000 -1983.0000   \n",
       "5208   -47.8300  0.435278   0.184823   0.0    27.7000    74.7940   -29.3790   \n",
       "5209    16.6436  0.000000   0.113620   0.0     4.0852    59.4865   -36.5820   \n",
       "5210    26.5350  0.000000   0.021592   0.0  -162.4110   260.3160   -81.4360   \n",
       "\n",
       "           有形固定       使用資産  \n",
       "5206     0.0008    58.5581  \n",
       "5207  4577.0000  6161.0000  \n",
       "5208    73.3600   118.7750  \n",
       "5209    14.5842    37.4887  \n",
       "5210   219.1170   397.9970  \n",
       "\n",
       "[5 rows x 59 columns]"
      ]
     },
     "execution_count": 245,
     "metadata": {},
     "output_type": "execute_result"
    }
   ],
   "source": [
    "# prepare all data in 2012 as features for x\n",
    "\n",
    "collist = list(df2.columns[1:61])\n",
    "df2012 = df2[df2['ddate'] == 2012][collist]\n",
    "\n",
    "# removing '時価総額', which is Market Capitalization\n",
    "# MKTCAP is the adjusted market capitaliztion with the amount of self owned stocks removed \n",
    "del df2012['時価総額']\n",
    "df2012.head()\n",
    "# df2012.describe()\n",
    "# len(df2012['security_code'])"
   ]
  },
  {
   "cell_type": "code",
   "execution_count": 253,
   "metadata": {},
   "outputs": [
    {
     "data": {
      "text/plain": [
       "322"
      ]
     },
     "execution_count": 253,
     "metadata": {},
     "output_type": "execute_result"
    }
   ],
   "source": [
    "# only keeping companies that exist in both 2013 and 2014 \n",
    "# removing entries with zero MKTCAP\n",
    "\n",
    "data = pd.merge(df2012, df2013, how='inner', on=['security_code']).dropna()\n",
    "data3 = data[data['MKTCAP'] != 0]\n",
    "\n",
    "data3.head()\n",
    "# data.describe()\n",
    "# len(data3['security_code'])   # 322"
   ]
  },
  {
   "cell_type": "code",
   "execution_count": 247,
   "metadata": {},
   "outputs": [
    {
     "data": {
      "text/plain": [
       "0.88805992421616486"
      ]
     },
     "execution_count": 247,
     "metadata": {},
     "output_type": "execute_result"
    }
   ],
   "source": [
    "featurelist = data3.columns[1:59]\n",
    "x = data3[featurelist]\n",
    "y = data3['MKTCAP']\n",
    "\n",
    "model_tuned.score(x, y)"
   ]
  },
  {
   "cell_type": "code",
   "execution_count": 248,
   "metadata": {
    "scrolled": true
   },
   "outputs": [
    {
     "data": {
      "image/png": "[encoded data removed]",
      "text/plain": [
       "<matplotlib.figure.Figure at 0xc13a128>"
      ]
     },
     "metadata": {},
     "output_type": "display_data"
    }
   ],
   "source": [
    "fig = plt.figure(figsize = (15,15))\n",
    "ax = plt.subplot(1, 1, 1)\n",
    "\n",
    "num_predict = len(x)\n",
    "x = np.arange(num_predict)\n",
    "y = data3['MKTCAP'].values\n",
    "my_xticks = list(data3['security_code'].values)\n",
    "plt.xticks(x, my_xticks)   # blue dots are actual values \n",
    "plt.scatter(x, y)\n",
    "\n",
    "\n",
    "y2 = model_tuned.predict(data3[featurelist])\n",
    "plt.xticks(x, my_xticks)\n",
    "\n",
    "ax.scatter(x, y2, color = 'red', marker = '*')  # red stars are predicted MKTCAP from the tuned model\n",
    "\n",
    "plt.ylabel('MKTCAP')\n",
    "plt.xlabel('company tickers')\n",
    "\n",
    "plt.show()"
   ]
  },
  {
   "cell_type": "code",
   "execution_count": 256,
   "metadata": {},
   "outputs": [
    {
     "data": {
      "image/png": "[encoded data removed]",
      "text/plain": [
       "<matplotlib.figure.Figure at 0xd61c898>"
      ]
     },
     "metadata": {},
     "output_type": "display_data"
    }
   ],
   "source": [
    "# zoom in plot \n",
    "# data size: 261, originally, the size is 322\n",
    "\n",
    "data_zoom = data3[data3['MKTCAP'] < 500]\n",
    "\n",
    "\n",
    "fig = plt.figure(figsize = (15,15))\n",
    "ax = plt.subplot(1, 1, 1)\n",
    "\n",
    "num_predict = data_zoom.shape[0]\n",
    "x = np.arange(num_predict)\n",
    "y = data_zoom['MKTCAP'].values\n",
    "my_xticks = list(data3['security_code'].values)\n",
    "plt.xticks(x, my_xticks)   # blue dots are actual values \n",
    "plt.scatter(x, y)\n",
    "\n",
    "\n",
    "y2 = model_tuned.predict(data_zoom[featurelist])\n",
    "ax.scatter(x, y2, color = 'red', marker = '*')  # red stars are predicted MKTCAP from the tuned model\n",
    "\n",
    "plt.ylabel('MKTCAP')\n",
    "plt.xlabel('company tickers')\n",
    "\n",
    "plt.show()"
   ]
  },
  {
   "cell_type": "markdown",
   "metadata": {
    "collapsed": true
   },
   "source": [
    "### Look at MSE"
   ]
  },
  {
   "cell_type": "code",
   "execution_count": 118,
   "metadata": {},
   "outputs": [
    {
     "data": {
      "text/plain": [
       "<bound method BaseEstimator.get_params of RandomForestRegressor(bootstrap=True, criterion='mse', max_depth=None,\n",
       "           max_features=10, max_leaf_nodes=None, min_impurity_split=1e-07,\n",
       "           min_samples_leaf=1, min_samples_split=3,\n",
       "           min_weight_fraction_leaf=0.0, n_estimators=700, n_jobs=1,\n",
       "           oob_score=True, random_state=0, verbose=0, warm_start=False)>"
      ]
     },
     "execution_count": 118,
     "metadata": {},
     "output_type": "execute_result"
    }
   ],
   "source": [
    "# MSE on RF regressor prediction \n",
    "model_tuned.get_params"
   ]
  },
  {
   "cell_type": "code",
   "execution_count": 86,
   "metadata": {
    "collapsed": true
   },
   "outputs": [],
   "source": [
    "x = data2[featurelist]\n",
    "y = data2['MKTCAP']\n",
    "x_train, x_test, y_train, y_test = train_test_split(x, y, test_size = 0.2, random_state = 0 )"
   ]
  },
  {
   "cell_type": "code",
   "execution_count": 140,
   "metadata": {
    "collapsed": true
   },
   "outputs": [],
   "source": []
  },
  {
   "cell_type": "code",
   "execution_count": 241,
   "metadata": {},
   "outputs": [
    {
     "name": "stdout",
     "output_type": "stream",
     "text": [
      "MSE from testing data is 3.4036485450578158\n"
     ]
    }
   ],
   "source": [
    "import math \n",
    "predicts = model_tuned.predict(x_test)\n",
    "\n",
    "# MSE on testing data and compare this with the MSE from training data to see if  the model overfits the data \n",
    "\n",
    "sse = []\n",
    "for i in range(len(predicts)):\n",
    "    sse.append(math.log10((y_test.iloc[i] - predicts[i]) **2))\n",
    "    \n",
    "MSE = sum(sse)/len(predicts)\n",
    "print ('MSE from testing data is {}'. format(MSE))"
   ]
  },
  {
   "cell_type": "code",
   "execution_count": 242,
   "metadata": {},
   "outputs": [
    {
     "name": "stdout",
     "output_type": "stream",
     "text": [
      "MSE from training data is 0.637619287581031\n"
     ]
    }
   ],
   "source": [
    "# MSE on training data \n",
    "\n",
    "train_pred = model_tuned.predict(x_train)\n",
    "\n",
    "sse2 = []\n",
    "for i in range(len(predicts)):\n",
    "    sse2.append(math.log10((y_train.iloc[i] - train_pred[i]) **2))\n",
    "    \n",
    "MSE2 = sum(sse2)/len(train_pred)\n",
    "print ('MSE from training data is {}'. format(MSE2))"
   ]
  },
  {
   "cell_type": "code",
   "execution_count": 114,
   "metadata": {
    "scrolled": true
   },
   "outputs": [
    {
     "data": {
      "text/html": [
       "<div>\n",
       "<style>\n",
       "    .dataframe thead tr:only-child th {\n",
       "        text-align: right;\n",
       "    }\n",
       "\n",
       "    .dataframe thead th {\n",
       "        text-align: left;\n",
       "    }\n",
       "\n",
       "    .dataframe tbody tr th {\n",
       "        vertical-align: top;\n",
       "    }\n",
       "</style>\n",
       "<table border=\"1\" class=\"dataframe\">\n",
       "  <thead>\n",
       "    <tr style=\"text-align: right;\">\n",
       "      <th></th>\n",
       "      <th>0</th>\n",
       "    </tr>\n",
       "  </thead>\n",
       "  <tbody>\n",
       "    <tr>\n",
       "      <th>count</th>\n",
       "      <td>67.000000</td>\n",
       "    </tr>\n",
       "    <tr>\n",
       "      <th>mean</th>\n",
       "      <td>3.403649</td>\n",
       "    </tr>\n",
       "    <tr>\n",
       "      <th>std</th>\n",
       "      <td>1.864381</td>\n",
       "    </tr>\n",
       "    <tr>\n",
       "      <th>min</th>\n",
       "      <td>-0.065448</td>\n",
       "    </tr>\n",
       "    <tr>\n",
       "      <th>25%</th>\n",
       "      <td>2.187923</td>\n",
       "    </tr>\n",
       "    <tr>\n",
       "      <th>50%</th>\n",
       "      <td>3.050791</td>\n",
       "    </tr>\n",
       "    <tr>\n",
       "      <th>75%</th>\n",
       "      <td>4.384083</td>\n",
       "    </tr>\n",
       "    <tr>\n",
       "      <th>max</th>\n",
       "      <td>9.148940</td>\n",
       "    </tr>\n",
       "  </tbody>\n",
       "</table>\n",
       "</div>"
      ],
      "text/plain": [
       "               0\n",
       "count  67.000000\n",
       "mean    3.403649\n",
       "std     1.864381\n",
       "min    -0.065448\n",
       "25%     2.187923\n",
       "50%     3.050791\n",
       "75%     4.384083\n",
       "max     9.148940"
      ]
     },
     "execution_count": 114,
     "metadata": {},
     "output_type": "execute_result"
    }
   ],
   "source": [
    "pd.DataFrame(mse).describe()"
   ]
  },
  {
   "cell_type": "markdown",
   "metadata": {},
   "source": [
    "### save the model for further use using pickle \n",
    "\n"
   ]
  },
  {
   "cell_type": "code",
   "execution_count": 116,
   "metadata": {
    "collapsed": true
   },
   "outputs": [],
   "source": [
    "import pickle "
   ]
  },
  {
   "cell_type": "code",
   "execution_count": 144,
   "metadata": {
    "collapsed": true
   },
   "outputs": [],
   "source": [
    "# save the model to disk\n",
    "filename = 'GR_model.sav'\n",
    "pickle.dump(model_tuned, open(filename, 'wb'))\n",
    " \n",
    "# some time later...\n",
    " \n",
    "# load the model from disk\n",
    "# loaded_model = pickle.load(open(filename, 'rb'))\n",
    "# result = loaded_model.score(X_test, Y_test)\n",
    "# print(result)"
   ]
  },
  {
   "cell_type": "code",
   "execution_count": null,
   "metadata": {
    "collapsed": true
   },
   "outputs": [],
   "source": []
  },
  {
   "cell_type": "code",
   "execution_count": null,
   "metadata": {
    "collapsed": true
   },
   "outputs": [],
   "source": []
  },
  {
   "cell_type": "code",
   "execution_count": null,
   "metadata": {
    "collapsed": true
   },
   "outputs": [],
   "source": []
  }
 ],
 "metadata": {
  "kernelspec": {
   "display_name": "Python 3",
   "language": "python",
   "name": "python3"
  },
  "language_info": {
   "codemirror_mode": {
    "name": "ipython",
    "version": 3
   },
   "file_extension": ".py",
   "mimetype": "text/x-python",
   "name": "python",
   "nbconvert_exporter": "python",
   "pygments_lexer": "ipython3",
   "version": "3.6.1"
  }
 },
 "nbformat": 4,
 "nbformat_minor": 2
}
