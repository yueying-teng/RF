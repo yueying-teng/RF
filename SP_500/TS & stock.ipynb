{
 "cells": [
  {
   "cell_type": "code",
   "execution_count": 4,
   "metadata": {},
   "outputs": [],
   "source": [
    "# ls *.csv\n",
    "\n",
    "import pandas as pd\n",
    "import numpy as np\n",
    "import matplotlib.pyplot as plt\n",
    "import seaborn as sns \n",
    "%matplotlib inline "
   ]
  },
  {
   "cell_type": "code",
   "execution_count": 10,
   "metadata": {},
   "outputs": [
    {
     "data": {
      "text/html": [
       "<div>\n",
       "<style>\n",
       "    .dataframe thead tr:only-child th {\n",
       "        text-align: right;\n",
       "    }\n",
       "\n",
       "    .dataframe thead th {\n",
       "        text-align: left;\n",
       "    }\n",
       "\n",
       "    .dataframe tbody tr th {\n",
       "        vertical-align: top;\n",
       "    }\n",
       "</style>\n",
       "<table border=\"1\" class=\"dataframe\">\n",
       "  <thead>\n",
       "    <tr style=\"text-align: right;\">\n",
       "      <th></th>\n",
       "      <th>Name</th>\n",
       "      <th>2012-08-13</th>\n",
       "      <th>2012-08-14</th>\n",
       "      <th>2012-08-15</th>\n",
       "      <th>2012-08-16</th>\n",
       "      <th>2012-08-17</th>\n",
       "      <th>2012-08-20</th>\n",
       "      <th>2012-08-21</th>\n",
       "      <th>2012-08-22</th>\n",
       "      <th>2012-08-23</th>\n",
       "      <th>...</th>\n",
       "      <th>2017-07-31</th>\n",
       "      <th>2017-08-01</th>\n",
       "      <th>2017-08-02</th>\n",
       "      <th>2017-08-03</th>\n",
       "      <th>2017-08-04</th>\n",
       "      <th>2017-08-07</th>\n",
       "      <th>2017-08-08</th>\n",
       "      <th>2017-08-09</th>\n",
       "      <th>2017-08-10</th>\n",
       "      <th>2017-08-11</th>\n",
       "    </tr>\n",
       "  </thead>\n",
       "  <tbody>\n",
       "    <tr>\n",
       "      <th>0</th>\n",
       "      <td>A</td>\n",
       "      <td>40.380000</td>\n",
       "      <td>40.490000</td>\n",
       "      <td>40.480000</td>\n",
       "      <td>37.150000</td>\n",
       "      <td>37.220000</td>\n",
       "      <td>36.680000</td>\n",
       "      <td>37.130000</td>\n",
       "      <td>37.460000</td>\n",
       "      <td>37.470000</td>\n",
       "      <td>...</td>\n",
       "      <td>59.79</td>\n",
       "      <td>59.94</td>\n",
       "      <td>60.20</td>\n",
       "      <td>60.37</td>\n",
       "      <td>60.13</td>\n",
       "      <td>60.87</td>\n",
       "      <td>60.14</td>\n",
       "      <td>59.68</td>\n",
       "      <td>58.57</td>\n",
       "      <td>59.33</td>\n",
       "    </tr>\n",
       "    <tr>\n",
       "      <th>1</th>\n",
       "      <td>AAL</td>\n",
       "      <td>41.509644</td>\n",
       "      <td>41.509644</td>\n",
       "      <td>41.509644</td>\n",
       "      <td>41.509644</td>\n",
       "      <td>41.509644</td>\n",
       "      <td>41.509644</td>\n",
       "      <td>41.509644</td>\n",
       "      <td>41.509644</td>\n",
       "      <td>41.509644</td>\n",
       "      <td>...</td>\n",
       "      <td>50.44</td>\n",
       "      <td>51.06</td>\n",
       "      <td>50.45</td>\n",
       "      <td>50.55</td>\n",
       "      <td>50.80</td>\n",
       "      <td>50.58</td>\n",
       "      <td>50.00</td>\n",
       "      <td>49.40</td>\n",
       "      <td>48.55</td>\n",
       "      <td>48.35</td>\n",
       "    </tr>\n",
       "    <tr>\n",
       "      <th>2</th>\n",
       "      <td>AAP</td>\n",
       "      <td>69.110000</td>\n",
       "      <td>70.670000</td>\n",
       "      <td>71.300000</td>\n",
       "      <td>72.460000</td>\n",
       "      <td>72.870000</td>\n",
       "      <td>71.580000</td>\n",
       "      <td>72.000000</td>\n",
       "      <td>72.200000</td>\n",
       "      <td>71.960000</td>\n",
       "      <td>...</td>\n",
       "      <td>112.01</td>\n",
       "      <td>114.05</td>\n",
       "      <td>114.48</td>\n",
       "      <td>110.53</td>\n",
       "      <td>111.01</td>\n",
       "      <td>109.49</td>\n",
       "      <td>109.39</td>\n",
       "      <td>109.18</td>\n",
       "      <td>106.13</td>\n",
       "      <td>107.34</td>\n",
       "    </tr>\n",
       "    <tr>\n",
       "      <th>3</th>\n",
       "      <td>AAPL</td>\n",
       "      <td>90.000000</td>\n",
       "      <td>90.240000</td>\n",
       "      <td>90.120000</td>\n",
       "      <td>90.910000</td>\n",
       "      <td>92.590000</td>\n",
       "      <td>95.020000</td>\n",
       "      <td>93.720000</td>\n",
       "      <td>95.550000</td>\n",
       "      <td>94.660000</td>\n",
       "      <td>...</td>\n",
       "      <td>148.73</td>\n",
       "      <td>150.05</td>\n",
       "      <td>157.14</td>\n",
       "      <td>155.57</td>\n",
       "      <td>156.39</td>\n",
       "      <td>158.81</td>\n",
       "      <td>160.08</td>\n",
       "      <td>161.06</td>\n",
       "      <td>155.32</td>\n",
       "      <td>157.48</td>\n",
       "    </tr>\n",
       "    <tr>\n",
       "      <th>4</th>\n",
       "      <td>ABBV</td>\n",
       "      <td>56.629558</td>\n",
       "      <td>56.629558</td>\n",
       "      <td>56.629558</td>\n",
       "      <td>56.629558</td>\n",
       "      <td>56.629558</td>\n",
       "      <td>56.629558</td>\n",
       "      <td>56.629558</td>\n",
       "      <td>56.629558</td>\n",
       "      <td>56.629558</td>\n",
       "      <td>...</td>\n",
       "      <td>69.91</td>\n",
       "      <td>70.38</td>\n",
       "      <td>70.71</td>\n",
       "      <td>70.99</td>\n",
       "      <td>70.99</td>\n",
       "      <td>71.22</td>\n",
       "      <td>71.47</td>\n",
       "      <td>72.02</td>\n",
       "      <td>70.44</td>\n",
       "      <td>70.63</td>\n",
       "    </tr>\n",
       "  </tbody>\n",
       "</table>\n",
       "<p>5 rows × 1259 columns</p>\n",
       "</div>"
      ],
      "text/plain": [
       "   Name  2012-08-13  2012-08-14  2012-08-15  2012-08-16  2012-08-17  \\\n",
       "0     A   40.380000   40.490000   40.480000   37.150000   37.220000   \n",
       "1   AAL   41.509644   41.509644   41.509644   41.509644   41.509644   \n",
       "2   AAP   69.110000   70.670000   71.300000   72.460000   72.870000   \n",
       "3  AAPL   90.000000   90.240000   90.120000   90.910000   92.590000   \n",
       "4  ABBV   56.629558   56.629558   56.629558   56.629558   56.629558   \n",
       "\n",
       "   2012-08-20  2012-08-21  2012-08-22  2012-08-23     ...      2017-07-31  \\\n",
       "0   36.680000   37.130000   37.460000   37.470000     ...           59.79   \n",
       "1   41.509644   41.509644   41.509644   41.509644     ...           50.44   \n",
       "2   71.580000   72.000000   72.200000   71.960000     ...          112.01   \n",
       "3   95.020000   93.720000   95.550000   94.660000     ...          148.73   \n",
       "4   56.629558   56.629558   56.629558   56.629558     ...           69.91   \n",
       "\n",
       "   2017-08-01  2017-08-02  2017-08-03  2017-08-04  2017-08-07  2017-08-08  \\\n",
       "0       59.94       60.20       60.37       60.13       60.87       60.14   \n",
       "1       51.06       50.45       50.55       50.80       50.58       50.00   \n",
       "2      114.05      114.48      110.53      111.01      109.49      109.39   \n",
       "3      150.05      157.14      155.57      156.39      158.81      160.08   \n",
       "4       70.38       70.71       70.99       70.99       71.22       71.47   \n",
       "\n",
       "   2017-08-09  2017-08-10  2017-08-11  \n",
       "0       59.68       58.57       59.33  \n",
       "1       49.40       48.55       48.35  \n",
       "2      109.18      106.13      107.34  \n",
       "3      161.06      155.32      157.48  \n",
       "4       72.02       70.44       70.63  \n",
       "\n",
       "[5 rows x 1259 columns]"
      ]
     },
     "execution_count": 10,
     "metadata": {},
     "output_type": "execute_result"
    }
   ],
   "source": [
    "tsd = pd.read_csv('5y_time_series.csv').iloc[:, 1:]\n",
    "\n",
    "# actual time series data should look like this: each timestamp forms a row with stock price as column name \n",
    "# tsd.T.head()\n",
    "tsd.head()"
   ]
  },
  {
   "cell_type": "code",
   "execution_count": 36,
   "metadata": {},
   "outputs": [
    {
     "data": {
      "text/plain": [
       "<matplotlib.legend.Legend at 0xca620b8>"
      ]
     },
     "execution_count": 36,
     "metadata": {},
     "output_type": "execute_result"
    },
    {
     "data": {
      "image/png": "[encoded data removed]",
      "text/plain": [
       "<matplotlib.figure.Figure at 0xb69efd0>"
      ]
     },
     "metadata": {},
     "output_type": "display_data"
    }
   ],
   "source": [
    "# time series plot of the first stock in the data \n",
    "\n",
    "s1 = pd.DataFrame(np.array(tsd.iloc[0][tsd.columns[1:]].T), columns = list(tsd['Name'][0]), index = pd.to_datetime(tsd.columns[1:]))\n",
    "\n",
    "\n",
    "# inline plot of the data \n",
    "s1.plot()\n",
    "plt.legend(loc = 'best')"
   ]
  },
  {
   "cell_type": "code",
   "execution_count": 37,
   "metadata": {
    "collapsed": true
   },
   "outputs": [],
   "source": [
    "# # A time series with seasonality and trend removed is called stationary.\n",
    "# # seasaonlity appeared to be 24 monthes - this has to be changed to days in the case of daily data\n",
    "\n",
    "# # seasonal difference\n",
    "# differenced = s1.diff(24)\n",
    "\n",
    "# # trim off the first two years of empty data \n",
    "# differenced = differenced[24:]\n",
    "\n",
    "# # save differnced data to csv\n",
    "# differenced.to_csv('differenced.csv')\n",
    "\n",
    "# # plot differenced data\n",
    "# differenced.plot()\n",
    "# plt.legend(loc = 'best')"
   ]
  },
  {
   "cell_type": "code",
   "execution_count": 43,
   "metadata": {},
   "outputs": [
    {
     "data": {
      "text/plain": [
       "[<matplotlib.lines.Line2D at 0xcbb1710>]"
      ]
     },
     "execution_count": 43,
     "metadata": {},
     "output_type": "execute_result"
    },
    {
     "data": {
      "image/png": "[encoded data removed]",
      "text/plain": [
       "<matplotlib.figure.Figure at 0xdd056d8>"
      ]
     },
     "metadata": {},
     "output_type": "display_data"
    }
   ],
   "source": [
    "# auto correlation plot \n",
    "\n",
    "from statsmodels.tsa.stattools import acf, pacf\n",
    "from pandas.tools.plotting import autocorrelation_plot\n",
    "\n",
    "plt.plot( pacf(s1))\n",
    "\n",
    "# autocorrelation_plot(s1)"
   ]
  },
  {
   "cell_type": "code",
   "execution_count": 41,
   "metadata": {},
   "outputs": [
    {
     "name": "stdout",
     "output_type": "stream",
     "text": [
      "Help on function wrapper in module pandas.tools.plotting:\n",
      "\n",
      "wrapper(*args, **kwargs)\n",
      "\n"
     ]
    }
   ],
   "source": [
    "help(autocorrelation_plot)"
   ]
  },
  {
   "cell_type": "markdown",
   "metadata": {},
   "source": [
    "feature selection time series forecasting with python\n",
    "\n",
    "https://machinelearningmastery.com/feature-selection-time-series-forecasting-python/\n",
    "\n",
    "ARIMA for time series forecasting with python\n",
    "\n",
    "https://machinelearningmastery.com/arima-for-time-series-forecasting-with-python/"
   ]
  },
  {
   "cell_type": "code",
   "execution_count": null,
   "metadata": {
    "collapsed": true
   },
   "outputs": [],
   "source": []
  },
  {
   "cell_type": "code",
   "execution_count": null,
   "metadata": {
    "collapsed": true
   },
   "outputs": [],
   "source": []
  },
  {
   "cell_type": "code",
   "execution_count": null,
   "metadata": {
    "collapsed": true
   },
   "outputs": [],
   "source": []
  }
 ],
 "metadata": {
  "kernelspec": {
   "display_name": "Python 3",
   "language": "python",
   "name": "python3"
  },
  "language_info": {
   "codemirror_mode": {
    "name": "ipython",
    "version": 3
   },
   "file_extension": ".py",
   "mimetype": "text/x-python",
   "name": "python",
   "nbconvert_exporter": "python",
   "pygments_lexer": "ipython3",
   "version": "3.6.1"
  }
 },
 "nbformat": 4,
 "nbformat_minor": 2
}
