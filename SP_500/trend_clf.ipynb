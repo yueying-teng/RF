{
 "cells": [
  {
   "cell_type": "code",
   "execution_count": 1,
   "metadata": {
    "collapsed": true
   },
   "outputs": [],
   "source": [
    "import pandas as pd\n",
    "import numpy as np\n",
    "\n",
    "import matplotlib.pyplot as plt\n",
    "% matplotlib inline\n",
    "import seaborn as sns\n",
    "\n",
    "\n",
    "from sklearn.neighbors import KNeighborsClassifier\n",
    "from sklearn.decomposition import PCA\n",
    "\n",
    "from sklearn.model_selection import train_test_split\n",
    "from sklearn.model_selection import GridSearchCV\n",
    "from sklearn.model_selection import cross_val_score\n",
    "\n",
    "from sklearn.metrics import make_scorer, accuracy_score"
   ]
  },
  {
   "cell_type": "code",
   "execution_count": 2,
   "metadata": {},
   "outputs": [
    {
     "data": {
      "text/html": [
       "<div>\n",
       "<style>\n",
       "    .dataframe thead tr:only-child th {\n",
       "        text-align: right;\n",
       "    }\n",
       "\n",
       "    .dataframe thead th {\n",
       "        text-align: left;\n",
       "    }\n",
       "\n",
       "    .dataframe tbody tr th {\n",
       "        vertical-align: top;\n",
       "    }\n",
       "</style>\n",
       "<table border=\"1\" class=\"dataframe\">\n",
       "  <thead>\n",
       "    <tr style=\"text-align: right;\">\n",
       "      <th></th>\n",
       "      <th>Date</th>\n",
       "      <th>Open</th>\n",
       "      <th>High</th>\n",
       "      <th>Low</th>\n",
       "      <th>Close</th>\n",
       "      <th>Volume</th>\n",
       "      <th>Name</th>\n",
       "    </tr>\n",
       "  </thead>\n",
       "  <tbody>\n",
       "    <tr>\n",
       "      <th>0</th>\n",
       "      <td>2012-08-13</td>\n",
       "      <td>92.29</td>\n",
       "      <td>92.59</td>\n",
       "      <td>91.74</td>\n",
       "      <td>92.40</td>\n",
       "      <td>2075391.0</td>\n",
       "      <td>MMM</td>\n",
       "    </tr>\n",
       "    <tr>\n",
       "      <th>1</th>\n",
       "      <td>2012-08-14</td>\n",
       "      <td>92.36</td>\n",
       "      <td>92.50</td>\n",
       "      <td>92.01</td>\n",
       "      <td>92.30</td>\n",
       "      <td>1843476.0</td>\n",
       "      <td>MMM</td>\n",
       "    </tr>\n",
       "    <tr>\n",
       "      <th>2</th>\n",
       "      <td>2012-08-15</td>\n",
       "      <td>92.00</td>\n",
       "      <td>92.74</td>\n",
       "      <td>91.94</td>\n",
       "      <td>92.54</td>\n",
       "      <td>1983395.0</td>\n",
       "      <td>MMM</td>\n",
       "    </tr>\n",
       "    <tr>\n",
       "      <th>3</th>\n",
       "      <td>2012-08-16</td>\n",
       "      <td>92.75</td>\n",
       "      <td>93.87</td>\n",
       "      <td>92.21</td>\n",
       "      <td>93.74</td>\n",
       "      <td>3395145.0</td>\n",
       "      <td>MMM</td>\n",
       "    </tr>\n",
       "    <tr>\n",
       "      <th>4</th>\n",
       "      <td>2012-08-17</td>\n",
       "      <td>93.93</td>\n",
       "      <td>94.30</td>\n",
       "      <td>93.59</td>\n",
       "      <td>94.24</td>\n",
       "      <td>3069513.0</td>\n",
       "      <td>MMM</td>\n",
       "    </tr>\n",
       "  </tbody>\n",
       "</table>\n",
       "</div>"
      ],
      "text/plain": [
       "         Date   Open   High    Low  Close     Volume Name\n",
       "0  2012-08-13  92.29  92.59  91.74  92.40  2075391.0  MMM\n",
       "1  2012-08-14  92.36  92.50  92.01  92.30  1843476.0  MMM\n",
       "2  2012-08-15  92.00  92.74  91.94  92.54  1983395.0  MMM\n",
       "3  2012-08-16  92.75  93.87  92.21  93.74  3395145.0  MMM\n",
       "4  2012-08-17  93.93  94.30  93.59  94.24  3069513.0  MMM"
      ]
     },
     "execution_count": 2,
     "metadata": {},
     "output_type": "execute_result"
    }
   ],
   "source": [
    "long = pd.read_csv('all_stocks_5yr.csv')\n",
    "long.head()"
   ]
  },
  {
   "cell_type": "code",
   "execution_count": 3,
   "metadata": {
    "collapsed": true
   },
   "outputs": [],
   "source": [
    "# using all unique timestamp and closing price as columns for Xs and Y\n",
    "# company names as row names \n",
    "\n",
    "timecol = long['Date'].unique()\n",
    "\n",
    "dt = long[['Date', 'Close', 'Name']]\n",
    "\n",
    "# len(dt[dt['Date'] == '2012-08-13'])"
   ]
  },
  {
   "cell_type": "code",
   "execution_count": 4,
   "metadata": {},
   "outputs": [
    {
     "data": {
      "text/html": [
       "<div>\n",
       "<style>\n",
       "    .dataframe thead tr:only-child th {\n",
       "        text-align: right;\n",
       "    }\n",
       "\n",
       "    .dataframe thead th {\n",
       "        text-align: left;\n",
       "    }\n",
       "\n",
       "    .dataframe tbody tr th {\n",
       "        vertical-align: top;\n",
       "    }\n",
       "</style>\n",
       "<table border=\"1\" class=\"dataframe\">\n",
       "  <thead>\n",
       "    <tr style=\"text-align: right;\">\n",
       "      <th>Date</th>\n",
       "      <th>Name</th>\n",
       "      <th>2012-08-13</th>\n",
       "      <th>2012-08-14</th>\n",
       "      <th>2012-08-15</th>\n",
       "      <th>2012-08-16</th>\n",
       "      <th>2012-08-17</th>\n",
       "      <th>2012-08-20</th>\n",
       "      <th>2012-08-21</th>\n",
       "      <th>2012-08-22</th>\n",
       "      <th>2012-08-23</th>\n",
       "      <th>...</th>\n",
       "      <th>2017-07-31</th>\n",
       "      <th>2017-08-01</th>\n",
       "      <th>2017-08-02</th>\n",
       "      <th>2017-08-03</th>\n",
       "      <th>2017-08-04</th>\n",
       "      <th>2017-08-07</th>\n",
       "      <th>2017-08-08</th>\n",
       "      <th>2017-08-09</th>\n",
       "      <th>2017-08-10</th>\n",
       "      <th>2017-08-11</th>\n",
       "    </tr>\n",
       "  </thead>\n",
       "  <tbody>\n",
       "    <tr>\n",
       "      <th>0</th>\n",
       "      <td>A</td>\n",
       "      <td>40.38</td>\n",
       "      <td>40.49</td>\n",
       "      <td>40.48</td>\n",
       "      <td>37.15</td>\n",
       "      <td>37.22</td>\n",
       "      <td>36.68</td>\n",
       "      <td>37.13</td>\n",
       "      <td>37.46</td>\n",
       "      <td>37.47</td>\n",
       "      <td>...</td>\n",
       "      <td>59.79</td>\n",
       "      <td>59.94</td>\n",
       "      <td>60.20</td>\n",
       "      <td>60.37</td>\n",
       "      <td>60.13</td>\n",
       "      <td>60.87</td>\n",
       "      <td>60.14</td>\n",
       "      <td>59.68</td>\n",
       "      <td>58.57</td>\n",
       "      <td>59.33</td>\n",
       "    </tr>\n",
       "    <tr>\n",
       "      <th>1</th>\n",
       "      <td>AAL</td>\n",
       "      <td>NaN</td>\n",
       "      <td>NaN</td>\n",
       "      <td>NaN</td>\n",
       "      <td>NaN</td>\n",
       "      <td>NaN</td>\n",
       "      <td>NaN</td>\n",
       "      <td>NaN</td>\n",
       "      <td>NaN</td>\n",
       "      <td>NaN</td>\n",
       "      <td>...</td>\n",
       "      <td>50.44</td>\n",
       "      <td>51.06</td>\n",
       "      <td>50.45</td>\n",
       "      <td>50.55</td>\n",
       "      <td>50.80</td>\n",
       "      <td>50.58</td>\n",
       "      <td>50.00</td>\n",
       "      <td>49.40</td>\n",
       "      <td>48.55</td>\n",
       "      <td>48.35</td>\n",
       "    </tr>\n",
       "    <tr>\n",
       "      <th>2</th>\n",
       "      <td>AAP</td>\n",
       "      <td>69.11</td>\n",
       "      <td>70.67</td>\n",
       "      <td>71.30</td>\n",
       "      <td>72.46</td>\n",
       "      <td>72.87</td>\n",
       "      <td>71.58</td>\n",
       "      <td>72.00</td>\n",
       "      <td>72.20</td>\n",
       "      <td>71.96</td>\n",
       "      <td>...</td>\n",
       "      <td>112.01</td>\n",
       "      <td>114.05</td>\n",
       "      <td>114.48</td>\n",
       "      <td>110.53</td>\n",
       "      <td>111.01</td>\n",
       "      <td>109.49</td>\n",
       "      <td>109.39</td>\n",
       "      <td>109.18</td>\n",
       "      <td>106.13</td>\n",
       "      <td>107.34</td>\n",
       "    </tr>\n",
       "    <tr>\n",
       "      <th>3</th>\n",
       "      <td>AAPL</td>\n",
       "      <td>90.00</td>\n",
       "      <td>90.24</td>\n",
       "      <td>90.12</td>\n",
       "      <td>90.91</td>\n",
       "      <td>92.59</td>\n",
       "      <td>95.02</td>\n",
       "      <td>93.72</td>\n",
       "      <td>95.55</td>\n",
       "      <td>94.66</td>\n",
       "      <td>...</td>\n",
       "      <td>148.73</td>\n",
       "      <td>150.05</td>\n",
       "      <td>157.14</td>\n",
       "      <td>155.57</td>\n",
       "      <td>156.39</td>\n",
       "      <td>158.81</td>\n",
       "      <td>160.08</td>\n",
       "      <td>161.06</td>\n",
       "      <td>155.32</td>\n",
       "      <td>157.48</td>\n",
       "    </tr>\n",
       "    <tr>\n",
       "      <th>4</th>\n",
       "      <td>ABBV</td>\n",
       "      <td>NaN</td>\n",
       "      <td>NaN</td>\n",
       "      <td>NaN</td>\n",
       "      <td>NaN</td>\n",
       "      <td>NaN</td>\n",
       "      <td>NaN</td>\n",
       "      <td>NaN</td>\n",
       "      <td>NaN</td>\n",
       "      <td>NaN</td>\n",
       "      <td>...</td>\n",
       "      <td>69.91</td>\n",
       "      <td>70.38</td>\n",
       "      <td>70.71</td>\n",
       "      <td>70.99</td>\n",
       "      <td>70.99</td>\n",
       "      <td>71.22</td>\n",
       "      <td>71.47</td>\n",
       "      <td>72.02</td>\n",
       "      <td>70.44</td>\n",
       "      <td>70.63</td>\n",
       "    </tr>\n",
       "  </tbody>\n",
       "</table>\n",
       "<p>5 rows × 1259 columns</p>\n",
       "</div>"
      ],
      "text/plain": [
       "Date  Name  2012-08-13  2012-08-14  2012-08-15  2012-08-16  2012-08-17  \\\n",
       "0        A       40.38       40.49       40.48       37.15       37.22   \n",
       "1      AAL         NaN         NaN         NaN         NaN         NaN   \n",
       "2      AAP       69.11       70.67       71.30       72.46       72.87   \n",
       "3     AAPL       90.00       90.24       90.12       90.91       92.59   \n",
       "4     ABBV         NaN         NaN         NaN         NaN         NaN   \n",
       "\n",
       "Date  2012-08-20  2012-08-21  2012-08-22  2012-08-23     ...      2017-07-31  \\\n",
       "0          36.68       37.13       37.46       37.47     ...           59.79   \n",
       "1            NaN         NaN         NaN         NaN     ...           50.44   \n",
       "2          71.58       72.00       72.20       71.96     ...          112.01   \n",
       "3          95.02       93.72       95.55       94.66     ...          148.73   \n",
       "4            NaN         NaN         NaN         NaN     ...           69.91   \n",
       "\n",
       "Date  2017-08-01  2017-08-02  2017-08-03  2017-08-04  2017-08-07  2017-08-08  \\\n",
       "0          59.94       60.20       60.37       60.13       60.87       60.14   \n",
       "1          51.06       50.45       50.55       50.80       50.58       50.00   \n",
       "2         114.05      114.48      110.53      111.01      109.49      109.39   \n",
       "3         150.05      157.14      155.57      156.39      158.81      160.08   \n",
       "4          70.38       70.71       70.99       70.99       71.22       71.47   \n",
       "\n",
       "Date  2017-08-09  2017-08-10  2017-08-11  \n",
       "0          59.68       58.57       59.33  \n",
       "1          49.40       48.55       48.35  \n",
       "2         109.18      106.13      107.34  \n",
       "3         161.06      155.32      157.48  \n",
       "4          72.02       70.44       70.63  \n",
       "\n",
       "[5 rows x 1259 columns]"
      ]
     },
     "execution_count": 4,
     "metadata": {},
     "output_type": "execute_result"
    }
   ],
   "source": [
    "# data restructure \n",
    "\n",
    "refold = pd.pivot_table(dt, index = 'Name', columns = 'Date', values = 'Close').reset_index()\n",
    "refold.head()"
   ]
  },
  {
   "cell_type": "code",
   "execution_count": 5,
   "metadata": {},
   "outputs": [
    {
     "data": {
      "text/html": [
       "<div>\n",
       "<style>\n",
       "    .dataframe thead tr:only-child th {\n",
       "        text-align: right;\n",
       "    }\n",
       "\n",
       "    .dataframe thead th {\n",
       "        text-align: left;\n",
       "    }\n",
       "\n",
       "    .dataframe tbody tr th {\n",
       "        vertical-align: top;\n",
       "    }\n",
       "</style>\n",
       "<table border=\"1\" class=\"dataframe\">\n",
       "  <thead>\n",
       "    <tr style=\"text-align: right;\">\n",
       "      <th>Date</th>\n",
       "      <th>Name</th>\n",
       "      <th>2012-08-13</th>\n",
       "      <th>2012-08-14</th>\n",
       "      <th>2012-08-15</th>\n",
       "      <th>2012-08-16</th>\n",
       "      <th>2012-08-17</th>\n",
       "      <th>2012-08-20</th>\n",
       "      <th>2012-08-21</th>\n",
       "      <th>2012-08-22</th>\n",
       "      <th>2012-08-23</th>\n",
       "      <th>...</th>\n",
       "      <th>2017-07-31</th>\n",
       "      <th>2017-08-01</th>\n",
       "      <th>2017-08-02</th>\n",
       "      <th>2017-08-03</th>\n",
       "      <th>2017-08-04</th>\n",
       "      <th>2017-08-07</th>\n",
       "      <th>2017-08-08</th>\n",
       "      <th>2017-08-09</th>\n",
       "      <th>2017-08-10</th>\n",
       "      <th>2017-08-11</th>\n",
       "    </tr>\n",
       "  </thead>\n",
       "  <tbody>\n",
       "    <tr>\n",
       "      <th>0</th>\n",
       "      <td>A</td>\n",
       "      <td>40.38</td>\n",
       "      <td>40.49</td>\n",
       "      <td>40.48</td>\n",
       "      <td>37.15</td>\n",
       "      <td>37.22</td>\n",
       "      <td>36.68</td>\n",
       "      <td>37.13</td>\n",
       "      <td>37.46</td>\n",
       "      <td>37.47</td>\n",
       "      <td>...</td>\n",
       "      <td>59.79</td>\n",
       "      <td>59.94</td>\n",
       "      <td>60.2</td>\n",
       "      <td>60.37</td>\n",
       "      <td>60.13</td>\n",
       "      <td>60.87</td>\n",
       "      <td>60.14</td>\n",
       "      <td>59.68</td>\n",
       "      <td>58.57</td>\n",
       "      <td>59.33</td>\n",
       "    </tr>\n",
       "    <tr>\n",
       "      <th>1</th>\n",
       "      <td>AAL</td>\n",
       "      <td>41.5096</td>\n",
       "      <td>41.5096</td>\n",
       "      <td>41.5096</td>\n",
       "      <td>41.5096</td>\n",
       "      <td>41.5096</td>\n",
       "      <td>41.5096</td>\n",
       "      <td>41.5096</td>\n",
       "      <td>41.5096</td>\n",
       "      <td>41.5096</td>\n",
       "      <td>...</td>\n",
       "      <td>50.44</td>\n",
       "      <td>51.06</td>\n",
       "      <td>50.45</td>\n",
       "      <td>50.55</td>\n",
       "      <td>50.8</td>\n",
       "      <td>50.58</td>\n",
       "      <td>50</td>\n",
       "      <td>49.4</td>\n",
       "      <td>48.55</td>\n",
       "      <td>48.35</td>\n",
       "    </tr>\n",
       "    <tr>\n",
       "      <th>2</th>\n",
       "      <td>AAP</td>\n",
       "      <td>69.11</td>\n",
       "      <td>70.67</td>\n",
       "      <td>71.3</td>\n",
       "      <td>72.46</td>\n",
       "      <td>72.87</td>\n",
       "      <td>71.58</td>\n",
       "      <td>72</td>\n",
       "      <td>72.2</td>\n",
       "      <td>71.96</td>\n",
       "      <td>...</td>\n",
       "      <td>112.01</td>\n",
       "      <td>114.05</td>\n",
       "      <td>114.48</td>\n",
       "      <td>110.53</td>\n",
       "      <td>111.01</td>\n",
       "      <td>109.49</td>\n",
       "      <td>109.39</td>\n",
       "      <td>109.18</td>\n",
       "      <td>106.13</td>\n",
       "      <td>107.34</td>\n",
       "    </tr>\n",
       "    <tr>\n",
       "      <th>3</th>\n",
       "      <td>AAPL</td>\n",
       "      <td>90</td>\n",
       "      <td>90.24</td>\n",
       "      <td>90.12</td>\n",
       "      <td>90.91</td>\n",
       "      <td>92.59</td>\n",
       "      <td>95.02</td>\n",
       "      <td>93.72</td>\n",
       "      <td>95.55</td>\n",
       "      <td>94.66</td>\n",
       "      <td>...</td>\n",
       "      <td>148.73</td>\n",
       "      <td>150.05</td>\n",
       "      <td>157.14</td>\n",
       "      <td>155.57</td>\n",
       "      <td>156.39</td>\n",
       "      <td>158.81</td>\n",
       "      <td>160.08</td>\n",
       "      <td>161.06</td>\n",
       "      <td>155.32</td>\n",
       "      <td>157.48</td>\n",
       "    </tr>\n",
       "    <tr>\n",
       "      <th>4</th>\n",
       "      <td>ABBV</td>\n",
       "      <td>56.6296</td>\n",
       "      <td>56.6296</td>\n",
       "      <td>56.6296</td>\n",
       "      <td>56.6296</td>\n",
       "      <td>56.6296</td>\n",
       "      <td>56.6296</td>\n",
       "      <td>56.6296</td>\n",
       "      <td>56.6296</td>\n",
       "      <td>56.6296</td>\n",
       "      <td>...</td>\n",
       "      <td>69.91</td>\n",
       "      <td>70.38</td>\n",
       "      <td>70.71</td>\n",
       "      <td>70.99</td>\n",
       "      <td>70.99</td>\n",
       "      <td>71.22</td>\n",
       "      <td>71.47</td>\n",
       "      <td>72.02</td>\n",
       "      <td>70.44</td>\n",
       "      <td>70.63</td>\n",
       "    </tr>\n",
       "  </tbody>\n",
       "</table>\n",
       "<p>5 rows × 1259 columns</p>\n",
       "</div>"
      ],
      "text/plain": [
       "Date  Name 2012-08-13 2012-08-14 2012-08-15 2012-08-16 2012-08-17 2012-08-20  \\\n",
       "0        A      40.38      40.49      40.48      37.15      37.22      36.68   \n",
       "1      AAL    41.5096    41.5096    41.5096    41.5096    41.5096    41.5096   \n",
       "2      AAP      69.11      70.67       71.3      72.46      72.87      71.58   \n",
       "3     AAPL         90      90.24      90.12      90.91      92.59      95.02   \n",
       "4     ABBV    56.6296    56.6296    56.6296    56.6296    56.6296    56.6296   \n",
       "\n",
       "Date 2012-08-21 2012-08-22 2012-08-23    ...     2017-07-31 2017-08-01  \\\n",
       "0         37.13      37.46      37.47    ...          59.79      59.94   \n",
       "1       41.5096    41.5096    41.5096    ...          50.44      51.06   \n",
       "2            72       72.2      71.96    ...         112.01     114.05   \n",
       "3         93.72      95.55      94.66    ...         148.73     150.05   \n",
       "4       56.6296    56.6296    56.6296    ...          69.91      70.38   \n",
       "\n",
       "Date 2017-08-02 2017-08-03 2017-08-04 2017-08-07 2017-08-08 2017-08-09  \\\n",
       "0          60.2      60.37      60.13      60.87      60.14      59.68   \n",
       "1         50.45      50.55       50.8      50.58         50       49.4   \n",
       "2        114.48     110.53     111.01     109.49     109.39     109.18   \n",
       "3        157.14     155.57     156.39     158.81     160.08     161.06   \n",
       "4         70.71      70.99      70.99      71.22      71.47      72.02   \n",
       "\n",
       "Date 2017-08-10 2017-08-11  \n",
       "0         58.57      59.33  \n",
       "1         48.55      48.35  \n",
       "2        106.13     107.34  \n",
       "3        155.32     157.48  \n",
       "4         70.44      70.63  \n",
       "\n",
       "[5 rows x 1259 columns]"
      ]
     },
     "execution_count": 5,
     "metadata": {},
     "output_type": "execute_result"
    }
   ],
   "source": [
    "# replace NaN with row average\n",
    "\n",
    "ref = refold.T.fillna(refold.mean(axis = 1)).T\n",
    "ref.head()"
   ]
  },
  {
   "cell_type": "code",
   "execution_count": 6,
   "metadata": {
    "collapsed": true
   },
   "outputs": [],
   "source": [
    "# save the ticker names to csv\n",
    "\n",
    "name = pd.DataFrame(ref['Name'])\n",
    "name.head()\n",
    "name.to_csv('name.csv', index = False)"
   ]
  },
  {
   "cell_type": "code",
   "execution_count": null,
   "metadata": {
    "collapsed": true
   },
   "outputs": [],
   "source": []
  },
  {
   "cell_type": "code",
   "execution_count": 7,
   "metadata": {
    "collapsed": true
   },
   "outputs": [],
   "source": [
    "# on 2017-08-11, the last recorded date for closing stock price, every company has an entry\n",
    "# try to predict the trend of closing stock price on 2017-08-11, comparing with the price on 2017-08-10 \n",
    "\n",
    "sum(ref[ref.columns[-1]].isnull())\n",
    "\n",
    "# date and price before 8-11 as features and the lables as y\n",
    "\n",
    "x = ref[ref.columns[1: -1]]\n"
   ]
  },
  {
   "cell_type": "code",
   "execution_count": 26,
   "metadata": {},
   "outputs": [
    {
     "data": {
      "text/html": [
       "<div>\n",
       "<style>\n",
       "    .dataframe thead tr:only-child th {\n",
       "        text-align: right;\n",
       "    }\n",
       "\n",
       "    .dataframe thead th {\n",
       "        text-align: left;\n",
       "    }\n",
       "\n",
       "    .dataframe tbody tr th {\n",
       "        vertical-align: top;\n",
       "    }\n",
       "</style>\n",
       "<table border=\"1\" class=\"dataframe\">\n",
       "  <thead>\n",
       "    <tr style=\"text-align: right;\">\n",
       "      <th>Date</th>\n",
       "      <th>Name</th>\n",
       "      <th>2012-08-13</th>\n",
       "      <th>2012-08-14</th>\n",
       "      <th>2012-08-15</th>\n",
       "      <th>2012-08-16</th>\n",
       "      <th>2012-08-17</th>\n",
       "      <th>2012-08-20</th>\n",
       "      <th>2012-08-21</th>\n",
       "      <th>2012-08-22</th>\n",
       "      <th>2012-08-23</th>\n",
       "      <th>...</th>\n",
       "      <th>2017-08-01</th>\n",
       "      <th>2017-08-02</th>\n",
       "      <th>2017-08-03</th>\n",
       "      <th>2017-08-04</th>\n",
       "      <th>2017-08-07</th>\n",
       "      <th>2017-08-08</th>\n",
       "      <th>2017-08-09</th>\n",
       "      <th>2017-08-10</th>\n",
       "      <th>2017-08-11</th>\n",
       "      <th>Label</th>\n",
       "    </tr>\n",
       "  </thead>\n",
       "  <tbody>\n",
       "    <tr>\n",
       "      <th>0</th>\n",
       "      <td>A</td>\n",
       "      <td>40.38</td>\n",
       "      <td>40.49</td>\n",
       "      <td>40.48</td>\n",
       "      <td>37.15</td>\n",
       "      <td>37.22</td>\n",
       "      <td>36.68</td>\n",
       "      <td>37.13</td>\n",
       "      <td>37.46</td>\n",
       "      <td>37.47</td>\n",
       "      <td>...</td>\n",
       "      <td>59.94</td>\n",
       "      <td>60.2</td>\n",
       "      <td>60.37</td>\n",
       "      <td>60.13</td>\n",
       "      <td>60.87</td>\n",
       "      <td>60.14</td>\n",
       "      <td>59.68</td>\n",
       "      <td>58.57</td>\n",
       "      <td>59.33</td>\n",
       "      <td>0.0</td>\n",
       "    </tr>\n",
       "    <tr>\n",
       "      <th>1</th>\n",
       "      <td>AAL</td>\n",
       "      <td>41.5096</td>\n",
       "      <td>41.5096</td>\n",
       "      <td>41.5096</td>\n",
       "      <td>41.5096</td>\n",
       "      <td>41.5096</td>\n",
       "      <td>41.5096</td>\n",
       "      <td>41.5096</td>\n",
       "      <td>41.5096</td>\n",
       "      <td>41.5096</td>\n",
       "      <td>...</td>\n",
       "      <td>51.06</td>\n",
       "      <td>50.45</td>\n",
       "      <td>50.55</td>\n",
       "      <td>50.8</td>\n",
       "      <td>50.58</td>\n",
       "      <td>50</td>\n",
       "      <td>49.4</td>\n",
       "      <td>48.55</td>\n",
       "      <td>48.35</td>\n",
       "      <td>0.0</td>\n",
       "    </tr>\n",
       "    <tr>\n",
       "      <th>2</th>\n",
       "      <td>AAP</td>\n",
       "      <td>69.11</td>\n",
       "      <td>70.67</td>\n",
       "      <td>71.3</td>\n",
       "      <td>72.46</td>\n",
       "      <td>72.87</td>\n",
       "      <td>71.58</td>\n",
       "      <td>72</td>\n",
       "      <td>72.2</td>\n",
       "      <td>71.96</td>\n",
       "      <td>...</td>\n",
       "      <td>114.05</td>\n",
       "      <td>114.48</td>\n",
       "      <td>110.53</td>\n",
       "      <td>111.01</td>\n",
       "      <td>109.49</td>\n",
       "      <td>109.39</td>\n",
       "      <td>109.18</td>\n",
       "      <td>106.13</td>\n",
       "      <td>107.34</td>\n",
       "      <td>0.0</td>\n",
       "    </tr>\n",
       "    <tr>\n",
       "      <th>3</th>\n",
       "      <td>AAPL</td>\n",
       "      <td>90</td>\n",
       "      <td>90.24</td>\n",
       "      <td>90.12</td>\n",
       "      <td>90.91</td>\n",
       "      <td>92.59</td>\n",
       "      <td>95.02</td>\n",
       "      <td>93.72</td>\n",
       "      <td>95.55</td>\n",
       "      <td>94.66</td>\n",
       "      <td>...</td>\n",
       "      <td>150.05</td>\n",
       "      <td>157.14</td>\n",
       "      <td>155.57</td>\n",
       "      <td>156.39</td>\n",
       "      <td>158.81</td>\n",
       "      <td>160.08</td>\n",
       "      <td>161.06</td>\n",
       "      <td>155.32</td>\n",
       "      <td>157.48</td>\n",
       "      <td>0.0</td>\n",
       "    </tr>\n",
       "    <tr>\n",
       "      <th>4</th>\n",
       "      <td>ABBV</td>\n",
       "      <td>56.6296</td>\n",
       "      <td>56.6296</td>\n",
       "      <td>56.6296</td>\n",
       "      <td>56.6296</td>\n",
       "      <td>56.6296</td>\n",
       "      <td>56.6296</td>\n",
       "      <td>56.6296</td>\n",
       "      <td>56.6296</td>\n",
       "      <td>56.6296</td>\n",
       "      <td>...</td>\n",
       "      <td>70.38</td>\n",
       "      <td>70.71</td>\n",
       "      <td>70.99</td>\n",
       "      <td>70.99</td>\n",
       "      <td>71.22</td>\n",
       "      <td>71.47</td>\n",
       "      <td>72.02</td>\n",
       "      <td>70.44</td>\n",
       "      <td>70.63</td>\n",
       "      <td>0.0</td>\n",
       "    </tr>\n",
       "  </tbody>\n",
       "</table>\n",
       "<p>5 rows × 1260 columns</p>\n",
       "</div>"
      ],
      "text/plain": [
       "Date  Name 2012-08-13 2012-08-14 2012-08-15 2012-08-16 2012-08-17 2012-08-20  \\\n",
       "0        A      40.38      40.49      40.48      37.15      37.22      36.68   \n",
       "1      AAL    41.5096    41.5096    41.5096    41.5096    41.5096    41.5096   \n",
       "2      AAP      69.11      70.67       71.3      72.46      72.87      71.58   \n",
       "3     AAPL         90      90.24      90.12      90.91      92.59      95.02   \n",
       "4     ABBV    56.6296    56.6296    56.6296    56.6296    56.6296    56.6296   \n",
       "\n",
       "Date 2012-08-21 2012-08-22 2012-08-23  ...  2017-08-01 2017-08-02 2017-08-03  \\\n",
       "0         37.13      37.46      37.47  ...       59.94       60.2      60.37   \n",
       "1       41.5096    41.5096    41.5096  ...       51.06      50.45      50.55   \n",
       "2            72       72.2      71.96  ...      114.05     114.48     110.53   \n",
       "3         93.72      95.55      94.66  ...      150.05     157.14     155.57   \n",
       "4       56.6296    56.6296    56.6296  ...       70.38      70.71      70.99   \n",
       "\n",
       "Date 2017-08-04 2017-08-07 2017-08-08 2017-08-09 2017-08-10 2017-08-11 Label  \n",
       "0         60.13      60.87      60.14      59.68      58.57      59.33   0.0  \n",
       "1          50.8      50.58         50       49.4      48.55      48.35   0.0  \n",
       "2        111.01     109.49     109.39     109.18     106.13     107.34   0.0  \n",
       "3        156.39     158.81     160.08     161.06     155.32     157.48   0.0  \n",
       "4         70.99      71.22      71.47      72.02      70.44      70.63   0.0  \n",
       "\n",
       "[5 rows x 1260 columns]"
      ]
     },
     "execution_count": 26,
     "metadata": {},
     "output_type": "execute_result"
    }
   ],
   "source": [
    "# label stock trend first \n",
    "\n",
    "ref['Label'] = np.zeros((ref.shape[0], 1))\n",
    "ref.head()"
   ]
  },
  {
   "cell_type": "code",
   "execution_count": 37,
   "metadata": {},
   "outputs": [
    {
     "name": "stderr",
     "output_type": "stream",
     "text": [
      "C:\\Users\\1098071\\AppData\\Local\\Continuum\\Anaconda3\\lib\\site-packages\\ipykernel_launcher.py:16: SettingWithCopyWarning: \n",
      "A value is trying to be set on a copy of a slice from a DataFrame\n",
      "\n",
      "See the caveats in the documentation: http://pandas.pydata.org/pandas-docs/stable/indexing.html#indexing-view-versus-copy\n",
      "  app.launch_new_instance()\n",
      "C:\\Users\\1098071\\AppData\\Local\\Continuum\\Anaconda3\\lib\\site-packages\\ipykernel_launcher.py:18: SettingWithCopyWarning: \n",
      "A value is trying to be set on a copy of a slice from a DataFrame\n",
      "\n",
      "See the caveats in the documentation: http://pandas.pydata.org/pandas-docs/stable/indexing.html#indexing-view-versus-copy\n"
     ]
    }
   ],
   "source": [
    "# 8-11\n",
    "aug11 = ref.iloc[:, -2]\n",
    "\n",
    "# 8-10\n",
    "aug10 = ref.iloc[:, -3]\n",
    "\n",
    "# labels can be changed according to the desired increase in stock price used in stock selection \n",
    "\n",
    "# now label 1 as long as stock price increases from aug 10th to aug 11th \n",
    "# and 0 for decreasing stock price\n",
    "\n",
    "desired_percentage = 0 \n",
    "\n",
    "for i in range(len(aug10)):\n",
    "    if (aug11[i] - aug10[i])/ aug10[i] > desired_percentage:\n",
    "        ref['Label'][i] = 1\n",
    "    else:\n",
    "        ref['Label'][i] = 0 \n",
    "        "
   ]
  },
  {
   "cell_type": "code",
   "execution_count": 38,
   "metadata": {},
   "outputs": [
    {
     "data": {
      "text/html": [
       "<div>\n",
       "<style>\n",
       "    .dataframe thead tr:only-child th {\n",
       "        text-align: right;\n",
       "    }\n",
       "\n",
       "    .dataframe thead th {\n",
       "        text-align: left;\n",
       "    }\n",
       "\n",
       "    .dataframe tbody tr th {\n",
       "        vertical-align: top;\n",
       "    }\n",
       "</style>\n",
       "<table border=\"1\" class=\"dataframe\">\n",
       "  <thead>\n",
       "    <tr style=\"text-align: right;\">\n",
       "      <th>Date</th>\n",
       "      <th>Name</th>\n",
       "      <th>2012-08-13</th>\n",
       "      <th>2012-08-14</th>\n",
       "      <th>2012-08-15</th>\n",
       "      <th>2012-08-16</th>\n",
       "      <th>2012-08-17</th>\n",
       "      <th>2012-08-20</th>\n",
       "      <th>2012-08-21</th>\n",
       "      <th>2012-08-22</th>\n",
       "      <th>2012-08-23</th>\n",
       "      <th>...</th>\n",
       "      <th>2017-08-01</th>\n",
       "      <th>2017-08-02</th>\n",
       "      <th>2017-08-03</th>\n",
       "      <th>2017-08-04</th>\n",
       "      <th>2017-08-07</th>\n",
       "      <th>2017-08-08</th>\n",
       "      <th>2017-08-09</th>\n",
       "      <th>2017-08-10</th>\n",
       "      <th>2017-08-11</th>\n",
       "      <th>Label</th>\n",
       "    </tr>\n",
       "  </thead>\n",
       "  <tbody>\n",
       "    <tr>\n",
       "      <th>0</th>\n",
       "      <td>A</td>\n",
       "      <td>40.38</td>\n",
       "      <td>40.49</td>\n",
       "      <td>40.48</td>\n",
       "      <td>37.15</td>\n",
       "      <td>37.22</td>\n",
       "      <td>36.68</td>\n",
       "      <td>37.13</td>\n",
       "      <td>37.46</td>\n",
       "      <td>37.47</td>\n",
       "      <td>...</td>\n",
       "      <td>59.94</td>\n",
       "      <td>60.2</td>\n",
       "      <td>60.37</td>\n",
       "      <td>60.13</td>\n",
       "      <td>60.87</td>\n",
       "      <td>60.14</td>\n",
       "      <td>59.68</td>\n",
       "      <td>58.57</td>\n",
       "      <td>59.33</td>\n",
       "      <td>1</td>\n",
       "    </tr>\n",
       "    <tr>\n",
       "      <th>1</th>\n",
       "      <td>AAL</td>\n",
       "      <td>41.5096</td>\n",
       "      <td>41.5096</td>\n",
       "      <td>41.5096</td>\n",
       "      <td>41.5096</td>\n",
       "      <td>41.5096</td>\n",
       "      <td>41.5096</td>\n",
       "      <td>41.5096</td>\n",
       "      <td>41.5096</td>\n",
       "      <td>41.5096</td>\n",
       "      <td>...</td>\n",
       "      <td>51.06</td>\n",
       "      <td>50.45</td>\n",
       "      <td>50.55</td>\n",
       "      <td>50.8</td>\n",
       "      <td>50.58</td>\n",
       "      <td>50</td>\n",
       "      <td>49.4</td>\n",
       "      <td>48.55</td>\n",
       "      <td>48.35</td>\n",
       "      <td>0</td>\n",
       "    </tr>\n",
       "    <tr>\n",
       "      <th>2</th>\n",
       "      <td>AAP</td>\n",
       "      <td>69.11</td>\n",
       "      <td>70.67</td>\n",
       "      <td>71.3</td>\n",
       "      <td>72.46</td>\n",
       "      <td>72.87</td>\n",
       "      <td>71.58</td>\n",
       "      <td>72</td>\n",
       "      <td>72.2</td>\n",
       "      <td>71.96</td>\n",
       "      <td>...</td>\n",
       "      <td>114.05</td>\n",
       "      <td>114.48</td>\n",
       "      <td>110.53</td>\n",
       "      <td>111.01</td>\n",
       "      <td>109.49</td>\n",
       "      <td>109.39</td>\n",
       "      <td>109.18</td>\n",
       "      <td>106.13</td>\n",
       "      <td>107.34</td>\n",
       "      <td>1</td>\n",
       "    </tr>\n",
       "    <tr>\n",
       "      <th>3</th>\n",
       "      <td>AAPL</td>\n",
       "      <td>90</td>\n",
       "      <td>90.24</td>\n",
       "      <td>90.12</td>\n",
       "      <td>90.91</td>\n",
       "      <td>92.59</td>\n",
       "      <td>95.02</td>\n",
       "      <td>93.72</td>\n",
       "      <td>95.55</td>\n",
       "      <td>94.66</td>\n",
       "      <td>...</td>\n",
       "      <td>150.05</td>\n",
       "      <td>157.14</td>\n",
       "      <td>155.57</td>\n",
       "      <td>156.39</td>\n",
       "      <td>158.81</td>\n",
       "      <td>160.08</td>\n",
       "      <td>161.06</td>\n",
       "      <td>155.32</td>\n",
       "      <td>157.48</td>\n",
       "      <td>1</td>\n",
       "    </tr>\n",
       "    <tr>\n",
       "      <th>4</th>\n",
       "      <td>ABBV</td>\n",
       "      <td>56.6296</td>\n",
       "      <td>56.6296</td>\n",
       "      <td>56.6296</td>\n",
       "      <td>56.6296</td>\n",
       "      <td>56.6296</td>\n",
       "      <td>56.6296</td>\n",
       "      <td>56.6296</td>\n",
       "      <td>56.6296</td>\n",
       "      <td>56.6296</td>\n",
       "      <td>...</td>\n",
       "      <td>70.38</td>\n",
       "      <td>70.71</td>\n",
       "      <td>70.99</td>\n",
       "      <td>70.99</td>\n",
       "      <td>71.22</td>\n",
       "      <td>71.47</td>\n",
       "      <td>72.02</td>\n",
       "      <td>70.44</td>\n",
       "      <td>70.63</td>\n",
       "      <td>1</td>\n",
       "    </tr>\n",
       "  </tbody>\n",
       "</table>\n",
       "<p>5 rows × 1260 columns</p>\n",
       "</div>"
      ],
      "text/plain": [
       "Date  Name 2012-08-13 2012-08-14 2012-08-15 2012-08-16 2012-08-17 2012-08-20  \\\n",
       "0        A      40.38      40.49      40.48      37.15      37.22      36.68   \n",
       "1      AAL    41.5096    41.5096    41.5096    41.5096    41.5096    41.5096   \n",
       "2      AAP      69.11      70.67       71.3      72.46      72.87      71.58   \n",
       "3     AAPL         90      90.24      90.12      90.91      92.59      95.02   \n",
       "4     ABBV    56.6296    56.6296    56.6296    56.6296    56.6296    56.6296   \n",
       "\n",
       "Date 2012-08-21 2012-08-22 2012-08-23  ...  2017-08-01 2017-08-02 2017-08-03  \\\n",
       "0         37.13      37.46      37.47  ...       59.94       60.2      60.37   \n",
       "1       41.5096    41.5096    41.5096  ...       51.06      50.45      50.55   \n",
       "2            72       72.2      71.96  ...      114.05     114.48     110.53   \n",
       "3         93.72      95.55      94.66  ...      150.05     157.14     155.57   \n",
       "4       56.6296    56.6296    56.6296  ...       70.38      70.71      70.99   \n",
       "\n",
       "Date 2017-08-04 2017-08-07 2017-08-08 2017-08-09 2017-08-10 2017-08-11 Label  \n",
       "0         60.13      60.87      60.14      59.68      58.57      59.33     1  \n",
       "1          50.8      50.58         50       49.4      48.55      48.35     0  \n",
       "2        111.01     109.49     109.39     109.18     106.13     107.34     1  \n",
       "3        156.39     158.81     160.08     161.06     155.32     157.48     1  \n",
       "4         70.99      71.22      71.47      72.02      70.44      70.63     1  \n",
       "\n",
       "[5 rows x 1260 columns]"
      ]
     },
     "execution_count": 38,
     "metadata": {},
     "output_type": "execute_result"
    }
   ],
   "source": [
    "ref.head()"
   ]
  },
  {
   "cell_type": "code",
   "execution_count": 39,
   "metadata": {},
   "outputs": [
    {
     "name": "stdout",
     "output_type": "stream",
     "text": [
      "241\n",
      "262\n"
     ]
    }
   ],
   "source": [
    "# check if the classes are balanced \n",
    "\n",
    "y = ref.iloc[:, -1]\n",
    "\n",
    "print(len(y[y == 1]))\n",
    "print(len(y[y == 0]))\n",
    "\n",
    "# seems ok, PCA first, then KNN"
   ]
  },
  {
   "cell_type": "markdown",
   "metadata": {},
   "source": [
    "# PCA"
   ]
  },
  {
   "cell_type": "code",
   "execution_count": 40,
   "metadata": {
    "collapsed": true
   },
   "outputs": [],
   "source": [
    "x_train, x_test, y_train, y_test = train_test_split(x, y, test_size = 0.2, random_state= 0)\n",
    "\n",
    "x_mean = np.mean(x, axis = 0)\n",
    "x_train_norm = x_train - x_mean\n",
    "x_test_norm = x_test - x_mean\n"
   ]
  },
  {
   "cell_type": "code",
   "execution_count": 41,
   "metadata": {
    "collapsed": true
   },
   "outputs": [],
   "source": [
    "# PCA summary function - where the input variable pca is a PCA object\n",
    "\n",
    "def pca_summary(pca, standardised_data, out = True):\n",
    "    names = [\"PC\" + str(i) for i in range(1, len(pca.explained_variance_ratio_) +  1)]\n",
    "    a = list(np.std(pca.transform(standardised_data), axis = 0))\n",
    "    b = list(pca.explained_variance_ratio_)\n",
    "    c = [np.sum(pca.explained_variance_ratio_[:i]) for i in range(1, len(pca.explained_variance_ratio_) + 1)]\n",
    "    columns = pd.MultiIndex.from_tuples([(\"sdev\", \"Standard deviation\"), (\"varprop\", \"Proportion of Variance\"), (\"cumprop\", \"Cumulative Proportion\")])\n",
    "    summary = pd.DataFrame(list(zip(a, b, c)), index = names, columns = columns)\n",
    "    if out:\n",
    "        print(\"Importance of components:\")\n",
    "#         display(summary)\n",
    "    return summary"
   ]
  },
  {
   "cell_type": "code",
   "execution_count": 42,
   "metadata": {},
   "outputs": [
    {
     "name": "stdout",
     "output_type": "stream",
     "text": [
      "Importance of components:\n"
     ]
    },
    {
     "data": {
      "text/html": [
       "<div>\n",
       "<style>\n",
       "    .dataframe thead tr:only-child th {\n",
       "        text-align: right;\n",
       "    }\n",
       "\n",
       "    .dataframe thead th {\n",
       "        text-align: left;\n",
       "    }\n",
       "\n",
       "    .dataframe tbody tr th {\n",
       "        vertical-align: top;\n",
       "    }\n",
       "</style>\n",
       "<table border=\"1\" class=\"dataframe\">\n",
       "  <thead>\n",
       "    <tr>\n",
       "      <th></th>\n",
       "      <th>sdev</th>\n",
       "      <th>varprop</th>\n",
       "      <th>cumprop</th>\n",
       "    </tr>\n",
       "    <tr>\n",
       "      <th></th>\n",
       "      <th>Standard deviation</th>\n",
       "      <th>Proportion of Variance</th>\n",
       "      <th>Cumulative Proportion</th>\n",
       "    </tr>\n",
       "  </thead>\n",
       "  <tbody>\n",
       "    <tr>\n",
       "      <th>PC1</th>\n",
       "      <td>2.991583e+03</td>\n",
       "      <td>9.506357e-01</td>\n",
       "      <td>0.950636</td>\n",
       "    </tr>\n",
       "    <tr>\n",
       "      <th>PC2</th>\n",
       "      <td>4.865658e+02</td>\n",
       "      <td>2.514753e-02</td>\n",
       "      <td>0.975783</td>\n",
       "    </tr>\n",
       "    <tr>\n",
       "      <th>PC3</th>\n",
       "      <td>3.220231e+02</td>\n",
       "      <td>1.101504e-02</td>\n",
       "      <td>0.986798</td>\n",
       "    </tr>\n",
       "    <tr>\n",
       "      <th>PC4</th>\n",
       "      <td>2.187830e+02</td>\n",
       "      <td>5.084393e-03</td>\n",
       "      <td>0.991883</td>\n",
       "    </tr>\n",
       "    <tr>\n",
       "      <th>PC5</th>\n",
       "      <td>1.303453e+02</td>\n",
       "      <td>1.804689e-03</td>\n",
       "      <td>0.993687</td>\n",
       "    </tr>\n",
       "    <tr>\n",
       "      <th>PC6</th>\n",
       "      <td>1.136482e+02</td>\n",
       "      <td>1.371946e-03</td>\n",
       "      <td>0.995059</td>\n",
       "    </tr>\n",
       "    <tr>\n",
       "      <th>PC7</th>\n",
       "      <td>9.528587e+01</td>\n",
       "      <td>9.644263e-04</td>\n",
       "      <td>0.996024</td>\n",
       "    </tr>\n",
       "    <tr>\n",
       "      <th>PC8</th>\n",
       "      <td>7.098698e+01</td>\n",
       "      <td>5.352658e-04</td>\n",
       "      <td>0.996559</td>\n",
       "    </tr>\n",
       "    <tr>\n",
       "      <th>PC9</th>\n",
       "      <td>6.789732e+01</td>\n",
       "      <td>4.896856e-04</td>\n",
       "      <td>0.997049</td>\n",
       "    </tr>\n",
       "    <tr>\n",
       "      <th>PC10</th>\n",
       "      <td>6.522070e+01</td>\n",
       "      <td>4.518383e-04</td>\n",
       "      <td>0.997501</td>\n",
       "    </tr>\n",
       "    <tr>\n",
       "      <th>PC11</th>\n",
       "      <td>5.873349e+01</td>\n",
       "      <td>3.664238e-04</td>\n",
       "      <td>0.997867</td>\n",
       "    </tr>\n",
       "    <tr>\n",
       "      <th>PC12</th>\n",
       "      <td>5.107368e+01</td>\n",
       "      <td>2.770808e-04</td>\n",
       "      <td>0.998144</td>\n",
       "    </tr>\n",
       "    <tr>\n",
       "      <th>PC13</th>\n",
       "      <td>4.484845e+01</td>\n",
       "      <td>2.136520e-04</td>\n",
       "      <td>0.998358</td>\n",
       "    </tr>\n",
       "    <tr>\n",
       "      <th>PC14</th>\n",
       "      <td>4.182056e+01</td>\n",
       "      <td>1.857769e-04</td>\n",
       "      <td>0.998543</td>\n",
       "    </tr>\n",
       "    <tr>\n",
       "      <th>PC15</th>\n",
       "      <td>4.077959e+01</td>\n",
       "      <td>1.766436e-04</td>\n",
       "      <td>0.998720</td>\n",
       "    </tr>\n",
       "    <tr>\n",
       "      <th>PC16</th>\n",
       "      <td>3.527242e+01</td>\n",
       "      <td>1.321547e-04</td>\n",
       "      <td>0.998852</td>\n",
       "    </tr>\n",
       "    <tr>\n",
       "      <th>PC17</th>\n",
       "      <td>3.268139e+01</td>\n",
       "      <td>1.134522e-04</td>\n",
       "      <td>0.998966</td>\n",
       "    </tr>\n",
       "    <tr>\n",
       "      <th>PC18</th>\n",
       "      <td>2.824700e+01</td>\n",
       "      <td>8.475332e-05</td>\n",
       "      <td>0.999050</td>\n",
       "    </tr>\n",
       "    <tr>\n",
       "      <th>PC19</th>\n",
       "      <td>2.634074e+01</td>\n",
       "      <td>7.370009e-05</td>\n",
       "      <td>0.999124</td>\n",
       "    </tr>\n",
       "    <tr>\n",
       "      <th>PC20</th>\n",
       "      <td>2.505139e+01</td>\n",
       "      <td>6.666157e-05</td>\n",
       "      <td>0.999191</td>\n",
       "    </tr>\n",
       "    <tr>\n",
       "      <th>PC21</th>\n",
       "      <td>2.409171e+01</td>\n",
       "      <td>6.165200e-05</td>\n",
       "      <td>0.999252</td>\n",
       "    </tr>\n",
       "    <tr>\n",
       "      <th>PC22</th>\n",
       "      <td>2.198863e+01</td>\n",
       "      <td>5.135801e-05</td>\n",
       "      <td>0.999304</td>\n",
       "    </tr>\n",
       "    <tr>\n",
       "      <th>PC23</th>\n",
       "      <td>2.063942e+01</td>\n",
       "      <td>4.524880e-05</td>\n",
       "      <td>0.999349</td>\n",
       "    </tr>\n",
       "    <tr>\n",
       "      <th>PC24</th>\n",
       "      <td>1.956607e+01</td>\n",
       "      <td>4.066484e-05</td>\n",
       "      <td>0.999390</td>\n",
       "    </tr>\n",
       "    <tr>\n",
       "      <th>PC25</th>\n",
       "      <td>1.903627e+01</td>\n",
       "      <td>3.849245e-05</td>\n",
       "      <td>0.999428</td>\n",
       "    </tr>\n",
       "    <tr>\n",
       "      <th>PC26</th>\n",
       "      <td>1.815257e+01</td>\n",
       "      <td>3.500164e-05</td>\n",
       "      <td>0.999463</td>\n",
       "    </tr>\n",
       "    <tr>\n",
       "      <th>PC27</th>\n",
       "      <td>1.720759e+01</td>\n",
       "      <td>3.145228e-05</td>\n",
       "      <td>0.999495</td>\n",
       "    </tr>\n",
       "    <tr>\n",
       "      <th>PC28</th>\n",
       "      <td>1.600236e+01</td>\n",
       "      <td>2.720071e-05</td>\n",
       "      <td>0.999522</td>\n",
       "    </tr>\n",
       "    <tr>\n",
       "      <th>PC29</th>\n",
       "      <td>1.521535e+01</td>\n",
       "      <td>2.459100e-05</td>\n",
       "      <td>0.999547</td>\n",
       "    </tr>\n",
       "    <tr>\n",
       "      <th>PC30</th>\n",
       "      <td>1.466721e+01</td>\n",
       "      <td>2.285110e-05</td>\n",
       "      <td>0.999569</td>\n",
       "    </tr>\n",
       "    <tr>\n",
       "      <th>...</th>\n",
       "      <td>...</td>\n",
       "      <td>...</td>\n",
       "      <td>...</td>\n",
       "    </tr>\n",
       "    <tr>\n",
       "      <th>PC373</th>\n",
       "      <td>2.760516e-01</td>\n",
       "      <td>8.094548e-09</td>\n",
       "      <td>1.000000</td>\n",
       "    </tr>\n",
       "    <tr>\n",
       "      <th>PC374</th>\n",
       "      <td>2.747802e-01</td>\n",
       "      <td>8.020161e-09</td>\n",
       "      <td>1.000000</td>\n",
       "    </tr>\n",
       "    <tr>\n",
       "      <th>PC375</th>\n",
       "      <td>2.715228e-01</td>\n",
       "      <td>7.831132e-09</td>\n",
       "      <td>1.000000</td>\n",
       "    </tr>\n",
       "    <tr>\n",
       "      <th>PC376</th>\n",
       "      <td>2.691826e-01</td>\n",
       "      <td>7.696725e-09</td>\n",
       "      <td>1.000000</td>\n",
       "    </tr>\n",
       "    <tr>\n",
       "      <th>PC377</th>\n",
       "      <td>2.614468e-01</td>\n",
       "      <td>7.260701e-09</td>\n",
       "      <td>1.000000</td>\n",
       "    </tr>\n",
       "    <tr>\n",
       "      <th>PC378</th>\n",
       "      <td>2.592429e-01</td>\n",
       "      <td>7.138809e-09</td>\n",
       "      <td>1.000000</td>\n",
       "    </tr>\n",
       "    <tr>\n",
       "      <th>PC379</th>\n",
       "      <td>2.540186e-01</td>\n",
       "      <td>6.853982e-09</td>\n",
       "      <td>1.000000</td>\n",
       "    </tr>\n",
       "    <tr>\n",
       "      <th>PC380</th>\n",
       "      <td>2.497431e-01</td>\n",
       "      <td>6.625202e-09</td>\n",
       "      <td>1.000000</td>\n",
       "    </tr>\n",
       "    <tr>\n",
       "      <th>PC381</th>\n",
       "      <td>2.397667e-01</td>\n",
       "      <td>6.106461e-09</td>\n",
       "      <td>1.000000</td>\n",
       "    </tr>\n",
       "    <tr>\n",
       "      <th>PC382</th>\n",
       "      <td>2.349637e-01</td>\n",
       "      <td>5.864263e-09</td>\n",
       "      <td>1.000000</td>\n",
       "    </tr>\n",
       "    <tr>\n",
       "      <th>PC383</th>\n",
       "      <td>2.326794e-01</td>\n",
       "      <td>5.750798e-09</td>\n",
       "      <td>1.000000</td>\n",
       "    </tr>\n",
       "    <tr>\n",
       "      <th>PC384</th>\n",
       "      <td>2.282051e-01</td>\n",
       "      <td>5.531753e-09</td>\n",
       "      <td>1.000000</td>\n",
       "    </tr>\n",
       "    <tr>\n",
       "      <th>PC385</th>\n",
       "      <td>2.190670e-01</td>\n",
       "      <td>5.097605e-09</td>\n",
       "      <td>1.000000</td>\n",
       "    </tr>\n",
       "    <tr>\n",
       "      <th>PC386</th>\n",
       "      <td>2.124250e-01</td>\n",
       "      <td>4.793175e-09</td>\n",
       "      <td>1.000000</td>\n",
       "    </tr>\n",
       "    <tr>\n",
       "      <th>PC387</th>\n",
       "      <td>2.079836e-01</td>\n",
       "      <td>4.594836e-09</td>\n",
       "      <td>1.000000</td>\n",
       "    </tr>\n",
       "    <tr>\n",
       "      <th>PC388</th>\n",
       "      <td>2.029405e-01</td>\n",
       "      <td>4.374714e-09</td>\n",
       "      <td>1.000000</td>\n",
       "    </tr>\n",
       "    <tr>\n",
       "      <th>PC389</th>\n",
       "      <td>1.944557e-01</td>\n",
       "      <td>4.016551e-09</td>\n",
       "      <td>1.000000</td>\n",
       "    </tr>\n",
       "    <tr>\n",
       "      <th>PC390</th>\n",
       "      <td>1.863996e-01</td>\n",
       "      <td>3.690642e-09</td>\n",
       "      <td>1.000000</td>\n",
       "    </tr>\n",
       "    <tr>\n",
       "      <th>PC391</th>\n",
       "      <td>1.776452e-01</td>\n",
       "      <td>3.352114e-09</td>\n",
       "      <td>1.000000</td>\n",
       "    </tr>\n",
       "    <tr>\n",
       "      <th>PC392</th>\n",
       "      <td>1.721764e-01</td>\n",
       "      <td>3.148902e-09</td>\n",
       "      <td>1.000000</td>\n",
       "    </tr>\n",
       "    <tr>\n",
       "      <th>PC393</th>\n",
       "      <td>1.636582e-01</td>\n",
       "      <td>2.845036e-09</td>\n",
       "      <td>1.000000</td>\n",
       "    </tr>\n",
       "    <tr>\n",
       "      <th>PC394</th>\n",
       "      <td>1.627464e-01</td>\n",
       "      <td>2.813421e-09</td>\n",
       "      <td>1.000000</td>\n",
       "    </tr>\n",
       "    <tr>\n",
       "      <th>PC395</th>\n",
       "      <td>1.517393e-01</td>\n",
       "      <td>2.445727e-09</td>\n",
       "      <td>1.000000</td>\n",
       "    </tr>\n",
       "    <tr>\n",
       "      <th>PC396</th>\n",
       "      <td>1.474325e-01</td>\n",
       "      <td>2.308865e-09</td>\n",
       "      <td>1.000000</td>\n",
       "    </tr>\n",
       "    <tr>\n",
       "      <th>PC397</th>\n",
       "      <td>1.344763e-01</td>\n",
       "      <td>1.920895e-09</td>\n",
       "      <td>1.000000</td>\n",
       "    </tr>\n",
       "    <tr>\n",
       "      <th>PC398</th>\n",
       "      <td>1.226236e-01</td>\n",
       "      <td>1.597205e-09</td>\n",
       "      <td>1.000000</td>\n",
       "    </tr>\n",
       "    <tr>\n",
       "      <th>PC399</th>\n",
       "      <td>9.567874e-02</td>\n",
       "      <td>9.723956e-10</td>\n",
       "      <td>1.000000</td>\n",
       "    </tr>\n",
       "    <tr>\n",
       "      <th>PC400</th>\n",
       "      <td>9.106226e-02</td>\n",
       "      <td>8.808235e-10</td>\n",
       "      <td>1.000000</td>\n",
       "    </tr>\n",
       "    <tr>\n",
       "      <th>PC401</th>\n",
       "      <td>4.947798e-02</td>\n",
       "      <td>2.600374e-10</td>\n",
       "      <td>1.000000</td>\n",
       "    </tr>\n",
       "    <tr>\n",
       "      <th>PC402</th>\n",
       "      <td>1.346690e-12</td>\n",
       "      <td>1.874798e-31</td>\n",
       "      <td>1.000000</td>\n",
       "    </tr>\n",
       "  </tbody>\n",
       "</table>\n",
       "<p>402 rows × 3 columns</p>\n",
       "</div>"
      ],
      "text/plain": [
       "                    sdev                varprop               cumprop\n",
       "      Standard deviation Proportion of Variance Cumulative Proportion\n",
       "PC1         2.991583e+03           9.506357e-01              0.950636\n",
       "PC2         4.865658e+02           2.514753e-02              0.975783\n",
       "PC3         3.220231e+02           1.101504e-02              0.986798\n",
       "PC4         2.187830e+02           5.084393e-03              0.991883\n",
       "PC5         1.303453e+02           1.804689e-03              0.993687\n",
       "PC6         1.136482e+02           1.371946e-03              0.995059\n",
       "PC7         9.528587e+01           9.644263e-04              0.996024\n",
       "PC8         7.098698e+01           5.352658e-04              0.996559\n",
       "PC9         6.789732e+01           4.896856e-04              0.997049\n",
       "PC10        6.522070e+01           4.518383e-04              0.997501\n",
       "PC11        5.873349e+01           3.664238e-04              0.997867\n",
       "PC12        5.107368e+01           2.770808e-04              0.998144\n",
       "PC13        4.484845e+01           2.136520e-04              0.998358\n",
       "PC14        4.182056e+01           1.857769e-04              0.998543\n",
       "PC15        4.077959e+01           1.766436e-04              0.998720\n",
       "PC16        3.527242e+01           1.321547e-04              0.998852\n",
       "PC17        3.268139e+01           1.134522e-04              0.998966\n",
       "PC18        2.824700e+01           8.475332e-05              0.999050\n",
       "PC19        2.634074e+01           7.370009e-05              0.999124\n",
       "PC20        2.505139e+01           6.666157e-05              0.999191\n",
       "PC21        2.409171e+01           6.165200e-05              0.999252\n",
       "PC22        2.198863e+01           5.135801e-05              0.999304\n",
       "PC23        2.063942e+01           4.524880e-05              0.999349\n",
       "PC24        1.956607e+01           4.066484e-05              0.999390\n",
       "PC25        1.903627e+01           3.849245e-05              0.999428\n",
       "PC26        1.815257e+01           3.500164e-05              0.999463\n",
       "PC27        1.720759e+01           3.145228e-05              0.999495\n",
       "PC28        1.600236e+01           2.720071e-05              0.999522\n",
       "PC29        1.521535e+01           2.459100e-05              0.999547\n",
       "PC30        1.466721e+01           2.285110e-05              0.999569\n",
       "...                  ...                    ...                   ...\n",
       "PC373       2.760516e-01           8.094548e-09              1.000000\n",
       "PC374       2.747802e-01           8.020161e-09              1.000000\n",
       "PC375       2.715228e-01           7.831132e-09              1.000000\n",
       "PC376       2.691826e-01           7.696725e-09              1.000000\n",
       "PC377       2.614468e-01           7.260701e-09              1.000000\n",
       "PC378       2.592429e-01           7.138809e-09              1.000000\n",
       "PC379       2.540186e-01           6.853982e-09              1.000000\n",
       "PC380       2.497431e-01           6.625202e-09              1.000000\n",
       "PC381       2.397667e-01           6.106461e-09              1.000000\n",
       "PC382       2.349637e-01           5.864263e-09              1.000000\n",
       "PC383       2.326794e-01           5.750798e-09              1.000000\n",
       "PC384       2.282051e-01           5.531753e-09              1.000000\n",
       "PC385       2.190670e-01           5.097605e-09              1.000000\n",
       "PC386       2.124250e-01           4.793175e-09              1.000000\n",
       "PC387       2.079836e-01           4.594836e-09              1.000000\n",
       "PC388       2.029405e-01           4.374714e-09              1.000000\n",
       "PC389       1.944557e-01           4.016551e-09              1.000000\n",
       "PC390       1.863996e-01           3.690642e-09              1.000000\n",
       "PC391       1.776452e-01           3.352114e-09              1.000000\n",
       "PC392       1.721764e-01           3.148902e-09              1.000000\n",
       "PC393       1.636582e-01           2.845036e-09              1.000000\n",
       "PC394       1.627464e-01           2.813421e-09              1.000000\n",
       "PC395       1.517393e-01           2.445727e-09              1.000000\n",
       "PC396       1.474325e-01           2.308865e-09              1.000000\n",
       "PC397       1.344763e-01           1.920895e-09              1.000000\n",
       "PC398       1.226236e-01           1.597205e-09              1.000000\n",
       "PC399       9.567874e-02           9.723956e-10              1.000000\n",
       "PC400       9.106226e-02           8.808235e-10              1.000000\n",
       "PC401       4.947798e-02           2.600374e-10              1.000000\n",
       "PC402       1.346690e-12           1.874798e-31              1.000000\n",
       "\n",
       "[402 rows x 3 columns]"
      ]
     },
     "execution_count": 42,
     "metadata": {},
     "output_type": "execute_result"
    }
   ],
   "source": [
    "pca = PCA().fit(x_train_norm)\n",
    "\n",
    "pca_summary(pca, x_train_norm)"
   ]
  },
  {
   "cell_type": "code",
   "execution_count": 43,
   "metadata": {
    "collapsed": true
   },
   "outputs": [],
   "source": [
    "# fit and transform x using PCA(n = 3)\n",
    "pca = PCA(n_components = 3).fit(x_train_norm)\n",
    "pcax_train = pca.transform(x_train_norm)"
   ]
  },
  {
   "cell_type": "code",
   "execution_count": null,
   "metadata": {
    "collapsed": true
   },
   "outputs": [],
   "source": []
  },
  {
   "cell_type": "code",
   "execution_count": null,
   "metadata": {
    "collapsed": true
   },
   "outputs": [],
   "source": []
  },
  {
   "cell_type": "code",
   "execution_count": 15,
   "metadata": {
    "collapsed": true
   },
   "outputs": [],
   "source": [
    "import pylab\n",
    "from mpl_toolkits.mplot3d import Axes3D\n",
    "from mpl_toolkits.mplot3d import proj3d"
   ]
  },
  {
   "cell_type": "code",
   "execution_count": 44,
   "metadata": {},
   "outputs": [
    {
     "data": {
      "image/png": "[encoded data removed]",
      "text/plain": [
       "<matplotlib.figure.Figure at 0x10eb5828>"
      ]
     },
     "metadata": {},
     "output_type": "display_data"
    }
   ],
   "source": [
    "# visualize classes on the new PCA dimension \n",
    "# y_train contains true labels \n",
    "\n",
    "fig = pylab.figure( figsize = (10, 10))\n",
    "ax = fig.add_subplot(1, 1, 1, projection = '3d')\n",
    "color= ['red' if yi == 0 else 'green' for yi in y_train]\n",
    "\n",
    "sc = ax.scatter(pcax_train[:, 0], pcax_train[:, 1], pcax_train[:, 2], c = color, marker = '^')\n",
    "ax.set_xlabel('PC1')\n",
    "ax.set_ylabel('PC2')\n",
    "ax.set_zlabel('PC3')\n",
    "\n",
    "# Set rotation angle to 30 degrees\n",
    "# ax.view_init(azim = 150)\n",
    "# Set the elevation angle \n",
    "ax.view_init(elev = 45)"
   ]
  },
  {
   "cell_type": "code",
   "execution_count": null,
   "metadata": {
    "collapsed": true
   },
   "outputs": [],
   "source": []
  },
  {
   "cell_type": "code",
   "execution_count": 179,
   "metadata": {
    "collapsed": true
   },
   "outputs": [],
   "source": [
    "# set elev first and rotate the pic for the best azim\n",
    "\n",
    "# for ii in xrange(0,360,1):\n",
    "#     ax.view_init(elev=10., azim=ii)\n",
    "#     savefig(\"movie%d.png\" % ii)"
   ]
  },
  {
   "cell_type": "code",
   "execution_count": null,
   "metadata": {
    "collapsed": true
   },
   "outputs": [],
   "source": []
  },
  {
   "cell_type": "markdown",
   "metadata": {},
   "source": [
    "# KNN"
   ]
  },
  {
   "cell_type": "code",
   "execution_count": 45,
   "metadata": {},
   "outputs": [
    {
     "data": {
      "text/plain": [
       "9"
      ]
     },
     "execution_count": 45,
     "metadata": {},
     "output_type": "execute_result"
    }
   ],
   "source": [
    "# tuning for the best number of k on training data x after PCA (n = 3 )\n",
    "# accuracy \n",
    "\n",
    "accuracy_rate = make_scorer(accuracy_score)\n",
    "neighbours = np.arange(1, 10, 2)\n",
    "accuracy = []\n",
    "\n",
    "for k in neighbours:\n",
    "    pca_knn = KNeighborsClassifier(n_neighbors = k)\n",
    "    scores = cross_val_score(pca_knn, pcax_train, y_train, cv = 10, scoring = accuracy_rate)\n",
    "    accuracy.append(scores.mean())\n",
    "    \n",
    "neighbours[accuracy.index(min(accuracy))]"
   ]
  },
  {
   "cell_type": "code",
   "execution_count": 46,
   "metadata": {},
   "outputs": [
    {
     "data": {
      "text/plain": [
       "[0.55476235146966846,\n",
       " 0.5369480925578487,\n",
       " 0.52006722951844897,\n",
       " 0.51763133208255163,\n",
       " 0.51762507817385861]"
      ]
     },
     "execution_count": 46,
     "metadata": {},
     "output_type": "execute_result"
    }
   ],
   "source": [
    "accuracy"
   ]
  },
  {
   "cell_type": "code",
   "execution_count": 47,
   "metadata": {},
   "outputs": [
    {
     "data": {
      "text/plain": [
       "3"
      ]
     },
     "execution_count": 47,
     "metadata": {},
     "output_type": "execute_result"
    }
   ],
   "source": [
    "# tuning for the best number of k on the complete dataset\n",
    "# accuracy \n",
    "\n",
    "fullx = pca.transform(x - x_mean)\n",
    "\n",
    "accuracy_rate = make_scorer(accuracy_score)\n",
    "neighbours = np.arange(1, 10, 2)\n",
    "accuracy_full = []\n",
    "\n",
    "for k in neighbours:\n",
    "    pca_knn = KNeighborsClassifier(n_neighbors = k)\n",
    "    scores = cross_val_score(pca_knn, fullx, y, cv = 10, scoring = accuracy_rate)\n",
    "    accuracy_full.append(scores.mean())\n",
    "    \n",
    "neighbours[accuracy_full.index(min(accuracy_full))]"
   ]
  },
  {
   "cell_type": "code",
   "execution_count": 48,
   "metadata": {},
   "outputs": [
    {
     "data": {
      "text/plain": [
       "[0.53851734539969831,\n",
       " 0.53271191553544495,\n",
       " 0.54866968325791854,\n",
       " 0.53651432880844641,\n",
       " 0.53839969834087475]"
      ]
     },
     "execution_count": 48,
     "metadata": {},
     "output_type": "execute_result"
    }
   ],
   "source": [
    "accuracy_full"
   ]
  },
  {
   "cell_type": "code",
   "execution_count": null,
   "metadata": {
    "collapsed": true
   },
   "outputs": [],
   "source": []
  },
  {
   "cell_type": "markdown",
   "metadata": {},
   "source": [
    "# Evaluation "
   ]
  },
  {
   "cell_type": "code",
   "execution_count": 49,
   "metadata": {},
   "outputs": [
    {
     "data": {
      "text/plain": [
       "KNeighborsClassifier(algorithm='auto', leaf_size=30, metric='minkowski',\n",
       "           metric_params=None, n_jobs=1, n_neighbors=5, p=2,\n",
       "           weights='uniform')"
      ]
     },
     "execution_count": 49,
     "metadata": {},
     "output_type": "execute_result"
    }
   ],
   "source": [
    "pca_knn = KNeighborsClassifier(n_neighbors = 5)\n",
    "pca_knn.fit(pcax_train, y_train)"
   ]
  },
  {
   "cell_type": "code",
   "execution_count": 50,
   "metadata": {},
   "outputs": [
    {
     "name": "stdout",
     "output_type": "stream",
     "text": [
      "59\n",
      "0.584158415842\n"
     ]
    }
   ],
   "source": [
    "# transform the testing x to the New PC dimension \n",
    "\n",
    "pcax_test = pca.transform(x_test_norm)\n",
    "pred = pca_knn.predict(pcax_test)\n",
    "\n",
    "print (sum(pred == y_test))\n",
    "print (sum(pred == y_test)/ len(y_test))"
   ]
  },
  {
   "cell_type": "code",
   "execution_count": 51,
   "metadata": {},
   "outputs": [
    {
     "name": "stdout",
     "output_type": "stream",
     "text": [
      "             precision    recall  f1-score   support\n",
      "\n",
      "          0       0.66      0.57      0.61        58\n",
      "          1       0.51      0.60      0.55        43\n",
      "\n",
      "avg / total       0.60      0.58      0.59       101\n",
      "\n"
     ]
    }
   ],
   "source": [
    "from sklearn.metrics import classification_report\n",
    "\n",
    "# recall - true positive rate \n",
    "# precision - true \n",
    "\n",
    "print (classification_report(y_test, pred))"
   ]
  },
  {
   "cell_type": "code",
   "execution_count": 52,
   "metadata": {},
   "outputs": [
    {
     "name": "stdout",
     "output_type": "stream",
     "text": [
      "349\n",
      "0.693836978131\n"
     ]
    }
   ],
   "source": [
    "# eval on the entire data with KNN(k = 5) and PCA(n = 3)\n",
    "\n",
    "pcax_full = pca.transform(x - x_mean)\n",
    "pred5f = pca_knn.predict(pcax_full)\n",
    "\n",
    "print (sum(pred5f == y))\n",
    "print (sum(pred5f == y)/ len(y))"
   ]
  },
  {
   "cell_type": "code",
   "execution_count": 53,
   "metadata": {},
   "outputs": [
    {
     "data": {
      "text/plain": [
       "numpy.int64"
      ]
     },
     "execution_count": 53,
     "metadata": {},
     "output_type": "execute_result"
    }
   ],
   "source": [
    "type(y_test.iloc[34])\n"
   ]
  },
  {
   "cell_type": "markdown",
   "metadata": {},
   "source": [
    "# Logistic regression\n"
   ]
  },
  {
   "cell_type": "code",
   "execution_count": 54,
   "metadata": {
    "collapsed": true
   },
   "outputs": [],
   "source": [
    "from sklearn.linear_model import LogisticRegression"
   ]
  },
  {
   "cell_type": "code",
   "execution_count": 171,
   "metadata": {},
   "outputs": [
    {
     "data": {
      "text/plain": [
       "LogisticRegression(C=1.0, class_weight=None, dual=False, fit_intercept=True,\n",
       "          intercept_scaling=1, max_iter=100, multi_class='ovr', n_jobs=1,\n",
       "          penalty='l2', random_state=None, solver='liblinear', tol=0.0001,\n",
       "          verbose=0, warm_start=False)"
      ]
     },
     "execution_count": 171,
     "metadata": {},
     "output_type": "execute_result"
    }
   ],
   "source": [
    "# logistice regression on ORIGINAL data \n",
    "\n",
    "logrorg = LogisticRegression()\n",
    "logrorg.fit(x_train, y_train)"
   ]
  },
  {
   "cell_type": "code",
   "execution_count": 174,
   "metadata": {},
   "outputs": [
    {
     "data": {
      "text/plain": [
       "0.65346534653465349"
      ]
     },
     "execution_count": 174,
     "metadata": {},
     "output_type": "execute_result"
    }
   ],
   "source": [
    "logrorg.score(x_test, y_test)"
   ]
  },
  {
   "cell_type": "code",
   "execution_count": 176,
   "metadata": {},
   "outputs": [
    {
     "name": "stdout",
     "output_type": "stream",
     "text": [
      "[ 0.80769231  0.68627451  0.66        0.66        0.66        0.54        0.6\n",
      "  0.72        0.74        0.68      ]\n",
      "0.67539668175\n"
     ]
    }
   ],
   "source": [
    "scores = cross_val_score(logrorg, x, y, cv = 10)\n",
    "\n",
    "print (scores)\n",
    "print (np.mean(scores))"
   ]
  },
  {
   "cell_type": "code",
   "execution_count": 181,
   "metadata": {},
   "outputs": [
    {
     "name": "stdout",
     "output_type": "stream",
     "text": [
      "             precision    recall  f1-score   support\n",
      "\n",
      "          0       0.70      0.69      0.70        58\n",
      "          1       0.59      0.60      0.60        43\n",
      "\n",
      "avg / total       0.65      0.65      0.65       101\n",
      "\n"
     ]
    }
   ],
   "source": [
    "sum(logrorg.predict(x_test) == y_test)/ len(y_test)\n",
    "\n",
    "# prediction for the demeaned testing data \n",
    "pred_log_org = logrorg.predict(x_test)\n",
    "print (classification_report(y_test, pred_log_org))"
   ]
  },
  {
   "cell_type": "code",
   "execution_count": null,
   "metadata": {
    "collapsed": true
   },
   "outputs": [],
   "source": []
  },
  {
   "cell_type": "code",
   "execution_count": null,
   "metadata": {
    "collapsed": true
   },
   "outputs": [],
   "source": []
  },
  {
   "cell_type": "code",
   "execution_count": null,
   "metadata": {
    "collapsed": true
   },
   "outputs": [],
   "source": []
  },
  {
   "cell_type": "code",
   "execution_count": 178,
   "metadata": {},
   "outputs": [
    {
     "data": {
      "text/plain": [
       "GridSearchCV(cv=10, error_score='raise',\n",
       "       estimator=LogisticRegression(C=1.0, class_weight=None, dual=False, fit_intercept=True,\n",
       "          intercept_scaling=1, max_iter=100, multi_class='ovr', n_jobs=1,\n",
       "          penalty='l2', random_state=None, solver='liblinear', tol=0.0001,\n",
       "          verbose=0, warm_start=False),\n",
       "       fit_params={}, iid=True, n_jobs=1,\n",
       "       param_grid={'C': [0.001, 0.01, 0.1, 1, 10, 100, 1000], 'penalty': ['l2', 'l1']},\n",
       "       pre_dispatch='2*n_jobs', refit=True, return_train_score=True,\n",
       "       scoring=make_scorer(accuracy_score), verbose=0)"
      ]
     },
     "execution_count": 178,
     "metadata": {},
     "output_type": "execute_result"
    }
   ],
   "source": [
    "tuned_org = LogisticRegression()\n",
    "\n",
    "param_grid = {'C': [0.001, 0.01, 0.1, 1, 10, 100, 1000], 'penalty': ['l2', 'l1']}\n",
    "\n",
    "grid_search_org = GridSearchCV(tuned_org, param_grid, cv= 10, scoring = make_scorer(accuracy_score))\n",
    "grid_search_org.fit(x_train, y_train)"
   ]
  },
  {
   "cell_type": "code",
   "execution_count": 182,
   "metadata": {},
   "outputs": [
    {
     "name": "stdout",
     "output_type": "stream",
     "text": [
      "0.001\n",
      "l2\n"
     ]
    },
    {
     "data": {
      "text/plain": [
       "0.68316831683168322"
      ]
     },
     "execution_count": 182,
     "metadata": {},
     "output_type": "execute_result"
    }
   ],
   "source": [
    "print (grid_search_org.best_params_.get('C'))\n",
    "print (grid_search_org.best_params_.get('penalty'))\n",
    "\n",
    "# fit the tuned logistic regression \n",
    "\n",
    "tuned_org = LogisticRegression(C = grid_search_org.best_params_.get('C'), penalty = grid_search_org.best_params_.get('penalty'))\n",
    "tuned_org.fit(x_train, y_train)\n",
    "\n",
    "# accuracy on the current testing data \n",
    "sum (tuned_org.predict(x_test) == y_test) / len(y_test)"
   ]
  },
  {
   "cell_type": "code",
   "execution_count": 183,
   "metadata": {},
   "outputs": [
    {
     "name": "stdout",
     "output_type": "stream",
     "text": [
      "[ 0.76923077  0.70588235  0.68        0.62        0.64        0.56        0.62\n",
      "  0.82        0.82        0.68      ]\n",
      "0.691511312217\n"
     ]
    }
   ],
   "source": [
    "scores = cross_val_score(tuned_org, x, y, cv = 10)\n",
    "\n",
    "print (scores)\n",
    "print (np.mean(scores))"
   ]
  },
  {
   "cell_type": "code",
   "execution_count": null,
   "metadata": {
    "collapsed": true
   },
   "outputs": [],
   "source": []
  },
  {
   "cell_type": "code",
   "execution_count": null,
   "metadata": {
    "collapsed": true
   },
   "outputs": [],
   "source": []
  },
  {
   "cell_type": "code",
   "execution_count": null,
   "metadata": {
    "collapsed": true
   },
   "outputs": [],
   "source": []
  },
  {
   "cell_type": "code",
   "execution_count": null,
   "metadata": {
    "collapsed": true
   },
   "outputs": [],
   "source": []
  },
  {
   "cell_type": "code",
   "execution_count": null,
   "metadata": {
    "collapsed": true
   },
   "outputs": [],
   "source": []
  },
  {
   "cell_type": "code",
   "execution_count": 55,
   "metadata": {},
   "outputs": [
    {
     "data": {
      "text/plain": [
       "LogisticRegression(C=1.0, class_weight=None, dual=False, fit_intercept=True,\n",
       "          intercept_scaling=1, max_iter=100, multi_class='ovr', n_jobs=1,\n",
       "          penalty='l2', random_state=None, solver='liblinear', tol=0.0001,\n",
       "          verbose=0, warm_start=False)"
      ]
     },
     "execution_count": 55,
     "metadata": {},
     "output_type": "execute_result"
    }
   ],
   "source": [
    "# logistice regression on PCA data \n",
    "\n",
    "logr = LogisticRegression()\n",
    "logr.fit(pcax_train, y_train)"
   ]
  },
  {
   "cell_type": "code",
   "execution_count": 74,
   "metadata": {},
   "outputs": [
    {
     "name": "stdout",
     "output_type": "stream",
     "text": [
      "[ 0.59615385  0.58823529  0.64        0.6         0.5         0.5         0.46\n",
      "  0.66        0.64        0.5       ]\n"
     ]
    },
    {
     "data": {
      "text/plain": [
       "0.5684389140271493"
      ]
     },
     "execution_count": 74,
     "metadata": {},
     "output_type": "execute_result"
    }
   ],
   "source": [
    "# CV score\n",
    "print (cross_val_score(logr, fullx, y, cv = 10))\n",
    "\n",
    "# scoring = accuracy_rate seems to be the default scoring here \n",
    "np.mean(cross_val_score(logr, fullx, y, cv = 10))"
   ]
  },
  {
   "cell_type": "code",
   "execution_count": 57,
   "metadata": {},
   "outputs": [
    {
     "data": {
      "text/plain": [
       "0.60396039603960394"
      ]
     },
     "execution_count": 57,
     "metadata": {},
     "output_type": "execute_result"
    }
   ],
   "source": [
    "logr.score(pcax_test, y_test)"
   ]
  },
  {
   "cell_type": "code",
   "execution_count": 75,
   "metadata": {},
   "outputs": [
    {
     "data": {
      "text/plain": [
       "array([[ 0.00011813, -0.00067711,  0.00106335]])"
      ]
     },
     "execution_count": 75,
     "metadata": {},
     "output_type": "execute_result"
    }
   ],
   "source": [
    "# logistic regression coefficients \n",
    "logr.coef_"
   ]
  },
  {
   "cell_type": "code",
   "execution_count": 59,
   "metadata": {},
   "outputs": [
    {
     "name": "stdout",
     "output_type": "stream",
     "text": [
      "             precision    recall  f1-score   support\n",
      "\n",
      "          0       0.63      0.74      0.68        58\n",
      "          1       0.55      0.42      0.47        43\n",
      "\n",
      "avg / total       0.60      0.60      0.59       101\n",
      "\n"
     ]
    }
   ],
   "source": [
    "sum(logr.predict(pcax_test) == y_test)/ len(y_test)\n",
    "\n",
    "# prediction for the demeaned testing data \n",
    "pred_log = logr.predict(pcax_test)\n",
    "print (classification_report(y_test, pred_log))"
   ]
  },
  {
   "cell_type": "code",
   "execution_count": 60,
   "metadata": {},
   "outputs": [
    {
     "data": {
      "text/plain": [
       "43"
      ]
     },
     "execution_count": 60,
     "metadata": {},
     "output_type": "execute_result"
    }
   ],
   "source": [
    "# support \n",
    "\n",
    "len(y_test[y_test== 0])\n",
    "len(y_test[y_test== 1])"
   ]
  },
  {
   "cell_type": "code",
   "execution_count": 61,
   "metadata": {},
   "outputs": [
    {
     "data": {
      "text/plain": [
       "GridSearchCV(cv=10, error_score='raise',\n",
       "       estimator=LogisticRegression(C=1.0, class_weight=None, dual=False, fit_intercept=True,\n",
       "          intercept_scaling=1, max_iter=100, multi_class='ovr', n_jobs=1,\n",
       "          penalty='l2', random_state=None, solver='liblinear', tol=0.0001,\n",
       "          verbose=0, warm_start=False),\n",
       "       fit_params={}, iid=True, n_jobs=1,\n",
       "       param_grid={'C': [0.001, 0.01, 0.1, 1, 10, 100, 1000], 'penalty': ['l2', 'l1']},\n",
       "       pre_dispatch='2*n_jobs', refit=True, return_train_score=True,\n",
       "       scoring=make_scorer(accuracy_score), verbose=0)"
      ]
     },
     "execution_count": 61,
     "metadata": {},
     "output_type": "execute_result"
    }
   ],
   "source": [
    "# tune Logistic Regression?\n",
    "# in scikit learn logistic regression, C = 1/lambda, for the consistency with SVM\n",
    "# i.e. samller C, greater the effect of regularizatoin \n",
    "\n",
    "tuned = LogisticRegression()\n",
    "\n",
    "param_grid = {'C': [0.001, 0.01, 0.1, 1, 10, 100, 1000], 'penalty': ['l2', 'l1']}\n",
    "\n",
    "grid_search= GridSearchCV(tuned, param_grid, cv= 10, scoring = make_scorer(accuracy_score))\n",
    "grid_search.fit(pcax_train, y_train)"
   ]
  },
  {
   "cell_type": "code",
   "execution_count": 62,
   "metadata": {},
   "outputs": [
    {
     "name": "stdout",
     "output_type": "stream",
     "text": [
      "1\n",
      "l1\n"
     ]
    },
    {
     "data": {
      "text/plain": [
       "0.60396039603960394"
      ]
     },
     "execution_count": 62,
     "metadata": {},
     "output_type": "execute_result"
    }
   ],
   "source": [
    "print (grid_search.best_params_.get('C'))\n",
    "print (grid_search.best_params_.get('penalty'))\n",
    "\n",
    "# fit the tuned logistic regression \n",
    "\n",
    "tuned = LogisticRegression(C = grid_search.best_params_.get('C'), penalty = grid_search.best_params_.get('penalty'))\n",
    "tuned.fit(pcax_train, y_train)\n",
    "\n",
    "# accuracy on the current testing data \n",
    "sum (tuned.predict(pcax_test) == y_test) / len(y_test)"
   ]
  },
  {
   "cell_type": "code",
   "execution_count": 76,
   "metadata": {},
   "outputs": [
    {
     "name": "stdout",
     "output_type": "stream",
     "text": [
      "[ 0.61538462  0.58823529  0.62        0.58        0.5         0.52        0.46\n",
      "  0.66        0.66        0.52      ]\n",
      "0.57236199095\n"
     ]
    }
   ],
   "source": [
    "# CV score on the tuned Logistic regression \n",
    "cross_validate = cross_val_score(tuned, fullx, y, cv = 10, scoring = make_scorer(accuracy_score))\n",
    "\n",
    "print (cross_validate)\n",
    "print (np.mean(cross_validate))"
   ]
  },
  {
   "cell_type": "code",
   "execution_count": null,
   "metadata": {
    "collapsed": true
   },
   "outputs": [],
   "source": []
  },
  {
   "cell_type": "markdown",
   "metadata": {},
   "source": [
    "## generate the list of companies with prediction probabilities \n",
    "- check if the match the reality as well"
   ]
  },
  {
   "cell_type": "code",
   "execution_count": 99,
   "metadata": {},
   "outputs": [
    {
     "data": {
      "text/plain": [
       "array([0, 0, 1, 0, 1, 0, 0, 0, 0, 0, 1, 0, 1, 1, 0, 0, 1, 0, 1, 1, 1, 0, 0,\n",
       "       0, 1, 0, 0, 0, 1, 1, 0, 0, 0, 0, 0, 0, 0, 1, 0, 0, 0, 0, 0, 0, 0, 0,\n",
       "       1, 0, 0, 1, 0, 1, 1, 0, 0, 1, 0, 0, 0, 0, 0, 1, 1, 1, 1, 1, 0, 0, 0,\n",
       "       0, 0, 0, 1, 1, 0, 0, 0, 0, 0, 1, 1, 0, 0, 0, 0, 1, 0, 0, 0, 0, 0, 1,\n",
       "       0, 1, 0, 1, 1, 1, 0, 0, 0], dtype=int64)"
      ]
     },
     "execution_count": 99,
     "metadata": {},
     "output_type": "execute_result"
    }
   ],
   "source": [
    "# predict labels \n",
    "predict = tuned.predict(pcax_test)\n",
    "predict"
   ]
  },
  {
   "cell_type": "code",
   "execution_count": 89,
   "metadata": {},
   "outputs": [
    {
     "data": {
      "text/html": [
       "<div>\n",
       "<style>\n",
       "    .dataframe thead tr:only-child th {\n",
       "        text-align: right;\n",
       "    }\n",
       "\n",
       "    .dataframe thead th {\n",
       "        text-align: left;\n",
       "    }\n",
       "\n",
       "    .dataframe tbody tr th {\n",
       "        vertical-align: top;\n",
       "    }\n",
       "</style>\n",
       "<table border=\"1\" class=\"dataframe\">\n",
       "  <thead>\n",
       "    <tr style=\"text-align: right;\">\n",
       "      <th>Date</th>\n",
       "      <th>2012-08-13</th>\n",
       "      <th>2012-08-14</th>\n",
       "      <th>2012-08-15</th>\n",
       "      <th>2012-08-16</th>\n",
       "      <th>2012-08-17</th>\n",
       "      <th>2012-08-20</th>\n",
       "      <th>2012-08-21</th>\n",
       "      <th>2012-08-22</th>\n",
       "      <th>2012-08-23</th>\n",
       "      <th>2012-08-24</th>\n",
       "      <th>...</th>\n",
       "      <th>2017-07-28</th>\n",
       "      <th>2017-07-31</th>\n",
       "      <th>2017-08-01</th>\n",
       "      <th>2017-08-02</th>\n",
       "      <th>2017-08-03</th>\n",
       "      <th>2017-08-04</th>\n",
       "      <th>2017-08-07</th>\n",
       "      <th>2017-08-08</th>\n",
       "      <th>2017-08-09</th>\n",
       "      <th>2017-08-10</th>\n",
       "    </tr>\n",
       "  </thead>\n",
       "  <tbody>\n",
       "    <tr>\n",
       "      <th>90</th>\n",
       "      <td>41.74</td>\n",
       "      <td>41.62</td>\n",
       "      <td>42.3</td>\n",
       "      <td>43.22</td>\n",
       "      <td>43.33</td>\n",
       "      <td>43.12</td>\n",
       "      <td>42.28</td>\n",
       "      <td>42.76</td>\n",
       "      <td>41.35</td>\n",
       "      <td>41.52</td>\n",
       "      <td>...</td>\n",
       "      <td>28.99</td>\n",
       "      <td>29.35</td>\n",
       "      <td>29.22</td>\n",
       "      <td>28.72</td>\n",
       "      <td>30.71</td>\n",
       "      <td>32.21</td>\n",
       "      <td>31.93</td>\n",
       "      <td>31.49</td>\n",
       "      <td>31.88</td>\n",
       "      <td>30.76</td>\n",
       "    </tr>\n",
       "  </tbody>\n",
       "</table>\n",
       "<p>1 rows × 1257 columns</p>\n",
       "</div>"
      ],
      "text/plain": [
       "Date 2012-08-13 2012-08-14 2012-08-15 2012-08-16 2012-08-17 2012-08-20  \\\n",
       "90        41.74      41.62       42.3      43.22      43.33      43.12   \n",
       "\n",
       "Date 2012-08-21 2012-08-22 2012-08-23 2012-08-24    ...     2017-07-28  \\\n",
       "90        42.28      42.76      41.35      41.52    ...          28.99   \n",
       "\n",
       "Date 2017-07-31 2017-08-01 2017-08-02 2017-08-03 2017-08-04 2017-08-07  \\\n",
       "90        29.35      29.22      28.72      30.71      32.21      31.93   \n",
       "\n",
       "Date 2017-08-08 2017-08-09 2017-08-10  \n",
       "90        31.49      31.88      30.76  \n",
       "\n",
       "[1 rows x 1257 columns]"
      ]
     },
     "execution_count": 89,
     "metadata": {},
     "output_type": "execute_result"
    }
   ],
   "source": [
    "# x_test.iloc[:1]"
   ]
  },
  {
   "cell_type": "code",
   "execution_count": 96,
   "metadata": {},
   "outputs": [],
   "source": [
    "# print (name[name.index.values == 90])\n",
    "\n",
    "# print (ref[ref['Name'] == 'CF'])\n",
    "\n",
    "\n",
    "# the indices from name lsit and ref, x_test match with each other "
   ]
  },
  {
   "cell_type": "code",
   "execution_count": null,
   "metadata": {
    "collapsed": true
   },
   "outputs": [],
   "source": []
  },
  {
   "cell_type": "code",
   "execution_count": 100,
   "metadata": {},
   "outputs": [
    {
     "data": {
      "text/plain": [
       "array([ 0.46412346,  0.48029291,  0.53605564,  0.42048188,  0.51585787,\n",
       "        0.48210087,  0.47136819,  0.49008513,  0.49327333,  0.40747651,\n",
       "        0.56790284,  0.39010666,  0.55702915,  0.52511392,  0.40575418,\n",
       "        0.48283667,  0.53053866,  0.36472319,  0.63134372,  0.9539012 ,\n",
       "        0.93332317,  0.4034376 ,  0.46856271,  0.48328616,  0.59392799,\n",
       "        0.29168612,  0.48430085,  0.46581172,  0.68619338,  0.61978651,\n",
       "        0.49301432,  0.47083458,  0.44773061,  0.45193281,  0.47566185,\n",
       "        0.49434331,  0.42599732,  0.55949505,  0.45926523,  0.46237647,\n",
       "        0.38725689,  0.11453226,  0.46891721,  0.39719979,  0.4703028 ,\n",
       "        0.44147163,  0.64918125,  0.48707953,  0.47853799,  0.5399011 ,\n",
       "        0.4671748 ,  0.51259454,  0.59625163,  0.38449406,  0.47823036,\n",
       "        0.69812933,  0.37444813,  0.4172064 ,  0.43037346,  0.46186919,\n",
       "        0.45330043,  0.56528973,  0.60391123,  0.67801821,  0.60043726,\n",
       "        0.71346502,  0.48632268,  0.49845938,  0.4338904 ,  0.45567342,\n",
       "        0.46148876,  0.49414893,  0.51715193,  0.7682829 ,  0.43971959,\n",
       "        0.4179146 ,  0.46159972,  0.47043956,  0.4559512 ,  0.57844941,\n",
       "        0.72273147,  0.44454601,  0.44545339,  0.46124451,  0.45591436,\n",
       "        0.52877698,  0.47639643,  0.4518359 ,  0.47747891,  0.44172054,\n",
       "        0.43373618,  0.53249879,  0.46749524,  0.52648406,  0.45249725,\n",
       "        0.51833461,  0.97635283,  0.52131995,  0.45923329,  0.43177596,\n",
       "        0.43619154])"
      ]
     },
     "execution_count": 100,
     "metadata": {},
     "output_type": "execute_result"
    }
   ],
   "source": [
    "# prediction probability from the tuned logistic regression\n",
    "# - the second column is the probability of Y = 1 \n",
    "\n",
    "pofone = tuned.predict_proba(pcax_test)[:, 1]\n",
    "pofone"
   ]
  },
  {
   "cell_type": "code",
   "execution_count": 160,
   "metadata": {},
   "outputs": [
    {
     "data": {
      "text/html": [
       "<div>\n",
       "<style>\n",
       "    .dataframe thead tr:only-child th {\n",
       "        text-align: right;\n",
       "    }\n",
       "\n",
       "    .dataframe thead th {\n",
       "        text-align: left;\n",
       "    }\n",
       "\n",
       "    .dataframe tbody tr th {\n",
       "        vertical-align: top;\n",
       "    }\n",
       "</style>\n",
       "<table border=\"1\" class=\"dataframe\">\n",
       "  <thead>\n",
       "    <tr style=\"text-align: right;\">\n",
       "      <th></th>\n",
       "      <th>Name</th>\n",
       "      <th>actual_label</th>\n",
       "      <th>pred_label</th>\n",
       "      <th>pred_prob</th>\n",
       "    </tr>\n",
       "  </thead>\n",
       "  <tbody>\n",
       "    <tr>\n",
       "      <th>56</th>\n",
       "      <td>AZO</td>\n",
       "      <td>1</td>\n",
       "      <td>1</td>\n",
       "      <td>0.976353</td>\n",
       "    </tr>\n",
       "    <tr>\n",
       "      <th>37</th>\n",
       "      <td>AMZN</td>\n",
       "      <td>1</td>\n",
       "      <td>1</td>\n",
       "      <td>0.953901</td>\n",
       "    </tr>\n",
       "    <tr>\n",
       "      <th>208</th>\n",
       "      <td>GOOGL</td>\n",
       "      <td>1</td>\n",
       "      <td>1</td>\n",
       "      <td>0.933323</td>\n",
       "    </tr>\n",
       "    <tr>\n",
       "      <th>336</th>\n",
       "      <td>NOC</td>\n",
       "      <td>0</td>\n",
       "      <td>1</td>\n",
       "      <td>0.768283</td>\n",
       "    </tr>\n",
       "    <tr>\n",
       "      <th>302</th>\n",
       "      <td>MCK</td>\n",
       "      <td>0</td>\n",
       "      <td>1</td>\n",
       "      <td>0.722731</td>\n",
       "    </tr>\n",
       "  </tbody>\n",
       "</table>\n",
       "</div>"
      ],
      "text/plain": [
       "      Name  actual_label  pred_label  pred_prob\n",
       "56     AZO             1           1   0.976353\n",
       "37    AMZN             1           1   0.953901\n",
       "208  GOOGL             1           1   0.933323\n",
       "336    NOC             0           1   0.768283\n",
       "302    MCK             0           1   0.722731"
      ]
     },
     "execution_count": 160,
     "metadata": {},
     "output_type": "execute_result"
    }
   ],
   "source": [
    "# new dataframe of name, predicted label, predicted probability, actual label\n",
    "\n",
    "# name \n",
    "test_name = name.iloc[x_test.index.values]\n",
    "# predict labels\n",
    "predict \n",
    "# predict probabilities \n",
    "pofone\n",
    "# actual label\n",
    "y_test\n",
    "\n",
    "last = pd.DataFrame({'Name': test_name['Name'], 'pred_label': predict, 'pred_prob': pofone, 'actual_label': y_test})\n",
    "last.sort_values(by = ['pred_prob'], inplace = True, ascending = False)\n",
    "last.head()"
   ]
  },
  {
   "cell_type": "code",
   "execution_count": 161,
   "metadata": {
    "collapsed": true
   },
   "outputs": [],
   "source": [
    "last.to_csv('complete.csv')"
   ]
  },
  {
   "cell_type": "code",
   "execution_count": 167,
   "metadata": {},
   "outputs": [
    {
     "name": "stdout",
     "output_type": "stream",
     "text": [
      "(18, 4)\n"
     ]
    },
    {
     "name": "stderr",
     "output_type": "stream",
     "text": [
      "C:\\Users\\1098071\\AppData\\Local\\Continuum\\Anaconda3\\lib\\site-packages\\ipykernel_launcher.py:3: SettingWithCopyWarning: \n",
      "A value is trying to be set on a copy of a slice from a DataFrame\n",
      "\n",
      "See the caveats in the documentation: http://pandas.pydata.org/pandas-docs/stable/indexing.html#indexing-view-versus-copy\n",
      "  This is separate from the ipykernel package so we can avoid doing imports until\n"
     ]
    },
    {
     "data": {
      "text/html": [
       "<div>\n",
       "<style>\n",
       "    .dataframe thead tr:only-child th {\n",
       "        text-align: right;\n",
       "    }\n",
       "\n",
       "    .dataframe thead th {\n",
       "        text-align: left;\n",
       "    }\n",
       "\n",
       "    .dataframe tbody tr th {\n",
       "        vertical-align: top;\n",
       "    }\n",
       "</style>\n",
       "<table border=\"1\" class=\"dataframe\">\n",
       "  <thead>\n",
       "    <tr style=\"text-align: right;\">\n",
       "      <th></th>\n",
       "      <th>Name</th>\n",
       "      <th>actual_label</th>\n",
       "      <th>pred_label</th>\n",
       "      <th>pred_prob</th>\n",
       "    </tr>\n",
       "  </thead>\n",
       "  <tbody>\n",
       "    <tr>\n",
       "      <th>56</th>\n",
       "      <td>AZO</td>\n",
       "      <td>1</td>\n",
       "      <td>1</td>\n",
       "      <td>0.976353</td>\n",
       "    </tr>\n",
       "    <tr>\n",
       "      <th>37</th>\n",
       "      <td>AMZN</td>\n",
       "      <td>1</td>\n",
       "      <td>1</td>\n",
       "      <td>0.953901</td>\n",
       "    </tr>\n",
       "    <tr>\n",
       "      <th>208</th>\n",
       "      <td>GOOGL</td>\n",
       "      <td>1</td>\n",
       "      <td>1</td>\n",
       "      <td>0.933323</td>\n",
       "    </tr>\n",
       "    <tr>\n",
       "      <th>245</th>\n",
       "      <td>INCY</td>\n",
       "      <td>1</td>\n",
       "      <td>1</td>\n",
       "      <td>0.713465</td>\n",
       "    </tr>\n",
       "    <tr>\n",
       "      <th>12</th>\n",
       "      <td>ADS</td>\n",
       "      <td>1</td>\n",
       "      <td>1</td>\n",
       "      <td>0.698129</td>\n",
       "    </tr>\n",
       "    <tr>\n",
       "      <th>428</th>\n",
       "      <td>SWKS</td>\n",
       "      <td>1</td>\n",
       "      <td>1</td>\n",
       "      <td>0.678018</td>\n",
       "    </tr>\n",
       "    <tr>\n",
       "      <th>456</th>\n",
       "      <td>UNH</td>\n",
       "      <td>1</td>\n",
       "      <td>1</td>\n",
       "      <td>0.649181</td>\n",
       "    </tr>\n",
       "    <tr>\n",
       "      <th>154</th>\n",
       "      <td>EA</td>\n",
       "      <td>1</td>\n",
       "      <td>1</td>\n",
       "      <td>0.631344</td>\n",
       "    </tr>\n",
       "    <tr>\n",
       "      <th>236</th>\n",
       "      <td>HSIC</td>\n",
       "      <td>1</td>\n",
       "      <td>1</td>\n",
       "      <td>0.619787</td>\n",
       "    </tr>\n",
       "    <tr>\n",
       "      <th>303</th>\n",
       "      <td>MCO</td>\n",
       "      <td>1</td>\n",
       "      <td>1</td>\n",
       "      <td>0.600437</td>\n",
       "    </tr>\n",
       "    <tr>\n",
       "      <th>220</th>\n",
       "      <td>HCA</td>\n",
       "      <td>1</td>\n",
       "      <td>1</td>\n",
       "      <td>0.596252</td>\n",
       "    </tr>\n",
       "    <tr>\n",
       "      <th>434</th>\n",
       "      <td>TAP</td>\n",
       "      <td>1</td>\n",
       "      <td>1</td>\n",
       "      <td>0.567903</td>\n",
       "    </tr>\n",
       "    <tr>\n",
       "      <th>452</th>\n",
       "      <td>UAL</td>\n",
       "      <td>1</td>\n",
       "      <td>1</td>\n",
       "      <td>0.559495</td>\n",
       "    </tr>\n",
       "    <tr>\n",
       "      <th>475</th>\n",
       "      <td>WAT</td>\n",
       "      <td>1</td>\n",
       "      <td>1</td>\n",
       "      <td>0.536056</td>\n",
       "    </tr>\n",
       "    <tr>\n",
       "      <th>405</th>\n",
       "      <td>SBUX</td>\n",
       "      <td>1</td>\n",
       "      <td>1</td>\n",
       "      <td>0.532499</td>\n",
       "    </tr>\n",
       "    <tr>\n",
       "      <th>471</th>\n",
       "      <td>VRSN</td>\n",
       "      <td>1</td>\n",
       "      <td>1</td>\n",
       "      <td>0.530539</td>\n",
       "    </tr>\n",
       "    <tr>\n",
       "      <th>465</th>\n",
       "      <td>VFC</td>\n",
       "      <td>1</td>\n",
       "      <td>1</td>\n",
       "      <td>0.526484</td>\n",
       "    </tr>\n",
       "    <tr>\n",
       "      <th>395</th>\n",
       "      <td>RHT</td>\n",
       "      <td>1</td>\n",
       "      <td>1</td>\n",
       "      <td>0.515858</td>\n",
       "    </tr>\n",
       "  </tbody>\n",
       "</table>\n",
       "</div>"
      ],
      "text/plain": [
       "      Name  actual_label  pred_label  pred_prob\n",
       "56     AZO             1           1   0.976353\n",
       "37    AMZN             1           1   0.953901\n",
       "208  GOOGL             1           1   0.933323\n",
       "245   INCY             1           1   0.713465\n",
       "12     ADS             1           1   0.698129\n",
       "428   SWKS             1           1   0.678018\n",
       "456    UNH             1           1   0.649181\n",
       "154     EA             1           1   0.631344\n",
       "236   HSIC             1           1   0.619787\n",
       "303    MCO             1           1   0.600437\n",
       "220    HCA             1           1   0.596252\n",
       "434    TAP             1           1   0.567903\n",
       "452    UAL             1           1   0.559495\n",
       "475    WAT             1           1   0.536056\n",
       "405   SBUX             1           1   0.532499\n",
       "471   VRSN             1           1   0.530539\n",
       "465    VFC             1           1   0.526484\n",
       "395    RHT             1           1   0.515858"
      ]
     },
     "execution_count": 167,
     "metadata": {},
     "output_type": "execute_result"
    }
   ],
   "source": [
    "match = last[last['actual_label'] == last['pred_label']]\n",
    "matchedandincrease = match[match['pred_label'] == 1]\n",
    "matchedandincrease.sort_values(by = ['pred_prob'], inplace = True, ascending = False)\n",
    "print(matchedandincrease.shape)\n",
    "\n",
    "matchedandincrease \n"
   ]
  },
  {
   "cell_type": "code",
   "execution_count": 163,
   "metadata": {
    "collapsed": true
   },
   "outputs": [],
   "source": [
    "matchedandincrease.to_csv('matchedandincrease.csv')"
   ]
  },
  {
   "cell_type": "code",
   "execution_count": 158,
   "metadata": {},
   "outputs": [
    {
     "name": "stdout",
     "output_type": "stream",
     "text": [
      "(33, 2)\n"
     ]
    },
    {
     "data": {
      "text/html": [
       "<div>\n",
       "<style>\n",
       "    .dataframe thead tr:only-child th {\n",
       "        text-align: right;\n",
       "    }\n",
       "\n",
       "    .dataframe thead th {\n",
       "        text-align: left;\n",
       "    }\n",
       "\n",
       "    .dataframe tbody tr th {\n",
       "        vertical-align: top;\n",
       "    }\n",
       "</style>\n",
       "<table border=\"1\" class=\"dataframe\">\n",
       "  <thead>\n",
       "    <tr style=\"text-align: right;\">\n",
       "      <th></th>\n",
       "      <th>Name</th>\n",
       "      <th>pred_prob</th>\n",
       "    </tr>\n",
       "  </thead>\n",
       "  <tbody>\n",
       "    <tr>\n",
       "      <th>56</th>\n",
       "      <td>AZO</td>\n",
       "      <td>0.976353</td>\n",
       "    </tr>\n",
       "    <tr>\n",
       "      <th>37</th>\n",
       "      <td>AMZN</td>\n",
       "      <td>0.953901</td>\n",
       "    </tr>\n",
       "    <tr>\n",
       "      <th>208</th>\n",
       "      <td>GOOGL</td>\n",
       "      <td>0.933323</td>\n",
       "    </tr>\n",
       "    <tr>\n",
       "      <th>336</th>\n",
       "      <td>NOC</td>\n",
       "      <td>0.768283</td>\n",
       "    </tr>\n",
       "    <tr>\n",
       "      <th>302</th>\n",
       "      <td>MCK</td>\n",
       "      <td>0.722731</td>\n",
       "    </tr>\n",
       "  </tbody>\n",
       "</table>\n",
       "</div>"
      ],
      "text/plain": [
       "      Name  pred_prob\n",
       "56     AZO   0.976353\n",
       "37    AMZN   0.953901\n",
       "208  GOOGL   0.933323\n",
       "336    NOC   0.768283\n",
       "302    MCK   0.722731"
      ]
     },
     "execution_count": 158,
     "metadata": {},
     "output_type": "execute_result"
    }
   ],
   "source": [
    "suggest = last[last['pred_label'] == 1][['Name', 'pred_prob']]\n",
    "print (suggest.shape)\n",
    "\n",
    "# rank the suggested comapnies by predicted probabilities \n",
    "suggest.sort_values(by = ['pred_prob'], inplace = True, ascending = False)\n",
    "suggest.head()"
   ]
  },
  {
   "cell_type": "code",
   "execution_count": 164,
   "metadata": {
    "collapsed": true
   },
   "outputs": [],
   "source": [
    "suggest.to_csv('suggest.csv')"
   ]
  },
  {
   "cell_type": "code",
   "execution_count": null,
   "metadata": {
    "collapsed": true
   },
   "outputs": [],
   "source": []
  },
  {
   "cell_type": "code",
   "execution_count": 64,
   "metadata": {},
   "outputs": [
    {
     "name": "stdout",
     "output_type": "stream",
     "text": [
      "             precision    recall  f1-score   support\n",
      "\n",
      "          0       0.63      0.74      0.68        58\n",
      "          1       0.55      0.42      0.47        43\n",
      "\n",
      "avg / total       0.60      0.60      0.59       101\n",
      "\n"
     ]
    }
   ],
   "source": [
    "print (classification_report(y_test, tuned.predict(pcax_test)))"
   ]
  },
  {
   "cell_type": "code",
   "execution_count": null,
   "metadata": {
    "collapsed": true
   },
   "outputs": [],
   "source": []
  },
  {
   "cell_type": "markdown",
   "metadata": {},
   "source": [
    "# Naive Bayes"
   ]
  },
  {
   "cell_type": "code",
   "execution_count": 71,
   "metadata": {},
   "outputs": [
    {
     "data": {
      "text/plain": [
       "GaussianNB(priors=None)"
      ]
     },
     "execution_count": 71,
     "metadata": {},
     "output_type": "execute_result"
    }
   ],
   "source": [
    "# naive bayes with PCA data \n",
    "\n",
    "from sklearn.naive_bayes import GaussianNB\n",
    "\n",
    "gnb = GaussianNB()\n",
    "gnb.fit(pcax_train, y_train)"
   ]
  },
  {
   "cell_type": "code",
   "execution_count": 73,
   "metadata": {},
   "outputs": [
    {
     "name": "stdout",
     "output_type": "stream",
     "text": [
      "[ 0.57692308  0.62745098  0.56        0.48        0.52        0.5         0.52\n",
      "  0.56        0.46        0.48      ]\n",
      "0.528437405732\n"
     ]
    }
   ],
   "source": [
    "# CV on PCA data \n",
    "\n",
    "scores = cross_val_score(gnb, fullx, y, cv = 10, scoring = accuracy_rate)\n",
    "\n",
    "print (scores)\n",
    "print (np.mean(scores))"
   ]
  },
  {
   "cell_type": "code",
   "execution_count": null,
   "metadata": {
    "collapsed": true
   },
   "outputs": [],
   "source": []
  },
  {
   "cell_type": "markdown",
   "metadata": {},
   "source": [
    "# SVM"
   ]
  },
  {
   "cell_type": "code",
   "execution_count": 65,
   "metadata": {
    "collapsed": true
   },
   "outputs": [],
   "source": [
    "from sklearn.svm import SVC"
   ]
  },
  {
   "cell_type": "code",
   "execution_count": 66,
   "metadata": {},
   "outputs": [
    {
     "data": {
      "text/plain": [
       "SVC(C=1.0, cache_size=200, class_weight=None, coef0=0.0,\n",
       "  decision_function_shape=None, degree=3, gamma='auto', kernel='rbf',\n",
       "  max_iter=-1, probability=False, random_state=None, shrinking=True,\n",
       "  tol=0.001, verbose=False)"
      ]
     },
     "execution_count": 66,
     "metadata": {},
     "output_type": "execute_result"
    }
   ],
   "source": [
    "# rbf is the default kernel\n",
    "# SVM on training data with original dimension\n",
    "\n",
    "clf_svm = SVC()\n",
    "clf_svm.fit(x_train, y_train)"
   ]
  },
  {
   "cell_type": "code",
   "execution_count": 169,
   "metadata": {},
   "outputs": [
    {
     "name": "stdout",
     "output_type": "stream",
     "text": [
      "[ 0.51923077  0.52941176  0.52        0.52        0.52        0.52        0.52\n",
      "  0.52        0.52        0.52      ]\n",
      "0.520864253394\n"
     ]
    }
   ],
   "source": [
    "scores = cross_val_score(clf_svm, x, y, cv = 10, scoring = accuracy_rate)\n",
    "\n",
    "print (scores)\n",
    "print (np.mean(scores))"
   ]
  },
  {
   "cell_type": "code",
   "execution_count": 67,
   "metadata": {},
   "outputs": [
    {
     "name": "stdout",
     "output_type": "stream",
     "text": [
      "             precision    recall  f1-score   support\n",
      "\n",
      "          0       0.57      1.00      0.73        58\n",
      "          1       0.00      0.00      0.00        43\n",
      "\n",
      "avg / total       0.33      0.57      0.42       101\n",
      "\n"
     ]
    },
    {
     "name": "stderr",
     "output_type": "stream",
     "text": [
      "C:\\Users\\1098071\\AppData\\Local\\Continuum\\Anaconda3\\lib\\site-packages\\sklearn\\metrics\\classification.py:1113: UndefinedMetricWarning: Precision and F-score are ill-defined and being set to 0.0 in labels with no predicted samples.\n",
      "  'precision', 'predicted', average, warn_for)\n"
     ]
    }
   ],
   "source": [
    "pred_svm = clf_svm.predict(x_test)\n",
    "\n",
    "print (classification_report(y_test, pred_svm))"
   ]
  },
  {
   "cell_type": "code",
   "execution_count": 68,
   "metadata": {
    "scrolled": true
   },
   "outputs": [
    {
     "data": {
      "text/plain": [
       "SVC(C=1.0, cache_size=200, class_weight=None, coef0=0.0,\n",
       "  decision_function_shape=None, degree=3, gamma='auto', kernel='rbf',\n",
       "  max_iter=-1, probability=False, random_state=None, shrinking=True,\n",
       "  tol=0.001, verbose=False)"
      ]
     },
     "execution_count": 68,
     "metadata": {},
     "output_type": "execute_result"
    }
   ],
   "source": [
    "# if train SVM on the PCAed data \n",
    "\n",
    "# rbf is the default kernel\n",
    "clf_pcasvm = SVC()\n",
    "clf_pcasvm.fit(pcax_train, y_train)"
   ]
  },
  {
   "cell_type": "code",
   "execution_count": 170,
   "metadata": {},
   "outputs": [
    {
     "name": "stdout",
     "output_type": "stream",
     "text": [
      "[ 0.51923077  0.52941176  0.52        0.52        0.52        0.52        0.52\n",
      "  0.52        0.52        0.52      ]\n",
      "0.520864253394\n"
     ]
    }
   ],
   "source": [
    "scores = cross_val_score(clf_pcasvm, fullx, y, cv = 10, scoring = accuracy_rate)\n",
    "\n",
    "print (scores)\n",
    "print (np.mean(scores))"
   ]
  },
  {
   "cell_type": "code",
   "execution_count": 69,
   "metadata": {},
   "outputs": [
    {
     "name": "stdout",
     "output_type": "stream",
     "text": [
      "             precision    recall  f1-score   support\n",
      "\n",
      "          0       0.57      1.00      0.73        58\n",
      "          1       0.00      0.00      0.00        43\n",
      "\n",
      "avg / total       0.33      0.57      0.42       101\n",
      "\n"
     ]
    },
    {
     "name": "stderr",
     "output_type": "stream",
     "text": [
      "C:\\Users\\1098071\\AppData\\Local\\Continuum\\Anaconda3\\lib\\site-packages\\sklearn\\metrics\\classification.py:1113: UndefinedMetricWarning: Precision and F-score are ill-defined and being set to 0.0 in labels with no predicted samples.\n",
      "  'precision', 'predicted', average, warn_for)\n"
     ]
    }
   ],
   "source": [
    "pred_pca_svm = clf_pcasvm.predict(pcax_test)\n",
    "\n",
    "print (classification_report(y_test, pred_pca_svm))"
   ]
  },
  {
   "cell_type": "code",
   "execution_count": 70,
   "metadata": {},
   "outputs": [
    {
     "name": "stdout",
     "output_type": "stream",
     "text": [
      "43\n",
      "58\n"
     ]
    }
   ],
   "source": [
    "# in the full dataset, classses are roughly balanced \n",
    "# check if the classes are balanced in testing set as well \n",
    "\n",
    "print (len(y_test[y_test == 1]))\n",
    "print (len(y_test[y_test == 0]))"
   ]
  },
  {
   "cell_type": "markdown",
   "metadata": {},
   "source": [
    "**Precision **is the number of True Positives divided by the number of True Positives and False Positives. Put another way, it is the number of positive predictions divided by the total number of positive class values predicted. It is also called the Positive Predictive Value (PPV).\n",
    "\n",
    "Precision can be thought of as a measure of a classifiers exactness. A low precision can also indicate a large number of **False Positives.**\n",
    "\n",
    "\n",
    "**Recall** is the number of True Positives divided by the number of True Positives and the number of False Negatives. Put another way it is the number of positive predictions divided by the number of positive class values in the test data. It is also called Sensitivity or the True Positive Rate.\n",
    "\n",
    "Recall can be thought of as a measure of a classifiers completeness. A low recall indicates many **False Negatives**."
   ]
  },
  {
   "cell_type": "code",
   "execution_count": null,
   "metadata": {
    "collapsed": true
   },
   "outputs": [],
   "source": []
  },
  {
   "cell_type": "code",
   "execution_count": null,
   "metadata": {
    "collapsed": true
   },
   "outputs": [],
   "source": []
  }
 ],
 "metadata": {
  "kernelspec": {
   "display_name": "Python 3",
   "language": "python",
   "name": "python3"
  },
  "language_info": {
   "codemirror_mode": {
    "name": "ipython",
    "version": 3
   },
   "file_extension": ".py",
   "mimetype": "text/x-python",
   "name": "python",
   "nbconvert_exporter": "python",
   "pygments_lexer": "ipython3",
   "version": "3.6.1"
  }
 },
 "nbformat": 4,
 "nbformat_minor": 2
}
