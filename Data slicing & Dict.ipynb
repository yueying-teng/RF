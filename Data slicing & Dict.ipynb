{
 "cells": [
  {
   "cell_type": "markdown",
   "metadata": {
    "collapsed": true
   },
   "source": [
    "### Topics \n",
    "- array data types with numpy\n",
    "- more advanced data manipulation with pandas\n",
    "- Dict and Strings in Pyhton "
   ]
  },
  {
   "cell_type": "markdown",
   "metadata": {},
   "source": [
    "### Numpy Basics \n",
    "Numerical Python is a powerful library of functions, methods, and data types.\n",
    "The main object that numpy provides is the **ndarray**. They differ in a few fundamental ways from regular Python lists:\n",
    "- Arrays cannot be of mixed types. They can be all integers, floats, strings, logical (or boolean) values, or other immutable values. But they cannot be some characters, some numbers, or any other olio of data types. They also cannot contain mutable types such as lists. So, we can have a list of lists, but not an array of lists. We can, however, have an array of arrays (sortof). Which brings us to:\n",
    "\n",
    "- Arrays can be multidimensional, but they must be rectangular. You can have a list of lists, where the first interior list is 3 elements long, the second 5, and the third 12, but for your multidemsional arrays, every row must have the same number of columns.\n",
    "\n",
    "- We can perform vector operations on them, which can be algebraic functions (like a dot product), or simple replacements of values in a slice of the array."
   ]
  },
  {
   "cell_type": "markdown",
   "metadata": {},
   "source": [
    "### Initializing Arrays\n",
    "Start with a list and turn it to an arry with the array method "
   ]
  },
  {
   "cell_type": "code",
   "execution_count": 5,
   "metadata": {},
   "outputs": [
    {
     "name": "stdout",
     "output_type": "stream",
     "text": [
      "<class 'list'>\n",
      "<class 'numpy.ndarray'>\n",
      "[0 0 0 0 0 0 0 0 0 0 0 0 0 0 0 0 0 0 0 0 0 0 0 0 0 0 0 0 0 0 0 0 0 0 0 0 0\n",
      " 0 0 0]\n"
     ]
    }
   ],
   "source": [
    "import numpy as np\n",
    "\n",
    "a = [0] * 40\n",
    "print (type(a))\n",
    "\n",
    "a = np.array(a)\n",
    "print (type(a))\n",
    "print (a)"
   ]
  },
  {
   "cell_type": "markdown",
   "metadata": {},
   "source": [
    "a similar vector of zeros can be created by the following"
   ]
  },
  {
   "cell_type": "code",
   "execution_count": 8,
   "metadata": {},
   "outputs": [
    {
     "name": "stdout",
     "output_type": "stream",
     "text": [
      "[ 0.  0.  0.  0.  0.  0.  0.  0.  0.  0.  0.  0.  0.  0.  0.  0.  0.  0.\n",
      "  0.  0.  0.  0.  0.  0.  0.  0.  0.  0.  0.  0.  0.  0.  0.  0.  0.  0.\n",
      "  0.  0.  0.  0.]\n",
      "[ 1.  1.  1.  1.  1.]\n"
     ]
    }
   ],
   "source": [
    "a = np.zeros(40)\n",
    "print (a)\n",
    "print(np.ones(5))"
   ]
  },
  {
   "cell_type": "markdown",
   "metadata": {},
   "source": [
    "for some non zero arrays "
   ]
  },
  {
   "cell_type": "code",
   "execution_count": 10,
   "metadata": {},
   "outputs": [
    {
     "name": "stdout",
     "output_type": "stream",
     "text": [
      "[ 0  1  2  3  4  5  6  7  8  9 10 11 12 13]\n",
      "[10 11 12 13 14 15 16 17 18 19]\n",
      "[10 12 14 16 18]\n",
      "[ 10.   11.5  13.   14.5  16.   17.5  19. ]\n"
     ]
    }
   ],
   "source": [
    "print (np.arange(14))\n",
    "\n",
    "# more parameters could be given to arange\n",
    "print (np.arange(10, 20))  ## starting and stopping points \n",
    "\n",
    "print (np.arange(10, 20, 2))   ## starting, stopping points and increment \n",
    "print (np.arange(10, 20, 1.5))"
   ]
  },
  {
   "cell_type": "code",
   "execution_count": 14,
   "metadata": {},
   "outputs": [
    {
     "name": "stdout",
     "output_type": "stream",
     "text": [
      "[ 5.          5.11111111  5.22222222  5.33333333  5.44444444  5.55555556\n",
      "  5.66666667  5.77777778  5.88888889  6.        ]\n"
     ]
    }
   ],
   "source": [
    "# from 5 to 6 with 10 items, linear spacing \n",
    "print (np.linspace(5, 6, 10))"
   ]
  },
  {
   "cell_type": "code",
   "execution_count": 15,
   "metadata": {},
   "outputs": [
    {
     "name": "stdout",
     "output_type": "stream",
     "text": [
      "[  1.00000000e+00   3.59381366e+00   1.29154967e+01   4.64158883e+01\n",
      "   1.66810054e+02   5.99484250e+02   2.15443469e+03   7.74263683e+03\n",
      "   2.78255940e+04   1.00000000e+05]\n"
     ]
    }
   ],
   "source": [
    "# from 10^0 to 10^5, logarithmic spacing \n",
    "print (np.logspace(0, 5, 10))"
   ]
  },
  {
   "cell_type": "markdown",
   "metadata": {},
   "source": [
    "Arrays with more than one diemsion"
   ]
  },
  {
   "cell_type": "code",
   "execution_count": 16,
   "metadata": {},
   "outputs": [
    {
     "data": {
      "text/plain": [
       "array([[ 0.,  0.,  0.,  0.],\n",
       "       [ 0.,  0.,  0.,  0.],\n",
       "       [ 0.,  0.,  0.,  0.]])"
      ]
     },
     "execution_count": 16,
     "metadata": {},
     "output_type": "execute_result"
    }
   ],
   "source": [
    "# inner set of parantheses. (rows, columns)\n",
    "np.zeros ((3,4))"
   ]
  },
  {
   "cell_type": "code",
   "execution_count": 17,
   "metadata": {},
   "outputs": [
    {
     "data": {
      "text/plain": [
       "array([[ 1,  2,  3],\n",
       "       [ 3,  4,  5],\n",
       "       [ 8,  9, 10]])"
      ]
     },
     "execution_count": 17,
     "metadata": {},
     "output_type": "execute_result"
    }
   ],
   "source": [
    "# or create using python list of list \n",
    "a = [ [1,2,3], [3,4,5], [8,9,10] ]\n",
    "np.array(a)"
   ]
  },
  {
   "cell_type": "markdown",
   "metadata": {},
   "source": [
    "### Recap: creating numpy arrays\n",
    "- np.zeros: array of 0.0 of specified size\n",
    "- np.ones : array of 1.0 of specified size\n",
    "- np.array: create numpy array from python list\n",
    "- np.linspace : create a numpy array within a given interval with linear spacing"
   ]
  },
  {
   "cell_type": "markdown",
   "metadata": {},
   "source": [
    "### Accessing elements "
   ]
  },
  {
   "cell_type": "markdown",
   "metadata": {},
   "source": [
    "### 1d arrays"
   ]
  },
  {
   "cell_type": "markdown",
   "metadata": {},
   "source": [
    "for 1d arrays indexing are just like that of lists\n"
   ]
  },
  {
   "cell_type": "code",
   "execution_count": 30,
   "metadata": {},
   "outputs": [
    {
     "name": "stdout",
     "output_type": "stream",
     "text": [
      "[0 1 2 3 4 5 6 7 8 9]\n",
      "5\n"
     ]
    }
   ],
   "source": [
    "a = np.arange(10)\n",
    "print (a)\n",
    "print (a[5])"
   ]
  },
  {
   "cell_type": "code",
   "execution_count": 21,
   "metadata": {},
   "outputs": [
    {
     "name": "stdout",
     "output_type": "stream",
     "text": [
      "[0 1 2]\n",
      "9\n"
     ]
    }
   ],
   "source": [
    "# slicing conventions also work \n",
    "print (a[:3])\n",
    "print (a[-1])"
   ]
  },
  {
   "cell_type": "code",
   "execution_count": 25,
   "metadata": {},
   "outputs": [
    {
     "name": "stdout",
     "output_type": "stream",
     "text": [
      "[2 5 8]\n",
      "[2 5 8]\n",
      "<class 'numpy.ndarray'>\n"
     ]
    }
   ],
   "source": [
    "# could also index with a list or another numpy array \n",
    "a = np.array([2, 4, 5, 8, 10])  # this is array creation from list \n",
    "\n",
    "# items wanted with their location in a list \n",
    "local = [0, 2, 3]\n",
    "print (a[local])\n",
    "\n",
    "# also works if locations are stored in another array\n",
    "local = np.array(local)\n",
    "print (a[local])\n",
    "print (type(a[local]))"
   ]
  },
  {
   "cell_type": "markdown",
   "metadata": {},
   "source": [
    "** This (index into list using a list) DOES NOT work with normal python list**\n",
    "A COMPREHENSION or a LOOP is needed instead "
   ]
  },
  {
   "cell_type": "code",
   "execution_count": 28,
   "metadata": {},
   "outputs": [
    {
     "name": "stdout",
     "output_type": "stream",
     "text": [
      "[2, 5, 8]\n",
      "<class 'list'>\n"
     ]
    }
   ],
   "source": [
    "a = [2, 4, 5, 8, 10]\n",
    "local = [0, 2, 3]\n",
    "\n",
    "print ([a[i] for i in local])\n",
    "print (type([a[i] for i in local]))"
   ]
  },
  {
   "cell_type": "markdown",
   "metadata": {},
   "source": [
    "You can also index into an array with boolean values\n",
    "- must be the same length as the array (or else get a warning)\n",
    "- **doesn't work with regular python lists**"
   ]
  },
  {
   "cell_type": "code",
   "execution_count": 29,
   "metadata": {},
   "outputs": [
    {
     "data": {
      "text/plain": [
       "array([ 2,  4, 12])"
      ]
     },
     "execution_count": 29,
     "metadata": {},
     "output_type": "execute_result"
    }
   ],
   "source": [
    "a = np.array([2, 4, 6, 8, 10, 12])\n",
    "b = np.array([True, True, False, False, False, True])\n",
    "a[b]"
   ]
  },
  {
   "cell_type": "markdown",
   "metadata": {},
   "source": [
    "### 2d Array"
   ]
  },
  {
   "cell_type": "markdown",
   "metadata": {},
   "source": [
    "for 2d arrays the indexing is [row, column]"
   ]
  },
  {
   "cell_type": "code",
   "execution_count": 31,
   "metadata": {},
   "outputs": [
    {
     "data": {
      "text/plain": [
       "array([[ 1,  2,  3,  4,  5],\n",
       "       [ 2,  4,  6,  8, 10],\n",
       "       [ 3,  6,  9, 12, 15]])"
      ]
     },
     "execution_count": 31,
     "metadata": {},
     "output_type": "execute_result"
    }
   ],
   "source": [
    "a = np.array([[1, 2, 3, 4, 5], [2, 4, 6, 8, 10], [3, 6, 9, 12, 15]])\n",
    "a"
   ]
  },
  {
   "cell_type": "code",
   "execution_count": 32,
   "metadata": {},
   "outputs": [
    {
     "data": {
      "text/plain": [
       "15"
      ]
     },
     "execution_count": 32,
     "metadata": {},
     "output_type": "execute_result"
    }
   ],
   "source": [
    "a[2,4]   # sigle element"
   ]
  },
  {
   "cell_type": "code",
   "execution_count": 33,
   "metadata": {},
   "outputs": [
    {
     "data": {
      "text/plain": [
       "array([ 2,  4,  6,  8, 10])"
      ]
     },
     "execution_count": 33,
     "metadata": {},
     "output_type": "execute_result"
    }
   ],
   "source": [
    "a[1, :]   # entire row"
   ]
  },
  {
   "cell_type": "code",
   "execution_count": 34,
   "metadata": {},
   "outputs": [
    {
     "data": {
      "text/plain": [
       "array([3, 6, 9])"
      ]
     },
     "execution_count": 34,
     "metadata": {},
     "output_type": "execute_result"
    }
   ],
   "source": [
    "a[:, 2]   # entire column"
   ]
  },
  {
   "cell_type": "markdown",
   "metadata": {},
   "source": [
    "**Slicing and bools work as they did before. They are only on each axis now.**\n"
   ]
  },
  {
   "cell_type": "markdown",
   "metadata": {},
   "source": [
    "### Numpy array properties "
   ]
  },
  {
   "cell_type": "markdown",
   "metadata": {},
   "source": [
    "Numpy arrays have two important properties "
   ]
  },
  {
   "cell_type": "code",
   "execution_count": 35,
   "metadata": {},
   "outputs": [
    {
     "data": {
      "text/plain": [
       "array([[ 0.,  0.,  0.,  0.,  0.,  0.,  0.,  0.,  0.,  0.],\n",
       "       [ 0.,  0.,  0.,  0.,  0.,  0.,  0.,  0.,  0.,  0.],\n",
       "       [ 0.,  0.,  0.,  0.,  0.,  0.,  0.,  0.,  0.,  0.],\n",
       "       [ 0.,  0.,  0.,  0.,  0.,  0.,  0.,  0.,  0.,  0.],\n",
       "       [ 0.,  0.,  0.,  0.,  0.,  0.,  0.,  0.,  0.,  0.]])"
      ]
     },
     "execution_count": 35,
     "metadata": {},
     "output_type": "execute_result"
    }
   ],
   "source": [
    "a = np.zeros((5, 10))\n",
    "a"
   ]
  },
  {
   "cell_type": "code",
   "execution_count": 36,
   "metadata": {},
   "outputs": [
    {
     "data": {
      "text/plain": [
       "(5, 10)"
      ]
     },
     "execution_count": 36,
     "metadata": {},
     "output_type": "execute_result"
    }
   ],
   "source": [
    "a.shape"
   ]
  },
  {
   "cell_type": "code",
   "execution_count": 37,
   "metadata": {},
   "outputs": [
    {
     "data": {
      "text/plain": [
       "50"
      ]
     },
     "execution_count": 37,
     "metadata": {},
     "output_type": "execute_result"
    }
   ],
   "source": [
    "a.size "
   ]
  },
  {
   "cell_type": "code",
   "execution_count": 38,
   "metadata": {},
   "outputs": [
    {
     "data": {
      "text/plain": [
       "5"
      ]
     },
     "execution_count": 38,
     "metadata": {},
     "output_type": "execute_result"
    }
   ],
   "source": [
    "# only gives the length of the outer most dimension, which is the len of rows \n",
    "len(a)"
   ]
  },
  {
   "cell_type": "markdown",
   "metadata": {},
   "source": [
    "Every value in a numpy array must be the same type (unlike normal python lists) This is stored in the 'dtype' property\n"
   ]
  },
  {
   "cell_type": "code",
   "execution_count": 40,
   "metadata": {},
   "outputs": [
    {
     "data": {
      "text/plain": [
       "dtype('float64')"
      ]
     },
     "execution_count": 40,
     "metadata": {},
     "output_type": "execute_result"
    }
   ],
   "source": [
    "# numpy array type, type of an array is dtype \n",
    "a.dtype"
   ]
  },
  {
   "cell_type": "code",
   "execution_count": 41,
   "metadata": {},
   "outputs": [
    {
     "data": {
      "text/plain": [
       "numpy.float64"
      ]
     },
     "execution_count": 41,
     "metadata": {},
     "output_type": "execute_result"
    }
   ],
   "source": [
    "# type of a sigle entry \n",
    "type(a[0, 0])"
   ]
  },
  {
   "cell_type": "code",
   "execution_count": 44,
   "metadata": {},
   "outputs": [
    {
     "name": "stdout",
     "output_type": "stream",
     "text": [
      "int64\n",
      "float64\n"
     ]
    }
   ],
   "source": [
    "# arange makes it 'int64' by default \n",
    "a = np.arange(10)\n",
    "print (a.dtype)\n",
    "\n",
    "# this dtype can be changed otherwise as follows\n",
    "b = np.arange(10, dtype = 'float')\n",
    "print (b.dtype)"
   ]
  },
  {
   "cell_type": "code",
   "execution_count": 45,
   "metadata": {},
   "outputs": [
    {
     "data": {
      "text/plain": [
       "dtype('float64')"
      ]
     },
     "execution_count": 45,
     "metadata": {},
     "output_type": "execute_result"
    }
   ],
   "source": [
    "# could also cast from one to the other \n",
    "a = np.arange(10).astype('float')\n",
    "a.dtype"
   ]
  },
  {
   "cell_type": "markdown",
   "metadata": {},
   "source": [
    "### Operating on numpy arrays"
   ]
  },
  {
   "cell_type": "code",
   "execution_count": 52,
   "metadata": {
    "collapsed": true
   },
   "outputs": [],
   "source": [
    "a = np.zeros((5, 5))"
   ]
  },
  {
   "cell_type": "code",
   "execution_count": 53,
   "metadata": {},
   "outputs": [
    {
     "data": {
      "text/plain": [
       "array([[ 0.,  0.,  0.,  0.,  0.],\n",
       "       [ 0.,  0.,  0.,  7.,  0.],\n",
       "       [ 0.,  0.,  0.,  0.,  0.],\n",
       "       [ 0.,  0.,  0.,  0.,  0.],\n",
       "       [ 0.,  0.,  0.,  0.,  0.]])"
      ]
     },
     "execution_count": 53,
     "metadata": {},
     "output_type": "execute_result"
    }
   ],
   "source": [
    "# update the current element values in the multidimensional array\n",
    "a[1, 3] = 7\n",
    "a"
   ]
  },
  {
   "cell_type": "code",
   "execution_count": 54,
   "metadata": {},
   "outputs": [
    {
     "data": {
      "text/plain": [
       "array([[  0.,   0.,   0.,   0.,   0.],\n",
       "       [  0.,   0.,   0.,  14.,   0.],\n",
       "       [  0.,   0.,   0.,   0.,   0.],\n",
       "       [  0.,   0.,   0.,   0.,   0.],\n",
       "       [  0.,   0.,   0.,   0.,   0.]])"
      ]
     },
     "execution_count": 54,
     "metadata": {},
     "output_type": "execute_result"
    }
   ],
   "source": [
    "a[1, 3] *= 2\n",
    "a "
   ]
  },
  {
   "cell_type": "markdown",
   "metadata": {},
   "source": [
    "**The real power of arrays is the ability to have one statement affect a large chunk of an array.**"
   ]
  },
  {
   "cell_type": "code",
   "execution_count": 56,
   "metadata": {},
   "outputs": [
    {
     "data": {
      "text/plain": [
       "array([[ 0.,  0.,  0.,  0.,  0.],\n",
       "       [ 1.,  1.,  1.,  1.,  1.],\n",
       "       [ 0.,  0.,  0.,  0.,  0.],\n",
       "       [ 0.,  0.,  0.,  0.,  0.],\n",
       "       [ 0.,  0.,  0.,  0.,  0.]])"
      ]
     },
     "execution_count": 56,
     "metadata": {},
     "output_type": "execute_result"
    }
   ],
   "source": [
    "# assign '1' to the enire row 1\n",
    "a[1, :] = 1\n",
    "a "
   ]
  },
  {
   "cell_type": "code",
   "execution_count": 58,
   "metadata": {},
   "outputs": [
    {
     "data": {
      "text/plain": [
       "array([[ 0.,  0.,  0.,  7.,  0.],\n",
       "       [ 1.,  1.,  1.,  7.,  1.],\n",
       "       [ 0.,  0.,  0.,  7.,  0.],\n",
       "       [ 0.,  0.,  0.,  7.,  0.],\n",
       "       [ 0.,  0.,  0.,  7.,  0.]])"
      ]
     },
     "execution_count": 58,
     "metadata": {},
     "output_type": "execute_result"
    }
   ],
   "source": [
    "# assign '7' to the entire column 4\n",
    "a[:, 3] = 7\n",
    "a"
   ]
  },
  {
   "cell_type": "code",
   "execution_count": 59,
   "metadata": {},
   "outputs": [
    {
     "data": {
      "text/plain": [
       "array([[-1., -1., -1.,  7., -1.],\n",
       "       [ 1.,  1.,  1.,  7.,  1.],\n",
       "       [-1., -1., -1.,  7., -1.],\n",
       "       [-1., -1., -1.,  7., -1.],\n",
       "       [-1., -1., -1.,  7., -1.]])"
      ]
     },
     "execution_count": 59,
     "metadata": {},
     "output_type": "execute_result"
    }
   ],
   "source": [
    "# Assign -1 everywhere array is zero (this works because (a == 0) produces a 2d boolean numpy array)\n",
    "a[a == 0] = -1\n",
    "a"
   ]
  },
  {
   "cell_type": "markdown",
   "metadata": {},
   "source": [
    "If try to do the above using lists"
   ]
  },
  {
   "cell_type": "code",
   "execution_count": 66,
   "metadata": {},
   "outputs": [
    {
     "name": "stdout",
     "output_type": "stream",
     "text": [
      "[[0, 0, 0, 0, 0], [0, 0, 0, 0, 0], [0, 0, 0, 0, 0], [0, 0, 0, 0, 0], [0, 0, 0, 0, 0]]\n"
     ]
    }
   ],
   "source": [
    "# create list of lists with all zeros \n",
    "ll = [ [0] * 5 for i in range(5)]\n",
    "print (ll)"
   ]
  },
  {
   "cell_type": "code",
   "execution_count": 67,
   "metadata": {},
   "outputs": [
    {
     "data": {
      "text/plain": [
       "[[0, 0, 0, 0, 0],\n",
       " [1, 1, 1, 1, 1],\n",
       " [0, 0, 0, 0, 0],\n",
       " [0, 0, 0, 0, 0],\n",
       " [0, 0, 0, 0, 0]]"
      ]
     },
     "execution_count": 67,
     "metadata": {},
     "output_type": "execute_result"
    }
   ],
   "source": [
    "# set entries in row 1 to 1 \n",
    "for i, elem in enumerate(ll[1]):\n",
    "    \n",
    "    \"\"\"\n",
    "   enumerate(iterable[, start]) -> iterator for index, value of iterable\n",
    "   \n",
    "   Return an enumerate object.  \n",
    "   iterable must be another object that supports iteration.  \n",
    "   The enumerate object yields pairs containing a count (from start, which defaults to zero) \n",
    "   and a value yielded by the iterable argument.\n",
    "   enumerate is useful for obtaining an indexed list:\n",
    "       (0, seq[0]), (1, seq[1]), (2, seq[2]), ...\n",
    " \n",
    "   \"\"\"\n",
    "    ll[1][i] = 1\n",
    "    \n",
    "ll"
   ]
  },
  {
   "cell_type": "code",
   "execution_count": 79,
   "metadata": {},
   "outputs": [
    {
     "name": "stdout",
     "output_type": "stream",
     "text": [
      "[[0, 0, 0, 0, 0]]\n",
      "[1, 1, 1, 1, 1]\n"
     ]
    }
   ],
   "source": [
    "# list indices must be integers or slices, not tuple\n",
    "print (ll[:1])\n",
    "\n",
    "print (ll[1])"
   ]
  },
  {
   "cell_type": "code",
   "execution_count": 82,
   "metadata": {},
   "outputs": [
    {
     "name": "stdout",
     "output_type": "stream",
     "text": [
      "0 1\n",
      "1 1\n",
      "2 1\n",
      "3 1\n",
      "4 1\n"
     ]
    }
   ],
   "source": [
    "for i, elem in enumerate(ll[1]):\n",
    "    print(i, elem)"
   ]
  },
  {
   "cell_type": "code",
   "execution_count": 63,
   "metadata": {},
   "outputs": [
    {
     "data": {
      "text/plain": [
       "[[0, 0, 0, 0, 7],\n",
       " [1, 1, 1, 1, 7],\n",
       " [0, 0, 0, 0, 7],\n",
       " [0, 0, 0, 0, 7],\n",
       " [0, 0, 0, 0, 7]]"
      ]
     },
     "execution_count": 63,
     "metadata": {},
     "output_type": "execute_result"
    }
   ],
   "source": [
    "# set entries in column 4 to 7\n",
    "for l in ll:\n",
    "    l[4]= 7\n",
    "ll"
   ]
  },
  {
   "cell_type": "markdown",
   "metadata": {},
   "source": [
    "### Vector math with arrays "
   ]
  },
  {
   "cell_type": "markdown",
   "metadata": {},
   "source": [
    "do math on many values at once with arrays without using for loop"
   ]
  },
  {
   "cell_type": "code",
   "execution_count": 83,
   "metadata": {},
   "outputs": [
    {
     "name": "stdout",
     "output_type": "stream",
     "text": [
      "[ 0  2  4  6  8 10 12 14 16 18 20 22 24 26 28 30 32 34 36 38 40 42 44 46 48\n",
      " 50 52 54 56 58 60 62 64 66 68 70 72 74 76 78 80 82 84 86 88 90 92 94 96 98]\n",
      "[ 0  1  2  3  4  5  6  7  8  9 10 11 12 13 14 15 16 17 18 19 20 21 22 23 24\n",
      " 25 26 27 28 29 30 31 32 33 34 35 36 37 38 39 40 41 42 43 44 45 46 47 48 49]\n"
     ]
    }
   ],
   "source": [
    "a = np.arange(0, 100, 2)\n",
    "b = np.arange(50)\n",
    "\n",
    "print (a)\n",
    "print (b)"
   ]
  },
  {
   "cell_type": "code",
   "execution_count": 84,
   "metadata": {},
   "outputs": [
    {
     "data": {
      "text/plain": [
       "array([  0. ,   0.5,   1. ,   1.5,   2. ,   2.5,   3. ,   3.5,   4. ,\n",
       "         4.5,   5. ,   5.5,   6. ,   6.5,   7. ,   7.5,   8. ,   8.5,\n",
       "         9. ,   9.5,  10. ,  10.5,  11. ,  11.5,  12. ,  12.5,  13. ,\n",
       "        13.5,  14. ,  14.5,  15. ,  15.5,  16. ,  16.5,  17. ,  17.5,\n",
       "        18. ,  18.5,  19. ,  19.5,  20. ,  20.5,  21. ,  21.5,  22. ,\n",
       "        22.5,  23. ,  23.5,  24. ,  24.5])"
      ]
     },
     "execution_count": 84,
     "metadata": {},
     "output_type": "execute_result"
    }
   ],
   "source": [
    "b/ 2"
   ]
  },
  {
   "cell_type": "code",
   "execution_count": 86,
   "metadata": {},
   "outputs": [
    {
     "name": "stdout",
     "output_type": "stream",
     "text": [
      "[   0    2    8   18   32   50   72   98  128  162  200  242  288  338  392\n",
      "  450  512  578  648  722  800  882  968 1058 1152 1250 1352 1458 1568 1682\n",
      " 1800 1922 2048 2178 2312 2450 2592 2738 2888 3042 3200 3362 3528 3698 3872\n",
      " 4050 4232 4418 4608 4802]\n"
     ]
    },
    {
     "data": {
      "text/plain": [
       "80850"
      ]
     },
     "execution_count": 86,
     "metadata": {},
     "output_type": "execute_result"
    }
   ],
   "source": [
    "# pairwise multiplication \n",
    "print(a * b) \n",
    "\n",
    "# dot product \n",
    "np.dot(a, b)"
   ]
  },
  {
   "cell_type": "code",
   "execution_count": 87,
   "metadata": {},
   "outputs": [
    {
     "name": "stdout",
     "output_type": "stream",
     "text": [
      "80850\n",
      "80850\n"
     ]
    }
   ],
   "source": [
    "print ((a * b).sum())\n",
    "\n",
    "print (np.sum(a * b))"
   ]
  },
  {
   "cell_type": "code",
   "execution_count": 88,
   "metadata": {},
   "outputs": [
    {
     "data": {
      "text/plain": [
       "array([ -1.22464680e-16,  -6.42787610e-01,  -9.84807753e-01,\n",
       "        -8.66025404e-01,  -3.42020143e-01,   3.42020143e-01,\n",
       "         8.66025404e-01,   9.84807753e-01,   6.42787610e-01,\n",
       "         1.22464680e-16])"
      ]
     },
     "execution_count": 88,
     "metadata": {},
     "output_type": "execute_result"
    }
   ],
   "source": [
    "# other math function which applies to all the elements\n",
    "a = np.linspace(-np.pi, np.pi, 10)\n",
    "np.sin(a)"
   ]
  },
  {
   "cell_type": "markdown",
   "metadata": {},
   "source": [
    "Also:\n",
    "- np.exp : exponential function\n",
    "- np.log : logarithm\n",
    "- np.abs : absolute value\n",
    "- ... and many others"
   ]
  },
  {
   "cell_type": "markdown",
   "metadata": {},
   "source": [
    "### Useful numpy functions\n",
    "NumPy is huge, with around 1200 pages of reference documentation. The following are some basic statistical functions:"
   ]
  },
  {
   "cell_type": "markdown",
   "metadata": {},
   "source": [
    "### Random distributions \n",
    "- uniform distribution\n",
    "- normal distribution "
   ]
  },
  {
   "cell_type": "code",
   "execution_count": 89,
   "metadata": {},
   "outputs": [
    {
     "data": {
      "text/plain": [
       "array([ 92.47768987,  55.66739508,  81.39816102,  41.21994641,\n",
       "        94.32882325,  35.04759045,  91.5061206 ,  69.43786929,\n",
       "        55.28103639,  14.65728916])"
      ]
     },
     "execution_count": 89,
     "metadata": {},
     "output_type": "execute_result"
    }
   ],
   "source": [
    "a = np.random.uniform(0, 100, 10)   # lower, upper bound and size of output\n",
    "a"
   ]
  },
  {
   "cell_type": "code",
   "execution_count": 90,
   "metadata": {},
   "outputs": [
    {
     "data": {
      "text/plain": [
       "array([[ 30.53575893,  14.9305635 ,  62.77591512],\n",
       "       [ 92.42281326,  17.23172521,  93.17119396],\n",
       "       [ 67.1859455 ,   0.22656211,   8.54016835]])"
      ]
     },
     "execution_count": 90,
     "metadata": {},
     "output_type": "execute_result"
    }
   ],
   "source": [
    "# could also give a shape to the third argument \n",
    "a = np.random.uniform(0, 100, (3, 3))\n",
    "a"
   ]
  },
  {
   "cell_type": "code",
   "execution_count": 91,
   "metadata": {},
   "outputs": [
    {
     "data": {
      "text/plain": [
       "array([-0.99089343,  0.49238631, -0.2529982 , -0.12834274, -1.0440051 ,\n",
       "       -0.35750895,  0.51206632, -0.40534158,  0.10268209,  0.99130447])"
      ]
     },
     "execution_count": 91,
     "metadata": {},
     "output_type": "execute_result"
    }
   ],
   "source": [
    "# normal distribution with mean = 0, std = 1 and sample size= 10\n",
    "a = np.random.normal(0, 1, 10)\n",
    "a\n"
   ]
  },
  {
   "cell_type": "markdown",
   "metadata": {},
   "source": [
    "### Summary statistics "
   ]
  },
  {
   "cell_type": "code",
   "execution_count": 92,
   "metadata": {},
   "outputs": [
    {
     "name": "stdout",
     "output_type": "stream",
     "text": [
      "5.2111643091\n",
      "3.08882647628\n",
      "-4.34183503261\n",
      "14.2378638305\n"
     ]
    }
   ],
   "source": [
    "# draw 1000 sample from standard normal distribution with mean 5 and std 3 \n",
    "a = np.random.normal(5, 3, 1000)\n",
    "\n",
    "print (np.mean(a))\n",
    "print (np.std(a))\n",
    "print (np.min(a))\n",
    "print (np.max(a))"
   ]
  },
  {
   "cell_type": "markdown",
   "metadata": {},
   "source": [
    "### Operating on 2d arrays \n",
    "one of the areas where numpy really shines is its ability to quickly operate along an axis of a 2d array"
   ]
  },
  {
   "cell_type": "code",
   "execution_count": 93,
   "metadata": {},
   "outputs": [
    {
     "data": {
      "text/plain": [
       "array([[ 1.,  1.,  1.],\n",
       "       [ 1.,  1.,  1.],\n",
       "       [ 1.,  1.,  1.],\n",
       "       [ 1.,  1.,  1.],\n",
       "       [ 1.,  1.,  1.]])"
      ]
     },
     "execution_count": 93,
     "metadata": {},
     "output_type": "execute_result"
    }
   ],
   "source": [
    "# 2d arary with 5 rows, 3 columns \n",
    "a = np.ones ((5, 3)) \n",
    "a"
   ]
  },
  {
   "cell_type": "code",
   "execution_count": 94,
   "metadata": {},
   "outputs": [
    {
     "data": {
      "text/plain": [
       "array([ 5.,  5.,  5.])"
      ]
     },
     "execution_count": 94,
     "metadata": {},
     "output_type": "execute_result"
    }
   ],
   "source": [
    "# sum over all elements \n",
    "sum(a)"
   ]
  },
  {
   "cell_type": "code",
   "execution_count": 96,
   "metadata": {},
   "outputs": [
    {
     "data": {
      "text/plain": [
       "array([ 5.,  5.,  5.])"
      ]
     },
     "execution_count": 96,
     "metadata": {},
     "output_type": "execute_result"
    }
   ],
   "source": [
    "# sum across all rows \n",
    "np.sum(a, axis = 0)\n",
    "\n",
    "# which is the same as \n",
    "a.sum(axis = 0 )"
   ]
  },
  {
   "cell_type": "code",
   "execution_count": 97,
   "metadata": {},
   "outputs": [
    {
     "data": {
      "text/plain": [
       "array([ 3.,  3.,  3.,  3.,  3.])"
      ]
     },
     "execution_count": 97,
     "metadata": {},
     "output_type": "execute_result"
    }
   ],
   "source": [
    "# sum across all columns \n",
    "np.sum(a, axis = 1)"
   ]
  },
  {
   "cell_type": "markdown",
   "metadata": {},
   "source": [
    "### Boolean numpy arrays for selection and filtering "
   ]
  },
  {
   "cell_type": "code",
   "execution_count": 98,
   "metadata": {},
   "outputs": [
    {
     "data": {
      "text/plain": [
       "array([False, False, False, False, False, False, False, False, False, False], dtype=bool)"
      ]
     },
     "execution_count": 98,
     "metadata": {},
     "output_type": "execute_result"
    }
   ],
   "source": [
    "a = np.zeros(10, dtype = bool)\n",
    "a"
   ]
  },
  {
   "cell_type": "code",
   "execution_count": 99,
   "metadata": {},
   "outputs": [
    {
     "data": {
      "text/plain": [
       "array([False, False,  True,  True,  True, False, False, False, False, False], dtype=bool)"
      ]
     },
     "execution_count": 99,
     "metadata": {},
     "output_type": "execute_result"
    }
   ],
   "source": [
    "# slicing and mass assignment still work for array with BOOLEAN type \n",
    "a[2: 5] = True \n",
    "a"
   ]
  },
  {
   "cell_type": "code",
   "execution_count": 100,
   "metadata": {},
   "outputs": [
    {
     "data": {
      "text/plain": [
       "array([ True,  True, False, False, False,  True,  True,  True,  True,  True], dtype=bool)"
      ]
     },
     "execution_count": 100,
     "metadata": {},
     "output_type": "execute_result"
    }
   ],
   "source": [
    "# the character ~ inverts the boolean array\n",
    "b = ~a\n",
    "b"
   ]
  },
  {
   "cell_type": "code",
   "execution_count": 101,
   "metadata": {},
   "outputs": [
    {
     "name": "stdout",
     "output_type": "stream",
     "text": [
      " A and B is [False False  True]\n",
      " A or B is [ True False  True]\n"
     ]
    }
   ],
   "source": [
    "# \"&\" amd \"|\"\n",
    "a = np.array([True, False, True])\n",
    "b = np.array([False, False, True])\n",
    "\n",
    "print (\" A and B is {}\". format (a & b))\n",
    "print (\" A or B is {}\". format (a | b))"
   ]
  },
  {
   "cell_type": "code",
   "execution_count": 102,
   "metadata": {},
   "outputs": [
    {
     "data": {
      "text/plain": [
       "array([-0.32709702, -0.72586373, -0.06293976,  0.9014897 , -0.38309493,\n",
       "       -0.22420609, -0.87452063,  0.73498385,  0.47888074,  0.29893285])"
      ]
     },
     "execution_count": 102,
     "metadata": {},
     "output_type": "execute_result"
    }
   ],
   "source": [
    "# boolean array and data accessing example\n",
    "\n",
    "# np.random.randn returns a sample (or samples) from the “standard normal” distribution.\n",
    "data = np.random.randn(10)\n",
    "data "
   ]
  },
  {
   "cell_type": "code",
   "execution_count": 104,
   "metadata": {},
   "outputs": [
    {
     "data": {
      "text/plain": [
       "array([-0.32709702, -0.72586373, -0.06293976, -0.38309493, -0.22420609,\n",
       "       -0.87452063])"
      ]
     },
     "execution_count": 104,
     "metadata": {},
     "output_type": "execute_result"
    }
   ],
   "source": [
    "data = data[data < 0]\n",
    "data "
   ]
  },
  {
   "cell_type": "code",
   "execution_count": 124,
   "metadata": {},
   "outputs": [
    {
     "name": "stdout",
     "output_type": "stream",
     "text": [
      "<class 'numpy.ndarray'>\n"
     ]
    },
    {
     "data": {
      "text/plain": [
       "array([[  7.72212061e+00,   3.32878843e+00,   4.26967922e+00,\n",
       "          4.24869577e+00,   7.08036316e+00],\n",
       "       [  6.80014456e+00,   2.58262997e+00,   9.88908151e+00,\n",
       "          4.35020049e+00,   6.93051621e+00],\n",
       "       [  7.00247033e+00,   9.05154777e+00,   5.79075262e+00,\n",
       "          8.11815066e+00,   4.50701992e-02],\n",
       "       [  4.54546024e+00,   9.14537478e+00,   8.86582688e+00,\n",
       "          6.88032997e+00,   3.59784621e-04]])"
      ]
     },
     "execution_count": 124,
     "metadata": {},
     "output_type": "execute_result"
    }
   ],
   "source": [
    "# np.random.rand creates an array of the given shape and populate it with random samples from a uniform distribution over [0, 1).\n",
    "data = np.random.rand(4, 5) * 10\n",
    "print (type (data))\n",
    "data \n"
   ]
  },
  {
   "cell_type": "code",
   "execution_count": 113,
   "metadata": {},
   "outputs": [
    {
     "data": {
      "text/plain": [
       "array([ 3.45422862,  4.6599894 ,  6.24009515,  6.59614927,  4.3316211 ])"
      ]
     },
     "execution_count": 113,
     "metadata": {},
     "output_type": "execute_result"
    }
   ],
   "source": [
    "# mean of each row \n",
    "np.mean(data, axis = 1)"
   ]
  },
  {
   "cell_type": "code",
   "execution_count": 126,
   "metadata": {},
   "outputs": [
    {
     "data": {
      "text/plain": [
       "array([[  7.72212061e+00,   3.32878843e+00,   4.26967922e+00,\n",
       "          4.24869577e+00,   7.08036316e+00],\n",
       "       [  6.80014456e+00,   2.58262997e+00,   9.88908151e+00,\n",
       "          4.35020049e+00,   6.93051621e+00],\n",
       "       [  7.00247033e+00,   9.05154777e+00,   5.79075262e+00,\n",
       "          8.11815066e+00,   4.50701992e-02],\n",
       "       [  4.54546024e+00,   9.14537478e+00,   8.86582688e+00,\n",
       "          6.88032997e+00,   3.59784621e-04]])"
      ]
     },
     "execution_count": 126,
     "metadata": {},
     "output_type": "execute_result"
    }
   ],
   "source": [
    "# Give me a subset of the data matrix, containing only rows with a mean > 5 and the second column < 4 \n",
    "\n",
    "data[np.mean(data, axis = 1) > 5, :]\n"
   ]
  },
  {
   "cell_type": "code",
   "execution_count": null,
   "metadata": {
    "collapsed": true
   },
   "outputs": [],
   "source": []
  },
  {
   "cell_type": "markdown",
   "metadata": {},
   "source": [
    "### Why Numpy?\n",
    "- Avoid writing loops (don't re-invent the wheel)\n",
    "- Most other python data libraries work on top of numpy\n",
    "Efficient Computation\n",
    "- Regarding the second point, numpy is useful because operations using it are many times faster than their pure Python implementations. This is because numpy processes arrays using code written in 'low-level' languages like C or Fortran. These languages are much more tedious to write programs in, but run much faster than a 'high-level' language like Python. However, by using Python to call functions written by other people in low-level languages, you can get the best of both worlds.\n"
   ]
  },
  {
   "cell_type": "markdown",
   "metadata": {},
   "source": [
    "### Quick performance comparison "
   ]
  },
  {
   "cell_type": "code",
   "execution_count": 145,
   "metadata": {
    "collapsed": true
   },
   "outputs": [],
   "source": [
    "# create a 1000 x 1000, list of lists (2d matrix)\n",
    "n_row = 1000\n",
    "n_col = 1000\n",
    "\n",
    "python_matrix = [[1] * n_col for i in range(n_row)]"
   ]
  },
  {
   "cell_type": "code",
   "execution_count": 146,
   "metadata": {},
   "outputs": [
    {
     "name": "stdout",
     "output_type": "stream",
     "text": [
      "138 ms ± 10.4 ms per loop (mean ± std. dev. of 7 runs, 10 loops each)\n"
     ]
    }
   ],
   "source": [
    "%%timeit\n",
    "# ass 1 to every entry in the matix\n",
    "for i in range(n_row):\n",
    "    for j in range(n_col):\n",
    "        python_matrix [i][j] += 1"
   ]
  },
  {
   "cell_type": "code",
   "execution_count": 147,
   "metadata": {},
   "outputs": [
    {
     "name": "stdout",
     "output_type": "stream",
     "text": [
      "49 ms ± 332 µs per loop (mean ± std. dev. of 7 runs, 10 loops each)\n"
     ]
    }
   ],
   "source": [
    "%%timeit \n",
    "# list comprehensions \n",
    "results = [[x + 1 for x in row] for row in python_matrix]"
   ]
  },
  {
   "cell_type": "code",
   "execution_count": 149,
   "metadata": {},
   "outputs": [
    {
     "name": "stdout",
     "output_type": "stream",
     "text": [
      "3.72 ms ± 268 µs per loop (mean ± std. dev. of 7 runs, 100 loops each)\n"
     ]
    }
   ],
   "source": [
    "%%timeit\n",
    "numpy_matrix = np.zeros ((1000, 1000))\n",
    "numpy_matrix += 1"
   ]
  },
  {
   "cell_type": "markdown",
   "metadata": {},
   "source": [
    "### Introduction to pandas \n",
    "The main object in Pandas you will use is the DataFrame. It has several advantages over numpy ndarrays:\n",
    "- Allows mixed-types\n",
    "- Label-based row-column indices\n",
    "- Easy database-like operations (merge, join, groupby, sort, etc...)\n",
    "If pandas is so great, why'd we just learn about numpy?\n",
    "- many of the same thigns work on numpy dataframes and pandas arrays\n",
    "- pandas actually uses numpy under the hood\n",
    "- many libraries expect numpy arrays (but easy to cast from pandas to numpy)\n"
   ]
  },
  {
   "cell_type": "code",
   "execution_count": 150,
   "metadata": {
    "collapsed": true
   },
   "outputs": [],
   "source": [
    "import pandas as pd"
   ]
  },
  {
   "cell_type": "code",
   "execution_count": 153,
   "metadata": {
    "collapsed": true
   },
   "outputs": [],
   "source": [
    "# Read in data from a tab-delimited text-file\n",
    "planes = pd.read_table(\"nycflights13/planes.txt\")"
   ]
  },
  {
   "cell_type": "code",
   "execution_count": 155,
   "metadata": {},
   "outputs": [
    {
     "data": {
      "text/plain": [
       "Index(['tailnum', 'year', 'type', 'manufacturer', 'model', 'engines', 'seats',\n",
       "       'speed', 'engine'],\n",
       "      dtype='object')"
      ]
     },
     "execution_count": 155,
     "metadata": {},
     "output_type": "execute_result"
    }
   ],
   "source": [
    "# columns \n",
    "planes.columns"
   ]
  },
  {
   "cell_type": "code",
   "execution_count": 169,
   "metadata": {},
   "outputs": [
    {
     "name": "stdout",
     "output_type": "stream",
     "text": [
      "RangeIndex(start=0, stop=3322, step=1)\n"
     ]
    }
   ],
   "source": [
    "# row index \n",
    "print (planes.index)"
   ]
  },
  {
   "cell_type": "markdown",
   "metadata": {},
   "source": [
    "There are three important types that are used by DataFrames:\n",
    "- DataFrame\n",
    "- Series\n",
    "- Index"
   ]
  },
  {
   "cell_type": "markdown",
   "metadata": {},
   "source": [
    "### Series \n",
    "**one-dimensional** - represents a single columns or row of data. only has one index"
   ]
  },
  {
   "cell_type": "markdown",
   "metadata": {},
   "source": [
    "### DataFrame \n",
    "**two-dimensional** has both row and column labels "
   ]
  },
  {
   "cell_type": "markdown",
   "metadata": {},
   "source": [
    "### Index\n",
    "represents the row or column labels in Series and DataFrame "
   ]
  },
  {
   "cell_type": "code",
   "execution_count": 162,
   "metadata": {},
   "outputs": [
    {
     "data": {
      "text/html": [
       "<div>\n",
       "<style>\n",
       "    .dataframe thead tr:only-child th {\n",
       "        text-align: right;\n",
       "    }\n",
       "\n",
       "    .dataframe thead th {\n",
       "        text-align: left;\n",
       "    }\n",
       "\n",
       "    .dataframe tbody tr th {\n",
       "        vertical-align: top;\n",
       "    }\n",
       "</style>\n",
       "<table border=\"1\" class=\"dataframe\">\n",
       "  <thead>\n",
       "    <tr style=\"text-align: right;\">\n",
       "      <th></th>\n",
       "      <th>tailnum</th>\n",
       "      <th>year</th>\n",
       "      <th>type</th>\n",
       "      <th>manufacturer</th>\n",
       "      <th>model</th>\n",
       "      <th>engines</th>\n",
       "      <th>seats</th>\n",
       "      <th>speed</th>\n",
       "      <th>engine</th>\n",
       "    </tr>\n",
       "  </thead>\n",
       "  <tbody>\n",
       "    <tr>\n",
       "      <th>0</th>\n",
       "      <td>N10156</td>\n",
       "      <td>2004.0</td>\n",
       "      <td>Fixed wing multi engine</td>\n",
       "      <td>EMBRAER</td>\n",
       "      <td>EMB-145XR</td>\n",
       "      <td>2</td>\n",
       "      <td>55</td>\n",
       "      <td>NaN</td>\n",
       "      <td>Turbo-fan</td>\n",
       "    </tr>\n",
       "    <tr>\n",
       "      <th>1</th>\n",
       "      <td>N102UW</td>\n",
       "      <td>1998.0</td>\n",
       "      <td>Fixed wing multi engine</td>\n",
       "      <td>AIRBUS INDUSTRIE</td>\n",
       "      <td>A320-214</td>\n",
       "      <td>2</td>\n",
       "      <td>182</td>\n",
       "      <td>NaN</td>\n",
       "      <td>Turbo-fan</td>\n",
       "    </tr>\n",
       "    <tr>\n",
       "      <th>2</th>\n",
       "      <td>N103US</td>\n",
       "      <td>1999.0</td>\n",
       "      <td>Fixed wing multi engine</td>\n",
       "      <td>AIRBUS INDUSTRIE</td>\n",
       "      <td>A320-214</td>\n",
       "      <td>2</td>\n",
       "      <td>182</td>\n",
       "      <td>NaN</td>\n",
       "      <td>Turbo-fan</td>\n",
       "    </tr>\n",
       "    <tr>\n",
       "      <th>3</th>\n",
       "      <td>N104UW</td>\n",
       "      <td>1999.0</td>\n",
       "      <td>Fixed wing multi engine</td>\n",
       "      <td>AIRBUS INDUSTRIE</td>\n",
       "      <td>A320-214</td>\n",
       "      <td>2</td>\n",
       "      <td>182</td>\n",
       "      <td>NaN</td>\n",
       "      <td>Turbo-fan</td>\n",
       "    </tr>\n",
       "    <tr>\n",
       "      <th>4</th>\n",
       "      <td>N10575</td>\n",
       "      <td>2002.0</td>\n",
       "      <td>Fixed wing multi engine</td>\n",
       "      <td>EMBRAER</td>\n",
       "      <td>EMB-145LR</td>\n",
       "      <td>2</td>\n",
       "      <td>55</td>\n",
       "      <td>NaN</td>\n",
       "      <td>Turbo-fan</td>\n",
       "    </tr>\n",
       "  </tbody>\n",
       "</table>\n",
       "</div>"
      ],
      "text/plain": [
       "  tailnum    year                     type      manufacturer      model  \\\n",
       "0  N10156  2004.0  Fixed wing multi engine           EMBRAER  EMB-145XR   \n",
       "1  N102UW  1998.0  Fixed wing multi engine  AIRBUS INDUSTRIE   A320-214   \n",
       "2  N103US  1999.0  Fixed wing multi engine  AIRBUS INDUSTRIE   A320-214   \n",
       "3  N104UW  1999.0  Fixed wing multi engine  AIRBUS INDUSTRIE   A320-214   \n",
       "4  N10575  2002.0  Fixed wing multi engine           EMBRAER  EMB-145LR   \n",
       "\n",
       "   engines  seats  speed     engine  \n",
       "0        2     55    NaN  Turbo-fan  \n",
       "1        2    182    NaN  Turbo-fan  \n",
       "2        2    182    NaN  Turbo-fan  \n",
       "3        2    182    NaN  Turbo-fan  \n",
       "4        2     55    NaN  Turbo-fan  "
      ]
     },
     "execution_count": 162,
     "metadata": {},
     "output_type": "execute_result"
    }
   ],
   "source": [
    "planes.head()"
   ]
  },
  {
   "cell_type": "code",
   "execution_count": 170,
   "metadata": {},
   "outputs": [
    {
     "name": "stdout",
     "output_type": "stream",
     "text": [
      "<class 'pandas.core.indexes.base.Index'>\n",
      "<class 'pandas.core.indexes.range.RangeIndex'>\n",
      "<class 'pandas.core.series.Series'>\n",
      "<class 'pandas.core.series.Series'>\n"
     ]
    }
   ],
   "source": [
    "print (type(planes.columns))\n",
    "print (type(planes.index))\n",
    "\n",
    "# one single row or column is a series \n",
    "print (type (planes.iloc[0]))  # row \n",
    "print (type(planes['year']))   # column"
   ]
  },
  {
   "cell_type": "markdown",
   "metadata": {},
   "source": [
    "### DataFrame Indexing\n",
    "- To grab a single column, use: dataframe[column_name]\n",
    "- To grab a row, use: dataframe.loc[row_name]\n",
    "- And to grab a specific element use: dataframe.loc[row_name, column_name]\n",
    "- If you want to grab rows or column based on their position, use: dataframe.iloc[row_number or :, column_number or :]"
   ]
  },
  {
   "cell_type": "code",
   "execution_count": 175,
   "metadata": {},
   "outputs": [
    {
     "name": "stdout",
     "output_type": "stream",
     "text": [
      "<class 'pandas.core.series.Series'>\n"
     ]
    }
   ],
   "source": [
    "# when a single column is sliced, a series is created with index the same as the DateFrame's index\n",
    "print (type(planes['manufacturer']))"
   ]
  },
  {
   "cell_type": "code",
   "execution_count": 181,
   "metadata": {},
   "outputs": [
    {
     "name": "stdout",
     "output_type": "stream",
     "text": [
      "<class 'pandas.core.series.Series'>\n"
     ]
    }
   ],
   "source": [
    "# when a single row is sliced, its own index is the same as the columns' of the DataFrame\n",
    "\n",
    "rowthree = planes.loc[3]\n",
    "print (type(rowthree))     # this sliced row is also a series"
   ]
  },
  {
   "cell_type": "markdown",
   "metadata": {},
   "source": [
    "### For flights table "
   ]
  },
  {
   "cell_type": "code",
   "execution_count": 182,
   "metadata": {
    "collapsed": true
   },
   "outputs": [],
   "source": [
    "flights = pd.read_table(\"nycflights13/flights.txt\")"
   ]
  },
  {
   "cell_type": "code",
   "execution_count": 183,
   "metadata": {},
   "outputs": [
    {
     "data": {
      "text/html": [
       "<div>\n",
       "<style>\n",
       "    .dataframe thead tr:only-child th {\n",
       "        text-align: right;\n",
       "    }\n",
       "\n",
       "    .dataframe thead th {\n",
       "        text-align: left;\n",
       "    }\n",
       "\n",
       "    .dataframe tbody tr th {\n",
       "        vertical-align: top;\n",
       "    }\n",
       "</style>\n",
       "<table border=\"1\" class=\"dataframe\">\n",
       "  <thead>\n",
       "    <tr style=\"text-align: right;\">\n",
       "      <th></th>\n",
       "      <th>year</th>\n",
       "      <th>month</th>\n",
       "      <th>day</th>\n",
       "      <th>dep_time</th>\n",
       "      <th>sched_dep_time</th>\n",
       "      <th>dep_delay</th>\n",
       "      <th>arr_time</th>\n",
       "      <th>sched_arr_time</th>\n",
       "      <th>arr_delay</th>\n",
       "      <th>carrier</th>\n",
       "      <th>flight</th>\n",
       "      <th>tailnum</th>\n",
       "      <th>origin</th>\n",
       "      <th>dest</th>\n",
       "      <th>air_time</th>\n",
       "      <th>distance</th>\n",
       "      <th>hour</th>\n",
       "      <th>minute</th>\n",
       "      <th>time_hour</th>\n",
       "    </tr>\n",
       "  </thead>\n",
       "  <tbody>\n",
       "    <tr>\n",
       "      <th>27631</th>\n",
       "      <td>2013</td>\n",
       "      <td>10</td>\n",
       "      <td>1</td>\n",
       "      <td>1559.0</td>\n",
       "      <td>1600</td>\n",
       "      <td>-1.0</td>\n",
       "      <td>1833.0</td>\n",
       "      <td>1905</td>\n",
       "      <td>-32.0</td>\n",
       "      <td>AA</td>\n",
       "      <td>1156</td>\n",
       "      <td>N3DWAA</td>\n",
       "      <td>LGA</td>\n",
       "      <td>DFW</td>\n",
       "      <td>178.0</td>\n",
       "      <td>1389</td>\n",
       "      <td>16</td>\n",
       "      <td>0</td>\n",
       "      <td>2013-10-01 16:00:00</td>\n",
       "    </tr>\n",
       "    <tr>\n",
       "      <th>198435</th>\n",
       "      <td>2013</td>\n",
       "      <td>5</td>\n",
       "      <td>6</td>\n",
       "      <td>1305.0</td>\n",
       "      <td>1250</td>\n",
       "      <td>15.0</td>\n",
       "      <td>1540.0</td>\n",
       "      <td>1535</td>\n",
       "      <td>5.0</td>\n",
       "      <td>WN</td>\n",
       "      <td>1791</td>\n",
       "      <td>N746SW</td>\n",
       "      <td>EWR</td>\n",
       "      <td>HOU</td>\n",
       "      <td>195.0</td>\n",
       "      <td>1411</td>\n",
       "      <td>12</td>\n",
       "      <td>50</td>\n",
       "      <td>2013-05-06 12:00:00</td>\n",
       "    </tr>\n",
       "    <tr>\n",
       "      <th>176379</th>\n",
       "      <td>2013</td>\n",
       "      <td>4</td>\n",
       "      <td>12</td>\n",
       "      <td>1954.0</td>\n",
       "      <td>1935</td>\n",
       "      <td>19.0</td>\n",
       "      <td>2340.0</td>\n",
       "      <td>2256</td>\n",
       "      <td>44.0</td>\n",
       "      <td>DL</td>\n",
       "      <td>1433</td>\n",
       "      <td>N371NB</td>\n",
       "      <td>LGA</td>\n",
       "      <td>RSW</td>\n",
       "      <td>165.0</td>\n",
       "      <td>1080</td>\n",
       "      <td>19</td>\n",
       "      <td>35</td>\n",
       "      <td>2013-04-12 19:00:00</td>\n",
       "    </tr>\n",
       "    <tr>\n",
       "      <th>240528</th>\n",
       "      <td>2013</td>\n",
       "      <td>6</td>\n",
       "      <td>20</td>\n",
       "      <td>1429.0</td>\n",
       "      <td>1430</td>\n",
       "      <td>-1.0</td>\n",
       "      <td>1724.0</td>\n",
       "      <td>1725</td>\n",
       "      <td>-1.0</td>\n",
       "      <td>B6</td>\n",
       "      <td>325</td>\n",
       "      <td>N584JB</td>\n",
       "      <td>JFK</td>\n",
       "      <td>TPA</td>\n",
       "      <td>142.0</td>\n",
       "      <td>1005</td>\n",
       "      <td>14</td>\n",
       "      <td>30</td>\n",
       "      <td>2013-06-20 14:00:00</td>\n",
       "    </tr>\n",
       "    <tr>\n",
       "      <th>185546</th>\n",
       "      <td>2013</td>\n",
       "      <td>4</td>\n",
       "      <td>22</td>\n",
       "      <td>1655.0</td>\n",
       "      <td>1700</td>\n",
       "      <td>-5.0</td>\n",
       "      <td>2021.0</td>\n",
       "      <td>1933</td>\n",
       "      <td>48.0</td>\n",
       "      <td>DL</td>\n",
       "      <td>1499</td>\n",
       "      <td>N675DL</td>\n",
       "      <td>LGA</td>\n",
       "      <td>ATL</td>\n",
       "      <td>117.0</td>\n",
       "      <td>762</td>\n",
       "      <td>17</td>\n",
       "      <td>0</td>\n",
       "      <td>2013-04-22 17:00:00</td>\n",
       "    </tr>\n",
       "  </tbody>\n",
       "</table>\n",
       "</div>"
      ],
      "text/plain": [
       "        year  month  day  dep_time  sched_dep_time  dep_delay  arr_time  \\\n",
       "27631   2013     10    1    1559.0            1600       -1.0    1833.0   \n",
       "198435  2013      5    6    1305.0            1250       15.0    1540.0   \n",
       "176379  2013      4   12    1954.0            1935       19.0    2340.0   \n",
       "240528  2013      6   20    1429.0            1430       -1.0    1724.0   \n",
       "185546  2013      4   22    1655.0            1700       -5.0    2021.0   \n",
       "\n",
       "        sched_arr_time  arr_delay carrier  flight tailnum origin dest  \\\n",
       "27631             1905      -32.0      AA    1156  N3DWAA    LGA  DFW   \n",
       "198435            1535        5.0      WN    1791  N746SW    EWR  HOU   \n",
       "176379            2256       44.0      DL    1433  N371NB    LGA  RSW   \n",
       "240528            1725       -1.0      B6     325  N584JB    JFK  TPA   \n",
       "185546            1933       48.0      DL    1499  N675DL    LGA  ATL   \n",
       "\n",
       "        air_time  distance  hour  minute            time_hour  \n",
       "27631      178.0      1389    16       0  2013-10-01 16:00:00  \n",
       "198435     195.0      1411    12      50  2013-05-06 12:00:00  \n",
       "176379     165.0      1080    19      35  2013-04-12 19:00:00  \n",
       "240528     142.0      1005    14      30  2013-06-20 14:00:00  \n",
       "185546     117.0       762    17       0  2013-04-22 17:00:00  "
      ]
     },
     "execution_count": 183,
     "metadata": {},
     "output_type": "execute_result"
    }
   ],
   "source": [
    "# random 5 rows\n",
    "flights.sample(5)"
   ]
  },
  {
   "cell_type": "markdown",
   "metadata": {},
   "source": [
    "### Perform functions along an axis"
   ]
  },
  {
   "cell_type": "code",
   "execution_count": 189,
   "metadata": {},
   "outputs": [
    {
     "data": {
      "text/plain": [
       "air_time     150.686460\n",
       "dep_delay     12.639070\n",
       "arr_delay      6.895377\n",
       "dtype: float64"
      ]
     },
     "execution_count": 189,
     "metadata": {},
     "output_type": "execute_result"
    }
   ],
   "source": [
    "# get the average air_time across all flights \n",
    "flights['air_time'].mean()\n",
    "\n",
    "subset = flights[['air_time', 'dep_delay', 'arr_delay']]\n",
    "# average along all rows\n",
    "np.mean(subset, axis = 0)\n",
    "# default average axis is also over the rows \n",
    "subset.mean()"
   ]
  },
  {
   "cell_type": "markdown",
   "metadata": {},
   "source": [
    "In addition to mean, there's also:\n",
    "- min\n",
    "- max\n",
    "- median\n",
    "- sum\n",
    "- var (for variance)\n",
    "- std (for standard deviation)"
   ]
  },
  {
   "cell_type": "markdown",
   "metadata": {},
   "source": [
    "there's also sort_values to sort by one or more columns"
   ]
  },
  {
   "cell_type": "code",
   "execution_count": 191,
   "metadata": {},
   "outputs": [
    {
     "data": {
      "text/html": [
       "<div>\n",
       "<style>\n",
       "    .dataframe thead tr:only-child th {\n",
       "        text-align: right;\n",
       "    }\n",
       "\n",
       "    .dataframe thead th {\n",
       "        text-align: left;\n",
       "    }\n",
       "\n",
       "    .dataframe tbody tr th {\n",
       "        vertical-align: top;\n",
       "    }\n",
       "</style>\n",
       "<table border=\"1\" class=\"dataframe\">\n",
       "  <thead>\n",
       "    <tr style=\"text-align: right;\">\n",
       "      <th></th>\n",
       "      <th>year</th>\n",
       "      <th>month</th>\n",
       "      <th>day</th>\n",
       "      <th>dep_time</th>\n",
       "      <th>sched_dep_time</th>\n",
       "      <th>dep_delay</th>\n",
       "      <th>arr_time</th>\n",
       "      <th>sched_arr_time</th>\n",
       "      <th>arr_delay</th>\n",
       "      <th>carrier</th>\n",
       "      <th>flight</th>\n",
       "      <th>tailnum</th>\n",
       "      <th>origin</th>\n",
       "      <th>dest</th>\n",
       "      <th>air_time</th>\n",
       "      <th>distance</th>\n",
       "      <th>hour</th>\n",
       "      <th>minute</th>\n",
       "      <th>time_hour</th>\n",
       "    </tr>\n",
       "  </thead>\n",
       "  <tbody>\n",
       "    <tr>\n",
       "      <th>0</th>\n",
       "      <td>2013</td>\n",
       "      <td>1</td>\n",
       "      <td>1</td>\n",
       "      <td>517.0</td>\n",
       "      <td>515</td>\n",
       "      <td>2.0</td>\n",
       "      <td>830.0</td>\n",
       "      <td>819</td>\n",
       "      <td>11.0</td>\n",
       "      <td>UA</td>\n",
       "      <td>1545</td>\n",
       "      <td>N14228</td>\n",
       "      <td>EWR</td>\n",
       "      <td>IAH</td>\n",
       "      <td>227.0</td>\n",
       "      <td>1400</td>\n",
       "      <td>5</td>\n",
       "      <td>15</td>\n",
       "      <td>2013-01-01 05:00:00</td>\n",
       "    </tr>\n",
       "    <tr>\n",
       "      <th>1</th>\n",
       "      <td>2013</td>\n",
       "      <td>1</td>\n",
       "      <td>1</td>\n",
       "      <td>533.0</td>\n",
       "      <td>529</td>\n",
       "      <td>4.0</td>\n",
       "      <td>850.0</td>\n",
       "      <td>830</td>\n",
       "      <td>20.0</td>\n",
       "      <td>UA</td>\n",
       "      <td>1714</td>\n",
       "      <td>N24211</td>\n",
       "      <td>LGA</td>\n",
       "      <td>IAH</td>\n",
       "      <td>227.0</td>\n",
       "      <td>1416</td>\n",
       "      <td>5</td>\n",
       "      <td>29</td>\n",
       "      <td>2013-01-01 05:00:00</td>\n",
       "    </tr>\n",
       "    <tr>\n",
       "      <th>2</th>\n",
       "      <td>2013</td>\n",
       "      <td>1</td>\n",
       "      <td>1</td>\n",
       "      <td>542.0</td>\n",
       "      <td>540</td>\n",
       "      <td>2.0</td>\n",
       "      <td>923.0</td>\n",
       "      <td>850</td>\n",
       "      <td>33.0</td>\n",
       "      <td>AA</td>\n",
       "      <td>1141</td>\n",
       "      <td>N619AA</td>\n",
       "      <td>JFK</td>\n",
       "      <td>MIA</td>\n",
       "      <td>160.0</td>\n",
       "      <td>1089</td>\n",
       "      <td>5</td>\n",
       "      <td>40</td>\n",
       "      <td>2013-01-01 05:00:00</td>\n",
       "    </tr>\n",
       "    <tr>\n",
       "      <th>3</th>\n",
       "      <td>2013</td>\n",
       "      <td>1</td>\n",
       "      <td>1</td>\n",
       "      <td>544.0</td>\n",
       "      <td>545</td>\n",
       "      <td>-1.0</td>\n",
       "      <td>1004.0</td>\n",
       "      <td>1022</td>\n",
       "      <td>-18.0</td>\n",
       "      <td>B6</td>\n",
       "      <td>725</td>\n",
       "      <td>N804JB</td>\n",
       "      <td>JFK</td>\n",
       "      <td>BQN</td>\n",
       "      <td>183.0</td>\n",
       "      <td>1576</td>\n",
       "      <td>5</td>\n",
       "      <td>45</td>\n",
       "      <td>2013-01-01 05:00:00</td>\n",
       "    </tr>\n",
       "    <tr>\n",
       "      <th>5</th>\n",
       "      <td>2013</td>\n",
       "      <td>1</td>\n",
       "      <td>1</td>\n",
       "      <td>554.0</td>\n",
       "      <td>558</td>\n",
       "      <td>-4.0</td>\n",
       "      <td>740.0</td>\n",
       "      <td>728</td>\n",
       "      <td>12.0</td>\n",
       "      <td>UA</td>\n",
       "      <td>1696</td>\n",
       "      <td>N39463</td>\n",
       "      <td>EWR</td>\n",
       "      <td>ORD</td>\n",
       "      <td>150.0</td>\n",
       "      <td>719</td>\n",
       "      <td>5</td>\n",
       "      <td>58</td>\n",
       "      <td>2013-01-01 05:00:00</td>\n",
       "    </tr>\n",
       "  </tbody>\n",
       "</table>\n",
       "</div>"
      ],
      "text/plain": [
       "   year  month  day  dep_time  sched_dep_time  dep_delay  arr_time  \\\n",
       "0  2013      1    1     517.0             515        2.0     830.0   \n",
       "1  2013      1    1     533.0             529        4.0     850.0   \n",
       "2  2013      1    1     542.0             540        2.0     923.0   \n",
       "3  2013      1    1     544.0             545       -1.0    1004.0   \n",
       "5  2013      1    1     554.0             558       -4.0     740.0   \n",
       "\n",
       "   sched_arr_time  arr_delay carrier  flight tailnum origin dest  air_time  \\\n",
       "0             819       11.0      UA    1545  N14228    EWR  IAH     227.0   \n",
       "1             830       20.0      UA    1714  N24211    LGA  IAH     227.0   \n",
       "2             850       33.0      AA    1141  N619AA    JFK  MIA     160.0   \n",
       "3            1022      -18.0      B6     725  N804JB    JFK  BQN     183.0   \n",
       "5             728       12.0      UA    1696  N39463    EWR  ORD     150.0   \n",
       "\n",
       "   distance  hour  minute            time_hour  \n",
       "0      1400     5      15  2013-01-01 05:00:00  \n",
       "1      1416     5      29  2013-01-01 05:00:00  \n",
       "2      1089     5      40  2013-01-01 05:00:00  \n",
       "3      1576     5      45  2013-01-01 05:00:00  \n",
       "5       719     5      58  2013-01-01 05:00:00  "
      ]
     },
     "execution_count": 191,
     "metadata": {},
     "output_type": "execute_result"
    }
   ],
   "source": [
    "# Sorts by year, then by month, then by day....and so on\n",
    "\n",
    "flights.sort_values(['year', 'month', 'day', 'hour', 'minute']).head()"
   ]
  },
  {
   "cell_type": "markdown",
   "metadata": {},
   "source": [
    "** unique()** is used for checking out the values in a column"
   ]
  },
  {
   "cell_type": "code",
   "execution_count": 192,
   "metadata": {},
   "outputs": [
    {
     "data": {
      "text/plain": [
       "array(['EWR', 'LGA', 'JFK'], dtype=object)"
      ]
     },
     "execution_count": 192,
     "metadata": {},
     "output_type": "execute_result"
    }
   ],
   "source": [
    "flights['origin'].unique()"
   ]
  },
  {
   "cell_type": "markdown",
   "metadata": {},
   "source": [
    "### Identifying and removig NA in a dataset"
   ]
  },
  {
   "cell_type": "code",
   "execution_count": 194,
   "metadata": {},
   "outputs": [
    {
     "data": {
      "text/plain": [
       "year              False\n",
       "month             False\n",
       "day               False\n",
       "dep_time           True\n",
       "sched_dep_time    False\n",
       "dep_delay          True\n",
       "arr_time           True\n",
       "sched_arr_time    False\n",
       "arr_delay          True\n",
       "carrier           False\n",
       "flight            False\n",
       "tailnum            True\n",
       "origin            False\n",
       "dest              False\n",
       "air_time           True\n",
       "distance          False\n",
       "hour              False\n",
       "minute            False\n",
       "time_hour         False\n",
       "dtype: bool"
      ]
     },
     "execution_count": 194,
     "metadata": {},
     "output_type": "execute_result"
    }
   ],
   "source": [
    "# Example of some bad rows\n",
    "flights.iloc[835:845, :]\n",
    "\n",
    "# are there any NAs in the above dataframe \n",
    "flights.isnull().any()"
   ]
  },
  {
   "cell_type": "code",
   "execution_count": 143,
   "metadata": {},
   "outputs": [
    {
     "name": "stdout",
     "output_type": "stream",
     "text": [
      "Original Matrix Shape: (336776, 19)\n",
      "Complete-rows shape: (327346, 19)\n"
     ]
    }
   ],
   "source": [
    "# select flights where there is complete data\n",
    "# rows with any null column values\n",
    "null_rows = flights.isnull().any(axis = 1)\n",
    "\n",
    "# invert the boolean SERIES\n",
    "complete_rows = ~null_rows\n",
    "flights_complete = flights[complete_rows]\n",
    "# OR \n",
    "flights_complete = flights.loc[complete_rows]\n",
    "\n",
    "\n",
    "print(\"Original Matrix Shape:\", flights.shape)\n",
    "print(\"Complete-rows shape:\", flights_complete.shape)"
   ]
  },
  {
   "cell_type": "code",
   "execution_count": null,
   "metadata": {
    "collapsed": true
   },
   "outputs": [],
   "source": []
  },
  {
   "cell_type": "code",
   "execution_count": null,
   "metadata": {
    "collapsed": true
   },
   "outputs": [],
   "source": []
  },
  {
   "cell_type": "code",
   "execution_count": 3,
   "metadata": {
    "collapsed": true
   },
   "outputs": [],
   "source": [
    "import pandas as pd\n",
    "import numpy as np"
   ]
  },
  {
   "cell_type": "code",
   "execution_count": 1,
   "metadata": {
    "collapsed": true
   },
   "outputs": [],
   "source": [
    "### merge on columns "
   ]
  },
  {
   "cell_type": "code",
   "execution_count": 4,
   "metadata": {
    "collapsed": true
   },
   "outputs": [],
   "source": [
    "planes = pd.read_table(\"nycflights13/planes.txt\")\n",
    "flights = pd.read_table(\"nycflights13/flights.txt\")"
   ]
  },
  {
   "cell_type": "code",
   "execution_count": 123,
   "metadata": {},
   "outputs": [
    {
     "data": {
      "text/html": [
       "<div>\n",
       "<style>\n",
       "    .dataframe thead tr:only-child th {\n",
       "        text-align: right;\n",
       "    }\n",
       "\n",
       "    .dataframe thead th {\n",
       "        text-align: left;\n",
       "    }\n",
       "\n",
       "    .dataframe tbody tr th {\n",
       "        vertical-align: top;\n",
       "    }\n",
       "</style>\n",
       "<table border=\"1\" class=\"dataframe\">\n",
       "  <thead>\n",
       "    <tr style=\"text-align: right;\">\n",
       "      <th></th>\n",
       "      <th>tailnum</th>\n",
       "      <th>year</th>\n",
       "      <th>type</th>\n",
       "      <th>manufacturer</th>\n",
       "      <th>model</th>\n",
       "      <th>engines</th>\n",
       "      <th>seats</th>\n",
       "      <th>speed</th>\n",
       "      <th>engine</th>\n",
       "    </tr>\n",
       "  </thead>\n",
       "  <tbody>\n",
       "    <tr>\n",
       "      <th>3317</th>\n",
       "      <td>N997AT</td>\n",
       "      <td>2002.0</td>\n",
       "      <td>Fixed wing multi engine</td>\n",
       "      <td>BOEING</td>\n",
       "      <td>717-200</td>\n",
       "      <td>2</td>\n",
       "      <td>100</td>\n",
       "      <td>NaN</td>\n",
       "      <td>Turbo-fan</td>\n",
       "    </tr>\n",
       "    <tr>\n",
       "      <th>3318</th>\n",
       "      <td>N997DL</td>\n",
       "      <td>1992.0</td>\n",
       "      <td>Fixed wing multi engine</td>\n",
       "      <td>MCDONNELL DOUGLAS AIRCRAFT CO</td>\n",
       "      <td>MD-88</td>\n",
       "      <td>2</td>\n",
       "      <td>142</td>\n",
       "      <td>NaN</td>\n",
       "      <td>Turbo-fan</td>\n",
       "    </tr>\n",
       "    <tr>\n",
       "      <th>3319</th>\n",
       "      <td>N998AT</td>\n",
       "      <td>2002.0</td>\n",
       "      <td>Fixed wing multi engine</td>\n",
       "      <td>BOEING</td>\n",
       "      <td>717-200</td>\n",
       "      <td>2</td>\n",
       "      <td>100</td>\n",
       "      <td>NaN</td>\n",
       "      <td>Turbo-fan</td>\n",
       "    </tr>\n",
       "    <tr>\n",
       "      <th>3320</th>\n",
       "      <td>N998DL</td>\n",
       "      <td>1992.0</td>\n",
       "      <td>Fixed wing multi engine</td>\n",
       "      <td>MCDONNELL DOUGLAS CORPORATION</td>\n",
       "      <td>MD-88</td>\n",
       "      <td>2</td>\n",
       "      <td>142</td>\n",
       "      <td>NaN</td>\n",
       "      <td>Turbo-jet</td>\n",
       "    </tr>\n",
       "    <tr>\n",
       "      <th>3321</th>\n",
       "      <td>N999DN</td>\n",
       "      <td>1992.0</td>\n",
       "      <td>Fixed wing multi engine</td>\n",
       "      <td>MCDONNELL DOUGLAS CORPORATION</td>\n",
       "      <td>MD-88</td>\n",
       "      <td>2</td>\n",
       "      <td>142</td>\n",
       "      <td>NaN</td>\n",
       "      <td>Turbo-jet</td>\n",
       "    </tr>\n",
       "  </tbody>\n",
       "</table>\n",
       "</div>"
      ],
      "text/plain": [
       "     tailnum    year                     type                   manufacturer  \\\n",
       "3317  N997AT  2002.0  Fixed wing multi engine                         BOEING   \n",
       "3318  N997DL  1992.0  Fixed wing multi engine  MCDONNELL DOUGLAS AIRCRAFT CO   \n",
       "3319  N998AT  2002.0  Fixed wing multi engine                         BOEING   \n",
       "3320  N998DL  1992.0  Fixed wing multi engine  MCDONNELL DOUGLAS CORPORATION   \n",
       "3321  N999DN  1992.0  Fixed wing multi engine  MCDONNELL DOUGLAS CORPORATION   \n",
       "\n",
       "        model  engines  seats  speed     engine  \n",
       "3317  717-200        2    100    NaN  Turbo-fan  \n",
       "3318    MD-88        2    142    NaN  Turbo-fan  \n",
       "3319  717-200        2    100    NaN  Turbo-fan  \n",
       "3320    MD-88        2    142    NaN  Turbo-jet  \n",
       "3321    MD-88        2    142    NaN  Turbo-jet  "
      ]
     },
     "execution_count": 123,
     "metadata": {},
     "output_type": "execute_result"
    }
   ],
   "source": [
    "planes.tail()"
   ]
  },
  {
   "cell_type": "code",
   "execution_count": 121,
   "metadata": {},
   "outputs": [
    {
     "data": {
      "text/html": [
       "<div>\n",
       "<style>\n",
       "    .dataframe thead tr:only-child th {\n",
       "        text-align: right;\n",
       "    }\n",
       "\n",
       "    .dataframe thead th {\n",
       "        text-align: left;\n",
       "    }\n",
       "\n",
       "    .dataframe tbody tr th {\n",
       "        vertical-align: top;\n",
       "    }\n",
       "</style>\n",
       "<table border=\"1\" class=\"dataframe\">\n",
       "  <thead>\n",
       "    <tr style=\"text-align: right;\">\n",
       "      <th></th>\n",
       "      <th>year</th>\n",
       "      <th>month</th>\n",
       "      <th>day</th>\n",
       "      <th>dep_time</th>\n",
       "      <th>sched_dep_time</th>\n",
       "      <th>dep_delay</th>\n",
       "      <th>arr_time</th>\n",
       "      <th>sched_arr_time</th>\n",
       "      <th>arr_delay</th>\n",
       "      <th>carrier</th>\n",
       "      <th>flight</th>\n",
       "      <th>tailnum</th>\n",
       "      <th>origin</th>\n",
       "      <th>dest</th>\n",
       "      <th>air_time</th>\n",
       "      <th>distance</th>\n",
       "      <th>hour</th>\n",
       "      <th>minute</th>\n",
       "      <th>time_hour</th>\n",
       "    </tr>\n",
       "  </thead>\n",
       "  <tbody>\n",
       "    <tr>\n",
       "      <th>336771</th>\n",
       "      <td>2013</td>\n",
       "      <td>9</td>\n",
       "      <td>30</td>\n",
       "      <td>NaN</td>\n",
       "      <td>1455</td>\n",
       "      <td>NaN</td>\n",
       "      <td>NaN</td>\n",
       "      <td>1634</td>\n",
       "      <td>NaN</td>\n",
       "      <td>9E</td>\n",
       "      <td>3393</td>\n",
       "      <td>NaN</td>\n",
       "      <td>JFK</td>\n",
       "      <td>DCA</td>\n",
       "      <td>NaN</td>\n",
       "      <td>213</td>\n",
       "      <td>14</td>\n",
       "      <td>55</td>\n",
       "      <td>2013-09-30 14:00:00</td>\n",
       "    </tr>\n",
       "    <tr>\n",
       "      <th>336772</th>\n",
       "      <td>2013</td>\n",
       "      <td>9</td>\n",
       "      <td>30</td>\n",
       "      <td>NaN</td>\n",
       "      <td>2200</td>\n",
       "      <td>NaN</td>\n",
       "      <td>NaN</td>\n",
       "      <td>2312</td>\n",
       "      <td>NaN</td>\n",
       "      <td>9E</td>\n",
       "      <td>3525</td>\n",
       "      <td>NaN</td>\n",
       "      <td>LGA</td>\n",
       "      <td>SYR</td>\n",
       "      <td>NaN</td>\n",
       "      <td>198</td>\n",
       "      <td>22</td>\n",
       "      <td>0</td>\n",
       "      <td>2013-09-30 22:00:00</td>\n",
       "    </tr>\n",
       "    <tr>\n",
       "      <th>336773</th>\n",
       "      <td>2013</td>\n",
       "      <td>9</td>\n",
       "      <td>30</td>\n",
       "      <td>NaN</td>\n",
       "      <td>1210</td>\n",
       "      <td>NaN</td>\n",
       "      <td>NaN</td>\n",
       "      <td>1330</td>\n",
       "      <td>NaN</td>\n",
       "      <td>MQ</td>\n",
       "      <td>3461</td>\n",
       "      <td>N535MQ</td>\n",
       "      <td>LGA</td>\n",
       "      <td>BNA</td>\n",
       "      <td>NaN</td>\n",
       "      <td>764</td>\n",
       "      <td>12</td>\n",
       "      <td>10</td>\n",
       "      <td>2013-09-30 12:00:00</td>\n",
       "    </tr>\n",
       "    <tr>\n",
       "      <th>336774</th>\n",
       "      <td>2013</td>\n",
       "      <td>9</td>\n",
       "      <td>30</td>\n",
       "      <td>NaN</td>\n",
       "      <td>1159</td>\n",
       "      <td>NaN</td>\n",
       "      <td>NaN</td>\n",
       "      <td>1344</td>\n",
       "      <td>NaN</td>\n",
       "      <td>MQ</td>\n",
       "      <td>3572</td>\n",
       "      <td>N511MQ</td>\n",
       "      <td>LGA</td>\n",
       "      <td>CLE</td>\n",
       "      <td>NaN</td>\n",
       "      <td>419</td>\n",
       "      <td>11</td>\n",
       "      <td>59</td>\n",
       "      <td>2013-09-30 11:00:00</td>\n",
       "    </tr>\n",
       "    <tr>\n",
       "      <th>336775</th>\n",
       "      <td>2013</td>\n",
       "      <td>9</td>\n",
       "      <td>30</td>\n",
       "      <td>NaN</td>\n",
       "      <td>840</td>\n",
       "      <td>NaN</td>\n",
       "      <td>NaN</td>\n",
       "      <td>1020</td>\n",
       "      <td>NaN</td>\n",
       "      <td>MQ</td>\n",
       "      <td>3531</td>\n",
       "      <td>N839MQ</td>\n",
       "      <td>LGA</td>\n",
       "      <td>RDU</td>\n",
       "      <td>NaN</td>\n",
       "      <td>431</td>\n",
       "      <td>8</td>\n",
       "      <td>40</td>\n",
       "      <td>2013-09-30 08:00:00</td>\n",
       "    </tr>\n",
       "  </tbody>\n",
       "</table>\n",
       "</div>"
      ],
      "text/plain": [
       "        year  month  day  dep_time  sched_dep_time  dep_delay  arr_time  \\\n",
       "336771  2013      9   30       NaN            1455        NaN       NaN   \n",
       "336772  2013      9   30       NaN            2200        NaN       NaN   \n",
       "336773  2013      9   30       NaN            1210        NaN       NaN   \n",
       "336774  2013      9   30       NaN            1159        NaN       NaN   \n",
       "336775  2013      9   30       NaN             840        NaN       NaN   \n",
       "\n",
       "        sched_arr_time  arr_delay carrier  flight tailnum origin dest  \\\n",
       "336771            1634        NaN      9E    3393     NaN    JFK  DCA   \n",
       "336772            2312        NaN      9E    3525     NaN    LGA  SYR   \n",
       "336773            1330        NaN      MQ    3461  N535MQ    LGA  BNA   \n",
       "336774            1344        NaN      MQ    3572  N511MQ    LGA  CLE   \n",
       "336775            1020        NaN      MQ    3531  N839MQ    LGA  RDU   \n",
       "\n",
       "        air_time  distance  hour  minute            time_hour  \n",
       "336771       NaN       213    14      55  2013-09-30 14:00:00  \n",
       "336772       NaN       198    22       0  2013-09-30 22:00:00  \n",
       "336773       NaN       764    12      10  2013-09-30 12:00:00  \n",
       "336774       NaN       419    11      59  2013-09-30 11:00:00  \n",
       "336775       NaN       431     8      40  2013-09-30 08:00:00  "
      ]
     },
     "execution_count": 121,
     "metadata": {},
     "output_type": "execute_result"
    }
   ],
   "source": [
    "flights.tail()"
   ]
  },
  {
   "cell_type": "code",
   "execution_count": 81,
   "metadata": {},
   "outputs": [
    {
     "data": {
      "text/html": [
       "<div>\n",
       "<style>\n",
       "    .dataframe thead tr:only-child th {\n",
       "        text-align: right;\n",
       "    }\n",
       "\n",
       "    .dataframe thead th {\n",
       "        text-align: left;\n",
       "    }\n",
       "\n",
       "    .dataframe tbody tr th {\n",
       "        vertical-align: top;\n",
       "    }\n",
       "</style>\n",
       "<table border=\"1\" class=\"dataframe\">\n",
       "  <thead>\n",
       "    <tr style=\"text-align: right;\">\n",
       "      <th></th>\n",
       "      <th>year</th>\n",
       "      <th>month</th>\n",
       "      <th>day</th>\n",
       "      <th>dep_time</th>\n",
       "      <th>sched_dep_time</th>\n",
       "      <th>dep_delay</th>\n",
       "      <th>arr_time</th>\n",
       "      <th>sched_arr_time</th>\n",
       "      <th>arr_delay</th>\n",
       "      <th>carrier</th>\n",
       "      <th>flight</th>\n",
       "      <th>tailnum</th>\n",
       "      <th>origin</th>\n",
       "      <th>dest</th>\n",
       "      <th>air_time</th>\n",
       "      <th>distance</th>\n",
       "      <th>hour</th>\n",
       "      <th>minute</th>\n",
       "      <th>time_hour</th>\n",
       "    </tr>\n",
       "  </thead>\n",
       "  <tbody>\n",
       "    <tr>\n",
       "      <th>111296</th>\n",
       "      <td>2013</td>\n",
       "      <td>2</td>\n",
       "      <td>1</td>\n",
       "      <td>456.0</td>\n",
       "      <td>500</td>\n",
       "      <td>-4.0</td>\n",
       "      <td>652.0</td>\n",
       "      <td>648</td>\n",
       "      <td>4.0</td>\n",
       "      <td>US</td>\n",
       "      <td>1117</td>\n",
       "      <td>N197UW</td>\n",
       "      <td>EWR</td>\n",
       "      <td>CLT</td>\n",
       "      <td>98.0</td>\n",
       "      <td>529</td>\n",
       "      <td>5</td>\n",
       "      <td>0</td>\n",
       "      <td>2013-02-01 05:00:00</td>\n",
       "    </tr>\n",
       "    <tr>\n",
       "      <th>111297</th>\n",
       "      <td>2013</td>\n",
       "      <td>2</td>\n",
       "      <td>1</td>\n",
       "      <td>520.0</td>\n",
       "      <td>525</td>\n",
       "      <td>-5.0</td>\n",
       "      <td>816.0</td>\n",
       "      <td>820</td>\n",
       "      <td>-4.0</td>\n",
       "      <td>UA</td>\n",
       "      <td>1018</td>\n",
       "      <td>N24211</td>\n",
       "      <td>EWR</td>\n",
       "      <td>IAH</td>\n",
       "      <td>209.0</td>\n",
       "      <td>1400</td>\n",
       "      <td>5</td>\n",
       "      <td>25</td>\n",
       "      <td>2013-02-01 05:00:00</td>\n",
       "    </tr>\n",
       "    <tr>\n",
       "      <th>111298</th>\n",
       "      <td>2013</td>\n",
       "      <td>2</td>\n",
       "      <td>1</td>\n",
       "      <td>527.0</td>\n",
       "      <td>530</td>\n",
       "      <td>-3.0</td>\n",
       "      <td>837.0</td>\n",
       "      <td>829</td>\n",
       "      <td>8.0</td>\n",
       "      <td>UA</td>\n",
       "      <td>650</td>\n",
       "      <td>N470UA</td>\n",
       "      <td>LGA</td>\n",
       "      <td>IAH</td>\n",
       "      <td>233.0</td>\n",
       "      <td>1416</td>\n",
       "      <td>5</td>\n",
       "      <td>30</td>\n",
       "      <td>2013-02-01 05:00:00</td>\n",
       "    </tr>\n",
       "    <tr>\n",
       "      <th>111299</th>\n",
       "      <td>2013</td>\n",
       "      <td>2</td>\n",
       "      <td>1</td>\n",
       "      <td>532.0</td>\n",
       "      <td>540</td>\n",
       "      <td>-8.0</td>\n",
       "      <td>1007.0</td>\n",
       "      <td>1017</td>\n",
       "      <td>-10.0</td>\n",
       "      <td>B6</td>\n",
       "      <td>725</td>\n",
       "      <td>N554JB</td>\n",
       "      <td>JFK</td>\n",
       "      <td>BQN</td>\n",
       "      <td>195.0</td>\n",
       "      <td>1576</td>\n",
       "      <td>5</td>\n",
       "      <td>40</td>\n",
       "      <td>2013-02-01 05:00:00</td>\n",
       "    </tr>\n",
       "    <tr>\n",
       "      <th>111300</th>\n",
       "      <td>2013</td>\n",
       "      <td>2</td>\n",
       "      <td>1</td>\n",
       "      <td>540.0</td>\n",
       "      <td>540</td>\n",
       "      <td>0.0</td>\n",
       "      <td>859.0</td>\n",
       "      <td>850</td>\n",
       "      <td>9.0</td>\n",
       "      <td>AA</td>\n",
       "      <td>1141</td>\n",
       "      <td>N615AA</td>\n",
       "      <td>JFK</td>\n",
       "      <td>MIA</td>\n",
       "      <td>169.0</td>\n",
       "      <td>1089</td>\n",
       "      <td>5</td>\n",
       "      <td>40</td>\n",
       "      <td>2013-02-01 05:00:00</td>\n",
       "    </tr>\n",
       "  </tbody>\n",
       "</table>\n",
       "</div>"
      ],
      "text/plain": [
       "        year  month  day  dep_time  sched_dep_time  dep_delay  arr_time  \\\n",
       "111296  2013      2    1     456.0             500       -4.0     652.0   \n",
       "111297  2013      2    1     520.0             525       -5.0     816.0   \n",
       "111298  2013      2    1     527.0             530       -3.0     837.0   \n",
       "111299  2013      2    1     532.0             540       -8.0    1007.0   \n",
       "111300  2013      2    1     540.0             540        0.0     859.0   \n",
       "\n",
       "        sched_arr_time  arr_delay carrier  flight tailnum origin dest  \\\n",
       "111296             648        4.0      US    1117  N197UW    EWR  CLT   \n",
       "111297             820       -4.0      UA    1018  N24211    EWR  IAH   \n",
       "111298             829        8.0      UA     650  N470UA    LGA  IAH   \n",
       "111299            1017      -10.0      B6     725  N554JB    JFK  BQN   \n",
       "111300             850        9.0      AA    1141  N615AA    JFK  MIA   \n",
       "\n",
       "        air_time  distance  hour  minute            time_hour  \n",
       "111296      98.0       529     5       0  2013-02-01 05:00:00  \n",
       "111297     209.0      1400     5      25  2013-02-01 05:00:00  \n",
       "111298     233.0      1416     5      30  2013-02-01 05:00:00  \n",
       "111299     195.0      1576     5      40  2013-02-01 05:00:00  \n",
       "111300     169.0      1089     5      40  2013-02-01 05:00:00  "
      ]
     },
     "execution_count": 81,
     "metadata": {},
     "output_type": "execute_result"
    }
   ],
   "source": [
    "# number of seats on planes departed on Feb 1st\n",
    "\n",
    "feb_flights = flights[(flights.month == 2) & (flights.day == 1)]\n",
    "feb_flights.head()"
   ]
  },
  {
   "cell_type": "code",
   "execution_count": 18,
   "metadata": {},
   "outputs": [
    {
     "data": {
      "text/plain": [
       "926"
      ]
     },
     "execution_count": 18,
     "metadata": {},
     "output_type": "execute_result"
    }
   ],
   "source": [
    "((flights.month == 2) & (flights.day == 1)).sum(axis = 0)"
   ]
  },
  {
   "cell_type": "code",
   "execution_count": 38,
   "metadata": {},
   "outputs": [
    {
     "data": {
      "text/plain": [
       "2750"
      ]
     },
     "execution_count": 38,
     "metadata": {},
     "output_type": "execute_result"
    }
   ],
   "source": [
    "# 2750 planes did not depart on feb 1st \n",
    "\n",
    "len(set(planes.tailnum) - set(feb_flights.tailnum))"
   ]
  },
  {
   "cell_type": "code",
   "execution_count": 136,
   "metadata": {},
   "outputs": [
    {
     "name": "stdout",
     "output_type": "stream",
     "text": [
      "104242.0\n"
     ]
    },
    {
     "data": {
      "text/html": [
       "<div>\n",
       "<style>\n",
       "    .dataframe thead tr:only-child th {\n",
       "        text-align: right;\n",
       "    }\n",
       "\n",
       "    .dataframe thead th {\n",
       "        text-align: left;\n",
       "    }\n",
       "\n",
       "    .dataframe tbody tr th {\n",
       "        vertical-align: top;\n",
       "    }\n",
       "</style>\n",
       "<table border=\"1\" class=\"dataframe\">\n",
       "  <thead>\n",
       "    <tr style=\"text-align: right;\">\n",
       "      <th></th>\n",
       "      <th>year_x</th>\n",
       "      <th>month</th>\n",
       "      <th>day</th>\n",
       "      <th>dep_time</th>\n",
       "      <th>sched_dep_time</th>\n",
       "      <th>dep_delay</th>\n",
       "      <th>arr_time</th>\n",
       "      <th>sched_arr_time</th>\n",
       "      <th>arr_delay</th>\n",
       "      <th>carrier</th>\n",
       "      <th>...</th>\n",
       "      <th>minute</th>\n",
       "      <th>time_hour</th>\n",
       "      <th>year_y</th>\n",
       "      <th>type</th>\n",
       "      <th>manufacturer</th>\n",
       "      <th>model</th>\n",
       "      <th>engines</th>\n",
       "      <th>seats</th>\n",
       "      <th>speed</th>\n",
       "      <th>engine</th>\n",
       "    </tr>\n",
       "  </thead>\n",
       "  <tbody>\n",
       "    <tr>\n",
       "      <th>415</th>\n",
       "      <td>2013</td>\n",
       "      <td>2</td>\n",
       "      <td>1</td>\n",
       "      <td>456.0</td>\n",
       "      <td>500</td>\n",
       "      <td>-4.0</td>\n",
       "      <td>652.0</td>\n",
       "      <td>648</td>\n",
       "      <td>4.0</td>\n",
       "      <td>US</td>\n",
       "      <td>...</td>\n",
       "      <td>0</td>\n",
       "      <td>2013-02-01 05:00:00</td>\n",
       "      <td>2009.0</td>\n",
       "      <td>Fixed wing multi engine</td>\n",
       "      <td>AIRBUS</td>\n",
       "      <td>A321-211</td>\n",
       "      <td>2.0</td>\n",
       "      <td>199.0</td>\n",
       "      <td>NaN</td>\n",
       "      <td>Turbo-fan</td>\n",
       "    </tr>\n",
       "    <tr>\n",
       "      <th>515</th>\n",
       "      <td>2013</td>\n",
       "      <td>2</td>\n",
       "      <td>1</td>\n",
       "      <td>520.0</td>\n",
       "      <td>525</td>\n",
       "      <td>-5.0</td>\n",
       "      <td>816.0</td>\n",
       "      <td>820</td>\n",
       "      <td>-4.0</td>\n",
       "      <td>UA</td>\n",
       "      <td>...</td>\n",
       "      <td>25</td>\n",
       "      <td>2013-02-01 05:00:00</td>\n",
       "      <td>1998.0</td>\n",
       "      <td>Fixed wing multi engine</td>\n",
       "      <td>BOEING</td>\n",
       "      <td>737-824</td>\n",
       "      <td>2.0</td>\n",
       "      <td>149.0</td>\n",
       "      <td>NaN</td>\n",
       "      <td>Turbo-fan</td>\n",
       "    </tr>\n",
       "    <tr>\n",
       "      <th>1322</th>\n",
       "      <td>2013</td>\n",
       "      <td>2</td>\n",
       "      <td>1</td>\n",
       "      <td>527.0</td>\n",
       "      <td>530</td>\n",
       "      <td>-3.0</td>\n",
       "      <td>837.0</td>\n",
       "      <td>829</td>\n",
       "      <td>8.0</td>\n",
       "      <td>UA</td>\n",
       "      <td>...</td>\n",
       "      <td>30</td>\n",
       "      <td>2013-02-01 05:00:00</td>\n",
       "      <td>2001.0</td>\n",
       "      <td>Fixed wing multi engine</td>\n",
       "      <td>AIRBUS INDUSTRIE</td>\n",
       "      <td>A320-232</td>\n",
       "      <td>2.0</td>\n",
       "      <td>200.0</td>\n",
       "      <td>NaN</td>\n",
       "      <td>Turbo-fan</td>\n",
       "    </tr>\n",
       "    <tr>\n",
       "      <th>1632</th>\n",
       "      <td>2013</td>\n",
       "      <td>2</td>\n",
       "      <td>1</td>\n",
       "      <td>532.0</td>\n",
       "      <td>540</td>\n",
       "      <td>-8.0</td>\n",
       "      <td>1007.0</td>\n",
       "      <td>1017</td>\n",
       "      <td>-10.0</td>\n",
       "      <td>B6</td>\n",
       "      <td>...</td>\n",
       "      <td>40</td>\n",
       "      <td>2013-02-01 05:00:00</td>\n",
       "      <td>2002.0</td>\n",
       "      <td>Fixed wing multi engine</td>\n",
       "      <td>AIRBUS</td>\n",
       "      <td>A320-232</td>\n",
       "      <td>2.0</td>\n",
       "      <td>200.0</td>\n",
       "      <td>NaN</td>\n",
       "      <td>Turbo-fan</td>\n",
       "    </tr>\n",
       "    <tr>\n",
       "      <th>1867</th>\n",
       "      <td>2013</td>\n",
       "      <td>2</td>\n",
       "      <td>1</td>\n",
       "      <td>540.0</td>\n",
       "      <td>540</td>\n",
       "      <td>0.0</td>\n",
       "      <td>859.0</td>\n",
       "      <td>850</td>\n",
       "      <td>9.0</td>\n",
       "      <td>AA</td>\n",
       "      <td>...</td>\n",
       "      <td>40</td>\n",
       "      <td>2013-02-01 05:00:00</td>\n",
       "      <td>1967.0</td>\n",
       "      <td>Fixed wing multi engine</td>\n",
       "      <td>BEECH</td>\n",
       "      <td>65-A90</td>\n",
       "      <td>2.0</td>\n",
       "      <td>9.0</td>\n",
       "      <td>202.0</td>\n",
       "      <td>Turbo-prop</td>\n",
       "    </tr>\n",
       "  </tbody>\n",
       "</table>\n",
       "<p>5 rows × 27 columns</p>\n",
       "</div>"
      ],
      "text/plain": [
       "      year_x  month  day  dep_time  sched_dep_time  dep_delay  arr_time  \\\n",
       "415     2013      2    1     456.0             500       -4.0     652.0   \n",
       "515     2013      2    1     520.0             525       -5.0     816.0   \n",
       "1322    2013      2    1     527.0             530       -3.0     837.0   \n",
       "1632    2013      2    1     532.0             540       -8.0    1007.0   \n",
       "1867    2013      2    1     540.0             540        0.0     859.0   \n",
       "\n",
       "      sched_arr_time  arr_delay carrier     ...      minute  \\\n",
       "415              648        4.0      US     ...           0   \n",
       "515              820       -4.0      UA     ...          25   \n",
       "1322             829        8.0      UA     ...          30   \n",
       "1632            1017      -10.0      B6     ...          40   \n",
       "1867             850        9.0      AA     ...          40   \n",
       "\n",
       "                time_hour  year_y                     type      manufacturer  \\\n",
       "415   2013-02-01 05:00:00  2009.0  Fixed wing multi engine            AIRBUS   \n",
       "515   2013-02-01 05:00:00  1998.0  Fixed wing multi engine            BOEING   \n",
       "1322  2013-02-01 05:00:00  2001.0  Fixed wing multi engine  AIRBUS INDUSTRIE   \n",
       "1632  2013-02-01 05:00:00  2002.0  Fixed wing multi engine            AIRBUS   \n",
       "1867  2013-02-01 05:00:00  1967.0  Fixed wing multi engine             BEECH   \n",
       "\n",
       "         model  engines  seats  speed      engine  \n",
       "415   A321-211      2.0  199.0    NaN   Turbo-fan  \n",
       "515    737-824      2.0  149.0    NaN   Turbo-fan  \n",
       "1322  A320-232      2.0  200.0    NaN   Turbo-fan  \n",
       "1632  A320-232      2.0  200.0    NaN   Turbo-fan  \n",
       "1867    65-A90      2.0    9.0  202.0  Turbo-prop  \n",
       "\n",
       "[5 rows x 27 columns]"
      ]
     },
     "execution_count": 136,
     "metadata": {},
     "output_type": "execute_result"
    }
   ],
   "source": [
    "# pd.merge on columns \n",
    "# want to keep the index from planes, where all the plane info are stored ????????\n",
    "\n",
    "flight_plane = pd.merge(feb_flights, planes, how = 'left', on = 'tailnum', left_index = True)\n",
    "print (np.sum(flight_plane['seats']))\n",
    "\n",
    "# where do the row index 415, 515, 1322 ... of flight_plane come from \n",
    "flight_plane.head()"
   ]
  },
  {
   "cell_type": "code",
   "execution_count": 137,
   "metadata": {},
   "outputs": [
    {
     "name": "stdout",
     "output_type": "stream",
     "text": [
      "Int64Index([ 415,  515, 1322, 1632, 1867, 2626, 3321,  808, 3284, 3321,\n",
      "            ...\n",
      "              96,   85,   91,  101,   96,  172,  787, 3321, 2442, 3321],\n",
      "           dtype='int64', length=926)\n",
      "Int64Index([111296, 111297, 111298, 111299, 111300, 111301, 111302, 111303,\n",
      "            111304, 111305,\n",
      "            ...\n",
      "            112212, 112213, 112214, 112215, 112216, 112217, 112218, 112219,\n",
      "            112220, 112221],\n",
      "           dtype='int64', length=926)\n",
      "[   0    1    2 ..., 3319 3320 3321]\n"
     ]
    }
   ],
   "source": [
    "print (flight_plane.index)  # left_index on feb_flights\n",
    "\n",
    "print (feb_flights.index)   # series from flights with flights row index\n",
    "\n",
    "print (planes.index.values)    # pandas index starts from zero \n"
   ]
  },
  {
   "cell_type": "code",
   "execution_count": 117,
   "metadata": {},
   "outputs": [
    {
     "name": "stdout",
     "output_type": "stream",
     "text": [
      "(926,)\n",
      "(678,)\n"
     ]
    }
   ],
   "source": [
    "# the same plane(same tailnum) may depart several times on a single day\n",
    "\n",
    "print (flight_plane.tailnum.shape)\n",
    "print((flight_plane.tailnum.unique()).shape)"
   ]
  },
  {
   "cell_type": "code",
   "execution_count": 141,
   "metadata": {},
   "outputs": [
    {
     "name": "stdout",
     "output_type": "stream",
     "text": [
      "19\n"
     ]
    },
    {
     "data": {
      "text/plain": [
       "True"
      ]
     },
     "execution_count": 141,
     "metadata": {},
     "output_type": "execute_result"
    }
   ],
   "source": [
    "print ((flights.loc[111297] == feb_flights.loc[111297]).sum())\n",
    "\n",
    "# why does't flight_plane take the index from feb_flight as the left_index in pd.merge tells it \n",
    "flight_plane.loc[515]['tailnum'] ==  feb_flights.loc[111297]['tailnum']\n",
    "flight_plane.loc[515]['dest'] ==  feb_flights.loc[111297]['dest']\n"
   ]
  },
  {
   "cell_type": "code",
   "execution_count": null,
   "metadata": {
    "collapsed": true
   },
   "outputs": [],
   "source": [
    "### pd.concat stack multiple dataframes along the specified axis (axis = 1, concat horizontally; axsi = 0, concat  vertically)\n",
    "### pd.merge on columns \n",
    "### pd.join on index "
   ]
  },
  {
   "cell_type": "code",
   "execution_count": 133,
   "metadata": {},
   "outputs": [
    {
     "data": {
      "text/html": [
       "<div>\n",
       "<style>\n",
       "    .dataframe thead tr:only-child th {\n",
       "        text-align: right;\n",
       "    }\n",
       "\n",
       "    .dataframe thead th {\n",
       "        text-align: left;\n",
       "    }\n",
       "\n",
       "    .dataframe tbody tr th {\n",
       "        vertical-align: top;\n",
       "    }\n",
       "</style>\n",
       "<table border=\"1\" class=\"dataframe\">\n",
       "  <thead>\n",
       "    <tr style=\"text-align: right;\">\n",
       "      <th></th>\n",
       "      <th>faa</th>\n",
       "      <th>name</th>\n",
       "      <th>lat</th>\n",
       "      <th>lon</th>\n",
       "      <th>alt</th>\n",
       "      <th>tz</th>\n",
       "      <th>dst</th>\n",
       "      <th>tzone</th>\n",
       "    </tr>\n",
       "  </thead>\n",
       "  <tbody>\n",
       "    <tr>\n",
       "      <th>0</th>\n",
       "      <td>04G</td>\n",
       "      <td>Lansdowne Airport</td>\n",
       "      <td>41.130472</td>\n",
       "      <td>-80.619583</td>\n",
       "      <td>1044</td>\n",
       "      <td>-5</td>\n",
       "      <td>A</td>\n",
       "      <td>America/New_York</td>\n",
       "    </tr>\n",
       "    <tr>\n",
       "      <th>1</th>\n",
       "      <td>06A</td>\n",
       "      <td>Moton Field Municipal Airport</td>\n",
       "      <td>32.460572</td>\n",
       "      <td>-85.680028</td>\n",
       "      <td>264</td>\n",
       "      <td>-6</td>\n",
       "      <td>A</td>\n",
       "      <td>America/Chicago</td>\n",
       "    </tr>\n",
       "    <tr>\n",
       "      <th>2</th>\n",
       "      <td>06C</td>\n",
       "      <td>Schaumburg Regional</td>\n",
       "      <td>41.989341</td>\n",
       "      <td>-88.101243</td>\n",
       "      <td>801</td>\n",
       "      <td>-6</td>\n",
       "      <td>A</td>\n",
       "      <td>America/Chicago</td>\n",
       "    </tr>\n",
       "    <tr>\n",
       "      <th>3</th>\n",
       "      <td>06N</td>\n",
       "      <td>Randall Airport</td>\n",
       "      <td>41.431912</td>\n",
       "      <td>-74.391561</td>\n",
       "      <td>523</td>\n",
       "      <td>-5</td>\n",
       "      <td>A</td>\n",
       "      <td>America/New_York</td>\n",
       "    </tr>\n",
       "    <tr>\n",
       "      <th>4</th>\n",
       "      <td>09J</td>\n",
       "      <td>Jekyll Island Airport</td>\n",
       "      <td>31.074472</td>\n",
       "      <td>-81.427778</td>\n",
       "      <td>11</td>\n",
       "      <td>-5</td>\n",
       "      <td>A</td>\n",
       "      <td>America/New_York</td>\n",
       "    </tr>\n",
       "  </tbody>\n",
       "</table>\n",
       "</div>"
      ],
      "text/plain": [
       "   faa                           name        lat        lon   alt  tz dst  \\\n",
       "0  04G              Lansdowne Airport  41.130472 -80.619583  1044  -5   A   \n",
       "1  06A  Moton Field Municipal Airport  32.460572 -85.680028   264  -6   A   \n",
       "2  06C            Schaumburg Regional  41.989341 -88.101243   801  -6   A   \n",
       "3  06N                Randall Airport  41.431912 -74.391561   523  -5   A   \n",
       "4  09J          Jekyll Island Airport  31.074472 -81.427778    11  -5   A   \n",
       "\n",
       "              tzone  \n",
       "0  America/New_York  \n",
       "1   America/Chicago  \n",
       "2   America/Chicago  \n",
       "3  America/New_York  \n",
       "4  America/New_York  "
      ]
     },
     "execution_count": 133,
     "metadata": {},
     "output_type": "execute_result"
    }
   ],
   "source": [
    "### anotehr merge example - most common destination airports \n",
    "\n",
    "airports = pd.read_table('nycflights13/airports.txt')\n",
    "airports.head()"
   ]
  },
  {
   "cell_type": "code",
   "execution_count": 146,
   "metadata": {},
   "outputs": [
    {
     "data": {
      "text/html": [
       "<div>\n",
       "<style>\n",
       "    .dataframe thead tr:only-child th {\n",
       "        text-align: right;\n",
       "    }\n",
       "\n",
       "    .dataframe thead th {\n",
       "        text-align: left;\n",
       "    }\n",
       "\n",
       "    .dataframe tbody tr th {\n",
       "        vertical-align: top;\n",
       "    }\n",
       "</style>\n",
       "<table border=\"1\" class=\"dataframe\">\n",
       "  <thead>\n",
       "    <tr style=\"text-align: right;\">\n",
       "      <th></th>\n",
       "      <th>year</th>\n",
       "      <th>month</th>\n",
       "      <th>day</th>\n",
       "      <th>dep_time</th>\n",
       "      <th>sched_dep_time</th>\n",
       "      <th>dep_delay</th>\n",
       "      <th>arr_time</th>\n",
       "      <th>sched_arr_time</th>\n",
       "      <th>arr_delay</th>\n",
       "      <th>carrier</th>\n",
       "      <th>flight</th>\n",
       "      <th>tailnum</th>\n",
       "      <th>origin</th>\n",
       "      <th>dest</th>\n",
       "      <th>air_time</th>\n",
       "      <th>distance</th>\n",
       "      <th>hour</th>\n",
       "      <th>minute</th>\n",
       "      <th>time_hour</th>\n",
       "    </tr>\n",
       "  </thead>\n",
       "  <tbody>\n",
       "    <tr>\n",
       "      <th>0</th>\n",
       "      <td>2013</td>\n",
       "      <td>1</td>\n",
       "      <td>1</td>\n",
       "      <td>517.0</td>\n",
       "      <td>515</td>\n",
       "      <td>2.0</td>\n",
       "      <td>830.0</td>\n",
       "      <td>819</td>\n",
       "      <td>11.0</td>\n",
       "      <td>UA</td>\n",
       "      <td>1545</td>\n",
       "      <td>N14228</td>\n",
       "      <td>EWR</td>\n",
       "      <td>IAH</td>\n",
       "      <td>227.0</td>\n",
       "      <td>1400</td>\n",
       "      <td>5</td>\n",
       "      <td>15</td>\n",
       "      <td>2013-01-01 05:00:00</td>\n",
       "    </tr>\n",
       "    <tr>\n",
       "      <th>1</th>\n",
       "      <td>2013</td>\n",
       "      <td>1</td>\n",
       "      <td>1</td>\n",
       "      <td>533.0</td>\n",
       "      <td>529</td>\n",
       "      <td>4.0</td>\n",
       "      <td>850.0</td>\n",
       "      <td>830</td>\n",
       "      <td>20.0</td>\n",
       "      <td>UA</td>\n",
       "      <td>1714</td>\n",
       "      <td>N24211</td>\n",
       "      <td>LGA</td>\n",
       "      <td>IAH</td>\n",
       "      <td>227.0</td>\n",
       "      <td>1416</td>\n",
       "      <td>5</td>\n",
       "      <td>29</td>\n",
       "      <td>2013-01-01 05:00:00</td>\n",
       "    </tr>\n",
       "    <tr>\n",
       "      <th>2</th>\n",
       "      <td>2013</td>\n",
       "      <td>1</td>\n",
       "      <td>1</td>\n",
       "      <td>542.0</td>\n",
       "      <td>540</td>\n",
       "      <td>2.0</td>\n",
       "      <td>923.0</td>\n",
       "      <td>850</td>\n",
       "      <td>33.0</td>\n",
       "      <td>AA</td>\n",
       "      <td>1141</td>\n",
       "      <td>N619AA</td>\n",
       "      <td>JFK</td>\n",
       "      <td>MIA</td>\n",
       "      <td>160.0</td>\n",
       "      <td>1089</td>\n",
       "      <td>5</td>\n",
       "      <td>40</td>\n",
       "      <td>2013-01-01 05:00:00</td>\n",
       "    </tr>\n",
       "    <tr>\n",
       "      <th>3</th>\n",
       "      <td>2013</td>\n",
       "      <td>1</td>\n",
       "      <td>1</td>\n",
       "      <td>544.0</td>\n",
       "      <td>545</td>\n",
       "      <td>-1.0</td>\n",
       "      <td>1004.0</td>\n",
       "      <td>1022</td>\n",
       "      <td>-18.0</td>\n",
       "      <td>B6</td>\n",
       "      <td>725</td>\n",
       "      <td>N804JB</td>\n",
       "      <td>JFK</td>\n",
       "      <td>BQN</td>\n",
       "      <td>183.0</td>\n",
       "      <td>1576</td>\n",
       "      <td>5</td>\n",
       "      <td>45</td>\n",
       "      <td>2013-01-01 05:00:00</td>\n",
       "    </tr>\n",
       "    <tr>\n",
       "      <th>4</th>\n",
       "      <td>2013</td>\n",
       "      <td>1</td>\n",
       "      <td>1</td>\n",
       "      <td>554.0</td>\n",
       "      <td>600</td>\n",
       "      <td>-6.0</td>\n",
       "      <td>812.0</td>\n",
       "      <td>837</td>\n",
       "      <td>-25.0</td>\n",
       "      <td>DL</td>\n",
       "      <td>461</td>\n",
       "      <td>N668DN</td>\n",
       "      <td>LGA</td>\n",
       "      <td>ATL</td>\n",
       "      <td>116.0</td>\n",
       "      <td>762</td>\n",
       "      <td>6</td>\n",
       "      <td>0</td>\n",
       "      <td>2013-01-01 06:00:00</td>\n",
       "    </tr>\n",
       "  </tbody>\n",
       "</table>\n",
       "</div>"
      ],
      "text/plain": [
       "   year  month  day  dep_time  sched_dep_time  dep_delay  arr_time  \\\n",
       "0  2013      1    1     517.0             515        2.0     830.0   \n",
       "1  2013      1    1     533.0             529        4.0     850.0   \n",
       "2  2013      1    1     542.0             540        2.0     923.0   \n",
       "3  2013      1    1     544.0             545       -1.0    1004.0   \n",
       "4  2013      1    1     554.0             600       -6.0     812.0   \n",
       "\n",
       "   sched_arr_time  arr_delay carrier  flight tailnum origin dest  air_time  \\\n",
       "0             819       11.0      UA    1545  N14228    EWR  IAH     227.0   \n",
       "1             830       20.0      UA    1714  N24211    LGA  IAH     227.0   \n",
       "2             850       33.0      AA    1141  N619AA    JFK  MIA     160.0   \n",
       "3            1022      -18.0      B6     725  N804JB    JFK  BQN     183.0   \n",
       "4             837      -25.0      DL     461  N668DN    LGA  ATL     116.0   \n",
       "\n",
       "   distance  hour  minute            time_hour  \n",
       "0      1400     5      15  2013-01-01 05:00:00  \n",
       "1      1416     5      29  2013-01-01 05:00:00  \n",
       "2      1089     5      40  2013-01-01 05:00:00  \n",
       "3      1576     5      45  2013-01-01 05:00:00  \n",
       "4       762     6       0  2013-01-01 06:00:00  "
      ]
     },
     "execution_count": 146,
     "metadata": {},
     "output_type": "execute_result"
    }
   ],
   "source": [
    "# flights info documemtaion without NAs \n",
    "flights_complete.head()"
   ]
  },
  {
   "cell_type": "code",
   "execution_count": 150,
   "metadata": {},
   "outputs": [
    {
     "data": {
      "text/plain": [
       "Index(['year', 'month', 'day', 'dep_time', 'sched_dep_time', 'dep_delay',\n",
       "       'arr_time', 'sched_arr_time', 'arr_delay', 'carrier', 'flight',\n",
       "       'tailnum', 'origin', 'dest', 'air_time', 'distance', 'hour', 'minute',\n",
       "       'time_hour', 'faa', 'name', 'lat', 'lon', 'alt', 'tz', 'dst', 'tzone'],\n",
       "      dtype='object')"
      ]
     },
     "execution_count": 150,
     "metadata": {},
     "output_type": "execute_result"
    }
   ],
   "source": [
    "flights_dest = pd.merge(flights_complete, airports, how = 'left', left_on = 'dest', right_on = 'faa')\n",
    "# the above merge give too many data fields\n",
    "flights_dest.columns"
   ]
  },
  {
   "cell_type": "code",
   "execution_count": 161,
   "metadata": {},
   "outputs": [
    {
     "data": {
      "text/html": [
       "<div>\n",
       "<style>\n",
       "    .dataframe thead tr:only-child th {\n",
       "        text-align: right;\n",
       "    }\n",
       "\n",
       "    .dataframe thead th {\n",
       "        text-align: left;\n",
       "    }\n",
       "\n",
       "    .dataframe tbody tr th {\n",
       "        vertical-align: top;\n",
       "    }\n",
       "</style>\n",
       "<table border=\"1\" class=\"dataframe\">\n",
       "  <thead>\n",
       "    <tr style=\"text-align: right;\">\n",
       "      <th></th>\n",
       "      <th>origin</th>\n",
       "    </tr>\n",
       "    <tr>\n",
       "      <th>name</th>\n",
       "      <th></th>\n",
       "    </tr>\n",
       "  </thead>\n",
       "  <tbody>\n",
       "    <tr>\n",
       "      <th>Hartsfield Jackson Atlanta Intl</th>\n",
       "      <td>16837</td>\n",
       "    </tr>\n",
       "    <tr>\n",
       "      <th>Chicago Ohare Intl</th>\n",
       "      <td>16566</td>\n",
       "    </tr>\n",
       "    <tr>\n",
       "      <th>Los Angeles Intl</th>\n",
       "      <td>16026</td>\n",
       "    </tr>\n",
       "    <tr>\n",
       "      <th>General Edward Lawrence Logan Intl</th>\n",
       "      <td>15022</td>\n",
       "    </tr>\n",
       "    <tr>\n",
       "      <th>Orlando Intl</th>\n",
       "      <td>13967</td>\n",
       "    </tr>\n",
       "  </tbody>\n",
       "</table>\n",
       "</div>"
      ],
      "text/plain": [
       "                                    origin\n",
       "name                                      \n",
       "Hartsfield Jackson Atlanta Intl      16837\n",
       "Chicago Ohare Intl                   16566\n",
       "Los Angeles Intl                     16026\n",
       "General Edward Lawrence Logan Intl   15022\n",
       "Orlando Intl                         13967"
      ]
     },
     "execution_count": 161,
     "metadata": {},
     "output_type": "execute_result"
    }
   ],
   "source": [
    "# most common destiantion airports \n",
    "flights_dest[['origin', 'name']].groupby('name').count().sort_values('origin')[::-1].head()"
   ]
  },
  {
   "cell_type": "code",
   "execution_count": 169,
   "metadata": {},
   "outputs": [
    {
     "name": "stdout",
     "output_type": "stream",
     "text": [
      "216\n"
     ]
    },
    {
     "data": {
      "text/plain": [
       "origin  name                      \n",
       "EWR     Albany Intl                    31.787081\n",
       "        Asheville Regional Airport     89.796813\n",
       "        Austin Bergstrom Intl         211.247649\n",
       "        Baltimore Washington Intl      37.164122\n",
       "        Bradley Intl                   25.466019\n",
       "Name: air_time, dtype: float64"
      ]
     },
     "execution_count": 169,
     "metadata": {},
     "output_type": "execute_result"
    }
   ],
   "source": [
    "# average air_time according to airport with the corresponding routes\n",
    "## groupby(['origin','name'])['air_time']\n",
    "\n",
    "air_time = flights_dest[['origin', 'name', 'air_time']].groupby(['origin','name'])['air_time'].mean()\n",
    "print (air_time.shape[0])\n",
    "\n",
    "air_time.head()"
   ]
  },
  {
   "cell_type": "code",
   "execution_count": 172,
   "metadata": {},
   "outputs": [
    {
     "data": {
      "text/html": [
       "<div>\n",
       "<style>\n",
       "    .dataframe thead tr:only-child th {\n",
       "        text-align: right;\n",
       "    }\n",
       "\n",
       "    .dataframe thead th {\n",
       "        text-align: left;\n",
       "    }\n",
       "\n",
       "    .dataframe tbody tr th {\n",
       "        vertical-align: top;\n",
       "    }\n",
       "</style>\n",
       "<table border=\"1\" class=\"dataframe\">\n",
       "  <thead>\n",
       "    <tr style=\"text-align: right;\">\n",
       "      <th></th>\n",
       "      <th></th>\n",
       "      <th>air_time</th>\n",
       "    </tr>\n",
       "    <tr>\n",
       "      <th>origin</th>\n",
       "      <th>name</th>\n",
       "      <th></th>\n",
       "    </tr>\n",
       "  </thead>\n",
       "  <tbody>\n",
       "    <tr>\n",
       "      <th rowspan=\"5\" valign=\"top\">EWR</th>\n",
       "      <th>Albany Intl</th>\n",
       "      <td>418</td>\n",
       "    </tr>\n",
       "    <tr>\n",
       "      <th>Asheville Regional Airport</th>\n",
       "      <td>251</td>\n",
       "    </tr>\n",
       "    <tr>\n",
       "      <th>Austin Bergstrom Intl</th>\n",
       "      <td>957</td>\n",
       "    </tr>\n",
       "    <tr>\n",
       "      <th>Baltimore Washington Intl</th>\n",
       "      <td>524</td>\n",
       "    </tr>\n",
       "    <tr>\n",
       "      <th>Bradley Intl</th>\n",
       "      <td>412</td>\n",
       "    </tr>\n",
       "  </tbody>\n",
       "</table>\n",
       "</div>"
      ],
      "text/plain": [
       "                                   air_time\n",
       "origin name                                \n",
       "EWR    Albany Intl                      418\n",
       "       Asheville Regional Airport       251\n",
       "       Austin Bergstrom Intl            957\n",
       "       Baltimore Washington Intl        524\n",
       "       Bradley Intl                     412"
      ]
     },
     "execution_count": 172,
     "metadata": {},
     "output_type": "execute_result"
    }
   ],
   "source": [
    "# count for the frequency of differnet air routes \n",
    "flights_dest[['origin', 'name', 'air_time']].groupby(['origin','name']).count().head()"
   ]
  },
  {
   "cell_type": "markdown",
   "metadata": {},
   "source": [
    "#### air_time has two levels of index\n",
    "- the outer one is origin \n",
    "- inner one is name, which is the destination"
   ]
  },
  {
   "cell_type": "code",
   "execution_count": 178,
   "metadata": {},
   "outputs": [
    {
     "name": "stdout",
     "output_type": "stream",
     "text": [
      "<class 'pandas.core.series.Series'>\n"
     ]
    },
    {
     "data": {
      "text/plain": [
       "origin\n",
       "EWR    612.075209\n",
       "JFK    623.087719\n",
       "LGA    227.515997\n",
       "Name: air_time, dtype: float64"
      ]
     },
     "execution_count": 178,
     "metadata": {},
     "output_type": "execute_result"
    }
   ],
   "source": [
    "print (type(air_time))\n",
    "\n",
    "# longest air_time on average(one route several flights) from different airports\n",
    "air_time.groupby(level = 'origin').max()"
   ]
  },
  {
   "cell_type": "code",
   "execution_count": 181,
   "metadata": {},
   "outputs": [
    {
     "data": {
      "text/plain": [
       "623.08771929824559"
      ]
     },
     "execution_count": 181,
     "metadata": {},
     "output_type": "execute_result"
    }
   ],
   "source": [
    "air_time.max()"
   ]
  },
  {
   "cell_type": "code",
   "execution_count": 185,
   "metadata": {},
   "outputs": [
    {
     "data": {
      "text/plain": [
       "origin\n",
       "EWR    (EWR, Honolulu Intl)\n",
       "JFK    (JFK, Honolulu Intl)\n",
       "LGA      (LGA, Denver Intl)\n",
       "Name: air_time, dtype: object"
      ]
     },
     "execution_count": 185,
     "metadata": {},
     "output_type": "execute_result"
    }
   ],
   "source": [
    "# to return the routes \n",
    "rows = air_time.groupby(level = 'origin').idxmax()\n",
    "rows"
   ]
  },
  {
   "cell_type": "code",
   "execution_count": 186,
   "metadata": {},
   "outputs": [
    {
     "data": {
      "text/plain": [
       "origin  name         \n",
       "EWR     Honolulu Intl    612.075209\n",
       "JFK     Honolulu Intl    623.087719\n",
       "LGA     Denver Intl      227.515997\n",
       "Name: air_time, dtype: float64"
      ]
     },
     "execution_count": 186,
     "metadata": {},
     "output_type": "execute_result"
    }
   ],
   "source": [
    "# and check the row details \n",
    "air_time[rows]"
   ]
  },
  {
   "cell_type": "code",
   "execution_count": 187,
   "metadata": {},
   "outputs": [
    {
     "data": {
      "text/html": [
       "<div>\n",
       "<style>\n",
       "    .dataframe thead tr:only-child th {\n",
       "        text-align: right;\n",
       "    }\n",
       "\n",
       "    .dataframe thead th {\n",
       "        text-align: left;\n",
       "    }\n",
       "\n",
       "    .dataframe tbody tr th {\n",
       "        vertical-align: top;\n",
       "    }\n",
       "</style>\n",
       "<table border=\"1\" class=\"dataframe\">\n",
       "  <thead>\n",
       "    <tr style=\"text-align: right;\">\n",
       "      <th></th>\n",
       "      <th>origin</th>\n",
       "      <th>name</th>\n",
       "      <th>air_time</th>\n",
       "    </tr>\n",
       "  </thead>\n",
       "  <tbody>\n",
       "    <tr>\n",
       "      <th>0</th>\n",
       "      <td>EWR</td>\n",
       "      <td>Albany Intl</td>\n",
       "      <td>31.787081</td>\n",
       "    </tr>\n",
       "    <tr>\n",
       "      <th>1</th>\n",
       "      <td>EWR</td>\n",
       "      <td>Asheville Regional Airport</td>\n",
       "      <td>89.796813</td>\n",
       "    </tr>\n",
       "    <tr>\n",
       "      <th>2</th>\n",
       "      <td>EWR</td>\n",
       "      <td>Austin Bergstrom Intl</td>\n",
       "      <td>211.247649</td>\n",
       "    </tr>\n",
       "    <tr>\n",
       "      <th>3</th>\n",
       "      <td>EWR</td>\n",
       "      <td>Baltimore Washington Intl</td>\n",
       "      <td>37.164122</td>\n",
       "    </tr>\n",
       "    <tr>\n",
       "      <th>4</th>\n",
       "      <td>EWR</td>\n",
       "      <td>Bradley Intl</td>\n",
       "      <td>25.466019</td>\n",
       "    </tr>\n",
       "    <tr>\n",
       "      <th>5</th>\n",
       "      <td>EWR</td>\n",
       "      <td>Buffalo Niagara Intl</td>\n",
       "      <td>51.153846</td>\n",
       "    </tr>\n",
       "    <tr>\n",
       "      <th>6</th>\n",
       "      <td>EWR</td>\n",
       "      <td>Burlington Intl</td>\n",
       "      <td>46.257336</td>\n",
       "    </tr>\n",
       "    <tr>\n",
       "      <th>7</th>\n",
       "      <td>EWR</td>\n",
       "      <td>Charleston Afb Intl</td>\n",
       "      <td>95.746091</td>\n",
       "    </tr>\n",
       "    <tr>\n",
       "      <th>8</th>\n",
       "      <td>EWR</td>\n",
       "      <td>Charlotte Douglas Intl</td>\n",
       "      <td>84.975680</td>\n",
       "    </tr>\n",
       "    <tr>\n",
       "      <th>9</th>\n",
       "      <td>EWR</td>\n",
       "      <td>Cherry Capital Airport</td>\n",
       "      <td>96.000000</td>\n",
       "    </tr>\n",
       "    <tr>\n",
       "      <th>10</th>\n",
       "      <td>EWR</td>\n",
       "      <td>Chicago Midway Intl</td>\n",
       "      <td>110.894366</td>\n",
       "    </tr>\n",
       "    <tr>\n",
       "      <th>11</th>\n",
       "      <td>EWR</td>\n",
       "      <td>Chicago Ohare Intl</td>\n",
       "      <td>113.260295</td>\n",
       "    </tr>\n",
       "    <tr>\n",
       "      <th>12</th>\n",
       "      <td>EWR</td>\n",
       "      <td>Cincinnati Northern Kentucky Intl</td>\n",
       "      <td>96.068046</td>\n",
       "    </tr>\n",
       "    <tr>\n",
       "      <th>13</th>\n",
       "      <td>EWR</td>\n",
       "      <td>Cleveland Hopkins Intl</td>\n",
       "      <td>66.276879</td>\n",
       "    </tr>\n",
       "    <tr>\n",
       "      <th>14</th>\n",
       "      <td>EWR</td>\n",
       "      <td>Columbia Metropolitan</td>\n",
       "      <td>92.148936</td>\n",
       "    </tr>\n",
       "    <tr>\n",
       "      <th>15</th>\n",
       "      <td>EWR</td>\n",
       "      <td>Dallas Fort Worth Intl</td>\n",
       "      <td>197.060717</td>\n",
       "    </tr>\n",
       "    <tr>\n",
       "      <th>16</th>\n",
       "      <td>EWR</td>\n",
       "      <td>Dane Co Rgnl Truax Fld</td>\n",
       "      <td>124.246377</td>\n",
       "    </tr>\n",
       "    <tr>\n",
       "      <th>17</th>\n",
       "      <td>EWR</td>\n",
       "      <td>Denver Intl</td>\n",
       "      <td>224.933925</td>\n",
       "    </tr>\n",
       "    <tr>\n",
       "      <th>18</th>\n",
       "      <td>EWR</td>\n",
       "      <td>Des Moines Intl</td>\n",
       "      <td>149.541026</td>\n",
       "    </tr>\n",
       "    <tr>\n",
       "      <th>19</th>\n",
       "      <td>EWR</td>\n",
       "      <td>Detroit Metro Wayne Co</td>\n",
       "      <td>84.834164</td>\n",
       "    </tr>\n",
       "    <tr>\n",
       "      <th>20</th>\n",
       "      <td>EWR</td>\n",
       "      <td>Eagle Co Rgnl</td>\n",
       "      <td>253.584906</td>\n",
       "    </tr>\n",
       "    <tr>\n",
       "      <th>21</th>\n",
       "      <td>EWR</td>\n",
       "      <td>Eppley Afld</td>\n",
       "      <td>165.922865</td>\n",
       "    </tr>\n",
       "    <tr>\n",
       "      <th>22</th>\n",
       "      <td>EWR</td>\n",
       "      <td>Fort Lauderdale Hollywood Intl</td>\n",
       "      <td>152.095455</td>\n",
       "    </tr>\n",
       "    <tr>\n",
       "      <th>23</th>\n",
       "      <td>EWR</td>\n",
       "      <td>Gallatin Field</td>\n",
       "      <td>258.371429</td>\n",
       "    </tr>\n",
       "    <tr>\n",
       "      <th>24</th>\n",
       "      <td>EWR</td>\n",
       "      <td>General Edward Lawrence Logan Intl</td>\n",
       "      <td>40.312750</td>\n",
       "    </tr>\n",
       "    <tr>\n",
       "      <th>25</th>\n",
       "      <td>EWR</td>\n",
       "      <td>General Mitchell Intl</td>\n",
       "      <td>115.372401</td>\n",
       "    </tr>\n",
       "    <tr>\n",
       "      <th>26</th>\n",
       "      <td>EWR</td>\n",
       "      <td>George Bush Intercontinental</td>\n",
       "      <td>195.840428</td>\n",
       "    </tr>\n",
       "    <tr>\n",
       "      <th>27</th>\n",
       "      <td>EWR</td>\n",
       "      <td>Gerald R Ford Intl</td>\n",
       "      <td>96.715116</td>\n",
       "    </tr>\n",
       "    <tr>\n",
       "      <th>28</th>\n",
       "      <td>EWR</td>\n",
       "      <td>Greater Rochester Intl</td>\n",
       "      <td>45.334016</td>\n",
       "    </tr>\n",
       "    <tr>\n",
       "      <th>29</th>\n",
       "      <td>EWR</td>\n",
       "      <td>Greenville-Spartanburg International</td>\n",
       "      <td>93.219653</td>\n",
       "    </tr>\n",
       "    <tr>\n",
       "      <th>...</th>\n",
       "      <td>...</td>\n",
       "      <td>...</td>\n",
       "      <td>...</td>\n",
       "    </tr>\n",
       "    <tr>\n",
       "      <th>186</th>\n",
       "      <td>LGA</td>\n",
       "      <td>Louisville International Airport</td>\n",
       "      <td>105.871429</td>\n",
       "    </tr>\n",
       "    <tr>\n",
       "      <th>187</th>\n",
       "      <td>LGA</td>\n",
       "      <td>Manchester Regional Airport</td>\n",
       "      <td>35.435185</td>\n",
       "    </tr>\n",
       "    <tr>\n",
       "      <th>188</th>\n",
       "      <td>LGA</td>\n",
       "      <td>Mc Ghee Tyson</td>\n",
       "      <td>97.818868</td>\n",
       "    </tr>\n",
       "    <tr>\n",
       "      <th>189</th>\n",
       "      <td>LGA</td>\n",
       "      <td>Memphis Intl</td>\n",
       "      <td>140.409524</td>\n",
       "    </tr>\n",
       "    <tr>\n",
       "      <th>190</th>\n",
       "      <td>LGA</td>\n",
       "      <td>Miami Intl</td>\n",
       "      <td>154.148720</td>\n",
       "    </tr>\n",
       "    <tr>\n",
       "      <th>191</th>\n",
       "      <td>LGA</td>\n",
       "      <td>Minneapolis St Paul Intl</td>\n",
       "      <td>149.220994</td>\n",
       "    </tr>\n",
       "    <tr>\n",
       "      <th>192</th>\n",
       "      <td>LGA</td>\n",
       "      <td>Myrtle Beach Intl</td>\n",
       "      <td>93.333333</td>\n",
       "    </tr>\n",
       "    <tr>\n",
       "      <th>193</th>\n",
       "      <td>LGA</td>\n",
       "      <td>NW Arkansas Regional</td>\n",
       "      <td>173.165021</td>\n",
       "    </tr>\n",
       "    <tr>\n",
       "      <th>194</th>\n",
       "      <td>LGA</td>\n",
       "      <td>Nashville Intl</td>\n",
       "      <td>113.698317</td>\n",
       "    </tr>\n",
       "    <tr>\n",
       "      <th>195</th>\n",
       "      <td>LGA</td>\n",
       "      <td>Norfolk Intl</td>\n",
       "      <td>52.128205</td>\n",
       "    </tr>\n",
       "    <tr>\n",
       "      <th>196</th>\n",
       "      <td>LGA</td>\n",
       "      <td>Orlando Intl</td>\n",
       "      <td>134.748422</td>\n",
       "    </tr>\n",
       "    <tr>\n",
       "      <th>197</th>\n",
       "      <td>LGA</td>\n",
       "      <td>Palm Beach Intl</td>\n",
       "      <td>146.137093</td>\n",
       "    </tr>\n",
       "    <tr>\n",
       "      <th>198</th>\n",
       "      <td>LGA</td>\n",
       "      <td>Philadelphia Intl</td>\n",
       "      <td>37.026756</td>\n",
       "    </tr>\n",
       "    <tr>\n",
       "      <th>199</th>\n",
       "      <td>LGA</td>\n",
       "      <td>Piedmont Triad</td>\n",
       "      <td>71.082774</td>\n",
       "    </tr>\n",
       "    <tr>\n",
       "      <th>200</th>\n",
       "      <td>LGA</td>\n",
       "      <td>Pittsburgh Intl</td>\n",
       "      <td>57.739130</td>\n",
       "    </tr>\n",
       "    <tr>\n",
       "      <th>201</th>\n",
       "      <td>LGA</td>\n",
       "      <td>Port Columbus Intl</td>\n",
       "      <td>78.062532</td>\n",
       "    </tr>\n",
       "    <tr>\n",
       "      <th>202</th>\n",
       "      <td>LGA</td>\n",
       "      <td>Portland Intl Jetport</td>\n",
       "      <td>43.893773</td>\n",
       "    </tr>\n",
       "    <tr>\n",
       "      <th>203</th>\n",
       "      <td>LGA</td>\n",
       "      <td>Raleigh Durham Intl</td>\n",
       "      <td>70.557864</td>\n",
       "    </tr>\n",
       "    <tr>\n",
       "      <th>204</th>\n",
       "      <td>LGA</td>\n",
       "      <td>Richmond Intl</td>\n",
       "      <td>54.214141</td>\n",
       "    </tr>\n",
       "    <tr>\n",
       "      <th>205</th>\n",
       "      <td>LGA</td>\n",
       "      <td>Ronald Reagan Washington Natl</td>\n",
       "      <td>45.594673</td>\n",
       "    </tr>\n",
       "    <tr>\n",
       "      <th>206</th>\n",
       "      <td>LGA</td>\n",
       "      <td>Sarasota Bradenton Intl</td>\n",
       "      <td>152.652949</td>\n",
       "    </tr>\n",
       "    <tr>\n",
       "      <th>207</th>\n",
       "      <td>LGA</td>\n",
       "      <td>Savannah Hilton Head Intl</td>\n",
       "      <td>103.264706</td>\n",
       "    </tr>\n",
       "    <tr>\n",
       "      <th>208</th>\n",
       "      <td>LGA</td>\n",
       "      <td>South Bend Rgnl</td>\n",
       "      <td>96.833333</td>\n",
       "    </tr>\n",
       "    <tr>\n",
       "      <th>209</th>\n",
       "      <td>LGA</td>\n",
       "      <td>Southwest Florida Intl</td>\n",
       "      <td>160.481383</td>\n",
       "    </tr>\n",
       "    <tr>\n",
       "      <th>210</th>\n",
       "      <td>LGA</td>\n",
       "      <td>Syracuse Hancock Intl</td>\n",
       "      <td>38.063197</td>\n",
       "    </tr>\n",
       "    <tr>\n",
       "      <th>211</th>\n",
       "      <td>LGA</td>\n",
       "      <td>Tampa Intl</td>\n",
       "      <td>145.963311</td>\n",
       "    </tr>\n",
       "    <tr>\n",
       "      <th>212</th>\n",
       "      <td>LGA</td>\n",
       "      <td>Washington Dulles Intl</td>\n",
       "      <td>48.594937</td>\n",
       "    </tr>\n",
       "    <tr>\n",
       "      <th>213</th>\n",
       "      <td>LGA</td>\n",
       "      <td>William P Hobby</td>\n",
       "      <td>202.235849</td>\n",
       "    </tr>\n",
       "    <tr>\n",
       "      <th>214</th>\n",
       "      <td>LGA</td>\n",
       "      <td>Wilmington Intl</td>\n",
       "      <td>75.355140</td>\n",
       "    </tr>\n",
       "    <tr>\n",
       "      <th>215</th>\n",
       "      <td>LGA</td>\n",
       "      <td>Yeager</td>\n",
       "      <td>74.753731</td>\n",
       "    </tr>\n",
       "  </tbody>\n",
       "</table>\n",
       "<p>216 rows × 3 columns</p>\n",
       "</div>"
      ],
      "text/plain": [
       "    origin                                  name    air_time\n",
       "0      EWR                           Albany Intl   31.787081\n",
       "1      EWR            Asheville Regional Airport   89.796813\n",
       "2      EWR                 Austin Bergstrom Intl  211.247649\n",
       "3      EWR             Baltimore Washington Intl   37.164122\n",
       "4      EWR                          Bradley Intl   25.466019\n",
       "5      EWR                  Buffalo Niagara Intl   51.153846\n",
       "6      EWR                       Burlington Intl   46.257336\n",
       "7      EWR                   Charleston Afb Intl   95.746091\n",
       "8      EWR                Charlotte Douglas Intl   84.975680\n",
       "9      EWR                Cherry Capital Airport   96.000000\n",
       "10     EWR                   Chicago Midway Intl  110.894366\n",
       "11     EWR                    Chicago Ohare Intl  113.260295\n",
       "12     EWR     Cincinnati Northern Kentucky Intl   96.068046\n",
       "13     EWR                Cleveland Hopkins Intl   66.276879\n",
       "14     EWR                 Columbia Metropolitan   92.148936\n",
       "15     EWR                Dallas Fort Worth Intl  197.060717\n",
       "16     EWR                Dane Co Rgnl Truax Fld  124.246377\n",
       "17     EWR                           Denver Intl  224.933925\n",
       "18     EWR                       Des Moines Intl  149.541026\n",
       "19     EWR                Detroit Metro Wayne Co   84.834164\n",
       "20     EWR                         Eagle Co Rgnl  253.584906\n",
       "21     EWR                           Eppley Afld  165.922865\n",
       "22     EWR        Fort Lauderdale Hollywood Intl  152.095455\n",
       "23     EWR                        Gallatin Field  258.371429\n",
       "24     EWR    General Edward Lawrence Logan Intl   40.312750\n",
       "25     EWR                 General Mitchell Intl  115.372401\n",
       "26     EWR          George Bush Intercontinental  195.840428\n",
       "27     EWR                    Gerald R Ford Intl   96.715116\n",
       "28     EWR                Greater Rochester Intl   45.334016\n",
       "29     EWR  Greenville-Spartanburg International   93.219653\n",
       "..     ...                                   ...         ...\n",
       "186    LGA      Louisville International Airport  105.871429\n",
       "187    LGA           Manchester Regional Airport   35.435185\n",
       "188    LGA                         Mc Ghee Tyson   97.818868\n",
       "189    LGA                          Memphis Intl  140.409524\n",
       "190    LGA                            Miami Intl  154.148720\n",
       "191    LGA              Minneapolis St Paul Intl  149.220994\n",
       "192    LGA                     Myrtle Beach Intl   93.333333\n",
       "193    LGA                  NW Arkansas Regional  173.165021\n",
       "194    LGA                        Nashville Intl  113.698317\n",
       "195    LGA                          Norfolk Intl   52.128205\n",
       "196    LGA                          Orlando Intl  134.748422\n",
       "197    LGA                       Palm Beach Intl  146.137093\n",
       "198    LGA                     Philadelphia Intl   37.026756\n",
       "199    LGA                        Piedmont Triad   71.082774\n",
       "200    LGA                       Pittsburgh Intl   57.739130\n",
       "201    LGA                    Port Columbus Intl   78.062532\n",
       "202    LGA                 Portland Intl Jetport   43.893773\n",
       "203    LGA                   Raleigh Durham Intl   70.557864\n",
       "204    LGA                         Richmond Intl   54.214141\n",
       "205    LGA         Ronald Reagan Washington Natl   45.594673\n",
       "206    LGA               Sarasota Bradenton Intl  152.652949\n",
       "207    LGA             Savannah Hilton Head Intl  103.264706\n",
       "208    LGA                       South Bend Rgnl   96.833333\n",
       "209    LGA                Southwest Florida Intl  160.481383\n",
       "210    LGA                 Syracuse Hancock Intl   38.063197\n",
       "211    LGA                            Tampa Intl  145.963311\n",
       "212    LGA                Washington Dulles Intl   48.594937\n",
       "213    LGA                       William P Hobby  202.235849\n",
       "214    LGA                       Wilmington Intl   75.355140\n",
       "215    LGA                                Yeager   74.753731\n",
       "\n",
       "[216 rows x 3 columns]"
      ]
     },
     "execution_count": 187,
     "metadata": {},
     "output_type": "execute_result"
    }
   ],
   "source": [
    "# resets the heirarchical index back to dataframe index. i.e. removing heirarchical index level \n",
    "air_time.reset_index() "
   ]
  },
  {
   "cell_type": "markdown",
   "metadata": {},
   "source": [
    "### Pivot table \n",
    "put origin in rows and destination in columns and air_time as values"
   ]
  },
  {
   "cell_type": "code",
   "execution_count": 188,
   "metadata": {},
   "outputs": [
    {
     "data": {
      "text/html": [
       "<div>\n",
       "<style>\n",
       "    .dataframe thead tr:only-child th {\n",
       "        text-align: right;\n",
       "    }\n",
       "\n",
       "    .dataframe thead th {\n",
       "        text-align: left;\n",
       "    }\n",
       "\n",
       "    .dataframe tbody tr th {\n",
       "        vertical-align: top;\n",
       "    }\n",
       "</style>\n",
       "<table border=\"1\" class=\"dataframe\">\n",
       "  <thead>\n",
       "    <tr style=\"text-align: right;\">\n",
       "      <th>name</th>\n",
       "      <th>Akron Canton Regional Airport</th>\n",
       "      <th>Albany Intl</th>\n",
       "      <th>Albuquerque International Sunport</th>\n",
       "      <th>Asheville Regional Airport</th>\n",
       "      <th>Austin Bergstrom Intl</th>\n",
       "      <th>Baltimore Washington Intl</th>\n",
       "      <th>Bangor Intl</th>\n",
       "      <th>Birmingham Intl</th>\n",
       "      <th>Blue Grass</th>\n",
       "      <th>Bob Hope</th>\n",
       "      <th>...</th>\n",
       "      <th>Tampa Intl</th>\n",
       "      <th>Ted Stevens Anchorage Intl</th>\n",
       "      <th>Theodore Francis Green State</th>\n",
       "      <th>Tulsa Intl</th>\n",
       "      <th>Washington Dulles Intl</th>\n",
       "      <th>Will Rogers World</th>\n",
       "      <th>William P Hobby</th>\n",
       "      <th>Wilmington Intl</th>\n",
       "      <th>Yampa Valley</th>\n",
       "      <th>Yeager</th>\n",
       "    </tr>\n",
       "    <tr>\n",
       "      <th>origin</th>\n",
       "      <th></th>\n",
       "      <th></th>\n",
       "      <th></th>\n",
       "      <th></th>\n",
       "      <th></th>\n",
       "      <th></th>\n",
       "      <th></th>\n",
       "      <th></th>\n",
       "      <th></th>\n",
       "      <th></th>\n",
       "      <th></th>\n",
       "      <th></th>\n",
       "      <th></th>\n",
       "      <th></th>\n",
       "      <th></th>\n",
       "      <th></th>\n",
       "      <th></th>\n",
       "      <th></th>\n",
       "      <th></th>\n",
       "      <th></th>\n",
       "      <th></th>\n",
       "    </tr>\n",
       "  </thead>\n",
       "  <tbody>\n",
       "    <tr>\n",
       "      <th>EWR</th>\n",
       "      <td>NaN</td>\n",
       "      <td>31.787081</td>\n",
       "      <td>NaN</td>\n",
       "      <td>89.796813</td>\n",
       "      <td>211.247649</td>\n",
       "      <td>37.164122</td>\n",
       "      <td>NaN</td>\n",
       "      <td>NaN</td>\n",
       "      <td>NaN</td>\n",
       "      <td>NaN</td>\n",
       "      <td>...</td>\n",
       "      <td>143.620302</td>\n",
       "      <td>413.125</td>\n",
       "      <td>32.667598</td>\n",
       "      <td>178.309524</td>\n",
       "      <td>46.117304</td>\n",
       "      <td>193.009524</td>\n",
       "      <td>205.174051</td>\n",
       "      <td>NaN</td>\n",
       "      <td>248.5</td>\n",
       "      <td>NaN</td>\n",
       "    </tr>\n",
       "    <tr>\n",
       "      <th>JFK</th>\n",
       "      <td>NaN</td>\n",
       "      <td>NaN</td>\n",
       "      <td>249.169291</td>\n",
       "      <td>NaN</td>\n",
       "      <td>213.702201</td>\n",
       "      <td>39.083624</td>\n",
       "      <td>NaN</td>\n",
       "      <td>117.000000</td>\n",
       "      <td>NaN</td>\n",
       "      <td>334.102703</td>\n",
       "      <td>...</td>\n",
       "      <td>144.278399</td>\n",
       "      <td>NaN</td>\n",
       "      <td>NaN</td>\n",
       "      <td>NaN</td>\n",
       "      <td>48.138382</td>\n",
       "      <td>NaN</td>\n",
       "      <td>205.500703</td>\n",
       "      <td>NaN</td>\n",
       "      <td>NaN</td>\n",
       "      <td>NaN</td>\n",
       "    </tr>\n",
       "    <tr>\n",
       "      <th>LGA</th>\n",
       "      <td>64.036817</td>\n",
       "      <td>NaN</td>\n",
       "      <td>NaN</td>\n",
       "      <td>92.200000</td>\n",
       "      <td>NaN</td>\n",
       "      <td>40.466667</td>\n",
       "      <td>54.117318</td>\n",
       "      <td>122.798507</td>\n",
       "      <td>90.0</td>\n",
       "      <td>NaN</td>\n",
       "      <td>...</td>\n",
       "      <td>145.963311</td>\n",
       "      <td>NaN</td>\n",
       "      <td>NaN</td>\n",
       "      <td>NaN</td>\n",
       "      <td>48.594937</td>\n",
       "      <td>NaN</td>\n",
       "      <td>202.235849</td>\n",
       "      <td>75.35514</td>\n",
       "      <td>NaN</td>\n",
       "      <td>74.753731</td>\n",
       "    </tr>\n",
       "  </tbody>\n",
       "</table>\n",
       "<p>3 rows × 100 columns</p>\n",
       "</div>"
      ],
      "text/plain": [
       "name    Akron Canton Regional Airport  Albany Intl  \\\n",
       "origin                                               \n",
       "EWR                               NaN    31.787081   \n",
       "JFK                               NaN          NaN   \n",
       "LGA                         64.036817          NaN   \n",
       "\n",
       "name    Albuquerque International Sunport  Asheville Regional Airport  \\\n",
       "origin                                                                  \n",
       "EWR                                   NaN                   89.796813   \n",
       "JFK                            249.169291                         NaN   \n",
       "LGA                                   NaN                   92.200000   \n",
       "\n",
       "name    Austin Bergstrom Intl  Baltimore Washington Intl  Bangor Intl  \\\n",
       "origin                                                                  \n",
       "EWR                211.247649                  37.164122          NaN   \n",
       "JFK                213.702201                  39.083624          NaN   \n",
       "LGA                       NaN                  40.466667    54.117318   \n",
       "\n",
       "name    Birmingham Intl  Blue Grass    Bob Hope    ...      Tampa Intl  \\\n",
       "origin                                             ...                   \n",
       "EWR                 NaN         NaN         NaN    ...      143.620302   \n",
       "JFK          117.000000         NaN  334.102703    ...      144.278399   \n",
       "LGA          122.798507        90.0         NaN    ...      145.963311   \n",
       "\n",
       "name    Ted Stevens Anchorage Intl  Theodore Francis Green State  Tulsa Intl  \\\n",
       "origin                                                                         \n",
       "EWR                        413.125                     32.667598  178.309524   \n",
       "JFK                            NaN                           NaN         NaN   \n",
       "LGA                            NaN                           NaN         NaN   \n",
       "\n",
       "name    Washington Dulles Intl  Will Rogers World  William P Hobby  \\\n",
       "origin                                                               \n",
       "EWR                  46.117304         193.009524       205.174051   \n",
       "JFK                  48.138382                NaN       205.500703   \n",
       "LGA                  48.594937                NaN       202.235849   \n",
       "\n",
       "name    Wilmington Intl  Yampa Valley     Yeager  \n",
       "origin                                            \n",
       "EWR                 NaN         248.5        NaN  \n",
       "JFK                 NaN           NaN        NaN  \n",
       "LGA            75.35514           NaN  74.753731  \n",
       "\n",
       "[3 rows x 100 columns]"
      ]
     },
     "execution_count": 188,
     "metadata": {},
     "output_type": "execute_result"
    }
   ],
   "source": [
    "# unstack air_time, which has hierarchical index\n",
    "pvt_airtime = air_time.unstack()\n",
    "pvt_airtime"
   ]
  },
  {
   "cell_type": "code",
   "execution_count": 189,
   "metadata": {},
   "outputs": [
    {
     "data": {
      "text/html": [
       "<div>\n",
       "<style>\n",
       "    .dataframe thead tr:only-child th {\n",
       "        text-align: right;\n",
       "    }\n",
       "\n",
       "    .dataframe thead th {\n",
       "        text-align: left;\n",
       "    }\n",
       "\n",
       "    .dataframe tbody tr th {\n",
       "        vertical-align: top;\n",
       "    }\n",
       "</style>\n",
       "<table border=\"1\" class=\"dataframe\">\n",
       "  <thead>\n",
       "    <tr style=\"text-align: right;\">\n",
       "      <th></th>\n",
       "      <th>origin</th>\n",
       "      <th>name</th>\n",
       "      <th>air_time</th>\n",
       "    </tr>\n",
       "  </thead>\n",
       "  <tbody>\n",
       "    <tr>\n",
       "      <th>0</th>\n",
       "      <td>EWR</td>\n",
       "      <td>Albany Intl</td>\n",
       "      <td>31.787081</td>\n",
       "    </tr>\n",
       "    <tr>\n",
       "      <th>1</th>\n",
       "      <td>EWR</td>\n",
       "      <td>Asheville Regional Airport</td>\n",
       "      <td>89.796813</td>\n",
       "    </tr>\n",
       "    <tr>\n",
       "      <th>2</th>\n",
       "      <td>EWR</td>\n",
       "      <td>Austin Bergstrom Intl</td>\n",
       "      <td>211.247649</td>\n",
       "    </tr>\n",
       "    <tr>\n",
       "      <th>3</th>\n",
       "      <td>EWR</td>\n",
       "      <td>Baltimore Washington Intl</td>\n",
       "      <td>37.164122</td>\n",
       "    </tr>\n",
       "    <tr>\n",
       "      <th>4</th>\n",
       "      <td>EWR</td>\n",
       "      <td>Bradley Intl</td>\n",
       "      <td>25.466019</td>\n",
       "    </tr>\n",
       "  </tbody>\n",
       "</table>\n",
       "</div>"
      ],
      "text/plain": [
       "  origin                        name    air_time\n",
       "0    EWR                 Albany Intl   31.787081\n",
       "1    EWR  Asheville Regional Airport   89.796813\n",
       "2    EWR       Austin Bergstrom Intl  211.247649\n",
       "3    EWR   Baltimore Washington Intl   37.164122\n",
       "4    EWR                Bradley Intl   25.466019"
      ]
     },
     "execution_count": 189,
     "metadata": {},
     "output_type": "execute_result"
    }
   ],
   "source": [
    "# pivot table from dataframe \n",
    "## create the dataframe first by resetign the index in the hierarchical indexed series\n",
    "air_df = air_time.reset_index()\n",
    "air_df.head()"
   ]
  },
  {
   "cell_type": "code",
   "execution_count": 190,
   "metadata": {},
   "outputs": [
    {
     "data": {
      "text/html": [
       "<div>\n",
       "<style>\n",
       "    .dataframe thead tr:only-child th {\n",
       "        text-align: right;\n",
       "    }\n",
       "\n",
       "    .dataframe thead th {\n",
       "        text-align: left;\n",
       "    }\n",
       "\n",
       "    .dataframe tbody tr th {\n",
       "        vertical-align: top;\n",
       "    }\n",
       "</style>\n",
       "<table border=\"1\" class=\"dataframe\">\n",
       "  <thead>\n",
       "    <tr style=\"text-align: right;\">\n",
       "      <th>name</th>\n",
       "      <th>Akron Canton Regional Airport</th>\n",
       "      <th>Albany Intl</th>\n",
       "      <th>Albuquerque International Sunport</th>\n",
       "      <th>Asheville Regional Airport</th>\n",
       "      <th>Austin Bergstrom Intl</th>\n",
       "      <th>Baltimore Washington Intl</th>\n",
       "      <th>Bangor Intl</th>\n",
       "      <th>Birmingham Intl</th>\n",
       "      <th>Blue Grass</th>\n",
       "      <th>Bob Hope</th>\n",
       "      <th>...</th>\n",
       "      <th>Tampa Intl</th>\n",
       "      <th>Ted Stevens Anchorage Intl</th>\n",
       "      <th>Theodore Francis Green State</th>\n",
       "      <th>Tulsa Intl</th>\n",
       "      <th>Washington Dulles Intl</th>\n",
       "      <th>Will Rogers World</th>\n",
       "      <th>William P Hobby</th>\n",
       "      <th>Wilmington Intl</th>\n",
       "      <th>Yampa Valley</th>\n",
       "      <th>Yeager</th>\n",
       "    </tr>\n",
       "    <tr>\n",
       "      <th>origin</th>\n",
       "      <th></th>\n",
       "      <th></th>\n",
       "      <th></th>\n",
       "      <th></th>\n",
       "      <th></th>\n",
       "      <th></th>\n",
       "      <th></th>\n",
       "      <th></th>\n",
       "      <th></th>\n",
       "      <th></th>\n",
       "      <th></th>\n",
       "      <th></th>\n",
       "      <th></th>\n",
       "      <th></th>\n",
       "      <th></th>\n",
       "      <th></th>\n",
       "      <th></th>\n",
       "      <th></th>\n",
       "      <th></th>\n",
       "      <th></th>\n",
       "      <th></th>\n",
       "    </tr>\n",
       "  </thead>\n",
       "  <tbody>\n",
       "    <tr>\n",
       "      <th>EWR</th>\n",
       "      <td>NaN</td>\n",
       "      <td>31.787081</td>\n",
       "      <td>NaN</td>\n",
       "      <td>89.796813</td>\n",
       "      <td>211.247649</td>\n",
       "      <td>37.164122</td>\n",
       "      <td>NaN</td>\n",
       "      <td>NaN</td>\n",
       "      <td>NaN</td>\n",
       "      <td>NaN</td>\n",
       "      <td>...</td>\n",
       "      <td>143.620302</td>\n",
       "      <td>413.125</td>\n",
       "      <td>32.667598</td>\n",
       "      <td>178.309524</td>\n",
       "      <td>46.117304</td>\n",
       "      <td>193.009524</td>\n",
       "      <td>205.174051</td>\n",
       "      <td>NaN</td>\n",
       "      <td>248.5</td>\n",
       "      <td>NaN</td>\n",
       "    </tr>\n",
       "    <tr>\n",
       "      <th>JFK</th>\n",
       "      <td>NaN</td>\n",
       "      <td>NaN</td>\n",
       "      <td>249.169291</td>\n",
       "      <td>NaN</td>\n",
       "      <td>213.702201</td>\n",
       "      <td>39.083624</td>\n",
       "      <td>NaN</td>\n",
       "      <td>117.000000</td>\n",
       "      <td>NaN</td>\n",
       "      <td>334.102703</td>\n",
       "      <td>...</td>\n",
       "      <td>144.278399</td>\n",
       "      <td>NaN</td>\n",
       "      <td>NaN</td>\n",
       "      <td>NaN</td>\n",
       "      <td>48.138382</td>\n",
       "      <td>NaN</td>\n",
       "      <td>205.500703</td>\n",
       "      <td>NaN</td>\n",
       "      <td>NaN</td>\n",
       "      <td>NaN</td>\n",
       "    </tr>\n",
       "    <tr>\n",
       "      <th>LGA</th>\n",
       "      <td>64.036817</td>\n",
       "      <td>NaN</td>\n",
       "      <td>NaN</td>\n",
       "      <td>92.200000</td>\n",
       "      <td>NaN</td>\n",
       "      <td>40.466667</td>\n",
       "      <td>54.117318</td>\n",
       "      <td>122.798507</td>\n",
       "      <td>90.0</td>\n",
       "      <td>NaN</td>\n",
       "      <td>...</td>\n",
       "      <td>145.963311</td>\n",
       "      <td>NaN</td>\n",
       "      <td>NaN</td>\n",
       "      <td>NaN</td>\n",
       "      <td>48.594937</td>\n",
       "      <td>NaN</td>\n",
       "      <td>202.235849</td>\n",
       "      <td>75.35514</td>\n",
       "      <td>NaN</td>\n",
       "      <td>74.753731</td>\n",
       "    </tr>\n",
       "  </tbody>\n",
       "</table>\n",
       "<p>3 rows × 100 columns</p>\n",
       "</div>"
      ],
      "text/plain": [
       "name    Akron Canton Regional Airport  Albany Intl  \\\n",
       "origin                                               \n",
       "EWR                               NaN    31.787081   \n",
       "JFK                               NaN          NaN   \n",
       "LGA                         64.036817          NaN   \n",
       "\n",
       "name    Albuquerque International Sunport  Asheville Regional Airport  \\\n",
       "origin                                                                  \n",
       "EWR                                   NaN                   89.796813   \n",
       "JFK                            249.169291                         NaN   \n",
       "LGA                                   NaN                   92.200000   \n",
       "\n",
       "name    Austin Bergstrom Intl  Baltimore Washington Intl  Bangor Intl  \\\n",
       "origin                                                                  \n",
       "EWR                211.247649                  37.164122          NaN   \n",
       "JFK                213.702201                  39.083624          NaN   \n",
       "LGA                       NaN                  40.466667    54.117318   \n",
       "\n",
       "name    Birmingham Intl  Blue Grass    Bob Hope    ...      Tampa Intl  \\\n",
       "origin                                             ...                   \n",
       "EWR                 NaN         NaN         NaN    ...      143.620302   \n",
       "JFK          117.000000         NaN  334.102703    ...      144.278399   \n",
       "LGA          122.798507        90.0         NaN    ...      145.963311   \n",
       "\n",
       "name    Ted Stevens Anchorage Intl  Theodore Francis Green State  Tulsa Intl  \\\n",
       "origin                                                                         \n",
       "EWR                        413.125                     32.667598  178.309524   \n",
       "JFK                            NaN                           NaN         NaN   \n",
       "LGA                            NaN                           NaN         NaN   \n",
       "\n",
       "name    Washington Dulles Intl  Will Rogers World  William P Hobby  \\\n",
       "origin                                                               \n",
       "EWR                  46.117304         193.009524       205.174051   \n",
       "JFK                  48.138382                NaN       205.500703   \n",
       "LGA                  48.594937                NaN       202.235849   \n",
       "\n",
       "name    Wilmington Intl  Yampa Valley     Yeager  \n",
       "origin                                            \n",
       "EWR                 NaN         248.5        NaN  \n",
       "JFK                 NaN           NaN        NaN  \n",
       "LGA            75.35514           NaN  74.753731  \n",
       "\n",
       "[3 rows x 100 columns]"
      ]
     },
     "execution_count": 190,
     "metadata": {},
     "output_type": "execute_result"
    }
   ],
   "source": [
    "air_pvt = air_df.pivot(index = 'origin', columns = 'name', values = 'air_time')\n",
    "air_pvt.head()"
   ]
  },
  {
   "cell_type": "markdown",
   "metadata": {},
   "source": [
    "### multi column merge"
   ]
  },
  {
   "cell_type": "code",
   "execution_count": 198,
   "metadata": {},
   "outputs": [
    {
     "data": {
      "text/html": [
       "<div>\n",
       "<style>\n",
       "    .dataframe thead tr:only-child th {\n",
       "        text-align: right;\n",
       "    }\n",
       "\n",
       "    .dataframe thead th {\n",
       "        text-align: left;\n",
       "    }\n",
       "\n",
       "    .dataframe tbody tr th {\n",
       "        vertical-align: top;\n",
       "    }\n",
       "</style>\n",
       "<table border=\"1\" class=\"dataframe\">\n",
       "  <thead>\n",
       "    <tr style=\"text-align: right;\">\n",
       "      <th></th>\n",
       "      <th>origin</th>\n",
       "      <th>year</th>\n",
       "      <th>month</th>\n",
       "      <th>day</th>\n",
       "      <th>hour</th>\n",
       "      <th>temp</th>\n",
       "      <th>dewp</th>\n",
       "      <th>humid</th>\n",
       "      <th>wind_dir</th>\n",
       "      <th>wind_speed</th>\n",
       "      <th>wind_gust</th>\n",
       "      <th>precip</th>\n",
       "      <th>pressure</th>\n",
       "      <th>visib</th>\n",
       "      <th>time_hour</th>\n",
       "    </tr>\n",
       "  </thead>\n",
       "  <tbody>\n",
       "    <tr>\n",
       "      <th>0</th>\n",
       "      <td>EWR</td>\n",
       "      <td>2013</td>\n",
       "      <td>1</td>\n",
       "      <td>1</td>\n",
       "      <td>0</td>\n",
       "      <td>37.04</td>\n",
       "      <td>21.92</td>\n",
       "      <td>53.97</td>\n",
       "      <td>230.0</td>\n",
       "      <td>10.35702</td>\n",
       "      <td>11.918651</td>\n",
       "      <td>0.0</td>\n",
       "      <td>1013.9</td>\n",
       "      <td>10.0</td>\n",
       "      <td>2012-12-31 16:00:00</td>\n",
       "    </tr>\n",
       "    <tr>\n",
       "      <th>1</th>\n",
       "      <td>EWR</td>\n",
       "      <td>2013</td>\n",
       "      <td>1</td>\n",
       "      <td>1</td>\n",
       "      <td>1</td>\n",
       "      <td>37.04</td>\n",
       "      <td>21.92</td>\n",
       "      <td>53.97</td>\n",
       "      <td>230.0</td>\n",
       "      <td>13.80936</td>\n",
       "      <td>15.891535</td>\n",
       "      <td>0.0</td>\n",
       "      <td>1013.0</td>\n",
       "      <td>10.0</td>\n",
       "      <td>2012-12-31 17:00:00</td>\n",
       "    </tr>\n",
       "    <tr>\n",
       "      <th>2</th>\n",
       "      <td>EWR</td>\n",
       "      <td>2013</td>\n",
       "      <td>1</td>\n",
       "      <td>1</td>\n",
       "      <td>2</td>\n",
       "      <td>37.94</td>\n",
       "      <td>21.92</td>\n",
       "      <td>52.09</td>\n",
       "      <td>230.0</td>\n",
       "      <td>12.65858</td>\n",
       "      <td>14.567241</td>\n",
       "      <td>0.0</td>\n",
       "      <td>1012.6</td>\n",
       "      <td>10.0</td>\n",
       "      <td>2012-12-31 18:00:00</td>\n",
       "    </tr>\n",
       "    <tr>\n",
       "      <th>3</th>\n",
       "      <td>EWR</td>\n",
       "      <td>2013</td>\n",
       "      <td>1</td>\n",
       "      <td>1</td>\n",
       "      <td>3</td>\n",
       "      <td>37.94</td>\n",
       "      <td>23.00</td>\n",
       "      <td>54.51</td>\n",
       "      <td>230.0</td>\n",
       "      <td>13.80936</td>\n",
       "      <td>15.891535</td>\n",
       "      <td>0.0</td>\n",
       "      <td>1012.7</td>\n",
       "      <td>10.0</td>\n",
       "      <td>2012-12-31 19:00:00</td>\n",
       "    </tr>\n",
       "    <tr>\n",
       "      <th>4</th>\n",
       "      <td>EWR</td>\n",
       "      <td>2013</td>\n",
       "      <td>1</td>\n",
       "      <td>1</td>\n",
       "      <td>4</td>\n",
       "      <td>37.94</td>\n",
       "      <td>24.08</td>\n",
       "      <td>57.04</td>\n",
       "      <td>240.0</td>\n",
       "      <td>14.96014</td>\n",
       "      <td>17.215830</td>\n",
       "      <td>0.0</td>\n",
       "      <td>1012.8</td>\n",
       "      <td>10.0</td>\n",
       "      <td>2012-12-31 20:00:00</td>\n",
       "    </tr>\n",
       "  </tbody>\n",
       "</table>\n",
       "</div>"
      ],
      "text/plain": [
       "  origin  year  month  day  hour   temp   dewp  humid  wind_dir  wind_speed  \\\n",
       "0    EWR  2013      1    1     0  37.04  21.92  53.97     230.0    10.35702   \n",
       "1    EWR  2013      1    1     1  37.04  21.92  53.97     230.0    13.80936   \n",
       "2    EWR  2013      1    1     2  37.94  21.92  52.09     230.0    12.65858   \n",
       "3    EWR  2013      1    1     3  37.94  23.00  54.51     230.0    13.80936   \n",
       "4    EWR  2013      1    1     4  37.94  24.08  57.04     240.0    14.96014   \n",
       "\n",
       "   wind_gust  precip  pressure  visib            time_hour  \n",
       "0  11.918651     0.0    1013.9   10.0  2012-12-31 16:00:00  \n",
       "1  15.891535     0.0    1013.0   10.0  2012-12-31 17:00:00  \n",
       "2  14.567241     0.0    1012.6   10.0  2012-12-31 18:00:00  \n",
       "3  15.891535     0.0    1012.7   10.0  2012-12-31 19:00:00  \n",
       "4  17.215830     0.0    1012.8   10.0  2012-12-31 20:00:00  "
      ]
     },
     "execution_count": 198,
     "metadata": {},
     "output_type": "execute_result"
    }
   ],
   "source": [
    "weather = pd.read_table('nycflights13/weather.txt')\n",
    "weather.head()"
   ]
  },
  {
   "cell_type": "code",
   "execution_count": 199,
   "metadata": {},
   "outputs": [
    {
     "name": "stdout",
     "output_type": "stream",
     "text": [
      "Index(['year', 'month', 'day', 'origin', 'hour', 'time_hour'], dtype='object')\n"
     ]
    }
   ],
   "source": [
    "# shared columns bewtween two dataframes\n",
    "print(flights_complete.columns & weather.columns)"
   ]
  },
  {
   "cell_type": "code",
   "execution_count": 200,
   "metadata": {},
   "outputs": [
    {
     "name": "stdout",
     "output_type": "stream",
     "text": [
      "327346\n",
      "26130\n"
     ]
    }
   ],
   "source": [
    "print (flights_complete.shape[0])\n",
    "print (weather.shape[0])"
   ]
  },
  {
   "cell_type": "code",
   "execution_count": 216,
   "metadata": {},
   "outputs": [
    {
     "name": "stdout",
     "output_type": "stream",
     "text": [
      "326160\n"
     ]
    },
    {
     "data": {
      "text/html": [
       "<div>\n",
       "<style>\n",
       "    .dataframe thead tr:only-child th {\n",
       "        text-align: right;\n",
       "    }\n",
       "\n",
       "    .dataframe thead th {\n",
       "        text-align: left;\n",
       "    }\n",
       "\n",
       "    .dataframe tbody tr th {\n",
       "        vertical-align: top;\n",
       "    }\n",
       "</style>\n",
       "<table border=\"1\" class=\"dataframe\">\n",
       "  <thead>\n",
       "    <tr style=\"text-align: right;\">\n",
       "      <th></th>\n",
       "      <th>year</th>\n",
       "      <th>month</th>\n",
       "      <th>day</th>\n",
       "      <th>dep_time</th>\n",
       "      <th>sched_dep_time</th>\n",
       "      <th>dep_delay</th>\n",
       "      <th>arr_time</th>\n",
       "      <th>sched_arr_time</th>\n",
       "      <th>arr_delay</th>\n",
       "      <th>carrier</th>\n",
       "      <th>...</th>\n",
       "      <th>temp</th>\n",
       "      <th>dewp</th>\n",
       "      <th>humid</th>\n",
       "      <th>wind_dir</th>\n",
       "      <th>wind_speed</th>\n",
       "      <th>wind_gust</th>\n",
       "      <th>precip</th>\n",
       "      <th>pressure</th>\n",
       "      <th>visib</th>\n",
       "      <th>time_hour_y</th>\n",
       "    </tr>\n",
       "  </thead>\n",
       "  <tbody>\n",
       "    <tr>\n",
       "      <th>0</th>\n",
       "      <td>2013</td>\n",
       "      <td>1</td>\n",
       "      <td>1</td>\n",
       "      <td>554.0</td>\n",
       "      <td>600</td>\n",
       "      <td>-6.0</td>\n",
       "      <td>812.0</td>\n",
       "      <td>837</td>\n",
       "      <td>-25.0</td>\n",
       "      <td>DL</td>\n",
       "      <td>...</td>\n",
       "      <td>39.92</td>\n",
       "      <td>26.06</td>\n",
       "      <td>57.33</td>\n",
       "      <td>260.0</td>\n",
       "      <td>13.80936</td>\n",
       "      <td>15.891535</td>\n",
       "      <td>0.0</td>\n",
       "      <td>1011.9</td>\n",
       "      <td>10.0</td>\n",
       "      <td>2012-12-31 22:00:00</td>\n",
       "    </tr>\n",
       "    <tr>\n",
       "      <th>1</th>\n",
       "      <td>2013</td>\n",
       "      <td>1</td>\n",
       "      <td>1</td>\n",
       "      <td>557.0</td>\n",
       "      <td>600</td>\n",
       "      <td>-3.0</td>\n",
       "      <td>709.0</td>\n",
       "      <td>723</td>\n",
       "      <td>-14.0</td>\n",
       "      <td>EV</td>\n",
       "      <td>...</td>\n",
       "      <td>39.92</td>\n",
       "      <td>26.06</td>\n",
       "      <td>57.33</td>\n",
       "      <td>260.0</td>\n",
       "      <td>13.80936</td>\n",
       "      <td>15.891535</td>\n",
       "      <td>0.0</td>\n",
       "      <td>1011.9</td>\n",
       "      <td>10.0</td>\n",
       "      <td>2012-12-31 22:00:00</td>\n",
       "    </tr>\n",
       "    <tr>\n",
       "      <th>2</th>\n",
       "      <td>2013</td>\n",
       "      <td>1</td>\n",
       "      <td>1</td>\n",
       "      <td>558.0</td>\n",
       "      <td>600</td>\n",
       "      <td>-2.0</td>\n",
       "      <td>753.0</td>\n",
       "      <td>745</td>\n",
       "      <td>8.0</td>\n",
       "      <td>AA</td>\n",
       "      <td>...</td>\n",
       "      <td>39.92</td>\n",
       "      <td>26.06</td>\n",
       "      <td>57.33</td>\n",
       "      <td>260.0</td>\n",
       "      <td>13.80936</td>\n",
       "      <td>15.891535</td>\n",
       "      <td>0.0</td>\n",
       "      <td>1011.9</td>\n",
       "      <td>10.0</td>\n",
       "      <td>2012-12-31 22:00:00</td>\n",
       "    </tr>\n",
       "    <tr>\n",
       "      <th>3</th>\n",
       "      <td>2013</td>\n",
       "      <td>1</td>\n",
       "      <td>1</td>\n",
       "      <td>559.0</td>\n",
       "      <td>600</td>\n",
       "      <td>-1.0</td>\n",
       "      <td>941.0</td>\n",
       "      <td>910</td>\n",
       "      <td>31.0</td>\n",
       "      <td>AA</td>\n",
       "      <td>...</td>\n",
       "      <td>39.92</td>\n",
       "      <td>26.06</td>\n",
       "      <td>57.33</td>\n",
       "      <td>260.0</td>\n",
       "      <td>13.80936</td>\n",
       "      <td>15.891535</td>\n",
       "      <td>0.0</td>\n",
       "      <td>1011.9</td>\n",
       "      <td>10.0</td>\n",
       "      <td>2012-12-31 22:00:00</td>\n",
       "    </tr>\n",
       "    <tr>\n",
       "      <th>4</th>\n",
       "      <td>2013</td>\n",
       "      <td>1</td>\n",
       "      <td>1</td>\n",
       "      <td>600.0</td>\n",
       "      <td>600</td>\n",
       "      <td>0.0</td>\n",
       "      <td>851.0</td>\n",
       "      <td>858</td>\n",
       "      <td>-7.0</td>\n",
       "      <td>B6</td>\n",
       "      <td>...</td>\n",
       "      <td>39.92</td>\n",
       "      <td>26.06</td>\n",
       "      <td>57.33</td>\n",
       "      <td>260.0</td>\n",
       "      <td>13.80936</td>\n",
       "      <td>15.891535</td>\n",
       "      <td>0.0</td>\n",
       "      <td>1011.9</td>\n",
       "      <td>10.0</td>\n",
       "      <td>2012-12-31 22:00:00</td>\n",
       "    </tr>\n",
       "  </tbody>\n",
       "</table>\n",
       "<p>5 rows × 29 columns</p>\n",
       "</div>"
      ],
      "text/plain": [
       "   year  month  day  dep_time  sched_dep_time  dep_delay  arr_time  \\\n",
       "0  2013      1    1     554.0             600       -6.0     812.0   \n",
       "1  2013      1    1     557.0             600       -3.0     709.0   \n",
       "2  2013      1    1     558.0             600       -2.0     753.0   \n",
       "3  2013      1    1     559.0             600       -1.0     941.0   \n",
       "4  2013      1    1     600.0             600        0.0     851.0   \n",
       "\n",
       "   sched_arr_time  arr_delay carrier         ...            temp   dewp  \\\n",
       "0             837      -25.0      DL         ...           39.92  26.06   \n",
       "1             723      -14.0      EV         ...           39.92  26.06   \n",
       "2             745        8.0      AA         ...           39.92  26.06   \n",
       "3             910       31.0      AA         ...           39.92  26.06   \n",
       "4             858       -7.0      B6         ...           39.92  26.06   \n",
       "\n",
       "   humid wind_dir  wind_speed  wind_gust  precip  pressure visib  \\\n",
       "0  57.33    260.0    13.80936  15.891535     0.0    1011.9  10.0   \n",
       "1  57.33    260.0    13.80936  15.891535     0.0    1011.9  10.0   \n",
       "2  57.33    260.0    13.80936  15.891535     0.0    1011.9  10.0   \n",
       "3  57.33    260.0    13.80936  15.891535     0.0    1011.9  10.0   \n",
       "4  57.33    260.0    13.80936  15.891535     0.0    1011.9  10.0   \n",
       "\n",
       "           time_hour_y  \n",
       "0  2012-12-31 22:00:00  \n",
       "1  2012-12-31 22:00:00  \n",
       "2  2012-12-31 22:00:00  \n",
       "3  2012-12-31 22:00:00  \n",
       "4  2012-12-31 22:00:00  \n",
       "\n",
       "[5 rows x 29 columns]"
      ]
     },
     "execution_count": 216,
     "metadata": {},
     "output_type": "execute_result"
    }
   ],
   "source": [
    "weather_flights = pd.merge(flights_complete, weather, on = ['year', 'month', 'day','hour', 'origin'])\n",
    "\n",
    "print (weather_flights.shape[0])\n",
    "weather_flights.head()"
   ]
  },
  {
   "cell_type": "code",
   "execution_count": 233,
   "metadata": {
    "scrolled": true
   },
   "outputs": [
    {
     "name": "stdout",
     "output_type": "stream",
     "text": [
      "2811\n"
     ]
    },
    {
     "data": {
      "text/html": [
       "<div>\n",
       "<style>\n",
       "    .dataframe thead tr:only-child th {\n",
       "        text-align: right;\n",
       "    }\n",
       "\n",
       "    .dataframe thead th {\n",
       "        text-align: left;\n",
       "    }\n",
       "\n",
       "    .dataframe tbody tr th {\n",
       "        vertical-align: top;\n",
       "    }\n",
       "</style>\n",
       "<table border=\"1\" class=\"dataframe\">\n",
       "  <thead>\n",
       "    <tr style=\"text-align: right;\">\n",
       "      <th></th>\n",
       "      <th>flight</th>\n",
       "      <th>wind_speed</th>\n",
       "      <th>wind_gust</th>\n",
       "      <th>precip</th>\n",
       "    </tr>\n",
       "  </thead>\n",
       "  <tbody>\n",
       "    <tr>\n",
       "      <th>158</th>\n",
       "      <td>3944</td>\n",
       "      <td>14.96014</td>\n",
       "      <td>17.215830</td>\n",
       "      <td>0.0</td>\n",
       "    </tr>\n",
       "    <tr>\n",
       "      <th>412</th>\n",
       "      <td>4417</td>\n",
       "      <td>10.35702</td>\n",
       "      <td>11.918651</td>\n",
       "      <td>0.0</td>\n",
       "    </tr>\n",
       "    <tr>\n",
       "      <th>455</th>\n",
       "      <td>4633</td>\n",
       "      <td>14.96014</td>\n",
       "      <td>17.215830</td>\n",
       "      <td>0.0</td>\n",
       "    </tr>\n",
       "    <tr>\n",
       "      <th>600</th>\n",
       "      <td>4644</td>\n",
       "      <td>14.96014</td>\n",
       "      <td>17.215830</td>\n",
       "      <td>0.0</td>\n",
       "    </tr>\n",
       "    <tr>\n",
       "      <th>640</th>\n",
       "      <td>3347</td>\n",
       "      <td>17.26170</td>\n",
       "      <td>19.864419</td>\n",
       "      <td>0.0</td>\n",
       "    </tr>\n",
       "  </tbody>\n",
       "</table>\n",
       "</div>"
      ],
      "text/plain": [
       "     flight  wind_speed  wind_gust  precip\n",
       "158    3944    14.96014  17.215830     0.0\n",
       "412    4417    10.35702  11.918651     0.0\n",
       "455    4633    14.96014  17.215830     0.0\n",
       "600    4644    14.96014  17.215830     0.0\n",
       "640    3347    17.26170  19.864419     0.0"
      ]
     },
     "execution_count": 233,
     "metadata": {},
     "output_type": "execute_result"
    }
   ],
   "source": [
    "# get flight and weather when the delay is greter than 200 mins\n",
    "\n",
    "delay = weather_flights[weather_flights.dep_delay > 200][['flight', 'wind_speed', 'wind_gust', 'precip' ]]\n",
    "# and the following works the same way \n",
    "# '>' condition gives a series of row index with boolean values where the conditions are satisfied\n",
    "delay = weather_flights.loc[weather_flights.dep_delay > 200][['flight', 'wind_speed', 'wind_gust', 'precip']]\n",
    "\n",
    "print (delay.shape[0])\n",
    "delay.head()"
   ]
  },
  {
   "cell_type": "code",
   "execution_count": null,
   "metadata": {
    "collapsed": true
   },
   "outputs": [],
   "source": []
  },
  {
   "cell_type": "code",
   "execution_count": null,
   "metadata": {
    "collapsed": true
   },
   "outputs": [],
   "source": []
  },
  {
   "cell_type": "code",
   "execution_count": null,
   "metadata": {
    "collapsed": true
   },
   "outputs": [],
   "source": []
  },
  {
   "cell_type": "markdown",
   "metadata": {},
   "source": [
    "### Dictionary "
   ]
  },
  {
   "cell_type": "markdown",
   "metadata": {},
   "source": [
    "Python's efficient key/value **hash table** structure is called a \"dict\". The contents of a dict can be written as a series of key: value pairs within braces { }, e.g. dict = {key1: value1, key2: value2, ... }. The \"empty dict\" is just an empty pair of curly braces {}.\n",
    "\n",
    "**Looking up or setting a value in a dict uses square brackets**\n",
    "- e.g. dict['foo'] looks up the value under the key 'foo'. Strings, numbers, and tuples work as keys, and any type can be a value. Other types may or may not work correctly as keys (strings and tuples work since they are immutable. Only immutable data types can be used as keys, i.e. no lists or dictionaries can be used). \n",
    "- Looking up a value which is not in the dict throws a KeyError \n",
    "- use \"in\" to check if the key is in the dict, or use dict.get(key) which returns the value or None if the key is not present (or get(key, not-found) allows you to specify what value to return in the not-found case).\n",
    "\n",
    "\n"
   ]
  },
  {
   "cell_type": "code",
   "execution_count": 300,
   "metadata": {},
   "outputs": [
    {
     "data": {
      "text/plain": [
       "{'a': 'alpha', 'g': 'gamma', 'o': 'omega'}"
      ]
     },
     "execution_count": 300,
     "metadata": {},
     "output_type": "execute_result"
    }
   ],
   "source": [
    "dic = {}\n",
    "# adding keys to the dict\n",
    "dic['a'] = 'alpha'\n",
    "dic['g'] = 'gamma'\n",
    "dic['o'] = 'omega'\n",
    "dic"
   ]
  },
  {
   "cell_type": "code",
   "execution_count": 236,
   "metadata": {
    "collapsed": true
   },
   "outputs": [],
   "source": [
    "# removing keys and the values using del and pop\n",
    "del dic['a']"
   ]
  },
  {
   "cell_type": "code",
   "execution_count": 245,
   "metadata": {},
   "outputs": [
    {
     "name": "stdout",
     "output_type": "stream",
     "text": [
      "Help on built-in function pop:\n",
      "\n",
      "pop(...) method of builtins.dict instance\n",
      "    D.pop(k[,d]) -> v, remove specified key and return the corresponding value.\n",
      "    If key is not found, d is returned if given, otherwise KeyError is raised\n",
      "\n"
     ]
    }
   ],
   "source": [
    "help(dic.pop)"
   ]
  },
  {
   "cell_type": "markdown",
   "metadata": {},
   "source": [
    "### By default iterating over a dictionary iterates over its keys. Note that the keys are in a random order"
   ]
  },
  {
   "cell_type": "code",
   "execution_count": 280,
   "metadata": {},
   "outputs": [
    {
     "name": "stdout",
     "output_type": "stream",
     "text": [
      "a\n",
      "g\n",
      "o\n"
     ]
    }
   ],
   "source": [
    "for key in dic:\n",
    "    print (key)"
   ]
  },
  {
   "cell_type": "code",
   "execution_count": 277,
   "metadata": {},
   "outputs": [
    {
     "name": "stdout",
     "output_type": "stream",
     "text": [
      "a\n",
      "g\n",
      "o\n"
     ]
    }
   ],
   "source": [
    "# the above is exactly the same as the following\n",
    "for key in dic.keys():\n",
    "    print (key)"
   ]
  },
  {
   "cell_type": "code",
   "execution_count": 281,
   "metadata": {},
   "outputs": [
    {
     "name": "stdout",
     "output_type": "stream",
     "text": [
      "a alpha\n",
      "g gamma\n",
      "o omega\n"
     ]
    }
   ],
   "source": [
    "# to loop over sorted keys \n",
    "\n",
    "for key in sorted(dic.keys()):\n",
    "    print (key, dic[key])"
   ]
  },
  {
   "cell_type": "code",
   "execution_count": 298,
   "metadata": {},
   "outputs": [
    {
     "name": "stdout",
     "output_type": "stream",
     "text": [
      "a is the short for alpha\n",
      "g is the short for gamma\n",
      "o is the short for omega\n",
      "['alpha', 'omega']\n"
     ]
    }
   ],
   "source": [
    "# the following syntax loops over the .items() **tuple***  list, one pair of (key, value) on each iteration  \n",
    "\n",
    "for k, v in dic.items():\n",
    "    print ('{} is the short for {}'.format(k, v))\n",
    "    \n",
    "# this key, value pair iteration is usful list comprehension as well. for example\n",
    "print ([v for k, v in dic.items() if (k == 'a')| (k == 'o')])"
   ]
  },
  {
   "cell_type": "markdown",
   "metadata": {},
   "source": [
    "### create pandas dataframe from dictionary\n"
   ]
  },
  {
   "cell_type": "code",
   "execution_count": 292,
   "metadata": {},
   "outputs": [
    {
     "name": "stdout",
     "output_type": "stream",
     "text": [
      "{'country': ['United States', 'Australia', 'Japan', 'India', 'Russia', 'Morocco', 'Egypt'], 'drives_right': [True, False, False, False, True, True, True], 'cars_per_cap': [809, 731, 588, 18, 200, 70, 45]}\n",
      "   cars_per_cap        country  drives_right\n",
      "0           809  United States          True\n",
      "1           731      Australia         False\n",
      "2           588          Japan         False\n",
      "3            18          India         False\n",
      "4           200         Russia          True\n",
      "5            70        Morocco          True\n",
      "6            45          Egypt          True\n"
     ]
    }
   ],
   "source": [
    "# creation of a relativley more complex dictionary \n",
    "# keys for the following values are 'country', 'drives_right' and 'cars_per_cap'\n",
    "\n",
    "names = ['United States', 'Australia', 'Japan', 'India', 'Russia', 'Morocco', 'Egypt']\n",
    "dr =  [True, False, False, False, True, True, True]\n",
    "cpc = [809, 731, 588, 18, 200, 70, 45]\n",
    "\n",
    "cars = {'country': names, 'drives_right': dr, 'cars_per_cap': cpc}\n",
    "print (cars)\n",
    "\n",
    "# and convert this dictionary to pandas dataframe using pd.DataFrame\n",
    "cars = pd.DataFrame(cars)\n",
    "print(cars)"
   ]
  },
  {
   "cell_type": "markdown",
   "metadata": {},
   "source": [
    "### dataframe rename column names and rearrange the order of columns"
   ]
  },
  {
   "cell_type": "code",
   "execution_count": 319,
   "metadata": {},
   "outputs": [
    {
     "name": "stdout",
     "output_type": "stream",
     "text": [
      "Index(['cars_per_cap', 'country', 'drives_right'], dtype='object')\n"
     ]
    },
    {
     "data": {
      "text/html": [
       "<div>\n",
       "<style>\n",
       "    .dataframe thead tr:only-child th {\n",
       "        text-align: right;\n",
       "    }\n",
       "\n",
       "    .dataframe thead th {\n",
       "        text-align: left;\n",
       "    }\n",
       "\n",
       "    .dataframe tbody tr th {\n",
       "        vertical-align: top;\n",
       "    }\n",
       "</style>\n",
       "<table border=\"1\" class=\"dataframe\">\n",
       "  <thead>\n",
       "    <tr style=\"text-align: right;\">\n",
       "      <th></th>\n",
       "      <th>country</th>\n",
       "      <th>drives_right</th>\n",
       "      <th>cars_per_cap</th>\n",
       "    </tr>\n",
       "  </thead>\n",
       "  <tbody>\n",
       "    <tr>\n",
       "      <th>0</th>\n",
       "      <td>United States</td>\n",
       "      <td>True</td>\n",
       "      <td>809</td>\n",
       "    </tr>\n",
       "    <tr>\n",
       "      <th>1</th>\n",
       "      <td>Australia</td>\n",
       "      <td>False</td>\n",
       "      <td>731</td>\n",
       "    </tr>\n",
       "    <tr>\n",
       "      <th>2</th>\n",
       "      <td>Japan</td>\n",
       "      <td>False</td>\n",
       "      <td>588</td>\n",
       "    </tr>\n",
       "    <tr>\n",
       "      <th>3</th>\n",
       "      <td>India</td>\n",
       "      <td>False</td>\n",
       "      <td>18</td>\n",
       "    </tr>\n",
       "    <tr>\n",
       "      <th>4</th>\n",
       "      <td>Russia</td>\n",
       "      <td>True</td>\n",
       "      <td>200</td>\n",
       "    </tr>\n",
       "    <tr>\n",
       "      <th>5</th>\n",
       "      <td>Morocco</td>\n",
       "      <td>True</td>\n",
       "      <td>70</td>\n",
       "    </tr>\n",
       "    <tr>\n",
       "      <th>6</th>\n",
       "      <td>Egypt</td>\n",
       "      <td>True</td>\n",
       "      <td>45</td>\n",
       "    </tr>\n",
       "  </tbody>\n",
       "</table>\n",
       "</div>"
      ],
      "text/plain": [
       "         country  drives_right  cars_per_cap\n",
       "0  United States          True           809\n",
       "1      Australia         False           731\n",
       "2          Japan         False           588\n",
       "3          India         False            18\n",
       "4         Russia          True           200\n",
       "5        Morocco          True            70\n",
       "6          Egypt          True            45"
      ]
     },
     "execution_count": 319,
     "metadata": {},
     "output_type": "execute_result"
    }
   ],
   "source": [
    "# reorder columns\n",
    "print (cars.columns)\n",
    "cars_reorder = cars[['country', 'drives_right', 'cars_per_cap']]\n",
    "\n",
    "cars_reorder"
   ]
  },
  {
   "cell_type": "code",
   "execution_count": 349,
   "metadata": {
    "scrolled": true
   },
   "outputs": [
    {
     "name": "stdout",
     "output_type": "stream",
     "text": [
      "<class 'list'>\n",
      "<class 'numpy.ndarray'>\n",
      "<class 'pandas.core.indexes.base.Index'>\n",
      "         country  drives_right  cars_per_cap\n",
      "0  United States          True           809\n",
      "1      Australia         False           731\n",
      "2          Japan         False           588\n",
      "3          India         False            18\n",
      "4         Russia          True           200\n",
      "5        Morocco          True            70\n",
      "6          Egypt          True            45\n",
      "         country  drives_right  cars_per_cap\n",
      "0  United States          True           809\n",
      "1      Australia         False           731\n",
      "2          Japan         False           588\n",
      "3          India         False            18\n",
      "4         Russia          True           200\n",
      "5        Morocco          True            70\n",
      "6          Egypt          True            45\n"
     ]
    }
   ],
   "source": [
    "# or could work on the slicing of column names when there are too many of them \n",
    "\n",
    "col = cars.columns.tolist()\n",
    "print (type(col))\n",
    "\n",
    "col_val = cars.columns.values\n",
    "print (type(col_val))\n",
    "\n",
    "print (type(cars.columns))\n",
    "\n",
    "# reorder columns - col list; the + sign concats lists or strings, but not across types like concatnating list and string  \n",
    "col = [col[1]] + [col[2]] + [col[0]]\n",
    "cars1 = cars[col]\n",
    "print (cars1)\n",
    "\n",
    "# reorder columns - col numpy, 1d numpy array is the same as python list in terms of slicing \n",
    "col_val = [col_val[1]] + [col_val[2]] + [col_val[0]]\n",
    "print (cars[col_val])"
   ]
  },
  {
   "cell_type": "code",
   "execution_count": 356,
   "metadata": {
    "scrolled": true
   },
   "outputs": [
    {
     "data": {
      "text/html": [
       "<div>\n",
       "<style>\n",
       "    .dataframe thead tr:only-child th {\n",
       "        text-align: right;\n",
       "    }\n",
       "\n",
       "    .dataframe thead th {\n",
       "        text-align: left;\n",
       "    }\n",
       "\n",
       "    .dataframe tbody tr th {\n",
       "        vertical-align: top;\n",
       "    }\n",
       "</style>\n",
       "<table border=\"1\" class=\"dataframe\">\n",
       "  <thead>\n",
       "    <tr style=\"text-align: right;\">\n",
       "      <th></th>\n",
       "      <th>p</th>\n",
       "      <th>y</th>\n",
       "      <th>t</th>\n",
       "    </tr>\n",
       "  </thead>\n",
       "  <tbody>\n",
       "    <tr>\n",
       "      <th>0</th>\n",
       "      <td>809</td>\n",
       "      <td>United States</td>\n",
       "      <td>True</td>\n",
       "    </tr>\n",
       "    <tr>\n",
       "      <th>1</th>\n",
       "      <td>731</td>\n",
       "      <td>Australia</td>\n",
       "      <td>False</td>\n",
       "    </tr>\n",
       "    <tr>\n",
       "      <th>2</th>\n",
       "      <td>588</td>\n",
       "      <td>Japan</td>\n",
       "      <td>False</td>\n",
       "    </tr>\n",
       "    <tr>\n",
       "      <th>3</th>\n",
       "      <td>18</td>\n",
       "      <td>India</td>\n",
       "      <td>False</td>\n",
       "    </tr>\n",
       "    <tr>\n",
       "      <th>4</th>\n",
       "      <td>200</td>\n",
       "      <td>Russia</td>\n",
       "      <td>True</td>\n",
       "    </tr>\n",
       "    <tr>\n",
       "      <th>5</th>\n",
       "      <td>70</td>\n",
       "      <td>Morocco</td>\n",
       "      <td>True</td>\n",
       "    </tr>\n",
       "    <tr>\n",
       "      <th>6</th>\n",
       "      <td>45</td>\n",
       "      <td>Egypt</td>\n",
       "      <td>True</td>\n",
       "    </tr>\n",
       "  </tbody>\n",
       "</table>\n",
       "</div>"
      ],
      "text/plain": [
       "     p              y      t\n",
       "0  809  United States   True\n",
       "1  731      Australia  False\n",
       "2  588          Japan  False\n",
       "3   18          India  False\n",
       "4  200         Russia   True\n",
       "5   70        Morocco   True\n",
       "6   45          Egypt   True"
      ]
     },
     "execution_count": 356,
     "metadata": {},
     "output_type": "execute_result"
    }
   ],
   "source": [
    "# rename columns\n",
    "cars.rename(columns = {'cars_per_cap': 'cpc', 'drives_right': 'dr'})\n",
    "\n",
    "# rename using lambda, the anonymous functions\n",
    "cars.rename(columns = lambda x: x[-1])"
   ]
  },
  {
   "cell_type": "markdown",
   "metadata": {},
   "source": [
    "http://openbookproject.net/thinkcs/python/english3e/classes_and_objects_I.html\n",
    "\n",
    "In procedural programming the focus is on writing functions or procedures which operate on data. In object-oriented programming the focus is on the creation of objects which contain both data and functionality together. \n",
    "\n",
    "Object instances have both attributes and methods."
   ]
  },
  {
   "cell_type": "code",
   "execution_count": 363,
   "metadata": {},
   "outputs": [
    {
     "name": "stdout",
     "output_type": "stream",
     "text": [
      "RangeIndex(start=0, stop=7, step=1)\n",
      "<class 'pandas.core.indexes.range.RangeIndex'>\n",
      "[0 1 2 3 4 5 6]\n",
      "<bound method RangeIndex.tolist of RangeIndex(start=0, stop=7, step=1)>\n"
     ]
    }
   ],
   "source": [
    "print (cars.index)\n",
    "print (type(cars.index))\n",
    "\n",
    "# to show the values of the indes, use values, which is an attribute for many other python objects \n",
    "print (cars.index.values)\n",
    "print (cars.index.tolist)"
   ]
  },
  {
   "cell_type": "code",
   "execution_count": 360,
   "metadata": {},
   "outputs": [
    {
     "name": "stdout",
     "output_type": "stream",
     "text": [
      "['country', 'drives_right', 'cars_per_cap']\n",
      "['cars_per_cap', 'drives_right', 'country']\n",
      "cars_per_cap\n",
      "<class 'str'>\n",
      "['country', 'drives_right']\n"
     ]
    }
   ],
   "source": [
    "print (col)\n",
    "# revert list order\n",
    "print (col[::-1])\n",
    "\n",
    "print (col[-1])   # slice for the single last item in the list\n",
    "print (type(col[0]))  # which returns a string type object, instead of a list\n",
    "\n",
    "print (col[:-1])   # slice everything without the last item in the list\n"
   ]
  },
  {
   "cell_type": "code",
   "execution_count": 355,
   "metadata": {},
   "outputs": [
    {
     "name": "stdout",
     "output_type": "stream",
     "text": [
      "['m', 'e', 'd', 'c', 'a']\n",
      "['m', 'd', 'a']\n",
      "['a', 'd', 'm']\n"
     ]
    }
   ],
   "source": [
    "l = ['a', 'c', 'd', 'e', 'm']\n",
    "print (l[::-1])\n",
    "\n",
    "# revert order while only taking numbers in the original list with stepsize 2 \n",
    "print (l[::-2])\n",
    "\n",
    "# 2 is the stepsize/ stride\n",
    "print (l[::2])"
   ]
  },
  {
   "cell_type": "code",
   "execution_count": 334,
   "metadata": {},
   "outputs": [
    {
     "data": {
      "text/plain": [
       "0    405.0\n",
       "1    365.5\n",
       "2    294.0\n",
       "3      9.0\n",
       "4    100.5\n",
       "5     35.5\n",
       "6     23.0\n",
       "dtype: float64"
      ]
     },
     "execution_count": 334,
     "metadata": {},
     "output_type": "execute_result"
    }
   ],
   "source": [
    "cars.mean(axis = 1)"
   ]
  },
  {
   "cell_type": "markdown",
   "metadata": {},
   "source": [
    "### Dictionary iteration "
   ]
  },
  {
   "cell_type": "code",
   "execution_count": 270,
   "metadata": {},
   "outputs": [
    {
     "data": {
      "text/plain": [
       "dict_keys(['a', 'g', 'o'])"
      ]
     },
     "execution_count": 270,
     "metadata": {},
     "output_type": "execute_result"
    }
   ],
   "source": [
    "# get the key names \n",
    "\n",
    "dic.keys()"
   ]
  },
  {
   "cell_type": "code",
   "execution_count": 261,
   "metadata": {},
   "outputs": [
    {
     "data": {
      "text/plain": [
       "dict_values(['alpha', 'gamma', 'omega'])"
      ]
     },
     "execution_count": 261,
     "metadata": {},
     "output_type": "execute_result"
    }
   ],
   "source": [
    "# get the values in the dictionary\n",
    "\n",
    "dic.values()"
   ]
  },
  {
   "cell_type": "code",
   "execution_count": 243,
   "metadata": {},
   "outputs": [
    {
     "data": {
      "text/plain": [
       "dict_items([('a', 'alpha'), ('g', 'gamma'), ('o', 'omega')])"
      ]
     },
     "execution_count": 243,
     "metadata": {},
     "output_type": "execute_result"
    }
   ],
   "source": [
    "# get hte key names and values in pairs\n",
    "\n",
    "dic.items()"
   ]
  },
  {
   "cell_type": "code",
   "execution_count": 365,
   "metadata": {},
   "outputs": [
    {
     "name": "stdout",
     "output_type": "stream",
     "text": [
      "a: alpha\n"
     ]
    }
   ],
   "source": [
    "# get the values from the dictioanry given the key values\n",
    "\n",
    "print('a:', dic.get('a'))"
   ]
  },
  {
   "cell_type": "markdown",
   "metadata": {},
   "source": [
    "### connection between list and dictionaries\n",
    "- lists from dictionaries: dict.values(), dict.keys(), dcit.items()\n",
    "- dictionaries from lists, using zip(), dict()"
   ]
  },
  {
   "cell_type": "code",
   "execution_count": 366,
   "metadata": {},
   "outputs": [
    {
     "data": {
      "text/plain": [
       "{'Germany': 'sauerkraut',\n",
       " 'Italy': 'pizza',\n",
       " 'Spain': 'paella',\n",
       " 'USA': 'Hamburger'}"
      ]
     },
     "execution_count": 366,
     "metadata": {},
     "output_type": "execute_result"
    }
   ],
   "source": [
    "# create dictionary from listsusing zip and dict\n",
    "dishes = [\"pizza\", \"sauerkraut\", \"paella\", \"Hamburger\"]\n",
    "countries = [\"Italy\", \"Germany\", \"Spain\", \"USA\"]\n",
    "con_dish = zip(countries, dishes)\n",
    "\n",
    "con_dish_dict = dict(con_dish)\n",
    "con_dish_dict"
   ]
  },
  {
   "cell_type": "code",
   "execution_count": 368,
   "metadata": {},
   "outputs": [
    {
     "data": {
      "text/plain": [
       "{'Germany': 'sauerkraut',\n",
       " 'Italy': 'pizza',\n",
       " 'Spain': 'paella',\n",
       " 'USA': 'Hamburger'}"
      ]
     },
     "execution_count": 368,
     "metadata": {},
     "output_type": "execute_result"
    }
   ],
   "source": [
    "# when the numbe of elements in both lists does not match, thwe superfluous element will not be used.\n",
    "countries = [\"Italy\", \"Germany\", \"Spain\", \"USA\", \"Switzerland\"]\n",
    "dishes = [\"pizza\", \"sauerkraut\", \"paella\", \"Hamburger\"]\n",
    "con_dish = zip(countries, dishes)\n",
    "\n",
    "con_dish_dict = dict(con_dish)\n",
    "con_dish_dict"
   ]
  },
  {
   "cell_type": "markdown",
   "metadata": {},
   "source": [
    "### OrderedDict and regular Dict\n",
    "- An OrderedDict is a dictionary subclass that remembers the order in which its contents are added.\n",
    "- A regular dict does not track the insertion order, and iterating over it produces the values in an arbitrary order. In an OrderedDict, by contrast, the order the items are inserted is remembered and used when creating an **iterator.**\n"
   ]
  },
  {
   "cell_type": "code",
   "execution_count": 378,
   "metadata": {},
   "outputs": [
    {
     "name": "stdout",
     "output_type": "stream",
     "text": [
      "a A\n",
      "b B\n",
      "c C\n",
      "d D\n",
      "e E\n"
     ]
    }
   ],
   "source": [
    "# ordered dicitonary\n",
    "import collections\n",
    "od = collections.OrderedDict()\n",
    "od['a'] = 'A'\n",
    "od['b'] = 'B'\n",
    "od['c'] = 'C'\n",
    "od['d'] = 'D'\n",
    "od['e'] = 'E'\n",
    "for k, v in od.items():\n",
    "    print (k, v)"
   ]
  },
  {
   "cell_type": "code",
   "execution_count": 388,
   "metadata": {},
   "outputs": [
    {
     "name": "stdout",
     "output_type": "stream",
     "text": [
      "c C\n",
      "d D\n",
      "e E\n",
      "a A\n",
      "b B\n"
     ]
    }
   ],
   "source": [
    "#  regular dictionary\n",
    "d = {}\n",
    "d['c'] = 'C'\n",
    "d['d'] = 'D'\n",
    "d['e'] = 'E'\n",
    "d['a'] = 'A'\n",
    "d['b'] = 'B'\n",
    "\n",
    "for k, v in d.items():\n",
    "    print (k, v)\n"
   ]
  },
  {
   "cell_type": "markdown",
   "metadata": {},
   "source": [
    "### Sort Dictionary\n",
    "- by keys\n",
    "- by values\n",
    "\n",
    "It is not possible to sort a dict, only to get a representation of a dict that is sorted. Dicts are inherently orderless, but other types, such as **lists and tuples,** are not. So you need a sorted representation, which will be a list—probably a list of tuples.\n"
   ]
  },
  {
   "cell_type": "code",
   "execution_count": 392,
   "metadata": {},
   "outputs": [],
   "source": [
    "# sort on values\n",
    "import operator\n",
    "x = {1: 2, 3: 4, 4: 3, 2: 1, 0: 0}\n",
    "sorted_x = sorted(x.items(), key=operator.itemgetter(1))\n",
    "# sorted_x will be a list of tuples sorted by the second element in each tuple. dict(sorted_x) == x.\n",
    "\n",
    "# sort on keys\n",
    "import operator\n",
    "x = {1: 2, 3: 4, 4: 3, 2: 1, 0: 0}\n",
    "sorted_x = sorted(x.items(), key=operator.itemgetter(0))"
   ]
  },
  {
   "cell_type": "code",
   "execution_count": 393,
   "metadata": {},
   "outputs": [
    {
     "name": "stdout",
     "output_type": "stream",
     "text": [
      "Help on class itemgetter in module operator:\n",
      "\n",
      "class itemgetter(builtins.object)\n",
      " |  itemgetter(item, ...) --> itemgetter object\n",
      " |  \n",
      " |  Return a callable object that fetches the given item(s) from its operand.\n",
      " |  After f = itemgetter(2), the call f(r) returns r[2].\n",
      " |  After g = itemgetter(2, 5, 3), the call g(r) returns (r[2], r[5], r[3])\n",
      " |  \n",
      " |  Methods defined here:\n",
      " |  \n",
      " |  __call__(self, /, *args, **kwargs)\n",
      " |      Call self as a function.\n",
      " |  \n",
      " |  __getattribute__(self, name, /)\n",
      " |      Return getattr(self, name).\n",
      " |  \n",
      " |  __new__(*args, **kwargs) from builtins.type\n",
      " |      Create and return a new object.  See help(type) for accurate signature.\n",
      " |  \n",
      " |  __reduce__(...)\n",
      " |      Return state information for pickling\n",
      " |  \n",
      " |  __repr__(self, /)\n",
      " |      Return repr(self).\n",
      "\n"
     ]
    }
   ],
   "source": [
    "help(operator.itemgetter)"
   ]
  },
  {
   "cell_type": "code",
   "execution_count": 396,
   "metadata": {},
   "outputs": [
    {
     "name": "stdout",
     "output_type": "stream",
     "text": [
      "[('a', 'A'), ('b', 'B'), ('c', 'C'), ('d', 'D'), ('e', 'E')]\n",
      "OrderedDict([('a', 'A'), ('b', 'B'), ('c', 'C'), ('d', 'D'), ('e', 'E')])\n"
     ]
    }
   ],
   "source": [
    "# sort by keys\n",
    "print (sorted(d.items()))\n",
    "\n",
    "# sort by values - .items() returns a list of tuples here \n",
    "# and lambda tells the sorted fucntion to sort accoding to the second values in the tuple\n",
    "\n",
    "print (collections.OrderedDict(sorted(d.items(), key = lambda t: t[1])))"
   ]
  },
  {
   "cell_type": "code",
   "execution_count": 387,
   "metadata": {},
   "outputs": [
    {
     "data": {
      "text/plain": [
       "OrderedDict([('a', 'A'), ('b', 'B'), ('c', 'C'), ('d', 'D'), ('e', 'E')])"
      ]
     },
     "execution_count": 387,
     "metadata": {},
     "output_type": "execute_result"
    }
   ],
   "source": [
    "# convert a regular dict to OrderedDict after sorted by keys\n",
    "new_od_dict = collections.OrderedDict(sorted(d.items()))\n",
    "new_od_dict "
   ]
  },
  {
   "cell_type": "markdown",
   "metadata": {},
   "source": [
    "### Dict & Enumerateand set_default\n",
    "- **enumerate ** (emunerate(sequence, start = 0)) returns an enumerate object. sequence must be a sequence, an iterator, or some other object which supports iteration. The net() method of the iterator returned by enumerate() returns a tuple containing a count (from start which defaults to 0) and the values obtained from iterating over sequence.\n",
    "- **setdefault** append a list if it exists or othervwise create a blank one. Useful in creating dicitonary form tuples with some repeated values that are supposed to be dictionary keys."
   ]
  },
  {
   "cell_type": "code",
   "execution_count": 400,
   "metadata": {},
   "outputs": [
    {
     "name": "stdout",
     "output_type": "stream",
     "text": [
      "[(0, 'Spring'), (1, 'Summer'), (2, 'Fall'), (3, 'Winter')]\n",
      "[(1, 'Spring'), (2, 'Summer'), (3, 'Fall'), (4, 'Winter')]\n"
     ]
    }
   ],
   "source": [
    "seasons = ['Spring', 'Summer', 'Fall', 'Winter']\n",
    "\n",
    "# enumerate simply gives both the idex and item\n",
    "\n",
    "print (list(enumerate(seasons)))\n",
    "print (list(enumerate(seasons, start = 1)))"
   ]
  },
  {
   "cell_type": "code",
   "execution_count": 404,
   "metadata": {},
   "outputs": [
    {
     "name": "stdout",
     "output_type": "stream",
     "text": [
      "0 c C\n",
      "1 d D\n",
      "2 e E\n",
      "3 a A\n",
      "4 b B\n"
     ]
    },
    {
     "data": {
      "text/plain": [
       "[(0, ('c', 'C')),\n",
       " (1, ('d', 'D')),\n",
       " (2, ('e', 'E')),\n",
       " (3, ('a', 'A')),\n",
       " (4, ('b', 'B'))]"
      ]
     },
     "execution_count": 404,
     "metadata": {},
     "output_type": "execute_result"
    }
   ],
   "source": [
    "for i, (k, v) in enumerate(d.items()):\n",
    "    print (i, k, v)\n",
    "    \n",
    "# could also save the iterator created from the built in function enumerate in a list\n",
    "# and used it later as often as it's wanted\n",
    "ite = list(enumerate(d.items()))\n",
    "type(ite)\n",
    "ite"
   ]
  },
  {
   "cell_type": "code",
   "execution_count": null,
   "metadata": {
    "collapsed": true
   },
   "outputs": [],
   "source": []
  },
  {
   "cell_type": "code",
   "execution_count": 413,
   "metadata": {},
   "outputs": [
    {
     "name": "stdout",
     "output_type": "stream",
     "text": [
      "{'key1': ['value', 'value2', 'value3']}\n"
     ]
    }
   ],
   "source": [
    "# setdefault \n",
    "\n",
    "key_value_pairs = [\n",
    "    ('key1', 'value'),\n",
    "    ('key1', 'value2'),\n",
    "    ('key1', 'value3'),\n",
    "    ]\n",
    "\n",
    "# initiate empty dictionary\n",
    "dic = {}\n",
    " \n",
    "for key, value in key_value_pairs:\n",
    "    dic.setdefault(key, []).append(value)\n",
    " \n",
    "print (dic)"
   ]
  },
  {
   "cell_type": "code",
   "execution_count": 412,
   "metadata": {},
   "outputs": [
    {
     "name": "stdout",
     "output_type": "stream",
     "text": [
      "defaultdict(<class 'list'>, {'key1': ['value', 'value2', 'value3']})\n"
     ]
    }
   ],
   "source": [
    "## comparison \n",
    "# really verbose\n",
    "new = {}\n",
    "for (key, value) in key_value_pairs:\n",
    "    if key in new:\n",
    "        new[key].append( value )\n",
    "    else:\n",
    "        new[key] = [value]\n",
    "\n",
    "\n",
    "# easy with setdefault\n",
    "new = {}\n",
    "for (key, value) in key_value_pairs:\n",
    "    group = new.setdefault(key, []) # key might exist already\n",
    "    group.append( value )\n",
    "    # which is the same as the following\n",
    "    dic.setdefault(key, []).append(value)\n",
    " \n",
    "\n",
    "\n",
    "# even simpler with defaultdict \n",
    "new = collections.defaultdict(list)\n",
    "for (key, value) in key_value_pairs:\n",
    "    new[key].append( value ) # all keys have a default already\n",
    "    \n",
    "print (new)"
   ]
  },
  {
   "cell_type": "code",
   "execution_count": 414,
   "metadata": {},
   "outputs": [
    {
     "data": {
      "text/plain": [
       "[1, 2, 3, 4, 5, 6, 7, 8, 9]"
      ]
     },
     "execution_count": 414,
     "metadata": {},
     "output_type": "execute_result"
    }
   ],
   "source": [
    "# List comprehension \n",
    " \n",
    "vec = [[1,2,3], [4,5,6], [7,8,9]] \n",
    "[num for elem in vec for num in elem] \n"
   ]
  },
  {
   "cell_type": "code",
   "execution_count": 416,
   "metadata": {},
   "outputs": [],
   "source": [
    "# defaultdict allows you to append lists\n",
    "# ordereddict maintains order in which it is fed\n",
    "# the following combines ordered dict with ability to append lists\n",
    "\n",
    "from collections import OrderedDict\n",
    "\n",
    "# class DefaultListOrderedDict(OrderedDict):\n",
    "#     def __missing__(self,k):\n",
    "#         self[k] = []\n",
    "#         return self[k]\n"
   ]
  },
  {
   "cell_type": "code",
   "execution_count": 418,
   "metadata": {},
   "outputs": [
    {
     "name": "stdout",
     "output_type": "stream",
     "text": [
      "using enumerate\n",
      "index:  0 value:  dog\n",
      "index:  1 value:  cat\n",
      "index:  2 value:  boar\n",
      "index:  3 value:  cow\n",
      "index:  4 value:  sheep\n",
      "\n",
      "\n",
      "index:  0 value: dog\n",
      "index:  1 value: cat\n",
      "index:  2 value: boar\n",
      "index:  3 value: cow\n",
      "index:  4 value: sheep\n",
      "index: 0 value:  dog\n",
      "index: 1 value:  cat\n",
      "index: 2 value:  boar\n",
      "index: 3 value:  cow\n",
      "index: 4 value:  sheep\n"
     ]
    }
   ],
   "source": [
    "# WORKING EXAMPLE BELOW:\n",
    "# enumerate gives the index, which is its greatest feature \n",
    "\n",
    "a = ['dog','cat','boar','cow','sheep']\n",
    "\n",
    "print ('using enumerate')\n",
    "for i, item in enumerate(a):\n",
    "    print ('index: ', i, 'value: ', item)\n",
    "print ('\\n')\n",
    "\n",
    "\n",
    "\n",
    "# when want to konw the location of the value in the ist\n",
    "for i in range(len(a)):\n",
    "    print( 'index: ', i, 'value:', a[i])\n",
    "\n",
    "# while enumerate helps to save time here \n",
    "for index, value in enumerate(a):\n",
    "    print ('index:', index, 'value: ', value)\n"
   ]
  },
  {
   "cell_type": "code",
   "execution_count": 419,
   "metadata": {
    "collapsed": true
   },
   "outputs": [],
   "source": [
    "# find in nested dictionary\n",
    "\n",
    "def gen_dict_extract(key, var):\n",
    "    if hasattr(var,'iteritems'):\n",
    "        for k, v in var.iteritems():\n",
    "            if k == key:\n",
    "                yield v\n",
    "            if isinstance(v, dict):\n",
    "                for result in gen_dict_extract(key, v):\n",
    "                    yield result\n",
    "            elif isinstance(v, list):\n",
    "                for d in v:\n",
    "                    for result in gen_dict_extract(key, d):\n",
    "                        yield result                        \n",
    "\n",
    "\n",
    "# http://stackoverflow.com/questions/9807634/find-all-occurences-of-a-key-in-nested-python-dictionaries-and-lists"
   ]
  },
  {
   "cell_type": "code",
   "execution_count": 427,
   "metadata": {},
   "outputs": [
    {
     "name": "stdout",
     "output_type": "stream",
     "text": [
      "OrderedDict([('pear', 1), ('apple', 4), ('banana', 3), ('orange', 2)])\n"
     ]
    }
   ],
   "source": [
    "# regular unsorted dictionary\n",
    "d = {'banana': 3, 'apple': 4, 'pear': 1, 'orange': 2}\n",
    "\n",
    "# dictionary sorted by length of the key string\n",
    "odl = OrderedDict(sorted(d.items(), key=lambda t: len(t[0])))\n",
    "print (odl)\n",
    "\n",
    "\n",
    "# http://www.saltycrane.com/blog/2007/09/how-to-sort-python-dictionary-by-keys/"
   ]
  },
  {
   "cell_type": "code",
   "execution_count": 423,
   "metadata": {},
   "outputs": [
    {
     "name": "stdout",
     "output_type": "stream",
     "text": [
      "{'one': 1, 'two': 2}\n",
      "{'one': 1, 'two': 2}\n",
      "{'one': 1, 'two': 2}\n",
      "{'two': 2, 'one': 1}\n"
     ]
    }
   ],
   "source": [
    "# Mapping in dictionary. different ways \n",
    "\n",
    "print (dict(one=1, two=2))\n",
    "print (dict({'one': 1, 'two': 2}))\n",
    "print (dict(zip(('one', 'two'), (1, 2))))\n",
    "print (dict([['two', 2], ['one', 1]]))"
   ]
  },
  {
   "cell_type": "code",
   "execution_count": 438,
   "metadata": {},
   "outputs": [
    {
     "name": "stdout",
     "output_type": "stream",
     "text": [
      "<class 'tuple'>\n",
      "banana\n",
      "<class 'tuple'>\n",
      "apple\n",
      "<class 'tuple'>\n",
      "pear\n",
      "<class 'tuple'>\n",
      "orange\n"
     ]
    }
   ],
   "source": [
    "for i in d.items():\n",
    "    print (type(i))\n",
    "    print (i[0])"
   ]
  },
  {
   "cell_type": "code",
   "execution_count": null,
   "metadata": {
    "collapsed": true
   },
   "outputs": [],
   "source": []
  }
 ],
 "metadata": {
  "kernelspec": {
   "display_name": "Python 3",
   "language": "python",
   "name": "python3"
  },
  "language_info": {
   "codemirror_mode": {
    "name": "ipython",
    "version": 3
   },
   "file_extension": ".py",
   "mimetype": "text/x-python",
   "name": "python",
   "nbconvert_exporter": "python",
   "pygments_lexer": "ipython3",
   "version": "3.6.1"
  }
 },
 "nbformat": 4,
 "nbformat_minor": 2
}
